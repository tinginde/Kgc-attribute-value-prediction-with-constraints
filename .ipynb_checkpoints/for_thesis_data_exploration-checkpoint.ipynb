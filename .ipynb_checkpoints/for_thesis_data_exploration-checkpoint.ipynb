{
 "cells": [
  {
   "cell_type": "code",
   "execution_count": 77,
   "id": "5f8837e7",
   "metadata": {},
   "outputs": [],
   "source": [
    "import pandas as pd \n",
    "import numpy as np\n",
    "import matplotlib.pyplot as plt"
   ]
  },
  {
   "cell_type": "code",
   "execution_count": 4,
   "id": "26471a0d",
   "metadata": {},
   "outputs": [],
   "source": [
    "df_pre = pd.read_csv('LiterallyWikidata/files_needed/train_attri_data_minmax.csv')\n",
    "df_val = pd.read_csv('LiterallyWikidata/files_needed/valid_attri_data_minmax.csv')\n",
    "df_test = pd.read_csv('LiterallyWikidata/files_needed/test_attri_data_minmax.csv')"
   ]
  },
  {
   "cell_type": "code",
   "execution_count": 22,
   "id": "695cd758",
   "metadata": {
    "scrolled": false
   },
   "outputs": [
    {
     "name": "stdout",
     "output_type": "stream",
     "text": [
      "triple number of df48: 237046, num of df48_entity: 46982, num of df48_attribute: 86\n"
     ]
    }
   ],
   "source": [
    "print(f'triple number of df48: {len(df_pre)}, num of df48_entity: {len(df_pre[\"e\"].unique())}, num of df48_attribute: {len(df_pre[\"a\"].unique())}')"
   ]
  },
  {
   "cell_type": "code",
   "execution_count": 5,
   "id": "6641e051",
   "metadata": {},
   "outputs": [],
   "source": [
    "#把nan名字部分補對\n",
    "attri_idmap={}\n",
    "with open('LiterallyWikidata/Attributes/attribute_labels_en.txt',encoding=\"utf-8\") as f:\n",
    "    for line in f:\n",
    "        k, v = line.strip().split('\\t')\n",
    "        attri_idmap[k.strip()] = v.strip()\n",
    "attri_idmap['P625_Latitude']='coordinate location(latitude)'\n",
    "attri_idmap['P625_Longtiude']='coordinate location(logtitude)'\n",
    "attri_idmap['P1332_Longtiude']='coordinates of northernmost point'\n",
    "attri_idmap['P1332_Latitude']='coordinates of northernmost point'\n",
    "attri_idmap['P1333_Longtiude']='coordinates of southernmost point'\n",
    "attri_idmap['P1333_Latitude']='coordinates of southernmost point'\n",
    "attri_idmap['P1334_Longtiude']='coordinates of easternmost point'\n",
    "attri_idmap['P1334_Latitude']='coordinates of easternmost point'\n",
    "attri_idmap['P1335_Longtiude']='coordinates of westernmost point'\n",
    "attri_idmap['P1335_Latitude']='coordinates of westernmost point'\n",
    "attri_idmap['P5140_Longtiude']='coordinates of geographic center(logtitude)'\n",
    "attri_idmap['P5140_Latitude']='coordinates of geographic center(latitude)'\n",
    "#df48.loc[:,'name_e']=df48['e'].map(entity_idmap)\n",
    "df_pre.loc[:,'name_a']=df_pre['a'].map(attri_idmap)\n",
    "df_val.loc[:,'name_a']=df_val['a'].map(attri_idmap)\n",
    "df_test.loc[:,'name_a']=df_test['a'].map(attri_idmap)"
   ]
  },
  {
   "cell_type": "code",
   "execution_count": 97,
   "id": "cca4c92b",
   "metadata": {
    "scrolled": true
   },
   "outputs": [
    {
     "data": {
      "text/html": [
       "<div>\n",
       "<style scoped>\n",
       "    .dataframe tbody tr th:only-of-type {\n",
       "        vertical-align: middle;\n",
       "    }\n",
       "\n",
       "    .dataframe tbody tr th {\n",
       "        vertical-align: top;\n",
       "    }\n",
       "\n",
       "    .dataframe thead th {\n",
       "        text-align: right;\n",
       "    }\n",
       "</style>\n",
       "<table border=\"1\" class=\"dataframe\">\n",
       "  <thead>\n",
       "    <tr style=\"text-align: right;\">\n",
       "      <th></th>\n",
       "      <th>e</th>\n",
       "      <th>a</th>\n",
       "      <th>v</th>\n",
       "      <th>name_e</th>\n",
       "      <th>name_a</th>\n",
       "      <th>ent_type</th>\n",
       "      <th>minmax</th>\n",
       "    </tr>\n",
       "  </thead>\n",
       "  <tbody>\n",
       "    <tr>\n",
       "      <th>23233</th>\n",
       "      <td>Q51</td>\n",
       "      <td>P1332_Latitude</td>\n",
       "      <td>-63.213306</td>\n",
       "      <td>Antarctica</td>\n",
       "      <td>coordinates of northernmost point</td>\n",
       "      <td>Q82794</td>\n",
       "      <td>-0.292719</td>\n",
       "    </tr>\n",
       "  </tbody>\n",
       "</table>\n",
       "</div>"
      ],
      "text/plain": [
       "         e               a          v      name_e  \\\n",
       "23233  Q51  P1332_Latitude -63.213306  Antarctica   \n",
       "\n",
       "                                  name_a ent_type    minmax  \n",
       "23233  coordinates of northernmost point   Q82794 -0.292719  "
      ]
     },
     "execution_count": 97,
     "metadata": {},
     "output_type": "execute_result"
    }
   ],
   "source": [
    "#錯誤值，val的scale還是有誤\n",
    "df_val.minmax.describe()\n",
    "df_val[df_val['minmax'] == df_val['minmax'].min()]\n",
    "# df_val.loc[1242,'v'] = 2006.0"
   ]
  },
  {
   "cell_type": "code",
   "execution_count": 93,
   "id": "1b618693",
   "metadata": {},
   "outputs": [
    {
     "data": {
      "text/html": [
       "<div>\n",
       "<style scoped>\n",
       "    .dataframe tbody tr th:only-of-type {\n",
       "        vertical-align: middle;\n",
       "    }\n",
       "\n",
       "    .dataframe tbody tr th {\n",
       "        vertical-align: top;\n",
       "    }\n",
       "\n",
       "    .dataframe thead th {\n",
       "        text-align: right;\n",
       "    }\n",
       "</style>\n",
       "<table border=\"1\" class=\"dataframe\">\n",
       "  <thead>\n",
       "    <tr style=\"text-align: right;\">\n",
       "      <th></th>\n",
       "      <th>e</th>\n",
       "      <th>a</th>\n",
       "      <th>v</th>\n",
       "      <th>name_e</th>\n",
       "      <th>name_a</th>\n",
       "      <th>ent_type</th>\n",
       "      <th>minmax</th>\n",
       "    </tr>\n",
       "  </thead>\n",
       "  <tbody>\n",
       "    <tr>\n",
       "      <th>466</th>\n",
       "      <td>Q790</td>\n",
       "      <td>P2132</td>\n",
       "      <td>765.0</td>\n",
       "      <td>Haiti</td>\n",
       "      <td>nominal GDP per capita</td>\n",
       "      <td>Q6256</td>\n",
       "      <td>0.008463</td>\n",
       "    </tr>\n",
       "    <tr>\n",
       "      <th>1079</th>\n",
       "      <td>Q21203</td>\n",
       "      <td>P2132</td>\n",
       "      <td>25655.0</td>\n",
       "      <td>Aruba</td>\n",
       "      <td>nominal GDP per capita</td>\n",
       "      <td>Q5164076</td>\n",
       "      <td>0.298867</td>\n",
       "    </tr>\n",
       "    <tr>\n",
       "      <th>1184</th>\n",
       "      <td>Q8646</td>\n",
       "      <td>P2132</td>\n",
       "      <td>46193.0</td>\n",
       "      <td>Hong Kong</td>\n",
       "      <td>nominal GDP per capita</td>\n",
       "      <td>Q779415</td>\n",
       "      <td>0.538493</td>\n",
       "    </tr>\n",
       "    <tr>\n",
       "      <th>2084</th>\n",
       "      <td>Q228</td>\n",
       "      <td>P2132</td>\n",
       "      <td>39146.0</td>\n",
       "      <td>Andorra</td>\n",
       "      <td>nominal GDP per capita</td>\n",
       "      <td>Q3624078</td>\n",
       "      <td>0.456272</td>\n",
       "    </tr>\n",
       "    <tr>\n",
       "      <th>2325</th>\n",
       "      <td>Q702</td>\n",
       "      <td>P2132</td>\n",
       "      <td>3187.0</td>\n",
       "      <td>Federated States of Micronesia</td>\n",
       "      <td>nominal GDP per capita</td>\n",
       "      <td>Q6256</td>\n",
       "      <td>0.036722</td>\n",
       "    </tr>\n",
       "    <tr>\n",
       "      <th>...</th>\n",
       "      <td>...</td>\n",
       "      <td>...</td>\n",
       "      <td>...</td>\n",
       "      <td>...</td>\n",
       "      <td>...</td>\n",
       "      <td>...</td>\n",
       "      <td>...</td>\n",
       "    </tr>\n",
       "    <tr>\n",
       "      <th>223390</th>\n",
       "      <td>Q739</td>\n",
       "      <td>P2132</td>\n",
       "      <td>6408.0</td>\n",
       "      <td>Colombia</td>\n",
       "      <td>nominal GDP per capita</td>\n",
       "      <td>Q859563</td>\n",
       "      <td>0.074303</td>\n",
       "    </tr>\n",
       "    <tr>\n",
       "      <th>223873</th>\n",
       "      <td>Q334</td>\n",
       "      <td>P2132</td>\n",
       "      <td>57714.0</td>\n",
       "      <td>Singapore</td>\n",
       "      <td>nominal GDP per capita</td>\n",
       "      <td>Q902814</td>\n",
       "      <td>0.672914</td>\n",
       "    </tr>\n",
       "    <tr>\n",
       "      <th>227811</th>\n",
       "      <td>Q1014</td>\n",
       "      <td>P2132</td>\n",
       "      <td>694.0</td>\n",
       "      <td>Liberia</td>\n",
       "      <td>nominal GDP per capita</td>\n",
       "      <td>Q7270</td>\n",
       "      <td>0.007635</td>\n",
       "    </tr>\n",
       "    <tr>\n",
       "      <th>228404</th>\n",
       "      <td>Q766</td>\n",
       "      <td>P2132</td>\n",
       "      <td>5114.0</td>\n",
       "      <td>Jamaica</td>\n",
       "      <td>nominal GDP per capita</td>\n",
       "      <td>Q918240</td>\n",
       "      <td>0.059205</td>\n",
       "    </tr>\n",
       "    <tr>\n",
       "      <th>233942</th>\n",
       "      <td>Q219060</td>\n",
       "      <td>P2132</td>\n",
       "      <td>2866.8</td>\n",
       "      <td>State of Palestine</td>\n",
       "      <td>nominal GDP per capita</td>\n",
       "      <td>Q15634554</td>\n",
       "      <td>0.032986</td>\n",
       "    </tr>\n",
       "  </tbody>\n",
       "</table>\n",
       "<p>135 rows × 7 columns</p>\n",
       "</div>"
      ],
      "text/plain": [
       "              e      a        v                          name_e  \\\n",
       "466        Q790  P2132    765.0                           Haiti   \n",
       "1079     Q21203  P2132  25655.0                           Aruba   \n",
       "1184      Q8646  P2132  46193.0                       Hong Kong   \n",
       "2084       Q228  P2132  39146.0                         Andorra   \n",
       "2325       Q702  P2132   3187.0  Federated States of Micronesia   \n",
       "...         ...    ...      ...                             ...   \n",
       "223390     Q739  P2132   6408.0                        Colombia   \n",
       "223873     Q334  P2132  57714.0                       Singapore   \n",
       "227811    Q1014  P2132    694.0                         Liberia   \n",
       "228404     Q766  P2132   5114.0                         Jamaica   \n",
       "233942  Q219060  P2132   2866.8              State of Palestine   \n",
       "\n",
       "                        name_a   ent_type    minmax  \n",
       "466     nominal GDP per capita      Q6256  0.008463  \n",
       "1079    nominal GDP per capita   Q5164076  0.298867  \n",
       "1184    nominal GDP per capita    Q779415  0.538493  \n",
       "2084    nominal GDP per capita   Q3624078  0.456272  \n",
       "2325    nominal GDP per capita      Q6256  0.036722  \n",
       "...                        ...        ...       ...  \n",
       "223390  nominal GDP per capita    Q859563  0.074303  \n",
       "223873  nominal GDP per capita    Q902814  0.672914  \n",
       "227811  nominal GDP per capita      Q7270  0.007635  \n",
       "228404  nominal GDP per capita    Q918240  0.059205  \n",
       "233942  nominal GDP per capita  Q15634554  0.032986  \n",
       "\n",
       "[135 rows x 7 columns]"
      ]
     },
     "execution_count": 93,
     "metadata": {},
     "output_type": "execute_result"
    }
   ],
   "source": [
    "df_val[df_val['minmax'] == df_val['minmax'].min()]\n",
    "df_pre[df_pre['name_a'] == 'nominal GDP per capita']\n",
    "#p1332[df_val[df_val['a'] == 'P1332_Latitude'].v<0]"
   ]
  },
  {
   "cell_type": "code",
   "execution_count": 74,
   "id": "07aedcd9",
   "metadata": {},
   "outputs": [
    {
     "data": {
      "text/plain": [
       "count    29631.000000\n",
       "mean         0.437766\n",
       "std          0.379445\n",
       "min         -0.292719\n",
       "25%          0.001157\n",
       "50%          0.526237\n",
       "75%          0.750985\n",
       "max          2.067961\n",
       "Name: minmax, dtype: float64"
      ]
     },
     "execution_count": 74,
     "metadata": {},
     "output_type": "execute_result"
    }
   ],
   "source": [
    "df_val.minmax.describe()"
   ]
  },
  {
   "cell_type": "code",
   "execution_count": 87,
   "id": "107e6426",
   "metadata": {},
   "outputs": [],
   "source": [
    "#df_val.to_csv('LiterallyWikidata/files_needed/valid_attri_data_minmax.csv',index=False)\n",
    "#df_test.to_csv('LiterallyWikidata/files_needed/test_attri_data_minmax.csv',index=False)"
   ]
  },
  {
   "cell_type": "code",
   "execution_count": 39,
   "id": "53ee8e1e",
   "metadata": {},
   "outputs": [
    {
     "data": {
      "text/html": [
       "<div>\n",
       "<style scoped>\n",
       "    .dataframe tbody tr th:only-of-type {\n",
       "        vertical-align: middle;\n",
       "    }\n",
       "\n",
       "    .dataframe tbody tr th {\n",
       "        vertical-align: top;\n",
       "    }\n",
       "\n",
       "    .dataframe thead th {\n",
       "        text-align: right;\n",
       "    }\n",
       "</style>\n",
       "<table border=\"1\" class=\"dataframe\">\n",
       "  <thead>\n",
       "    <tr style=\"text-align: right;\">\n",
       "      <th></th>\n",
       "      <th>v</th>\n",
       "      <th>minmax</th>\n",
       "    </tr>\n",
       "  </thead>\n",
       "  <tbody>\n",
       "    <tr>\n",
       "      <th>count</th>\n",
       "      <td>2.370460e+05</td>\n",
       "      <td>237046.000000</td>\n",
       "    </tr>\n",
       "    <tr>\n",
       "      <th>mean</th>\n",
       "      <td>8.394835e+24</td>\n",
       "      <td>0.437273</td>\n",
       "    </tr>\n",
       "    <tr>\n",
       "      <th>std</th>\n",
       "      <td>4.084325e+27</td>\n",
       "      <td>0.379141</td>\n",
       "    </tr>\n",
       "    <tr>\n",
       "      <th>min</th>\n",
       "      <td>-9.600000e+02</td>\n",
       "      <td>0.000000</td>\n",
       "    </tr>\n",
       "    <tr>\n",
       "      <th>25%</th>\n",
       "      <td>1.520700e+01</td>\n",
       "      <td>0.001179</td>\n",
       "    </tr>\n",
       "    <tr>\n",
       "      <th>50%</th>\n",
       "      <td>7.000000e+01</td>\n",
       "      <td>0.525812</td>\n",
       "    </tr>\n",
       "    <tr>\n",
       "      <th>75%</th>\n",
       "      <td>1.976000e+03</td>\n",
       "      <td>0.750741</td>\n",
       "    </tr>\n",
       "    <tr>\n",
       "      <th>max</th>\n",
       "      <td>1.988550e+30</td>\n",
       "      <td>1.000000</td>\n",
       "    </tr>\n",
       "  </tbody>\n",
       "</table>\n",
       "</div>"
      ],
      "text/plain": [
       "                  v         minmax\n",
       "count  2.370460e+05  237046.000000\n",
       "mean   8.394835e+24       0.437273\n",
       "std    4.084325e+27       0.379141\n",
       "min   -9.600000e+02       0.000000\n",
       "25%    1.520700e+01       0.001179\n",
       "50%    7.000000e+01       0.525812\n",
       "75%    1.976000e+03       0.750741\n",
       "max    1.988550e+30       1.000000"
      ]
     },
     "execution_count": 39,
     "metadata": {},
     "output_type": "execute_result"
    }
   ],
   "source": [
    "df_pre.minmax.describe()\n",
    "df_pre.describe()"
   ]
  },
  {
   "cell_type": "code",
   "execution_count": 146,
   "id": "f626a790",
   "metadata": {
    "scrolled": true
   },
   "outputs": [
    {
     "name": "stderr",
     "output_type": "stream",
     "text": [
      "/projekte/tcl/tclext/kgc_chu/neuenv/lib/python3.7/site-packages/ipykernel_launcher.py:10: SettingWithCopyWarning: \n",
      "A value is trying to be set on a copy of a slice from a DataFrame.\n",
      "Try using .loc[row_indexer,col_indexer] = value instead\n",
      "\n",
      "See the caveats in the documentation: https://pandas.pydata.org/pandas-docs/stable/user_guide/indexing.html#returning-a-view-versus-a-copy\n",
      "  # Remove the CWD from sys.path while we load stuff.\n",
      "/projekte/tcl/tclext/kgc_chu/neuenv/lib/python3.7/site-packages/ipykernel_launcher.py:10: SettingWithCopyWarning: \n",
      "A value is trying to be set on a copy of a slice from a DataFrame.\n",
      "Try using .loc[row_indexer,col_indexer] = value instead\n",
      "\n",
      "See the caveats in the documentation: https://pandas.pydata.org/pandas-docs/stable/user_guide/indexing.html#returning-a-view-versus-a-copy\n",
      "  # Remove the CWD from sys.path while we load stuff.\n",
      "/projekte/tcl/tclext/kgc_chu/neuenv/lib/python3.7/site-packages/ipykernel_launcher.py:10: SettingWithCopyWarning: \n",
      "A value is trying to be set on a copy of a slice from a DataFrame.\n",
      "Try using .loc[row_indexer,col_indexer] = value instead\n",
      "\n",
      "See the caveats in the documentation: https://pandas.pydata.org/pandas-docs/stable/user_guide/indexing.html#returning-a-view-versus-a-copy\n",
      "  # Remove the CWD from sys.path while we load stuff.\n",
      "/projekte/tcl/tclext/kgc_chu/neuenv/lib/python3.7/site-packages/ipykernel_launcher.py:10: SettingWithCopyWarning: \n",
      "A value is trying to be set on a copy of a slice from a DataFrame.\n",
      "Try using .loc[row_indexer,col_indexer] = value instead\n",
      "\n",
      "See the caveats in the documentation: https://pandas.pydata.org/pandas-docs/stable/user_guide/indexing.html#returning-a-view-versus-a-copy\n",
      "  # Remove the CWD from sys.path while we load stuff.\n",
      "/projekte/tcl/tclext/kgc_chu/neuenv/lib/python3.7/site-packages/ipykernel_launcher.py:10: SettingWithCopyWarning: \n",
      "A value is trying to be set on a copy of a slice from a DataFrame.\n",
      "Try using .loc[row_indexer,col_indexer] = value instead\n",
      "\n",
      "See the caveats in the documentation: https://pandas.pydata.org/pandas-docs/stable/user_guide/indexing.html#returning-a-view-versus-a-copy\n",
      "  # Remove the CWD from sys.path while we load stuff.\n",
      "/projekte/tcl/tclext/kgc_chu/neuenv/lib/python3.7/site-packages/ipykernel_launcher.py:10: SettingWithCopyWarning: \n",
      "A value is trying to be set on a copy of a slice from a DataFrame.\n",
      "Try using .loc[row_indexer,col_indexer] = value instead\n",
      "\n",
      "See the caveats in the documentation: https://pandas.pydata.org/pandas-docs/stable/user_guide/indexing.html#returning-a-view-versus-a-copy\n",
      "  # Remove the CWD from sys.path while we load stuff.\n",
      "/projekte/tcl/tclext/kgc_chu/neuenv/lib/python3.7/site-packages/ipykernel_launcher.py:10: SettingWithCopyWarning: \n",
      "A value is trying to be set on a copy of a slice from a DataFrame.\n",
      "Try using .loc[row_indexer,col_indexer] = value instead\n",
      "\n",
      "See the caveats in the documentation: https://pandas.pydata.org/pandas-docs/stable/user_guide/indexing.html#returning-a-view-versus-a-copy\n",
      "  # Remove the CWD from sys.path while we load stuff.\n",
      "/projekte/tcl/tclext/kgc_chu/neuenv/lib/python3.7/site-packages/ipykernel_launcher.py:10: SettingWithCopyWarning: \n",
      "A value is trying to be set on a copy of a slice from a DataFrame.\n",
      "Try using .loc[row_indexer,col_indexer] = value instead\n",
      "\n",
      "See the caveats in the documentation: https://pandas.pydata.org/pandas-docs/stable/user_guide/indexing.html#returning-a-view-versus-a-copy\n",
      "  # Remove the CWD from sys.path while we load stuff.\n",
      "/projekte/tcl/tclext/kgc_chu/neuenv/lib/python3.7/site-packages/ipykernel_launcher.py:10: SettingWithCopyWarning: \n",
      "A value is trying to be set on a copy of a slice from a DataFrame.\n",
      "Try using .loc[row_indexer,col_indexer] = value instead\n",
      "\n",
      "See the caveats in the documentation: https://pandas.pydata.org/pandas-docs/stable/user_guide/indexing.html#returning-a-view-versus-a-copy\n",
      "  # Remove the CWD from sys.path while we load stuff.\n",
      "/projekte/tcl/tclext/kgc_chu/neuenv/lib/python3.7/site-packages/ipykernel_launcher.py:10: SettingWithCopyWarning: \n",
      "A value is trying to be set on a copy of a slice from a DataFrame.\n",
      "Try using .loc[row_indexer,col_indexer] = value instead\n",
      "\n",
      "See the caveats in the documentation: https://pandas.pydata.org/pandas-docs/stable/user_guide/indexing.html#returning-a-view-versus-a-copy\n",
      "  # Remove the CWD from sys.path while we load stuff.\n",
      "/projekte/tcl/tclext/kgc_chu/neuenv/lib/python3.7/site-packages/ipykernel_launcher.py:10: SettingWithCopyWarning: \n",
      "A value is trying to be set on a copy of a slice from a DataFrame.\n",
      "Try using .loc[row_indexer,col_indexer] = value instead\n",
      "\n",
      "See the caveats in the documentation: https://pandas.pydata.org/pandas-docs/stable/user_guide/indexing.html#returning-a-view-versus-a-copy\n",
      "  # Remove the CWD from sys.path while we load stuff.\n",
      "/projekte/tcl/tclext/kgc_chu/neuenv/lib/python3.7/site-packages/ipykernel_launcher.py:10: SettingWithCopyWarning: \n",
      "A value is trying to be set on a copy of a slice from a DataFrame.\n",
      "Try using .loc[row_indexer,col_indexer] = value instead\n",
      "\n",
      "See the caveats in the documentation: https://pandas.pydata.org/pandas-docs/stable/user_guide/indexing.html#returning-a-view-versus-a-copy\n",
      "  # Remove the CWD from sys.path while we load stuff.\n",
      "/projekte/tcl/tclext/kgc_chu/neuenv/lib/python3.7/site-packages/ipykernel_launcher.py:10: SettingWithCopyWarning: \n",
      "A value is trying to be set on a copy of a slice from a DataFrame.\n",
      "Try using .loc[row_indexer,col_indexer] = value instead\n",
      "\n",
      "See the caveats in the documentation: https://pandas.pydata.org/pandas-docs/stable/user_guide/indexing.html#returning-a-view-versus-a-copy\n",
      "  # Remove the CWD from sys.path while we load stuff.\n",
      "/projekte/tcl/tclext/kgc_chu/neuenv/lib/python3.7/site-packages/ipykernel_launcher.py:10: SettingWithCopyWarning: \n",
      "A value is trying to be set on a copy of a slice from a DataFrame.\n",
      "Try using .loc[row_indexer,col_indexer] = value instead\n",
      "\n",
      "See the caveats in the documentation: https://pandas.pydata.org/pandas-docs/stable/user_guide/indexing.html#returning-a-view-versus-a-copy\n",
      "  # Remove the CWD from sys.path while we load stuff.\n",
      "/projekte/tcl/tclext/kgc_chu/neuenv/lib/python3.7/site-packages/ipykernel_launcher.py:10: SettingWithCopyWarning: \n",
      "A value is trying to be set on a copy of a slice from a DataFrame.\n",
      "Try using .loc[row_indexer,col_indexer] = value instead\n",
      "\n",
      "See the caveats in the documentation: https://pandas.pydata.org/pandas-docs/stable/user_guide/indexing.html#returning-a-view-versus-a-copy\n",
      "  # Remove the CWD from sys.path while we load stuff.\n",
      "/projekte/tcl/tclext/kgc_chu/neuenv/lib/python3.7/site-packages/ipykernel_launcher.py:10: SettingWithCopyWarning: \n",
      "A value is trying to be set on a copy of a slice from a DataFrame.\n",
      "Try using .loc[row_indexer,col_indexer] = value instead\n",
      "\n",
      "See the caveats in the documentation: https://pandas.pydata.org/pandas-docs/stable/user_guide/indexing.html#returning-a-view-versus-a-copy\n",
      "  # Remove the CWD from sys.path while we load stuff.\n",
      "/projekte/tcl/tclext/kgc_chu/neuenv/lib/python3.7/site-packages/ipykernel_launcher.py:10: SettingWithCopyWarning: \n",
      "A value is trying to be set on a copy of a slice from a DataFrame.\n",
      "Try using .loc[row_indexer,col_indexer] = value instead\n",
      "\n",
      "See the caveats in the documentation: https://pandas.pydata.org/pandas-docs/stable/user_guide/indexing.html#returning-a-view-versus-a-copy\n",
      "  # Remove the CWD from sys.path while we load stuff.\n",
      "/projekte/tcl/tclext/kgc_chu/neuenv/lib/python3.7/site-packages/ipykernel_launcher.py:10: SettingWithCopyWarning: \n",
      "A value is trying to be set on a copy of a slice from a DataFrame.\n",
      "Try using .loc[row_indexer,col_indexer] = value instead\n",
      "\n",
      "See the caveats in the documentation: https://pandas.pydata.org/pandas-docs/stable/user_guide/indexing.html#returning-a-view-versus-a-copy\n",
      "  # Remove the CWD from sys.path while we load stuff.\n",
      "/projekte/tcl/tclext/kgc_chu/neuenv/lib/python3.7/site-packages/ipykernel_launcher.py:10: SettingWithCopyWarning: \n",
      "A value is trying to be set on a copy of a slice from a DataFrame.\n",
      "Try using .loc[row_indexer,col_indexer] = value instead\n",
      "\n",
      "See the caveats in the documentation: https://pandas.pydata.org/pandas-docs/stable/user_guide/indexing.html#returning-a-view-versus-a-copy\n",
      "  # Remove the CWD from sys.path while we load stuff.\n",
      "/projekte/tcl/tclext/kgc_chu/neuenv/lib/python3.7/site-packages/ipykernel_launcher.py:10: SettingWithCopyWarning: \n",
      "A value is trying to be set on a copy of a slice from a DataFrame.\n",
      "Try using .loc[row_indexer,col_indexer] = value instead\n",
      "\n",
      "See the caveats in the documentation: https://pandas.pydata.org/pandas-docs/stable/user_guide/indexing.html#returning-a-view-versus-a-copy\n",
      "  # Remove the CWD from sys.path while we load stuff.\n",
      "/projekte/tcl/tclext/kgc_chu/neuenv/lib/python3.7/site-packages/ipykernel_launcher.py:10: SettingWithCopyWarning: \n",
      "A value is trying to be set on a copy of a slice from a DataFrame.\n",
      "Try using .loc[row_indexer,col_indexer] = value instead\n",
      "\n",
      "See the caveats in the documentation: https://pandas.pydata.org/pandas-docs/stable/user_guide/indexing.html#returning-a-view-versus-a-copy\n",
      "  # Remove the CWD from sys.path while we load stuff.\n",
      "/projekte/tcl/tclext/kgc_chu/neuenv/lib/python3.7/site-packages/ipykernel_launcher.py:10: SettingWithCopyWarning: \n",
      "A value is trying to be set on a copy of a slice from a DataFrame.\n",
      "Try using .loc[row_indexer,col_indexer] = value instead\n",
      "\n",
      "See the caveats in the documentation: https://pandas.pydata.org/pandas-docs/stable/user_guide/indexing.html#returning-a-view-versus-a-copy\n",
      "  # Remove the CWD from sys.path while we load stuff.\n",
      "/projekte/tcl/tclext/kgc_chu/neuenv/lib/python3.7/site-packages/ipykernel_launcher.py:10: SettingWithCopyWarning: \n",
      "A value is trying to be set on a copy of a slice from a DataFrame.\n",
      "Try using .loc[row_indexer,col_indexer] = value instead\n",
      "\n",
      "See the caveats in the documentation: https://pandas.pydata.org/pandas-docs/stable/user_guide/indexing.html#returning-a-view-versus-a-copy\n",
      "  # Remove the CWD from sys.path while we load stuff.\n",
      "/projekte/tcl/tclext/kgc_chu/neuenv/lib/python3.7/site-packages/ipykernel_launcher.py:10: SettingWithCopyWarning: \n",
      "A value is trying to be set on a copy of a slice from a DataFrame.\n",
      "Try using .loc[row_indexer,col_indexer] = value instead\n",
      "\n",
      "See the caveats in the documentation: https://pandas.pydata.org/pandas-docs/stable/user_guide/indexing.html#returning-a-view-versus-a-copy\n",
      "  # Remove the CWD from sys.path while we load stuff.\n"
     ]
    },
    {
     "name": "stderr",
     "output_type": "stream",
     "text": [
      "/projekte/tcl/tclext/kgc_chu/neuenv/lib/python3.7/site-packages/ipykernel_launcher.py:10: SettingWithCopyWarning: \n",
      "A value is trying to be set on a copy of a slice from a DataFrame.\n",
      "Try using .loc[row_indexer,col_indexer] = value instead\n",
      "\n",
      "See the caveats in the documentation: https://pandas.pydata.org/pandas-docs/stable/user_guide/indexing.html#returning-a-view-versus-a-copy\n",
      "  # Remove the CWD from sys.path while we load stuff.\n",
      "/projekte/tcl/tclext/kgc_chu/neuenv/lib/python3.7/site-packages/ipykernel_launcher.py:10: SettingWithCopyWarning: \n",
      "A value is trying to be set on a copy of a slice from a DataFrame.\n",
      "Try using .loc[row_indexer,col_indexer] = value instead\n",
      "\n",
      "See the caveats in the documentation: https://pandas.pydata.org/pandas-docs/stable/user_guide/indexing.html#returning-a-view-versus-a-copy\n",
      "  # Remove the CWD from sys.path while we load stuff.\n",
      "/projekte/tcl/tclext/kgc_chu/neuenv/lib/python3.7/site-packages/ipykernel_launcher.py:10: SettingWithCopyWarning: \n",
      "A value is trying to be set on a copy of a slice from a DataFrame.\n",
      "Try using .loc[row_indexer,col_indexer] = value instead\n",
      "\n",
      "See the caveats in the documentation: https://pandas.pydata.org/pandas-docs/stable/user_guide/indexing.html#returning-a-view-versus-a-copy\n",
      "  # Remove the CWD from sys.path while we load stuff.\n",
      "/projekte/tcl/tclext/kgc_chu/neuenv/lib/python3.7/site-packages/ipykernel_launcher.py:10: SettingWithCopyWarning: \n",
      "A value is trying to be set on a copy of a slice from a DataFrame.\n",
      "Try using .loc[row_indexer,col_indexer] = value instead\n",
      "\n",
      "See the caveats in the documentation: https://pandas.pydata.org/pandas-docs/stable/user_guide/indexing.html#returning-a-view-versus-a-copy\n",
      "  # Remove the CWD from sys.path while we load stuff.\n",
      "/projekte/tcl/tclext/kgc_chu/neuenv/lib/python3.7/site-packages/ipykernel_launcher.py:10: SettingWithCopyWarning: \n",
      "A value is trying to be set on a copy of a slice from a DataFrame.\n",
      "Try using .loc[row_indexer,col_indexer] = value instead\n",
      "\n",
      "See the caveats in the documentation: https://pandas.pydata.org/pandas-docs/stable/user_guide/indexing.html#returning-a-view-versus-a-copy\n",
      "  # Remove the CWD from sys.path while we load stuff.\n",
      "/projekte/tcl/tclext/kgc_chu/neuenv/lib/python3.7/site-packages/ipykernel_launcher.py:10: SettingWithCopyWarning: \n",
      "A value is trying to be set on a copy of a slice from a DataFrame.\n",
      "Try using .loc[row_indexer,col_indexer] = value instead\n",
      "\n",
      "See the caveats in the documentation: https://pandas.pydata.org/pandas-docs/stable/user_guide/indexing.html#returning-a-view-versus-a-copy\n",
      "  # Remove the CWD from sys.path while we load stuff.\n",
      "/projekte/tcl/tclext/kgc_chu/neuenv/lib/python3.7/site-packages/ipykernel_launcher.py:10: SettingWithCopyWarning: \n",
      "A value is trying to be set on a copy of a slice from a DataFrame.\n",
      "Try using .loc[row_indexer,col_indexer] = value instead\n",
      "\n",
      "See the caveats in the documentation: https://pandas.pydata.org/pandas-docs/stable/user_guide/indexing.html#returning-a-view-versus-a-copy\n",
      "  # Remove the CWD from sys.path while we load stuff.\n",
      "/projekte/tcl/tclext/kgc_chu/neuenv/lib/python3.7/site-packages/ipykernel_launcher.py:10: SettingWithCopyWarning: \n",
      "A value is trying to be set on a copy of a slice from a DataFrame.\n",
      "Try using .loc[row_indexer,col_indexer] = value instead\n",
      "\n",
      "See the caveats in the documentation: https://pandas.pydata.org/pandas-docs/stable/user_guide/indexing.html#returning-a-view-versus-a-copy\n",
      "  # Remove the CWD from sys.path while we load stuff.\n",
      "/projekte/tcl/tclext/kgc_chu/neuenv/lib/python3.7/site-packages/ipykernel_launcher.py:10: SettingWithCopyWarning: \n",
      "A value is trying to be set on a copy of a slice from a DataFrame.\n",
      "Try using .loc[row_indexer,col_indexer] = value instead\n",
      "\n",
      "See the caveats in the documentation: https://pandas.pydata.org/pandas-docs/stable/user_guide/indexing.html#returning-a-view-versus-a-copy\n",
      "  # Remove the CWD from sys.path while we load stuff.\n",
      "/projekte/tcl/tclext/kgc_chu/neuenv/lib/python3.7/site-packages/ipykernel_launcher.py:10: SettingWithCopyWarning: \n",
      "A value is trying to be set on a copy of a slice from a DataFrame.\n",
      "Try using .loc[row_indexer,col_indexer] = value instead\n",
      "\n",
      "See the caveats in the documentation: https://pandas.pydata.org/pandas-docs/stable/user_guide/indexing.html#returning-a-view-versus-a-copy\n",
      "  # Remove the CWD from sys.path while we load stuff.\n",
      "/projekte/tcl/tclext/kgc_chu/neuenv/lib/python3.7/site-packages/ipykernel_launcher.py:10: SettingWithCopyWarning: \n",
      "A value is trying to be set on a copy of a slice from a DataFrame.\n",
      "Try using .loc[row_indexer,col_indexer] = value instead\n",
      "\n",
      "See the caveats in the documentation: https://pandas.pydata.org/pandas-docs/stable/user_guide/indexing.html#returning-a-view-versus-a-copy\n",
      "  # Remove the CWD from sys.path while we load stuff.\n",
      "/projekte/tcl/tclext/kgc_chu/neuenv/lib/python3.7/site-packages/ipykernel_launcher.py:10: SettingWithCopyWarning: \n",
      "A value is trying to be set on a copy of a slice from a DataFrame.\n",
      "Try using .loc[row_indexer,col_indexer] = value instead\n",
      "\n",
      "See the caveats in the documentation: https://pandas.pydata.org/pandas-docs/stable/user_guide/indexing.html#returning-a-view-versus-a-copy\n",
      "  # Remove the CWD from sys.path while we load stuff.\n",
      "/projekte/tcl/tclext/kgc_chu/neuenv/lib/python3.7/site-packages/ipykernel_launcher.py:10: SettingWithCopyWarning: \n",
      "A value is trying to be set on a copy of a slice from a DataFrame.\n",
      "Try using .loc[row_indexer,col_indexer] = value instead\n",
      "\n",
      "See the caveats in the documentation: https://pandas.pydata.org/pandas-docs/stable/user_guide/indexing.html#returning-a-view-versus-a-copy\n",
      "  # Remove the CWD from sys.path while we load stuff.\n",
      "/projekte/tcl/tclext/kgc_chu/neuenv/lib/python3.7/site-packages/ipykernel_launcher.py:10: SettingWithCopyWarning: \n",
      "A value is trying to be set on a copy of a slice from a DataFrame.\n",
      "Try using .loc[row_indexer,col_indexer] = value instead\n",
      "\n",
      "See the caveats in the documentation: https://pandas.pydata.org/pandas-docs/stable/user_guide/indexing.html#returning-a-view-versus-a-copy\n",
      "  # Remove the CWD from sys.path while we load stuff.\n",
      "/projekte/tcl/tclext/kgc_chu/neuenv/lib/python3.7/site-packages/ipykernel_launcher.py:10: SettingWithCopyWarning: \n",
      "A value is trying to be set on a copy of a slice from a DataFrame.\n",
      "Try using .loc[row_indexer,col_indexer] = value instead\n",
      "\n",
      "See the caveats in the documentation: https://pandas.pydata.org/pandas-docs/stable/user_guide/indexing.html#returning-a-view-versus-a-copy\n",
      "  # Remove the CWD from sys.path while we load stuff.\n",
      "/projekte/tcl/tclext/kgc_chu/neuenv/lib/python3.7/site-packages/ipykernel_launcher.py:10: SettingWithCopyWarning: \n",
      "A value is trying to be set on a copy of a slice from a DataFrame.\n",
      "Try using .loc[row_indexer,col_indexer] = value instead\n",
      "\n",
      "See the caveats in the documentation: https://pandas.pydata.org/pandas-docs/stable/user_guide/indexing.html#returning-a-view-versus-a-copy\n",
      "  # Remove the CWD from sys.path while we load stuff.\n",
      "/projekte/tcl/tclext/kgc_chu/neuenv/lib/python3.7/site-packages/ipykernel_launcher.py:10: SettingWithCopyWarning: \n",
      "A value is trying to be set on a copy of a slice from a DataFrame.\n",
      "Try using .loc[row_indexer,col_indexer] = value instead\n",
      "\n",
      "See the caveats in the documentation: https://pandas.pydata.org/pandas-docs/stable/user_guide/indexing.html#returning-a-view-versus-a-copy\n",
      "  # Remove the CWD from sys.path while we load stuff.\n",
      "/projekte/tcl/tclext/kgc_chu/neuenv/lib/python3.7/site-packages/ipykernel_launcher.py:10: SettingWithCopyWarning: \n",
      "A value is trying to be set on a copy of a slice from a DataFrame.\n",
      "Try using .loc[row_indexer,col_indexer] = value instead\n",
      "\n",
      "See the caveats in the documentation: https://pandas.pydata.org/pandas-docs/stable/user_guide/indexing.html#returning-a-view-versus-a-copy\n",
      "  # Remove the CWD from sys.path while we load stuff.\n",
      "/projekte/tcl/tclext/kgc_chu/neuenv/lib/python3.7/site-packages/ipykernel_launcher.py:10: SettingWithCopyWarning: \n",
      "A value is trying to be set on a copy of a slice from a DataFrame.\n",
      "Try using .loc[row_indexer,col_indexer] = value instead\n",
      "\n",
      "See the caveats in the documentation: https://pandas.pydata.org/pandas-docs/stable/user_guide/indexing.html#returning-a-view-versus-a-copy\n",
      "  # Remove the CWD from sys.path while we load stuff.\n",
      "/projekte/tcl/tclext/kgc_chu/neuenv/lib/python3.7/site-packages/ipykernel_launcher.py:10: SettingWithCopyWarning: \n",
      "A value is trying to be set on a copy of a slice from a DataFrame.\n",
      "Try using .loc[row_indexer,col_indexer] = value instead\n",
      "\n",
      "See the caveats in the documentation: https://pandas.pydata.org/pandas-docs/stable/user_guide/indexing.html#returning-a-view-versus-a-copy\n",
      "  # Remove the CWD from sys.path while we load stuff.\n",
      "/projekte/tcl/tclext/kgc_chu/neuenv/lib/python3.7/site-packages/ipykernel_launcher.py:10: SettingWithCopyWarning: \n",
      "A value is trying to be set on a copy of a slice from a DataFrame.\n",
      "Try using .loc[row_indexer,col_indexer] = value instead\n",
      "\n",
      "See the caveats in the documentation: https://pandas.pydata.org/pandas-docs/stable/user_guide/indexing.html#returning-a-view-versus-a-copy\n",
      "  # Remove the CWD from sys.path while we load stuff.\n",
      "/projekte/tcl/tclext/kgc_chu/neuenv/lib/python3.7/site-packages/ipykernel_launcher.py:10: SettingWithCopyWarning: \n",
      "A value is trying to be set on a copy of a slice from a DataFrame.\n",
      "Try using .loc[row_indexer,col_indexer] = value instead\n",
      "\n",
      "See the caveats in the documentation: https://pandas.pydata.org/pandas-docs/stable/user_guide/indexing.html#returning-a-view-versus-a-copy\n",
      "  # Remove the CWD from sys.path while we load stuff.\n",
      "/projekte/tcl/tclext/kgc_chu/neuenv/lib/python3.7/site-packages/ipykernel_launcher.py:10: SettingWithCopyWarning: \n",
      "A value is trying to be set on a copy of a slice from a DataFrame.\n",
      "Try using .loc[row_indexer,col_indexer] = value instead\n",
      "\n",
      "See the caveats in the documentation: https://pandas.pydata.org/pandas-docs/stable/user_guide/indexing.html#returning-a-view-versus-a-copy\n",
      "  # Remove the CWD from sys.path while we load stuff.\n",
      "/projekte/tcl/tclext/kgc_chu/neuenv/lib/python3.7/site-packages/ipykernel_launcher.py:10: SettingWithCopyWarning: \n",
      "A value is trying to be set on a copy of a slice from a DataFrame.\n",
      "Try using .loc[row_indexer,col_indexer] = value instead\n",
      "\n",
      "See the caveats in the documentation: https://pandas.pydata.org/pandas-docs/stable/user_guide/indexing.html#returning-a-view-versus-a-copy\n",
      "  # Remove the CWD from sys.path while we load stuff.\n"
     ]
    },
    {
     "name": "stderr",
     "output_type": "stream",
     "text": [
      "/projekte/tcl/tclext/kgc_chu/neuenv/lib/python3.7/site-packages/ipykernel_launcher.py:10: SettingWithCopyWarning: \n",
      "A value is trying to be set on a copy of a slice from a DataFrame.\n",
      "Try using .loc[row_indexer,col_indexer] = value instead\n",
      "\n",
      "See the caveats in the documentation: https://pandas.pydata.org/pandas-docs/stable/user_guide/indexing.html#returning-a-view-versus-a-copy\n",
      "  # Remove the CWD from sys.path while we load stuff.\n",
      "/projekte/tcl/tclext/kgc_chu/neuenv/lib/python3.7/site-packages/ipykernel_launcher.py:10: SettingWithCopyWarning: \n",
      "A value is trying to be set on a copy of a slice from a DataFrame.\n",
      "Try using .loc[row_indexer,col_indexer] = value instead\n",
      "\n",
      "See the caveats in the documentation: https://pandas.pydata.org/pandas-docs/stable/user_guide/indexing.html#returning-a-view-versus-a-copy\n",
      "  # Remove the CWD from sys.path while we load stuff.\n",
      "/projekte/tcl/tclext/kgc_chu/neuenv/lib/python3.7/site-packages/ipykernel_launcher.py:10: SettingWithCopyWarning: \n",
      "A value is trying to be set on a copy of a slice from a DataFrame.\n",
      "Try using .loc[row_indexer,col_indexer] = value instead\n",
      "\n",
      "See the caveats in the documentation: https://pandas.pydata.org/pandas-docs/stable/user_guide/indexing.html#returning-a-view-versus-a-copy\n",
      "  # Remove the CWD from sys.path while we load stuff.\n",
      "/projekte/tcl/tclext/kgc_chu/neuenv/lib/python3.7/site-packages/ipykernel_launcher.py:10: SettingWithCopyWarning: \n",
      "A value is trying to be set on a copy of a slice from a DataFrame.\n",
      "Try using .loc[row_indexer,col_indexer] = value instead\n",
      "\n",
      "See the caveats in the documentation: https://pandas.pydata.org/pandas-docs/stable/user_guide/indexing.html#returning-a-view-versus-a-copy\n",
      "  # Remove the CWD from sys.path while we load stuff.\n",
      "/projekte/tcl/tclext/kgc_chu/neuenv/lib/python3.7/site-packages/ipykernel_launcher.py:10: SettingWithCopyWarning: \n",
      "A value is trying to be set on a copy of a slice from a DataFrame.\n",
      "Try using .loc[row_indexer,col_indexer] = value instead\n",
      "\n",
      "See the caveats in the documentation: https://pandas.pydata.org/pandas-docs/stable/user_guide/indexing.html#returning-a-view-versus-a-copy\n",
      "  # Remove the CWD from sys.path while we load stuff.\n",
      "/projekte/tcl/tclext/kgc_chu/neuenv/lib/python3.7/site-packages/ipykernel_launcher.py:10: SettingWithCopyWarning: \n",
      "A value is trying to be set on a copy of a slice from a DataFrame.\n",
      "Try using .loc[row_indexer,col_indexer] = value instead\n",
      "\n",
      "See the caveats in the documentation: https://pandas.pydata.org/pandas-docs/stable/user_guide/indexing.html#returning-a-view-versus-a-copy\n",
      "  # Remove the CWD from sys.path while we load stuff.\n",
      "/projekte/tcl/tclext/kgc_chu/neuenv/lib/python3.7/site-packages/ipykernel_launcher.py:10: SettingWithCopyWarning: \n",
      "A value is trying to be set on a copy of a slice from a DataFrame.\n",
      "Try using .loc[row_indexer,col_indexer] = value instead\n",
      "\n",
      "See the caveats in the documentation: https://pandas.pydata.org/pandas-docs/stable/user_guide/indexing.html#returning-a-view-versus-a-copy\n",
      "  # Remove the CWD from sys.path while we load stuff.\n",
      "/projekte/tcl/tclext/kgc_chu/neuenv/lib/python3.7/site-packages/ipykernel_launcher.py:10: SettingWithCopyWarning: \n",
      "A value is trying to be set on a copy of a slice from a DataFrame.\n",
      "Try using .loc[row_indexer,col_indexer] = value instead\n",
      "\n",
      "See the caveats in the documentation: https://pandas.pydata.org/pandas-docs/stable/user_guide/indexing.html#returning-a-view-versus-a-copy\n",
      "  # Remove the CWD from sys.path while we load stuff.\n",
      "/projekte/tcl/tclext/kgc_chu/neuenv/lib/python3.7/site-packages/ipykernel_launcher.py:10: SettingWithCopyWarning: \n",
      "A value is trying to be set on a copy of a slice from a DataFrame.\n",
      "Try using .loc[row_indexer,col_indexer] = value instead\n",
      "\n",
      "See the caveats in the documentation: https://pandas.pydata.org/pandas-docs/stable/user_guide/indexing.html#returning-a-view-versus-a-copy\n",
      "  # Remove the CWD from sys.path while we load stuff.\n",
      "/projekte/tcl/tclext/kgc_chu/neuenv/lib/python3.7/site-packages/ipykernel_launcher.py:10: SettingWithCopyWarning: \n",
      "A value is trying to be set on a copy of a slice from a DataFrame.\n",
      "Try using .loc[row_indexer,col_indexer] = value instead\n",
      "\n",
      "See the caveats in the documentation: https://pandas.pydata.org/pandas-docs/stable/user_guide/indexing.html#returning-a-view-versus-a-copy\n",
      "  # Remove the CWD from sys.path while we load stuff.\n",
      "/projekte/tcl/tclext/kgc_chu/neuenv/lib/python3.7/site-packages/ipykernel_launcher.py:10: SettingWithCopyWarning: \n",
      "A value is trying to be set on a copy of a slice from a DataFrame.\n",
      "Try using .loc[row_indexer,col_indexer] = value instead\n",
      "\n",
      "See the caveats in the documentation: https://pandas.pydata.org/pandas-docs/stable/user_guide/indexing.html#returning-a-view-versus-a-copy\n",
      "  # Remove the CWD from sys.path while we load stuff.\n",
      "/projekte/tcl/tclext/kgc_chu/neuenv/lib/python3.7/site-packages/ipykernel_launcher.py:10: SettingWithCopyWarning: \n",
      "A value is trying to be set on a copy of a slice from a DataFrame.\n",
      "Try using .loc[row_indexer,col_indexer] = value instead\n",
      "\n",
      "See the caveats in the documentation: https://pandas.pydata.org/pandas-docs/stable/user_guide/indexing.html#returning-a-view-versus-a-copy\n",
      "  # Remove the CWD from sys.path while we load stuff.\n",
      "/projekte/tcl/tclext/kgc_chu/neuenv/lib/python3.7/site-packages/ipykernel_launcher.py:10: SettingWithCopyWarning: \n",
      "A value is trying to be set on a copy of a slice from a DataFrame.\n",
      "Try using .loc[row_indexer,col_indexer] = value instead\n",
      "\n",
      "See the caveats in the documentation: https://pandas.pydata.org/pandas-docs/stable/user_guide/indexing.html#returning-a-view-versus-a-copy\n",
      "  # Remove the CWD from sys.path while we load stuff.\n",
      "/projekte/tcl/tclext/kgc_chu/neuenv/lib/python3.7/site-packages/ipykernel_launcher.py:10: SettingWithCopyWarning: \n",
      "A value is trying to be set on a copy of a slice from a DataFrame.\n",
      "Try using .loc[row_indexer,col_indexer] = value instead\n",
      "\n",
      "See the caveats in the documentation: https://pandas.pydata.org/pandas-docs/stable/user_guide/indexing.html#returning-a-view-versus-a-copy\n",
      "  # Remove the CWD from sys.path while we load stuff.\n",
      "/projekte/tcl/tclext/kgc_chu/neuenv/lib/python3.7/site-packages/ipykernel_launcher.py:10: SettingWithCopyWarning: \n",
      "A value is trying to be set on a copy of a slice from a DataFrame.\n",
      "Try using .loc[row_indexer,col_indexer] = value instead\n",
      "\n",
      "See the caveats in the documentation: https://pandas.pydata.org/pandas-docs/stable/user_guide/indexing.html#returning-a-view-versus-a-copy\n",
      "  # Remove the CWD from sys.path while we load stuff.\n",
      "/projekte/tcl/tclext/kgc_chu/neuenv/lib/python3.7/site-packages/ipykernel_launcher.py:10: SettingWithCopyWarning: \n",
      "A value is trying to be set on a copy of a slice from a DataFrame.\n",
      "Try using .loc[row_indexer,col_indexer] = value instead\n",
      "\n",
      "See the caveats in the documentation: https://pandas.pydata.org/pandas-docs/stable/user_guide/indexing.html#returning-a-view-versus-a-copy\n",
      "  # Remove the CWD from sys.path while we load stuff.\n",
      "/projekte/tcl/tclext/kgc_chu/neuenv/lib/python3.7/site-packages/ipykernel_launcher.py:10: SettingWithCopyWarning: \n",
      "A value is trying to be set on a copy of a slice from a DataFrame.\n",
      "Try using .loc[row_indexer,col_indexer] = value instead\n",
      "\n",
      "See the caveats in the documentation: https://pandas.pydata.org/pandas-docs/stable/user_guide/indexing.html#returning-a-view-versus-a-copy\n",
      "  # Remove the CWD from sys.path while we load stuff.\n",
      "/projekte/tcl/tclext/kgc_chu/neuenv/lib/python3.7/site-packages/ipykernel_launcher.py:10: SettingWithCopyWarning: \n",
      "A value is trying to be set on a copy of a slice from a DataFrame.\n",
      "Try using .loc[row_indexer,col_indexer] = value instead\n",
      "\n",
      "See the caveats in the documentation: https://pandas.pydata.org/pandas-docs/stable/user_guide/indexing.html#returning-a-view-versus-a-copy\n",
      "  # Remove the CWD from sys.path while we load stuff.\n",
      "/projekte/tcl/tclext/kgc_chu/neuenv/lib/python3.7/site-packages/ipykernel_launcher.py:10: SettingWithCopyWarning: \n",
      "A value is trying to be set on a copy of a slice from a DataFrame.\n",
      "Try using .loc[row_indexer,col_indexer] = value instead\n",
      "\n",
      "See the caveats in the documentation: https://pandas.pydata.org/pandas-docs/stable/user_guide/indexing.html#returning-a-view-versus-a-copy\n",
      "  # Remove the CWD from sys.path while we load stuff.\n",
      "/projekte/tcl/tclext/kgc_chu/neuenv/lib/python3.7/site-packages/ipykernel_launcher.py:10: SettingWithCopyWarning: \n",
      "A value is trying to be set on a copy of a slice from a DataFrame.\n",
      "Try using .loc[row_indexer,col_indexer] = value instead\n",
      "\n",
      "See the caveats in the documentation: https://pandas.pydata.org/pandas-docs/stable/user_guide/indexing.html#returning-a-view-versus-a-copy\n",
      "  # Remove the CWD from sys.path while we load stuff.\n",
      "/projekte/tcl/tclext/kgc_chu/neuenv/lib/python3.7/site-packages/ipykernel_launcher.py:10: SettingWithCopyWarning: \n",
      "A value is trying to be set on a copy of a slice from a DataFrame.\n",
      "Try using .loc[row_indexer,col_indexer] = value instead\n",
      "\n",
      "See the caveats in the documentation: https://pandas.pydata.org/pandas-docs/stable/user_guide/indexing.html#returning-a-view-versus-a-copy\n",
      "  # Remove the CWD from sys.path while we load stuff.\n",
      "/projekte/tcl/tclext/kgc_chu/neuenv/lib/python3.7/site-packages/ipykernel_launcher.py:10: SettingWithCopyWarning: \n",
      "A value is trying to be set on a copy of a slice from a DataFrame.\n",
      "Try using .loc[row_indexer,col_indexer] = value instead\n",
      "\n",
      "See the caveats in the documentation: https://pandas.pydata.org/pandas-docs/stable/user_guide/indexing.html#returning-a-view-versus-a-copy\n",
      "  # Remove the CWD from sys.path while we load stuff.\n",
      "/projekte/tcl/tclext/kgc_chu/neuenv/lib/python3.7/site-packages/ipykernel_launcher.py:10: SettingWithCopyWarning: \n",
      "A value is trying to be set on a copy of a slice from a DataFrame.\n",
      "Try using .loc[row_indexer,col_indexer] = value instead\n",
      "\n",
      "See the caveats in the documentation: https://pandas.pydata.org/pandas-docs/stable/user_guide/indexing.html#returning-a-view-versus-a-copy\n",
      "  # Remove the CWD from sys.path while we load stuff.\n",
      "/projekte/tcl/tclext/kgc_chu/neuenv/lib/python3.7/site-packages/ipykernel_launcher.py:10: SettingWithCopyWarning: \n",
      "A value is trying to be set on a copy of a slice from a DataFrame.\n",
      "Try using .loc[row_indexer,col_indexer] = value instead\n",
      "\n",
      "See the caveats in the documentation: https://pandas.pydata.org/pandas-docs/stable/user_guide/indexing.html#returning-a-view-versus-a-copy\n",
      "  # Remove the CWD from sys.path while we load stuff.\n"
     ]
    },
    {
     "name": "stderr",
     "output_type": "stream",
     "text": [
      "/projekte/tcl/tclext/kgc_chu/neuenv/lib/python3.7/site-packages/ipykernel_launcher.py:10: SettingWithCopyWarning: \n",
      "A value is trying to be set on a copy of a slice from a DataFrame.\n",
      "Try using .loc[row_indexer,col_indexer] = value instead\n",
      "\n",
      "See the caveats in the documentation: https://pandas.pydata.org/pandas-docs/stable/user_guide/indexing.html#returning-a-view-versus-a-copy\n",
      "  # Remove the CWD from sys.path while we load stuff.\n",
      "/projekte/tcl/tclext/kgc_chu/neuenv/lib/python3.7/site-packages/ipykernel_launcher.py:10: SettingWithCopyWarning: \n",
      "A value is trying to be set on a copy of a slice from a DataFrame.\n",
      "Try using .loc[row_indexer,col_indexer] = value instead\n",
      "\n",
      "See the caveats in the documentation: https://pandas.pydata.org/pandas-docs/stable/user_guide/indexing.html#returning-a-view-versus-a-copy\n",
      "  # Remove the CWD from sys.path while we load stuff.\n",
      "/projekte/tcl/tclext/kgc_chu/neuenv/lib/python3.7/site-packages/ipykernel_launcher.py:10: SettingWithCopyWarning: \n",
      "A value is trying to be set on a copy of a slice from a DataFrame.\n",
      "Try using .loc[row_indexer,col_indexer] = value instead\n",
      "\n",
      "See the caveats in the documentation: https://pandas.pydata.org/pandas-docs/stable/user_guide/indexing.html#returning-a-view-versus-a-copy\n",
      "  # Remove the CWD from sys.path while we load stuff.\n",
      "/projekte/tcl/tclext/kgc_chu/neuenv/lib/python3.7/site-packages/ipykernel_launcher.py:10: SettingWithCopyWarning: \n",
      "A value is trying to be set on a copy of a slice from a DataFrame.\n",
      "Try using .loc[row_indexer,col_indexer] = value instead\n",
      "\n",
      "See the caveats in the documentation: https://pandas.pydata.org/pandas-docs/stable/user_guide/indexing.html#returning-a-view-versus-a-copy\n",
      "  # Remove the CWD from sys.path while we load stuff.\n",
      "/projekte/tcl/tclext/kgc_chu/neuenv/lib/python3.7/site-packages/ipykernel_launcher.py:10: SettingWithCopyWarning: \n",
      "A value is trying to be set on a copy of a slice from a DataFrame.\n",
      "Try using .loc[row_indexer,col_indexer] = value instead\n",
      "\n",
      "See the caveats in the documentation: https://pandas.pydata.org/pandas-docs/stable/user_guide/indexing.html#returning-a-view-versus-a-copy\n",
      "  # Remove the CWD from sys.path while we load stuff.\n",
      "/projekte/tcl/tclext/kgc_chu/neuenv/lib/python3.7/site-packages/ipykernel_launcher.py:10: SettingWithCopyWarning: \n",
      "A value is trying to be set on a copy of a slice from a DataFrame.\n",
      "Try using .loc[row_indexer,col_indexer] = value instead\n",
      "\n",
      "See the caveats in the documentation: https://pandas.pydata.org/pandas-docs/stable/user_guide/indexing.html#returning-a-view-versus-a-copy\n",
      "  # Remove the CWD from sys.path while we load stuff.\n",
      "/projekte/tcl/tclext/kgc_chu/neuenv/lib/python3.7/site-packages/ipykernel_launcher.py:10: SettingWithCopyWarning: \n",
      "A value is trying to be set on a copy of a slice from a DataFrame.\n",
      "Try using .loc[row_indexer,col_indexer] = value instead\n",
      "\n",
      "See the caveats in the documentation: https://pandas.pydata.org/pandas-docs/stable/user_guide/indexing.html#returning-a-view-versus-a-copy\n",
      "  # Remove the CWD from sys.path while we load stuff.\n",
      "/projekte/tcl/tclext/kgc_chu/neuenv/lib/python3.7/site-packages/ipykernel_launcher.py:10: SettingWithCopyWarning: \n",
      "A value is trying to be set on a copy of a slice from a DataFrame.\n",
      "Try using .loc[row_indexer,col_indexer] = value instead\n",
      "\n",
      "See the caveats in the documentation: https://pandas.pydata.org/pandas-docs/stable/user_guide/indexing.html#returning-a-view-versus-a-copy\n",
      "  # Remove the CWD from sys.path while we load stuff.\n",
      "/projekte/tcl/tclext/kgc_chu/neuenv/lib/python3.7/site-packages/ipykernel_launcher.py:10: SettingWithCopyWarning: \n",
      "A value is trying to be set on a copy of a slice from a DataFrame.\n",
      "Try using .loc[row_indexer,col_indexer] = value instead\n",
      "\n",
      "See the caveats in the documentation: https://pandas.pydata.org/pandas-docs/stable/user_guide/indexing.html#returning-a-view-versus-a-copy\n",
      "  # Remove the CWD from sys.path while we load stuff.\n",
      "/projekte/tcl/tclext/kgc_chu/neuenv/lib/python3.7/site-packages/ipykernel_launcher.py:10: SettingWithCopyWarning: \n",
      "A value is trying to be set on a copy of a slice from a DataFrame.\n",
      "Try using .loc[row_indexer,col_indexer] = value instead\n",
      "\n",
      "See the caveats in the documentation: https://pandas.pydata.org/pandas-docs/stable/user_guide/indexing.html#returning-a-view-versus-a-copy\n",
      "  # Remove the CWD from sys.path while we load stuff.\n",
      "/projekte/tcl/tclext/kgc_chu/neuenv/lib/python3.7/site-packages/ipykernel_launcher.py:10: SettingWithCopyWarning: \n",
      "A value is trying to be set on a copy of a slice from a DataFrame.\n",
      "Try using .loc[row_indexer,col_indexer] = value instead\n",
      "\n",
      "See the caveats in the documentation: https://pandas.pydata.org/pandas-docs/stable/user_guide/indexing.html#returning-a-view-versus-a-copy\n",
      "  # Remove the CWD from sys.path while we load stuff.\n",
      "/projekte/tcl/tclext/kgc_chu/neuenv/lib/python3.7/site-packages/ipykernel_launcher.py:10: SettingWithCopyWarning: \n",
      "A value is trying to be set on a copy of a slice from a DataFrame.\n",
      "Try using .loc[row_indexer,col_indexer] = value instead\n",
      "\n",
      "See the caveats in the documentation: https://pandas.pydata.org/pandas-docs/stable/user_guide/indexing.html#returning-a-view-versus-a-copy\n",
      "  # Remove the CWD from sys.path while we load stuff.\n",
      "/projekte/tcl/tclext/kgc_chu/neuenv/lib/python3.7/site-packages/ipykernel_launcher.py:10: SettingWithCopyWarning: \n",
      "A value is trying to be set on a copy of a slice from a DataFrame.\n",
      "Try using .loc[row_indexer,col_indexer] = value instead\n",
      "\n",
      "See the caveats in the documentation: https://pandas.pydata.org/pandas-docs/stable/user_guide/indexing.html#returning-a-view-versus-a-copy\n",
      "  # Remove the CWD from sys.path while we load stuff.\n",
      "/projekte/tcl/tclext/kgc_chu/neuenv/lib/python3.7/site-packages/ipykernel_launcher.py:10: SettingWithCopyWarning: \n",
      "A value is trying to be set on a copy of a slice from a DataFrame.\n",
      "Try using .loc[row_indexer,col_indexer] = value instead\n",
      "\n",
      "See the caveats in the documentation: https://pandas.pydata.org/pandas-docs/stable/user_guide/indexing.html#returning-a-view-versus-a-copy\n",
      "  # Remove the CWD from sys.path while we load stuff.\n"
     ]
    }
   ],
   "source": [
    "from sklearn.preprocessing import StandardScaler,MinMaxScaler\n",
    "#changing val scale\n",
    "def v_scale(attdf):\n",
    "    scaler = MinMaxScaler()\n",
    "    scaler.fit(attdf.v.to_numpy().reshape(-1,1))\n",
    "    return scaler\n",
    "alist=list(df_val['a'].unique())\n",
    "for a_name in alist:\n",
    "    attdf = df_pre[df_pre[\"a\"]==a_name]\n",
    "    attdf['minmax']= v_scale(df_pre[df_pre[\"a\"]==a_name]).transform(attdf.v.to_numpy().reshape(-1,1))\n",
    "    df_pre.loc[attdf.index,'minmax']=attdf['minmax']\n",
    "#     attdf_train = df_pre[df_pre[\"a\"]==a_name]\n",
    "#     attdf_train['minmax']= v_scale(df_pre[df_pre[\"a\"]==a_name]).transform(attdf_train.v.to_numpy().reshape(-1,1))\n",
    "#     df_pre.loc[attdf_train.index,'minmax']=attdf_train['minmax']"
   ]
  },
  {
   "cell_type": "code",
   "execution_count": 35,
   "id": "fa93652b",
   "metadata": {},
   "outputs": [],
   "source": [
    "from sklearn.model_selection import train_test_split\n",
    "train_attri_data, valid_attri_data = train_test_split(attri_data_ori, test_size=0.2,stratify=attri_data_ori['a'],random_state=802)\n",
    "valid_attri_data, test_attri_data = train_test_split(valid_attri_data, test_size=0.5,stratify=valid_attri_data['a'],random_state=802)"
   ]
  },
  {
   "cell_type": "code",
   "execution_count": 24,
   "id": "8c690321",
   "metadata": {
    "scrolled": true
   },
   "outputs": [
    {
     "data": {
      "text/plain": [
       "<AxesSubplot:xlabel='Latitude', ylabel='Counts'>"
      ]
     },
     "execution_count": 24,
     "metadata": {},
     "output_type": "execute_result"
    },
    {
     "data": {
      "image/png": "[encoded data removed]",
      "text/plain": [
       "<Figure size 432x288 with 1 Axes>"
      ]
     },
     "metadata": {
      "needs_background": "light"
     },
     "output_type": "display_data"
    }
   ],
   "source": [
    "plt.xlabel('Latitude')\n",
    "plt.ylabel('Counts')\n",
    "df[df['name_a']=='coordinate location(latitude)'].v. hist()"
   ]
  },
  {
   "cell_type": "code",
   "execution_count": 25,
   "id": "e64421fe",
   "metadata": {
    "scrolled": true
   },
   "outputs": [
    {
     "data": {
      "text/plain": [
       "<AxesSubplot:xlabel='Logtitude', ylabel='Counts'>"
      ]
     },
     "execution_count": 25,
     "metadata": {},
     "output_type": "execute_result"
    },
    {
     "data": {
      "image/png": "[encoded data removed]",
      "text/plain": [
       "<Figure size 432x288 with 1 Axes>"
      ]
     },
     "metadata": {
      "needs_background": "light"
     },
     "output_type": "display_data"
    }
   ],
   "source": [
    "plt.xlabel('Logtitude')\n",
    "plt.ylabel('Counts')\n",
    "df[df['name_a']=='coordinate location(logtitude)'].v. hist()"
   ]
  },
  {
   "cell_type": "code",
   "execution_count": 114,
   "id": "0b3f25f4",
   "metadata": {
    "scrolled": true
   },
   "outputs": [
    {
     "name": "stdout",
     "output_type": "stream",
     "text": [
      "[[43.151943    0.21194445  0.         ...  0.          0.\n",
      "   0.        ]\n",
      " [44.021946    3.3011112   0.         ...  0.          0.\n",
      "   0.        ]\n",
      " [43.25864     0.         43.294262   ...  0.          0.\n",
      "   0.        ]\n",
      " ...\n",
      " [ 0.          0.          0.         ...  0.          0.\n",
      "   0.        ]\n",
      " [ 0.          0.          0.         ...  0.          0.\n",
      "   0.        ]\n",
      " [ 0.          0.          0.         ...  0.          0.\n",
      "   0.        ]]\n",
      "(46982, 86)\n"
     ]
    }
   ],
   "source": [
    "import pandas as pd\n",
    "import numpy as np\n",
    "import pickle\n",
    "\n",
    "#path =  \"/projekte/tcl/tclext/kgc_chu/\"\n",
    "\n",
    "df_eav = df_pre.iloc[:,[0,1,2]]\n",
    "\n",
    "ent2idx = {v:k for k,v in enumerate(df_pre['e'].unique())}\n",
    "att2idx = {v:k for k,v in enumerate(df_pre[\"a\"].unique())}\n",
    "\n",
    "# Resulting file\n",
    "num_lit = np.zeros([len(ent2idx), len(att2idx)], dtype=np.float32)\n",
    "\n",
    "# Create literal wrt vocab\n",
    "for i, (s, p, lit) in enumerate(df_eav.values):\n",
    "    num_lit[ent2idx[s], att2idx[p]] = lit\n",
    "        \n",
    "\n",
    "print(num_lit)\n",
    "    #np.save('{}_numerical_literals.npy'.format(data), num_lit)\n",
    "# num_lit shape (47998, 291)\n",
    "\n",
    "# num_lit = numeric_literal_array('LiterallyWikidata/files_needed/numeric_literals_ver06', ent2idx, att2idx)\n",
    "print(num_lit.shape)\n",
    "# np.save('LiterallyWikidata/files_needed/num_lit.npy',num_lit)"
   ]
  },
  {
   "cell_type": "code",
   "execution_count": 115,
   "id": "2ce68592",
   "metadata": {
    "scrolled": true
   },
   "outputs": [],
   "source": [
    "num_lit_= pd.DataFrame(num_lit)\n",
    "num_lit_.columns=list(att2idx.keys())"
   ]
  },
  {
   "cell_type": "code",
   "execution_count": 149,
   "id": "2ffd33c9",
   "metadata": {},
   "outputs": [
    {
     "data": {
      "text/plain": [
       "<AxesSubplot:>"
      ]
     },
     "execution_count": 149,
     "metadata": {},
     "output_type": "execute_result"
    },
    {
     "data": {
      "image/png": "[encoded data removed]",
      "text/plain": [
       "<Figure size 432x288 with 2 Axes>"
      ]
     },
     "metadata": {
      "needs_background": "light"
     },
     "output_type": "display_data"
    }
   ],
   "source": [
    "import seaborn as sns\n",
    "\n",
    "corr = num_lit_.corr()\n",
    "\n",
    "# plot the heatmap\n",
    "sns.heatmap(corr, \n",
    "        xticklabels=corr.columns,\n",
    "        yticklabels=corr.columns)"
   ]
  },
  {
   "cell_type": "code",
   "execution_count": 151,
   "id": "8b602c5e",
   "metadata": {},
   "outputs": [
    {
     "data": {
      "text/plain": [
       "Index(['coordinate location(latitude)', 'coordinates of northernmost point',\n",
       "       'work period (start)', 'date of birth', 'inception',\n",
       "       'coordinates of southernmost point', 'total shots in career',\n",
       "       'total assists in career', 'coordinates of easternmost point',\n",
       "       'total goals in career', 'date of death',\n",
       "       'number of matches played/races/starts', 'end time',\n",
       "       'total points in career', 'coordinates of westernmost point',\n",
       "       'work period (end)', 'publication date', 'date of official opening',\n",
       "       'penalty minutes in career', 'start time', 'number of children'],\n",
       "      dtype='object')"
      ]
     },
     "execution_count": 151,
     "metadata": {},
     "output_type": "execute_result"
    }
   ],
   "source": [
    "num_lit_.columns[corr['date of birth'].abs()>0.1]"
   ]
  },
  {
   "cell_type": "markdown",
   "id": "7ee7eea6",
   "metadata": {},
   "source": [
    "# 用新表觀察12變數的相關"
   ]
  },
  {
   "cell_type": "code",
   "execution_count": 33,
   "id": "f1351291",
   "metadata": {},
   "outputs": [],
   "source": [
    "var_name=[\"population\",\"GDP (PPP)\",\"PPP GDP per capita\",\n",
    "      \"date of birth\",\"date of death\",\n",
    "      \"area\",\"work period (start)\",\"work period (end)\",\n",
    "      \"coordinate location(latitude)\",\"coordinate location(logtitude)\",\"height\"]\n",
    "list_var = ['P1082','P4010','P2299','P569','P570','P2046','P2031','P2032','P625_Latitude','P625_Longtiude','P2048']\n",
    "#attri_idmap={}\n",
    "# with open('Attributes/attribute_labels_en.txt',encoding=\"utf-8\") as f:\n",
    "#     for line in f:\n",
    "#         k, v = line.strip().split('\\t')\n",
    "#         attri_idmap[k.strip()] = v.strip()"
   ]
  },
  {
   "cell_type": "code",
   "execution_count": 116,
   "id": "1834c183",
   "metadata": {},
   "outputs": [],
   "source": [
    "var_df= num_lit_.loc[:,list_var]\n",
    "var_df.columns=var_name"
   ]
  },
  {
   "cell_type": "code",
   "execution_count": 153,
   "id": "cc6d4b2a",
   "metadata": {},
   "outputs": [
    {
     "data": {
      "text/plain": [
       "<AxesSubplot:>"
      ]
     },
     "execution_count": 153,
     "metadata": {},
     "output_type": "execute_result"
    },
    {
     "data": {
      "image/png": "[encoded data removed]",
      "text/plain": [
       "<Figure size 432x288 with 2 Axes>"
      ]
     },
     "metadata": {
      "needs_background": "light"
     },
     "output_type": "display_data"
    }
   ],
   "source": [
    "import seaborn as sns\n",
    "\n",
    "corr = var_df.corr()\n",
    "\n",
    "# plot the heatmap\n",
    "sns.heatmap(corr, \n",
    "        xticklabels=corr.columns,\n",
    "        yticklabels=corr.columns)"
   ]
  },
  {
   "cell_type": "code",
   "execution_count": 133,
   "id": "ef4d5c30",
   "metadata": {},
   "outputs": [
    {
     "data": {
      "text/plain": [
       "Index(['population', 'GDP (PPP)'], dtype='object')"
      ]
     },
     "execution_count": 133,
     "metadata": {},
     "output_type": "execute_result"
    }
   ],
   "source": [
    "var_df.columns[corr['population'].abs()>0.1]"
   ]
  },
  {
   "cell_type": "code",
   "execution_count": 154,
   "id": "4172eef0",
   "metadata": {},
   "outputs": [
    {
     "data": {
      "text/plain": [
       "Index(['area'], dtype='object')"
      ]
     },
     "execution_count": 154,
     "metadata": {},
     "output_type": "execute_result"
    }
   ],
   "source": [
    "var_df.columns[corr['area'].abs()>0.1]"
   ]
  },
  {
   "cell_type": "markdown",
   "id": "26764a83",
   "metadata": {},
   "source": [
    "# 找constraint\n",
    "## unary: 經緯度\n",
    "### longtitude:180/-180  latitude: 90/-90"
   ]
  },
  {
   "cell_type": "code",
   "execution_count": 30,
   "id": "8e448f5a",
   "metadata": {},
   "outputs": [],
   "source": [
    "a_group = df_pre.groupby('name_a')\n",
    "def get_group_v(a_name):\n",
    "    return a_group.get_group(a_name).v"
   ]
  },
  {
   "cell_type": "code",
   "execution_count": 32,
   "id": "b29327e2",
   "metadata": {},
   "outputs": [
    {
     "data": {
      "text/plain": [
       "count    6227.000000\n",
       "mean        5.328110\n",
       "std       126.105278\n",
       "min         0.077000\n",
       "25%         1.780000\n",
       "50%         1.830000\n",
       "75%         1.910000\n",
       "max      9753.600000\n",
       "Name: v, dtype: float64"
      ]
     },
     "execution_count": 32,
     "metadata": {},
     "output_type": "execute_result"
    }
   ],
   "source": [
    "get_group_v('height').describe()"
   ]
  },
  {
   "cell_type": "code",
   "execution_count": 44,
   "id": "eb968d5b",
   "metadata": {},
   "outputs": [
    {
     "name": "stdout",
     "output_type": "stream",
     "text": [
      "['population', 'GDP (PPP)', 'PPP GDP per capita', 'date of birth', 'date of death', 'area', 'work period (start)', 'work period (end)', 'coordinate location(latitude)', 'coordinate location(logtitude)', 'height']\n",
      "['P1082', 'P4010', 'P2299', 'P569', 'P570', 'P2046', 'P2031', 'P2032', 'P625_Latitude', 'P625_Longtiude', 'P2048']\n"
     ]
    }
   ],
   "source": [
    "print(var_name)\n",
    "print(list_var)"
   ]
  },
  {
   "cell_type": "markdown",
   "id": "cee91103",
   "metadata": {},
   "source": [
    "# death-birth>0"
   ]
  },
  {
   "cell_type": "code",
   "execution_count": 122,
   "id": "f9bd7c57",
   "metadata": {},
   "outputs": [],
   "source": [
    "d_b = num_lit_[(num_lit_[\"P570\"]!=0) & (num_lit_[\"P569\"]!=0)]"
   ]
  },
  {
   "cell_type": "code",
   "execution_count": 123,
   "id": "dc814865",
   "metadata": {},
   "outputs": [
    {
     "data": {
      "text/plain": [
       "count    3188.000000\n",
       "mean       69.903389\n",
       "std        16.739353\n",
       "min         3.000000\n",
       "25%        60.000000\n",
       "50%        73.000000\n",
       "75%        82.000000\n",
       "max       110.000000\n",
       "Name: d-b, dtype: float64"
      ]
     },
     "execution_count": 123,
     "metadata": {},
     "output_type": "execute_result"
    }
   ],
   "source": [
    "d_b = d_b.loc[:,['P569','P570']]\n",
    "d_b['d-b']=d_b['P570']-d_b['P569']\n",
    "d_b[d_b.P569<0]\n",
    "d_b[d_b['d-b']<0]\n",
    "d_b['d-b'].describe()"
   ]
  },
  {
   "cell_type": "code",
   "execution_count": 121,
   "id": "a8912c44",
   "metadata": {
    "collapsed": true
   },
   "outputs": [
    {
     "data": {
      "text/html": [
       "<div>\n",
       "<style scoped>\n",
       "    .dataframe tbody tr th:only-of-type {\n",
       "        vertical-align: middle;\n",
       "    }\n",
       "\n",
       "    .dataframe tbody tr th {\n",
       "        vertical-align: top;\n",
       "    }\n",
       "\n",
       "    .dataframe thead th {\n",
       "        text-align: right;\n",
       "    }\n",
       "</style>\n",
       "<table border=\"1\" class=\"dataframe\">\n",
       "  <thead>\n",
       "    <tr style=\"text-align: right;\">\n",
       "      <th></th>\n",
       "      <th>P569</th>\n",
       "      <th>P570</th>\n",
       "      <th>d-b</th>\n",
       "    </tr>\n",
       "  </thead>\n",
       "  <tbody>\n",
       "    <tr>\n",
       "      <th>2172</th>\n",
       "      <td>0.0</td>\n",
       "      <td>2020.0</td>\n",
       "      <td>2020.0</td>\n",
       "    </tr>\n",
       "    <tr>\n",
       "      <th>3596</th>\n",
       "      <td>0.0</td>\n",
       "      <td>2020.0</td>\n",
       "      <td>2020.0</td>\n",
       "    </tr>\n",
       "    <tr>\n",
       "      <th>6407</th>\n",
       "      <td>0.0</td>\n",
       "      <td>2020.0</td>\n",
       "      <td>2020.0</td>\n",
       "    </tr>\n",
       "    <tr>\n",
       "      <th>9529</th>\n",
       "      <td>0.0</td>\n",
       "      <td>2020.0</td>\n",
       "      <td>2020.0</td>\n",
       "    </tr>\n",
       "    <tr>\n",
       "      <th>14735</th>\n",
       "      <td>0.0</td>\n",
       "      <td>2020.0</td>\n",
       "      <td>2020.0</td>\n",
       "    </tr>\n",
       "    <tr>\n",
       "      <th>15997</th>\n",
       "      <td>0.0</td>\n",
       "      <td>2020.0</td>\n",
       "      <td>2020.0</td>\n",
       "    </tr>\n",
       "    <tr>\n",
       "      <th>17611</th>\n",
       "      <td>0.0</td>\n",
       "      <td>2020.0</td>\n",
       "      <td>2020.0</td>\n",
       "    </tr>\n",
       "    <tr>\n",
       "      <th>23285</th>\n",
       "      <td>0.0</td>\n",
       "      <td>2020.0</td>\n",
       "      <td>2020.0</td>\n",
       "    </tr>\n",
       "    <tr>\n",
       "      <th>23729</th>\n",
       "      <td>0.0</td>\n",
       "      <td>2020.0</td>\n",
       "      <td>2020.0</td>\n",
       "    </tr>\n",
       "    <tr>\n",
       "      <th>24082</th>\n",
       "      <td>0.0</td>\n",
       "      <td>2020.0</td>\n",
       "      <td>2020.0</td>\n",
       "    </tr>\n",
       "    <tr>\n",
       "      <th>26029</th>\n",
       "      <td>0.0</td>\n",
       "      <td>2020.0</td>\n",
       "      <td>2020.0</td>\n",
       "    </tr>\n",
       "    <tr>\n",
       "      <th>30937</th>\n",
       "      <td>0.0</td>\n",
       "      <td>2020.0</td>\n",
       "      <td>2020.0</td>\n",
       "    </tr>\n",
       "    <tr>\n",
       "      <th>31433</th>\n",
       "      <td>0.0</td>\n",
       "      <td>2020.0</td>\n",
       "      <td>2020.0</td>\n",
       "    </tr>\n",
       "    <tr>\n",
       "      <th>32139</th>\n",
       "      <td>0.0</td>\n",
       "      <td>2020.0</td>\n",
       "      <td>2020.0</td>\n",
       "    </tr>\n",
       "    <tr>\n",
       "      <th>34338</th>\n",
       "      <td>0.0</td>\n",
       "      <td>2020.0</td>\n",
       "      <td>2020.0</td>\n",
       "    </tr>\n",
       "    <tr>\n",
       "      <th>38265</th>\n",
       "      <td>0.0</td>\n",
       "      <td>2020.0</td>\n",
       "      <td>2020.0</td>\n",
       "    </tr>\n",
       "    <tr>\n",
       "      <th>39719</th>\n",
       "      <td>0.0</td>\n",
       "      <td>2020.0</td>\n",
       "      <td>2020.0</td>\n",
       "    </tr>\n",
       "    <tr>\n",
       "      <th>43005</th>\n",
       "      <td>0.0</td>\n",
       "      <td>2020.0</td>\n",
       "      <td>2020.0</td>\n",
       "    </tr>\n",
       "    <tr>\n",
       "      <th>43289</th>\n",
       "      <td>0.0</td>\n",
       "      <td>2020.0</td>\n",
       "      <td>2020.0</td>\n",
       "    </tr>\n",
       "    <tr>\n",
       "      <th>43930</th>\n",
       "      <td>0.0</td>\n",
       "      <td>2020.0</td>\n",
       "      <td>2020.0</td>\n",
       "    </tr>\n",
       "  </tbody>\n",
       "</table>\n",
       "</div>"
      ],
      "text/plain": [
       "       P569    P570     d-b\n",
       "2172    0.0  2020.0  2020.0\n",
       "3596    0.0  2020.0  2020.0\n",
       "6407    0.0  2020.0  2020.0\n",
       "9529    0.0  2020.0  2020.0\n",
       "14735   0.0  2020.0  2020.0\n",
       "15997   0.0  2020.0  2020.0\n",
       "17611   0.0  2020.0  2020.0\n",
       "23285   0.0  2020.0  2020.0\n",
       "23729   0.0  2020.0  2020.0\n",
       "24082   0.0  2020.0  2020.0\n",
       "26029   0.0  2020.0  2020.0\n",
       "30937   0.0  2020.0  2020.0\n",
       "31433   0.0  2020.0  2020.0\n",
       "32139   0.0  2020.0  2020.0\n",
       "34338   0.0  2020.0  2020.0\n",
       "38265   0.0  2020.0  2020.0\n",
       "39719   0.0  2020.0  2020.0\n",
       "43005   0.0  2020.0  2020.0\n",
       "43289   0.0  2020.0  2020.0\n",
       "43930   0.0  2020.0  2020.0"
      ]
     },
     "execution_count": 121,
     "metadata": {},
     "output_type": "execute_result"
    }
   ],
   "source": [
    "#d_b[d_b['d-b']==d_b['d-b'].min()]\n",
    "#d_b[d_b['d-b']==d_b['d-b'].max()]\n",
    "#idx2ent = {k:v for k,v in enumerate(df_pre['e'].unique())}\n",
    "# idx2ent[37768]\n",
    "# idx2ent[4460]\n",
    "# idx2ent[44993]\n",
    "# idx2ent[5628]"
   ]
  },
  {
   "cell_type": "code",
   "execution_count": 127,
   "id": "8b4c9dec",
   "metadata": {
    "scrolled": true
   },
   "outputs": [],
   "source": [
    "df_pre[df_pre['e']=='Q183332']\n",
    "#df_pre.iloc[181021,2]=255.0\n",
    "df_pre.iloc[181021]\n",
    "# df_pre[df_pre['e']=='Q128267']\n",
    "# df_pre[df_pre['e']=='Q43982']\n",
    "# df_pre[df_pre['e']=='Q42887']\n",
    "# df_pre.iloc[6084]\n"
   ]
  },
  {
   "cell_type": "markdown",
   "id": "62eecfd3",
   "metadata": {},
   "source": [
    "# pop/area "
   ]
  },
  {
   "cell_type": "code",
   "execution_count": 82,
   "id": "c544ba05",
   "metadata": {},
   "outputs": [],
   "source": [
    "den = num_lit_[num_lit_['P2046']!=0]"
   ]
  },
  {
   "cell_type": "code",
   "execution_count": 83,
   "id": "4a2c7fc4",
   "metadata": {},
   "outputs": [],
   "source": [
    "den = den.loc[:,['P1082','P2046']]\n",
    "den[\"range\"]=den['P1082']/den['P2046']"
   ]
  },
  {
   "cell_type": "code",
   "execution_count": 89,
   "id": "f4f6378b",
   "metadata": {
    "scrolled": true
   },
   "outputs": [
    {
     "data": {
      "text/html": [
       "<div>\n",
       "<style scoped>\n",
       "    .dataframe tbody tr th:only-of-type {\n",
       "        vertical-align: middle;\n",
       "    }\n",
       "\n",
       "    .dataframe tbody tr th {\n",
       "        vertical-align: top;\n",
       "    }\n",
       "\n",
       "    .dataframe thead th {\n",
       "        text-align: right;\n",
       "    }\n",
       "</style>\n",
       "<table border=\"1\" class=\"dataframe\">\n",
       "  <thead>\n",
       "    <tr style=\"text-align: right;\">\n",
       "      <th></th>\n",
       "      <th>P1082</th>\n",
       "      <th>P2046</th>\n",
       "      <th>range</th>\n",
       "    </tr>\n",
       "  </thead>\n",
       "  <tbody>\n",
       "    <tr>\n",
       "      <th>0</th>\n",
       "      <td>156.0</td>\n",
       "      <td>5.680000e+06</td>\n",
       "      <td>0.000027</td>\n",
       "    </tr>\n",
       "    <tr>\n",
       "      <th>1</th>\n",
       "      <td>1004.0</td>\n",
       "      <td>1.094000e+08</td>\n",
       "      <td>0.000009</td>\n",
       "    </tr>\n",
       "    <tr>\n",
       "      <th>4</th>\n",
       "      <td>13337.0</td>\n",
       "      <td>1.768000e+07</td>\n",
       "      <td>0.000754</td>\n",
       "    </tr>\n",
       "    <tr>\n",
       "      <th>8</th>\n",
       "      <td>33179.0</td>\n",
       "      <td>1.607900e+08</td>\n",
       "      <td>0.000206</td>\n",
       "    </tr>\n",
       "    <tr>\n",
       "      <th>9</th>\n",
       "      <td>148.0</td>\n",
       "      <td>3.958000e+07</td>\n",
       "      <td>0.000004</td>\n",
       "    </tr>\n",
       "    <tr>\n",
       "      <th>...</th>\n",
       "      <td>...</td>\n",
       "      <td>...</td>\n",
       "      <td>...</td>\n",
       "    </tr>\n",
       "    <tr>\n",
       "      <th>45813</th>\n",
       "      <td>20439.0</td>\n",
       "      <td>1.026800e+08</td>\n",
       "      <td>0.000199</td>\n",
       "    </tr>\n",
       "    <tr>\n",
       "      <th>45820</th>\n",
       "      <td>158454.0</td>\n",
       "      <td>1.813000e+07</td>\n",
       "      <td>0.008740</td>\n",
       "    </tr>\n",
       "    <tr>\n",
       "      <th>45918</th>\n",
       "      <td>55739.0</td>\n",
       "      <td>7.330000e+07</td>\n",
       "      <td>0.000760</td>\n",
       "    </tr>\n",
       "    <tr>\n",
       "      <th>46093</th>\n",
       "      <td>128450.0</td>\n",
       "      <td>2.524000e+09</td>\n",
       "      <td>0.000051</td>\n",
       "    </tr>\n",
       "    <tr>\n",
       "      <th>46482</th>\n",
       "      <td>229182.0</td>\n",
       "      <td>4.498809e+09</td>\n",
       "      <td>0.000051</td>\n",
       "    </tr>\n",
       "  </tbody>\n",
       "</table>\n",
       "<p>13376 rows × 3 columns</p>\n",
       "</div>"
      ],
      "text/plain": [
       "          P1082         P2046     range\n",
       "0         156.0  5.680000e+06  0.000027\n",
       "1        1004.0  1.094000e+08  0.000009\n",
       "4       13337.0  1.768000e+07  0.000754\n",
       "8       33179.0  1.607900e+08  0.000206\n",
       "9         148.0  3.958000e+07  0.000004\n",
       "...         ...           ...       ...\n",
       "45813   20439.0  1.026800e+08  0.000199\n",
       "45820  158454.0  1.813000e+07  0.008740\n",
       "45918   55739.0  7.330000e+07  0.000760\n",
       "46093  128450.0  2.524000e+09  0.000051\n",
       "46482  229182.0  4.498809e+09  0.000051\n",
       "\n",
       "[13376 rows x 3 columns]"
      ]
     },
     "execution_count": 89,
     "metadata": {},
     "output_type": "execute_result"
    }
   ],
   "source": [
    "den[den['P1082']!=0]"
   ]
  },
  {
   "cell_type": "markdown",
   "id": "44dab2d0",
   "metadata": {},
   "source": [
    "# work end> work start"
   ]
  },
  {
   "cell_type": "code",
   "execution_count": 128,
   "id": "29166824",
   "metadata": {},
   "outputs": [],
   "source": [
    "work_range= num_lit_[(num_lit_[\"P2032\"]!=0) & (num_lit_[\"P2031\"]!=0)]"
   ]
  },
  {
   "cell_type": "code",
   "execution_count": 137,
   "id": "da4aae7b",
   "metadata": {
    "scrolled": false
   },
   "outputs": [
    {
     "data": {
      "text/plain": [
       "count    2097.000000\n",
       "mean       17.476395\n",
       "std        12.674712\n",
       "min       -23.000000\n",
       "25%        11.000000\n",
       "50%        15.000000\n",
       "75%        19.000000\n",
       "max        86.000000\n",
       "Name: r, dtype: float64"
      ]
     },
     "execution_count": 137,
     "metadata": {},
     "output_type": "execute_result"
    }
   ],
   "source": [
    "work_range=work_range.loc[:,['P2031','P2032']]\n",
    "work_range['r']=work_range['P2032']-work_range['P2031']\n",
    "work_range['r'].describe()"
   ]
  },
  {
   "cell_type": "code",
   "execution_count": 147,
   "id": "f1a0641c",
   "metadata": {},
   "outputs": [
    {
     "data": {
      "text/plain": [
       "e                    Q3770961\n",
       "a                       P2032\n",
       "v                      1984.0\n",
       "name_e         Giuseppe Massa\n",
       "name_a      work period (end)\n",
       "ent_type                   Q5\n",
       "minmax               0.932961\n",
       "Name: 140492, dtype: object"
      ]
     },
     "execution_count": 147,
     "metadata": {},
     "output_type": "execute_result"
    }
   ],
   "source": [
    "#work_range[work_range['r']==work_range['r'].min()]\n",
    "# df_pre[df_pre['e']==idx2ent[19098]]\n",
    "# df_pre.iloc[140492,2]=1984.0\n",
    "df_pre.iloc[140492]"
   ]
  },
  {
   "cell_type": "code",
   "execution_count": 148,
   "id": "d5dce1ff",
   "metadata": {},
   "outputs": [],
   "source": [
    "df_pre.to_csv('LiterallyWikidata/files_needed/train_attri_data_minmax.csv',index=False)"
   ]
  },
  {
   "cell_type": "code",
   "execution_count": 38,
   "id": "ba86d5c5",
   "metadata": {
    "collapsed": true
   },
   "outputs": [
    {
     "name": "stdout",
     "output_type": "stream",
     "text": [
      "population count    1.715700e+04\n",
      "mean     1.013151e+06\n",
      "std      3.466321e+07\n",
      "min      0.000000e+00\n",
      "25%      1.231000e+03\n",
      "50%      6.515000e+03\n",
      "75%      4.381600e+04\n",
      "max      4.164252e+09\n",
      "Name: v, dtype: float64\n",
      "GDP (PPP) count    1.250000e+02\n",
      "mean     4.389851e+11\n",
      "std      1.698107e+12\n",
      "min      4.402120e+07\n",
      "25%      7.584701e+09\n",
      "50%      3.979443e+10\n",
      "75%      1.953400e+11\n",
      "max      1.539088e+13\n",
      "Name: v, dtype: float64\n",
      "PPP GDP per capita count       124.000000\n",
      "mean      20586.915589\n",
      "std       24895.688674\n",
      "min         727.486000\n",
      "25%        4010.629500\n",
      "50%       10717.054500\n",
      "75%       27085.655250\n",
      "max      128646.760000\n",
      "Name: v, dtype: float64\n",
      "date of birth count    12746.000000\n",
      "mean      1936.366939\n",
      "std        114.664273\n",
      "min        -10.000000\n",
      "25%       1934.000000\n",
      "50%       1964.000000\n",
      "75%       1980.000000\n",
      "max       2000.000000\n",
      "Name: v, dtype: float64\n",
      "date of death count    4039.000000\n",
      "mean     1924.454568\n",
      "std       205.750340\n",
      "min        32.000000\n",
      "25%      1931.000000\n",
      "50%      1988.000000\n",
      "75%      2010.000000\n",
      "max      2023.000000\n",
      "Name: v, dtype: float64\n",
      "area count    1.740100e+04\n",
      "mean     3.535795e+14\n",
      "std      4.616916e+16\n",
      "min      4.097400e-02\n",
      "25%      1.477000e+07\n",
      "50%      4.153000e+07\n",
      "75%      4.205700e+08\n",
      "max      6.090000e+18\n",
      "Name: v, dtype: float64\n",
      "work period (start) count    5639.000000\n",
      "mean     1980.817876\n",
      "std        29.861576\n",
      "min      1401.000000\n",
      "25%      1969.000000\n",
      "50%      1988.000000\n",
      "75%      1999.000000\n",
      "max      2019.000000\n",
      "Name: v, dtype: float64\n",
      "work period (end) count    2642.000000\n",
      "mean     1992.246026\n",
      "std        29.489241\n",
      "min      1483.000000\n",
      "25%      1978.000000\n",
      "50%      2000.000000\n",
      "75%      2011.000000\n",
      "max      2020.000000\n",
      "Name: v, dtype: float64\n",
      "coordinate location(latitude) count    19961.000000\n",
      "mean        41.243098\n",
      "std         13.297115\n",
      "min        -90.000000\n",
      "25%         38.790000\n",
      "50%         43.663334\n",
      "75%         46.150000\n",
      "max         90.000000\n",
      "Name: v, dtype: float64\n",
      "coordinate location(logtitude) count    19961.000000\n",
      "mean         1.396224\n",
      "std         60.719514\n",
      "min       -178.000000\n",
      "25%         -0.688611\n",
      "50%          8.866667\n",
      "75%         14.050000\n",
      "max        179.673890\n",
      "Name: v, dtype: float64\n",
      "height count    6227.000000\n",
      "mean        5.328110\n",
      "std       126.105278\n",
      "min         0.077000\n",
      "25%         1.780000\n",
      "50%         1.830000\n",
      "75%         1.910000\n",
      "max      9753.600000\n",
      "Name: v, dtype: float64\n"
     ]
    }
   ],
   "source": [
    "for i in var_name:\n",
    "    print(i, get_group_v(i).describe())"
   ]
  },
  {
   "cell_type": "code",
   "execution_count": 20,
   "id": "fb6f711e",
   "metadata": {},
   "outputs": [],
   "source": [
    "id2ent = {}\n",
    "with open('LiterallyWikidata/Entities/entity_labels_en.txt',encoding=\"utf-8\") as f:\n",
    "    for line in f:\n",
    "        k, v = line.strip().split('\\t')\n",
    "        id2ent[k.strip()] = v.strip()"
   ]
  },
  {
   "cell_type": "markdown",
   "id": "0ef48ac2",
   "metadata": {},
   "source": [
    "# height"
   ]
  },
  {
   "cell_type": "code",
   "execution_count": 159,
   "id": "0921f563",
   "metadata": {
    "scrolled": false
   },
   "outputs": [
    {
     "data": {
      "text/plain": [
       "count    6124.000000\n",
       "mean        1.848294\n",
       "std         0.110109\n",
       "min         0.810000\n",
       "25%         1.780000\n",
       "50%         1.830000\n",
       "75%         1.910000\n",
       "max         2.326000\n",
       "Name: v, dtype: float64"
      ]
     },
     "execution_count": 159,
     "metadata": {},
     "output_type": "execute_result"
    }
   ],
   "source": [
    "df_h = df_pre[(df_pre['a']=='P2048')&(df_pre['ent_type']=='Q5')]\n",
    "df_h.v.describe()\n",
    "#df_h[df_h['v']==0.81]"
   ]
  },
  {
   "cell_type": "code",
   "execution_count": null,
   "id": "d2893c0c",
   "metadata": {},
   "outputs": [],
   "source": [
    "df[df['e']=='Q145']"
   ]
  },
  {
   "cell_type": "code",
   "execution_count": 29,
   "id": "13b47a41",
   "metadata": {},
   "outputs": [
    {
     "data": {
      "text/plain": [
       "'United Kingdom'"
      ]
     },
     "execution_count": 29,
     "metadata": {},
     "output_type": "execute_result"
    }
   ],
   "source": [
    "df_rel[df_rel['e']=='Q9682']\n",
    "id2ent['Q145']"
   ]
  },
  {
   "cell_type": "code",
   "execution_count": 60,
   "id": "60478eeb",
   "metadata": {},
   "outputs": [],
   "source": [
    "#meanpredictor\n",
    "att_group = df.groupby('a')\n",
    "df['mean_predictor'] = att_group['v'].transform('mean')"
   ]
  },
  {
   "cell_type": "code",
   "execution_count": 62,
   "id": "406a26ef",
   "metadata": {},
   "outputs": [],
   "source": [
    "df['mae']=df['mean_predictor'] - df['v']"
   ]
  },
  {
   "cell_type": "code",
   "execution_count": 89,
   "id": "ec29983b",
   "metadata": {},
   "outputs": [],
   "source": [
    "\n",
    "list_var = ['P1082','P4010','P2299','P565','P570','P2046','P2032','P2031','P625_Latitude','P625_Longtiude','P2048']"
   ]
  },
  {
   "cell_type": "code",
   "execution_count": 78,
   "id": "826197ac",
   "metadata": {},
   "outputs": [],
   "source": [
    "att_pred = df.groupby('a')['mae'].aggregate(['mean','median'])"
   ]
  },
  {
   "cell_type": "code",
   "execution_count": 94,
   "id": "f980571f",
   "metadata": {},
   "outputs": [],
   "source": [
    "var_res = df[df['a'].isin(list_var)]"
   ]
  },
  {
   "cell_type": "code",
   "execution_count": 96,
   "id": "82a868d9",
   "metadata": {
    "collapsed": true
   },
   "outputs": [
    {
     "data": {
      "text/html": [
       "<div>\n",
       "<style scoped>\n",
       "    .dataframe tbody tr th:only-of-type {\n",
       "        vertical-align: middle;\n",
       "    }\n",
       "\n",
       "    .dataframe tbody tr th {\n",
       "        vertical-align: top;\n",
       "    }\n",
       "\n",
       "    .dataframe thead th {\n",
       "        text-align: right;\n",
       "    }\n",
       "</style>\n",
       "<table border=\"1\" class=\"dataframe\">\n",
       "  <thead>\n",
       "    <tr style=\"text-align: right;\">\n",
       "      <th></th>\n",
       "      <th>mean</th>\n",
       "      <th>median</th>\n",
       "    </tr>\n",
       "    <tr>\n",
       "      <th>a</th>\n",
       "      <th></th>\n",
       "      <th></th>\n",
       "    </tr>\n",
       "  </thead>\n",
       "  <tbody>\n",
       "    <tr>\n",
       "      <th>P1082</th>\n",
       "      <td>0.000000e+00</td>\n",
       "      <td>9.172066e+05</td>\n",
       "    </tr>\n",
       "    <tr>\n",
       "      <th>P2031</th>\n",
       "      <td>-2.386617e-14</td>\n",
       "      <td>-5.920567e+00</td>\n",
       "    </tr>\n",
       "    <tr>\n",
       "      <th>P2032</th>\n",
       "      <td>-9.370551e-14</td>\n",
       "      <td>-7.396970e+00</td>\n",
       "    </tr>\n",
       "    <tr>\n",
       "      <th>P2046</th>\n",
       "      <td>5.326194e-05</td>\n",
       "      <td>7.337400e+11</td>\n",
       "    </tr>\n",
       "    <tr>\n",
       "      <th>P2048</th>\n",
       "      <td>-5.879330e-17</td>\n",
       "      <td>2.012972e+00</td>\n",
       "    </tr>\n",
       "    <tr>\n",
       "      <th>P2299</th>\n",
       "      <td>1.591616e-12</td>\n",
       "      <td>6.057906e+03</td>\n",
       "    </tr>\n",
       "    <tr>\n",
       "      <th>P4010</th>\n",
       "      <td>0.000000e+00</td>\n",
       "      <td>1.287222e+12</td>\n",
       "    </tr>\n",
       "    <tr>\n",
       "      <th>P570</th>\n",
       "      <td>-5.402939e-14</td>\n",
       "      <td>-5.283168e+01</td>\n",
       "    </tr>\n",
       "    <tr>\n",
       "      <th>P625_Latitude</th>\n",
       "      <td>3.215241e-15</td>\n",
       "      <td>-2.479288e+00</td>\n",
       "    </tr>\n",
       "    <tr>\n",
       "      <th>P625_Longtiude</th>\n",
       "      <td>-1.708720e-16</td>\n",
       "      <td>-6.109336e+00</td>\n",
       "    </tr>\n",
       "  </tbody>\n",
       "</table>\n",
       "</div>"
      ],
      "text/plain": [
       "                        mean        median\n",
       "a                                         \n",
       "P1082           0.000000e+00  9.172066e+05\n",
       "P2031          -2.386617e-14 -5.920567e+00\n",
       "P2032          -9.370551e-14 -7.396970e+00\n",
       "P2046           5.326194e-05  7.337400e+11\n",
       "P2048          -5.879330e-17  2.012972e+00\n",
       "P2299           1.591616e-12  6.057906e+03\n",
       "P4010           0.000000e+00  1.287222e+12\n",
       "P570           -5.402939e-14 -5.283168e+01\n",
       "P625_Latitude   3.215241e-15 -2.479288e+00\n",
       "P625_Longtiude -1.708720e-16 -6.109336e+00"
      ]
     },
     "execution_count": 96,
     "metadata": {},
     "output_type": "execute_result"
    }
   ],
   "source": [
    "var_res.groupby('a')['mae'].aggregate(['mean'])"
   ]
  }
 ],
 "metadata": {
  "kernelspec": {
   "display_name": "Python 3 (ipykernel)",
   "language": "python",
   "name": "python3"
  },
  "language_info": {
   "codemirror_mode": {
    "name": "ipython",
    "version": 3
   },
   "file_extension": ".py",
   "mimetype": "text/x-python",
   "name": "python",
   "nbconvert_exporter": "python",
   "pygments_lexer": "ipython3",
   "version": "3.7.9"
  }
 },
 "nbformat": 4,
 "nbformat_minor": 5
}

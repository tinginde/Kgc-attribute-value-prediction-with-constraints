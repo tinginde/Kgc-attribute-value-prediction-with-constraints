{
 "cells": [
  {
   "cell_type": "code",
   "execution_count": 1,
   "id": "287b314f",
   "metadata": {},
   "outputs": [],
   "source": [
    "import pandas as pd\n",
    "import numpy as np\n",
    "import matplotlib.pyplot as plt\n",
    "from matplotlib.pyplot import figure"
   ]
  },
  {
   "cell_type": "code",
   "execution_count": 143,
   "id": "31fe5241",
   "metadata": {},
   "outputs": [],
   "source": [
    "pd.set_option('display.float_format', lambda x: '%.3f' % x)"
   ]
  },
  {
   "cell_type": "code",
   "execution_count": 2,
   "id": "8b04b341",
   "metadata": {
    "scrolled": false
   },
   "outputs": [
    {
     "ename": "NameError",
     "evalue": "name 'dict_att_2_idx' is not defined",
     "output_type": "error",
     "traceback": [
      "\u001b[0;31m---------------------------------------------------------------------------\u001b[0m",
      "\u001b[0;31mNameError\u001b[0m                                 Traceback (most recent call last)",
      "\u001b[0;32m/tmp/ipykernel_3527972/2904341097.py\u001b[0m in \u001b[0;36m<module>\u001b[0;34m\u001b[0m\n\u001b[1;32m      4\u001b[0m \u001b[0;34m\u001b[0m\u001b[0m\n\u001b[1;32m      5\u001b[0m \u001b[0;31m## constraint needed:\u001b[0m\u001b[0;34m\u001b[0m\u001b[0;34m\u001b[0m\u001b[0;34m\u001b[0m\u001b[0m\n\u001b[0;32m----> 6\u001b[0;31m \u001b[0mpop_idx\u001b[0m \u001b[0;34m=\u001b[0m \u001b[0mdict_att_2_idx\u001b[0m \u001b[0;34m[\u001b[0m\u001b[0;34m'P1082'\u001b[0m\u001b[0;34m]\u001b[0m\u001b[0;34m\u001b[0m\u001b[0;34m\u001b[0m\u001b[0m\n\u001b[0m\u001b[1;32m      7\u001b[0m \u001b[0mgdp\u001b[0m \u001b[0;34m=\u001b[0m \u001b[0mdict_att_2_idx\u001b[0m \u001b[0;34m[\u001b[0m\u001b[0;34m'P4010'\u001b[0m\u001b[0;34m]\u001b[0m\u001b[0;34m\u001b[0m\u001b[0;34m\u001b[0m\u001b[0m\n\u001b[1;32m      8\u001b[0m \u001b[0mnominal_gdp\u001b[0m \u001b[0;34m=\u001b[0m \u001b[0mdict_att_2_idx\u001b[0m \u001b[0;34m[\u001b[0m\u001b[0;34m'P2131'\u001b[0m\u001b[0;34m]\u001b[0m\u001b[0;34m\u001b[0m\u001b[0;34m\u001b[0m\u001b[0m\n",
      "\u001b[0;31mNameError\u001b[0m: name 'dict_att_2_idx' is not defined"
     ]
    }
   ],
   "source": [
    "\n",
    "\n",
    "## constraint needed:\n",
    "pop_idx = dict_att_2_idx ['P1082']\n",
    "gdp = dict_att_2_idx ['P4010']\n",
    "nominal_gdp = dict_att_2_idx ['P2131']\n",
    "nominal_gdp_per = dict_att_2_idx ['P2132']\n",
    "gdp_per = dict_att_2_idx ['P2299']\n",
    "date_of_birth = dict_att_2_idx ['P569']\n",
    "date_of_death = dict_att_2_idx ['P570']\n",
    "area = dict_att_2_idx['P2046']\n",
    "work_end = dict_att_2_idx['P2032']\n",
    "work_start = dict_att_2_idx['P2031']\n",
    "height= dict_att_2_idx['P2048']\n",
    "Latitude = dict_att_2_idx['P625_Latitude']\n",
    "Longtiude = dict_att_2_idx['P625_Longtiude']\n",
    "list_var=[pop_idx,gdp,gdp_per,date_of_birth,date_of_death,area,work_start,work_end,height,Latitude,Longtiude] \n",
    "print('pop_idx,gdp,gdp_per,date_of_birth,date_of_death,area,work_start,work_end,height,Latitude,Longtiude',list_var)\n",
    "def read_result (filepath):\n",
    "    return pd.read_csv(filepath)\n",
    "\n",
    "def var_r_df (df,var=list_var):\n",
    "    #還可以增加\n",
    "    list_var = var\n",
    "    df = df[df.a.isin(list_var)].sort_values(by='a')\n",
    "    df['mae']=abs(df.pred_h-df.target_h)\n",
    "    df['square_mae']=np.square(abs(df.pred_h-df.target_h))\n",
    "    return df\n",
    "    "
   ]
  },
  {
   "cell_type": "code",
   "execution_count": 2,
   "id": "864ec4cd",
   "metadata": {},
   "outputs": [],
   "source": [
    "var_name=[\"coordinate location(latitude)\",\"coordinate location(logtitude)\",\"height\",\"date of birth\",\"date of death\",\"work period (start)\",\"work period (end)\", \"area\",\"population\",\"PPP GDP per capita\",\"GDP (PPP)\"]\n",
    "list_var=['P625_Longtiude','P625_Latitude','P2048','P569','P570','P2031','P2032','P2046','P1082','P2299','P4010']"
   ]
  },
  {
   "cell_type": "code",
   "execution_count": 2,
   "id": "953a5435",
   "metadata": {},
   "outputs": [],
   "source": [
    "attri_data_train = pd.read_csv('/projekte/tcl/tclext/kgc/LiterallyWikidata/files_needed/train_attri_data_minmax.csv')\n",
    "attri_data = pd.read_csv('/projekte/tcl/tclext/kgc/LiterallyWikidata/files_needed/valid_attri_data_minmax.csv')"
   ]
  },
  {
   "cell_type": "code",
   "execution_count": 6,
   "id": "d0511c86",
   "metadata": {},
   "outputs": [],
   "source": [
    "# 紀錄有幾筆\n",
    "s = attri_data[\"a\"].value_counts()\n",
    "s_t = attri_data_train[\"a\"].value_counts()"
   ]
  },
  {
   "cell_type": "code",
   "execution_count": 8,
   "id": "097327c7",
   "metadata": {},
   "outputs": [
    {
     "data": {
      "text/plain": [
       "P625_Latitude     19961\n",
       "P625_Longtiude    19961\n",
       "P2046             17401\n",
       "P1082             17157\n",
       "P569              12746\n",
       "P2048              6227\n",
       "P2031              5639\n",
       "P570               4039\n",
       "P2032              2642\n",
       "P4010               125\n",
       "P2299               124\n",
       "Name: a, dtype: int64"
      ]
     },
     "execution_count": 8,
     "metadata": {},
     "output_type": "execute_result"
    }
   ],
   "source": [
    "#train/test筆數\n",
    "s[s.index.isin(list_var)]\n",
    "s_t[s_t.index.isin(list_var)]"
   ]
  },
  {
   "cell_type": "code",
   "execution_count": 29,
   "id": "4267aa25",
   "metadata": {
    "scrolled": true
   },
   "outputs": [
    {
     "data": {
      "text/plain": [
       "<AxesSubplot:>"
      ]
     },
     "execution_count": 29,
     "metadata": {},
     "output_type": "execute_result"
    },
    {
     "data": {
      "image/png": "[encoded data removed]",
      "text/plain": [
       "<Figure size 432x288 with 1 Axes>"
      ]
     },
     "metadata": {
      "needs_background": "light"
     },
     "output_type": "display_data"
    }
   ],
   "source": [
    "attri_data[attri_data['a']=='P2048'].v.value_counts().plot(kind='box')"
   ]
  },
  {
   "cell_type": "code",
   "execution_count": 32,
   "id": "6a806511",
   "metadata": {},
   "outputs": [
    {
     "data": {
      "text/plain": [
       "<AxesSubplot:>"
      ]
     },
     "execution_count": 32,
     "metadata": {},
     "output_type": "execute_result"
    },
    {
     "data": {
      "image/png": "[encoded data removed]",
      "text/plain": [
       "<Figure size 432x288 with 1 Axes>"
      ]
     },
     "metadata": {
      "needs_background": "light"
     },
     "output_type": "display_data"
    }
   ],
   "source": [
    "df1000['pred_y'].value_counts().plot(kind='box')"
   ]
  },
  {
   "cell_type": "code",
   "execution_count": 22,
   "id": "ef94b00d",
   "metadata": {
    "scrolled": false
   },
   "outputs": [
    {
     "name": "stderr",
     "output_type": "stream",
     "text": [
      "/projekte/tcl/tclext/kgc_chu/neuenv/lib/python3.7/site-packages/seaborn/_decorators.py:43: FutureWarning: Pass the following variable as a keyword arg: x. From version 0.12, the only valid positional argument will be `data`, and passing other arguments without an explicit keyword will result in an error or misinterpretation.\n",
      "  FutureWarning\n"
     ]
    },
    {
     "data": {
      "text/plain": [
       "<AxesSubplot:xlabel='v'>"
      ]
     },
     "execution_count": 22,
     "metadata": {},
     "output_type": "execute_result"
    },
    {
     "data": {
      "image/png": "[encoded data removed]",
      "text/plain": [
       "<Figure size 432x288 with 1 Axes>"
      ]
     },
     "metadata": {
      "needs_background": "light"
     },
     "output_type": "display_data"
    }
   ],
   "source": [
    "import seaborn as sns\n",
    "sns.boxplot(attri_data[attri_data['a']=='P2048'].v.value_counts())"
   ]
  },
  {
   "cell_type": "code",
   "execution_count": 65,
   "id": "de0fa38b",
   "metadata": {},
   "outputs": [
    {
     "data": {
      "text/plain": [
       "count    2642.000000\n",
       "mean     1992.261923\n",
       "std        29.473460\n",
       "min      1483.000000\n",
       "25%      1978.000000\n",
       "50%      2000.000000\n",
       "75%      2011.000000\n",
       "max      2020.000000\n",
       "Name: v, dtype: float64"
      ]
     },
     "execution_count": 65,
     "metadata": {},
     "output_type": "execute_result"
    }
   ],
   "source": [
    "attri_data_train[attri_data_train[\"a\"]==\"P2048\"].v.describe()\n",
    "attri_data_train[attri_data_train[\"a\"]==\"P2031\"].v.describe()\n",
    "attri_data_train[attri_data_train[\"a\"]==\"P2032\"].v.describe()"
   ]
  },
  {
   "cell_type": "code",
   "execution_count": 33,
   "id": "165803b9",
   "metadata": {},
   "outputs": [
    {
     "data": {
      "text/plain": [
       "Text(0, 0.5, 'amount of data')"
      ]
     },
     "execution_count": 33,
     "metadata": {},
     "output_type": "execute_result"
    },
    {
     "data": {
      "image/png": "[encoded data removed]",
      "text/plain": [
       "<Figure size 432x288 with 1 Axes>"
      ]
     },
     "metadata": {
      "needs_background": "light"
     },
     "output_type": "display_data"
    }
   ],
   "source": [
    "plt.hist(attri_data[attri_data[\"a\"]==\"P2048\"].v.value_counts())\n",
    "plt.xlabel('height')\n",
    "plt.ylabel('amount of data')"
   ]
  },
  {
   "cell_type": "code",
   "execution_count": 37,
   "id": "ea8e7760",
   "metadata": {},
   "outputs": [],
   "source": [
    "df100= pd.read_csv('./baseline/iml_cons/pred_result_27_cons_100')\n",
    "df5000= pd.read_csv('./baseline/iml_cons/pred_result_27_cons_5000')\n",
    "df1000= pd.read_csv('./baseline/iml_cons/pred_result_27_cons_1000')"
   ]
  },
  {
   "cell_type": "code",
   "execution_count": 20,
   "id": "b7b6a1b9",
   "metadata": {
    "scrolled": true
   },
   "outputs": [
    {
     "data": {
      "text/plain": [
       "<AxesSubplot:>"
      ]
     },
     "execution_count": 20,
     "metadata": {},
     "output_type": "execute_result"
    },
    {
     "data": {
      "image/png": "[encoded data removed]",
      "text/plain": [
       "<Figure size 432x288 with 1 Axes>"
      ]
     },
     "metadata": {
      "needs_background": "light"
     },
     "output_type": "display_data"
    }
   ],
   "source": [
    "df1000['target_y'].hist()"
   ]
  },
  {
   "cell_type": "code",
   "execution_count": 130,
   "id": "5ea4c5a5",
   "metadata": {},
   "outputs": [
    {
     "data": {
      "text/html": [
       "<div>\n",
       "<style scoped>\n",
       "    .dataframe tbody tr th:only-of-type {\n",
       "        vertical-align: middle;\n",
       "    }\n",
       "\n",
       "    .dataframe tbody tr th {\n",
       "        vertical-align: top;\n",
       "    }\n",
       "\n",
       "    .dataframe thead th {\n",
       "        text-align: right;\n",
       "    }\n",
       "</style>\n",
       "<table border=\"1\" class=\"dataframe\">\n",
       "  <thead>\n",
       "    <tr style=\"text-align: right;\">\n",
       "      <th></th>\n",
       "      <th>id</th>\n",
       "      <th>pred_y</th>\n",
       "      <th>target_y</th>\n",
       "    </tr>\n",
       "  </thead>\n",
       "  <tbody>\n",
       "    <tr>\n",
       "      <th>count</th>\n",
       "      <td>778.000000</td>\n",
       "      <td>778.000000</td>\n",
       "      <td>778.000000</td>\n",
       "    </tr>\n",
       "    <tr>\n",
       "      <th>mean</th>\n",
       "      <td>388.500000</td>\n",
       "      <td>1.659547</td>\n",
       "      <td>3.842972</td>\n",
       "    </tr>\n",
       "    <tr>\n",
       "      <th>std</th>\n",
       "      <td>224.733546</td>\n",
       "      <td>0.396506</td>\n",
       "      <td>37.652297</td>\n",
       "    </tr>\n",
       "    <tr>\n",
       "      <th>min</th>\n",
       "      <td>0.000000</td>\n",
       "      <td>0.218846</td>\n",
       "      <td>0.076000</td>\n",
       "    </tr>\n",
       "    <tr>\n",
       "      <th>25%</th>\n",
       "      <td>194.250000</td>\n",
       "      <td>1.422181</td>\n",
       "      <td>1.780000</td>\n",
       "    </tr>\n",
       "    <tr>\n",
       "      <th>50%</th>\n",
       "      <td>388.500000</td>\n",
       "      <td>1.682577</td>\n",
       "      <td>1.830000</td>\n",
       "    </tr>\n",
       "    <tr>\n",
       "      <th>75%</th>\n",
       "      <td>582.750000</td>\n",
       "      <td>1.938601</td>\n",
       "      <td>1.900000</td>\n",
       "    </tr>\n",
       "    <tr>\n",
       "      <th>max</th>\n",
       "      <td>777.000000</td>\n",
       "      <td>2.903944</td>\n",
       "      <td>1000.000000</td>\n",
       "    </tr>\n",
       "  </tbody>\n",
       "</table>\n",
       "</div>"
      ],
      "text/plain": [
       "               id      pred_y     target_y\n",
       "count  778.000000  778.000000   778.000000\n",
       "mean   388.500000    1.659547     3.842972\n",
       "std    224.733546    0.396506    37.652297\n",
       "min      0.000000    0.218846     0.076000\n",
       "25%    194.250000    1.422181     1.780000\n",
       "50%    388.500000    1.682577     1.830000\n",
       "75%    582.750000    1.938601     1.900000\n",
       "max    777.000000    2.903944  1000.000000"
      ]
     },
     "execution_count": 130,
     "metadata": {},
     "output_type": "execute_result"
    }
   ],
   "source": [
    "df1000.describe()"
   ]
  },
  {
   "cell_type": "code",
   "execution_count": 13,
   "id": "0774b4e8",
   "metadata": {},
   "outputs": [
    {
     "data": {
      "text/plain": [
       "<AxesSubplot:>"
      ]
     },
     "execution_count": 13,
     "metadata": {},
     "output_type": "execute_result"
    },
    {
     "data": {
      "image/png": "[encoded data removed]",
      "text/plain": [
       "<Figure size 432x288 with 1 Axes>"
      ]
     },
     "metadata": {
      "needs_background": "light"
     },
     "output_type": "display_data"
    }
   ],
   "source": [
    "plt.xlim(0,2.5)\n",
    "df5000.target_y.hist()"
   ]
  },
  {
   "cell_type": "code",
   "execution_count": 126,
   "id": "d51dcb8e",
   "metadata": {},
   "outputs": [],
   "source": [
    "df= pd.read_csv('./baseline/iml_cons/pred_result_27_cons_1000')"
   ]
  },
  {
   "cell_type": "code",
   "execution_count": 119,
   "id": "175e2f25",
   "metadata": {
    "scrolled": false
   },
   "outputs": [
    {
     "data": {
      "text/plain": [
       "Text(0, 0.5, 'Amount of data')"
      ]
     },
     "execution_count": 119,
     "metadata": {},
     "output_type": "execute_result"
    },
    {
     "data": {
      "image/png": "[encoded data removed]",
      "text/plain": [
       "<Figure size 432x288 with 1 Axes>"
      ]
     },
     "metadata": {
      "needs_background": "light"
     },
     "output_type": "display_data"
    }
   ],
   "source": [
    "df['pred_y'].hist()\n",
    "plt.xlabel('Predictions for height training with constraint')\n",
    "plt.ylabel('Amount of data')"
   ]
  },
  {
   "cell_type": "code",
   "execution_count": 121,
   "id": "7c777142",
   "metadata": {},
   "outputs": [],
   "source": [
    "df_nocons= pd.read_csv('./baseline/iml_var/pred_result_27_minmax_tanh')"
   ]
  },
  {
   "cell_type": "code",
   "execution_count": 123,
   "id": "c4fa0437",
   "metadata": {},
   "outputs": [
    {
     "data": {
      "text/plain": [
       "count    778.000000\n",
       "mean       2.852290\n",
       "std        0.347883\n",
       "min        1.546913\n",
       "25%        2.630119\n",
       "50%        2.886041\n",
       "75%        3.092370\n",
       "max        4.021115\n",
       "Name: pred_y, dtype: float64"
      ]
     },
     "execution_count": 123,
     "metadata": {},
     "output_type": "execute_result"
    }
   ],
   "source": [
    "df_nocons.pred_y.describe()"
   ]
  },
  {
   "cell_type": "code",
   "execution_count": 122,
   "id": "624126c7",
   "metadata": {},
   "outputs": [
    {
     "data": {
      "text/plain": [
       "Text(0, 0.5, 'Amount of data')"
      ]
     },
     "execution_count": 122,
     "metadata": {},
     "output_type": "execute_result"
    },
    {
     "data": {
      "image/png": "[encoded data removed]",
      "text/plain": [
       "<Figure size 432x288 with 1 Axes>"
      ]
     },
     "metadata": {
      "needs_background": "light"
     },
     "output_type": "display_data"
    }
   ],
   "source": [
    "df_nocons['pred_y'].hist()\n",
    "plt.xlabel('Predictions for height training without constraint')\n",
    "plt.ylabel('Amount of data')"
   ]
  },
  {
   "cell_type": "code",
   "execution_count": 4,
   "id": "e466e939",
   "metadata": {},
   "outputs": [],
   "source": [
    "#MTKGNN\n",
    "df= pd.read_csv('exp_pretrained/predicted_result/model_120_32_att_head_changeinit.csv')"
   ]
  },
  {
   "cell_type": "code",
   "execution_count": null,
   "id": "d5fbf136",
   "metadata": {},
   "outputs": [],
   "source": [
    "# 算each att spearman"
   ]
  },
  {
   "cell_type": "code",
   "execution_count": 44,
   "id": "5b818385",
   "metadata": {},
   "outputs": [],
   "source": [
    "df_all=pd.read_csv('models_0112/preds_result_ea_2layer_b32')"
   ]
  },
  {
   "cell_type": "code",
   "execution_count": 48,
   "id": "7c88c5d0",
   "metadata": {},
   "outputs": [],
   "source": [
    "df=df_all"
   ]
  },
  {
   "cell_type": "code",
   "execution_count": 49,
   "id": "f8f71314",
   "metadata": {},
   "outputs": [],
   "source": [
    "df['true_v']=attri_data['v']"
   ]
  },
  {
   "cell_type": "code",
   "execution_count": 50,
   "id": "b820f3d1",
   "metadata": {},
   "outputs": [],
   "source": [
    "df['a']=attri_data['a']"
   ]
  },
  {
   "cell_type": "code",
   "execution_count": 52,
   "id": "37aa35fd",
   "metadata": {},
   "outputs": [],
   "source": [
    "df['e']=attri_data['e']"
   ]
  },
  {
   "cell_type": "code",
   "execution_count": 77,
   "id": "eff684fc",
   "metadata": {
    "scrolled": true
   },
   "outputs": [],
   "source": [
    "a = df.groupby('a')\n",
    "def cal_corr(att):\n",
    "    adf=a.get_group(att)\n",
    "    corr = adf.pred_y.corr(adf.target_y,method='spearman')\n",
    "    return corr"
   ]
  },
  {
   "cell_type": "code",
   "execution_count": 78,
   "id": "f0ada6f1",
   "metadata": {},
   "outputs": [
    {
     "data": {
      "text/plain": [
       "0.0338229751856267"
      ]
     },
     "execution_count": 78,
     "metadata": {},
     "output_type": "execute_result"
    }
   ],
   "source": [
    "c = cal_corr('P2048')\n",
    "c"
   ]
  },
  {
   "cell_type": "code",
   "execution_count": 79,
   "id": "74d63fc5",
   "metadata": {},
   "outputs": [],
   "source": [
    "val_corr = []\n",
    "for att in list(df['a'].unique()):\n",
    "     val_corr.append(cal_corr(att))"
   ]
  },
  {
   "cell_type": "code",
   "execution_count": 87,
   "id": "a62dbb65",
   "metadata": {},
   "outputs": [
    {
     "data": {
      "text/plain": [
       "['P1334_Latitude',\n",
       " 'P1082',\n",
       " 'P625_Latitude',\n",
       " 'P1332_Longtiude',\n",
       " 'P2048',\n",
       " 'P1333_Longtiude',\n",
       " 'P6547',\n",
       " 'P580',\n",
       " 'P2032',\n",
       " 'P1335_Longtiude',\n",
       " 'P1971',\n",
       " 'P570',\n",
       " 'P625_Longtiude',\n",
       " 'P2044',\n",
       " 'P2031',\n",
       " 'P2047',\n",
       " 'P1334_Longtiude',\n",
       " 'P6544',\n",
       " 'P2046',\n",
       " 'P569',\n",
       " 'P2067',\n",
       " 'P6545',\n",
       " 'P1335_Latitude',\n",
       " 'P571',\n",
       " 'P1350',\n",
       " 'P6509',\n",
       " 'P6546',\n",
       " 'P1538',\n",
       " 'P6543',\n",
       " 'P1333_Latitude',\n",
       " 'P1113',\n",
       " 'P1332_Latitude',\n",
       " 'P4080',\n",
       " 'P2130',\n",
       " 'P1540',\n",
       " 'P1128',\n",
       " 'P1418',\n",
       " 'P2043',\n",
       " 'P1539',\n",
       " 'P1351',\n",
       " 'P1103',\n",
       " 'P582',\n",
       " 'P576',\n",
       " 'P2927',\n",
       " 'P2121',\n",
       " 'P4841',\n",
       " 'P1373',\n",
       " 'P2146',\n",
       " 'P585',\n",
       " 'P1132',\n",
       " 'P1619',\n",
       " 'P3157',\n",
       " 'P2132',\n",
       " 'P1249',\n",
       " 'P619',\n",
       " 'P577',\n",
       " 'P2124',\n",
       " 'P2437',\n",
       " 'P2299',\n",
       " 'P2244',\n",
       " 'P2142',\n",
       " 'P3087',\n",
       " 'P2250',\n",
       " 'P2225',\n",
       " 'P2053',\n",
       " 'P1352',\n",
       " 'P4511',\n",
       " 'P2049',\n",
       " 'P2045',\n",
       " 'P2131',\n",
       " 'P3086',\n",
       " 'P5982',\n",
       " 'P2873',\n",
       " 'P2884',\n",
       " 'P2052',\n",
       " 'P2243',\n",
       " 'P1110',\n",
       " 'P1081',\n",
       " 'P1831',\n",
       " 'P620',\n",
       " 'P1083',\n",
       " 'P5595',\n",
       " 'P2219',\n",
       " 'P3872',\n",
       " 'P2234',\n",
       " 'P4010']"
      ]
     },
     "execution_count": 87,
     "metadata": {},
     "output_type": "execute_result"
    }
   ],
   "source": [
    "list(df['a'].unique())"
   ]
  },
  {
   "cell_type": "code",
   "execution_count": 88,
   "id": "8edebd4b",
   "metadata": {},
   "outputs": [],
   "source": [
    "res=pd.DataFrame({'a':list(df['a'].unique()),'corr':val_corr})"
   ]
  },
  {
   "cell_type": "raw",
   "id": "3d62aeb7",
   "metadata": {},
   "source": []
  },
  {
   "cell_type": "code",
   "execution_count": 16,
   "id": "ea96c0b9",
   "metadata": {},
   "outputs": [
    {
     "name": "stderr",
     "output_type": "stream",
     "text": [
      "/projekte/tcl/tclext/kgc_chu/neuenv/lib/python3.7/site-packages/ipykernel_launcher.py:9: SettingWithCopyWarning: \n",
      "A value is trying to be set on a copy of a slice from a DataFrame.\n",
      "Try using .loc[row_indexer,col_indexer] = value instead\n",
      "\n",
      "See the caveats in the documentation: https://pandas.pydata.org/pandas-docs/stable/user_guide/indexing.html#returning-a-view-versus-a-copy\n",
      "  if __name__ == '__main__':\n",
      "/projekte/tcl/tclext/kgc_chu/neuenv/lib/python3.7/site-packages/ipykernel_launcher.py:9: SettingWithCopyWarning: \n",
      "A value is trying to be set on a copy of a slice from a DataFrame.\n",
      "Try using .loc[row_indexer,col_indexer] = value instead\n",
      "\n",
      "See the caveats in the documentation: https://pandas.pydata.org/pandas-docs/stable/user_guide/indexing.html#returning-a-view-versus-a-copy\n",
      "  if __name__ == '__main__':\n",
      "/projekte/tcl/tclext/kgc_chu/neuenv/lib/python3.7/site-packages/ipykernel_launcher.py:9: SettingWithCopyWarning: \n",
      "A value is trying to be set on a copy of a slice from a DataFrame.\n",
      "Try using .loc[row_indexer,col_indexer] = value instead\n",
      "\n",
      "See the caveats in the documentation: https://pandas.pydata.org/pandas-docs/stable/user_guide/indexing.html#returning-a-view-versus-a-copy\n",
      "  if __name__ == '__main__':\n",
      "/projekte/tcl/tclext/kgc_chu/neuenv/lib/python3.7/site-packages/ipykernel_launcher.py:9: SettingWithCopyWarning: \n",
      "A value is trying to be set on a copy of a slice from a DataFrame.\n",
      "Try using .loc[row_indexer,col_indexer] = value instead\n",
      "\n",
      "See the caveats in the documentation: https://pandas.pydata.org/pandas-docs/stable/user_guide/indexing.html#returning-a-view-versus-a-copy\n",
      "  if __name__ == '__main__':\n",
      "/projekte/tcl/tclext/kgc_chu/neuenv/lib/python3.7/site-packages/ipykernel_launcher.py:9: SettingWithCopyWarning: \n",
      "A value is trying to be set on a copy of a slice from a DataFrame.\n",
      "Try using .loc[row_indexer,col_indexer] = value instead\n",
      "\n",
      "See the caveats in the documentation: https://pandas.pydata.org/pandas-docs/stable/user_guide/indexing.html#returning-a-view-versus-a-copy\n",
      "  if __name__ == '__main__':\n",
      "/projekte/tcl/tclext/kgc_chu/neuenv/lib/python3.7/site-packages/ipykernel_launcher.py:9: SettingWithCopyWarning: \n",
      "A value is trying to be set on a copy of a slice from a DataFrame.\n",
      "Try using .loc[row_indexer,col_indexer] = value instead\n",
      "\n",
      "See the caveats in the documentation: https://pandas.pydata.org/pandas-docs/stable/user_guide/indexing.html#returning-a-view-versus-a-copy\n",
      "  if __name__ == '__main__':\n",
      "/projekte/tcl/tclext/kgc_chu/neuenv/lib/python3.7/site-packages/ipykernel_launcher.py:9: SettingWithCopyWarning: \n",
      "A value is trying to be set on a copy of a slice from a DataFrame.\n",
      "Try using .loc[row_indexer,col_indexer] = value instead\n",
      "\n",
      "See the caveats in the documentation: https://pandas.pydata.org/pandas-docs/stable/user_guide/indexing.html#returning-a-view-versus-a-copy\n",
      "  if __name__ == '__main__':\n",
      "/projekte/tcl/tclext/kgc_chu/neuenv/lib/python3.7/site-packages/ipykernel_launcher.py:9: SettingWithCopyWarning: \n",
      "A value is trying to be set on a copy of a slice from a DataFrame.\n",
      "Try using .loc[row_indexer,col_indexer] = value instead\n",
      "\n",
      "See the caveats in the documentation: https://pandas.pydata.org/pandas-docs/stable/user_guide/indexing.html#returning-a-view-versus-a-copy\n",
      "  if __name__ == '__main__':\n",
      "/projekte/tcl/tclext/kgc_chu/neuenv/lib/python3.7/site-packages/ipykernel_launcher.py:9: SettingWithCopyWarning: \n",
      "A value is trying to be set on a copy of a slice from a DataFrame.\n",
      "Try using .loc[row_indexer,col_indexer] = value instead\n",
      "\n",
      "See the caveats in the documentation: https://pandas.pydata.org/pandas-docs/stable/user_guide/indexing.html#returning-a-view-versus-a-copy\n",
      "  if __name__ == '__main__':\n",
      "/projekte/tcl/tclext/kgc_chu/neuenv/lib/python3.7/site-packages/ipykernel_launcher.py:9: SettingWithCopyWarning: \n",
      "A value is trying to be set on a copy of a slice from a DataFrame.\n",
      "Try using .loc[row_indexer,col_indexer] = value instead\n",
      "\n",
      "See the caveats in the documentation: https://pandas.pydata.org/pandas-docs/stable/user_guide/indexing.html#returning-a-view-versus-a-copy\n",
      "  if __name__ == '__main__':\n",
      "/projekte/tcl/tclext/kgc_chu/neuenv/lib/python3.7/site-packages/ipykernel_launcher.py:9: SettingWithCopyWarning: \n",
      "A value is trying to be set on a copy of a slice from a DataFrame.\n",
      "Try using .loc[row_indexer,col_indexer] = value instead\n",
      "\n",
      "See the caveats in the documentation: https://pandas.pydata.org/pandas-docs/stable/user_guide/indexing.html#returning-a-view-versus-a-copy\n",
      "  if __name__ == '__main__':\n",
      "/projekte/tcl/tclext/kgc_chu/neuenv/lib/python3.7/site-packages/ipykernel_launcher.py:9: SettingWithCopyWarning: \n",
      "A value is trying to be set on a copy of a slice from a DataFrame.\n",
      "Try using .loc[row_indexer,col_indexer] = value instead\n",
      "\n",
      "See the caveats in the documentation: https://pandas.pydata.org/pandas-docs/stable/user_guide/indexing.html#returning-a-view-versus-a-copy\n",
      "  if __name__ == '__main__':\n",
      "/projekte/tcl/tclext/kgc_chu/neuenv/lib/python3.7/site-packages/ipykernel_launcher.py:9: SettingWithCopyWarning: \n",
      "A value is trying to be set on a copy of a slice from a DataFrame.\n",
      "Try using .loc[row_indexer,col_indexer] = value instead\n",
      "\n",
      "See the caveats in the documentation: https://pandas.pydata.org/pandas-docs/stable/user_guide/indexing.html#returning-a-view-versus-a-copy\n",
      "  if __name__ == '__main__':\n",
      "/projekte/tcl/tclext/kgc_chu/neuenv/lib/python3.7/site-packages/ipykernel_launcher.py:9: SettingWithCopyWarning: \n",
      "A value is trying to be set on a copy of a slice from a DataFrame.\n",
      "Try using .loc[row_indexer,col_indexer] = value instead\n",
      "\n",
      "See the caveats in the documentation: https://pandas.pydata.org/pandas-docs/stable/user_guide/indexing.html#returning-a-view-versus-a-copy\n",
      "  if __name__ == '__main__':\n",
      "/projekte/tcl/tclext/kgc_chu/neuenv/lib/python3.7/site-packages/ipykernel_launcher.py:9: SettingWithCopyWarning: \n",
      "A value is trying to be set on a copy of a slice from a DataFrame.\n",
      "Try using .loc[row_indexer,col_indexer] = value instead\n",
      "\n",
      "See the caveats in the documentation: https://pandas.pydata.org/pandas-docs/stable/user_guide/indexing.html#returning-a-view-versus-a-copy\n",
      "  if __name__ == '__main__':\n",
      "/projekte/tcl/tclext/kgc_chu/neuenv/lib/python3.7/site-packages/ipykernel_launcher.py:9: SettingWithCopyWarning: \n",
      "A value is trying to be set on a copy of a slice from a DataFrame.\n",
      "Try using .loc[row_indexer,col_indexer] = value instead\n",
      "\n",
      "See the caveats in the documentation: https://pandas.pydata.org/pandas-docs/stable/user_guide/indexing.html#returning-a-view-versus-a-copy\n",
      "  if __name__ == '__main__':\n",
      "/projekte/tcl/tclext/kgc_chu/neuenv/lib/python3.7/site-packages/ipykernel_launcher.py:9: SettingWithCopyWarning: \n",
      "A value is trying to be set on a copy of a slice from a DataFrame.\n",
      "Try using .loc[row_indexer,col_indexer] = value instead\n",
      "\n",
      "See the caveats in the documentation: https://pandas.pydata.org/pandas-docs/stable/user_guide/indexing.html#returning-a-view-versus-a-copy\n",
      "  if __name__ == '__main__':\n",
      "/projekte/tcl/tclext/kgc_chu/neuenv/lib/python3.7/site-packages/ipykernel_launcher.py:9: SettingWithCopyWarning: \n",
      "A value is trying to be set on a copy of a slice from a DataFrame.\n",
      "Try using .loc[row_indexer,col_indexer] = value instead\n",
      "\n",
      "See the caveats in the documentation: https://pandas.pydata.org/pandas-docs/stable/user_guide/indexing.html#returning-a-view-versus-a-copy\n",
      "  if __name__ == '__main__':\n",
      "/projekte/tcl/tclext/kgc_chu/neuenv/lib/python3.7/site-packages/ipykernel_launcher.py:9: SettingWithCopyWarning: \n",
      "A value is trying to be set on a copy of a slice from a DataFrame.\n",
      "Try using .loc[row_indexer,col_indexer] = value instead\n",
      "\n",
      "See the caveats in the documentation: https://pandas.pydata.org/pandas-docs/stable/user_guide/indexing.html#returning-a-view-versus-a-copy\n",
      "  if __name__ == '__main__':\n",
      "/projekte/tcl/tclext/kgc_chu/neuenv/lib/python3.7/site-packages/ipykernel_launcher.py:9: SettingWithCopyWarning: \n",
      "A value is trying to be set on a copy of a slice from a DataFrame.\n",
      "Try using .loc[row_indexer,col_indexer] = value instead\n",
      "\n",
      "See the caveats in the documentation: https://pandas.pydata.org/pandas-docs/stable/user_guide/indexing.html#returning-a-view-versus-a-copy\n",
      "  if __name__ == '__main__':\n",
      "/projekte/tcl/tclext/kgc_chu/neuenv/lib/python3.7/site-packages/ipykernel_launcher.py:9: SettingWithCopyWarning: \n",
      "A value is trying to be set on a copy of a slice from a DataFrame.\n",
      "Try using .loc[row_indexer,col_indexer] = value instead\n",
      "\n",
      "See the caveats in the documentation: https://pandas.pydata.org/pandas-docs/stable/user_guide/indexing.html#returning-a-view-versus-a-copy\n",
      "  if __name__ == '__main__':\n",
      "/projekte/tcl/tclext/kgc_chu/neuenv/lib/python3.7/site-packages/ipykernel_launcher.py:9: SettingWithCopyWarning: \n",
      "A value is trying to be set on a copy of a slice from a DataFrame.\n",
      "Try using .loc[row_indexer,col_indexer] = value instead\n",
      "\n",
      "See the caveats in the documentation: https://pandas.pydata.org/pandas-docs/stable/user_guide/indexing.html#returning-a-view-versus-a-copy\n",
      "  if __name__ == '__main__':\n",
      "/projekte/tcl/tclext/kgc_chu/neuenv/lib/python3.7/site-packages/ipykernel_launcher.py:9: SettingWithCopyWarning: \n",
      "A value is trying to be set on a copy of a slice from a DataFrame.\n",
      "Try using .loc[row_indexer,col_indexer] = value instead\n",
      "\n",
      "See the caveats in the documentation: https://pandas.pydata.org/pandas-docs/stable/user_guide/indexing.html#returning-a-view-versus-a-copy\n",
      "  if __name__ == '__main__':\n",
      "/projekte/tcl/tclext/kgc_chu/neuenv/lib/python3.7/site-packages/ipykernel_launcher.py:9: SettingWithCopyWarning: \n",
      "A value is trying to be set on a copy of a slice from a DataFrame.\n",
      "Try using .loc[row_indexer,col_indexer] = value instead\n",
      "\n",
      "See the caveats in the documentation: https://pandas.pydata.org/pandas-docs/stable/user_guide/indexing.html#returning-a-view-versus-a-copy\n",
      "  if __name__ == '__main__':\n",
      "/projekte/tcl/tclext/kgc_chu/neuenv/lib/python3.7/site-packages/ipykernel_launcher.py:9: SettingWithCopyWarning: \n",
      "A value is trying to be set on a copy of a slice from a DataFrame.\n",
      "Try using .loc[row_indexer,col_indexer] = value instead\n",
      "\n",
      "See the caveats in the documentation: https://pandas.pydata.org/pandas-docs/stable/user_guide/indexing.html#returning-a-view-versus-a-copy\n",
      "  if __name__ == '__main__':\n",
      "/projekte/tcl/tclext/kgc_chu/neuenv/lib/python3.7/site-packages/ipykernel_launcher.py:9: SettingWithCopyWarning: \n",
      "A value is trying to be set on a copy of a slice from a DataFrame.\n",
      "Try using .loc[row_indexer,col_indexer] = value instead\n",
      "\n",
      "See the caveats in the documentation: https://pandas.pydata.org/pandas-docs/stable/user_guide/indexing.html#returning-a-view-versus-a-copy\n",
      "  if __name__ == '__main__':\n",
      "/projekte/tcl/tclext/kgc_chu/neuenv/lib/python3.7/site-packages/ipykernel_launcher.py:9: SettingWithCopyWarning: \n",
      "A value is trying to be set on a copy of a slice from a DataFrame.\n",
      "Try using .loc[row_indexer,col_indexer] = value instead\n",
      "\n",
      "See the caveats in the documentation: https://pandas.pydata.org/pandas-docs/stable/user_guide/indexing.html#returning-a-view-versus-a-copy\n",
      "  if __name__ == '__main__':\n",
      "/projekte/tcl/tclext/kgc_chu/neuenv/lib/python3.7/site-packages/ipykernel_launcher.py:9: SettingWithCopyWarning: \n",
      "A value is trying to be set on a copy of a slice from a DataFrame.\n",
      "Try using .loc[row_indexer,col_indexer] = value instead\n",
      "\n",
      "See the caveats in the documentation: https://pandas.pydata.org/pandas-docs/stable/user_guide/indexing.html#returning-a-view-versus-a-copy\n",
      "  if __name__ == '__main__':\n"
     ]
    },
    {
     "name": "stderr",
     "output_type": "stream",
     "text": [
      "/projekte/tcl/tclext/kgc_chu/neuenv/lib/python3.7/site-packages/ipykernel_launcher.py:9: SettingWithCopyWarning: \n",
      "A value is trying to be set on a copy of a slice from a DataFrame.\n",
      "Try using .loc[row_indexer,col_indexer] = value instead\n",
      "\n",
      "See the caveats in the documentation: https://pandas.pydata.org/pandas-docs/stable/user_guide/indexing.html#returning-a-view-versus-a-copy\n",
      "  if __name__ == '__main__':\n",
      "/projekte/tcl/tclext/kgc_chu/neuenv/lib/python3.7/site-packages/ipykernel_launcher.py:9: SettingWithCopyWarning: \n",
      "A value is trying to be set on a copy of a slice from a DataFrame.\n",
      "Try using .loc[row_indexer,col_indexer] = value instead\n",
      "\n",
      "See the caveats in the documentation: https://pandas.pydata.org/pandas-docs/stable/user_guide/indexing.html#returning-a-view-versus-a-copy\n",
      "  if __name__ == '__main__':\n",
      "/projekte/tcl/tclext/kgc_chu/neuenv/lib/python3.7/site-packages/ipykernel_launcher.py:9: SettingWithCopyWarning: \n",
      "A value is trying to be set on a copy of a slice from a DataFrame.\n",
      "Try using .loc[row_indexer,col_indexer] = value instead\n",
      "\n",
      "See the caveats in the documentation: https://pandas.pydata.org/pandas-docs/stable/user_guide/indexing.html#returning-a-view-versus-a-copy\n",
      "  if __name__ == '__main__':\n",
      "/projekte/tcl/tclext/kgc_chu/neuenv/lib/python3.7/site-packages/ipykernel_launcher.py:9: SettingWithCopyWarning: \n",
      "A value is trying to be set on a copy of a slice from a DataFrame.\n",
      "Try using .loc[row_indexer,col_indexer] = value instead\n",
      "\n",
      "See the caveats in the documentation: https://pandas.pydata.org/pandas-docs/stable/user_guide/indexing.html#returning-a-view-versus-a-copy\n",
      "  if __name__ == '__main__':\n",
      "/projekte/tcl/tclext/kgc_chu/neuenv/lib/python3.7/site-packages/ipykernel_launcher.py:9: SettingWithCopyWarning: \n",
      "A value is trying to be set on a copy of a slice from a DataFrame.\n",
      "Try using .loc[row_indexer,col_indexer] = value instead\n",
      "\n",
      "See the caveats in the documentation: https://pandas.pydata.org/pandas-docs/stable/user_guide/indexing.html#returning-a-view-versus-a-copy\n",
      "  if __name__ == '__main__':\n",
      "/projekte/tcl/tclext/kgc_chu/neuenv/lib/python3.7/site-packages/ipykernel_launcher.py:9: SettingWithCopyWarning: \n",
      "A value is trying to be set on a copy of a slice from a DataFrame.\n",
      "Try using .loc[row_indexer,col_indexer] = value instead\n",
      "\n",
      "See the caveats in the documentation: https://pandas.pydata.org/pandas-docs/stable/user_guide/indexing.html#returning-a-view-versus-a-copy\n",
      "  if __name__ == '__main__':\n",
      "/projekte/tcl/tclext/kgc_chu/neuenv/lib/python3.7/site-packages/ipykernel_launcher.py:9: SettingWithCopyWarning: \n",
      "A value is trying to be set on a copy of a slice from a DataFrame.\n",
      "Try using .loc[row_indexer,col_indexer] = value instead\n",
      "\n",
      "See the caveats in the documentation: https://pandas.pydata.org/pandas-docs/stable/user_guide/indexing.html#returning-a-view-versus-a-copy\n",
      "  if __name__ == '__main__':\n",
      "/projekte/tcl/tclext/kgc_chu/neuenv/lib/python3.7/site-packages/ipykernel_launcher.py:9: SettingWithCopyWarning: \n",
      "A value is trying to be set on a copy of a slice from a DataFrame.\n",
      "Try using .loc[row_indexer,col_indexer] = value instead\n",
      "\n",
      "See the caveats in the documentation: https://pandas.pydata.org/pandas-docs/stable/user_guide/indexing.html#returning-a-view-versus-a-copy\n",
      "  if __name__ == '__main__':\n",
      "/projekte/tcl/tclext/kgc_chu/neuenv/lib/python3.7/site-packages/ipykernel_launcher.py:9: SettingWithCopyWarning: \n",
      "A value is trying to be set on a copy of a slice from a DataFrame.\n",
      "Try using .loc[row_indexer,col_indexer] = value instead\n",
      "\n",
      "See the caveats in the documentation: https://pandas.pydata.org/pandas-docs/stable/user_guide/indexing.html#returning-a-view-versus-a-copy\n",
      "  if __name__ == '__main__':\n",
      "/projekte/tcl/tclext/kgc_chu/neuenv/lib/python3.7/site-packages/ipykernel_launcher.py:9: SettingWithCopyWarning: \n",
      "A value is trying to be set on a copy of a slice from a DataFrame.\n",
      "Try using .loc[row_indexer,col_indexer] = value instead\n",
      "\n",
      "See the caveats in the documentation: https://pandas.pydata.org/pandas-docs/stable/user_guide/indexing.html#returning-a-view-versus-a-copy\n",
      "  if __name__ == '__main__':\n",
      "/projekte/tcl/tclext/kgc_chu/neuenv/lib/python3.7/site-packages/ipykernel_launcher.py:9: SettingWithCopyWarning: \n",
      "A value is trying to be set on a copy of a slice from a DataFrame.\n",
      "Try using .loc[row_indexer,col_indexer] = value instead\n",
      "\n",
      "See the caveats in the documentation: https://pandas.pydata.org/pandas-docs/stable/user_guide/indexing.html#returning-a-view-versus-a-copy\n",
      "  if __name__ == '__main__':\n",
      "/projekte/tcl/tclext/kgc_chu/neuenv/lib/python3.7/site-packages/ipykernel_launcher.py:9: SettingWithCopyWarning: \n",
      "A value is trying to be set on a copy of a slice from a DataFrame.\n",
      "Try using .loc[row_indexer,col_indexer] = value instead\n",
      "\n",
      "See the caveats in the documentation: https://pandas.pydata.org/pandas-docs/stable/user_guide/indexing.html#returning-a-view-versus-a-copy\n",
      "  if __name__ == '__main__':\n",
      "/projekte/tcl/tclext/kgc_chu/neuenv/lib/python3.7/site-packages/ipykernel_launcher.py:9: SettingWithCopyWarning: \n",
      "A value is trying to be set on a copy of a slice from a DataFrame.\n",
      "Try using .loc[row_indexer,col_indexer] = value instead\n",
      "\n",
      "See the caveats in the documentation: https://pandas.pydata.org/pandas-docs/stable/user_guide/indexing.html#returning-a-view-versus-a-copy\n",
      "  if __name__ == '__main__':\n",
      "/projekte/tcl/tclext/kgc_chu/neuenv/lib/python3.7/site-packages/ipykernel_launcher.py:9: SettingWithCopyWarning: \n",
      "A value is trying to be set on a copy of a slice from a DataFrame.\n",
      "Try using .loc[row_indexer,col_indexer] = value instead\n",
      "\n",
      "See the caveats in the documentation: https://pandas.pydata.org/pandas-docs/stable/user_guide/indexing.html#returning-a-view-versus-a-copy\n",
      "  if __name__ == '__main__':\n",
      "/projekte/tcl/tclext/kgc_chu/neuenv/lib/python3.7/site-packages/ipykernel_launcher.py:9: SettingWithCopyWarning: \n",
      "A value is trying to be set on a copy of a slice from a DataFrame.\n",
      "Try using .loc[row_indexer,col_indexer] = value instead\n",
      "\n",
      "See the caveats in the documentation: https://pandas.pydata.org/pandas-docs/stable/user_guide/indexing.html#returning-a-view-versus-a-copy\n",
      "  if __name__ == '__main__':\n",
      "/projekte/tcl/tclext/kgc_chu/neuenv/lib/python3.7/site-packages/ipykernel_launcher.py:9: SettingWithCopyWarning: \n",
      "A value is trying to be set on a copy of a slice from a DataFrame.\n",
      "Try using .loc[row_indexer,col_indexer] = value instead\n",
      "\n",
      "See the caveats in the documentation: https://pandas.pydata.org/pandas-docs/stable/user_guide/indexing.html#returning-a-view-versus-a-copy\n",
      "  if __name__ == '__main__':\n",
      "/projekte/tcl/tclext/kgc_chu/neuenv/lib/python3.7/site-packages/ipykernel_launcher.py:9: SettingWithCopyWarning: \n",
      "A value is trying to be set on a copy of a slice from a DataFrame.\n",
      "Try using .loc[row_indexer,col_indexer] = value instead\n",
      "\n",
      "See the caveats in the documentation: https://pandas.pydata.org/pandas-docs/stable/user_guide/indexing.html#returning-a-view-versus-a-copy\n",
      "  if __name__ == '__main__':\n",
      "/projekte/tcl/tclext/kgc_chu/neuenv/lib/python3.7/site-packages/ipykernel_launcher.py:9: SettingWithCopyWarning: \n",
      "A value is trying to be set on a copy of a slice from a DataFrame.\n",
      "Try using .loc[row_indexer,col_indexer] = value instead\n",
      "\n",
      "See the caveats in the documentation: https://pandas.pydata.org/pandas-docs/stable/user_guide/indexing.html#returning-a-view-versus-a-copy\n",
      "  if __name__ == '__main__':\n",
      "/projekte/tcl/tclext/kgc_chu/neuenv/lib/python3.7/site-packages/ipykernel_launcher.py:9: SettingWithCopyWarning: \n",
      "A value is trying to be set on a copy of a slice from a DataFrame.\n",
      "Try using .loc[row_indexer,col_indexer] = value instead\n",
      "\n",
      "See the caveats in the documentation: https://pandas.pydata.org/pandas-docs/stable/user_guide/indexing.html#returning-a-view-versus-a-copy\n",
      "  if __name__ == '__main__':\n",
      "/projekte/tcl/tclext/kgc_chu/neuenv/lib/python3.7/site-packages/ipykernel_launcher.py:9: SettingWithCopyWarning: \n",
      "A value is trying to be set on a copy of a slice from a DataFrame.\n",
      "Try using .loc[row_indexer,col_indexer] = value instead\n",
      "\n",
      "See the caveats in the documentation: https://pandas.pydata.org/pandas-docs/stable/user_guide/indexing.html#returning-a-view-versus-a-copy\n",
      "  if __name__ == '__main__':\n",
      "/projekte/tcl/tclext/kgc_chu/neuenv/lib/python3.7/site-packages/ipykernel_launcher.py:9: SettingWithCopyWarning: \n",
      "A value is trying to be set on a copy of a slice from a DataFrame.\n",
      "Try using .loc[row_indexer,col_indexer] = value instead\n",
      "\n",
      "See the caveats in the documentation: https://pandas.pydata.org/pandas-docs/stable/user_guide/indexing.html#returning-a-view-versus-a-copy\n",
      "  if __name__ == '__main__':\n",
      "/projekte/tcl/tclext/kgc_chu/neuenv/lib/python3.7/site-packages/ipykernel_launcher.py:9: SettingWithCopyWarning: \n",
      "A value is trying to be set on a copy of a slice from a DataFrame.\n",
      "Try using .loc[row_indexer,col_indexer] = value instead\n",
      "\n",
      "See the caveats in the documentation: https://pandas.pydata.org/pandas-docs/stable/user_guide/indexing.html#returning-a-view-versus-a-copy\n",
      "  if __name__ == '__main__':\n",
      "/projekte/tcl/tclext/kgc_chu/neuenv/lib/python3.7/site-packages/ipykernel_launcher.py:9: SettingWithCopyWarning: \n",
      "A value is trying to be set on a copy of a slice from a DataFrame.\n",
      "Try using .loc[row_indexer,col_indexer] = value instead\n",
      "\n",
      "See the caveats in the documentation: https://pandas.pydata.org/pandas-docs/stable/user_guide/indexing.html#returning-a-view-versus-a-copy\n",
      "  if __name__ == '__main__':\n",
      "/projekte/tcl/tclext/kgc_chu/neuenv/lib/python3.7/site-packages/ipykernel_launcher.py:9: SettingWithCopyWarning: \n",
      "A value is trying to be set on a copy of a slice from a DataFrame.\n",
      "Try using .loc[row_indexer,col_indexer] = value instead\n",
      "\n",
      "See the caveats in the documentation: https://pandas.pydata.org/pandas-docs/stable/user_guide/indexing.html#returning-a-view-versus-a-copy\n",
      "  if __name__ == '__main__':\n"
     ]
    },
    {
     "name": "stderr",
     "output_type": "stream",
     "text": [
      "/projekte/tcl/tclext/kgc_chu/neuenv/lib/python3.7/site-packages/ipykernel_launcher.py:9: SettingWithCopyWarning: \n",
      "A value is trying to be set on a copy of a slice from a DataFrame.\n",
      "Try using .loc[row_indexer,col_indexer] = value instead\n",
      "\n",
      "See the caveats in the documentation: https://pandas.pydata.org/pandas-docs/stable/user_guide/indexing.html#returning-a-view-versus-a-copy\n",
      "  if __name__ == '__main__':\n",
      "/projekte/tcl/tclext/kgc_chu/neuenv/lib/python3.7/site-packages/ipykernel_launcher.py:9: SettingWithCopyWarning: \n",
      "A value is trying to be set on a copy of a slice from a DataFrame.\n",
      "Try using .loc[row_indexer,col_indexer] = value instead\n",
      "\n",
      "See the caveats in the documentation: https://pandas.pydata.org/pandas-docs/stable/user_guide/indexing.html#returning-a-view-versus-a-copy\n",
      "  if __name__ == '__main__':\n",
      "/projekte/tcl/tclext/kgc_chu/neuenv/lib/python3.7/site-packages/ipykernel_launcher.py:9: SettingWithCopyWarning: \n",
      "A value is trying to be set on a copy of a slice from a DataFrame.\n",
      "Try using .loc[row_indexer,col_indexer] = value instead\n",
      "\n",
      "See the caveats in the documentation: https://pandas.pydata.org/pandas-docs/stable/user_guide/indexing.html#returning-a-view-versus-a-copy\n",
      "  if __name__ == '__main__':\n",
      "/projekte/tcl/tclext/kgc_chu/neuenv/lib/python3.7/site-packages/ipykernel_launcher.py:9: SettingWithCopyWarning: \n",
      "A value is trying to be set on a copy of a slice from a DataFrame.\n",
      "Try using .loc[row_indexer,col_indexer] = value instead\n",
      "\n",
      "See the caveats in the documentation: https://pandas.pydata.org/pandas-docs/stable/user_guide/indexing.html#returning-a-view-versus-a-copy\n",
      "  if __name__ == '__main__':\n",
      "/projekte/tcl/tclext/kgc_chu/neuenv/lib/python3.7/site-packages/ipykernel_launcher.py:9: SettingWithCopyWarning: \n",
      "A value is trying to be set on a copy of a slice from a DataFrame.\n",
      "Try using .loc[row_indexer,col_indexer] = value instead\n",
      "\n",
      "See the caveats in the documentation: https://pandas.pydata.org/pandas-docs/stable/user_guide/indexing.html#returning-a-view-versus-a-copy\n",
      "  if __name__ == '__main__':\n",
      "/projekte/tcl/tclext/kgc_chu/neuenv/lib/python3.7/site-packages/ipykernel_launcher.py:9: SettingWithCopyWarning: \n",
      "A value is trying to be set on a copy of a slice from a DataFrame.\n",
      "Try using .loc[row_indexer,col_indexer] = value instead\n",
      "\n",
      "See the caveats in the documentation: https://pandas.pydata.org/pandas-docs/stable/user_guide/indexing.html#returning-a-view-versus-a-copy\n",
      "  if __name__ == '__main__':\n",
      "/projekte/tcl/tclext/kgc_chu/neuenv/lib/python3.7/site-packages/ipykernel_launcher.py:9: SettingWithCopyWarning: \n",
      "A value is trying to be set on a copy of a slice from a DataFrame.\n",
      "Try using .loc[row_indexer,col_indexer] = value instead\n",
      "\n",
      "See the caveats in the documentation: https://pandas.pydata.org/pandas-docs/stable/user_guide/indexing.html#returning-a-view-versus-a-copy\n",
      "  if __name__ == '__main__':\n",
      "/projekte/tcl/tclext/kgc_chu/neuenv/lib/python3.7/site-packages/ipykernel_launcher.py:9: SettingWithCopyWarning: \n",
      "A value is trying to be set on a copy of a slice from a DataFrame.\n",
      "Try using .loc[row_indexer,col_indexer] = value instead\n",
      "\n",
      "See the caveats in the documentation: https://pandas.pydata.org/pandas-docs/stable/user_guide/indexing.html#returning-a-view-versus-a-copy\n",
      "  if __name__ == '__main__':\n",
      "/projekte/tcl/tclext/kgc_chu/neuenv/lib/python3.7/site-packages/ipykernel_launcher.py:9: SettingWithCopyWarning: \n",
      "A value is trying to be set on a copy of a slice from a DataFrame.\n",
      "Try using .loc[row_indexer,col_indexer] = value instead\n",
      "\n",
      "See the caveats in the documentation: https://pandas.pydata.org/pandas-docs/stable/user_guide/indexing.html#returning-a-view-versus-a-copy\n",
      "  if __name__ == '__main__':\n",
      "/projekte/tcl/tclext/kgc_chu/neuenv/lib/python3.7/site-packages/ipykernel_launcher.py:9: SettingWithCopyWarning: \n",
      "A value is trying to be set on a copy of a slice from a DataFrame.\n",
      "Try using .loc[row_indexer,col_indexer] = value instead\n",
      "\n",
      "See the caveats in the documentation: https://pandas.pydata.org/pandas-docs/stable/user_guide/indexing.html#returning-a-view-versus-a-copy\n",
      "  if __name__ == '__main__':\n",
      "/projekte/tcl/tclext/kgc_chu/neuenv/lib/python3.7/site-packages/ipykernel_launcher.py:9: SettingWithCopyWarning: \n",
      "A value is trying to be set on a copy of a slice from a DataFrame.\n",
      "Try using .loc[row_indexer,col_indexer] = value instead\n",
      "\n",
      "See the caveats in the documentation: https://pandas.pydata.org/pandas-docs/stable/user_guide/indexing.html#returning-a-view-versus-a-copy\n",
      "  if __name__ == '__main__':\n",
      "/projekte/tcl/tclext/kgc_chu/neuenv/lib/python3.7/site-packages/ipykernel_launcher.py:9: SettingWithCopyWarning: \n",
      "A value is trying to be set on a copy of a slice from a DataFrame.\n",
      "Try using .loc[row_indexer,col_indexer] = value instead\n",
      "\n",
      "See the caveats in the documentation: https://pandas.pydata.org/pandas-docs/stable/user_guide/indexing.html#returning-a-view-versus-a-copy\n",
      "  if __name__ == '__main__':\n",
      "/projekte/tcl/tclext/kgc_chu/neuenv/lib/python3.7/site-packages/ipykernel_launcher.py:9: SettingWithCopyWarning: \n",
      "A value is trying to be set on a copy of a slice from a DataFrame.\n",
      "Try using .loc[row_indexer,col_indexer] = value instead\n",
      "\n",
      "See the caveats in the documentation: https://pandas.pydata.org/pandas-docs/stable/user_guide/indexing.html#returning-a-view-versus-a-copy\n",
      "  if __name__ == '__main__':\n",
      "/projekte/tcl/tclext/kgc_chu/neuenv/lib/python3.7/site-packages/ipykernel_launcher.py:9: SettingWithCopyWarning: \n",
      "A value is trying to be set on a copy of a slice from a DataFrame.\n",
      "Try using .loc[row_indexer,col_indexer] = value instead\n",
      "\n",
      "See the caveats in the documentation: https://pandas.pydata.org/pandas-docs/stable/user_guide/indexing.html#returning-a-view-versus-a-copy\n",
      "  if __name__ == '__main__':\n",
      "/projekte/tcl/tclext/kgc_chu/neuenv/lib/python3.7/site-packages/ipykernel_launcher.py:9: SettingWithCopyWarning: \n",
      "A value is trying to be set on a copy of a slice from a DataFrame.\n",
      "Try using .loc[row_indexer,col_indexer] = value instead\n",
      "\n",
      "See the caveats in the documentation: https://pandas.pydata.org/pandas-docs/stable/user_guide/indexing.html#returning-a-view-versus-a-copy\n",
      "  if __name__ == '__main__':\n",
      "/projekte/tcl/tclext/kgc_chu/neuenv/lib/python3.7/site-packages/ipykernel_launcher.py:9: SettingWithCopyWarning: \n",
      "A value is trying to be set on a copy of a slice from a DataFrame.\n",
      "Try using .loc[row_indexer,col_indexer] = value instead\n",
      "\n",
      "See the caveats in the documentation: https://pandas.pydata.org/pandas-docs/stable/user_guide/indexing.html#returning-a-view-versus-a-copy\n",
      "  if __name__ == '__main__':\n",
      "/projekte/tcl/tclext/kgc_chu/neuenv/lib/python3.7/site-packages/ipykernel_launcher.py:9: SettingWithCopyWarning: \n",
      "A value is trying to be set on a copy of a slice from a DataFrame.\n",
      "Try using .loc[row_indexer,col_indexer] = value instead\n",
      "\n",
      "See the caveats in the documentation: https://pandas.pydata.org/pandas-docs/stable/user_guide/indexing.html#returning-a-view-versus-a-copy\n",
      "  if __name__ == '__main__':\n",
      "/projekte/tcl/tclext/kgc_chu/neuenv/lib/python3.7/site-packages/ipykernel_launcher.py:9: SettingWithCopyWarning: \n",
      "A value is trying to be set on a copy of a slice from a DataFrame.\n",
      "Try using .loc[row_indexer,col_indexer] = value instead\n",
      "\n",
      "See the caveats in the documentation: https://pandas.pydata.org/pandas-docs/stable/user_guide/indexing.html#returning-a-view-versus-a-copy\n",
      "  if __name__ == '__main__':\n",
      "/projekte/tcl/tclext/kgc_chu/neuenv/lib/python3.7/site-packages/ipykernel_launcher.py:9: SettingWithCopyWarning: \n",
      "A value is trying to be set on a copy of a slice from a DataFrame.\n",
      "Try using .loc[row_indexer,col_indexer] = value instead\n",
      "\n",
      "See the caveats in the documentation: https://pandas.pydata.org/pandas-docs/stable/user_guide/indexing.html#returning-a-view-versus-a-copy\n",
      "  if __name__ == '__main__':\n",
      "/projekte/tcl/tclext/kgc_chu/neuenv/lib/python3.7/site-packages/ipykernel_launcher.py:9: SettingWithCopyWarning: \n",
      "A value is trying to be set on a copy of a slice from a DataFrame.\n",
      "Try using .loc[row_indexer,col_indexer] = value instead\n",
      "\n",
      "See the caveats in the documentation: https://pandas.pydata.org/pandas-docs/stable/user_guide/indexing.html#returning-a-view-versus-a-copy\n",
      "  if __name__ == '__main__':\n",
      "/projekte/tcl/tclext/kgc_chu/neuenv/lib/python3.7/site-packages/ipykernel_launcher.py:9: SettingWithCopyWarning: \n",
      "A value is trying to be set on a copy of a slice from a DataFrame.\n",
      "Try using .loc[row_indexer,col_indexer] = value instead\n",
      "\n",
      "See the caveats in the documentation: https://pandas.pydata.org/pandas-docs/stable/user_guide/indexing.html#returning-a-view-versus-a-copy\n",
      "  if __name__ == '__main__':\n",
      "/projekte/tcl/tclext/kgc_chu/neuenv/lib/python3.7/site-packages/ipykernel_launcher.py:9: SettingWithCopyWarning: \n",
      "A value is trying to be set on a copy of a slice from a DataFrame.\n",
      "Try using .loc[row_indexer,col_indexer] = value instead\n",
      "\n",
      "See the caveats in the documentation: https://pandas.pydata.org/pandas-docs/stable/user_guide/indexing.html#returning-a-view-versus-a-copy\n",
      "  if __name__ == '__main__':\n",
      "/projekte/tcl/tclext/kgc_chu/neuenv/lib/python3.7/site-packages/ipykernel_launcher.py:9: SettingWithCopyWarning: \n",
      "A value is trying to be set on a copy of a slice from a DataFrame.\n",
      "Try using .loc[row_indexer,col_indexer] = value instead\n",
      "\n",
      "See the caveats in the documentation: https://pandas.pydata.org/pandas-docs/stable/user_guide/indexing.html#returning-a-view-versus-a-copy\n",
      "  if __name__ == '__main__':\n",
      "/projekte/tcl/tclext/kgc_chu/neuenv/lib/python3.7/site-packages/ipykernel_launcher.py:9: SettingWithCopyWarning: \n",
      "A value is trying to be set on a copy of a slice from a DataFrame.\n",
      "Try using .loc[row_indexer,col_indexer] = value instead\n",
      "\n",
      "See the caveats in the documentation: https://pandas.pydata.org/pandas-docs/stable/user_guide/indexing.html#returning-a-view-versus-a-copy\n",
      "  if __name__ == '__main__':\n"
     ]
    },
    {
     "name": "stderr",
     "output_type": "stream",
     "text": [
      "/projekte/tcl/tclext/kgc_chu/neuenv/lib/python3.7/site-packages/ipykernel_launcher.py:9: SettingWithCopyWarning: \n",
      "A value is trying to be set on a copy of a slice from a DataFrame.\n",
      "Try using .loc[row_indexer,col_indexer] = value instead\n",
      "\n",
      "See the caveats in the documentation: https://pandas.pydata.org/pandas-docs/stable/user_guide/indexing.html#returning-a-view-versus-a-copy\n",
      "  if __name__ == '__main__':\n",
      "/projekte/tcl/tclext/kgc_chu/neuenv/lib/python3.7/site-packages/ipykernel_launcher.py:9: SettingWithCopyWarning: \n",
      "A value is trying to be set on a copy of a slice from a DataFrame.\n",
      "Try using .loc[row_indexer,col_indexer] = value instead\n",
      "\n",
      "See the caveats in the documentation: https://pandas.pydata.org/pandas-docs/stable/user_guide/indexing.html#returning-a-view-versus-a-copy\n",
      "  if __name__ == '__main__':\n",
      "/projekte/tcl/tclext/kgc_chu/neuenv/lib/python3.7/site-packages/ipykernel_launcher.py:9: SettingWithCopyWarning: \n",
      "A value is trying to be set on a copy of a slice from a DataFrame.\n",
      "Try using .loc[row_indexer,col_indexer] = value instead\n",
      "\n",
      "See the caveats in the documentation: https://pandas.pydata.org/pandas-docs/stable/user_guide/indexing.html#returning-a-view-versus-a-copy\n",
      "  if __name__ == '__main__':\n",
      "/projekte/tcl/tclext/kgc_chu/neuenv/lib/python3.7/site-packages/ipykernel_launcher.py:9: SettingWithCopyWarning: \n",
      "A value is trying to be set on a copy of a slice from a DataFrame.\n",
      "Try using .loc[row_indexer,col_indexer] = value instead\n",
      "\n",
      "See the caveats in the documentation: https://pandas.pydata.org/pandas-docs/stable/user_guide/indexing.html#returning-a-view-versus-a-copy\n",
      "  if __name__ == '__main__':\n",
      "/projekte/tcl/tclext/kgc_chu/neuenv/lib/python3.7/site-packages/ipykernel_launcher.py:9: SettingWithCopyWarning: \n",
      "A value is trying to be set on a copy of a slice from a DataFrame.\n",
      "Try using .loc[row_indexer,col_indexer] = value instead\n",
      "\n",
      "See the caveats in the documentation: https://pandas.pydata.org/pandas-docs/stable/user_guide/indexing.html#returning-a-view-versus-a-copy\n",
      "  if __name__ == '__main__':\n",
      "/projekte/tcl/tclext/kgc_chu/neuenv/lib/python3.7/site-packages/ipykernel_launcher.py:9: SettingWithCopyWarning: \n",
      "A value is trying to be set on a copy of a slice from a DataFrame.\n",
      "Try using .loc[row_indexer,col_indexer] = value instead\n",
      "\n",
      "See the caveats in the documentation: https://pandas.pydata.org/pandas-docs/stable/user_guide/indexing.html#returning-a-view-versus-a-copy\n",
      "  if __name__ == '__main__':\n",
      "/projekte/tcl/tclext/kgc_chu/neuenv/lib/python3.7/site-packages/ipykernel_launcher.py:9: SettingWithCopyWarning: \n",
      "A value is trying to be set on a copy of a slice from a DataFrame.\n",
      "Try using .loc[row_indexer,col_indexer] = value instead\n",
      "\n",
      "See the caveats in the documentation: https://pandas.pydata.org/pandas-docs/stable/user_guide/indexing.html#returning-a-view-versus-a-copy\n",
      "  if __name__ == '__main__':\n",
      "/projekte/tcl/tclext/kgc_chu/neuenv/lib/python3.7/site-packages/ipykernel_launcher.py:9: SettingWithCopyWarning: \n",
      "A value is trying to be set on a copy of a slice from a DataFrame.\n",
      "Try using .loc[row_indexer,col_indexer] = value instead\n",
      "\n",
      "See the caveats in the documentation: https://pandas.pydata.org/pandas-docs/stable/user_guide/indexing.html#returning-a-view-versus-a-copy\n",
      "  if __name__ == '__main__':\n",
      "/projekte/tcl/tclext/kgc_chu/neuenv/lib/python3.7/site-packages/ipykernel_launcher.py:9: SettingWithCopyWarning: \n",
      "A value is trying to be set on a copy of a slice from a DataFrame.\n",
      "Try using .loc[row_indexer,col_indexer] = value instead\n",
      "\n",
      "See the caveats in the documentation: https://pandas.pydata.org/pandas-docs/stable/user_guide/indexing.html#returning-a-view-versus-a-copy\n",
      "  if __name__ == '__main__':\n",
      "/projekte/tcl/tclext/kgc_chu/neuenv/lib/python3.7/site-packages/ipykernel_launcher.py:9: SettingWithCopyWarning: \n",
      "A value is trying to be set on a copy of a slice from a DataFrame.\n",
      "Try using .loc[row_indexer,col_indexer] = value instead\n",
      "\n",
      "See the caveats in the documentation: https://pandas.pydata.org/pandas-docs/stable/user_guide/indexing.html#returning-a-view-versus-a-copy\n",
      "  if __name__ == '__main__':\n"
     ]
    }
   ],
   "source": [
    "from sklearn.preprocessing import StandardScaler,MinMaxScaler\n",
    "def v_scale(attdf):\n",
    "    scaler = MinMaxScaler()\n",
    "    minmax_scaler = scaler.fit(attdf.v.to_numpy().reshape(-1,1))\n",
    "    return minmax_scaler\n",
    "alist=list(attri_data_train[\"a\"].unique())\n",
    "for a_name in alist:\n",
    "    attdf = df[df[\"a\"]==a_name]\n",
    "    attdf['pred_y']= v_scale(attri_data_train[attri_data_train['a']==a_name]).inverse_transform(attdf.pred_h.to_numpy().reshape(-1,1))\n",
    "    df.loc[attdf.index,'pred_v']=attdf['pred_y']"
   ]
  },
  {
   "cell_type": "code",
   "execution_count": 17,
   "id": "fb487b65",
   "metadata": {
    "scrolled": true
   },
   "outputs": [
    {
     "data": {
      "text/plain": [
       "count    2.963100e+04\n",
       "mean     8.823350e+26\n",
       "std      6.217304e+27\n",
       "min      1.526874e-03\n",
       "25%      7.423304e+01\n",
       "50%      2.323461e+02\n",
       "75%      9.115955e+03\n",
       "max      1.130839e+29\n",
       "Name: mae, dtype: float64"
      ]
     },
     "execution_count": 17,
     "metadata": {},
     "output_type": "execute_result"
    }
   ],
   "source": [
    "df['mae']=abs(df['pred_v'] - df['true_v'])\n",
    "df['mae'].describe()"
   ]
  },
  {
   "cell_type": "code",
   "execution_count": 14,
   "id": "ae6eb333",
   "metadata": {},
   "outputs": [],
   "source": [
    "list_var=['P625_Longtiude','P625_Latitude','P2048','P569','P570','P2031','P2032','P2046','P1082','P2299','P4010']\n",
    "def var_mae(att):\n",
    "    attdf= df[df['a']==att]\n",
    "    attdf['mae']=abs(attdf['true_v']-attdf['pred_v'])\n",
    "    return np.mean(attdf['mae'])"
   ]
  },
  {
   "cell_type": "code",
   "execution_count": null,
   "id": "5cbe6b8f",
   "metadata": {},
   "outputs": [],
   "source": [
    "attdf['mae']=abs(attdf['true_v']-attdf['pred_v'])"
   ]
  },
  {
   "cell_type": "code",
   "execution_count": 14,
   "id": "995e6c18",
   "metadata": {},
   "outputs": [
    {
     "name": "stdout",
     "output_type": "stream",
     "text": [
      "17.78959504856401\n",
      "6.249617991502992\n",
      "115.65544329638426\n",
      "58.39952075561841\n",
      "68.31007542304947\n",
      "20.813609703007067\n",
      "17.31484668578786\n",
      "1.2197058476573269e+17\n",
      "70225020.51540582\n",
      "10465.325924669398\n",
      "1821925727681.3474\n"
     ]
    },
    {
     "name": "stderr",
     "output_type": "stream",
     "text": [
      "/projekte/tcl/tclext/kgc_chu/neuenv/lib/python3.7/site-packages/ipykernel_launcher.py:4: SettingWithCopyWarning: \n",
      "A value is trying to be set on a copy of a slice from a DataFrame.\n",
      "Try using .loc[row_indexer,col_indexer] = value instead\n",
      "\n",
      "See the caveats in the documentation: https://pandas.pydata.org/pandas-docs/stable/user_guide/indexing.html#returning-a-view-versus-a-copy\n",
      "  after removing the cwd from sys.path.\n"
     ]
    }
   ],
   "source": [
    "for var in list_var:\n",
    "    print(var_mae(var))"
   ]
  },
  {
   "cell_type": "code",
   "execution_count": 15,
   "id": "2a6186d1",
   "metadata": {},
   "outputs": [
    {
     "ename": "NameError",
     "evalue": "name 'df' is not defined",
     "output_type": "error",
     "traceback": [
      "\u001b[0;31m---------------------------------------------------------------------------\u001b[0m",
      "\u001b[0;31mNameError\u001b[0m                                 Traceback (most recent call last)",
      "\u001b[0;32m/tmp/ipykernel_69164/1396537375.py\u001b[0m in \u001b[0;36m<module>\u001b[0;34m\u001b[0m\n\u001b[0;32m----> 1\u001b[0;31m \u001b[0mdf\u001b[0m\u001b[0;34m\u001b[0m\u001b[0;34m\u001b[0m\u001b[0m\n\u001b[0m",
      "\u001b[0;31mNameError\u001b[0m: name 'df' is not defined"
     ]
    }
   ],
   "source": [
    "df"
   ]
  },
  {
   "cell_type": "code",
   "execution_count": 54,
   "id": "c5507fca",
   "metadata": {
    "scrolled": true
   },
   "outputs": [],
   "source": [
    "# birth should above 1593\n",
    "birth=df[df['a']=='P569']"
   ]
  },
  {
   "cell_type": "code",
   "execution_count": 55,
   "id": "aaad18ca",
   "metadata": {
    "scrolled": false
   },
   "outputs": [],
   "source": [
    "# death\n",
    "death=df[df['a']=='P570']"
   ]
  },
  {
   "cell_type": "code",
   "execution_count": 58,
   "id": "15cc987b",
   "metadata": {
    "scrolled": true
   },
   "outputs": [],
   "source": [
    "df_merge= birth.merge(death, how='inner', on = 'e')"
   ]
  },
  {
   "cell_type": "code",
   "execution_count": 62,
   "id": "2a40a19c",
   "metadata": {
    "scrolled": true
   },
   "outputs": [
    {
     "data": {
      "text/html": [
       "<div>\n",
       "<style scoped>\n",
       "    .dataframe tbody tr th:only-of-type {\n",
       "        vertical-align: middle;\n",
       "    }\n",
       "\n",
       "    .dataframe tbody tr th {\n",
       "        vertical-align: top;\n",
       "    }\n",
       "\n",
       "    .dataframe thead th {\n",
       "        text-align: right;\n",
       "    }\n",
       "</style>\n",
       "<table border=\"1\" class=\"dataframe\">\n",
       "  <thead>\n",
       "    <tr style=\"text-align: right;\">\n",
       "      <th></th>\n",
       "      <th>pred_v_x</th>\n",
       "      <th>pred_v_y</th>\n",
       "    </tr>\n",
       "  </thead>\n",
       "  <tbody>\n",
       "    <tr>\n",
       "      <th>0</th>\n",
       "      <td>1899.026444</td>\n",
       "      <td>1880.992980</td>\n",
       "    </tr>\n",
       "    <tr>\n",
       "      <th>1</th>\n",
       "      <td>1839.960926</td>\n",
       "      <td>1826.284322</td>\n",
       "    </tr>\n",
       "    <tr>\n",
       "      <th>2</th>\n",
       "      <td>1837.622351</td>\n",
       "      <td>1820.546758</td>\n",
       "    </tr>\n",
       "    <tr>\n",
       "      <th>3</th>\n",
       "      <td>1848.452231</td>\n",
       "      <td>1844.032992</td>\n",
       "    </tr>\n",
       "    <tr>\n",
       "      <th>4</th>\n",
       "      <td>1876.963478</td>\n",
       "      <td>1848.307868</td>\n",
       "    </tr>\n",
       "    <tr>\n",
       "      <th>5</th>\n",
       "      <td>1885.198930</td>\n",
       "      <td>1888.185269</td>\n",
       "    </tr>\n",
       "    <tr>\n",
       "      <th>6</th>\n",
       "      <td>1857.293819</td>\n",
       "      <td>1859.578222</td>\n",
       "    </tr>\n",
       "    <tr>\n",
       "      <th>7</th>\n",
       "      <td>1887.296486</td>\n",
       "      <td>1828.827924</td>\n",
       "    </tr>\n",
       "    <tr>\n",
       "      <th>8</th>\n",
       "      <td>1843.239497</td>\n",
       "      <td>1794.587104</td>\n",
       "    </tr>\n",
       "    <tr>\n",
       "      <th>9</th>\n",
       "      <td>1826.627048</td>\n",
       "      <td>1810.132434</td>\n",
       "    </tr>\n",
       "    <tr>\n",
       "      <th>10</th>\n",
       "      <td>1872.562784</td>\n",
       "      <td>1837.946107</td>\n",
       "    </tr>\n",
       "    <tr>\n",
       "      <th>11</th>\n",
       "      <td>1842.312485</td>\n",
       "      <td>1828.151780</td>\n",
       "    </tr>\n",
       "    <tr>\n",
       "      <th>12</th>\n",
       "      <td>1888.615247</td>\n",
       "      <td>1882.929765</td>\n",
       "    </tr>\n",
       "    <tr>\n",
       "      <th>13</th>\n",
       "      <td>1890.886547</td>\n",
       "      <td>1873.987726</td>\n",
       "    </tr>\n",
       "    <tr>\n",
       "      <th>14</th>\n",
       "      <td>1847.667045</td>\n",
       "      <td>1817.252131</td>\n",
       "    </tr>\n",
       "    <tr>\n",
       "      <th>15</th>\n",
       "      <td>1882.573529</td>\n",
       "      <td>1878.779526</td>\n",
       "    </tr>\n",
       "    <tr>\n",
       "      <th>16</th>\n",
       "      <td>1839.280661</td>\n",
       "      <td>1836.907402</td>\n",
       "    </tr>\n",
       "    <tr>\n",
       "      <th>17</th>\n",
       "      <td>1876.557136</td>\n",
       "      <td>1868.428615</td>\n",
       "    </tr>\n",
       "    <tr>\n",
       "      <th>18</th>\n",
       "      <td>1880.141690</td>\n",
       "      <td>1823.203827</td>\n",
       "    </tr>\n",
       "    <tr>\n",
       "      <th>19</th>\n",
       "      <td>1903.434495</td>\n",
       "      <td>1853.508161</td>\n",
       "    </tr>\n",
       "    <tr>\n",
       "      <th>20</th>\n",
       "      <td>1862.781722</td>\n",
       "      <td>1830.465123</td>\n",
       "    </tr>\n",
       "    <tr>\n",
       "      <th>21</th>\n",
       "      <td>1806.639407</td>\n",
       "      <td>1764.660184</td>\n",
       "    </tr>\n",
       "    <tr>\n",
       "      <th>22</th>\n",
       "      <td>1885.656829</td>\n",
       "      <td>1854.396545</td>\n",
       "    </tr>\n",
       "    <tr>\n",
       "      <th>23</th>\n",
       "      <td>1871.038661</td>\n",
       "      <td>1828.230564</td>\n",
       "    </tr>\n",
       "    <tr>\n",
       "      <th>24</th>\n",
       "      <td>1800.641969</td>\n",
       "      <td>1800.184124</td>\n",
       "    </tr>\n",
       "    <tr>\n",
       "      <th>25</th>\n",
       "      <td>1900.359577</td>\n",
       "      <td>1841.712083</td>\n",
       "    </tr>\n",
       "    <tr>\n",
       "      <th>26</th>\n",
       "      <td>1867.116488</td>\n",
       "      <td>1855.885136</td>\n",
       "    </tr>\n",
       "    <tr>\n",
       "      <th>27</th>\n",
       "      <td>1842.344565</td>\n",
       "      <td>1871.416808</td>\n",
       "    </tr>\n",
       "    <tr>\n",
       "      <th>28</th>\n",
       "      <td>1860.445700</td>\n",
       "      <td>1832.775281</td>\n",
       "    </tr>\n",
       "    <tr>\n",
       "      <th>29</th>\n",
       "      <td>1836.824180</td>\n",
       "      <td>1793.018196</td>\n",
       "    </tr>\n",
       "    <tr>\n",
       "      <th>30</th>\n",
       "      <td>1848.023297</td>\n",
       "      <td>1847.920519</td>\n",
       "    </tr>\n",
       "    <tr>\n",
       "      <th>31</th>\n",
       "      <td>1876.534604</td>\n",
       "      <td>1843.813982</td>\n",
       "    </tr>\n",
       "    <tr>\n",
       "      <th>32</th>\n",
       "      <td>1870.788959</td>\n",
       "      <td>1855.036393</td>\n",
       "    </tr>\n",
       "    <tr>\n",
       "      <th>33</th>\n",
       "      <td>1847.249849</td>\n",
       "      <td>1861.247477</td>\n",
       "    </tr>\n",
       "    <tr>\n",
       "      <th>34</th>\n",
       "      <td>1841.894606</td>\n",
       "      <td>1825.003611</td>\n",
       "    </tr>\n",
       "    <tr>\n",
       "      <th>35</th>\n",
       "      <td>1835.192663</td>\n",
       "      <td>1825.387874</td>\n",
       "    </tr>\n",
       "    <tr>\n",
       "      <th>36</th>\n",
       "      <td>1928.893637</td>\n",
       "      <td>1866.896840</td>\n",
       "    </tr>\n",
       "    <tr>\n",
       "      <th>37</th>\n",
       "      <td>1844.189624</td>\n",
       "      <td>1827.677325</td>\n",
       "    </tr>\n",
       "    <tr>\n",
       "      <th>38</th>\n",
       "      <td>1869.700685</td>\n",
       "      <td>1849.154959</td>\n",
       "    </tr>\n",
       "    <tr>\n",
       "      <th>39</th>\n",
       "      <td>1866.833480</td>\n",
       "      <td>1864.611570</td>\n",
       "    </tr>\n",
       "    <tr>\n",
       "      <th>40</th>\n",
       "      <td>1866.025762</td>\n",
       "      <td>1839.439158</td>\n",
       "    </tr>\n",
       "    <tr>\n",
       "      <th>41</th>\n",
       "      <td>1874.664440</td>\n",
       "      <td>1871.420790</td>\n",
       "    </tr>\n",
       "    <tr>\n",
       "      <th>42</th>\n",
       "      <td>1864.548814</td>\n",
       "      <td>1824.123291</td>\n",
       "    </tr>\n",
       "    <tr>\n",
       "      <th>43</th>\n",
       "      <td>1840.595402</td>\n",
       "      <td>1843.678196</td>\n",
       "    </tr>\n",
       "    <tr>\n",
       "      <th>44</th>\n",
       "      <td>1838.533082</td>\n",
       "      <td>1841.628959</td>\n",
       "    </tr>\n",
       "    <tr>\n",
       "      <th>45</th>\n",
       "      <td>1878.431180</td>\n",
       "      <td>1883.708644</td>\n",
       "    </tr>\n",
       "    <tr>\n",
       "      <th>46</th>\n",
       "      <td>1816.374641</td>\n",
       "      <td>1835.426695</td>\n",
       "    </tr>\n",
       "    <tr>\n",
       "      <th>47</th>\n",
       "      <td>1847.014820</td>\n",
       "      <td>1825.236439</td>\n",
       "    </tr>\n",
       "    <tr>\n",
       "      <th>48</th>\n",
       "      <td>1850.277311</td>\n",
       "      <td>1852.767310</td>\n",
       "    </tr>\n",
       "  </tbody>\n",
       "</table>\n",
       "</div>"
      ],
      "text/plain": [
       "       pred_v_x     pred_v_y\n",
       "0   1899.026444  1880.992980\n",
       "1   1839.960926  1826.284322\n",
       "2   1837.622351  1820.546758\n",
       "3   1848.452231  1844.032992\n",
       "4   1876.963478  1848.307868\n",
       "5   1885.198930  1888.185269\n",
       "6   1857.293819  1859.578222\n",
       "7   1887.296486  1828.827924\n",
       "8   1843.239497  1794.587104\n",
       "9   1826.627048  1810.132434\n",
       "10  1872.562784  1837.946107\n",
       "11  1842.312485  1828.151780\n",
       "12  1888.615247  1882.929765\n",
       "13  1890.886547  1873.987726\n",
       "14  1847.667045  1817.252131\n",
       "15  1882.573529  1878.779526\n",
       "16  1839.280661  1836.907402\n",
       "17  1876.557136  1868.428615\n",
       "18  1880.141690  1823.203827\n",
       "19  1903.434495  1853.508161\n",
       "20  1862.781722  1830.465123\n",
       "21  1806.639407  1764.660184\n",
       "22  1885.656829  1854.396545\n",
       "23  1871.038661  1828.230564\n",
       "24  1800.641969  1800.184124\n",
       "25  1900.359577  1841.712083\n",
       "26  1867.116488  1855.885136\n",
       "27  1842.344565  1871.416808\n",
       "28  1860.445700  1832.775281\n",
       "29  1836.824180  1793.018196\n",
       "30  1848.023297  1847.920519\n",
       "31  1876.534604  1843.813982\n",
       "32  1870.788959  1855.036393\n",
       "33  1847.249849  1861.247477\n",
       "34  1841.894606  1825.003611\n",
       "35  1835.192663  1825.387874\n",
       "36  1928.893637  1866.896840\n",
       "37  1844.189624  1827.677325\n",
       "38  1869.700685  1849.154959\n",
       "39  1866.833480  1864.611570\n",
       "40  1866.025762  1839.439158\n",
       "41  1874.664440  1871.420790\n",
       "42  1864.548814  1824.123291\n",
       "43  1840.595402  1843.678196\n",
       "44  1838.533082  1841.628959\n",
       "45  1878.431180  1883.708644\n",
       "46  1816.374641  1835.426695\n",
       "47  1847.014820  1825.236439\n",
       "48  1850.277311  1852.767310"
      ]
     },
     "execution_count": 62,
     "metadata": {},
     "output_type": "execute_result"
    }
   ],
   "source": [
    "# death year < birth year\n",
    "df_merge[['pred_v_x','pred_v_y']]"
   ]
  },
  {
   "cell_type": "code",
   "execution_count": 17,
   "id": "b2ef43c8",
   "metadata": {
    "collapsed": true
   },
   "outputs": [
    {
     "data": {
      "text/html": [
       "<div>\n",
       "<style scoped>\n",
       "    .dataframe tbody tr th:only-of-type {\n",
       "        vertical-align: middle;\n",
       "    }\n",
       "\n",
       "    .dataframe tbody tr th {\n",
       "        vertical-align: top;\n",
       "    }\n",
       "\n",
       "    .dataframe thead th {\n",
       "        text-align: right;\n",
       "    }\n",
       "</style>\n",
       "<table border=\"1\" class=\"dataframe\">\n",
       "  <thead>\n",
       "    <tr style=\"text-align: right;\">\n",
       "      <th></th>\n",
       "      <th>idx</th>\n",
       "      <th>e</th>\n",
       "      <th>a</th>\n",
       "      <th>pred_h</th>\n",
       "      <th>target_h</th>\n",
       "      <th>v</th>\n",
       "      <th>pred_v</th>\n",
       "    </tr>\n",
       "  </thead>\n",
       "  <tbody>\n",
       "    <tr>\n",
       "      <th>4</th>\n",
       "      <td>4</td>\n",
       "      <td>8117.0</td>\n",
       "      <td>P2048</td>\n",
       "      <td>0.012723</td>\n",
       "      <td>0.000169</td>\n",
       "      <td>1.73</td>\n",
       "      <td>12.797763</td>\n",
       "    </tr>\n",
       "    <tr>\n",
       "      <th>24</th>\n",
       "      <td>24</td>\n",
       "      <td>9523.0</td>\n",
       "      <td>P2048</td>\n",
       "      <td>0.001190</td>\n",
       "      <td>0.000177</td>\n",
       "      <td>1.80</td>\n",
       "      <td>1.266363</td>\n",
       "    </tr>\n",
       "    <tr>\n",
       "      <th>26</th>\n",
       "      <td>26</td>\n",
       "      <td>24183.0</td>\n",
       "      <td>P2048</td>\n",
       "      <td>0.004270</td>\n",
       "      <td>0.000169</td>\n",
       "      <td>1.73</td>\n",
       "      <td>4.345667</td>\n",
       "    </tr>\n",
       "    <tr>\n",
       "      <th>95</th>\n",
       "      <td>95</td>\n",
       "      <td>1917.0</td>\n",
       "      <td>P2048</td>\n",
       "      <td>0.039115</td>\n",
       "      <td>0.000187</td>\n",
       "      <td>1.90</td>\n",
       "      <td>39.187771</td>\n",
       "    </tr>\n",
       "    <tr>\n",
       "      <th>163</th>\n",
       "      <td>163</td>\n",
       "      <td>34517.0</td>\n",
       "      <td>P2048</td>\n",
       "      <td>0.002110</td>\n",
       "      <td>0.000189</td>\n",
       "      <td>1.92</td>\n",
       "      <td>2.186318</td>\n",
       "    </tr>\n",
       "    <tr>\n",
       "      <th>...</th>\n",
       "      <td>...</td>\n",
       "      <td>...</td>\n",
       "      <td>...</td>\n",
       "      <td>...</td>\n",
       "      <td>...</td>\n",
       "      <td>...</td>\n",
       "      <td>...</td>\n",
       "    </tr>\n",
       "    <tr>\n",
       "      <th>29528</th>\n",
       "      <td>29528</td>\n",
       "      <td>8390.0</td>\n",
       "      <td>P2048</td>\n",
       "      <td>0.007564</td>\n",
       "      <td>0.000180</td>\n",
       "      <td>1.83</td>\n",
       "      <td>7.639706</td>\n",
       "    </tr>\n",
       "    <tr>\n",
       "      <th>29547</th>\n",
       "      <td>29547</td>\n",
       "      <td>22078.0</td>\n",
       "      <td>P2048</td>\n",
       "      <td>0.015000</td>\n",
       "      <td>0.000167</td>\n",
       "      <td>1.71</td>\n",
       "      <td>15.075270</td>\n",
       "    </tr>\n",
       "    <tr>\n",
       "      <th>29577</th>\n",
       "      <td>29577</td>\n",
       "      <td>41705.0</td>\n",
       "      <td>P2048</td>\n",
       "      <td>0.015054</td>\n",
       "      <td>0.000187</td>\n",
       "      <td>1.90</td>\n",
       "      <td>15.129107</td>\n",
       "    </tr>\n",
       "    <tr>\n",
       "      <th>29611</th>\n",
       "      <td>29611</td>\n",
       "      <td>23215.0</td>\n",
       "      <td>P2048</td>\n",
       "      <td>-0.000035</td>\n",
       "      <td>0.000178</td>\n",
       "      <td>1.81</td>\n",
       "      <td>0.041164</td>\n",
       "    </tr>\n",
       "    <tr>\n",
       "      <th>29625</th>\n",
       "      <td>29625</td>\n",
       "      <td>33736.0</td>\n",
       "      <td>P2048</td>\n",
       "      <td>-0.006846</td>\n",
       "      <td>0.000214</td>\n",
       "      <td>2.16</td>\n",
       "      <td>-6.769324</td>\n",
       "    </tr>\n",
       "  </tbody>\n",
       "</table>\n",
       "<p>778 rows × 7 columns</p>\n",
       "</div>"
      ],
      "text/plain": [
       "         idx        e      a    pred_h  target_h     v     pred_v\n",
       "4          4   8117.0  P2048  0.012723  0.000169  1.73  12.797763\n",
       "24        24   9523.0  P2048  0.001190  0.000177  1.80   1.266363\n",
       "26        26  24183.0  P2048  0.004270  0.000169  1.73   4.345667\n",
       "95        95   1917.0  P2048  0.039115  0.000187  1.90  39.187771\n",
       "163      163  34517.0  P2048  0.002110  0.000189  1.92   2.186318\n",
       "...      ...      ...    ...       ...       ...   ...        ...\n",
       "29528  29528   8390.0  P2048  0.007564  0.000180  1.83   7.639706\n",
       "29547  29547  22078.0  P2048  0.015000  0.000167  1.71  15.075270\n",
       "29577  29577  41705.0  P2048  0.015054  0.000187  1.90  15.129107\n",
       "29611  29611  23215.0  P2048 -0.000035  0.000178  1.81   0.041164\n",
       "29625  29625  33736.0  P2048 -0.006846  0.000214  2.16  -6.769324\n",
       "\n",
       "[778 rows x 7 columns]"
      ]
     },
     "execution_count": 17,
     "metadata": {},
     "output_type": "execute_result"
    }
   ],
   "source": [
    "df[df['a']=='P2048']"
   ]
  },
  {
   "cell_type": "code",
   "execution_count": 64,
   "id": "12c67113",
   "metadata": {},
   "outputs": [
    {
     "data": {
      "text/html": [
       "<div>\n",
       "<style scoped>\n",
       "    .dataframe tbody tr th:only-of-type {\n",
       "        vertical-align: middle;\n",
       "    }\n",
       "\n",
       "    .dataframe tbody tr th {\n",
       "        vertical-align: top;\n",
       "    }\n",
       "\n",
       "    .dataframe thead th {\n",
       "        text-align: right;\n",
       "    }\n",
       "</style>\n",
       "<table border=\"1\" class=\"dataframe\">\n",
       "  <thead>\n",
       "    <tr style=\"text-align: right;\">\n",
       "      <th></th>\n",
       "      <th>id</th>\n",
       "      <th>pred_y</th>\n",
       "      <th>target_y</th>\n",
       "      <th>true_v</th>\n",
       "      <th>a</th>\n",
       "      <th>pred_v</th>\n",
       "      <th>e</th>\n",
       "    </tr>\n",
       "  </thead>\n",
       "  <tbody>\n",
       "    <tr>\n",
       "      <th>6950</th>\n",
       "      <td>6950</td>\n",
       "      <td>-0.004641</td>\n",
       "      <td>2.256023e-04</td>\n",
       "      <td>9.394650e+05</td>\n",
       "      <td>P1082</td>\n",
       "      <td>-1.932566e+07</td>\n",
       "      <td>Q501602</td>\n",
       "    </tr>\n",
       "    <tr>\n",
       "      <th>8469</th>\n",
       "      <td>8469</td>\n",
       "      <td>-0.000432</td>\n",
       "      <td>5.175043e-08</td>\n",
       "      <td>3.151601e+11</td>\n",
       "      <td>P2046</td>\n",
       "      <td>-2.628064e+15</td>\n",
       "      <td>Q38272</td>\n",
       "    </tr>\n",
       "    <tr>\n",
       "      <th>8999</th>\n",
       "      <td>8999</td>\n",
       "      <td>-0.000444</td>\n",
       "      <td>1.383325e-11</td>\n",
       "      <td>8.424450e+07</td>\n",
       "      <td>P2046</td>\n",
       "      <td>-2.703022e+15</td>\n",
       "      <td>Q79638</td>\n",
       "    </tr>\n",
       "    <tr>\n",
       "      <th>9531</th>\n",
       "      <td>9531</td>\n",
       "      <td>-0.003685</td>\n",
       "      <td>6.748607e-05</td>\n",
       "      <td>2.810290e+05</td>\n",
       "      <td>P1082</td>\n",
       "      <td>-1.534464e+07</td>\n",
       "      <td>Q502348</td>\n",
       "    </tr>\n",
       "    <tr>\n",
       "      <th>12719</th>\n",
       "      <td>12719</td>\n",
       "      <td>-0.001930</td>\n",
       "      <td>1.770114e-05</td>\n",
       "      <td>7.371200e+04</td>\n",
       "      <td>P1082</td>\n",
       "      <td>-8.037000e+06</td>\n",
       "      <td>Q406015</td>\n",
       "    </tr>\n",
       "    <tr>\n",
       "      <th>14011</th>\n",
       "      <td>14011</td>\n",
       "      <td>-0.004332</td>\n",
       "      <td>1.197176e-08</td>\n",
       "      <td>7.290800e+10</td>\n",
       "      <td>P2046</td>\n",
       "      <td>-2.638046e+16</td>\n",
       "      <td>Q1965</td>\n",
       "    </tr>\n",
       "    <tr>\n",
       "      <th>14887</th>\n",
       "      <td>14887</td>\n",
       "      <td>-0.001861</td>\n",
       "      <td>8.293924e-13</td>\n",
       "      <td>5.051000e+06</td>\n",
       "      <td>P2046</td>\n",
       "      <td>-1.133552e+16</td>\n",
       "      <td>Q1734831</td>\n",
       "    </tr>\n",
       "    <tr>\n",
       "      <th>16882</th>\n",
       "      <td>16882</td>\n",
       "      <td>-0.002498</td>\n",
       "      <td>4.586658e-08</td>\n",
       "      <td>1.910000e+02</td>\n",
       "      <td>P1082</td>\n",
       "      <td>-1.040429e+07</td>\n",
       "      <td>Q530454</td>\n",
       "    </tr>\n",
       "    <tr>\n",
       "      <th>18016</th>\n",
       "      <td>18016</td>\n",
       "      <td>-0.005102</td>\n",
       "      <td>7.799671e-13</td>\n",
       "      <td>4.750000e+06</td>\n",
       "      <td>P2046</td>\n",
       "      <td>-3.106978e+16</td>\n",
       "      <td>Q62218</td>\n",
       "    </tr>\n",
       "  </tbody>\n",
       "</table>\n",
       "</div>"
      ],
      "text/plain": [
       "          id    pred_y      target_y        true_v      a        pred_v  \\\n",
       "6950    6950 -0.004641  2.256023e-04  9.394650e+05  P1082 -1.932566e+07   \n",
       "8469    8469 -0.000432  5.175043e-08  3.151601e+11  P2046 -2.628064e+15   \n",
       "8999    8999 -0.000444  1.383325e-11  8.424450e+07  P2046 -2.703022e+15   \n",
       "9531    9531 -0.003685  6.748607e-05  2.810290e+05  P1082 -1.534464e+07   \n",
       "12719  12719 -0.001930  1.770114e-05  7.371200e+04  P1082 -8.037000e+06   \n",
       "14011  14011 -0.004332  1.197176e-08  7.290800e+10  P2046 -2.638046e+16   \n",
       "14887  14887 -0.001861  8.293924e-13  5.051000e+06  P2046 -1.133552e+16   \n",
       "16882  16882 -0.002498  4.586658e-08  1.910000e+02  P1082 -1.040429e+07   \n",
       "18016  18016 -0.005102  7.799671e-13  4.750000e+06  P2046 -3.106978e+16   \n",
       "\n",
       "              e  \n",
       "6950    Q501602  \n",
       "8469     Q38272  \n",
       "8999     Q79638  \n",
       "9531    Q502348  \n",
       "12719   Q406015  \n",
       "14011     Q1965  \n",
       "14887  Q1734831  \n",
       "16882   Q530454  \n",
       "18016    Q62218  "
      ]
     },
     "execution_count": 64,
     "metadata": {},
     "output_type": "execute_result"
    }
   ],
   "source": [
    "df[df['pred_y']<0.0]"
   ]
  },
  {
   "cell_type": "code",
   "execution_count": 91,
   "id": "135a580c",
   "metadata": {},
   "outputs": [],
   "source": [
    "mean = attri_data_train.groupby('a').v.agg('mean')"
   ]
  },
  {
   "cell_type": "code",
   "execution_count": 110,
   "id": "38f9a94a",
   "metadata": {},
   "outputs": [
    {
     "data": {
      "text/plain": [
       "86"
      ]
     },
     "execution_count": 110,
     "metadata": {},
     "output_type": "execute_result"
    }
   ],
   "source": [
    "len(mean)"
   ]
  },
  {
   "cell_type": "code",
   "execution_count": 111,
   "id": "692b4f80",
   "metadata": {},
   "outputs": [],
   "source": [
    "dic = {mean.index[i]:mean[i] for i in range(len(mean))}"
   ]
  },
  {
   "cell_type": "code",
   "execution_count": 112,
   "id": "3628e43a",
   "metadata": {},
   "outputs": [],
   "source": [
    "attri_data['pred_mean'] = attri_data.a.map(dic)"
   ]
  },
  {
   "cell_type": "code",
   "execution_count": 114,
   "id": "751d9cee",
   "metadata": {},
   "outputs": [],
   "source": [
    "attri_data['mae'] = abs(attri_data['pred_mean']-attri_data['v'])\n",
    "attri_data['rmse'] = np.sqrt(attri_data['pred_mean']-attri_data['v'])**2)"
   ]
  },
  {
   "cell_type": "code",
   "execution_count": 140,
   "id": "209cd1c0",
   "metadata": {
    "scrolled": true
   },
   "outputs": [
    {
     "data": {
      "text/plain": [
       "0                                 3.46243\n",
       "1                             81133.21822\n",
       "2                                 3.02890\n",
       "3                               118.35780\n",
       "4                                 3.59811\n",
       "                       ...               \n",
       "29626                           673.24820\n",
       "29627   279016516793461476226498560.00000\n",
       "29628                           135.97788\n",
       "29629               353579465812408.06250\n",
       "29630                            70.37965\n",
       "Name: mae, Length: 29631, dtype: float64"
      ]
     },
     "execution_count": 140,
     "metadata": {},
     "output_type": "execute_result"
    }
   ],
   "source": [
    "attri_data['mae']"
   ]
  },
  {
   "cell_type": "code",
   "execution_count": 139,
   "id": "18252001",
   "metadata": {},
   "outputs": [
    {
     "ename": "TypeError",
     "evalue": "cannot convert the series to <class 'float'>",
     "output_type": "error",
     "traceback": [
      "\u001b[0;31m---------------------------------------------------------------------------\u001b[0m",
      "\u001b[0;31mTypeError\u001b[0m                                 Traceback (most recent call last)",
      "\u001b[0;32m/tmp/ipykernel_1960089/837496855.py\u001b[0m in \u001b[0;36m<module>\u001b[0;34m\u001b[0m\n\u001b[0;32m----> 1\u001b[0;31m \u001b[0mmath\u001b[0m\u001b[0;34m.\u001b[0m\u001b[0msqrt\u001b[0m\u001b[0;34m(\u001b[0m\u001b[0mabs\u001b[0m\u001b[0;34m(\u001b[0m\u001b[0mattri_data\u001b[0m\u001b[0;34m[\u001b[0m\u001b[0;34m'pred_mean'\u001b[0m\u001b[0;34m]\u001b[0m\u001b[0;34m-\u001b[0m\u001b[0mattri_data\u001b[0m\u001b[0;34m[\u001b[0m\u001b[0;34m'v'\u001b[0m\u001b[0;34m]\u001b[0m\u001b[0;34m)\u001b[0m\u001b[0;34m**\u001b[0m\u001b[0;36m2\u001b[0m\u001b[0;34m)\u001b[0m\u001b[0;34m,\u001b[0m\u001b[0mastype\u001b[0m\u001b[0;34m(\u001b[0m\u001b[0mfloat\u001b[0m\u001b[0;34m)\u001b[0m\u001b[0;34m\u001b[0m\u001b[0;34m\u001b[0m\u001b[0m\n\u001b[0m",
      "\u001b[0;32m/projekte/tcl/tclext/kgc_chu/neuenv/lib/python3.7/site-packages/pandas/core/series.py\u001b[0m in \u001b[0;36mwrapper\u001b[0;34m(self)\u001b[0m\n\u001b[1;32m    183\u001b[0m         \u001b[0;32mif\u001b[0m \u001b[0mlen\u001b[0m\u001b[0;34m(\u001b[0m\u001b[0mself\u001b[0m\u001b[0;34m)\u001b[0m \u001b[0;34m==\u001b[0m \u001b[0;36m1\u001b[0m\u001b[0;34m:\u001b[0m\u001b[0;34m\u001b[0m\u001b[0;34m\u001b[0m\u001b[0m\n\u001b[1;32m    184\u001b[0m             \u001b[0;32mreturn\u001b[0m \u001b[0mconverter\u001b[0m\u001b[0;34m(\u001b[0m\u001b[0mself\u001b[0m\u001b[0;34m.\u001b[0m\u001b[0miloc\u001b[0m\u001b[0;34m[\u001b[0m\u001b[0;36m0\u001b[0m\u001b[0;34m]\u001b[0m\u001b[0;34m)\u001b[0m\u001b[0;34m\u001b[0m\u001b[0;34m\u001b[0m\u001b[0m\n\u001b[0;32m--> 185\u001b[0;31m         \u001b[0;32mraise\u001b[0m \u001b[0mTypeError\u001b[0m\u001b[0;34m(\u001b[0m\u001b[0;34mf\"cannot convert the series to {converter}\"\u001b[0m\u001b[0;34m)\u001b[0m\u001b[0;34m\u001b[0m\u001b[0;34m\u001b[0m\u001b[0m\n\u001b[0m\u001b[1;32m    186\u001b[0m \u001b[0;34m\u001b[0m\u001b[0m\n\u001b[1;32m    187\u001b[0m     \u001b[0mwrapper\u001b[0m\u001b[0;34m.\u001b[0m\u001b[0m__name__\u001b[0m \u001b[0;34m=\u001b[0m \u001b[0;34mf\"__{converter.__name__}__\"\u001b[0m\u001b[0;34m\u001b[0m\u001b[0;34m\u001b[0m\u001b[0m\n",
      "\u001b[0;31mTypeError\u001b[0m: cannot convert the series to <class 'float'>"
     ]
    }
   ],
   "source": [
    "math.sqrt(abs(attri_data['pred_mean']-attri_data['v'])**2),astype(float)"
   ]
  },
  {
   "cell_type": "code",
   "execution_count": 135,
   "id": "087817bd",
   "metadata": {},
   "outputs": [
    {
     "data": {
      "text/html": [
       "<div>\n",
       "<style scoped>\n",
       "    .dataframe tbody tr th:only-of-type {\n",
       "        vertical-align: middle;\n",
       "    }\n",
       "\n",
       "    .dataframe tbody tr th {\n",
       "        vertical-align: top;\n",
       "    }\n",
       "\n",
       "    .dataframe thead th {\n",
       "        text-align: right;\n",
       "    }\n",
       "</style>\n",
       "<table border=\"1\" class=\"dataframe\">\n",
       "  <thead>\n",
       "    <tr style=\"text-align: right;\">\n",
       "      <th></th>\n",
       "      <th>e</th>\n",
       "      <th>a</th>\n",
       "      <th>v</th>\n",
       "      <th>name_e</th>\n",
       "      <th>name_a</th>\n",
       "      <th>ent_type</th>\n",
       "      <th>minmax</th>\n",
       "      <th>pred_mean</th>\n",
       "      <th>mae</th>\n",
       "      <th>rmse</th>\n",
       "    </tr>\n",
       "  </thead>\n",
       "  <tbody>\n",
       "    <tr>\n",
       "      <th>0</th>\n",
       "      <td>Q3376</td>\n",
       "      <td>P1334_Latitude</td>\n",
       "      <td>46.06556</td>\n",
       "      <td>Trento</td>\n",
       "      <td>coordinates of easternmost point</td>\n",
       "      <td>Q747074</td>\n",
       "      <td>0.69781</td>\n",
       "      <td>42.60313</td>\n",
       "      <td>3.46243</td>\n",
       "      <td>3.46243</td>\n",
       "    </tr>\n",
       "    <tr>\n",
       "      <th>1</th>\n",
       "      <td>Q170446</td>\n",
       "      <td>P1082</td>\n",
       "      <td>1094284.00000</td>\n",
       "      <td>Sumy Oblast</td>\n",
       "      <td>population</td>\n",
       "      <td>Q3348196</td>\n",
       "      <td>0.00026</td>\n",
       "      <td>1013150.78178</td>\n",
       "      <td>81133.21822</td>\n",
       "      <td>81133.21822</td>\n",
       "    </tr>\n",
       "    <tr>\n",
       "      <th>2</th>\n",
       "      <td>Q908156</td>\n",
       "      <td>P625_Latitude</td>\n",
       "      <td>38.21420</td>\n",
       "      <td>Namboku Line</td>\n",
       "      <td>coordinate location(latitude)</td>\n",
       "      <td>Q15079663</td>\n",
       "      <td>0.71230</td>\n",
       "      <td>41.24310</td>\n",
       "      <td>3.02890</td>\n",
       "      <td>3.02890</td>\n",
       "    </tr>\n",
       "    <tr>\n",
       "      <th>3</th>\n",
       "      <td>Q423</td>\n",
       "      <td>P1332_Longtiude</td>\n",
       "      <td>129.93000</td>\n",
       "      <td>North Korea</td>\n",
       "      <td>coordinates of northernmost point</td>\n",
       "      <td>Q6256</td>\n",
       "      <td>0.86881</td>\n",
       "      <td>11.57220</td>\n",
       "      <td>118.35780</td>\n",
       "      <td>118.35780</td>\n",
       "    </tr>\n",
       "    <tr>\n",
       "      <th>4</th>\n",
       "      <td>Q611033</td>\n",
       "      <td>P2048</td>\n",
       "      <td>1.73000</td>\n",
       "      <td>José Antonio Castro</td>\n",
       "      <td>height</td>\n",
       "      <td>Q5</td>\n",
       "      <td>0.00017</td>\n",
       "      <td>5.32811</td>\n",
       "      <td>3.59811</td>\n",
       "      <td>3.59811</td>\n",
       "    </tr>\n",
       "    <tr>\n",
       "      <th>...</th>\n",
       "      <td>...</td>\n",
       "      <td>...</td>\n",
       "      <td>...</td>\n",
       "      <td>...</td>\n",
       "      <td>...</td>\n",
       "      <td>...</td>\n",
       "      <td>...</td>\n",
       "      <td>...</td>\n",
       "      <td>...</td>\n",
       "      <td>...</td>\n",
       "    </tr>\n",
       "    <tr>\n",
       "      <th>29626</th>\n",
       "      <td>Q1754</td>\n",
       "      <td>P571</td>\n",
       "      <td>1187.00000</td>\n",
       "      <td>Stockholm</td>\n",
       "      <td>inception</td>\n",
       "      <td>Q707813</td>\n",
       "      <td>0.72047</td>\n",
       "      <td>1860.24820</td>\n",
       "      <td>673.24820</td>\n",
       "      <td>673.24820</td>\n",
       "    </tr>\n",
       "    <tr>\n",
       "      <th>29627</th>\n",
       "      <td>Q531135</td>\n",
       "      <td>P2067</td>\n",
       "      <td>70.00000</td>\n",
       "      <td>Richard Witschge</td>\n",
       "      <td>mass</td>\n",
       "      <td>Q5</td>\n",
       "      <td>0.00000</td>\n",
       "      <td>279016516793461476226498560.00000</td>\n",
       "      <td>279016516793461476226498560.00000</td>\n",
       "      <td>279016516793461476226498560.00000</td>\n",
       "    </tr>\n",
       "    <tr>\n",
       "      <th>29628</th>\n",
       "      <td>Q1689057</td>\n",
       "      <td>P6546</td>\n",
       "      <td>268.00000</td>\n",
       "      <td>Jim Campbell</td>\n",
       "      <td>penalty minutes in career</td>\n",
       "      <td>Q5</td>\n",
       "      <td>0.06702</td>\n",
       "      <td>403.97788</td>\n",
       "      <td>135.97788</td>\n",
       "      <td>135.97788</td>\n",
       "    </tr>\n",
       "    <tr>\n",
       "      <th>29629</th>\n",
       "      <td>Q46246</td>\n",
       "      <td>P2046</td>\n",
       "      <td>12270000.00000</td>\n",
       "      <td>Cazzano di Tramigna</td>\n",
       "      <td>area</td>\n",
       "      <td>Q747074</td>\n",
       "      <td>0.00000</td>\n",
       "      <td>353579478082408.06250</td>\n",
       "      <td>353579465812408.06250</td>\n",
       "      <td>353579465812408.06250</td>\n",
       "    </tr>\n",
       "    <tr>\n",
       "      <th>29630</th>\n",
       "      <td>Q583267</td>\n",
       "      <td>P6509</td>\n",
       "      <td>9.00000</td>\n",
       "      <td>Juha Lind</td>\n",
       "      <td>total goals in career</td>\n",
       "      <td>Q5</td>\n",
       "      <td>0.01000</td>\n",
       "      <td>79.37965</td>\n",
       "      <td>70.37965</td>\n",
       "      <td>70.37965</td>\n",
       "    </tr>\n",
       "  </tbody>\n",
       "</table>\n",
       "<p>29631 rows × 10 columns</p>\n",
       "</div>"
      ],
      "text/plain": [
       "              e                a              v               name_e  \\\n",
       "0         Q3376   P1334_Latitude       46.06556               Trento   \n",
       "1       Q170446            P1082  1094284.00000          Sumy Oblast   \n",
       "2       Q908156    P625_Latitude       38.21420         Namboku Line   \n",
       "3          Q423  P1332_Longtiude      129.93000          North Korea   \n",
       "4       Q611033            P2048        1.73000  José Antonio Castro   \n",
       "...         ...              ...            ...                  ...   \n",
       "29626     Q1754             P571     1187.00000            Stockholm   \n",
       "29627   Q531135            P2067       70.00000     Richard Witschge   \n",
       "29628  Q1689057            P6546      268.00000         Jim Campbell   \n",
       "29629    Q46246            P2046 12270000.00000  Cazzano di Tramigna   \n",
       "29630   Q583267            P6509        9.00000            Juha Lind   \n",
       "\n",
       "                                  name_a   ent_type  minmax  \\\n",
       "0       coordinates of easternmost point    Q747074 0.69781   \n",
       "1                             population   Q3348196 0.00026   \n",
       "2          coordinate location(latitude)  Q15079663 0.71230   \n",
       "3      coordinates of northernmost point      Q6256 0.86881   \n",
       "4                                 height         Q5 0.00017   \n",
       "...                                  ...        ...     ...   \n",
       "29626                          inception    Q707813 0.72047   \n",
       "29627                               mass         Q5 0.00000   \n",
       "29628          penalty minutes in career         Q5 0.06702   \n",
       "29629                               area    Q747074 0.00000   \n",
       "29630              total goals in career         Q5 0.01000   \n",
       "\n",
       "                              pred_mean                               mae  \\\n",
       "0                              42.60313                           3.46243   \n",
       "1                         1013150.78178                       81133.21822   \n",
       "2                              41.24310                           3.02890   \n",
       "3                              11.57220                         118.35780   \n",
       "4                               5.32811                           3.59811   \n",
       "...                                 ...                               ...   \n",
       "29626                        1860.24820                         673.24820   \n",
       "29627 279016516793461476226498560.00000 279016516793461476226498560.00000   \n",
       "29628                         403.97788                         135.97788   \n",
       "29629             353579478082408.06250             353579465812408.06250   \n",
       "29630                          79.37965                          70.37965   \n",
       "\n",
       "                                   rmse  \n",
       "0                               3.46243  \n",
       "1                           81133.21822  \n",
       "2                               3.02890  \n",
       "3                             118.35780  \n",
       "4                               3.59811  \n",
       "...                                 ...  \n",
       "29626                         673.24820  \n",
       "29627 279016516793461476226498560.00000  \n",
       "29628                         135.97788  \n",
       "29629             353579465812408.06250  \n",
       "29630                          70.37965  \n",
       "\n",
       "[29631 rows x 10 columns]"
      ]
     },
     "execution_count": 135,
     "metadata": {},
     "output_type": "execute_result"
    }
   ],
   "source": [
    "attri_data"
   ]
  },
  {
   "cell_type": "code",
   "execution_count": 125,
   "id": "2e878e8f",
   "metadata": {},
   "outputs": [],
   "source": [
    "mean_mae = attri_data.groupby('a').mae.agg('mean')\n",
    "mean_rmse = attri_data.groupby('a').rmse.agg('mean')"
   ]
  },
  {
   "cell_type": "code",
   "execution_count": 144,
   "id": "55e21211",
   "metadata": {
    "scrolled": true
   },
   "outputs": [
    {
     "data": {
      "text/plain": [
       "a\n",
       "P1082                    1733933.608\n",
       "P2031                         19.756\n",
       "P2032                         18.775\n",
       "P2046            353949799293925.312\n",
       "P2048                          5.419\n",
       "P2299                      15605.102\n",
       "P4010              1538337046513.800\n",
       "P569                          49.680\n",
       "P570                          93.635\n",
       "P625_Latitude                  7.348\n",
       "P625_Longtiude                39.628\n",
       "Name: mae, dtype: float64"
      ]
     },
     "execution_count": 144,
     "metadata": {},
     "output_type": "execute_result"
    }
   ],
   "source": [
    "mean_mae[mean_mae.index.isin(list_var)]"
   ]
  },
  {
   "cell_type": "code",
   "execution_count": 131,
   "id": "bf2addde",
   "metadata": {},
   "outputs": [
    {
     "data": {
      "text/plain": [
       "a\n",
       "P1082                    1733933.60799\n",
       "P2031                         19.75571\n",
       "P2032                         18.77460\n",
       "P2046            353949799293925.31250\n",
       "P2048                          5.41859\n",
       "P2299                      15605.10227\n",
       "P4010              1538337046513.80029\n",
       "P569                          49.67978\n",
       "P570                          93.63527\n",
       "P625_Latitude                  7.34758\n",
       "P625_Longtiude                39.62782\n",
       "Name: rmse, dtype: float64"
      ]
     },
     "execution_count": 131,
     "metadata": {},
     "output_type": "execute_result"
    }
   ],
   "source": [
    "mean_rmse[mean_rmse.index.isin(list_var)]"
   ]
  },
  {
   "cell_type": "code",
   "execution_count": 29,
   "id": "87f9de8a",
   "metadata": {
    "scrolled": false
   },
   "outputs": [
    {
     "name": "stdout",
     "output_type": "stream",
     "text": [
      "233.0    2496\n",
      "226.0    2495\n",
      "2.0      2175\n",
      "0.0      2144\n",
      "195.0    1593\n",
      "4.0       778\n",
      "200.0     705\n",
      "196.0     505\n",
      "201.0     330\n",
      "20.0       16\n",
      "25.0       16\n",
      "Name: a, dtype: int64\n",
      "         idx        e      a    pred_h  target_h       mae  square_mae\n",
      "19953  19953  28058.0    2.0 -0.972328 -0.006846  0.965481    0.932154\n",
      "8364    8364  55757.0    2.0 -0.949305 -0.006852  0.942453    0.888218\n",
      "20137  20137  11063.0    2.0 -0.052527 -0.006852  0.045675    0.002086\n",
      "16424  16424   5423.0    2.0 -0.975806 -0.006852  0.968954    0.938872\n",
      "13639  13639  47234.0    2.0 -0.976212 -0.006852  0.969360    0.939659\n",
      "...      ...      ...    ...       ...       ...       ...         ...\n",
      "9039    9039  14443.0  233.0 -0.935885 -1.691451  0.755567    0.570881\n",
      "25369  25369  41456.0  233.0 -0.664995  0.234039  0.899034    0.808262\n",
      "21964  21964  44001.0  233.0 -0.538297  0.195966  0.734263    0.539142\n",
      "25351  25351  34873.0  233.0 -0.952279 -1.553279  0.601000    0.361201\n",
      "2          2  23046.0  233.0 -0.515147  0.175239  0.690387    0.476634\n",
      "\n",
      "[4810 rows x 7 columns]\n",
      "------------preds a mae--------------------\n",
      "a\n",
      "0.0      1.041543\n",
      "2.0      0.879488\n",
      "4.0      0.690150\n",
      "20.0     1.143733\n",
      "25.0     2.023631\n",
      "195.0    0.695148\n",
      "196.0    0.756382\n",
      "200.0    0.690643\n",
      "201.0    0.787440\n",
      "226.0    0.957390\n",
      "233.0    1.050784\n",
      "Name: mae, dtype: float64\n",
      "------------preds a rmse--------------------\n",
      "a\n",
      "0.0      1.359616\n",
      "2.0      0.891211\n",
      "4.0      0.747391\n",
      "20.0     1.234514\n",
      "25.0     2.753384\n",
      "195.0    1.135832\n",
      "196.0    1.361828\n",
      "200.0    0.953192\n",
      "201.0    1.112925\n",
      "226.0    1.232856\n",
      "233.0    1.236392\n",
      "Name: square_mae, dtype: float64\n"
     ]
    }
   ],
   "source": [
    "\n",
    "# print(df[:20])\n",
    "# print('diff a len', len(df.a.unique()))\n",
    "df=var_r_df(df)\n",
    "#print(df[:40])\n",
    "#print(df.a.value_counts())\n",
    "df_preds=df[df['pred_h']<0.0]\n",
    "df_a25=df[df['a']==25]\n",
    "#print('number of pred == 1 is ',len(df_preds))\n",
    "print(df_preds)\n",
    "#print(df[:10])\n",
    "print(f'------------preds a mae--------------------')\n",
    "print(df.groupby('a').mae.agg('mean'))\n",
    "print(f'------------preds a rmse--------------------')\n",
    "square_v = df.groupby('a').square_mae.agg('mean')\n",
    "print(np.sqrt(square_v))\n"
   ]
  },
  {
   "cell_type": "code",
   "execution_count": null,
   "id": "0aa8ea40",
   "metadata": {},
   "outputs": [],
   "source": []
  },
  {
   "cell_type": "code",
   "execution_count": 25,
   "id": "9da3d50d",
   "metadata": {},
   "outputs": [],
   "source": [
    "valid_preds = pd.read_csv('/projekte/tcl/tclext/kgc/models_minmax/preds_result_model_minmax')"
   ]
  },
  {
   "cell_type": "code",
   "execution_count": 26,
   "id": "03609ee6",
   "metadata": {},
   "outputs": [],
   "source": [
    "attri_data.loc[:,'pred_y'] = valid_preds['pred_y']"
   ]
  },
  {
   "cell_type": "code",
   "execution_count": 27,
   "id": "60fd56d4",
   "metadata": {
    "scrolled": false
   },
   "outputs": [],
   "source": [
    "P1082 = attri_data[attri_data['a']=='P1082']"
   ]
  },
  {
   "cell_type": "code",
   "execution_count": 28,
   "id": "e1d2b870",
   "metadata": {},
   "outputs": [
    {
     "data": {
      "text/html": [
       "<div>\n",
       "<style scoped>\n",
       "    .dataframe tbody tr th:only-of-type {\n",
       "        vertical-align: middle;\n",
       "    }\n",
       "\n",
       "    .dataframe tbody tr th {\n",
       "        vertical-align: top;\n",
       "    }\n",
       "\n",
       "    .dataframe thead th {\n",
       "        text-align: right;\n",
       "    }\n",
       "</style>\n",
       "<table border=\"1\" class=\"dataframe\">\n",
       "  <thead>\n",
       "    <tr style=\"text-align: right;\">\n",
       "      <th></th>\n",
       "      <th>e</th>\n",
       "      <th>a</th>\n",
       "      <th>v</th>\n",
       "      <th>name_e</th>\n",
       "      <th>name_a</th>\n",
       "      <th>ent_type</th>\n",
       "      <th>minmax</th>\n",
       "      <th>mae</th>\n",
       "      <th>pred_y</th>\n",
       "    </tr>\n",
       "  </thead>\n",
       "  <tbody>\n",
       "    <tr>\n",
       "      <th>1</th>\n",
       "      <td>Q170446</td>\n",
       "      <td>P1082</td>\n",
       "      <td>1094284.0</td>\n",
       "      <td>Sumy Oblast</td>\n",
       "      <td>population</td>\n",
       "      <td>Q3348196</td>\n",
       "      <td>2.627804e-04</td>\n",
       "      <td>0.032233</td>\n",
       "      <td>0.032496</td>\n",
       "    </tr>\n",
       "    <tr>\n",
       "      <th>13</th>\n",
       "      <td>Q974</td>\n",
       "      <td>P1082</td>\n",
       "      <td>86790570.0</td>\n",
       "      <td>Democratic Republic of the Congo</td>\n",
       "      <td>population</td>\n",
       "      <td>Q6256</td>\n",
       "      <td>2.084182e-02</td>\n",
       "      <td>0.017371</td>\n",
       "      <td>0.038213</td>\n",
       "    </tr>\n",
       "    <tr>\n",
       "      <th>27</th>\n",
       "      <td>Q53284</td>\n",
       "      <td>P1082</td>\n",
       "      <td>1703.0</td>\n",
       "      <td>Moggio Udinese</td>\n",
       "      <td>population</td>\n",
       "      <td>Q747074</td>\n",
       "      <td>4.089570e-07</td>\n",
       "      <td>0.021095</td>\n",
       "      <td>0.021096</td>\n",
       "    </tr>\n",
       "    <tr>\n",
       "      <th>35</th>\n",
       "      <td>Q38022</td>\n",
       "      <td>P1082</td>\n",
       "      <td>318416.0</td>\n",
       "      <td>St. Louis</td>\n",
       "      <td>population</td>\n",
       "      <td>Q1549591</td>\n",
       "      <td>7.646415e-05</td>\n",
       "      <td>0.022218</td>\n",
       "      <td>0.022295</td>\n",
       "    </tr>\n",
       "    <tr>\n",
       "      <th>70</th>\n",
       "      <td>Q733833</td>\n",
       "      <td>P1082</td>\n",
       "      <td>8459.0</td>\n",
       "      <td>Pibrac</td>\n",
       "      <td>population</td>\n",
       "      <td>Q484170</td>\n",
       "      <td>2.031337e-06</td>\n",
       "      <td>0.020876</td>\n",
       "      <td>0.020878</td>\n",
       "    </tr>\n",
       "    <tr>\n",
       "      <th>...</th>\n",
       "      <td>...</td>\n",
       "      <td>...</td>\n",
       "      <td>...</td>\n",
       "      <td>...</td>\n",
       "      <td>...</td>\n",
       "      <td>...</td>\n",
       "      <td>...</td>\n",
       "      <td>...</td>\n",
       "      <td>...</td>\n",
       "    </tr>\n",
       "    <tr>\n",
       "      <th>29543</th>\n",
       "      <td>Q1368075</td>\n",
       "      <td>P1082</td>\n",
       "      <td>56.0</td>\n",
       "      <td>Suc-et-Sentenac</td>\n",
       "      <td>population</td>\n",
       "      <td>Q484170</td>\n",
       "      <td>1.344779e-08</td>\n",
       "      <td>0.027591</td>\n",
       "      <td>0.027591</td>\n",
       "    </tr>\n",
       "    <tr>\n",
       "      <th>29582</th>\n",
       "      <td>Q53872</td>\n",
       "      <td>P1082</td>\n",
       "      <td>9863.0</td>\n",
       "      <td>Crosia</td>\n",
       "      <td>population</td>\n",
       "      <td>Q747074</td>\n",
       "      <td>2.368493e-06</td>\n",
       "      <td>0.022213</td>\n",
       "      <td>0.022216</td>\n",
       "    </tr>\n",
       "    <tr>\n",
       "      <th>29583</th>\n",
       "      <td>Q507904</td>\n",
       "      <td>P1082</td>\n",
       "      <td>3465.0</td>\n",
       "      <td>Floß</td>\n",
       "      <td>population</td>\n",
       "      <td>Q562061</td>\n",
       "      <td>8.320822e-07</td>\n",
       "      <td>0.019395</td>\n",
       "      <td>0.019396</td>\n",
       "    </tr>\n",
       "    <tr>\n",
       "      <th>29590</th>\n",
       "      <td>Q23046289</td>\n",
       "      <td>P1082</td>\n",
       "      <td>22945.0</td>\n",
       "      <td>canton of Les Corbières Méditerranée</td>\n",
       "      <td>population</td>\n",
       "      <td>Q18524218</td>\n",
       "      <td>5.509993e-06</td>\n",
       "      <td>0.017403</td>\n",
       "      <td>0.017408</td>\n",
       "    </tr>\n",
       "    <tr>\n",
       "      <th>29594</th>\n",
       "      <td>Q101291</td>\n",
       "      <td>P1082</td>\n",
       "      <td>500.0</td>\n",
       "      <td>Olmo al Brembo</td>\n",
       "      <td>population</td>\n",
       "      <td>Q747074</td>\n",
       "      <td>1.200696e-07</td>\n",
       "      <td>0.036527</td>\n",
       "      <td>0.036527</td>\n",
       "    </tr>\n",
       "  </tbody>\n",
       "</table>\n",
       "<p>2144 rows × 9 columns</p>\n",
       "</div>"
      ],
      "text/plain": [
       "               e      a           v                                name_e  \\\n",
       "1        Q170446  P1082   1094284.0                           Sumy Oblast   \n",
       "13          Q974  P1082  86790570.0      Democratic Republic of the Congo   \n",
       "27        Q53284  P1082      1703.0                        Moggio Udinese   \n",
       "35        Q38022  P1082    318416.0                             St. Louis   \n",
       "70       Q733833  P1082      8459.0                                Pibrac   \n",
       "...          ...    ...         ...                                   ...   \n",
       "29543   Q1368075  P1082        56.0                       Suc-et-Sentenac   \n",
       "29582     Q53872  P1082      9863.0                                Crosia   \n",
       "29583    Q507904  P1082      3465.0                                  Floß   \n",
       "29590  Q23046289  P1082     22945.0  canton of Les Corbières Méditerranée   \n",
       "29594    Q101291  P1082       500.0                        Olmo al Brembo   \n",
       "\n",
       "           name_a   ent_type        minmax       mae    pred_y  \n",
       "1      population   Q3348196  2.627804e-04  0.032233  0.032496  \n",
       "13     population      Q6256  2.084182e-02  0.017371  0.038213  \n",
       "27     population    Q747074  4.089570e-07  0.021095  0.021096  \n",
       "35     population   Q1549591  7.646415e-05  0.022218  0.022295  \n",
       "70     population    Q484170  2.031337e-06  0.020876  0.020878  \n",
       "...           ...        ...           ...       ...       ...  \n",
       "29543  population    Q484170  1.344779e-08  0.027591  0.027591  \n",
       "29582  population    Q747074  2.368493e-06  0.022213  0.022216  \n",
       "29583  population    Q562061  8.320822e-07  0.019395  0.019396  \n",
       "29590  population  Q18524218  5.509993e-06  0.017403  0.017408  \n",
       "29594  population    Q747074  1.200696e-07  0.036527  0.036527  \n",
       "\n",
       "[2144 rows x 9 columns]"
      ]
     },
     "execution_count": 28,
     "metadata": {},
     "output_type": "execute_result"
    }
   ],
   "source": [
    "P1082"
   ]
  },
  {
   "cell_type": "code",
   "execution_count": 29,
   "id": "e09e3609",
   "metadata": {},
   "outputs": [
    {
     "name": "stderr",
     "output_type": "stream",
     "text": [
      "/projekte/tcl/tclext/kgc_chu/neuenv/lib/python3.7/site-packages/pandas/core/indexing.py:1667: SettingWithCopyWarning: \n",
      "A value is trying to be set on a copy of a slice from a DataFrame.\n",
      "Try using .loc[row_indexer,col_indexer] = value instead\n",
      "\n",
      "See the caveats in the documentation: https://pandas.pydata.org/pandas-docs/stable/user_guide/indexing.html#returning-a-view-versus-a-copy\n",
      "  self.obj[key] = value\n"
     ]
    }
   ],
   "source": [
    "P1082.loc[:,'pred_value'] = P1082['pred_y'] * 1.400000e+21"
   ]
  },
  {
   "cell_type": "code",
   "execution_count": 30,
   "id": "a63408be",
   "metadata": {},
   "outputs": [
    {
     "data": {
      "text/html": [
       "<div>\n",
       "<style scoped>\n",
       "    .dataframe tbody tr th:only-of-type {\n",
       "        vertical-align: middle;\n",
       "    }\n",
       "\n",
       "    .dataframe tbody tr th {\n",
       "        vertical-align: top;\n",
       "    }\n",
       "\n",
       "    .dataframe thead th {\n",
       "        text-align: right;\n",
       "    }\n",
       "</style>\n",
       "<table border=\"1\" class=\"dataframe\">\n",
       "  <thead>\n",
       "    <tr style=\"text-align: right;\">\n",
       "      <th></th>\n",
       "      <th>e</th>\n",
       "      <th>a</th>\n",
       "      <th>v</th>\n",
       "      <th>name_e</th>\n",
       "      <th>name_a</th>\n",
       "      <th>ent_type</th>\n",
       "      <th>minmax</th>\n",
       "      <th>mae</th>\n",
       "      <th>pred_y</th>\n",
       "      <th>pred_value</th>\n",
       "    </tr>\n",
       "  </thead>\n",
       "  <tbody>\n",
       "    <tr>\n",
       "      <th>1</th>\n",
       "      <td>Q170446</td>\n",
       "      <td>P1082</td>\n",
       "      <td>1094284.0</td>\n",
       "      <td>Sumy Oblast</td>\n",
       "      <td>population</td>\n",
       "      <td>Q3348196</td>\n",
       "      <td>2.627804e-04</td>\n",
       "      <td>0.032233</td>\n",
       "      <td>0.032496</td>\n",
       "      <td>4.549382e+19</td>\n",
       "    </tr>\n",
       "    <tr>\n",
       "      <th>13</th>\n",
       "      <td>Q974</td>\n",
       "      <td>P1082</td>\n",
       "      <td>86790570.0</td>\n",
       "      <td>Democratic Republic of the Congo</td>\n",
       "      <td>population</td>\n",
       "      <td>Q6256</td>\n",
       "      <td>2.084182e-02</td>\n",
       "      <td>0.017371</td>\n",
       "      <td>0.038213</td>\n",
       "      <td>5.349797e+19</td>\n",
       "    </tr>\n",
       "    <tr>\n",
       "      <th>27</th>\n",
       "      <td>Q53284</td>\n",
       "      <td>P1082</td>\n",
       "      <td>1703.0</td>\n",
       "      <td>Moggio Udinese</td>\n",
       "      <td>population</td>\n",
       "      <td>Q747074</td>\n",
       "      <td>4.089570e-07</td>\n",
       "      <td>0.021095</td>\n",
       "      <td>0.021096</td>\n",
       "      <td>2.953376e+19</td>\n",
       "    </tr>\n",
       "    <tr>\n",
       "      <th>35</th>\n",
       "      <td>Q38022</td>\n",
       "      <td>P1082</td>\n",
       "      <td>318416.0</td>\n",
       "      <td>St. Louis</td>\n",
       "      <td>population</td>\n",
       "      <td>Q1549591</td>\n",
       "      <td>7.646415e-05</td>\n",
       "      <td>0.022218</td>\n",
       "      <td>0.022295</td>\n",
       "      <td>3.121241e+19</td>\n",
       "    </tr>\n",
       "    <tr>\n",
       "      <th>70</th>\n",
       "      <td>Q733833</td>\n",
       "      <td>P1082</td>\n",
       "      <td>8459.0</td>\n",
       "      <td>Pibrac</td>\n",
       "      <td>population</td>\n",
       "      <td>Q484170</td>\n",
       "      <td>2.031337e-06</td>\n",
       "      <td>0.020876</td>\n",
       "      <td>0.020878</td>\n",
       "      <td>2.922918e+19</td>\n",
       "    </tr>\n",
       "    <tr>\n",
       "      <th>...</th>\n",
       "      <td>...</td>\n",
       "      <td>...</td>\n",
       "      <td>...</td>\n",
       "      <td>...</td>\n",
       "      <td>...</td>\n",
       "      <td>...</td>\n",
       "      <td>...</td>\n",
       "      <td>...</td>\n",
       "      <td>...</td>\n",
       "      <td>...</td>\n",
       "    </tr>\n",
       "    <tr>\n",
       "      <th>29543</th>\n",
       "      <td>Q1368075</td>\n",
       "      <td>P1082</td>\n",
       "      <td>56.0</td>\n",
       "      <td>Suc-et-Sentenac</td>\n",
       "      <td>population</td>\n",
       "      <td>Q484170</td>\n",
       "      <td>1.344779e-08</td>\n",
       "      <td>0.027591</td>\n",
       "      <td>0.027591</td>\n",
       "      <td>3.862780e+19</td>\n",
       "    </tr>\n",
       "    <tr>\n",
       "      <th>29582</th>\n",
       "      <td>Q53872</td>\n",
       "      <td>P1082</td>\n",
       "      <td>9863.0</td>\n",
       "      <td>Crosia</td>\n",
       "      <td>population</td>\n",
       "      <td>Q747074</td>\n",
       "      <td>2.368493e-06</td>\n",
       "      <td>0.022213</td>\n",
       "      <td>0.022216</td>\n",
       "      <td>3.110193e+19</td>\n",
       "    </tr>\n",
       "    <tr>\n",
       "      <th>29583</th>\n",
       "      <td>Q507904</td>\n",
       "      <td>P1082</td>\n",
       "      <td>3465.0</td>\n",
       "      <td>Floß</td>\n",
       "      <td>population</td>\n",
       "      <td>Q562061</td>\n",
       "      <td>8.320822e-07</td>\n",
       "      <td>0.019395</td>\n",
       "      <td>0.019396</td>\n",
       "      <td>2.715449e+19</td>\n",
       "    </tr>\n",
       "    <tr>\n",
       "      <th>29590</th>\n",
       "      <td>Q23046289</td>\n",
       "      <td>P1082</td>\n",
       "      <td>22945.0</td>\n",
       "      <td>canton of Les Corbières Méditerranée</td>\n",
       "      <td>population</td>\n",
       "      <td>Q18524218</td>\n",
       "      <td>5.509993e-06</td>\n",
       "      <td>0.017403</td>\n",
       "      <td>0.017408</td>\n",
       "      <td>2.437130e+19</td>\n",
       "    </tr>\n",
       "    <tr>\n",
       "      <th>29594</th>\n",
       "      <td>Q101291</td>\n",
       "      <td>P1082</td>\n",
       "      <td>500.0</td>\n",
       "      <td>Olmo al Brembo</td>\n",
       "      <td>population</td>\n",
       "      <td>Q747074</td>\n",
       "      <td>1.200696e-07</td>\n",
       "      <td>0.036527</td>\n",
       "      <td>0.036527</td>\n",
       "      <td>5.113777e+19</td>\n",
       "    </tr>\n",
       "  </tbody>\n",
       "</table>\n",
       "<p>2144 rows × 10 columns</p>\n",
       "</div>"
      ],
      "text/plain": [
       "               e      a           v                                name_e  \\\n",
       "1        Q170446  P1082   1094284.0                           Sumy Oblast   \n",
       "13          Q974  P1082  86790570.0      Democratic Republic of the Congo   \n",
       "27        Q53284  P1082      1703.0                        Moggio Udinese   \n",
       "35        Q38022  P1082    318416.0                             St. Louis   \n",
       "70       Q733833  P1082      8459.0                                Pibrac   \n",
       "...          ...    ...         ...                                   ...   \n",
       "29543   Q1368075  P1082        56.0                       Suc-et-Sentenac   \n",
       "29582     Q53872  P1082      9863.0                                Crosia   \n",
       "29583    Q507904  P1082      3465.0                                  Floß   \n",
       "29590  Q23046289  P1082     22945.0  canton of Les Corbières Méditerranée   \n",
       "29594    Q101291  P1082       500.0                        Olmo al Brembo   \n",
       "\n",
       "           name_a   ent_type        minmax       mae    pred_y    pred_value  \n",
       "1      population   Q3348196  2.627804e-04  0.032233  0.032496  4.549382e+19  \n",
       "13     population      Q6256  2.084182e-02  0.017371  0.038213  5.349797e+19  \n",
       "27     population    Q747074  4.089570e-07  0.021095  0.021096  2.953376e+19  \n",
       "35     population   Q1549591  7.646415e-05  0.022218  0.022295  3.121241e+19  \n",
       "70     population    Q484170  2.031337e-06  0.020876  0.020878  2.922918e+19  \n",
       "...           ...        ...           ...       ...       ...           ...  \n",
       "29543  population    Q484170  1.344779e-08  0.027591  0.027591  3.862780e+19  \n",
       "29582  population    Q747074  2.368493e-06  0.022213  0.022216  3.110193e+19  \n",
       "29583  population    Q562061  8.320822e-07  0.019395  0.019396  2.715449e+19  \n",
       "29590  population  Q18524218  5.509993e-06  0.017403  0.017408  2.437130e+19  \n",
       "29594  population    Q747074  1.200696e-07  0.036527  0.036527  5.113777e+19  \n",
       "\n",
       "[2144 rows x 10 columns]"
      ]
     },
     "execution_count": 30,
     "metadata": {},
     "output_type": "execute_result"
    }
   ],
   "source": [
    "P1082"
   ]
  },
  {
   "cell_type": "code",
   "execution_count": 15,
   "id": "c1336f5b",
   "metadata": {
    "scrolled": true
   },
   "outputs": [
    {
     "data": {
      "text/plain": [
       "count    2.963100e+04\n",
       "mean     4.725741e+16\n",
       "std      8.133077e+18\n",
       "min     -7.000000e+02\n",
       "25%      1.531864e+01\n",
       "50%      7.000000e+01\n",
       "75%      1.975000e+03\n",
       "max      1.400000e+21\n",
       "Name: v, dtype: float64"
      ]
     },
     "execution_count": 15,
     "metadata": {},
     "output_type": "execute_result"
    }
   ],
   "source": [
    "attri_data['v'].describe()"
   ]
  },
  {
   "cell_type": "code",
   "execution_count": 32,
   "id": "c25fcc92",
   "metadata": {},
   "outputs": [
    {
     "name": "stderr",
     "output_type": "stream",
     "text": [
      "/projekte/tcl/tclext/kgc_chu/neuenv/lib/python3.7/site-packages/pandas/core/indexing.py:1773: SettingWithCopyWarning: \n",
      "A value is trying to be set on a copy of a slice from a DataFrame.\n",
      "Try using .loc[row_indexer,col_indexer] = value instead\n",
      "\n",
      "See the caveats in the documentation: https://pandas.pydata.org/pandas-docs/stable/user_guide/indexing.html#returning-a-view-versus-a-copy\n",
      "  self._setitem_single_column(ilocs[0], value, pi)\n"
     ]
    }
   ],
   "source": [
    "P1082.loc[:,'mae']= abs(P1082['pred_value']-P1082['v'])"
   ]
  },
  {
   "cell_type": "code",
   "execution_count": 34,
   "id": "684d9b67",
   "metadata": {},
   "outputs": [
    {
     "data": {
      "text/html": [
       "<div>\n",
       "<style scoped>\n",
       "    .dataframe tbody tr th:only-of-type {\n",
       "        vertical-align: middle;\n",
       "    }\n",
       "\n",
       "    .dataframe tbody tr th {\n",
       "        vertical-align: top;\n",
       "    }\n",
       "\n",
       "    .dataframe thead th {\n",
       "        text-align: right;\n",
       "    }\n",
       "</style>\n",
       "<table border=\"1\" class=\"dataframe\">\n",
       "  <thead>\n",
       "    <tr style=\"text-align: right;\">\n",
       "      <th></th>\n",
       "      <th>e</th>\n",
       "      <th>a</th>\n",
       "      <th>v</th>\n",
       "      <th>name_e</th>\n",
       "      <th>name_a</th>\n",
       "      <th>ent_type</th>\n",
       "      <th>minmax</th>\n",
       "      <th>mae</th>\n",
       "      <th>pred_y</th>\n",
       "      <th>pred_value</th>\n",
       "    </tr>\n",
       "  </thead>\n",
       "  <tbody>\n",
       "    <tr>\n",
       "      <th>1</th>\n",
       "      <td>Q170446</td>\n",
       "      <td>P1082</td>\n",
       "      <td>1094284.0</td>\n",
       "      <td>Sumy Oblast</td>\n",
       "      <td>population</td>\n",
       "      <td>Q3348196</td>\n",
       "      <td>2.627804e-04</td>\n",
       "      <td>4.549382e+19</td>\n",
       "      <td>0.032496</td>\n",
       "      <td>4.549382e+19</td>\n",
       "    </tr>\n",
       "    <tr>\n",
       "      <th>13</th>\n",
       "      <td>Q974</td>\n",
       "      <td>P1082</td>\n",
       "      <td>86790570.0</td>\n",
       "      <td>Democratic Republic of the Congo</td>\n",
       "      <td>population</td>\n",
       "      <td>Q6256</td>\n",
       "      <td>2.084182e-02</td>\n",
       "      <td>5.349797e+19</td>\n",
       "      <td>0.038213</td>\n",
       "      <td>5.349797e+19</td>\n",
       "    </tr>\n",
       "    <tr>\n",
       "      <th>27</th>\n",
       "      <td>Q53284</td>\n",
       "      <td>P1082</td>\n",
       "      <td>1703.0</td>\n",
       "      <td>Moggio Udinese</td>\n",
       "      <td>population</td>\n",
       "      <td>Q747074</td>\n",
       "      <td>4.089570e-07</td>\n",
       "      <td>2.953376e+19</td>\n",
       "      <td>0.021096</td>\n",
       "      <td>2.953376e+19</td>\n",
       "    </tr>\n",
       "    <tr>\n",
       "      <th>35</th>\n",
       "      <td>Q38022</td>\n",
       "      <td>P1082</td>\n",
       "      <td>318416.0</td>\n",
       "      <td>St. Louis</td>\n",
       "      <td>population</td>\n",
       "      <td>Q1549591</td>\n",
       "      <td>7.646415e-05</td>\n",
       "      <td>3.121241e+19</td>\n",
       "      <td>0.022295</td>\n",
       "      <td>3.121241e+19</td>\n",
       "    </tr>\n",
       "    <tr>\n",
       "      <th>70</th>\n",
       "      <td>Q733833</td>\n",
       "      <td>P1082</td>\n",
       "      <td>8459.0</td>\n",
       "      <td>Pibrac</td>\n",
       "      <td>population</td>\n",
       "      <td>Q484170</td>\n",
       "      <td>2.031337e-06</td>\n",
       "      <td>2.922918e+19</td>\n",
       "      <td>0.020878</td>\n",
       "      <td>2.922918e+19</td>\n",
       "    </tr>\n",
       "    <tr>\n",
       "      <th>...</th>\n",
       "      <td>...</td>\n",
       "      <td>...</td>\n",
       "      <td>...</td>\n",
       "      <td>...</td>\n",
       "      <td>...</td>\n",
       "      <td>...</td>\n",
       "      <td>...</td>\n",
       "      <td>...</td>\n",
       "      <td>...</td>\n",
       "      <td>...</td>\n",
       "    </tr>\n",
       "    <tr>\n",
       "      <th>29543</th>\n",
       "      <td>Q1368075</td>\n",
       "      <td>P1082</td>\n",
       "      <td>56.0</td>\n",
       "      <td>Suc-et-Sentenac</td>\n",
       "      <td>population</td>\n",
       "      <td>Q484170</td>\n",
       "      <td>1.344779e-08</td>\n",
       "      <td>3.862780e+19</td>\n",
       "      <td>0.027591</td>\n",
       "      <td>3.862780e+19</td>\n",
       "    </tr>\n",
       "    <tr>\n",
       "      <th>29582</th>\n",
       "      <td>Q53872</td>\n",
       "      <td>P1082</td>\n",
       "      <td>9863.0</td>\n",
       "      <td>Crosia</td>\n",
       "      <td>population</td>\n",
       "      <td>Q747074</td>\n",
       "      <td>2.368493e-06</td>\n",
       "      <td>3.110193e+19</td>\n",
       "      <td>0.022216</td>\n",
       "      <td>3.110193e+19</td>\n",
       "    </tr>\n",
       "    <tr>\n",
       "      <th>29583</th>\n",
       "      <td>Q507904</td>\n",
       "      <td>P1082</td>\n",
       "      <td>3465.0</td>\n",
       "      <td>Floß</td>\n",
       "      <td>population</td>\n",
       "      <td>Q562061</td>\n",
       "      <td>8.320822e-07</td>\n",
       "      <td>2.715449e+19</td>\n",
       "      <td>0.019396</td>\n",
       "      <td>2.715449e+19</td>\n",
       "    </tr>\n",
       "    <tr>\n",
       "      <th>29590</th>\n",
       "      <td>Q23046289</td>\n",
       "      <td>P1082</td>\n",
       "      <td>22945.0</td>\n",
       "      <td>canton of Les Corbières Méditerranée</td>\n",
       "      <td>population</td>\n",
       "      <td>Q18524218</td>\n",
       "      <td>5.509993e-06</td>\n",
       "      <td>2.437130e+19</td>\n",
       "      <td>0.017408</td>\n",
       "      <td>2.437130e+19</td>\n",
       "    </tr>\n",
       "    <tr>\n",
       "      <th>29594</th>\n",
       "      <td>Q101291</td>\n",
       "      <td>P1082</td>\n",
       "      <td>500.0</td>\n",
       "      <td>Olmo al Brembo</td>\n",
       "      <td>population</td>\n",
       "      <td>Q747074</td>\n",
       "      <td>1.200696e-07</td>\n",
       "      <td>5.113777e+19</td>\n",
       "      <td>0.036527</td>\n",
       "      <td>5.113777e+19</td>\n",
       "    </tr>\n",
       "  </tbody>\n",
       "</table>\n",
       "<p>2144 rows × 10 columns</p>\n",
       "</div>"
      ],
      "text/plain": [
       "               e      a           v                                name_e  \\\n",
       "1        Q170446  P1082   1094284.0                           Sumy Oblast   \n",
       "13          Q974  P1082  86790570.0      Democratic Republic of the Congo   \n",
       "27        Q53284  P1082      1703.0                        Moggio Udinese   \n",
       "35        Q38022  P1082    318416.0                             St. Louis   \n",
       "70       Q733833  P1082      8459.0                                Pibrac   \n",
       "...          ...    ...         ...                                   ...   \n",
       "29543   Q1368075  P1082        56.0                       Suc-et-Sentenac   \n",
       "29582     Q53872  P1082      9863.0                                Crosia   \n",
       "29583    Q507904  P1082      3465.0                                  Floß   \n",
       "29590  Q23046289  P1082     22945.0  canton of Les Corbières Méditerranée   \n",
       "29594    Q101291  P1082       500.0                        Olmo al Brembo   \n",
       "\n",
       "           name_a   ent_type        minmax           mae    pred_y  \\\n",
       "1      population   Q3348196  2.627804e-04  4.549382e+19  0.032496   \n",
       "13     population      Q6256  2.084182e-02  5.349797e+19  0.038213   \n",
       "27     population    Q747074  4.089570e-07  2.953376e+19  0.021096   \n",
       "35     population   Q1549591  7.646415e-05  3.121241e+19  0.022295   \n",
       "70     population    Q484170  2.031337e-06  2.922918e+19  0.020878   \n",
       "...           ...        ...           ...           ...       ...   \n",
       "29543  population    Q484170  1.344779e-08  3.862780e+19  0.027591   \n",
       "29582  population    Q747074  2.368493e-06  3.110193e+19  0.022216   \n",
       "29583  population    Q562061  8.320822e-07  2.715449e+19  0.019396   \n",
       "29590  population  Q18524218  5.509993e-06  2.437130e+19  0.017408   \n",
       "29594  population    Q747074  1.200696e-07  5.113777e+19  0.036527   \n",
       "\n",
       "         pred_value  \n",
       "1      4.549382e+19  \n",
       "13     5.349797e+19  \n",
       "27     2.953376e+19  \n",
       "35     3.121241e+19  \n",
       "70     2.922918e+19  \n",
       "...             ...  \n",
       "29543  3.862780e+19  \n",
       "29582  3.110193e+19  \n",
       "29583  2.715449e+19  \n",
       "29590  2.437130e+19  \n",
       "29594  5.113777e+19  \n",
       "\n",
       "[2144 rows x 10 columns]"
      ]
     },
     "execution_count": 34,
     "metadata": {},
     "output_type": "execute_result"
    }
   ],
   "source": [
    "P1082"
   ]
  },
  {
   "cell_type": "code",
   "execution_count": 33,
   "id": "125104df",
   "metadata": {
    "scrolled": true
   },
   "outputs": [
    {
     "data": {
      "text/plain": [
       "0.04735520937117082"
      ]
     },
     "execution_count": 33,
     "metadata": {},
     "output_type": "execute_result"
    }
   ],
   "source": [
    "np.mean(attri_data['mae'])"
   ]
  },
  {
   "cell_type": "code",
   "execution_count": 141,
   "id": "fe63abc4",
   "metadata": {
    "scrolled": true
   },
   "outputs": [
    {
     "ename": "FileNotFoundError",
     "evalue": "[Errno 2] No such file or directory: 'baseline/iml_var/pred_result_30_cons'",
     "output_type": "error",
     "traceback": [
      "\u001b[0;31m---------------------------------------------------------------------------\u001b[0m",
      "\u001b[0;31mFileNotFoundError\u001b[0m                         Traceback (most recent call last)",
      "\u001b[0;32m/tmp/ipykernel_3363365/2945108012.py\u001b[0m in \u001b[0;36m<module>\u001b[0;34m\u001b[0m\n\u001b[0;32m----> 1\u001b[0;31m \u001b[0mdf_cons_7\u001b[0m\u001b[0;34m=\u001b[0m \u001b[0mpd\u001b[0m\u001b[0;34m.\u001b[0m\u001b[0mread_csv\u001b[0m\u001b[0;34m(\u001b[0m\u001b[0;34m'baseline/iml_var/pred_result_30_cons'\u001b[0m\u001b[0;34m)\u001b[0m\u001b[0;34m\u001b[0m\u001b[0;34m\u001b[0m\u001b[0m\n\u001b[0m",
      "\u001b[0;32m/projekte/tcl/tclext/kgc_chu/neuenv/lib/python3.7/site-packages/pandas/util/_decorators.py\u001b[0m in \u001b[0;36mwrapper\u001b[0;34m(*args, **kwargs)\u001b[0m\n\u001b[1;32m    309\u001b[0m                     \u001b[0mstacklevel\u001b[0m\u001b[0;34m=\u001b[0m\u001b[0mstacklevel\u001b[0m\u001b[0;34m,\u001b[0m\u001b[0;34m\u001b[0m\u001b[0;34m\u001b[0m\u001b[0m\n\u001b[1;32m    310\u001b[0m                 )\n\u001b[0;32m--> 311\u001b[0;31m             \u001b[0;32mreturn\u001b[0m \u001b[0mfunc\u001b[0m\u001b[0;34m(\u001b[0m\u001b[0;34m*\u001b[0m\u001b[0margs\u001b[0m\u001b[0;34m,\u001b[0m \u001b[0;34m**\u001b[0m\u001b[0mkwargs\u001b[0m\u001b[0;34m)\u001b[0m\u001b[0;34m\u001b[0m\u001b[0;34m\u001b[0m\u001b[0m\n\u001b[0m\u001b[1;32m    312\u001b[0m \u001b[0;34m\u001b[0m\u001b[0m\n\u001b[1;32m    313\u001b[0m         \u001b[0;32mreturn\u001b[0m \u001b[0mwrapper\u001b[0m\u001b[0;34m\u001b[0m\u001b[0;34m\u001b[0m\u001b[0m\n",
      "\u001b[0;32m/projekte/tcl/tclext/kgc_chu/neuenv/lib/python3.7/site-packages/pandas/io/parsers/readers.py\u001b[0m in \u001b[0;36mread_csv\u001b[0;34m(filepath_or_buffer, sep, delimiter, header, names, index_col, usecols, squeeze, prefix, mangle_dupe_cols, dtype, engine, converters, true_values, false_values, skipinitialspace, skiprows, skipfooter, nrows, na_values, keep_default_na, na_filter, verbose, skip_blank_lines, parse_dates, infer_datetime_format, keep_date_col, date_parser, dayfirst, cache_dates, iterator, chunksize, compression, thousands, decimal, lineterminator, quotechar, quoting, doublequote, escapechar, comment, encoding, encoding_errors, dialect, error_bad_lines, warn_bad_lines, on_bad_lines, delim_whitespace, low_memory, memory_map, float_precision, storage_options)\u001b[0m\n\u001b[1;32m    584\u001b[0m     \u001b[0mkwds\u001b[0m\u001b[0;34m.\u001b[0m\u001b[0mupdate\u001b[0m\u001b[0;34m(\u001b[0m\u001b[0mkwds_defaults\u001b[0m\u001b[0;34m)\u001b[0m\u001b[0;34m\u001b[0m\u001b[0;34m\u001b[0m\u001b[0m\n\u001b[1;32m    585\u001b[0m \u001b[0;34m\u001b[0m\u001b[0m\n\u001b[0;32m--> 586\u001b[0;31m     \u001b[0;32mreturn\u001b[0m \u001b[0m_read\u001b[0m\u001b[0;34m(\u001b[0m\u001b[0mfilepath_or_buffer\u001b[0m\u001b[0;34m,\u001b[0m \u001b[0mkwds\u001b[0m\u001b[0;34m)\u001b[0m\u001b[0;34m\u001b[0m\u001b[0;34m\u001b[0m\u001b[0m\n\u001b[0m\u001b[1;32m    587\u001b[0m \u001b[0;34m\u001b[0m\u001b[0m\n\u001b[1;32m    588\u001b[0m \u001b[0;34m\u001b[0m\u001b[0m\n",
      "\u001b[0;32m/projekte/tcl/tclext/kgc_chu/neuenv/lib/python3.7/site-packages/pandas/io/parsers/readers.py\u001b[0m in \u001b[0;36m_read\u001b[0;34m(filepath_or_buffer, kwds)\u001b[0m\n\u001b[1;32m    480\u001b[0m \u001b[0;34m\u001b[0m\u001b[0m\n\u001b[1;32m    481\u001b[0m     \u001b[0;31m# Create the parser.\u001b[0m\u001b[0;34m\u001b[0m\u001b[0;34m\u001b[0m\u001b[0;34m\u001b[0m\u001b[0m\n\u001b[0;32m--> 482\u001b[0;31m     \u001b[0mparser\u001b[0m \u001b[0;34m=\u001b[0m \u001b[0mTextFileReader\u001b[0m\u001b[0;34m(\u001b[0m\u001b[0mfilepath_or_buffer\u001b[0m\u001b[0;34m,\u001b[0m \u001b[0;34m**\u001b[0m\u001b[0mkwds\u001b[0m\u001b[0;34m)\u001b[0m\u001b[0;34m\u001b[0m\u001b[0;34m\u001b[0m\u001b[0m\n\u001b[0m\u001b[1;32m    483\u001b[0m \u001b[0;34m\u001b[0m\u001b[0m\n\u001b[1;32m    484\u001b[0m     \u001b[0;32mif\u001b[0m \u001b[0mchunksize\u001b[0m \u001b[0;32mor\u001b[0m \u001b[0miterator\u001b[0m\u001b[0;34m:\u001b[0m\u001b[0;34m\u001b[0m\u001b[0;34m\u001b[0m\u001b[0m\n",
      "\u001b[0;32m/projekte/tcl/tclext/kgc_chu/neuenv/lib/python3.7/site-packages/pandas/io/parsers/readers.py\u001b[0m in \u001b[0;36m__init__\u001b[0;34m(self, f, engine, **kwds)\u001b[0m\n\u001b[1;32m    809\u001b[0m             \u001b[0mself\u001b[0m\u001b[0;34m.\u001b[0m\u001b[0moptions\u001b[0m\u001b[0;34m[\u001b[0m\u001b[0;34m\"has_index_names\"\u001b[0m\u001b[0;34m]\u001b[0m \u001b[0;34m=\u001b[0m \u001b[0mkwds\u001b[0m\u001b[0;34m[\u001b[0m\u001b[0;34m\"has_index_names\"\u001b[0m\u001b[0;34m]\u001b[0m\u001b[0;34m\u001b[0m\u001b[0;34m\u001b[0m\u001b[0m\n\u001b[1;32m    810\u001b[0m \u001b[0;34m\u001b[0m\u001b[0m\n\u001b[0;32m--> 811\u001b[0;31m         \u001b[0mself\u001b[0m\u001b[0;34m.\u001b[0m\u001b[0m_engine\u001b[0m \u001b[0;34m=\u001b[0m \u001b[0mself\u001b[0m\u001b[0;34m.\u001b[0m\u001b[0m_make_engine\u001b[0m\u001b[0;34m(\u001b[0m\u001b[0mself\u001b[0m\u001b[0;34m.\u001b[0m\u001b[0mengine\u001b[0m\u001b[0;34m)\u001b[0m\u001b[0;34m\u001b[0m\u001b[0;34m\u001b[0m\u001b[0m\n\u001b[0m\u001b[1;32m    812\u001b[0m \u001b[0;34m\u001b[0m\u001b[0m\n\u001b[1;32m    813\u001b[0m     \u001b[0;32mdef\u001b[0m \u001b[0mclose\u001b[0m\u001b[0;34m(\u001b[0m\u001b[0mself\u001b[0m\u001b[0;34m)\u001b[0m\u001b[0;34m:\u001b[0m\u001b[0;34m\u001b[0m\u001b[0;34m\u001b[0m\u001b[0m\n",
      "\u001b[0;32m/projekte/tcl/tclext/kgc_chu/neuenv/lib/python3.7/site-packages/pandas/io/parsers/readers.py\u001b[0m in \u001b[0;36m_make_engine\u001b[0;34m(self, engine)\u001b[0m\n\u001b[1;32m   1038\u001b[0m             )\n\u001b[1;32m   1039\u001b[0m         \u001b[0;31m# error: Too many arguments for \"ParserBase\"\u001b[0m\u001b[0;34m\u001b[0m\u001b[0;34m\u001b[0m\u001b[0;34m\u001b[0m\u001b[0m\n\u001b[0;32m-> 1040\u001b[0;31m         \u001b[0;32mreturn\u001b[0m \u001b[0mmapping\u001b[0m\u001b[0;34m[\u001b[0m\u001b[0mengine\u001b[0m\u001b[0;34m]\u001b[0m\u001b[0;34m(\u001b[0m\u001b[0mself\u001b[0m\u001b[0;34m.\u001b[0m\u001b[0mf\u001b[0m\u001b[0;34m,\u001b[0m \u001b[0;34m**\u001b[0m\u001b[0mself\u001b[0m\u001b[0;34m.\u001b[0m\u001b[0moptions\u001b[0m\u001b[0;34m)\u001b[0m  \u001b[0;31m# type: ignore[call-arg]\u001b[0m\u001b[0;34m\u001b[0m\u001b[0;34m\u001b[0m\u001b[0m\n\u001b[0m\u001b[1;32m   1041\u001b[0m \u001b[0;34m\u001b[0m\u001b[0m\n\u001b[1;32m   1042\u001b[0m     \u001b[0;32mdef\u001b[0m \u001b[0m_failover_to_python\u001b[0m\u001b[0;34m(\u001b[0m\u001b[0mself\u001b[0m\u001b[0;34m)\u001b[0m\u001b[0;34m:\u001b[0m\u001b[0;34m\u001b[0m\u001b[0;34m\u001b[0m\u001b[0m\n",
      "\u001b[0;32m/projekte/tcl/tclext/kgc_chu/neuenv/lib/python3.7/site-packages/pandas/io/parsers/c_parser_wrapper.py\u001b[0m in \u001b[0;36m__init__\u001b[0;34m(self, src, **kwds)\u001b[0m\n\u001b[1;32m     49\u001b[0m \u001b[0;34m\u001b[0m\u001b[0m\n\u001b[1;32m     50\u001b[0m         \u001b[0;31m# open handles\u001b[0m\u001b[0;34m\u001b[0m\u001b[0;34m\u001b[0m\u001b[0;34m\u001b[0m\u001b[0m\n\u001b[0;32m---> 51\u001b[0;31m         \u001b[0mself\u001b[0m\u001b[0;34m.\u001b[0m\u001b[0m_open_handles\u001b[0m\u001b[0;34m(\u001b[0m\u001b[0msrc\u001b[0m\u001b[0;34m,\u001b[0m \u001b[0mkwds\u001b[0m\u001b[0;34m)\u001b[0m\u001b[0;34m\u001b[0m\u001b[0;34m\u001b[0m\u001b[0m\n\u001b[0m\u001b[1;32m     52\u001b[0m         \u001b[0;32massert\u001b[0m \u001b[0mself\u001b[0m\u001b[0;34m.\u001b[0m\u001b[0mhandles\u001b[0m \u001b[0;32mis\u001b[0m \u001b[0;32mnot\u001b[0m \u001b[0;32mNone\u001b[0m\u001b[0;34m\u001b[0m\u001b[0;34m\u001b[0m\u001b[0m\n\u001b[1;32m     53\u001b[0m \u001b[0;34m\u001b[0m\u001b[0m\n",
      "\u001b[0;32m/projekte/tcl/tclext/kgc_chu/neuenv/lib/python3.7/site-packages/pandas/io/parsers/base_parser.py\u001b[0m in \u001b[0;36m_open_handles\u001b[0;34m(self, src, kwds)\u001b[0m\n\u001b[1;32m    227\u001b[0m             \u001b[0mmemory_map\u001b[0m\u001b[0;34m=\u001b[0m\u001b[0mkwds\u001b[0m\u001b[0;34m.\u001b[0m\u001b[0mget\u001b[0m\u001b[0;34m(\u001b[0m\u001b[0;34m\"memory_map\"\u001b[0m\u001b[0;34m,\u001b[0m \u001b[0;32mFalse\u001b[0m\u001b[0;34m)\u001b[0m\u001b[0;34m,\u001b[0m\u001b[0;34m\u001b[0m\u001b[0;34m\u001b[0m\u001b[0m\n\u001b[1;32m    228\u001b[0m             \u001b[0mstorage_options\u001b[0m\u001b[0;34m=\u001b[0m\u001b[0mkwds\u001b[0m\u001b[0;34m.\u001b[0m\u001b[0mget\u001b[0m\u001b[0;34m(\u001b[0m\u001b[0;34m\"storage_options\"\u001b[0m\u001b[0;34m,\u001b[0m \u001b[0;32mNone\u001b[0m\u001b[0;34m)\u001b[0m\u001b[0;34m,\u001b[0m\u001b[0;34m\u001b[0m\u001b[0;34m\u001b[0m\u001b[0m\n\u001b[0;32m--> 229\u001b[0;31m             \u001b[0merrors\u001b[0m\u001b[0;34m=\u001b[0m\u001b[0mkwds\u001b[0m\u001b[0;34m.\u001b[0m\u001b[0mget\u001b[0m\u001b[0;34m(\u001b[0m\u001b[0;34m\"encoding_errors\"\u001b[0m\u001b[0;34m,\u001b[0m \u001b[0;34m\"strict\"\u001b[0m\u001b[0;34m)\u001b[0m\u001b[0;34m,\u001b[0m\u001b[0;34m\u001b[0m\u001b[0;34m\u001b[0m\u001b[0m\n\u001b[0m\u001b[1;32m    230\u001b[0m         )\n\u001b[1;32m    231\u001b[0m \u001b[0;34m\u001b[0m\u001b[0m\n",
      "\u001b[0;32m/projekte/tcl/tclext/kgc_chu/neuenv/lib/python3.7/site-packages/pandas/io/common.py\u001b[0m in \u001b[0;36mget_handle\u001b[0;34m(path_or_buf, mode, encoding, compression, memory_map, is_text, errors, storage_options)\u001b[0m\n\u001b[1;32m    705\u001b[0m                 \u001b[0mencoding\u001b[0m\u001b[0;34m=\u001b[0m\u001b[0mioargs\u001b[0m\u001b[0;34m.\u001b[0m\u001b[0mencoding\u001b[0m\u001b[0;34m,\u001b[0m\u001b[0;34m\u001b[0m\u001b[0;34m\u001b[0m\u001b[0m\n\u001b[1;32m    706\u001b[0m                 \u001b[0merrors\u001b[0m\u001b[0;34m=\u001b[0m\u001b[0merrors\u001b[0m\u001b[0;34m,\u001b[0m\u001b[0;34m\u001b[0m\u001b[0;34m\u001b[0m\u001b[0m\n\u001b[0;32m--> 707\u001b[0;31m                 \u001b[0mnewline\u001b[0m\u001b[0;34m=\u001b[0m\u001b[0;34m\"\"\u001b[0m\u001b[0;34m,\u001b[0m\u001b[0;34m\u001b[0m\u001b[0;34m\u001b[0m\u001b[0m\n\u001b[0m\u001b[1;32m    708\u001b[0m             )\n\u001b[1;32m    709\u001b[0m         \u001b[0;32melse\u001b[0m\u001b[0;34m:\u001b[0m\u001b[0;34m\u001b[0m\u001b[0;34m\u001b[0m\u001b[0m\n",
      "\u001b[0;31mFileNotFoundError\u001b[0m: [Errno 2] No such file or directory: 'baseline/iml_var/pred_result_30_cons'"
     ]
    }
   ],
   "source": []
  },
  {
   "cell_type": "code",
   "execution_count": 82,
   "id": "3f6ec007",
   "metadata": {},
   "outputs": [],
   "source": [
    "att2idx = {v:k for k,v in enumerate(attri_data_train[\"a\"].unique())}"
   ]
  },
  {
   "cell_type": "code",
   "execution_count": 4,
   "id": "fefeb952",
   "metadata": {},
   "outputs": [],
   "source": [
    "df_nocons=pd.read_csv('baseline/iml_var/pred_result_7_minmax_tanh')"
   ]
  },
  {
   "cell_type": "code",
   "execution_count": 5,
   "id": "51654f04",
   "metadata": {
    "scrolled": false
   },
   "outputs": [],
   "source": [
    "df_cons_7=pd.read_csv('baseline/iml_cons/pred_result_7_cons')"
   ]
  },
  {
   "cell_type": "code",
   "execution_count": 6,
   "id": "8d3536f3",
   "metadata": {},
   "outputs": [],
   "source": [
    "df_cons_7_r=pd.read_csv('baseline/iml_cons_realv/pred_result_7_cons')"
   ]
  },
  {
   "cell_type": "code",
   "execution_count": 134,
   "id": "55f13294",
   "metadata": {},
   "outputs": [
    {
     "data": {
      "text/plain": [
       "<AxesSubplot:>"
      ]
     },
     "execution_count": 134,
     "metadata": {},
     "output_type": "execute_result"
    },
    {
     "data": {
      "image/png": "[encoded data removed]",
      "text/plain": [
       "<Figure size 432x288 with 1 Axes>"
      ]
     },
     "metadata": {
      "needs_background": "light"
     },
     "output_type": "display_data"
    }
   ],
   "source": [
    "df_cons_7.pred_y.hist()"
   ]
  },
  {
   "cell_type": "code",
   "execution_count": 8,
   "id": "9bb81048",
   "metadata": {},
   "outputs": [
    {
     "data": {
      "text/plain": [
       "<AxesSubplot:>"
      ]
     },
     "execution_count": 8,
     "metadata": {},
     "output_type": "execute_result"
    },
    {
     "data": {
      "image/png": "[encoded data removed]",
      "text/plain": [
       "<Figure size 432x288 with 1 Axes>"
      ]
     },
     "metadata": {
      "needs_background": "light"
     },
     "output_type": "display_data"
    }
   ],
   "source": [
    "df_cons_7_r.pred_y.hist()"
   ]
  },
  {
   "cell_type": "code",
   "execution_count": 7,
   "id": "2b7e3488",
   "metadata": {},
   "outputs": [
    {
     "data": {
      "text/html": [
       "<div>\n",
       "<style scoped>\n",
       "    .dataframe tbody tr th:only-of-type {\n",
       "        vertical-align: middle;\n",
       "    }\n",
       "\n",
       "    .dataframe tbody tr th {\n",
       "        vertical-align: top;\n",
       "    }\n",
       "\n",
       "    .dataframe thead th {\n",
       "        text-align: right;\n",
       "    }\n",
       "</style>\n",
       "<table border=\"1\" class=\"dataframe\">\n",
       "  <thead>\n",
       "    <tr style=\"text-align: right;\">\n",
       "      <th></th>\n",
       "      <th>id</th>\n",
       "      <th>pred_y</th>\n",
       "      <th>target_y</th>\n",
       "    </tr>\n",
       "  </thead>\n",
       "  <tbody>\n",
       "    <tr>\n",
       "      <th>0</th>\n",
       "      <td>0</td>\n",
       "      <td>1977.5524</td>\n",
       "      <td>1985.0</td>\n",
       "    </tr>\n",
       "    <tr>\n",
       "      <th>1</th>\n",
       "      <td>1</td>\n",
       "      <td>1969.9570</td>\n",
       "      <td>1952.0</td>\n",
       "    </tr>\n",
       "    <tr>\n",
       "      <th>2</th>\n",
       "      <td>2</td>\n",
       "      <td>1975.5558</td>\n",
       "      <td>2012.0</td>\n",
       "    </tr>\n",
       "    <tr>\n",
       "      <th>3</th>\n",
       "      <td>3</td>\n",
       "      <td>1934.8857</td>\n",
       "      <td>1923.0</td>\n",
       "    </tr>\n",
       "    <tr>\n",
       "      <th>4</th>\n",
       "      <td>4</td>\n",
       "      <td>1976.4430</td>\n",
       "      <td>2000.0</td>\n",
       "    </tr>\n",
       "    <tr>\n",
       "      <th>...</th>\n",
       "      <td>...</td>\n",
       "      <td>...</td>\n",
       "      <td>...</td>\n",
       "    </tr>\n",
       "    <tr>\n",
       "      <th>700</th>\n",
       "      <td>700</td>\n",
       "      <td>1978.4813</td>\n",
       "      <td>2002.0</td>\n",
       "    </tr>\n",
       "    <tr>\n",
       "      <th>701</th>\n",
       "      <td>701</td>\n",
       "      <td>1978.3541</td>\n",
       "      <td>1987.0</td>\n",
       "    </tr>\n",
       "    <tr>\n",
       "      <th>702</th>\n",
       "      <td>702</td>\n",
       "      <td>1967.3154</td>\n",
       "      <td>1941.0</td>\n",
       "    </tr>\n",
       "    <tr>\n",
       "      <th>703</th>\n",
       "      <td>703</td>\n",
       "      <td>1976.1730</td>\n",
       "      <td>2000.0</td>\n",
       "    </tr>\n",
       "    <tr>\n",
       "      <th>704</th>\n",
       "      <td>704</td>\n",
       "      <td>1977.5797</td>\n",
       "      <td>1992.0</td>\n",
       "    </tr>\n",
       "  </tbody>\n",
       "</table>\n",
       "<p>705 rows × 3 columns</p>\n",
       "</div>"
      ],
      "text/plain": [
       "      id     pred_y  target_y\n",
       "0      0  1977.5524    1985.0\n",
       "1      1  1969.9570    1952.0\n",
       "2      2  1975.5558    2012.0\n",
       "3      3  1934.8857    1923.0\n",
       "4      4  1976.4430    2000.0\n",
       "..   ...        ...       ...\n",
       "700  700  1978.4813    2002.0\n",
       "701  701  1978.3541    1987.0\n",
       "702  702  1967.3154    1941.0\n",
       "703  703  1976.1730    2000.0\n",
       "704  704  1977.5797    1992.0\n",
       "\n",
       "[705 rows x 3 columns]"
      ]
     },
     "execution_count": 7,
     "metadata": {},
     "output_type": "execute_result"
    }
   ],
   "source": [
    "df_nocons"
   ]
  },
  {
   "cell_type": "code",
   "execution_count": 142,
   "id": "70b85ef9",
   "metadata": {},
   "outputs": [],
   "source": [
    "df_nocons_30=pd.read_csv('baseline/iml_var/pred_result_30_minmax_tanh')\n",
    "df_cons_30=pd.read_csv('baseline/iml_cons/pred_result_30_cons')\n",
    "df_cons_30_r=pd.read_csv('baseline/iml_cons_realv/pred_result_30_cons')"
   ]
  },
  {
   "cell_type": "code",
   "execution_count": 143,
   "id": "eb84c91e",
   "metadata": {
    "scrolled": true
   },
   "outputs": [
    {
     "data": {
      "text/plain": [
       "<AxesSubplot:>"
      ]
     },
     "execution_count": 143,
     "metadata": {},
     "output_type": "execute_result"
    },
    {
     "data": {
      "image/png": "[encoded data removed]",
      "text/plain": [
       "<Figure size 432x288 with 1 Axes>"
      ]
     },
     "metadata": {
      "needs_background": "light"
     },
     "output_type": "display_data"
    }
   ],
   "source": [
    "df_nocons_30.pred_y.hist()"
   ]
  },
  {
   "cell_type": "code",
   "execution_count": 111,
   "id": "98baa578",
   "metadata": {},
   "outputs": [
    {
     "data": {
      "text/plain": [
       "<AxesSubplot:>"
      ]
     },
     "execution_count": 111,
     "metadata": {},
     "output_type": "execute_result"
    },
    {
     "data": {
      "image/png": "[encoded data removed]",
      "text/plain": [
       "<Figure size 432x288 with 1 Axes>"
      ]
     },
     "metadata": {
      "needs_background": "light"
     },
     "output_type": "display_data"
    }
   ],
   "source": [
    "df_cons_30.pred_y.hist()"
   ]
  },
  {
   "cell_type": "code",
   "execution_count": 110,
   "id": "8cd3b1d9",
   "metadata": {},
   "outputs": [
    {
     "data": {
      "text/plain": [
       "<AxesSubplot:>"
      ]
     },
     "execution_count": 110,
     "metadata": {},
     "output_type": "execute_result"
    },
    {
     "data": {
      "image/png": "[encoded data removed]",
      "text/plain": [
       "<Figure size 432x288 with 1 Axes>"
      ]
     },
     "metadata": {
      "needs_background": "light"
     },
     "output_type": "display_data"
    }
   ],
   "source": [
    "df_cons_30_r.pred_y.hist()"
   ]
  },
  {
   "cell_type": "code",
   "execution_count": 13,
   "id": "444542fd",
   "metadata": {
    "scrolled": true
   },
   "outputs": [
    {
     "data": {
      "text/plain": [
       "count    1.715700e+04\n",
       "mean     1.013151e+06\n",
       "std      3.466321e+07\n",
       "min      0.000000e+00\n",
       "25%      1.231000e+03\n",
       "50%      6.515000e+03\n",
       "75%      4.381600e+04\n",
       "max      4.164252e+09\n",
       "Name: v, dtype: float64"
      ]
     },
     "execution_count": 13,
     "metadata": {},
     "output_type": "execute_result"
    }
   ],
   "source": [
    "attri_data_train[attri_data_train['a']=='P1082'].v.describe()"
   ]
  },
  {
   "cell_type": "code",
   "execution_count": 12,
   "id": "fcdd3ad5",
   "metadata": {
    "scrolled": true
   },
   "outputs": [
    {
     "data": {
      "text/plain": [
       "20856726486.0"
      ]
     },
     "execution_count": 12,
     "metadata": {},
     "output_type": "execute_result"
    }
   ],
   "source": [
    "1.013151e+06 * 20586"
   ]
  },
  {
   "cell_type": "markdown",
   "id": "3dd9fd50",
   "metadata": {},
   "source": [
    "# check every var\n"
   ]
  },
  {
   "cell_type": "code",
   "execution_count": 21,
   "id": "0ad4a66b",
   "metadata": {},
   "outputs": [
    {
     "name": "stdout",
     "output_type": "stream",
     "text": [
      "P625_Longtiude 1\n",
      "P625_Latitude 0\n",
      "P2048 27\n",
      "P569 9\n",
      "P570 20\n",
      "P2031 7\n",
      "P2032 30\n",
      "P2046 4\n",
      "P1082 3\n",
      "P2299 46\n",
      "P4010 70\n"
     ]
    }
   ],
   "source": [
    "attri_data = pd.read_csv('LiterallyWikidata/files_needed/train_attri_data_minmax.csv')\n",
    "att2idx = {v:k for k,v in enumerate(attri_data['a'].unique())}\n",
    "for var in list_var:\n",
    "    print(var, att2idx[var])"
   ]
  },
  {
   "cell_type": "code",
   "execution_count": 22,
   "id": "bfa7b89c",
   "metadata": {},
   "outputs": [],
   "source": [
    "var=1"
   ]
  },
  {
   "cell_type": "code",
   "execution_count": 23,
   "id": "581f0fef",
   "metadata": {},
   "outputs": [],
   "source": [
    "df_nocons=pd.read_csv('baseline/iml_var/pred_result_{}_minmax_tanh'.format(var))\n",
    "df_cons=pd.read_csv('baseline/iml_cons/pred_result_{}_cons'.format(var))\n",
    "#df_cons_r=pd.read_csv('baseline/iml_cons_realv/pred_result_{}_cons'.format(var))"
   ]
  },
  {
   "cell_type": "code",
   "execution_count": 27,
   "id": "f7f7ca9b",
   "metadata": {
    "scrolled": true
   },
   "outputs": [
    {
     "data": {
      "text/plain": [
       "<AxesSubplot:>"
      ]
     },
     "execution_count": 27,
     "metadata": {},
     "output_type": "execute_result"
    },
    {
     "data": {
      "image/png": "[encoded data removed]",
      "text/plain": [
       "<Figure size 432x288 with 1 Axes>"
      ]
     },
     "metadata": {
      "needs_background": "light"
     },
     "output_type": "display_data"
    }
   ],
   "source": [
    "df_nocons.pred_y.describe()\n",
    "df_nocons.pred_y.hist()"
   ]
  },
  {
   "cell_type": "markdown",
   "id": "eed25129",
   "metadata": {},
   "source": [
    "df_cons.pred_y.describe()\n",
    "df_cons.pred_y.hist()"
   ]
  },
  {
   "cell_type": "markdown",
   "id": "c48879da",
   "metadata": {},
   "source": [
    "# spearman’s rho "
   ]
  },
  {
   "cell_type": "code",
   "execution_count": 41,
   "id": "77665380",
   "metadata": {
    "scrolled": true
   },
   "outputs": [
    {
     "data": {
      "text/plain": [
       "-0.053109034530251516"
      ]
     },
     "execution_count": 41,
     "metadata": {},
     "output_type": "execute_result"
    }
   ],
   "source": [
    "from scipy.stats import spearmanr\n",
    "corr = df1000['pred_y'].corr(df1000['target_y'],method='spearman')\n",
    "corr"
   ]
  },
  {
   "cell_type": "code",
   "execution_count": 43,
   "id": "0c5f9238",
   "metadata": {},
   "outputs": [
    {
     "name": "stdout",
     "output_type": "stream",
     "text": [
      "-0.053109034530251516 0.13886936318368978\n"
     ]
    }
   ],
   "source": [
    "x = df1000['pred_y'].values\n",
    "y = df1000['target_y'].values\n",
    "rho, p_value = spearmanr(x, y)\n",
    "print(rho,p_value)"
   ]
  },
  {
   "cell_type": "code",
   "execution_count": null,
   "id": "561e20d7",
   "metadata": {},
   "outputs": [],
   "source": []
  }
 ],
 "metadata": {
  "kernelspec": {
   "display_name": "Python 3 (ipykernel)",
   "language": "python",
   "name": "python3"
  },
  "language_info": {
   "codemirror_mode": {
    "name": "ipython",
    "version": 3
   },
   "file_extension": ".py",
   "mimetype": "text/x-python",
   "name": "python",
   "nbconvert_exporter": "python",
   "pygments_lexer": "ipython3",
   "version": "3.7.9"
  }
 },
 "nbformat": 4,
 "nbformat_minor": 5
}

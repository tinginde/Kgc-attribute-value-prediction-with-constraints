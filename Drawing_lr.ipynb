{
 "cells": [
  {
   "cell_type": "code",
   "execution_count": 1,
   "id": "eeeec797",
   "metadata": {},
   "outputs": [],
   "source": [
    "import matplotlib.pyplot as plt\n",
    "from matplotlib.pyplot import figure\n",
    "import pickle"
   ]
  },
  {
   "cell_type": "code",
   "execution_count": 2,
   "id": "899458c9",
   "metadata": {},
   "outputs": [],
   "source": [
    "def plot_learning_curve(loss_record, title=''):\n",
    "    ''' Plot learning curve of your DNN (train & dev loss) '''\n",
    "    total_steps = len(loss_record['train_batch'])\n",
    "    x_1 = range(total_steps)\n",
    "    x_2 = x_1[::len(loss_record['train_batch']) // len(loss_record['dev'])]\n",
    "    figure(figsize=(6, 4))\n",
    "    plt.plot(x_1, loss_record['train_batch'], c='tab:red', label='train')\n",
    "    plt.plot(x_2, loss_record['dev'], c='tab:cyan', label='dev')\n",
    "    plt.ylim(0, 1.7)\n",
    "    plt.xlabel('Training steps')\n",
    "    plt.ylabel('MSE loss')\n",
    "    plt.title('Learning curve of {}'.format(title))\n",
    "    plt.legend()\n",
    "    plt.show()\n"
   ]
  },
  {
   "cell_type": "code",
   "execution_count": 3,
   "id": "c4df8d95",
   "metadata": {},
   "outputs": [
    {
     "data": {
      "text/plain": [
       "dict_keys(['train_batch', 'train', 'dev'])"
      ]
     },
     "execution_count": 3,
     "metadata": {},
     "output_type": "execute_result"
    }
   ],
   "source": [
    "with open('models_3layer/model_3layer_attless.pickle','rb') as fr:\n",
    "    loss_record = pickle.load(fr)\n",
    "loss_record.keys()\n"
   ]
  },
  {
   "cell_type": "code",
   "execution_count": 4,
   "id": "8ffdc830",
   "metadata": {
    "scrolled": true
   },
   "outputs": [
    {
     "data": {
      "text/plain": [
       "[1.4921678345512013,\n",
       " 1.4214935051253708,\n",
       " 1.3751523090753202,\n",
       " 1.3536055650230014,\n",
       " 1.3325151353300027,\n",
       " 1.332827354617733,\n",
       " 1.3187527081423962,\n",
       " 1.3074826372002282,\n",
       " 1.2926475327724845,\n",
       " 1.3061537944165889]"
      ]
     },
     "execution_count": 4,
     "metadata": {},
     "output_type": "execute_result"
    }
   ],
   "source": [
    "loss_record['dev'][:10]"
   ]
  },
  {
   "cell_type": "code",
   "execution_count": 5,
   "id": "b67814b1",
   "metadata": {},
   "outputs": [
    {
     "data": {
      "image/png": "[encoded data removed]",
      "text/plain": [
       "<Figure size 432x288 with 1 Axes>"
      ]
     },
     "metadata": {
      "needs_background": "light"
     },
     "output_type": "display_data"
    }
   ],
   "source": [
    "plot_learning_curve(loss_record, title='linear model')"
   ]
  },
  {
   "cell_type": "code",
   "execution_count": 58,
   "id": "3d588d9c",
   "metadata": {},
   "outputs": [],
   "source": [
    "import numpy as np\n",
    "import pandas as pd\n",
    "#df = pd.read_csv('models_ver2/preds_result')\n",
    "df2= pd.read_csv('models_layer/preds_result_model_1layer_adddrop_e500')"
   ]
  },
  {
   "cell_type": "code",
   "execution_count": 25,
   "id": "bd8e5e9a",
   "metadata": {
    "scrolled": true
   },
   "outputs": [
    {
     "data": {
      "text/html": [
       "<div>\n",
       "<style scoped>\n",
       "    .dataframe tbody tr th:only-of-type {\n",
       "        vertical-align: middle;\n",
       "    }\n",
       "\n",
       "    .dataframe tbody tr th {\n",
       "        vertical-align: top;\n",
       "    }\n",
       "\n",
       "    .dataframe thead th {\n",
       "        text-align: right;\n",
       "    }\n",
       "</style>\n",
       "<table border=\"1\" class=\"dataframe\">\n",
       "  <thead>\n",
       "    <tr style=\"text-align: right;\">\n",
       "      <th></th>\n",
       "      <th>id</th>\n",
       "      <th>pred_y</th>\n",
       "      <th>target_y</th>\n",
       "    </tr>\n",
       "  </thead>\n",
       "  <tbody>\n",
       "    <tr>\n",
       "      <th>count</th>\n",
       "      <td>59262.000000</td>\n",
       "      <td>59262.000000</td>\n",
       "      <td>59262.000000</td>\n",
       "    </tr>\n",
       "    <tr>\n",
       "      <th>mean</th>\n",
       "      <td>29630.500000</td>\n",
       "      <td>0.082061</td>\n",
       "      <td>-0.000103</td>\n",
       "    </tr>\n",
       "    <tr>\n",
       "      <th>std</th>\n",
       "      <td>17107.610163</td>\n",
       "      <td>0.525951</td>\n",
       "      <td>1.103294</td>\n",
       "    </tr>\n",
       "    <tr>\n",
       "      <th>min</th>\n",
       "      <td>0.000000</td>\n",
       "      <td>-13.993980</td>\n",
       "      <td>-17.611006</td>\n",
       "    </tr>\n",
       "    <tr>\n",
       "      <th>25%</th>\n",
       "      <td>14815.250000</td>\n",
       "      <td>0.045269</td>\n",
       "      <td>-0.152671</td>\n",
       "    </tr>\n",
       "    <tr>\n",
       "      <th>50%</th>\n",
       "      <td>29630.500000</td>\n",
       "      <td>0.060003</td>\n",
       "      <td>-0.006852</td>\n",
       "    </tr>\n",
       "    <tr>\n",
       "      <th>75%</th>\n",
       "      <td>44445.750000</td>\n",
       "      <td>0.197175</td>\n",
       "      <td>0.252893</td>\n",
       "    </tr>\n",
       "    <tr>\n",
       "      <th>max</th>\n",
       "      <td>59261.000000</td>\n",
       "      <td>6.363178</td>\n",
       "      <td>147.471310</td>\n",
       "    </tr>\n",
       "  </tbody>\n",
       "</table>\n",
       "</div>"
      ],
      "text/plain": [
       "                 id        pred_y      target_y\n",
       "count  59262.000000  59262.000000  59262.000000\n",
       "mean   29630.500000      0.082061     -0.000103\n",
       "std    17107.610163      0.525951      1.103294\n",
       "min        0.000000    -13.993980    -17.611006\n",
       "25%    14815.250000      0.045269     -0.152671\n",
       "50%    29630.500000      0.060003     -0.006852\n",
       "75%    44445.750000      0.197175      0.252893\n",
       "max    59261.000000      6.363178    147.471310"
      ]
     },
     "execution_count": 25,
     "metadata": {},
     "output_type": "execute_result"
    }
   ],
   "source": [
    "df.describe()"
   ]
  },
  {
   "cell_type": "code",
   "execution_count": 39,
   "id": "6aed28fc",
   "metadata": {
    "scrolled": false
   },
   "outputs": [
    {
     "data": {
      "text/html": [
       "<div>\n",
       "<style scoped>\n",
       "    .dataframe tbody tr th:only-of-type {\n",
       "        vertical-align: middle;\n",
       "    }\n",
       "\n",
       "    .dataframe tbody tr th {\n",
       "        vertical-align: top;\n",
       "    }\n",
       "\n",
       "    .dataframe thead th {\n",
       "        text-align: right;\n",
       "    }\n",
       "</style>\n",
       "<table border=\"1\" class=\"dataframe\">\n",
       "  <thead>\n",
       "    <tr style=\"text-align: right;\">\n",
       "      <th></th>\n",
       "      <th>id</th>\n",
       "      <th>pred_y</th>\n",
       "      <th>target_y</th>\n",
       "    </tr>\n",
       "  </thead>\n",
       "  <tbody>\n",
       "    <tr>\n",
       "      <th>count</th>\n",
       "      <td>29631.00000</td>\n",
       "      <td>29631.000000</td>\n",
       "      <td>29631.000000</td>\n",
       "    </tr>\n",
       "    <tr>\n",
       "      <th>mean</th>\n",
       "      <td>14815.00000</td>\n",
       "      <td>0.007625</td>\n",
       "      <td>0.004254</td>\n",
       "    </tr>\n",
       "    <tr>\n",
       "      <th>std</th>\n",
       "      <td>8553.87725</td>\n",
       "      <td>0.201656</td>\n",
       "      <td>1.299509</td>\n",
       "    </tr>\n",
       "    <tr>\n",
       "      <th>min</th>\n",
       "      <td>0.00000</td>\n",
       "      <td>-1.669783</td>\n",
       "      <td>-16.654907</td>\n",
       "    </tr>\n",
       "    <tr>\n",
       "      <th>25%</th>\n",
       "      <td>7407.50000</td>\n",
       "      <td>-0.081561</td>\n",
       "      <td>-0.151649</td>\n",
       "    </tr>\n",
       "    <tr>\n",
       "      <th>50%</th>\n",
       "      <td>14815.00000</td>\n",
       "      <td>0.028720</td>\n",
       "      <td>-0.006852</td>\n",
       "    </tr>\n",
       "    <tr>\n",
       "      <th>75%</th>\n",
       "      <td>22222.50000</td>\n",
       "      <td>0.126478</td>\n",
       "      <td>0.253073</td>\n",
       "    </tr>\n",
       "    <tr>\n",
       "      <th>max</th>\n",
       "      <td>29630.00000</td>\n",
       "      <td>1.518776</td>\n",
       "      <td>147.471310</td>\n",
       "    </tr>\n",
       "  </tbody>\n",
       "</table>\n",
       "</div>"
      ],
      "text/plain": [
       "                id        pred_y      target_y\n",
       "count  29631.00000  29631.000000  29631.000000\n",
       "mean   14815.00000      0.007625      0.004254\n",
       "std     8553.87725      0.201656      1.299509\n",
       "min        0.00000     -1.669783    -16.654907\n",
       "25%     7407.50000     -0.081561     -0.151649\n",
       "50%    14815.00000      0.028720     -0.006852\n",
       "75%    22222.50000      0.126478      0.253073\n",
       "max    29630.00000      1.518776    147.471310"
      ]
     },
     "execution_count": 39,
     "metadata": {},
     "output_type": "execute_result"
    }
   ],
   "source": [
    "df2.describe()"
   ]
  },
  {
   "cell_type": "code",
   "execution_count": 59,
   "id": "f6c5c666",
   "metadata": {
    "scrolled": true
   },
   "outputs": [
    {
     "data": {
      "image/png": "[encoded data removed]",
      "text/plain": [
       "<Figure size 360x360 with 1 Axes>"
      ]
     },
     "metadata": {
      "needs_background": "light"
     },
     "output_type": "display_data"
    }
   ],
   "source": [
    "lim=20\n",
    "preds=df2['pred_y']\n",
    "targets=df2['target_y']\n",
    "figure(figsize=(5, 5))\n",
    "plt.scatter(targets, preds, c='r', alpha=0.5)\n",
    "plt.plot([-20, lim], [-20, lim], c='b')\n",
    "plt.xlim(-20, lim)\n",
    "plt.ylim(-20, lim)\n",
    "plt.xlabel('ground truth value')\n",
    "plt.ylabel('predicted value')\n",
    "plt.title('Ground Truth v.s. Prediction')\n",
    "plt.show()"
   ]
  },
  {
   "cell_type": "code",
   "execution_count": null,
   "id": "ff89e2db",
   "metadata": {},
   "outputs": [],
   "source": []
  }
 ],
 "metadata": {
  "kernelspec": {
   "display_name": "Python 3 (ipykernel)",
   "language": "python",
   "name": "python3"
  },
  "language_info": {
   "codemirror_mode": {
    "name": "ipython",
    "version": 3
   },
   "file_extension": ".py",
   "mimetype": "text/x-python",
   "name": "python",
   "nbconvert_exporter": "python",
   "pygments_lexer": "ipython3",
   "version": "3.7.9"
  }
 },
 "nbformat": 4,
 "nbformat_minor": 5
}

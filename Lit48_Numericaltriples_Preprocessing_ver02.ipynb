{
  "cells": [
    {
      "cell_type": "markdown",
      "metadata": {
        "id": "view-in-github",
        "colab_type": "text"
      },
      "source": [
        "<a href=\"https://colab.research.google.com/github/tinginde/kgc/blob/main/Lit48_Numericaltriples_Preprocessing_ver02.ipynb\" target=\"_parent\"><img src=\"https://colab.research.google.com/assets/colab-badge.svg\" alt=\"Open In Colab\"/></a>"
      ]
    },
    {
      "cell_type": "markdown",
      "source": [
        "#Data preprocessing 資料前處理"
      ],
      "metadata": {
        "id": "iaHYhvxXNtaL"
      },
      "id": "iaHYhvxXNtaL"
    },
    {
      "cell_type": "markdown",
      "source": [
        "Cleaning numerical literals 將資料夾中numerical literals清理"
      ],
      "metadata": {
        "id": "QfjGfDJjdr8v"
      },
      "id": "QfjGfDJjdr8v"
    },
    {
      "cell_type": "code",
      "execution_count": null,
      "metadata": {
        "id": "017aa6a4"
      },
      "outputs": [],
      "source": [
        "import pandas as pd\n",
        "import numpy as np"
      ],
      "id": "017aa6a4"
    },
    {
      "cell_type": "code",
      "source": [
        "from google.colab import drive\n",
        "drive.mount('/content/drive')"
      ],
      "metadata": {
        "colab": {
          "base_uri": "https://localhost:8080/"
        },
        "id": "5E2V164LAqN2",
        "outputId": "7472cb39-eee0-484f-b447-c068394ec24d"
      },
      "id": "5E2V164LAqN2",
      "execution_count": null,
      "outputs": [
        {
          "output_type": "stream",
          "name": "stdout",
          "text": [
            "Drive already mounted at /content/drive; to attempt to forcibly remount, call drive.mount(\"/content/drive\", force_remount=True).\n"
          ]
        }
      ]
    },
    {
      "cell_type": "code",
      "execution_count": null,
      "metadata": {
        "id": "vMiyAb3BdEjd"
      },
      "outputs": [],
      "source": [
        "path = \"/content/drive/MyDrive/litwd48k\""
      ],
      "id": "vMiyAb3BdEjd"
    },
    {
      "cell_type": "markdown",
      "source": [
        "最新版: contains a total of 301,477 numerical triples divided in 166 different numerical attributes.(each attribute at least 15 triples)"
      ],
      "metadata": {
        "id": "Jrr_Ns4dXEYM"
      },
      "id": "Jrr_Ns4dXEYM"
    },
    {
      "cell_type": "markdown",
      "metadata": {
        "id": "eb0bdd3a"
      },
      "source": [
        "# From LiterallyWikidata read data and check data"
      ],
      "id": "eb0bdd3a"
    },
    {
      "cell_type": "code",
      "execution_count": null,
      "metadata": {
        "id": "zz3XSyJpmguJ"
      },
      "outputs": [],
      "source": [
        "column_name = [\"e\",\"a\",\"v\"]\n",
        "df48_ori = pd.read_csv(f\"{path}/lit48/numeric_literals_ori48k.txt\",sep=\"\\t\",names=column_name)"
      ],
      "id": "zz3XSyJpmguJ"
    },
    {
      "cell_type": "code",
      "source": [
        "df48_ori[:5]"
      ],
      "metadata": {
        "colab": {
          "base_uri": "https://localhost:8080/",
          "height": 206
        },
        "id": "0ynl-RqPfiPA",
        "outputId": "d6da666b-201c-4888-c144-ec5e84edbf80"
      },
      "id": "0ynl-RqPfiPA",
      "execution_count": null,
      "outputs": [
        {
          "output_type": "execute_result",
          "data": {
            "text/plain": [
              "          e             a                                                  v\n",
              "0  Q1000056    P1082_Q199  +11032^^<http://www.w3.org/2001/XMLSchema#deci...\n",
              "1  Q1000056  P2044_Q11573   +472^^<http://www.w3.org/2001/XMLSchema#decimal>\n",
              "2  Q1000056  P2046_Q25343  +45630000.00^^<http://www.w3.org/2001/XMLSchem...\n",
              "3  Q1000138    P1082_Q199  +1375^^<http://www.w3.org/2001/XMLSchema#decimal>\n",
              "4  Q1000138  P2044_Q11573     +1^^<http://www.w3.org/2001/XMLSchema#decimal>"
            ],
            "text/html": [
              "\n",
              "  <div id=\"df-960f0b50-b4f9-4f63-82ec-43f2f633286c\">\n",
              "    <div class=\"colab-df-container\">\n",
              "      <div>\n",
              "<style scoped>\n",
              "    .dataframe tbody tr th:only-of-type {\n",
              "        vertical-align: middle;\n",
              "    }\n",
              "\n",
              "    .dataframe tbody tr th {\n",
              "        vertical-align: top;\n",
              "    }\n",
              "\n",
              "    .dataframe thead th {\n",
              "        text-align: right;\n",
              "    }\n",
              "</style>\n",
              "<table border=\"1\" class=\"dataframe\">\n",
              "  <thead>\n",
              "    <tr style=\"text-align: right;\">\n",
              "      <th></th>\n",
              "      <th>e</th>\n",
              "      <th>a</th>\n",
              "      <th>v</th>\n",
              "    </tr>\n",
              "  </thead>\n",
              "  <tbody>\n",
              "    <tr>\n",
              "      <th>0</th>\n",
              "      <td>Q1000056</td>\n",
              "      <td>P1082_Q199</td>\n",
              "      <td>+11032^^&lt;http://www.w3.org/2001/XMLSchema#deci...</td>\n",
              "    </tr>\n",
              "    <tr>\n",
              "      <th>1</th>\n",
              "      <td>Q1000056</td>\n",
              "      <td>P2044_Q11573</td>\n",
              "      <td>+472^^&lt;http://www.w3.org/2001/XMLSchema#decimal&gt;</td>\n",
              "    </tr>\n",
              "    <tr>\n",
              "      <th>2</th>\n",
              "      <td>Q1000056</td>\n",
              "      <td>P2046_Q25343</td>\n",
              "      <td>+45630000.00^^&lt;http://www.w3.org/2001/XMLSchem...</td>\n",
              "    </tr>\n",
              "    <tr>\n",
              "      <th>3</th>\n",
              "      <td>Q1000138</td>\n",
              "      <td>P1082_Q199</td>\n",
              "      <td>+1375^^&lt;http://www.w3.org/2001/XMLSchema#decimal&gt;</td>\n",
              "    </tr>\n",
              "    <tr>\n",
              "      <th>4</th>\n",
              "      <td>Q1000138</td>\n",
              "      <td>P2044_Q11573</td>\n",
              "      <td>+1^^&lt;http://www.w3.org/2001/XMLSchema#decimal&gt;</td>\n",
              "    </tr>\n",
              "  </tbody>\n",
              "</table>\n",
              "</div>\n",
              "      <button class=\"colab-df-convert\" onclick=\"convertToInteractive('df-960f0b50-b4f9-4f63-82ec-43f2f633286c')\"\n",
              "              title=\"Convert this dataframe to an interactive table.\"\n",
              "              style=\"display:none;\">\n",
              "        \n",
              "  <svg xmlns=\"http://www.w3.org/2000/svg\" height=\"24px\"viewBox=\"0 0 24 24\"\n",
              "       width=\"24px\">\n",
              "    <path d=\"M0 0h24v24H0V0z\" fill=\"none\"/>\n",
              "    <path d=\"M18.56 5.44l.94 2.06.94-2.06 2.06-.94-2.06-.94-.94-2.06-.94 2.06-2.06.94zm-11 1L8.5 8.5l.94-2.06 2.06-.94-2.06-.94L8.5 2.5l-.94 2.06-2.06.94zm10 10l.94 2.06.94-2.06 2.06-.94-2.06-.94-.94-2.06-.94 2.06-2.06.94z\"/><path d=\"M17.41 7.96l-1.37-1.37c-.4-.4-.92-.59-1.43-.59-.52 0-1.04.2-1.43.59L10.3 9.45l-7.72 7.72c-.78.78-.78 2.05 0 2.83L4 21.41c.39.39.9.59 1.41.59.51 0 1.02-.2 1.41-.59l7.78-7.78 2.81-2.81c.8-.78.8-2.07 0-2.86zM5.41 20L4 18.59l7.72-7.72 1.47 1.35L5.41 20z\"/>\n",
              "  </svg>\n",
              "      </button>\n",
              "      \n",
              "  <style>\n",
              "    .colab-df-container {\n",
              "      display:flex;\n",
              "      flex-wrap:wrap;\n",
              "      gap: 12px;\n",
              "    }\n",
              "\n",
              "    .colab-df-convert {\n",
              "      background-color: #E8F0FE;\n",
              "      border: none;\n",
              "      border-radius: 50%;\n",
              "      cursor: pointer;\n",
              "      display: none;\n",
              "      fill: #1967D2;\n",
              "      height: 32px;\n",
              "      padding: 0 0 0 0;\n",
              "      width: 32px;\n",
              "    }\n",
              "\n",
              "    .colab-df-convert:hover {\n",
              "      background-color: #E2EBFA;\n",
              "      box-shadow: 0px 1px 2px rgba(60, 64, 67, 0.3), 0px 1px 3px 1px rgba(60, 64, 67, 0.15);\n",
              "      fill: #174EA6;\n",
              "    }\n",
              "\n",
              "    [theme=dark] .colab-df-convert {\n",
              "      background-color: #3B4455;\n",
              "      fill: #D2E3FC;\n",
              "    }\n",
              "\n",
              "    [theme=dark] .colab-df-convert:hover {\n",
              "      background-color: #434B5C;\n",
              "      box-shadow: 0px 1px 3px 1px rgba(0, 0, 0, 0.15);\n",
              "      filter: drop-shadow(0px 1px 2px rgba(0, 0, 0, 0.3));\n",
              "      fill: #FFFFFF;\n",
              "    }\n",
              "  </style>\n",
              "\n",
              "      <script>\n",
              "        const buttonEl =\n",
              "          document.querySelector('#df-960f0b50-b4f9-4f63-82ec-43f2f633286c button.colab-df-convert');\n",
              "        buttonEl.style.display =\n",
              "          google.colab.kernel.accessAllowed ? 'block' : 'none';\n",
              "\n",
              "        async function convertToInteractive(key) {\n",
              "          const element = document.querySelector('#df-960f0b50-b4f9-4f63-82ec-43f2f633286c');\n",
              "          const dataTable =\n",
              "            await google.colab.kernel.invokeFunction('convertToInteractive',\n",
              "                                                     [key], {});\n",
              "          if (!dataTable) return;\n",
              "\n",
              "          const docLinkHtml = 'Like what you see? Visit the ' +\n",
              "            '<a target=\"_blank\" href=https://colab.research.google.com/notebooks/data_table.ipynb>data table notebook</a>'\n",
              "            + ' to learn more about interactive tables.';\n",
              "          element.innerHTML = '';\n",
              "          dataTable['output_type'] = 'display_data';\n",
              "          await google.colab.output.renderOutput(dataTable, element);\n",
              "          const docLink = document.createElement('div');\n",
              "          docLink.innerHTML = docLinkHtml;\n",
              "          element.appendChild(docLink);\n",
              "        }\n",
              "      </script>\n",
              "    </div>\n",
              "  </div>\n",
              "  "
            ]
          },
          "metadata": {},
          "execution_count": 44
        }
      ]
    },
    {
      "cell_type": "code",
      "source": [
        "df48 = df48_ori"
      ],
      "metadata": {
        "id": "N9MA7xdMCE89"
      },
      "id": "N9MA7xdMCE89",
      "execution_count": null,
      "outputs": []
    },
    {
      "cell_type": "code",
      "source": [
        "#取V值\n",
        "df48[['v','xml']] = df48['v'].str.split('^', 1, expand=True)"
      ],
      "metadata": {
        "id": "q_PmSd7hj8mh"
      },
      "id": "q_PmSd7hj8mh",
      "execution_count": null,
      "outputs": []
    },
    {
      "cell_type": "code",
      "execution_count": null,
      "metadata": {
        "colab": {
          "base_uri": "https://localhost:8080/"
        },
        "id": "dS_addCPox73",
        "outputId": "fae6be45-0c0b-473e-a3b9-9b435070b286"
      },
      "outputs": [
        {
          "output_type": "stream",
          "name": "stdout",
          "text": [
            "triple number of df48: 324418, num of df48_entity: 47998, num of df48_attribute: 291\n"
          ]
        }
      ],
      "source": [
        "# check the number of data\n",
        "print(f'triple number of df48: {len(df48)}, num of df48_entity: {len(df48[\"e\"].unique())}, num of df48_attribute: {len(df48[\"a\"].unique())}')"
      ],
      "id": "dS_addCPox73"
    },
    {
      "cell_type": "code",
      "source": [
        "#有三種數值型態\n",
        "df48['xml'].unique()"
      ],
      "metadata": {
        "colab": {
          "base_uri": "https://localhost:8080/"
        },
        "id": "ydNyjFsumOOn",
        "outputId": "ded26a07-881b-4c4d-fdcb-7edffc902e91"
      },
      "id": "ydNyjFsumOOn",
      "execution_count": null,
      "outputs": [
        {
          "output_type": "execute_result",
          "data": {
            "text/plain": [
              "array(['^<http://www.w3.org/2001/XMLSchema#decimal>',\n",
              "       '^<http://www.w3.org/2001/XMLSchema#dateTime>',\n",
              "       '^<http://www.w3.org/2001/XMLSchema#double>'], dtype=object)"
            ]
          },
          "metadata": {},
          "execution_count": 9
        }
      ]
    },
    {
      "cell_type": "markdown",
      "source": [
        "# Discovering some issues within data"
      ],
      "metadata": {
        "id": "LIZqsqEgqJFg"
      },
      "id": "LIZqsqEgqJFg"
    },
    {
      "cell_type": "code",
      "source": [
        "# same entity has multiple values 可能同entity在P1087有多個值\n",
        "df48[df48[\"a\"].str.contains(\"P1087_Q199\")][:5]"
      ],
      "metadata": {
        "id": "5xUkntUcZM_A",
        "colab": {
          "base_uri": "https://localhost:8080/",
          "height": 206
        },
        "outputId": "d54c14fb-4bb9-457f-a2be-6210607548a6"
      },
      "id": "5xUkntUcZM_A",
      "execution_count": null,
      "outputs": [
        {
          "output_type": "execute_result",
          "data": {
            "text/plain": [
              "            e           a      v                                          xml\n",
              "1981  Q102664  P1087_Q199  +2705  ^<http://www.w3.org/2001/XMLSchema#decimal>\n",
              "3219  Q104148  P1087_Q199  +2480  ^<http://www.w3.org/2001/XMLSchema#decimal>\n",
              "3220  Q104148  P1087_Q199  +2485  ^<http://www.w3.org/2001/XMLSchema#decimal>\n",
              "3221  Q104148  P1087_Q199  +2486  ^<http://www.w3.org/2001/XMLSchema#decimal>\n",
              "3222  Q104148  P1087_Q199  +2491  ^<http://www.w3.org/2001/XMLSchema#decimal>"
            ],
            "text/html": [
              "\n",
              "  <div id=\"df-60acffd2-7039-4e40-9138-390908cf8177\">\n",
              "    <div class=\"colab-df-container\">\n",
              "      <div>\n",
              "<style scoped>\n",
              "    .dataframe tbody tr th:only-of-type {\n",
              "        vertical-align: middle;\n",
              "    }\n",
              "\n",
              "    .dataframe tbody tr th {\n",
              "        vertical-align: top;\n",
              "    }\n",
              "\n",
              "    .dataframe thead th {\n",
              "        text-align: right;\n",
              "    }\n",
              "</style>\n",
              "<table border=\"1\" class=\"dataframe\">\n",
              "  <thead>\n",
              "    <tr style=\"text-align: right;\">\n",
              "      <th></th>\n",
              "      <th>e</th>\n",
              "      <th>a</th>\n",
              "      <th>v</th>\n",
              "      <th>xml</th>\n",
              "    </tr>\n",
              "  </thead>\n",
              "  <tbody>\n",
              "    <tr>\n",
              "      <th>1981</th>\n",
              "      <td>Q102664</td>\n",
              "      <td>P1087_Q199</td>\n",
              "      <td>+2705</td>\n",
              "      <td>^&lt;http://www.w3.org/2001/XMLSchema#decimal&gt;</td>\n",
              "    </tr>\n",
              "    <tr>\n",
              "      <th>3219</th>\n",
              "      <td>Q104148</td>\n",
              "      <td>P1087_Q199</td>\n",
              "      <td>+2480</td>\n",
              "      <td>^&lt;http://www.w3.org/2001/XMLSchema#decimal&gt;</td>\n",
              "    </tr>\n",
              "    <tr>\n",
              "      <th>3220</th>\n",
              "      <td>Q104148</td>\n",
              "      <td>P1087_Q199</td>\n",
              "      <td>+2485</td>\n",
              "      <td>^&lt;http://www.w3.org/2001/XMLSchema#decimal&gt;</td>\n",
              "    </tr>\n",
              "    <tr>\n",
              "      <th>3221</th>\n",
              "      <td>Q104148</td>\n",
              "      <td>P1087_Q199</td>\n",
              "      <td>+2486</td>\n",
              "      <td>^&lt;http://www.w3.org/2001/XMLSchema#decimal&gt;</td>\n",
              "    </tr>\n",
              "    <tr>\n",
              "      <th>3222</th>\n",
              "      <td>Q104148</td>\n",
              "      <td>P1087_Q199</td>\n",
              "      <td>+2491</td>\n",
              "      <td>^&lt;http://www.w3.org/2001/XMLSchema#decimal&gt;</td>\n",
              "    </tr>\n",
              "  </tbody>\n",
              "</table>\n",
              "</div>\n",
              "      <button class=\"colab-df-convert\" onclick=\"convertToInteractive('df-60acffd2-7039-4e40-9138-390908cf8177')\"\n",
              "              title=\"Convert this dataframe to an interactive table.\"\n",
              "              style=\"display:none;\">\n",
              "        \n",
              "  <svg xmlns=\"http://www.w3.org/2000/svg\" height=\"24px\"viewBox=\"0 0 24 24\"\n",
              "       width=\"24px\">\n",
              "    <path d=\"M0 0h24v24H0V0z\" fill=\"none\"/>\n",
              "    <path d=\"M18.56 5.44l.94 2.06.94-2.06 2.06-.94-2.06-.94-.94-2.06-.94 2.06-2.06.94zm-11 1L8.5 8.5l.94-2.06 2.06-.94-2.06-.94L8.5 2.5l-.94 2.06-2.06.94zm10 10l.94 2.06.94-2.06 2.06-.94-2.06-.94-.94-2.06-.94 2.06-2.06.94z\"/><path d=\"M17.41 7.96l-1.37-1.37c-.4-.4-.92-.59-1.43-.59-.52 0-1.04.2-1.43.59L10.3 9.45l-7.72 7.72c-.78.78-.78 2.05 0 2.83L4 21.41c.39.39.9.59 1.41.59.51 0 1.02-.2 1.41-.59l7.78-7.78 2.81-2.81c.8-.78.8-2.07 0-2.86zM5.41 20L4 18.59l7.72-7.72 1.47 1.35L5.41 20z\"/>\n",
              "  </svg>\n",
              "      </button>\n",
              "      \n",
              "  <style>\n",
              "    .colab-df-container {\n",
              "      display:flex;\n",
              "      flex-wrap:wrap;\n",
              "      gap: 12px;\n",
              "    }\n",
              "\n",
              "    .colab-df-convert {\n",
              "      background-color: #E8F0FE;\n",
              "      border: none;\n",
              "      border-radius: 50%;\n",
              "      cursor: pointer;\n",
              "      display: none;\n",
              "      fill: #1967D2;\n",
              "      height: 32px;\n",
              "      padding: 0 0 0 0;\n",
              "      width: 32px;\n",
              "    }\n",
              "\n",
              "    .colab-df-convert:hover {\n",
              "      background-color: #E2EBFA;\n",
              "      box-shadow: 0px 1px 2px rgba(60, 64, 67, 0.3), 0px 1px 3px 1px rgba(60, 64, 67, 0.15);\n",
              "      fill: #174EA6;\n",
              "    }\n",
              "\n",
              "    [theme=dark] .colab-df-convert {\n",
              "      background-color: #3B4455;\n",
              "      fill: #D2E3FC;\n",
              "    }\n",
              "\n",
              "    [theme=dark] .colab-df-convert:hover {\n",
              "      background-color: #434B5C;\n",
              "      box-shadow: 0px 1px 3px 1px rgba(0, 0, 0, 0.15);\n",
              "      filter: drop-shadow(0px 1px 2px rgba(0, 0, 0, 0.3));\n",
              "      fill: #FFFFFF;\n",
              "    }\n",
              "  </style>\n",
              "\n",
              "      <script>\n",
              "        const buttonEl =\n",
              "          document.querySelector('#df-60acffd2-7039-4e40-9138-390908cf8177 button.colab-df-convert');\n",
              "        buttonEl.style.display =\n",
              "          google.colab.kernel.accessAllowed ? 'block' : 'none';\n",
              "\n",
              "        async function convertToInteractive(key) {\n",
              "          const element = document.querySelector('#df-60acffd2-7039-4e40-9138-390908cf8177');\n",
              "          const dataTable =\n",
              "            await google.colab.kernel.invokeFunction('convertToInteractive',\n",
              "                                                     [key], {});\n",
              "          if (!dataTable) return;\n",
              "\n",
              "          const docLinkHtml = 'Like what you see? Visit the ' +\n",
              "            '<a target=\"_blank\" href=https://colab.research.google.com/notebooks/data_table.ipynb>data table notebook</a>'\n",
              "            + ' to learn more about interactive tables.';\n",
              "          element.innerHTML = '';\n",
              "          dataTable['output_type'] = 'display_data';\n",
              "          await google.colab.output.renderOutput(dataTable, element);\n",
              "          const docLink = document.createElement('div');\n",
              "          docLink.innerHTML = docLinkHtml;\n",
              "          element.appendChild(docLink);\n",
              "        }\n",
              "      </script>\n",
              "    </div>\n",
              "  </div>\n",
              "  "
            ]
          },
          "metadata": {},
          "execution_count": 11
        }
      ]
    },
    {
      "cell_type": "code",
      "source": [
        "# coordinate location in original data is mixed. P625，P1335...(coordinate location)有經緯度\n",
        "df48[df48[\"a\"].str.contains(\"P1335\")]"
      ],
      "metadata": {
        "id": "j1iiK9cmdBTf",
        "colab": {
          "base_uri": "https://localhost:8080/",
          "height": 424
        },
        "outputId": "809dc427-e3f9-4d0e-d061-2c87e5df4244"
      },
      "id": "j1iiK9cmdBTf",
      "execution_count": null,
      "outputs": [
        {
          "output_type": "execute_result",
          "data": {
            "text/plain": [
              "              e                a           v  \\\n",
              "206346  Q100015   P1335_Latitude  45.5439988   \n",
              "206351  Q100016   P1335_Latitude  45.8495584   \n",
              "206356  Q100018   P1335_Latitude  45.6671782   \n",
              "206362  Q100036   P1335_Latitude  44.7203568   \n",
              "206367  Q100038   P1335_Latitude  44.7499868   \n",
              "...         ...              ...         ...   \n",
              "324394   Q99981  P1335_Longtiude   9.4935722   \n",
              "324399   Q99983  P1335_Longtiude   9.6883379   \n",
              "324404   Q99985  P1335_Longtiude   9.7203429   \n",
              "324409   Q99986  P1335_Longtiude   9.5321288   \n",
              "324414   Q99987  P1335_Longtiude   9.5643913   \n",
              "\n",
              "                                               xml  \n",
              "206346  ^<http://www.w3.org/2001/XMLSchema#double>  \n",
              "206351  ^<http://www.w3.org/2001/XMLSchema#double>  \n",
              "206356  ^<http://www.w3.org/2001/XMLSchema#double>  \n",
              "206362  ^<http://www.w3.org/2001/XMLSchema#double>  \n",
              "206367  ^<http://www.w3.org/2001/XMLSchema#double>  \n",
              "...                                            ...  \n",
              "324394  ^<http://www.w3.org/2001/XMLSchema#double>  \n",
              "324399  ^<http://www.w3.org/2001/XMLSchema#double>  \n",
              "324404  ^<http://www.w3.org/2001/XMLSchema#double>  \n",
              "324409  ^<http://www.w3.org/2001/XMLSchema#double>  \n",
              "324414  ^<http://www.w3.org/2001/XMLSchema#double>  \n",
              "\n",
              "[16990 rows x 4 columns]"
            ],
            "text/html": [
              "\n",
              "  <div id=\"df-2287254e-86a7-48ce-923e-3caf67b01188\">\n",
              "    <div class=\"colab-df-container\">\n",
              "      <div>\n",
              "<style scoped>\n",
              "    .dataframe tbody tr th:only-of-type {\n",
              "        vertical-align: middle;\n",
              "    }\n",
              "\n",
              "    .dataframe tbody tr th {\n",
              "        vertical-align: top;\n",
              "    }\n",
              "\n",
              "    .dataframe thead th {\n",
              "        text-align: right;\n",
              "    }\n",
              "</style>\n",
              "<table border=\"1\" class=\"dataframe\">\n",
              "  <thead>\n",
              "    <tr style=\"text-align: right;\">\n",
              "      <th></th>\n",
              "      <th>e</th>\n",
              "      <th>a</th>\n",
              "      <th>v</th>\n",
              "      <th>xml</th>\n",
              "    </tr>\n",
              "  </thead>\n",
              "  <tbody>\n",
              "    <tr>\n",
              "      <th>206346</th>\n",
              "      <td>Q100015</td>\n",
              "      <td>P1335_Latitude</td>\n",
              "      <td>45.5439988</td>\n",
              "      <td>^&lt;http://www.w3.org/2001/XMLSchema#double&gt;</td>\n",
              "    </tr>\n",
              "    <tr>\n",
              "      <th>206351</th>\n",
              "      <td>Q100016</td>\n",
              "      <td>P1335_Latitude</td>\n",
              "      <td>45.8495584</td>\n",
              "      <td>^&lt;http://www.w3.org/2001/XMLSchema#double&gt;</td>\n",
              "    </tr>\n",
              "    <tr>\n",
              "      <th>206356</th>\n",
              "      <td>Q100018</td>\n",
              "      <td>P1335_Latitude</td>\n",
              "      <td>45.6671782</td>\n",
              "      <td>^&lt;http://www.w3.org/2001/XMLSchema#double&gt;</td>\n",
              "    </tr>\n",
              "    <tr>\n",
              "      <th>206362</th>\n",
              "      <td>Q100036</td>\n",
              "      <td>P1335_Latitude</td>\n",
              "      <td>44.7203568</td>\n",
              "      <td>^&lt;http://www.w3.org/2001/XMLSchema#double&gt;</td>\n",
              "    </tr>\n",
              "    <tr>\n",
              "      <th>206367</th>\n",
              "      <td>Q100038</td>\n",
              "      <td>P1335_Latitude</td>\n",
              "      <td>44.7499868</td>\n",
              "      <td>^&lt;http://www.w3.org/2001/XMLSchema#double&gt;</td>\n",
              "    </tr>\n",
              "    <tr>\n",
              "      <th>...</th>\n",
              "      <td>...</td>\n",
              "      <td>...</td>\n",
              "      <td>...</td>\n",
              "      <td>...</td>\n",
              "    </tr>\n",
              "    <tr>\n",
              "      <th>324394</th>\n",
              "      <td>Q99981</td>\n",
              "      <td>P1335_Longtiude</td>\n",
              "      <td>9.4935722</td>\n",
              "      <td>^&lt;http://www.w3.org/2001/XMLSchema#double&gt;</td>\n",
              "    </tr>\n",
              "    <tr>\n",
              "      <th>324399</th>\n",
              "      <td>Q99983</td>\n",
              "      <td>P1335_Longtiude</td>\n",
              "      <td>9.6883379</td>\n",
              "      <td>^&lt;http://www.w3.org/2001/XMLSchema#double&gt;</td>\n",
              "    </tr>\n",
              "    <tr>\n",
              "      <th>324404</th>\n",
              "      <td>Q99985</td>\n",
              "      <td>P1335_Longtiude</td>\n",
              "      <td>9.7203429</td>\n",
              "      <td>^&lt;http://www.w3.org/2001/XMLSchema#double&gt;</td>\n",
              "    </tr>\n",
              "    <tr>\n",
              "      <th>324409</th>\n",
              "      <td>Q99986</td>\n",
              "      <td>P1335_Longtiude</td>\n",
              "      <td>9.5321288</td>\n",
              "      <td>^&lt;http://www.w3.org/2001/XMLSchema#double&gt;</td>\n",
              "    </tr>\n",
              "    <tr>\n",
              "      <th>324414</th>\n",
              "      <td>Q99987</td>\n",
              "      <td>P1335_Longtiude</td>\n",
              "      <td>9.5643913</td>\n",
              "      <td>^&lt;http://www.w3.org/2001/XMLSchema#double&gt;</td>\n",
              "    </tr>\n",
              "  </tbody>\n",
              "</table>\n",
              "<p>16990 rows × 4 columns</p>\n",
              "</div>\n",
              "      <button class=\"colab-df-convert\" onclick=\"convertToInteractive('df-2287254e-86a7-48ce-923e-3caf67b01188')\"\n",
              "              title=\"Convert this dataframe to an interactive table.\"\n",
              "              style=\"display:none;\">\n",
              "        \n",
              "  <svg xmlns=\"http://www.w3.org/2000/svg\" height=\"24px\"viewBox=\"0 0 24 24\"\n",
              "       width=\"24px\">\n",
              "    <path d=\"M0 0h24v24H0V0z\" fill=\"none\"/>\n",
              "    <path d=\"M18.56 5.44l.94 2.06.94-2.06 2.06-.94-2.06-.94-.94-2.06-.94 2.06-2.06.94zm-11 1L8.5 8.5l.94-2.06 2.06-.94-2.06-.94L8.5 2.5l-.94 2.06-2.06.94zm10 10l.94 2.06.94-2.06 2.06-.94-2.06-.94-.94-2.06-.94 2.06-2.06.94z\"/><path d=\"M17.41 7.96l-1.37-1.37c-.4-.4-.92-.59-1.43-.59-.52 0-1.04.2-1.43.59L10.3 9.45l-7.72 7.72c-.78.78-.78 2.05 0 2.83L4 21.41c.39.39.9.59 1.41.59.51 0 1.02-.2 1.41-.59l7.78-7.78 2.81-2.81c.8-.78.8-2.07 0-2.86zM5.41 20L4 18.59l7.72-7.72 1.47 1.35L5.41 20z\"/>\n",
              "  </svg>\n",
              "      </button>\n",
              "      \n",
              "  <style>\n",
              "    .colab-df-container {\n",
              "      display:flex;\n",
              "      flex-wrap:wrap;\n",
              "      gap: 12px;\n",
              "    }\n",
              "\n",
              "    .colab-df-convert {\n",
              "      background-color: #E8F0FE;\n",
              "      border: none;\n",
              "      border-radius: 50%;\n",
              "      cursor: pointer;\n",
              "      display: none;\n",
              "      fill: #1967D2;\n",
              "      height: 32px;\n",
              "      padding: 0 0 0 0;\n",
              "      width: 32px;\n",
              "    }\n",
              "\n",
              "    .colab-df-convert:hover {\n",
              "      background-color: #E2EBFA;\n",
              "      box-shadow: 0px 1px 2px rgba(60, 64, 67, 0.3), 0px 1px 3px 1px rgba(60, 64, 67, 0.15);\n",
              "      fill: #174EA6;\n",
              "    }\n",
              "\n",
              "    [theme=dark] .colab-df-convert {\n",
              "      background-color: #3B4455;\n",
              "      fill: #D2E3FC;\n",
              "    }\n",
              "\n",
              "    [theme=dark] .colab-df-convert:hover {\n",
              "      background-color: #434B5C;\n",
              "      box-shadow: 0px 1px 3px 1px rgba(0, 0, 0, 0.15);\n",
              "      filter: drop-shadow(0px 1px 2px rgba(0, 0, 0, 0.3));\n",
              "      fill: #FFFFFF;\n",
              "    }\n",
              "  </style>\n",
              "\n",
              "      <script>\n",
              "        const buttonEl =\n",
              "          document.querySelector('#df-2287254e-86a7-48ce-923e-3caf67b01188 button.colab-df-convert');\n",
              "        buttonEl.style.display =\n",
              "          google.colab.kernel.accessAllowed ? 'block' : 'none';\n",
              "\n",
              "        async function convertToInteractive(key) {\n",
              "          const element = document.querySelector('#df-2287254e-86a7-48ce-923e-3caf67b01188');\n",
              "          const dataTable =\n",
              "            await google.colab.kernel.invokeFunction('convertToInteractive',\n",
              "                                                     [key], {});\n",
              "          if (!dataTable) return;\n",
              "\n",
              "          const docLinkHtml = 'Like what you see? Visit the ' +\n",
              "            '<a target=\"_blank\" href=https://colab.research.google.com/notebooks/data_table.ipynb>data table notebook</a>'\n",
              "            + ' to learn more about interactive tables.';\n",
              "          element.innerHTML = '';\n",
              "          dataTable['output_type'] = 'display_data';\n",
              "          await google.colab.output.renderOutput(dataTable, element);\n",
              "          const docLink = document.createElement('div');\n",
              "          docLink.innerHTML = docLinkHtml;\n",
              "          element.appendChild(docLink);\n",
              "        }\n",
              "      </script>\n",
              "    </div>\n",
              "  </div>\n",
              "  "
            ]
          },
          "metadata": {},
          "execution_count": 12
        }
      ]
    },
    {
      "cell_type": "code",
      "source": [
        "# P2299 has 2 units 有兩種QXXX\n",
        "df48[df48[\"a\"].str.contains(\"P2299\")].a.unique()"
      ],
      "metadata": {
        "id": "0Kf-3cM7qEP8",
        "colab": {
          "base_uri": "https://localhost:8080/"
        },
        "outputId": "116e57e7-8425-412a-ab17-ab7c73d4ed45"
      },
      "id": "0Kf-3cM7qEP8",
      "execution_count": null,
      "outputs": [
        {
          "output_type": "execute_result",
          "data": {
            "text/plain": [
              "array(['P2299_Q550207', 'P2299_Q4917'], dtype=object)"
            ]
          },
          "metadata": {},
          "execution_count": 13
        }
      ]
    },
    {
      "cell_type": "code",
      "source": [
        "# preparing idmap for checking real name\n",
        "entity_idmap = {}\n",
        "with open(f'{path}/entity_labels_en.txt',encoding=\"utf-8\") as f:\n",
        "    for line in f:\n",
        "        k, v = line.strip().split('\\t')\n",
        "        entity_idmap[k.strip()] = v.strip()\n",
        "attri_idmap={}\n",
        "with open(f'{path}/attribute_labels_en.txt',encoding=\"utf-8\") as f:\n",
        "    for line in f:\n",
        "        k, v = line.strip().split('\\t')\n",
        "        attri_idmap[k.strip()] = v.strip()\n",
        "attri_idmap['P625_Latitude']='coordinate location(latitude)'\n",
        "attri_idmap['P625_Longtiude']='coordinate location(logtitude)'\n",
        "attri_idmap['P1332_Longtiude']='coordinates of northernmost point'\n",
        "attri_idmap['P1333_Longtiude']='coordinates of southernmost point'\n",
        "attri_idmap['P1334_Longtiude']='coordinates of easternmost point'\n",
        "attri_idmap['P1335_Longtiude']='coordinates of westernmost point'"
      ],
      "metadata": {
        "id": "pdXy0RfSJGBO"
      },
      "id": "pdXy0RfSJGBO",
      "execution_count": null,
      "outputs": []
    },
    {
      "cell_type": "code",
      "source": [
        "# some are meanful zero value but some are not\n",
        "df_vzero=df48[df48[\"v\"]==0].sort_values(by='a')\n",
        "df_vzero.loc[:,'name_e']=df48['e'].map(entity_idmap)\n",
        "df_vzero.loc[:,'name_a']=df48['a'].map(attri_idmap)"
      ],
      "metadata": {
        "id": "1XMVPZLudOHi"
      },
      "id": "1XMVPZLudOHi",
      "execution_count": null,
      "outputs": []
    },
    {
      "cell_type": "code",
      "source": [
        "df_vzero"
      ],
      "metadata": {
        "colab": {
          "base_uri": "https://localhost:8080/",
          "height": 835
        },
        "id": "LmGG9AEhJqG2",
        "outputId": "15e9ba8b-f1ca-4a6a-e2ba-1a46faf9fd8b"
      },
      "id": "LmGG9AEhJqG2",
      "execution_count": null,
      "outputs": [
        {
          "output_type": "execute_result",
          "data": {
            "text/plain": [
              "               e      a    v                                          xml  \\\n",
              "29269   Q1818674  P1082  0.0  ^<http://www.w3.org/2001/XMLSchema#decimal>   \n",
              "24010   Q1655937  P1082  0.0  ^<http://www.w3.org/2001/XMLSchema#decimal>   \n",
              "133081   Q834577  P1082  0.0  ^<http://www.w3.org/2001/XMLSchema#decimal>   \n",
              "101793  Q5552475  P1082  0.0  ^<http://www.w3.org/2001/XMLSchema#decimal>   \n",
              "98936    Q540373  P1082  0.0  ^<http://www.w3.org/2001/XMLSchema#decimal>   \n",
              "...          ...    ...  ...                                          ...   \n",
              "91615   Q5115598  P6547  0.0  ^<http://www.w3.org/2001/XMLSchema#decimal>   \n",
              "100611   Q549201  P6547  0.0  ^<http://www.w3.org/2001/XMLSchema#decimal>   \n",
              "49627   Q2742741  P6547  0.0  ^<http://www.w3.org/2001/XMLSchema#decimal>   \n",
              "124904   Q739767  P6547  0.0  ^<http://www.w3.org/2001/XMLSchema#decimal>   \n",
              "14402   Q1356301  P6547  0.0  ^<http://www.w3.org/2001/XMLSchema#decimal>   \n",
              "\n",
              "       new_v  pre_a     Q              name_e                    name_a  \n",
              "29269     +0  P1082  Q199          Sule Stack                population  \n",
              "24010     +0  P1082  Q199  St. Matthew Island                population  \n",
              "133081    +0  P1082  Q199           Vot Tande                population  \n",
              "101793    +0  P1082  Q199            Gerovasa                population  \n",
              "98936     +0  P1082  Q199       Zemlya Georga                population  \n",
              "...      ...    ...   ...                 ...                       ...  \n",
              "91615     +0  P6547  Q199         Chuck Luksa  career plus-minus rating  \n",
              "100611    +0  P6547  Q199           Matt Read  career plus-minus rating  \n",
              "49627     +0  P6547  Q199       Brian Felsner  career plus-minus rating  \n",
              "124904    +0  P6547  Q199     Harijs Vītoliņš  career plus-minus rating  \n",
              "14402     +0  P6547  Q199     Kristián Kudroč  career plus-minus rating  \n",
              "\n",
              "[2528 rows x 9 columns]"
            ],
            "text/html": [
              "\n",
              "  <div id=\"df-24f153c1-95a4-483c-af5b-16531f78bf3c\">\n",
              "    <div class=\"colab-df-container\">\n",
              "      <div>\n",
              "<style scoped>\n",
              "    .dataframe tbody tr th:only-of-type {\n",
              "        vertical-align: middle;\n",
              "    }\n",
              "\n",
              "    .dataframe tbody tr th {\n",
              "        vertical-align: top;\n",
              "    }\n",
              "\n",
              "    .dataframe thead th {\n",
              "        text-align: right;\n",
              "    }\n",
              "</style>\n",
              "<table border=\"1\" class=\"dataframe\">\n",
              "  <thead>\n",
              "    <tr style=\"text-align: right;\">\n",
              "      <th></th>\n",
              "      <th>e</th>\n",
              "      <th>a</th>\n",
              "      <th>v</th>\n",
              "      <th>xml</th>\n",
              "      <th>new_v</th>\n",
              "      <th>pre_a</th>\n",
              "      <th>Q</th>\n",
              "      <th>name_e</th>\n",
              "      <th>name_a</th>\n",
              "    </tr>\n",
              "  </thead>\n",
              "  <tbody>\n",
              "    <tr>\n",
              "      <th>29269</th>\n",
              "      <td>Q1818674</td>\n",
              "      <td>P1082</td>\n",
              "      <td>0.0</td>\n",
              "      <td>^&lt;http://www.w3.org/2001/XMLSchema#decimal&gt;</td>\n",
              "      <td>+0</td>\n",
              "      <td>P1082</td>\n",
              "      <td>Q199</td>\n",
              "      <td>Sule Stack</td>\n",
              "      <td>population</td>\n",
              "    </tr>\n",
              "    <tr>\n",
              "      <th>24010</th>\n",
              "      <td>Q1655937</td>\n",
              "      <td>P1082</td>\n",
              "      <td>0.0</td>\n",
              "      <td>^&lt;http://www.w3.org/2001/XMLSchema#decimal&gt;</td>\n",
              "      <td>+0</td>\n",
              "      <td>P1082</td>\n",
              "      <td>Q199</td>\n",
              "      <td>St. Matthew Island</td>\n",
              "      <td>population</td>\n",
              "    </tr>\n",
              "    <tr>\n",
              "      <th>133081</th>\n",
              "      <td>Q834577</td>\n",
              "      <td>P1082</td>\n",
              "      <td>0.0</td>\n",
              "      <td>^&lt;http://www.w3.org/2001/XMLSchema#decimal&gt;</td>\n",
              "      <td>+0</td>\n",
              "      <td>P1082</td>\n",
              "      <td>Q199</td>\n",
              "      <td>Vot Tande</td>\n",
              "      <td>population</td>\n",
              "    </tr>\n",
              "    <tr>\n",
              "      <th>101793</th>\n",
              "      <td>Q5552475</td>\n",
              "      <td>P1082</td>\n",
              "      <td>0.0</td>\n",
              "      <td>^&lt;http://www.w3.org/2001/XMLSchema#decimal&gt;</td>\n",
              "      <td>+0</td>\n",
              "      <td>P1082</td>\n",
              "      <td>Q199</td>\n",
              "      <td>Gerovasa</td>\n",
              "      <td>population</td>\n",
              "    </tr>\n",
              "    <tr>\n",
              "      <th>98936</th>\n",
              "      <td>Q540373</td>\n",
              "      <td>P1082</td>\n",
              "      <td>0.0</td>\n",
              "      <td>^&lt;http://www.w3.org/2001/XMLSchema#decimal&gt;</td>\n",
              "      <td>+0</td>\n",
              "      <td>P1082</td>\n",
              "      <td>Q199</td>\n",
              "      <td>Zemlya Georga</td>\n",
              "      <td>population</td>\n",
              "    </tr>\n",
              "    <tr>\n",
              "      <th>...</th>\n",
              "      <td>...</td>\n",
              "      <td>...</td>\n",
              "      <td>...</td>\n",
              "      <td>...</td>\n",
              "      <td>...</td>\n",
              "      <td>...</td>\n",
              "      <td>...</td>\n",
              "      <td>...</td>\n",
              "      <td>...</td>\n",
              "    </tr>\n",
              "    <tr>\n",
              "      <th>91615</th>\n",
              "      <td>Q5115598</td>\n",
              "      <td>P6547</td>\n",
              "      <td>0.0</td>\n",
              "      <td>^&lt;http://www.w3.org/2001/XMLSchema#decimal&gt;</td>\n",
              "      <td>+0</td>\n",
              "      <td>P6547</td>\n",
              "      <td>Q199</td>\n",
              "      <td>Chuck Luksa</td>\n",
              "      <td>career plus-minus rating</td>\n",
              "    </tr>\n",
              "    <tr>\n",
              "      <th>100611</th>\n",
              "      <td>Q549201</td>\n",
              "      <td>P6547</td>\n",
              "      <td>0.0</td>\n",
              "      <td>^&lt;http://www.w3.org/2001/XMLSchema#decimal&gt;</td>\n",
              "      <td>+0</td>\n",
              "      <td>P6547</td>\n",
              "      <td>Q199</td>\n",
              "      <td>Matt Read</td>\n",
              "      <td>career plus-minus rating</td>\n",
              "    </tr>\n",
              "    <tr>\n",
              "      <th>49627</th>\n",
              "      <td>Q2742741</td>\n",
              "      <td>P6547</td>\n",
              "      <td>0.0</td>\n",
              "      <td>^&lt;http://www.w3.org/2001/XMLSchema#decimal&gt;</td>\n",
              "      <td>+0</td>\n",
              "      <td>P6547</td>\n",
              "      <td>Q199</td>\n",
              "      <td>Brian Felsner</td>\n",
              "      <td>career plus-minus rating</td>\n",
              "    </tr>\n",
              "    <tr>\n",
              "      <th>124904</th>\n",
              "      <td>Q739767</td>\n",
              "      <td>P6547</td>\n",
              "      <td>0.0</td>\n",
              "      <td>^&lt;http://www.w3.org/2001/XMLSchema#decimal&gt;</td>\n",
              "      <td>+0</td>\n",
              "      <td>P6547</td>\n",
              "      <td>Q199</td>\n",
              "      <td>Harijs Vītoliņš</td>\n",
              "      <td>career plus-minus rating</td>\n",
              "    </tr>\n",
              "    <tr>\n",
              "      <th>14402</th>\n",
              "      <td>Q1356301</td>\n",
              "      <td>P6547</td>\n",
              "      <td>0.0</td>\n",
              "      <td>^&lt;http://www.w3.org/2001/XMLSchema#decimal&gt;</td>\n",
              "      <td>+0</td>\n",
              "      <td>P6547</td>\n",
              "      <td>Q199</td>\n",
              "      <td>Kristián Kudroč</td>\n",
              "      <td>career plus-minus rating</td>\n",
              "    </tr>\n",
              "  </tbody>\n",
              "</table>\n",
              "<p>2528 rows × 9 columns</p>\n",
              "</div>\n",
              "      <button class=\"colab-df-convert\" onclick=\"convertToInteractive('df-24f153c1-95a4-483c-af5b-16531f78bf3c')\"\n",
              "              title=\"Convert this dataframe to an interactive table.\"\n",
              "              style=\"display:none;\">\n",
              "        \n",
              "  <svg xmlns=\"http://www.w3.org/2000/svg\" height=\"24px\"viewBox=\"0 0 24 24\"\n",
              "       width=\"24px\">\n",
              "    <path d=\"M0 0h24v24H0V0z\" fill=\"none\"/>\n",
              "    <path d=\"M18.56 5.44l.94 2.06.94-2.06 2.06-.94-2.06-.94-.94-2.06-.94 2.06-2.06.94zm-11 1L8.5 8.5l.94-2.06 2.06-.94-2.06-.94L8.5 2.5l-.94 2.06-2.06.94zm10 10l.94 2.06.94-2.06 2.06-.94-2.06-.94-.94-2.06-.94 2.06-2.06.94z\"/><path d=\"M17.41 7.96l-1.37-1.37c-.4-.4-.92-.59-1.43-.59-.52 0-1.04.2-1.43.59L10.3 9.45l-7.72 7.72c-.78.78-.78 2.05 0 2.83L4 21.41c.39.39.9.59 1.41.59.51 0 1.02-.2 1.41-.59l7.78-7.78 2.81-2.81c.8-.78.8-2.07 0-2.86zM5.41 20L4 18.59l7.72-7.72 1.47 1.35L5.41 20z\"/>\n",
              "  </svg>\n",
              "      </button>\n",
              "      \n",
              "  <style>\n",
              "    .colab-df-container {\n",
              "      display:flex;\n",
              "      flex-wrap:wrap;\n",
              "      gap: 12px;\n",
              "    }\n",
              "\n",
              "    .colab-df-convert {\n",
              "      background-color: #E8F0FE;\n",
              "      border: none;\n",
              "      border-radius: 50%;\n",
              "      cursor: pointer;\n",
              "      display: none;\n",
              "      fill: #1967D2;\n",
              "      height: 32px;\n",
              "      padding: 0 0 0 0;\n",
              "      width: 32px;\n",
              "    }\n",
              "\n",
              "    .colab-df-convert:hover {\n",
              "      background-color: #E2EBFA;\n",
              "      box-shadow: 0px 1px 2px rgba(60, 64, 67, 0.3), 0px 1px 3px 1px rgba(60, 64, 67, 0.15);\n",
              "      fill: #174EA6;\n",
              "    }\n",
              "\n",
              "    [theme=dark] .colab-df-convert {\n",
              "      background-color: #3B4455;\n",
              "      fill: #D2E3FC;\n",
              "    }\n",
              "\n",
              "    [theme=dark] .colab-df-convert:hover {\n",
              "      background-color: #434B5C;\n",
              "      box-shadow: 0px 1px 3px 1px rgba(0, 0, 0, 0.15);\n",
              "      filter: drop-shadow(0px 1px 2px rgba(0, 0, 0, 0.3));\n",
              "      fill: #FFFFFF;\n",
              "    }\n",
              "  </style>\n",
              "\n",
              "      <script>\n",
              "        const buttonEl =\n",
              "          document.querySelector('#df-24f153c1-95a4-483c-af5b-16531f78bf3c button.colab-df-convert');\n",
              "        buttonEl.style.display =\n",
              "          google.colab.kernel.accessAllowed ? 'block' : 'none';\n",
              "\n",
              "        async function convertToInteractive(key) {\n",
              "          const element = document.querySelector('#df-24f153c1-95a4-483c-af5b-16531f78bf3c');\n",
              "          const dataTable =\n",
              "            await google.colab.kernel.invokeFunction('convertToInteractive',\n",
              "                                                     [key], {});\n",
              "          if (!dataTable) return;\n",
              "\n",
              "          const docLinkHtml = 'Like what you see? Visit the ' +\n",
              "            '<a target=\"_blank\" href=https://colab.research.google.com/notebooks/data_table.ipynb>data table notebook</a>'\n",
              "            + ' to learn more about interactive tables.';\n",
              "          element.innerHTML = '';\n",
              "          dataTable['output_type'] = 'display_data';\n",
              "          await google.colab.output.renderOutput(dataTable, element);\n",
              "          const docLink = document.createElement('div');\n",
              "          docLink.innerHTML = docLinkHtml;\n",
              "          element.appendChild(docLink);\n",
              "        }\n",
              "      </script>\n",
              "    </div>\n",
              "  </div>\n",
              "  "
            ]
          },
          "metadata": {},
          "execution_count": 110
        }
      ]
    },
    {
      "cell_type": "code",
      "source": [
        "print(f\"there are total {len(df_vzero)} data which has 0.0 in the value column\")\n",
        "print(f\"there are total {len(df_vzero['a'].unique())} data which has 0.0 in the value column\")"
      ],
      "metadata": {
        "colab": {
          "base_uri": "https://localhost:8080/"
        },
        "id": "mha8ltZLU_Nn",
        "outputId": "b379a35e-c00b-4d7b-9f80-8c60b754715b"
      },
      "id": "mha8ltZLU_Nn",
      "execution_count": null,
      "outputs": [
        {
          "output_type": "stream",
          "name": "stdout",
          "text": [
            "there are total 2528 data which has 0.0 in the value column\n",
            "there are total 35 data which has 0.0 in the value column\n"
          ]
        }
      ]
    },
    {
      "cell_type": "code",
      "source": [
        "#check where df['v']=0 is\n",
        "df48[(df48['v']==0.0) & (df48['a']=='P1120')]\n",
        "df48[df48['a']=='P5045']"
      ],
      "metadata": {
        "colab": {
          "base_uri": "https://localhost:8080/",
          "height": 424
        },
        "id": "tDAdeUu92Zkd",
        "outputId": "289268aa-b8a0-4071-cfe8-ac9f23a247dc"
      },
      "id": "tDAdeUu92Zkd",
      "execution_count": null,
      "outputs": [
        {
          "output_type": "execute_result",
          "data": {
            "text/plain": [
              "                e      a        v  \\\n",
              "5778    Q10990655  P5045   6219.0   \n",
              "9140      Q117868  P5045  52898.0   \n",
              "9806     Q1204824  P5045  47608.0   \n",
              "10147    Q1228693  P5045  99161.0   \n",
              "10966     Q125961  P5045  91631.0   \n",
              "...           ...    ...      ...   \n",
              "120160   Q7098220  P5045  34083.0   \n",
              "126130    Q751553  P5045  25373.0   \n",
              "136695    Q863595  P5045  43269.0   \n",
              "137807   Q8774386  P5045  17960.0   \n",
              "137813   Q8774389  P5045  14313.0   \n",
              "\n",
              "                                                xml new_v  pre_a     Q  \n",
              "5778    ^<http://www.w3.org/2001/XMLSchema#decimal>  +621  P5045  Q199  \n",
              "9140    ^<http://www.w3.org/2001/XMLSchema#decimal>  +528  P5045  Q199  \n",
              "9806    ^<http://www.w3.org/2001/XMLSchema#decimal>  +476  P5045  Q199  \n",
              "10147   ^<http://www.w3.org/2001/XMLSchema#decimal>  +991  P5045  Q199  \n",
              "10966   ^<http://www.w3.org/2001/XMLSchema#decimal>  +916  P5045  Q199  \n",
              "...                                             ...   ...    ...   ...  \n",
              "120160  ^<http://www.w3.org/2001/XMLSchema#decimal>  +340  P5045  Q199  \n",
              "126130  ^<http://www.w3.org/2001/XMLSchema#decimal>  +253  P5045  Q199  \n",
              "136695  ^<http://www.w3.org/2001/XMLSchema#decimal>  +432  P5045  Q199  \n",
              "137807  ^<http://www.w3.org/2001/XMLSchema#decimal>  +179  P5045  Q199  \n",
              "137813  ^<http://www.w3.org/2001/XMLSchema#decimal>  +143  P5045  Q199  \n",
              "\n",
              "[63 rows x 7 columns]"
            ],
            "text/html": [
              "\n",
              "  <div id=\"df-2a0d3127-4376-4fd0-80bb-6d4a71823b89\">\n",
              "    <div class=\"colab-df-container\">\n",
              "      <div>\n",
              "<style scoped>\n",
              "    .dataframe tbody tr th:only-of-type {\n",
              "        vertical-align: middle;\n",
              "    }\n",
              "\n",
              "    .dataframe tbody tr th {\n",
              "        vertical-align: top;\n",
              "    }\n",
              "\n",
              "    .dataframe thead th {\n",
              "        text-align: right;\n",
              "    }\n",
              "</style>\n",
              "<table border=\"1\" class=\"dataframe\">\n",
              "  <thead>\n",
              "    <tr style=\"text-align: right;\">\n",
              "      <th></th>\n",
              "      <th>e</th>\n",
              "      <th>a</th>\n",
              "      <th>v</th>\n",
              "      <th>xml</th>\n",
              "      <th>new_v</th>\n",
              "      <th>pre_a</th>\n",
              "      <th>Q</th>\n",
              "    </tr>\n",
              "  </thead>\n",
              "  <tbody>\n",
              "    <tr>\n",
              "      <th>5778</th>\n",
              "      <td>Q10990655</td>\n",
              "      <td>P5045</td>\n",
              "      <td>6219.0</td>\n",
              "      <td>^&lt;http://www.w3.org/2001/XMLSchema#decimal&gt;</td>\n",
              "      <td>+621</td>\n",
              "      <td>P5045</td>\n",
              "      <td>Q199</td>\n",
              "    </tr>\n",
              "    <tr>\n",
              "      <th>9140</th>\n",
              "      <td>Q117868</td>\n",
              "      <td>P5045</td>\n",
              "      <td>52898.0</td>\n",
              "      <td>^&lt;http://www.w3.org/2001/XMLSchema#decimal&gt;</td>\n",
              "      <td>+528</td>\n",
              "      <td>P5045</td>\n",
              "      <td>Q199</td>\n",
              "    </tr>\n",
              "    <tr>\n",
              "      <th>9806</th>\n",
              "      <td>Q1204824</td>\n",
              "      <td>P5045</td>\n",
              "      <td>47608.0</td>\n",
              "      <td>^&lt;http://www.w3.org/2001/XMLSchema#decimal&gt;</td>\n",
              "      <td>+476</td>\n",
              "      <td>P5045</td>\n",
              "      <td>Q199</td>\n",
              "    </tr>\n",
              "    <tr>\n",
              "      <th>10147</th>\n",
              "      <td>Q1228693</td>\n",
              "      <td>P5045</td>\n",
              "      <td>99161.0</td>\n",
              "      <td>^&lt;http://www.w3.org/2001/XMLSchema#decimal&gt;</td>\n",
              "      <td>+991</td>\n",
              "      <td>P5045</td>\n",
              "      <td>Q199</td>\n",
              "    </tr>\n",
              "    <tr>\n",
              "      <th>10966</th>\n",
              "      <td>Q125961</td>\n",
              "      <td>P5045</td>\n",
              "      <td>91631.0</td>\n",
              "      <td>^&lt;http://www.w3.org/2001/XMLSchema#decimal&gt;</td>\n",
              "      <td>+916</td>\n",
              "      <td>P5045</td>\n",
              "      <td>Q199</td>\n",
              "    </tr>\n",
              "    <tr>\n",
              "      <th>...</th>\n",
              "      <td>...</td>\n",
              "      <td>...</td>\n",
              "      <td>...</td>\n",
              "      <td>...</td>\n",
              "      <td>...</td>\n",
              "      <td>...</td>\n",
              "      <td>...</td>\n",
              "    </tr>\n",
              "    <tr>\n",
              "      <th>120160</th>\n",
              "      <td>Q7098220</td>\n",
              "      <td>P5045</td>\n",
              "      <td>34083.0</td>\n",
              "      <td>^&lt;http://www.w3.org/2001/XMLSchema#decimal&gt;</td>\n",
              "      <td>+340</td>\n",
              "      <td>P5045</td>\n",
              "      <td>Q199</td>\n",
              "    </tr>\n",
              "    <tr>\n",
              "      <th>126130</th>\n",
              "      <td>Q751553</td>\n",
              "      <td>P5045</td>\n",
              "      <td>25373.0</td>\n",
              "      <td>^&lt;http://www.w3.org/2001/XMLSchema#decimal&gt;</td>\n",
              "      <td>+253</td>\n",
              "      <td>P5045</td>\n",
              "      <td>Q199</td>\n",
              "    </tr>\n",
              "    <tr>\n",
              "      <th>136695</th>\n",
              "      <td>Q863595</td>\n",
              "      <td>P5045</td>\n",
              "      <td>43269.0</td>\n",
              "      <td>^&lt;http://www.w3.org/2001/XMLSchema#decimal&gt;</td>\n",
              "      <td>+432</td>\n",
              "      <td>P5045</td>\n",
              "      <td>Q199</td>\n",
              "    </tr>\n",
              "    <tr>\n",
              "      <th>137807</th>\n",
              "      <td>Q8774386</td>\n",
              "      <td>P5045</td>\n",
              "      <td>17960.0</td>\n",
              "      <td>^&lt;http://www.w3.org/2001/XMLSchema#decimal&gt;</td>\n",
              "      <td>+179</td>\n",
              "      <td>P5045</td>\n",
              "      <td>Q199</td>\n",
              "    </tr>\n",
              "    <tr>\n",
              "      <th>137813</th>\n",
              "      <td>Q8774389</td>\n",
              "      <td>P5045</td>\n",
              "      <td>14313.0</td>\n",
              "      <td>^&lt;http://www.w3.org/2001/XMLSchema#decimal&gt;</td>\n",
              "      <td>+143</td>\n",
              "      <td>P5045</td>\n",
              "      <td>Q199</td>\n",
              "    </tr>\n",
              "  </tbody>\n",
              "</table>\n",
              "<p>63 rows × 7 columns</p>\n",
              "</div>\n",
              "      <button class=\"colab-df-convert\" onclick=\"convertToInteractive('df-2a0d3127-4376-4fd0-80bb-6d4a71823b89')\"\n",
              "              title=\"Convert this dataframe to an interactive table.\"\n",
              "              style=\"display:none;\">\n",
              "        \n",
              "  <svg xmlns=\"http://www.w3.org/2000/svg\" height=\"24px\"viewBox=\"0 0 24 24\"\n",
              "       width=\"24px\">\n",
              "    <path d=\"M0 0h24v24H0V0z\" fill=\"none\"/>\n",
              "    <path d=\"M18.56 5.44l.94 2.06.94-2.06 2.06-.94-2.06-.94-.94-2.06-.94 2.06-2.06.94zm-11 1L8.5 8.5l.94-2.06 2.06-.94-2.06-.94L8.5 2.5l-.94 2.06-2.06.94zm10 10l.94 2.06.94-2.06 2.06-.94-2.06-.94-.94-2.06-.94 2.06-2.06.94z\"/><path d=\"M17.41 7.96l-1.37-1.37c-.4-.4-.92-.59-1.43-.59-.52 0-1.04.2-1.43.59L10.3 9.45l-7.72 7.72c-.78.78-.78 2.05 0 2.83L4 21.41c.39.39.9.59 1.41.59.51 0 1.02-.2 1.41-.59l7.78-7.78 2.81-2.81c.8-.78.8-2.07 0-2.86zM5.41 20L4 18.59l7.72-7.72 1.47 1.35L5.41 20z\"/>\n",
              "  </svg>\n",
              "      </button>\n",
              "      \n",
              "  <style>\n",
              "    .colab-df-container {\n",
              "      display:flex;\n",
              "      flex-wrap:wrap;\n",
              "      gap: 12px;\n",
              "    }\n",
              "\n",
              "    .colab-df-convert {\n",
              "      background-color: #E8F0FE;\n",
              "      border: none;\n",
              "      border-radius: 50%;\n",
              "      cursor: pointer;\n",
              "      display: none;\n",
              "      fill: #1967D2;\n",
              "      height: 32px;\n",
              "      padding: 0 0 0 0;\n",
              "      width: 32px;\n",
              "    }\n",
              "\n",
              "    .colab-df-convert:hover {\n",
              "      background-color: #E2EBFA;\n",
              "      box-shadow: 0px 1px 2px rgba(60, 64, 67, 0.3), 0px 1px 3px 1px rgba(60, 64, 67, 0.15);\n",
              "      fill: #174EA6;\n",
              "    }\n",
              "\n",
              "    [theme=dark] .colab-df-convert {\n",
              "      background-color: #3B4455;\n",
              "      fill: #D2E3FC;\n",
              "    }\n",
              "\n",
              "    [theme=dark] .colab-df-convert:hover {\n",
              "      background-color: #434B5C;\n",
              "      box-shadow: 0px 1px 3px 1px rgba(0, 0, 0, 0.15);\n",
              "      filter: drop-shadow(0px 1px 2px rgba(0, 0, 0, 0.3));\n",
              "      fill: #FFFFFF;\n",
              "    }\n",
              "  </style>\n",
              "\n",
              "      <script>\n",
              "        const buttonEl =\n",
              "          document.querySelector('#df-2a0d3127-4376-4fd0-80bb-6d4a71823b89 button.colab-df-convert');\n",
              "        buttonEl.style.display =\n",
              "          google.colab.kernel.accessAllowed ? 'block' : 'none';\n",
              "\n",
              "        async function convertToInteractive(key) {\n",
              "          const element = document.querySelector('#df-2a0d3127-4376-4fd0-80bb-6d4a71823b89');\n",
              "          const dataTable =\n",
              "            await google.colab.kernel.invokeFunction('convertToInteractive',\n",
              "                                                     [key], {});\n",
              "          if (!dataTable) return;\n",
              "\n",
              "          const docLinkHtml = 'Like what you see? Visit the ' +\n",
              "            '<a target=\"_blank\" href=https://colab.research.google.com/notebooks/data_table.ipynb>data table notebook</a>'\n",
              "            + ' to learn more about interactive tables.';\n",
              "          element.innerHTML = '';\n",
              "          dataTable['output_type'] = 'display_data';\n",
              "          await google.colab.output.renderOutput(dataTable, element);\n",
              "          const docLink = document.createElement('div');\n",
              "          docLink.innerHTML = docLinkHtml;\n",
              "          element.appendChild(docLink);\n",
              "        }\n",
              "      </script>\n",
              "    </div>\n",
              "  </div>\n",
              "  "
            ]
          },
          "metadata": {},
          "execution_count": 113
        }
      ]
    },
    {
      "cell_type": "code",
      "source": [
        "df_vzero[df_vzero['name_a']=='attendance']"
      ],
      "metadata": {
        "colab": {
          "base_uri": "https://localhost:8080/",
          "height": 81
        },
        "id": "JHe-9MLQVwKy",
        "outputId": "25ba2e1a-4d9c-4b9d-909d-bfb25cb5c028"
      },
      "id": "JHe-9MLQVwKy",
      "execution_count": null,
      "outputs": [
        {
          "output_type": "execute_result",
          "data": {
            "text/plain": [
              "         e      a    v                                          xml new_v  \\\n",
              "6677  Q111  P1110  0.0  ^<http://www.w3.org/2001/XMLSchema#decimal>    +0   \n",
              "\n",
              "      pre_a     Q name_e      name_a  \n",
              "6677  P1110  Q199   Mars  attendance  "
            ],
            "text/html": [
              "\n",
              "  <div id=\"df-31b70bb1-e539-4875-8c13-188fcb4834c9\">\n",
              "    <div class=\"colab-df-container\">\n",
              "      <div>\n",
              "<style scoped>\n",
              "    .dataframe tbody tr th:only-of-type {\n",
              "        vertical-align: middle;\n",
              "    }\n",
              "\n",
              "    .dataframe tbody tr th {\n",
              "        vertical-align: top;\n",
              "    }\n",
              "\n",
              "    .dataframe thead th {\n",
              "        text-align: right;\n",
              "    }\n",
              "</style>\n",
              "<table border=\"1\" class=\"dataframe\">\n",
              "  <thead>\n",
              "    <tr style=\"text-align: right;\">\n",
              "      <th></th>\n",
              "      <th>e</th>\n",
              "      <th>a</th>\n",
              "      <th>v</th>\n",
              "      <th>xml</th>\n",
              "      <th>new_v</th>\n",
              "      <th>pre_a</th>\n",
              "      <th>Q</th>\n",
              "      <th>name_e</th>\n",
              "      <th>name_a</th>\n",
              "    </tr>\n",
              "  </thead>\n",
              "  <tbody>\n",
              "    <tr>\n",
              "      <th>6677</th>\n",
              "      <td>Q111</td>\n",
              "      <td>P1110</td>\n",
              "      <td>0.0</td>\n",
              "      <td>^&lt;http://www.w3.org/2001/XMLSchema#decimal&gt;</td>\n",
              "      <td>+0</td>\n",
              "      <td>P1110</td>\n",
              "      <td>Q199</td>\n",
              "      <td>Mars</td>\n",
              "      <td>attendance</td>\n",
              "    </tr>\n",
              "  </tbody>\n",
              "</table>\n",
              "</div>\n",
              "      <button class=\"colab-df-convert\" onclick=\"convertToInteractive('df-31b70bb1-e539-4875-8c13-188fcb4834c9')\"\n",
              "              title=\"Convert this dataframe to an interactive table.\"\n",
              "              style=\"display:none;\">\n",
              "        \n",
              "  <svg xmlns=\"http://www.w3.org/2000/svg\" height=\"24px\"viewBox=\"0 0 24 24\"\n",
              "       width=\"24px\">\n",
              "    <path d=\"M0 0h24v24H0V0z\" fill=\"none\"/>\n",
              "    <path d=\"M18.56 5.44l.94 2.06.94-2.06 2.06-.94-2.06-.94-.94-2.06-.94 2.06-2.06.94zm-11 1L8.5 8.5l.94-2.06 2.06-.94-2.06-.94L8.5 2.5l-.94 2.06-2.06.94zm10 10l.94 2.06.94-2.06 2.06-.94-2.06-.94-.94-2.06-.94 2.06-2.06.94z\"/><path d=\"M17.41 7.96l-1.37-1.37c-.4-.4-.92-.59-1.43-.59-.52 0-1.04.2-1.43.59L10.3 9.45l-7.72 7.72c-.78.78-.78 2.05 0 2.83L4 21.41c.39.39.9.59 1.41.59.51 0 1.02-.2 1.41-.59l7.78-7.78 2.81-2.81c.8-.78.8-2.07 0-2.86zM5.41 20L4 18.59l7.72-7.72 1.47 1.35L5.41 20z\"/>\n",
              "  </svg>\n",
              "      </button>\n",
              "      \n",
              "  <style>\n",
              "    .colab-df-container {\n",
              "      display:flex;\n",
              "      flex-wrap:wrap;\n",
              "      gap: 12px;\n",
              "    }\n",
              "\n",
              "    .colab-df-convert {\n",
              "      background-color: #E8F0FE;\n",
              "      border: none;\n",
              "      border-radius: 50%;\n",
              "      cursor: pointer;\n",
              "      display: none;\n",
              "      fill: #1967D2;\n",
              "      height: 32px;\n",
              "      padding: 0 0 0 0;\n",
              "      width: 32px;\n",
              "    }\n",
              "\n",
              "    .colab-df-convert:hover {\n",
              "      background-color: #E2EBFA;\n",
              "      box-shadow: 0px 1px 2px rgba(60, 64, 67, 0.3), 0px 1px 3px 1px rgba(60, 64, 67, 0.15);\n",
              "      fill: #174EA6;\n",
              "    }\n",
              "\n",
              "    [theme=dark] .colab-df-convert {\n",
              "      background-color: #3B4455;\n",
              "      fill: #D2E3FC;\n",
              "    }\n",
              "\n",
              "    [theme=dark] .colab-df-convert:hover {\n",
              "      background-color: #434B5C;\n",
              "      box-shadow: 0px 1px 3px 1px rgba(0, 0, 0, 0.15);\n",
              "      filter: drop-shadow(0px 1px 2px rgba(0, 0, 0, 0.3));\n",
              "      fill: #FFFFFF;\n",
              "    }\n",
              "  </style>\n",
              "\n",
              "      <script>\n",
              "        const buttonEl =\n",
              "          document.querySelector('#df-31b70bb1-e539-4875-8c13-188fcb4834c9 button.colab-df-convert');\n",
              "        buttonEl.style.display =\n",
              "          google.colab.kernel.accessAllowed ? 'block' : 'none';\n",
              "\n",
              "        async function convertToInteractive(key) {\n",
              "          const element = document.querySelector('#df-31b70bb1-e539-4875-8c13-188fcb4834c9');\n",
              "          const dataTable =\n",
              "            await google.colab.kernel.invokeFunction('convertToInteractive',\n",
              "                                                     [key], {});\n",
              "          if (!dataTable) return;\n",
              "\n",
              "          const docLinkHtml = 'Like what you see? Visit the ' +\n",
              "            '<a target=\"_blank\" href=https://colab.research.google.com/notebooks/data_table.ipynb>data table notebook</a>'\n",
              "            + ' to learn more about interactive tables.';\n",
              "          element.innerHTML = '';\n",
              "          dataTable['output_type'] = 'display_data';\n",
              "          await google.colab.output.renderOutput(dataTable, element);\n",
              "          const docLink = document.createElement('div');\n",
              "          docLink.innerHTML = docLinkHtml;\n",
              "          element.appendChild(docLink);\n",
              "        }\n",
              "      </script>\n",
              "    </div>\n",
              "  </div>\n",
              "  "
            ]
          },
          "metadata": {},
          "execution_count": 114
        }
      ]
    },
    {
      "cell_type": "markdown",
      "source": [
        "# Dealing with issues 處理以上問題: \n",
        "Take xml part away \"v\"有\"^^<http...>\"RDF格式部分，先拿掉 \\\\\n",
        "\n",
        "Turn into value dtype to float \n",
        "所有變數的值成為可計算的值(有意義可讀取的值) \\\\\n",
        "\n",
        "DataTime dtype: keep year data 時間單位 西元年 \\\\\n",
        "Rescale the values within the same attributes 同attribute value rescale \\\\\n",
        "Drop out unreasonal 0 value 去0 \\\\\n",
        "Drop out the unit (QXXX)去單位 \\\\\n",
        "Keep Attribyes at least number of 15 data 每個屬性最少有15筆資料 \\\\\n"
      ],
      "metadata": {
        "id": "3odjIK45BONu"
      },
      "id": "3odjIK45BONu"
    },
    {
      "cell_type": "code",
      "source": [
        "# 如果\"v\"是時間，取前四位數年代部分，np.where(condition, x,y)在condition下，把x取代y\n",
        "df48[\"new_v\"] = df48[\"v\"].map(lambda x: x[:4])\n",
        "df48.loc[:,\"v\"] = np.where((df48[\"xml\"].str.contains(\"dateTime\")), df48[\"new_v\"], df48[\"v\"])"
      ],
      "metadata": {
        "id": "MCEhe4i2whqb"
      },
      "id": "MCEhe4i2whqb",
      "execution_count": null,
      "outputs": []
    },
    {
      "cell_type": "code",
      "source": [
        "df48[\"v\"]=df48[\"v\"].astype('float')"
      ],
      "metadata": {
        "id": "1NV1eH6rcGXd"
      },
      "id": "1NV1eH6rcGXd",
      "execution_count": null,
      "outputs": []
    },
    {
      "cell_type": "code",
      "source": [
        "df48.dtypes"
      ],
      "metadata": {
        "colab": {
          "base_uri": "https://localhost:8080/"
        },
        "id": "kg2K0-pXtNjA",
        "outputId": "f1a1a918-63db-492c-c3ab-086866d8e2c1"
      },
      "id": "kg2K0-pXtNjA",
      "execution_count": null,
      "outputs": [
        {
          "output_type": "execute_result",
          "data": {
            "text/plain": [
              "e         object\n",
              "a         object\n",
              "v        float64\n",
              "xml       object\n",
              "new_v     object\n",
              "dtype: object"
            ]
          },
          "metadata": {},
          "execution_count": 50
        }
      ]
    },
    {
      "cell_type": "code",
      "source": [
        "#處理a，去單位\n",
        "df48[[\"pre_a\",'Q']] = df48[\"a\"].str.split('_', 1,expand=True)\n",
        "df48.loc[:,\"a\"] = np.where((df48[\"a\"].str.contains(\"Q\")), df48[\"pre_a\"], df48[\"a\"])"
      ],
      "metadata": {
        "id": "nkYkJTe36KTG"
      },
      "id": "nkYkJTe36KTG",
      "execution_count": null,
      "outputs": []
    },
    {
      "cell_type": "code",
      "source": [
        "df=df48"
      ],
      "metadata": {
        "id": "XAWcvcpl5-r5"
      },
      "id": "XAWcvcpl5-r5",
      "execution_count": null,
      "outputs": []
    },
    {
      "cell_type": "code",
      "source": [
        "# 刪掉特定列，有11個不合理的0值變數\n",
        "df = df.drop(df[(df['a']=='P6509') & (df['v']==0.0)].index)#進球相關\n",
        "df = df.drop(df[(df['a']=='P6545') & (df['v']==0.0)].index)\n",
        "df = df.drop(df[(df['a']=='P6544') & (df['v']==0.0)].index)\n",
        "df = df.drop(df[(df['a']=='P6546') & (df['v']==0.0)].index)\n",
        "df = df.drop(df[(df['a']=='P6543') & (df['v']==0.0)].index)\n",
        "df = df.drop(df[(df['a']=='P1279') & (df['v']==0.0)].index)#inflation rate\n",
        "df = df.drop(df[(df['a']=='P2121') & (df['v']==0.0)].index)#prize money\n",
        "df = df.drop(df[(df['a']=='P6344') & (df['v']==0.0)].index)#rural population\n",
        "df = df.drop(df[(df['a']=='P569') & (df['v']==0.0)].index)#birthYear\n",
        "df = df.drop(df[(df['a']=='P3872') & (df['v']==0.0)].index)#惠顧人數patronage\n",
        "df = df.drop(df[(df['a']=='P6547') & (df['v']==0.0)].index)#career plus-minus rating"
      ],
      "metadata": {
        "id": "raWr3XjSALcl"
      },
      "id": "raWr3XjSALcl",
      "execution_count": null,
      "outputs": []
    },
    {
      "cell_type": "markdown",
      "source": [
        "## Rescale decimal values"
      ],
      "metadata": {
        "id": "yFP3JXFl04cV"
      },
      "id": "yFP3JXFl04cV"
    },
    {
      "cell_type": "code",
      "source": [
        "def attvalue2scale(df):\n",
        "  alist=list(df['a'].unique())\n",
        "  for a_name in alist:\n",
        "    attdf = df[df[\"a\"]==a_name]\n",
        "    for i in range(len(attdf)):\n",
        "      result = (df.v - attdf.v.min())/ (attdf.v.max()- attdf.v.min())\n",
        "      return result\n"
      ],
      "metadata": {
        "id": "X7IKKlvgD1Fq"
      },
      "execution_count": null,
      "outputs": [],
      "id": "X7IKKlvgD1Fq"
    },
    {
      "cell_type": "code",
      "source": [
        "df.loc[:,\"rescale_v\"] = np.where((df['xml'].str.contains('decimal')), attvalue2scale(df), df['v'])"
      ],
      "metadata": {
        "id": "hLWptKvQtF4L"
      },
      "id": "hLWptKvQtF4L",
      "execution_count": null,
      "outputs": []
    },
    {
      "cell_type": "code",
      "source": [
        "df48_meta = df.loc[:,['e','a','v','xml','rescale_v']]"
      ],
      "metadata": {
        "id": "524wg6g60ixG"
      },
      "id": "524wg6g60ixG",
      "execution_count": null,
      "outputs": []
    },
    {
      "cell_type": "code",
      "source": [
        "df48_meta.to_csv(f'{path}/cleaningdata/df48_meta',sep=\"\\t\",index=False)"
      ],
      "metadata": {
        "id": "zeHVUcys2ado"
      },
      "id": "zeHVUcys2ado",
      "execution_count": null,
      "outputs": []
    },
    {
      "cell_type": "code",
      "source": [
        "df48_s = df48_meta.loc[:,['e','a','rescale_v']]"
      ],
      "metadata": {
        "id": "1iBVcs1y3R3j"
      },
      "id": "1iBVcs1y3R3j",
      "execution_count": null,
      "outputs": []
    },
    {
      "cell_type": "code",
      "source": [
        "#處理重複資料\n",
        "df48_s = df48_s.groupby(['e', 'a'], as_index=False).mean()"
      ],
      "metadata": {
        "id": "MfDuN_oL6GPi"
      },
      "id": "MfDuN_oL6GPi",
      "execution_count": null,
      "outputs": []
    },
    {
      "cell_type": "code",
      "source": [
        "#keep: attributes > 15\n",
        "filter = df48_s[\"a\"].value_counts()\n",
        "df48_s = df48_s[df48_s['a'].isin(filter.index[filter>=15])]"
      ],
      "metadata": {
        "id": "OQ8XYVc-3XJ_"
      },
      "id": "OQ8XYVc-3XJ_",
      "execution_count": null,
      "outputs": []
    },
    {
      "cell_type": "code",
      "source": [
        "print(f'triple number of df48: {len(df48_s)}, num of df48_entity: {len(df48_s[\"e\"].unique())}, num of df48_attribute: {len(df48_s[\"a\"].unique())}')"
      ],
      "metadata": {
        "id": "YinK_y-jjqkm",
        "colab": {
          "base_uri": "https://localhost:8080/"
        },
        "outputId": "6e0e8ee1-4746-4181-b076-c53c2e90794d"
      },
      "id": "YinK_y-jjqkm",
      "execution_count": null,
      "outputs": [
        {
          "output_type": "stream",
          "name": "stdout",
          "text": [
            "triple number of df48: 301601, num of df48_entity: 47988, num of df48_attribute: 166\n"
          ]
        }
      ]
    },
    {
      "cell_type": "markdown",
      "source": [
        "## Save the cleaning data 存檔"
      ],
      "metadata": {
        "id": "ZGAAATT_C0tJ"
      },
      "id": "ZGAAATT_C0tJ"
    },
    {
      "cell_type": "code",
      "source": [
        "df48_s"
      ],
      "metadata": {
        "colab": {
          "base_uri": "https://localhost:8080/",
          "height": 424
        },
        "id": "2tibs0XI7BTp",
        "outputId": "956043a1-cabc-4bbb-cc76-5cb33d4cd0c2"
      },
      "id": "2tibs0XI7BTp",
      "execution_count": null,
      "outputs": [
        {
          "output_type": "execute_result",
          "data": {
            "text/plain": [
              "             e                a     rescale_v\n",
              "0         Q100            P1082  1.483085e-04\n",
              "1         Q100            P2044  1.032598e-08\n",
              "2         Q100            P2046  5.574606e-02\n",
              "3         Q100             P571  1.630000e+03\n",
              "4         Q100    P625_Latitude  4.235833e+01\n",
              "...        ...              ...           ...\n",
              "302005  Q99987  P1335_Longtiude  9.564391e+00\n",
              "302006  Q99987            P2044  6.411716e-08\n",
              "302007  Q99987            P2046  9.941761e-04\n",
              "302008  Q99987    P625_Latitude  4.571767e+01\n",
              "302009  Q99987   P625_Longtiude  9.580647e+00\n",
              "\n",
              "[301601 rows x 3 columns]"
            ],
            "text/html": [
              "\n",
              "  <div id=\"df-39886810-cfed-495e-b260-65aa25ea444d\">\n",
              "    <div class=\"colab-df-container\">\n",
              "      <div>\n",
              "<style scoped>\n",
              "    .dataframe tbody tr th:only-of-type {\n",
              "        vertical-align: middle;\n",
              "    }\n",
              "\n",
              "    .dataframe tbody tr th {\n",
              "        vertical-align: top;\n",
              "    }\n",
              "\n",
              "    .dataframe thead th {\n",
              "        text-align: right;\n",
              "    }\n",
              "</style>\n",
              "<table border=\"1\" class=\"dataframe\">\n",
              "  <thead>\n",
              "    <tr style=\"text-align: right;\">\n",
              "      <th></th>\n",
              "      <th>e</th>\n",
              "      <th>a</th>\n",
              "      <th>rescale_v</th>\n",
              "    </tr>\n",
              "  </thead>\n",
              "  <tbody>\n",
              "    <tr>\n",
              "      <th>0</th>\n",
              "      <td>Q100</td>\n",
              "      <td>P1082</td>\n",
              "      <td>1.483085e-04</td>\n",
              "    </tr>\n",
              "    <tr>\n",
              "      <th>1</th>\n",
              "      <td>Q100</td>\n",
              "      <td>P2044</td>\n",
              "      <td>1.032598e-08</td>\n",
              "    </tr>\n",
              "    <tr>\n",
              "      <th>2</th>\n",
              "      <td>Q100</td>\n",
              "      <td>P2046</td>\n",
              "      <td>5.574606e-02</td>\n",
              "    </tr>\n",
              "    <tr>\n",
              "      <th>3</th>\n",
              "      <td>Q100</td>\n",
              "      <td>P571</td>\n",
              "      <td>1.630000e+03</td>\n",
              "    </tr>\n",
              "    <tr>\n",
              "      <th>4</th>\n",
              "      <td>Q100</td>\n",
              "      <td>P625_Latitude</td>\n",
              "      <td>4.235833e+01</td>\n",
              "    </tr>\n",
              "    <tr>\n",
              "      <th>...</th>\n",
              "      <td>...</td>\n",
              "      <td>...</td>\n",
              "      <td>...</td>\n",
              "    </tr>\n",
              "    <tr>\n",
              "      <th>302005</th>\n",
              "      <td>Q99987</td>\n",
              "      <td>P1335_Longtiude</td>\n",
              "      <td>9.564391e+00</td>\n",
              "    </tr>\n",
              "    <tr>\n",
              "      <th>302006</th>\n",
              "      <td>Q99987</td>\n",
              "      <td>P2044</td>\n",
              "      <td>6.411716e-08</td>\n",
              "    </tr>\n",
              "    <tr>\n",
              "      <th>302007</th>\n",
              "      <td>Q99987</td>\n",
              "      <td>P2046</td>\n",
              "      <td>9.941761e-04</td>\n",
              "    </tr>\n",
              "    <tr>\n",
              "      <th>302008</th>\n",
              "      <td>Q99987</td>\n",
              "      <td>P625_Latitude</td>\n",
              "      <td>4.571767e+01</td>\n",
              "    </tr>\n",
              "    <tr>\n",
              "      <th>302009</th>\n",
              "      <td>Q99987</td>\n",
              "      <td>P625_Longtiude</td>\n",
              "      <td>9.580647e+00</td>\n",
              "    </tr>\n",
              "  </tbody>\n",
              "</table>\n",
              "<p>301601 rows × 3 columns</p>\n",
              "</div>\n",
              "      <button class=\"colab-df-convert\" onclick=\"convertToInteractive('df-39886810-cfed-495e-b260-65aa25ea444d')\"\n",
              "              title=\"Convert this dataframe to an interactive table.\"\n",
              "              style=\"display:none;\">\n",
              "        \n",
              "  <svg xmlns=\"http://www.w3.org/2000/svg\" height=\"24px\"viewBox=\"0 0 24 24\"\n",
              "       width=\"24px\">\n",
              "    <path d=\"M0 0h24v24H0V0z\" fill=\"none\"/>\n",
              "    <path d=\"M18.56 5.44l.94 2.06.94-2.06 2.06-.94-2.06-.94-.94-2.06-.94 2.06-2.06.94zm-11 1L8.5 8.5l.94-2.06 2.06-.94-2.06-.94L8.5 2.5l-.94 2.06-2.06.94zm10 10l.94 2.06.94-2.06 2.06-.94-2.06-.94-.94-2.06-.94 2.06-2.06.94z\"/><path d=\"M17.41 7.96l-1.37-1.37c-.4-.4-.92-.59-1.43-.59-.52 0-1.04.2-1.43.59L10.3 9.45l-7.72 7.72c-.78.78-.78 2.05 0 2.83L4 21.41c.39.39.9.59 1.41.59.51 0 1.02-.2 1.41-.59l7.78-7.78 2.81-2.81c.8-.78.8-2.07 0-2.86zM5.41 20L4 18.59l7.72-7.72 1.47 1.35L5.41 20z\"/>\n",
              "  </svg>\n",
              "      </button>\n",
              "      \n",
              "  <style>\n",
              "    .colab-df-container {\n",
              "      display:flex;\n",
              "      flex-wrap:wrap;\n",
              "      gap: 12px;\n",
              "    }\n",
              "\n",
              "    .colab-df-convert {\n",
              "      background-color: #E8F0FE;\n",
              "      border: none;\n",
              "      border-radius: 50%;\n",
              "      cursor: pointer;\n",
              "      display: none;\n",
              "      fill: #1967D2;\n",
              "      height: 32px;\n",
              "      padding: 0 0 0 0;\n",
              "      width: 32px;\n",
              "    }\n",
              "\n",
              "    .colab-df-convert:hover {\n",
              "      background-color: #E2EBFA;\n",
              "      box-shadow: 0px 1px 2px rgba(60, 64, 67, 0.3), 0px 1px 3px 1px rgba(60, 64, 67, 0.15);\n",
              "      fill: #174EA6;\n",
              "    }\n",
              "\n",
              "    [theme=dark] .colab-df-convert {\n",
              "      background-color: #3B4455;\n",
              "      fill: #D2E3FC;\n",
              "    }\n",
              "\n",
              "    [theme=dark] .colab-df-convert:hover {\n",
              "      background-color: #434B5C;\n",
              "      box-shadow: 0px 1px 3px 1px rgba(0, 0, 0, 0.15);\n",
              "      filter: drop-shadow(0px 1px 2px rgba(0, 0, 0, 0.3));\n",
              "      fill: #FFFFFF;\n",
              "    }\n",
              "  </style>\n",
              "\n",
              "      <script>\n",
              "        const buttonEl =\n",
              "          document.querySelector('#df-39886810-cfed-495e-b260-65aa25ea444d button.colab-df-convert');\n",
              "        buttonEl.style.display =\n",
              "          google.colab.kernel.accessAllowed ? 'block' : 'none';\n",
              "\n",
              "        async function convertToInteractive(key) {\n",
              "          const element = document.querySelector('#df-39886810-cfed-495e-b260-65aa25ea444d');\n",
              "          const dataTable =\n",
              "            await google.colab.kernel.invokeFunction('convertToInteractive',\n",
              "                                                     [key], {});\n",
              "          if (!dataTable) return;\n",
              "\n",
              "          const docLinkHtml = 'Like what you see? Visit the ' +\n",
              "            '<a target=\"_blank\" href=https://colab.research.google.com/notebooks/data_table.ipynb>data table notebook</a>'\n",
              "            + ' to learn more about interactive tables.';\n",
              "          element.innerHTML = '';\n",
              "          dataTable['output_type'] = 'display_data';\n",
              "          await google.colab.output.renderOutput(dataTable, element);\n",
              "          const docLink = document.createElement('div');\n",
              "          docLink.innerHTML = docLinkHtml;\n",
              "          element.appendChild(docLink);\n",
              "        }\n",
              "      </script>\n",
              "    </div>\n",
              "  </div>\n",
              "  "
            ]
          },
          "metadata": {},
          "execution_count": 67
        }
      ]
    },
    {
      "cell_type": "code",
      "source": [
        "df48_s.to_csv(\"/content/drive/MyDrive/litwd48k/cleaningdata/numeric_literals_final_ver03\",sep=\"\\t\",index=False)"
      ],
      "metadata": {
        "id": "vwJnBJ-8_col"
      },
      "id": "vwJnBJ-8_col",
      "execution_count": null,
      "outputs": []
    },
    {
      "cell_type": "markdown",
      "source": [
        "## Split into train, valid and test sets\n"
      ],
      "metadata": {
        "id": "9EQLskGcy9Wl"
      },
      "id": "9EQLskGcy9Wl"
    },
    {
      "cell_type": "code",
      "source": [
        "df = pd.read_csv(f'{path}/cleaningdata/numeric_literals_final_ver03',sep='\\t')"
      ],
      "metadata": {
        "id": "fW5Zrz6k6gKQ"
      },
      "id": "fW5Zrz6k6gKQ",
      "execution_count": null,
      "outputs": []
    },
    {
      "cell_type": "code",
      "source": [
        "df.info()"
      ],
      "metadata": {
        "colab": {
          "base_uri": "https://localhost:8080/"
        },
        "id": "bZQ0gNZl7HeH",
        "outputId": "7a73e031-6e69-4126-d8ab-b6d8d46daebc"
      },
      "id": "bZQ0gNZl7HeH",
      "execution_count": null,
      "outputs": [
        {
          "output_type": "stream",
          "name": "stdout",
          "text": [
            "<class 'pandas.core.frame.DataFrame'>\n",
            "RangeIndex: 301601 entries, 0 to 301600\n",
            "Data columns (total 3 columns):\n",
            " #   Column     Non-Null Count   Dtype  \n",
            "---  ------     --------------   -----  \n",
            " 0   e          301601 non-null  object \n",
            " 1   a          301601 non-null  object \n",
            " 2   rescale_v  301601 non-null  float64\n",
            "dtypes: float64(1), object(2)\n",
            "memory usage: 6.9+ MB\n"
          ]
        }
      ]
    },
    {
      "cell_type": "code",
      "source": [
        "from sklearn.model_selection import train_test_split\n",
        "train_attri_data, valid_attri_data = train_test_split(df, test_size=0.2,stratify=df['a'],random_state=802)\n",
        "valid_attri_data, test_attri_data = train_test_split(valid_attri_data, test_size=0.5,stratify=valid_attri_data['a'],random_state=802)"
      ],
      "metadata": {
        "id": "HCxfynspwpa5"
      },
      "id": "HCxfynspwpa5",
      "execution_count": null,
      "outputs": []
    },
    {
      "cell_type": "code",
      "source": [
        "print(f'training triples of df48: {len(train_attri_data)}, valid triples of df48: {len(valid_attri_data)}, test triples of df48: {len(test_attri_data)}')"
      ],
      "metadata": {
        "colab": {
          "base_uri": "https://localhost:8080/"
        },
        "id": "IJRSYIiy7jxs",
        "outputId": "389a0594-5400-4bc0-a14b-97390c39090f"
      },
      "id": "IJRSYIiy7jxs",
      "execution_count": null,
      "outputs": [
        {
          "output_type": "stream",
          "name": "stdout",
          "text": [
            "training triples of df48: 241280, valid triples of df48: 30160, test triples of df48: 30161\n"
          ]
        }
      ]
    },
    {
      "cell_type": "code",
      "source": [
        "test_attri_data.a.value_counts()"
      ],
      "metadata": {
        "colab": {
          "base_uri": "https://localhost:8080/"
        },
        "id": "YumAc_9h9HfK",
        "outputId": "8c63f8b8-3f3d-4cbf-a598-ba921156358a"
      },
      "id": "YumAc_9h9HfK",
      "execution_count": null,
      "outputs": [
        {
          "output_type": "execute_result",
          "data": {
            "text/plain": [
              "P625_Latitude     2496\n",
              "P625_Longtiude    2495\n",
              "P2046             2175\n",
              "P1082             2145\n",
              "P2044             1642\n",
              "                  ... \n",
              "P1114                1\n",
              "P2999                1\n",
              "P2386                1\n",
              "P1339                1\n",
              "P1314                1\n",
              "Name: a, Length: 166, dtype: int64"
            ]
          },
          "metadata": {},
          "execution_count": 14
        }
      ]
    },
    {
      "cell_type": "code",
      "source": [
        "train_attri_data.a.value_counts()"
      ],
      "metadata": {
        "colab": {
          "base_uri": "https://localhost:8080/"
        },
        "id": "vayP_4Ct9Kgo",
        "outputId": "105871fb-f3ac-43ee-d25f-2c4d075f9035"
      },
      "id": "vayP_4Ct9Kgo",
      "execution_count": null,
      "outputs": [
        {
          "output_type": "execute_result",
          "data": {
            "text/plain": [
              "P625_Longtiude    19962\n",
              "P625_Latitude     19961\n",
              "P2046             17401\n",
              "P1082             17157\n",
              "P2044             13134\n",
              "                  ...  \n",
              "P1114                14\n",
              "P1339                13\n",
              "P2386                12\n",
              "P2999                12\n",
              "P1314                12\n",
              "Name: a, Length: 166, dtype: int64"
            ]
          },
          "metadata": {},
          "execution_count": 15
        }
      ]
    },
    {
      "cell_type": "code",
      "source": [
        "train_attri_data.to_csv(f'{path}/cleaningdata/train_attri_data',index=False)\n",
        "valid_attri_data.to_csv(f'{path}/cleaningdata/valid_attri_data',index=False)\n",
        "test_attri_data.to_csv(f'{path}/cleaningdata/test_attri_data',index=False)"
      ],
      "metadata": {
        "id": "7mF3nRTo7hZn"
      },
      "id": "7mF3nRTo7hZn",
      "execution_count": null,
      "outputs": []
    },
    {
      "cell_type": "markdown",
      "source": [
        "# make array for training data"
      ],
      "metadata": {
        "id": "LO26chpO8P_G"
      },
      "id": "LO26chpO8P_G"
    },
    {
      "cell_type": "code",
      "source": [
        "df_train_att= pd.read_csv(f'{path}/cleaningdata/train_attri_data')"
      ],
      "metadata": {
        "colab": {
          "base_uri": "https://localhost:8080/",
          "height": 172
        },
        "id": "RdlFWJpN8WXy",
        "outputId": "bb915510-9d0b-4e8a-f993-44d3f695c588"
      },
      "id": "RdlFWJpN8WXy",
      "execution_count": null,
      "outputs": [
        {
          "output_type": "error",
          "ename": "NameError",
          "evalue": "ignored",
          "traceback": [
            "\u001b[0;31m---------------------------------------------------------------------------\u001b[0m",
            "\u001b[0;31mNameError\u001b[0m                                 Traceback (most recent call last)",
            "\u001b[0;32m<ipython-input-1-bb47a96255e3>\u001b[0m in \u001b[0;36m<module>\u001b[0;34m\u001b[0m\n\u001b[0;32m----> 1\u001b[0;31m \u001b[0mdf_train_att\u001b[0m\u001b[0;34m=\u001b[0m \u001b[0mpd\u001b[0m\u001b[0;34m.\u001b[0m\u001b[0mread_csv\u001b[0m\u001b[0;34m(\u001b[0m\u001b[0;34mf'{path}/cleaningdata/train_attri_data'\u001b[0m\u001b[0;34m)\u001b[0m\u001b[0;34m\u001b[0m\u001b[0;34m\u001b[0m\u001b[0m\n\u001b[0m",
            "\u001b[0;31mNameError\u001b[0m: name 'pd' is not defined"
          ]
        }
      ]
    },
    {
      "cell_type": "code",
      "source": [
        "df_train_att.info()"
      ],
      "metadata": {
        "colab": {
          "base_uri": "https://localhost:8080/"
        },
        "id": "kX58q8ev8gYV",
        "outputId": "167d064b-0ce2-4131-8176-4d5f12bcf2f1"
      },
      "id": "kX58q8ev8gYV",
      "execution_count": null,
      "outputs": [
        {
          "output_type": "stream",
          "name": "stdout",
          "text": [
            "<class 'pandas.core.frame.DataFrame'>\n",
            "RangeIndex: 241280 entries, 0 to 241279\n",
            "Data columns (total 3 columns):\n",
            " #   Column     Non-Null Count   Dtype  \n",
            "---  ------     --------------   -----  \n",
            " 0   e          241280 non-null  object \n",
            " 1   a          241280 non-null  object \n",
            " 2   rescale_v  241280 non-null  float64\n",
            "dtypes: float64(1), object(2)\n",
            "memory usage: 5.5+ MB\n"
          ]
        }
      ]
    },
    {
      "cell_type": "code",
      "source": [],
      "metadata": {
        "id": "NDOGhSCe9B2j"
      },
      "id": "NDOGhSCe9B2j",
      "execution_count": null,
      "outputs": []
    },
    {
      "cell_type": "code",
      "source": [
        "train_num_lit = np.zeros([len(df_train_att['e']), len(df_train_att['a'])], dtype=np.float32)\n"
      ],
      "metadata": {
        "id": "FlvhloTA8r_s"
      },
      "id": "FlvhloTA8r_s",
      "execution_count": null,
      "outputs": []
    },
    {
      "cell_type": "code",
      "source": [],
      "metadata": {
        "id": "I5gN0UAF-Gm5"
      },
      "id": "I5gN0UAF-Gm5",
      "execution_count": null,
      "outputs": []
    },
    {
      "cell_type": "code",
      "source": [],
      "metadata": {
        "id": "2xV5C8qb92qu"
      },
      "id": "2xV5C8qb92qu",
      "execution_count": null,
      "outputs": []
    }
  ],
  "metadata": {
    "colab": {
      "collapsed_sections": [
        "LIZqsqEgqJFg",
        "j0O-vXz_St_x",
        "2Act5ZLCQOY1",
        "UBk7Q2hNmpnU",
        "lTSaq8twla0D"
      ],
      "provenance": [],
      "toc_visible": true,
      "include_colab_link": true
    },
    "kernelspec": {
      "display_name": "Python 3 (ipykernel)",
      "language": "python",
      "name": "python3"
    },
    "language_info": {
      "codemirror_mode": {
        "name": "ipython",
        "version": 3
      },
      "file_extension": ".py",
      "mimetype": "text/x-python",
      "name": "python",
      "nbconvert_exporter": "python",
      "pygments_lexer": "ipython3",
      "version": "3.8.12"
    }
  },
  "nbformat": 4,
  "nbformat_minor": 5
}
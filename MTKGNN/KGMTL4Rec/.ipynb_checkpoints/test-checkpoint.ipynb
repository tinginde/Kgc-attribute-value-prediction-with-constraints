{
 "cells": [
  {
   "cell_type": "code",
   "execution_count": 2,
   "id": "40292769",
   "metadata": {},
   "outputs": [],
   "source": [
    "import pandas as pd\n",
    "import numpy as np"
   ]
  },
  {
   "cell_type": "code",
   "execution_count": 3,
   "id": "aa6ecc89",
   "metadata": {
    "scrolled": false
   },
   "outputs": [
    {
     "name": "stdout",
     "output_type": "stream",
     "text": [
      "/mount/projekte7/tcl/tclext/kgc/MTKGNN/KGMTL4Rec\r\n"
     ]
    }
   ],
   "source": [
    "!pwd"
   ]
  },
  {
   "cell_type": "code",
   "execution_count": 11,
   "id": "ff6785d8",
   "metadata": {
    "scrolled": true
   },
   "outputs": [],
   "source": [
    "attri_data = pd.read_csv('/projekte/tcl/tclext/kgc_chu/LiterallyWikidata/LitWD48K/numeric_literals_final_ver04', sep='\\t')\n",
    "rel_data= pd.read_csv('/projekte/tcl/tclext/kgc_chu/LiterallyWikidata/LitWD48K/train.txt', sep='\\t', names=['s', 'p', 'o'])\n",
    "dict_all_2_idx = np.load('/projekte/tcl/tclext/kgc_chu/LiterallyWikidata/LitWD48K/dict_all_2_idx.npy',allow_pickle='TRUE').item()"
   ]
  },
  {
   "cell_type": "code",
   "execution_count": 4,
   "id": "bd7dd2de",
   "metadata": {},
   "outputs": [],
   "source": [
    "train_att = pd.read_csv('/projekte/tcl/tclext/kgc_chu/LiterallyWikidata/LitWD48K/train_attri_data.csv')\n",
    "valid_att = pd.read_csv('/projekte/tcl/tclext/kgc_chu/LiterallyWikidata/LitWD48K/valid_attri_data.csv')\n",
    "test_att = pd.read_csv('/projekte/tcl/tclext/kgc_chu/LiterallyWikidata/LitWD48K/test_attri_data.csv')"
   ]
  },
  {
   "cell_type": "code",
   "execution_count": 4,
   "id": "2d2737dc",
   "metadata": {},
   "outputs": [],
   "source": [
    "test_att_all=pd.concat([valid_att,test_att], ignore_index=True)"
   ]
  },
  {
   "cell_type": "code",
   "execution_count": 18,
   "id": "2c2babd7",
   "metadata": {},
   "outputs": [
    {
     "data": {
      "text/html": [
       "<div>\n",
       "<style scoped>\n",
       "    .dataframe tbody tr th:only-of-type {\n",
       "        vertical-align: middle;\n",
       "    }\n",
       "\n",
       "    .dataframe tbody tr th {\n",
       "        vertical-align: top;\n",
       "    }\n",
       "\n",
       "    .dataframe thead th {\n",
       "        text-align: right;\n",
       "    }\n",
       "</style>\n",
       "<table border=\"1\" class=\"dataframe\">\n",
       "  <thead>\n",
       "    <tr style=\"text-align: right;\">\n",
       "      <th></th>\n",
       "      <th>e</th>\n",
       "      <th>a</th>\n",
       "      <th>rescale_v</th>\n",
       "    </tr>\n",
       "  </thead>\n",
       "  <tbody>\n",
       "    <tr>\n",
       "      <th>0</th>\n",
       "      <td>Q3440887</td>\n",
       "      <td>P1350</td>\n",
       "      <td>3.674129e-08</td>\n",
       "    </tr>\n",
       "    <tr>\n",
       "      <th>1</th>\n",
       "      <td>Q633597</td>\n",
       "      <td>P625_Longtiude</td>\n",
       "      <td>3.233333e+00</td>\n",
       "    </tr>\n",
       "    <tr>\n",
       "      <th>2</th>\n",
       "      <td>Q43058</td>\n",
       "      <td>P2046</td>\n",
       "      <td>4.459384e-03</td>\n",
       "    </tr>\n",
       "    <tr>\n",
       "      <th>3</th>\n",
       "      <td>Q7637175</td>\n",
       "      <td>P625_Longtiude</td>\n",
       "      <td>1.354970e+02</td>\n",
       "    </tr>\n",
       "    <tr>\n",
       "      <th>4</th>\n",
       "      <td>Q609860</td>\n",
       "      <td>P570</td>\n",
       "      <td>1.994000e+03</td>\n",
       "    </tr>\n",
       "    <tr>\n",
       "      <th>...</th>\n",
       "      <td>...</td>\n",
       "      <td>...</td>\n",
       "      <td>...</td>\n",
       "    </tr>\n",
       "    <tr>\n",
       "      <th>59294</th>\n",
       "      <td>Q1428</td>\n",
       "      <td>P2927</td>\n",
       "      <td>7.732481e-12</td>\n",
       "    </tr>\n",
       "    <tr>\n",
       "      <th>59295</th>\n",
       "      <td>Q5640000</td>\n",
       "      <td>P1103</td>\n",
       "      <td>4.802783e-10</td>\n",
       "    </tr>\n",
       "    <tr>\n",
       "      <th>59296</th>\n",
       "      <td>Q4678990</td>\n",
       "      <td>P2031</td>\n",
       "      <td>2.010000e+03</td>\n",
       "    </tr>\n",
       "    <tr>\n",
       "      <th>59297</th>\n",
       "      <td>Q305698</td>\n",
       "      <td>P1333_Latitude</td>\n",
       "      <td>4.636536e+01</td>\n",
       "    </tr>\n",
       "    <tr>\n",
       "      <th>59298</th>\n",
       "      <td>Q1466205</td>\n",
       "      <td>P625_Longtiude</td>\n",
       "      <td>7.692000e+01</td>\n",
       "    </tr>\n",
       "  </tbody>\n",
       "</table>\n",
       "<p>59299 rows × 3 columns</p>\n",
       "</div>"
      ],
      "text/plain": [
       "              e               a     rescale_v\n",
       "0      Q3440887           P1350  3.674129e-08\n",
       "1       Q633597  P625_Longtiude  3.233333e+00\n",
       "2        Q43058           P2046  4.459384e-03\n",
       "3      Q7637175  P625_Longtiude  1.354970e+02\n",
       "4       Q609860            P570  1.994000e+03\n",
       "...         ...             ...           ...\n",
       "59294     Q1428           P2927  7.732481e-12\n",
       "59295  Q5640000           P1103  4.802783e-10\n",
       "59296  Q4678990           P2031  2.010000e+03\n",
       "59297   Q305698  P1333_Latitude  4.636536e+01\n",
       "59298  Q1466205  P625_Longtiude  7.692000e+01\n",
       "\n",
       "[59299 rows x 3 columns]"
      ]
     },
     "execution_count": 18,
     "metadata": {},
     "output_type": "execute_result"
    }
   ],
   "source": [
    "test_att_all"
   ]
  },
  {
   "cell_type": "code",
   "execution_count": 36,
   "id": "3ef317c7",
   "metadata": {},
   "outputs": [
    {
     "data": {
      "text/plain": [
       "303117"
      ]
     },
     "execution_count": 36,
     "metadata": {},
     "output_type": "execute_result"
    }
   ],
   "source": [
    "len(rel_data)"
   ]
  },
  {
   "cell_type": "code",
   "execution_count": 37,
   "id": "28a754e2",
   "metadata": {
    "scrolled": true
   },
   "outputs": [
    {
     "ename": "NameError",
     "evalue": "name 'test_att_all' is not defined",
     "output_type": "error",
     "traceback": [
      "\u001b[0;31m---------------------------------------------------------------------------\u001b[0m",
      "\u001b[0;31mNameError\u001b[0m                                 Traceback (most recent call last)",
      "\u001b[0;32m/tmp/ipykernel_4191610/1878841370.py\u001b[0m in \u001b[0;36m<module>\u001b[0;34m\u001b[0m\n\u001b[1;32m      1\u001b[0m \u001b[0;31m# X_all_pos_r: triples filter out same entities in valid and test sets\u001b[0m\u001b[0;34m\u001b[0m\u001b[0;34m\u001b[0m\u001b[0;34m\u001b[0m\u001b[0m\n\u001b[0;32m----> 2\u001b[0;31m \u001b[0moverlap\u001b[0m \u001b[0;34m=\u001b[0m \u001b[0mnp\u001b[0m\u001b[0;34m.\u001b[0m\u001b[0mintersect1d\u001b[0m\u001b[0;34m(\u001b[0m\u001b[0mrel_data\u001b[0m\u001b[0;34m[\u001b[0m\u001b[0;34m's'\u001b[0m\u001b[0;34m]\u001b[0m\u001b[0;34m.\u001b[0m\u001b[0munique\u001b[0m\u001b[0;34m(\u001b[0m\u001b[0;34m)\u001b[0m\u001b[0;34m,\u001b[0m\u001b[0mtest_att_all\u001b[0m\u001b[0;34m[\u001b[0m\u001b[0;34m'e'\u001b[0m\u001b[0;34m]\u001b[0m\u001b[0;34m.\u001b[0m\u001b[0munique\u001b[0m\u001b[0;34m(\u001b[0m\u001b[0;34m)\u001b[0m\u001b[0;34m)\u001b[0m\u001b[0;34m\u001b[0m\u001b[0;34m\u001b[0m\u001b[0m\n\u001b[0m\u001b[1;32m      3\u001b[0m \u001b[0mrel_data_nooverlap\u001b[0m \u001b[0;34m=\u001b[0m \u001b[0mrel_data\u001b[0m\u001b[0;34m[\u001b[0m\u001b[0;34m~\u001b[0m\u001b[0mrel_data\u001b[0m\u001b[0;34m[\u001b[0m\u001b[0;34m's'\u001b[0m\u001b[0;34m]\u001b[0m\u001b[0;34m.\u001b[0m\u001b[0misin\u001b[0m\u001b[0;34m(\u001b[0m\u001b[0moverlap\u001b[0m\u001b[0;34m)\u001b[0m\u001b[0;34m]\u001b[0m\u001b[0;34m\u001b[0m\u001b[0;34m\u001b[0m\u001b[0m\n\u001b[1;32m      4\u001b[0m \u001b[0mX_all_pos_r\u001b[0m \u001b[0;34m=\u001b[0m \u001b[0mnp\u001b[0m\u001b[0;34m.\u001b[0m\u001b[0mempty\u001b[0m\u001b[0;34m(\u001b[0m\u001b[0;34m[\u001b[0m\u001b[0mrel_data_nooverlap\u001b[0m\u001b[0;34m.\u001b[0m\u001b[0mshape\u001b[0m\u001b[0;34m[\u001b[0m\u001b[0;36m0\u001b[0m\u001b[0;34m]\u001b[0m\u001b[0;34m,\u001b[0m \u001b[0mrel_data_nooverlap\u001b[0m\u001b[0;34m.\u001b[0m\u001b[0mshape\u001b[0m\u001b[0;34m[\u001b[0m\u001b[0;36m1\u001b[0m\u001b[0;34m]\u001b[0m\u001b[0;34m]\u001b[0m\u001b[0;34m,\u001b[0m \u001b[0mdtype\u001b[0m\u001b[0;34m=\u001b[0m\u001b[0mint\u001b[0m\u001b[0;34m)\u001b[0m\u001b[0;34m\u001b[0m\u001b[0;34m\u001b[0m\u001b[0m\n\u001b[1;32m      5\u001b[0m \u001b[0;32mfor\u001b[0m \u001b[0mi\u001b[0m\u001b[0;34m,\u001b[0m \u001b[0mel\u001b[0m \u001b[0;32min\u001b[0m \u001b[0menumerate\u001b[0m\u001b[0;34m(\u001b[0m\u001b[0mrel_data_nooverlap\u001b[0m\u001b[0;34m.\u001b[0m\u001b[0mvalues\u001b[0m\u001b[0;34m)\u001b[0m\u001b[0;34m:\u001b[0m\u001b[0;34m\u001b[0m\u001b[0;34m\u001b[0m\u001b[0m\n",
      "\u001b[0;31mNameError\u001b[0m: name 'test_att_all' is not defined"
     ]
    }
   ],
   "source": [
    "# X_all_pos_r: triples filter out same entities in valid and test sets\n",
    "overlap = np.intersect1d(rel_data['s'].unique(),test_att_all['e'].unique())\n",
    "rel_data_nooverlap = rel_data[~rel_data['s'].isin(overlap)]\n",
    "X_all_pos_r = np.empty([rel_data_nooverlap.shape[0], rel_data_nooverlap.shape[1]], dtype=int)\n",
    "for i, el in enumerate(rel_data_nooverlap.values):\n",
    "    X_all_pos_r[i] = [dict_all_2_idx[el_] for el_ in el]"
   ]
  },
  {
   "cell_type": "code",
   "execution_count": 20,
   "id": "3551d946",
   "metadata": {},
   "outputs": [
    {
     "data": {
      "text/plain": [
       "31421"
      ]
     },
     "execution_count": 20,
     "metadata": {},
     "output_type": "execute_result"
    }
   ],
   "source": [
    "len(set(overlap))"
   ]
  },
  {
   "cell_type": "code",
   "execution_count": 7,
   "id": "a7810721",
   "metadata": {
    "scrolled": true
   },
   "outputs": [],
   "source": []
  },
  {
   "cell_type": "code",
   "execution_count": 21,
   "id": "b13b411a",
   "metadata": {},
   "outputs": [
    {
     "data": {
      "text/html": [
       "<div>\n",
       "<style scoped>\n",
       "    .dataframe tbody tr th:only-of-type {\n",
       "        vertical-align: middle;\n",
       "    }\n",
       "\n",
       "    .dataframe tbody tr th {\n",
       "        vertical-align: top;\n",
       "    }\n",
       "\n",
       "    .dataframe thead th {\n",
       "        text-align: right;\n",
       "    }\n",
       "</style>\n",
       "<table border=\"1\" class=\"dataframe\">\n",
       "  <thead>\n",
       "    <tr style=\"text-align: right;\">\n",
       "      <th></th>\n",
       "      <th>s</th>\n",
       "      <th>p</th>\n",
       "      <th>o</th>\n",
       "    </tr>\n",
       "  </thead>\n",
       "  <tbody>\n",
       "    <tr>\n",
       "      <th>9</th>\n",
       "      <td>Q100015</td>\n",
       "      <td>P131</td>\n",
       "      <td>Q16137</td>\n",
       "    </tr>\n",
       "    <tr>\n",
       "      <th>10</th>\n",
       "      <td>Q100015</td>\n",
       "      <td>P421</td>\n",
       "      <td>Q25989</td>\n",
       "    </tr>\n",
       "    <tr>\n",
       "      <th>11</th>\n",
       "      <td>Q100015</td>\n",
       "      <td>P421</td>\n",
       "      <td>Q6655</td>\n",
       "    </tr>\n",
       "    <tr>\n",
       "      <th>12</th>\n",
       "      <td>Q100015</td>\n",
       "      <td>P421</td>\n",
       "      <td>Q6723</td>\n",
       "    </tr>\n",
       "    <tr>\n",
       "      <th>20</th>\n",
       "      <td>Q1000217</td>\n",
       "      <td>P131</td>\n",
       "      <td>Q111549</td>\n",
       "    </tr>\n",
       "    <tr>\n",
       "      <th>...</th>\n",
       "      <td>...</td>\n",
       "      <td>...</td>\n",
       "      <td>...</td>\n",
       "    </tr>\n",
       "    <tr>\n",
       "      <th>302585</th>\n",
       "      <td>Q23635</td>\n",
       "      <td>P530</td>\n",
       "      <td>Q30</td>\n",
       "    </tr>\n",
       "    <tr>\n",
       "      <th>302713</th>\n",
       "      <td>Q29999</td>\n",
       "      <td>P530</td>\n",
       "      <td>Q183</td>\n",
       "    </tr>\n",
       "    <tr>\n",
       "      <th>302920</th>\n",
       "      <td>Q43070</td>\n",
       "      <td>P530</td>\n",
       "      <td>Q23427</td>\n",
       "    </tr>\n",
       "    <tr>\n",
       "      <th>302976</th>\n",
       "      <td>Q713750</td>\n",
       "      <td>P530</td>\n",
       "      <td>Q183</td>\n",
       "    </tr>\n",
       "    <tr>\n",
       "      <th>303110</th>\n",
       "      <td>Q167299</td>\n",
       "      <td>P833</td>\n",
       "      <td>Q801447</td>\n",
       "    </tr>\n",
       "  </tbody>\n",
       "</table>\n",
       "<p>96838 rows × 3 columns</p>\n",
       "</div>"
      ],
      "text/plain": [
       "               s     p        o\n",
       "9        Q100015  P131   Q16137\n",
       "10       Q100015  P421   Q25989\n",
       "11       Q100015  P421    Q6655\n",
       "12       Q100015  P421    Q6723\n",
       "20      Q1000217  P131  Q111549\n",
       "...          ...   ...      ...\n",
       "302585    Q23635  P530      Q30\n",
       "302713    Q29999  P530     Q183\n",
       "302920    Q43070  P530   Q23427\n",
       "302976   Q713750  P530     Q183\n",
       "303110   Q167299  P833  Q801447\n",
       "\n",
       "[96838 rows x 3 columns]"
      ]
     },
     "execution_count": 21,
     "metadata": {},
     "output_type": "execute_result"
    }
   ],
   "source": [
    "rel_data_nooverlap"
   ]
  },
  {
   "cell_type": "code",
   "execution_count": 20,
   "id": "4a5794c2",
   "metadata": {
    "scrolled": true
   },
   "outputs": [],
   "source": [
    "X_all_pos = np.empty([rel_data.shape[0], rel_data.shape[1]], dtype=int)\n",
    "for i, el in enumerate(rel_data.values):\n",
    "    X_all_pos[i] = [dict_all_2_idx[el_] for el_ in el]"
   ]
  },
  {
   "cell_type": "code",
   "execution_count": 9,
   "id": "c31acf8c",
   "metadata": {},
   "outputs": [],
   "source": []
  },
  {
   "cell_type": "code",
   "execution_count": 19,
   "id": "67949c38",
   "metadata": {},
   "outputs": [
    {
     "data": {
      "text/plain": [
       "dtype('int64')"
      ]
     },
     "execution_count": 19,
     "metadata": {},
     "output_type": "execute_result"
    }
   ],
   "source": [
    "X_all_pos.astype('int32')"
   ]
  },
  {
   "cell_type": "code",
   "execution_count": 12,
   "id": "b4708a00",
   "metadata": {},
   "outputs": [],
   "source": [
    "dict_e2rv = dict()\n",
    "for el in train_att.values:\n",
    "    attri = dict_all_2_idx[el[1]]\n",
    "    v = round(el[2],5)\n",
    "    e = dict_all_2_idx[el[0]]\n",
    "    if e in dict_e2rv:\n",
    "        l = dict_e2rv[e]\n",
    "        l.append([attri,v])\n",
    "        dict_e2rv[e] = l\n",
    "    else:\n",
    "        dict_e2rv[e] = [[attri,v]]"
   ]
  },
  {
   "cell_type": "code",
   "execution_count": 16,
   "id": "4794096b",
   "metadata": {
    "scrolled": false
   },
   "outputs": [
    {
     "data": {
      "text/plain": [
       "[[24, 1962.0]]"
      ]
     },
     "execution_count": 16,
     "metadata": {},
     "output_type": "execute_result"
    }
   ],
   "source": [
    "dict_e2rv[2]"
   ]
  },
  {
   "cell_type": "code",
   "execution_count": null,
   "id": "b895d5d2",
   "metadata": {},
   "outputs": [],
   "source": []
  },
  {
   "cell_type": "code",
   "execution_count": 17,
   "id": "a05c3e1b",
   "metadata": {},
   "outputs": [],
   "source": [
    "X_list_head_attr = list()\n",
    "y_list_head_attr = list()\n",
    "X_list_tail_attr = list()\n",
    "y_list_tail_attr = list()"
   ]
  },
  {
   "cell_type": "code",
   "execution_count": 26,
   "id": "fb651171",
   "metadata": {},
   "outputs": [
    {
     "data": {
      "text/plain": [
       "2"
      ]
     },
     "execution_count": 26,
     "metadata": {},
     "output_type": "execute_result"
    }
   ],
   "source": []
  },
  {
   "cell_type": "code",
   "execution_count": 21,
   "id": "6fb59c48",
   "metadata": {},
   "outputs": [],
   "source": [
    "for i, triple in enumerate(X_all_pos):\n",
    "    ei = triple[0]\n",
    "    ej = triple[2]\n",
    "    if ei in dict_e2rv:\n",
    "        l_vals = dict_e2rv[ei]\n",
    "        print(l_vals)\n",
    "        for el in l_vals:\n",
    "            ai = el[0]\n",
    "            vi = el[1]\n",
    "            X_list_head_attr.append([ei, ai])\n",
    "            y_list_head_attr.append([vi])\n",
    "    if ej in dict_e2rv:\n",
    "        l_vals = dict_e2rv[ej]\n",
    "        for el in l_vals:\n",
    "            vj = el[1]\n",
    "            aj = el[0]\n",
    "            X_list_tail_attr.append([ej, aj])\n",
    "            y_list_tail_attr.append([vj])"
   ]
  },
  {
   "cell_type": "code",
   "execution_count": null,
   "id": "ee04912a",
   "metadata": {},
   "outputs": [],
   "source": []
  },
  {
   "cell_type": "code",
   "execution_count": 22,
   "id": "5234c626",
   "metadata": {},
   "outputs": [],
   "source": [
    "x_head_att= np.array(X_list_head_attr).reshape((len(X_list_head_attr), 2))"
   ]
  },
  {
   "cell_type": "code",
   "execution_count": 23,
   "id": "0c6e4aba",
   "metadata": {},
   "outputs": [
    {
     "data": {
      "text/plain": [
       "array([[    2,    24],\n",
       "       [    2,    24],\n",
       "       [    2,    24],\n",
       "       ...,\n",
       "       [51371,     3],\n",
       "       [51371,     5],\n",
       "       [51371,    71]])"
      ]
     },
     "execution_count": 23,
     "metadata": {},
     "output_type": "execute_result"
    }
   ],
   "source": [
    "x_head_att"
   ]
  },
  {
   "cell_type": "code",
   "execution_count": 49,
   "id": "9da88f6f",
   "metadata": {},
   "outputs": [
    {
     "ename": "NameError",
     "evalue": "name 'TensorDataset' is not defined",
     "output_type": "error",
     "traceback": [
      "\u001b[0;31m---------------------------------------------------------------------------\u001b[0m",
      "\u001b[0;31mNameError\u001b[0m                                 Traceback (most recent call last)",
      "\u001b[0;32m/tmp/ipykernel_4191610/124460838.py\u001b[0m in \u001b[0;36m<module>\u001b[0;34m\u001b[0m\n\u001b[1;32m      1\u001b[0m \u001b[0mx_tensor_head_attr\u001b[0m \u001b[0;34m=\u001b[0m \u001b[0mtorch\u001b[0m\u001b[0;34m.\u001b[0m\u001b[0mfrom_numpy\u001b[0m\u001b[0;34m(\u001b[0m\u001b[0mx_head_att\u001b[0m\u001b[0;34m)\u001b[0m\u001b[0;34m\u001b[0m\u001b[0;34m\u001b[0m\u001b[0m\n\u001b[0;32m----> 2\u001b[0;31m \u001b[0mdata_head_attr\u001b[0m \u001b[0;34m=\u001b[0m \u001b[0mTensorDataset\u001b[0m\u001b[0;34m(\u001b[0m\u001b[0mx_tensor_head_attr\u001b[0m\u001b[0;34m)\u001b[0m\u001b[0;34m\u001b[0m\u001b[0;34m\u001b[0m\u001b[0m\n\u001b[0m",
      "\u001b[0;31mNameError\u001b[0m: name 'TensorDataset' is not defined"
     ]
    }
   ],
   "source": [
    "x_tensor_head_attr = torch.from_numpy(x_head_att)\n",
    "data_head_attr = TensorDataset(x_tensor_head_attr)"
   ]
  },
  {
   "cell_type": "code",
   "execution_count": 48,
   "id": "eac76bdb",
   "metadata": {},
   "outputs": [
    {
     "data": {
      "text/plain": [
       "tensor([[    2,    24],\n",
       "        [    2,    24],\n",
       "        [    2,    24],\n",
       "        ...,\n",
       "        [51371,     3],\n",
       "        [51371,     5],\n",
       "        [51371,    71]])"
      ]
     },
     "execution_count": 48,
     "metadata": {},
     "output_type": "execute_result"
    }
   ],
   "source": [
    "x_tensor_head_attr"
   ]
  },
  {
   "cell_type": "code",
   "execution_count": 24,
   "id": "d5a969ca",
   "metadata": {
    "scrolled": true
   },
   "outputs": [
    {
     "data": {
      "text/plain": [
       "dtype('float64')"
      ]
     },
     "execution_count": 24,
     "metadata": {},
     "output_type": "execute_result"
    }
   ],
   "source": [
    "np.array(y_list_head_attr).reshape((len(X_list_head_attr), 1)).dtype"
   ]
  },
  {
   "cell_type": "code",
   "execution_count": null,
   "id": "d2542692",
   "metadata": {},
   "outputs": [],
   "source": []
  },
  {
   "cell_type": "code",
   "execution_count": 7,
   "id": "c926ecaf",
   "metadata": {},
   "outputs": [],
   "source": [
    "X_all_pos = np.empty([rel_data.shape[0], rel_data.shape[1]], dtype=int)\n",
    "for i, el in enumerate(rel_data.values):\n",
    "    X_all_pos[i] = [dict_all_2_idx[el_] for el_ in el]"
   ]
  },
  {
   "cell_type": "code",
   "execution_count": 36,
   "id": "981364e5",
   "metadata": {},
   "outputs": [],
   "source": [
    "x_valid [dict_all_2_idx[tri_] for tri_ in triple[:2]"
   ]
  },
  {
   "cell_type": "code",
   "execution_count": 38,
   "id": "ffcf40cf",
   "metadata": {},
   "outputs": [
    {
     "data": {
      "text/plain": [
       "[26539, 27]"
      ]
     },
     "execution_count": 38,
     "metadata": {},
     "output_type": "execute_result"
    }
   ],
   "source": [
    "x_valid"
   ]
  },
  {
   "cell_type": "code",
   "execution_count": 7,
   "id": "1660f3ea",
   "metadata": {},
   "outputs": [],
   "source": [
    "import torch.nn as nn\n",
    "import torch\n"
   ]
  },
  {
   "cell_type": "code",
   "execution_count": 5,
   "id": "02f3e4fb",
   "metadata": {},
   "outputs": [],
   "source": [
    "embedding = nn.Embedding(10, 3)\n",
    "# a batch of 2 samples of 4 indices eachinput = torch.LongTensor([[1,2,4,5],[4,3,2,9]])"
   ]
  },
  {
   "cell_type": "code",
   "execution_count": 9,
   "id": "336a0a04",
   "metadata": {},
   "outputs": [],
   "source": [
    "input = torch.LongTensor([[1,2,4,5],[4,3,2,9]])\n",
    "emb_input = embedding(input)"
   ]
  },
  {
   "cell_type": "code",
   "execution_count": 13,
   "id": "410446a8",
   "metadata": {},
   "outputs": [
    {
     "data": {
      "text/html": [
       "<div>\n",
       "<style scoped>\n",
       "    .dataframe tbody tr th:only-of-type {\n",
       "        vertical-align: middle;\n",
       "    }\n",
       "\n",
       "    .dataframe tbody tr th {\n",
       "        vertical-align: top;\n",
       "    }\n",
       "\n",
       "    .dataframe thead th {\n",
       "        text-align: right;\n",
       "    }\n",
       "</style>\n",
       "<table border=\"1\" class=\"dataframe\">\n",
       "  <thead>\n",
       "    <tr style=\"text-align: right;\">\n",
       "      <th></th>\n",
       "      <th>s</th>\n",
       "      <th>p</th>\n",
       "      <th>o</th>\n",
       "    </tr>\n",
       "  </thead>\n",
       "  <tbody>\n",
       "    <tr>\n",
       "      <th>0</th>\n",
       "      <td>Q1000051</td>\n",
       "      <td>P20</td>\n",
       "      <td>Q584451</td>\n",
       "    </tr>\n",
       "    <tr>\n",
       "      <th>1</th>\n",
       "      <td>Q1000051</td>\n",
       "      <td>P27</td>\n",
       "      <td>Q30</td>\n",
       "    </tr>\n",
       "    <tr>\n",
       "      <th>2</th>\n",
       "      <td>Q1000051</td>\n",
       "      <td>P551</td>\n",
       "      <td>Q192517</td>\n",
       "    </tr>\n",
       "    <tr>\n",
       "      <th>3</th>\n",
       "      <td>Q1000051</td>\n",
       "      <td>P937</td>\n",
       "      <td>Q61</td>\n",
       "    </tr>\n",
       "    <tr>\n",
       "      <th>4</th>\n",
       "      <td>Q1000056</td>\n",
       "      <td>P131</td>\n",
       "      <td>Q838341</td>\n",
       "    </tr>\n",
       "    <tr>\n",
       "      <th>...</th>\n",
       "      <td>...</td>\n",
       "      <td>...</td>\n",
       "      <td>...</td>\n",
       "    </tr>\n",
       "    <tr>\n",
       "      <th>303112</th>\n",
       "      <td>Q283196</td>\n",
       "      <td>P833</td>\n",
       "      <td>Q801655</td>\n",
       "    </tr>\n",
       "    <tr>\n",
       "      <th>303113</th>\n",
       "      <td>Q4778563</td>\n",
       "      <td>P833</td>\n",
       "      <td>Q801429</td>\n",
       "    </tr>\n",
       "    <tr>\n",
       "      <th>303114</th>\n",
       "      <td>Q631114</td>\n",
       "      <td>P833</td>\n",
       "      <td>Q764465</td>\n",
       "    </tr>\n",
       "    <tr>\n",
       "      <th>303115</th>\n",
       "      <td>Q6383849</td>\n",
       "      <td>P833</td>\n",
       "      <td>Q7901940</td>\n",
       "    </tr>\n",
       "    <tr>\n",
       "      <th>303116</th>\n",
       "      <td>Q7497135</td>\n",
       "      <td>P833</td>\n",
       "      <td>Q855813</td>\n",
       "    </tr>\n",
       "  </tbody>\n",
       "</table>\n",
       "<p>303117 rows × 3 columns</p>\n",
       "</div>"
      ],
      "text/plain": [
       "               s     p         o\n",
       "0       Q1000051   P20   Q584451\n",
       "1       Q1000051   P27       Q30\n",
       "2       Q1000051  P551   Q192517\n",
       "3       Q1000051  P937       Q61\n",
       "4       Q1000056  P131   Q838341\n",
       "...          ...   ...       ...\n",
       "303112   Q283196  P833   Q801655\n",
       "303113  Q4778563  P833   Q801429\n",
       "303114   Q631114  P833   Q764465\n",
       "303115  Q6383849  P833  Q7901940\n",
       "303116  Q7497135  P833   Q855813\n",
       "\n",
       "[303117 rows x 3 columns]"
      ]
     },
     "execution_count": 13,
     "metadata": {},
     "output_type": "execute_result"
    }
   ],
   "source": [
    "rel_data"
   ]
  },
  {
   "cell_type": "code",
   "execution_count": 30,
   "id": "9b1ac41b",
   "metadata": {
    "scrolled": true
   },
   "outputs": [],
   "source": [
    "dict_ent_2_idx = dict(zip(rel_data['s'].unique(), np.arange(0, len(rel_data['s'].unique()), 1)))"
   ]
  },
  {
   "cell_type": "code",
   "execution_count": 32,
   "id": "6d864b4a",
   "metadata": {
    "scrolled": true
   },
   "outputs": [
    {
     "data": {
      "text/plain": [
       "'Q1000051'"
      ]
     },
     "execution_count": 32,
     "metadata": {},
     "output_type": "execute_result"
    }
   ],
   "source": [
    "list(dict_ent_2_idx.keys())[list(dict_ent_2_idx.values()).index(0)]"
   ]
  },
  {
   "cell_type": "code",
   "execution_count": null,
   "id": "0977e813",
   "metadata": {},
   "outputs": [],
   "source": []
  },
  {
   "cell_type": "code",
   "execution_count": 6,
   "id": "ce7c0e5a",
   "metadata": {},
   "outputs": [],
   "source": [
    "pop_idx = dict_all_2_idx['P1082']\n",
    "gdp = dict_all_2_idx['P4010']\n",
    "nominal_gdp = dict_all_2_idx['P2131']\n",
    "nominal_gdp_per = dict_all_2_idx['P2132']\n",
    "gdp_per = dict_all_2_idx['P2299']"
   ]
  },
  {
   "cell_type": "code",
   "execution_count": 24,
   "id": "ec932fff",
   "metadata": {},
   "outputs": [
    {
     "data": {
      "text/plain": [
       "(0, 21, 15, 16, 19)"
      ]
     },
     "execution_count": 24,
     "metadata": {},
     "output_type": "execute_result"
    }
   ],
   "source": [
    "pop_idx, gdp, nominal_gdp, nominal_gdp_per, gdp_per"
   ]
  },
  {
   "cell_type": "code",
   "execution_count": 38,
   "id": "3ee47551",
   "metadata": {},
   "outputs": [
    {
     "data": {
      "text/plain": [
       "'Q298'"
      ]
     },
     "execution_count": 38,
     "metadata": {},
     "output_type": "execute_result"
    }
   ],
   "source": [
    "list(dict_all_2_idx.keys())[list(dict_all_2_idx.values()).index(23410)]"
   ]
  },
  {
   "cell_type": "code",
   "execution_count": 39,
   "id": "7aa16e7a",
   "metadata": {},
   "outputs": [
    {
     "data": {
      "text/html": [
       "<div>\n",
       "<style scoped>\n",
       "    .dataframe tbody tr th:only-of-type {\n",
       "        vertical-align: middle;\n",
       "    }\n",
       "\n",
       "    .dataframe tbody tr th {\n",
       "        vertical-align: top;\n",
       "    }\n",
       "\n",
       "    .dataframe thead th {\n",
       "        text-align: right;\n",
       "    }\n",
       "</style>\n",
       "<table border=\"1\" class=\"dataframe\">\n",
       "  <thead>\n",
       "    <tr style=\"text-align: right;\">\n",
       "      <th></th>\n",
       "      <th>e</th>\n",
       "      <th>a</th>\n",
       "      <th>rescale_v</th>\n",
       "    </tr>\n",
       "  </thead>\n",
       "  <tbody>\n",
       "    <tr>\n",
       "      <th>3725</th>\n",
       "      <td>Q298</td>\n",
       "      <td>P2299</td>\n",
       "      <td>5.942798e-06</td>\n",
       "    </tr>\n",
       "    <tr>\n",
       "      <th>5166</th>\n",
       "      <td>Q298</td>\n",
       "      <td>P1333_Longtiude</td>\n",
       "      <td>-6.872005e+01</td>\n",
       "    </tr>\n",
       "    <tr>\n",
       "      <th>23574</th>\n",
       "      <td>Q298</td>\n",
       "      <td>P571</td>\n",
       "      <td>1.810000e+03</td>\n",
       "    </tr>\n",
       "    <tr>\n",
       "      <th>25857</th>\n",
       "      <td>Q298</td>\n",
       "      <td>P625_Latitude</td>\n",
       "      <td>-3.300000e+01</td>\n",
       "    </tr>\n",
       "    <tr>\n",
       "      <th>31088</th>\n",
       "      <td>Q298</td>\n",
       "      <td>P2046</td>\n",
       "      <td>1.815697e+02</td>\n",
       "    </tr>\n",
       "    <tr>\n",
       "      <th>36142</th>\n",
       "      <td>Q298</td>\n",
       "      <td>P1332_Longtiude</td>\n",
       "      <td>-6.946830e+01</td>\n",
       "    </tr>\n",
       "    <tr>\n",
       "      <th>42008</th>\n",
       "      <td>Q298</td>\n",
       "      <td>P4841</td>\n",
       "      <td>4.228851e-10</td>\n",
       "    </tr>\n",
       "    <tr>\n",
       "      <th>93049</th>\n",
       "      <td>Q298</td>\n",
       "      <td>P1333_Latitude</td>\n",
       "      <td>-5.653826e+01</td>\n",
       "    </tr>\n",
       "    <tr>\n",
       "      <th>102681</th>\n",
       "      <td>Q298</td>\n",
       "      <td>P1332_Latitude</td>\n",
       "      <td>-1.749848e+01</td>\n",
       "    </tr>\n",
       "    <tr>\n",
       "      <th>106417</th>\n",
       "      <td>Q298</td>\n",
       "      <td>P2132</td>\n",
       "      <td>3.685176e-06</td>\n",
       "    </tr>\n",
       "    <tr>\n",
       "      <th>132689</th>\n",
       "      <td>Q298</td>\n",
       "      <td>P625_Longtiude</td>\n",
       "      <td>-7.100000e+01</td>\n",
       "    </tr>\n",
       "    <tr>\n",
       "      <th>141473</th>\n",
       "      <td>Q298</td>\n",
       "      <td>P1335_Longtiude</td>\n",
       "      <td>-7.569272e+01</td>\n",
       "    </tr>\n",
       "    <tr>\n",
       "      <th>153786</th>\n",
       "      <td>Q298</td>\n",
       "      <td>P1335_Latitude</td>\n",
       "      <td>-4.901248e+01</td>\n",
       "    </tr>\n",
       "    <tr>\n",
       "      <th>219284</th>\n",
       "      <td>Q298</td>\n",
       "      <td>P1334_Latitude</td>\n",
       "      <td>-5.522009e+01</td>\n",
       "    </tr>\n",
       "    <tr>\n",
       "      <th>220856</th>\n",
       "      <td>Q298</td>\n",
       "      <td>P2219</td>\n",
       "      <td>3.842227e-12</td>\n",
       "    </tr>\n",
       "    <tr>\n",
       "      <th>225235</th>\n",
       "      <td>Q298</td>\n",
       "      <td>P2250</td>\n",
       "      <td>6.022224e-01</td>\n",
       "    </tr>\n",
       "    <tr>\n",
       "      <th>230261</th>\n",
       "      <td>Q298</td>\n",
       "      <td>P1081</td>\n",
       "      <td>1.997958e-10</td>\n",
       "    </tr>\n",
       "    <tr>\n",
       "      <th>233020</th>\n",
       "      <td>Q298</td>\n",
       "      <td>P1082</td>\n",
       "      <td>4.335647e-03</td>\n",
       "    </tr>\n",
       "  </tbody>\n",
       "</table>\n",
       "</div>"
      ],
      "text/plain": [
       "           e                a     rescale_v\n",
       "3725    Q298            P2299  5.942798e-06\n",
       "5166    Q298  P1333_Longtiude -6.872005e+01\n",
       "23574   Q298             P571  1.810000e+03\n",
       "25857   Q298    P625_Latitude -3.300000e+01\n",
       "31088   Q298            P2046  1.815697e+02\n",
       "36142   Q298  P1332_Longtiude -6.946830e+01\n",
       "42008   Q298            P4841  4.228851e-10\n",
       "93049   Q298   P1333_Latitude -5.653826e+01\n",
       "102681  Q298   P1332_Latitude -1.749848e+01\n",
       "106417  Q298            P2132  3.685176e-06\n",
       "132689  Q298   P625_Longtiude -7.100000e+01\n",
       "141473  Q298  P1335_Longtiude -7.569272e+01\n",
       "153786  Q298   P1335_Latitude -4.901248e+01\n",
       "219284  Q298   P1334_Latitude -5.522009e+01\n",
       "220856  Q298            P2219  3.842227e-12\n",
       "225235  Q298            P2250  6.022224e-01\n",
       "230261  Q298            P1081  1.997958e-10\n",
       "233020  Q298            P1082  4.335647e-03"
      ]
     },
     "execution_count": 39,
     "metadata": {},
     "output_type": "execute_result"
    }
   ],
   "source": [
    "train_att[train_att['e']=='Q298']"
   ]
  },
  {
   "cell_type": "code",
   "execution_count": 9,
   "id": "5bfbdbd7",
   "metadata": {
    "scrolled": true
   },
   "outputs": [
    {
     "data": {
      "text/html": [
       "<div>\n",
       "<style scoped>\n",
       "    .dataframe tbody tr th:only-of-type {\n",
       "        vertical-align: middle;\n",
       "    }\n",
       "\n",
       "    .dataframe tbody tr th {\n",
       "        vertical-align: top;\n",
       "    }\n",
       "\n",
       "    .dataframe thead th {\n",
       "        text-align: right;\n",
       "    }\n",
       "</style>\n",
       "<table border=\"1\" class=\"dataframe\">\n",
       "  <thead>\n",
       "    <tr style=\"text-align: right;\">\n",
       "      <th></th>\n",
       "      <th>e</th>\n",
       "      <th>a</th>\n",
       "      <th>rescale_v</th>\n",
       "    </tr>\n",
       "  </thead>\n",
       "  <tbody>\n",
       "    <tr>\n",
       "      <th>5</th>\n",
       "      <td>Q496415</td>\n",
       "      <td>P1082</td>\n",
       "      <td>2.641531e-09</td>\n",
       "    </tr>\n",
       "    <tr>\n",
       "      <th>7</th>\n",
       "      <td>Q270564</td>\n",
       "      <td>P1082</td>\n",
       "      <td>3.156629e-06</td>\n",
       "    </tr>\n",
       "    <tr>\n",
       "      <th>14</th>\n",
       "      <td>Q34572</td>\n",
       "      <td>P1082</td>\n",
       "      <td>1.743410e-07</td>\n",
       "    </tr>\n",
       "    <tr>\n",
       "      <th>39</th>\n",
       "      <td>Q38981</td>\n",
       "      <td>P1082</td>\n",
       "      <td>9.334474e-05</td>\n",
       "    </tr>\n",
       "    <tr>\n",
       "      <th>55</th>\n",
       "      <td>Q846703</td>\n",
       "      <td>P1082</td>\n",
       "      <td>1.272738e-08</td>\n",
       "    </tr>\n",
       "    <tr>\n",
       "      <th>...</th>\n",
       "      <td>...</td>\n",
       "      <td>...</td>\n",
       "      <td>...</td>\n",
       "    </tr>\n",
       "    <tr>\n",
       "      <th>237156</th>\n",
       "      <td>Q23187</td>\n",
       "      <td>P1082</td>\n",
       "      <td>7.167434e-06</td>\n",
       "    </tr>\n",
       "    <tr>\n",
       "      <th>237160</th>\n",
       "      <td>Q482962</td>\n",
       "      <td>P1082</td>\n",
       "      <td>1.915110e-06</td>\n",
       "    </tr>\n",
       "    <tr>\n",
       "      <th>237161</th>\n",
       "      <td>Q264940</td>\n",
       "      <td>P1082</td>\n",
       "      <td>1.132496e-06</td>\n",
       "    </tr>\n",
       "    <tr>\n",
       "      <th>237166</th>\n",
       "      <td>Q13661</td>\n",
       "      <td>P1082</td>\n",
       "      <td>6.431887e-06</td>\n",
       "    </tr>\n",
       "    <tr>\n",
       "      <th>237187</th>\n",
       "      <td>Q944507</td>\n",
       "      <td>P1082</td>\n",
       "      <td>4.156809e-06</td>\n",
       "    </tr>\n",
       "  </tbody>\n",
       "</table>\n",
       "<p>17157 rows × 3 columns</p>\n",
       "</div>"
      ],
      "text/plain": [
       "              e      a     rescale_v\n",
       "5       Q496415  P1082  2.641531e-09\n",
       "7       Q270564  P1082  3.156629e-06\n",
       "14       Q34572  P1082  1.743410e-07\n",
       "39       Q38981  P1082  9.334474e-05\n",
       "55      Q846703  P1082  1.272738e-08\n",
       "...         ...    ...           ...\n",
       "237156   Q23187  P1082  7.167434e-06\n",
       "237160  Q482962  P1082  1.915110e-06\n",
       "237161  Q264940  P1082  1.132496e-06\n",
       "237166   Q13661  P1082  6.431887e-06\n",
       "237187  Q944507  P1082  4.156809e-06\n",
       "\n",
       "[17157 rows x 3 columns]"
      ]
     },
     "execution_count": 9,
     "metadata": {},
     "output_type": "execute_result"
    }
   ],
   "source": [
    "train_att[train_att['a']=='P1082']"
   ]
  },
  {
   "cell_type": "code",
   "execution_count": 22,
   "id": "92e0185f",
   "metadata": {},
   "outputs": [
    {
     "name": "stdout",
     "output_type": "stream",
     "text": [
      "<class 'pandas.core.frame.DataFrame'>\n",
      "RangeIndex: 237195 entries, 0 to 237194\n",
      "Data columns (total 3 columns):\n",
      " #   Column     Non-Null Count   Dtype  \n",
      "---  ------     --------------   -----  \n",
      " 0   e          237195 non-null  object \n",
      " 1   a          237195 non-null  object \n",
      " 2   rescale_v  237195 non-null  float64\n",
      "dtypes: float64(1), object(2)\n",
      "memory usage: 5.4+ MB\n"
     ]
    }
   ],
   "source": [
    "train_att.info()"
   ]
  },
  {
   "cell_type": "code",
   "execution_count": 26,
   "id": "07a8909a",
   "metadata": {
    "scrolled": true
   },
   "outputs": [],
   "source": [
    "gdp = pd.concat([train_att[train_att.a=='P2131'],train_att[train_att.a=='P4010']])"
   ]
  },
  {
   "cell_type": "code",
   "execution_count": 28,
   "id": "8651aca6",
   "metadata": {
    "scrolled": true
   },
   "outputs": [
    {
     "data": {
      "text/plain": [
       "array([[<AxesSubplot:title={'center':'rescale_v'}>]], dtype=object)"
      ]
     },
     "execution_count": 28,
     "metadata": {},
     "output_type": "execute_result"
    },
    {
     "data": {
      "image/png": "[encoded data removed]",
      "text/plain": [
       "<Figure size 432x288 with 1 Axes>"
      ]
     },
     "metadata": {
      "needs_background": "light"
     },
     "output_type": "display_data"
    }
   ],
   "source": [
    "gdp.hist()"
   ]
  },
  {
   "cell_type": "code",
   "execution_count": 29,
   "id": "ad2aca96",
   "metadata": {},
   "outputs": [],
   "source": [
    "gdp_per = pd.concat([train_att[train_att.a=='P2132'],train_att[train_att.a=='P2299']])"
   ]
  },
  {
   "cell_type": "code",
   "execution_count": 30,
   "id": "95681a08",
   "metadata": {
    "scrolled": false
   },
   "outputs": [
    {
     "data": {
      "text/html": [
       "<div>\n",
       "<style scoped>\n",
       "    .dataframe tbody tr th:only-of-type {\n",
       "        vertical-align: middle;\n",
       "    }\n",
       "\n",
       "    .dataframe tbody tr th {\n",
       "        vertical-align: top;\n",
       "    }\n",
       "\n",
       "    .dataframe thead th {\n",
       "        text-align: right;\n",
       "    }\n",
       "</style>\n",
       "<table border=\"1\" class=\"dataframe\">\n",
       "  <thead>\n",
       "    <tr style=\"text-align: right;\">\n",
       "      <th></th>\n",
       "      <th>e</th>\n",
       "      <th>a</th>\n",
       "      <th>rescale_v</th>\n",
       "    </tr>\n",
       "  </thead>\n",
       "  <tbody>\n",
       "    <tr>\n",
       "      <th>617</th>\n",
       "      <td>Q334</td>\n",
       "      <td>P2132</td>\n",
       "      <td>1.385939e-05</td>\n",
       "    </tr>\n",
       "    <tr>\n",
       "      <th>1644</th>\n",
       "      <td>Q15362</td>\n",
       "      <td>P2132</td>\n",
       "      <td>3.938282e-06</td>\n",
       "    </tr>\n",
       "    <tr>\n",
       "      <th>2930</th>\n",
       "      <td>Q242</td>\n",
       "      <td>P2132</td>\n",
       "      <td>1.193732e-06</td>\n",
       "    </tr>\n",
       "    <tr>\n",
       "      <th>3074</th>\n",
       "      <td>Q15376</td>\n",
       "      <td>P2132</td>\n",
       "      <td>5.283062e-06</td>\n",
       "    </tr>\n",
       "    <tr>\n",
       "      <th>3149</th>\n",
       "      <td>Q983</td>\n",
       "      <td>P2132</td>\n",
       "      <td>2.328629e-06</td>\n",
       "    </tr>\n",
       "    <tr>\n",
       "      <th>...</th>\n",
       "      <td>...</td>\n",
       "      <td>...</td>\n",
       "      <td>...</td>\n",
       "    </tr>\n",
       "    <tr>\n",
       "      <th>222938</th>\n",
       "      <td>Q17</td>\n",
       "      <td>P2299</td>\n",
       "      <td>1.010183e-05</td>\n",
       "    </tr>\n",
       "    <tr>\n",
       "      <th>226378</th>\n",
       "      <td>Q1020</td>\n",
       "      <td>P2299</td>\n",
       "      <td>2.893072e-07</td>\n",
       "    </tr>\n",
       "    <tr>\n",
       "      <th>230080</th>\n",
       "      <td>Q965</td>\n",
       "      <td>P2299</td>\n",
       "      <td>4.481383e-07</td>\n",
       "    </tr>\n",
       "    <tr>\n",
       "      <th>232458</th>\n",
       "      <td>Q986</td>\n",
       "      <td>P2299</td>\n",
       "      <td>3.627204e-07</td>\n",
       "    </tr>\n",
       "    <tr>\n",
       "      <th>236656</th>\n",
       "      <td>Q145</td>\n",
       "      <td>P2299</td>\n",
       "      <td>1.078716e-05</td>\n",
       "    </tr>\n",
       "  </tbody>\n",
       "</table>\n",
       "<p>283 rows × 3 columns</p>\n",
       "</div>"
      ],
      "text/plain": [
       "             e      a     rescale_v\n",
       "617       Q334  P2132  1.385939e-05\n",
       "1644    Q15362  P2132  3.938282e-06\n",
       "2930      Q242  P2132  1.193732e-06\n",
       "3074    Q15376  P2132  5.283062e-06\n",
       "3149      Q983  P2132  2.328629e-06\n",
       "...        ...    ...           ...\n",
       "222938     Q17  P2299  1.010183e-05\n",
       "226378   Q1020  P2299  2.893072e-07\n",
       "230080    Q965  P2299  4.481383e-07\n",
       "232458    Q986  P2299  3.627204e-07\n",
       "236656    Q145  P2299  1.078716e-05\n",
       "\n",
       "[283 rows x 3 columns]"
      ]
     },
     "execution_count": 30,
     "metadata": {},
     "output_type": "execute_result"
    }
   ],
   "source": [
    "gdp_per"
   ]
  },
  {
   "cell_type": "code",
   "execution_count": null,
   "id": "9b455b78",
   "metadata": {},
   "outputs": [],
   "source": [
    "#可能需要 idx to name"
   ]
  }
 ],
 "metadata": {
  "kernelspec": {
   "display_name": "Python 3 (ipykernel)",
   "language": "python",
   "name": "python3"
  },
  "language_info": {
   "codemirror_mode": {
    "name": "ipython",
    "version": 3
   },
   "file_extension": ".py",
   "mimetype": "text/x-python",
   "name": "python",
   "nbconvert_exporter": "python",
   "pygments_lexer": "ipython3",
   "version": "3.7.9"
  }
 },
 "nbformat": 4,
 "nbformat_minor": 5
}

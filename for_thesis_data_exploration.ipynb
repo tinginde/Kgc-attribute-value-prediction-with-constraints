{
 "cells": [
  {
   "cell_type": "code",
   "execution_count": 2,
   "id": "5f8837e7",
   "metadata": {},
   "outputs": [],
   "source": [
    "import pandas as pd \n",
    "import numpy as np"
   ]
  },
  {
   "cell_type": "code",
   "execution_count": 52,
   "id": "c924ddf8",
   "metadata": {},
   "outputs": [],
   "source": [
    "#df = pd.read_csv('LiterallyWikidata/files_needed/train_attri_data_minmax.csv')\n",
    "df = pd.read_csv('LiterallyWikidata/files_needed/valid_attri_data_minmax.csv')"
   ]
  },
  {
   "cell_type": "code",
   "execution_count": 9,
   "id": "6fea1c8a",
   "metadata": {},
   "outputs": [],
   "source": [
    "df_rel = pd.read_csv('LiterallyWikidata/LitWD48K/train.txt',sep='\\t',names=['e','a','v'])"
   ]
  },
  {
   "cell_type": "code",
   "execution_count": 20,
   "id": "fb6f711e",
   "metadata": {},
   "outputs": [],
   "source": [
    "id2ent = {}\n",
    "with open('LiterallyWikidata/Entities/entity_labels_en.txt',encoding=\"utf-8\") as f:\n",
    "    for line in f:\n",
    "        k, v = line.strip().split('\\t')\n",
    "        id2ent[k.strip()] = v.strip()"
   ]
  },
  {
   "cell_type": "code",
   "execution_count": 25,
   "id": "0973b16d",
   "metadata": {},
   "outputs": [],
   "source": [
    "id2att = {}\n",
    "with open('LiterallyWikidata/Relations/relation_labels_en.txt',encoding=\"utf-8\") as f:\n",
    "    for line in f:\n",
    "        k, v = line.strip().split('\\t')\n",
    "        id2att[k.strip()] = v.strip()"
   ]
  },
  {
   "cell_type": "code",
   "execution_count": 21,
   "id": "1472b9d5",
   "metadata": {},
   "outputs": [
    {
     "data": {
      "text/plain": [
       "'Gabriel Caballero'"
      ]
     },
     "execution_count": 21,
     "metadata": {},
     "output_type": "execute_result"
    }
   ],
   "source": [
    "id2ent['Q999608']"
   ]
  },
  {
   "cell_type": "code",
   "execution_count": 49,
   "id": "0921f563",
   "metadata": {
    "scrolled": false
   },
   "outputs": [
    {
     "data": {
      "text/html": [
       "<div>\n",
       "<style scoped>\n",
       "    .dataframe tbody tr th:only-of-type {\n",
       "        vertical-align: middle;\n",
       "    }\n",
       "\n",
       "    .dataframe tbody tr th {\n",
       "        vertical-align: top;\n",
       "    }\n",
       "\n",
       "    .dataframe thead th {\n",
       "        text-align: right;\n",
       "    }\n",
       "</style>\n",
       "<table border=\"1\" class=\"dataframe\">\n",
       "  <thead>\n",
       "    <tr style=\"text-align: right;\">\n",
       "      <th></th>\n",
       "      <th>e</th>\n",
       "      <th>a</th>\n",
       "      <th>v</th>\n",
       "      <th>name_e</th>\n",
       "      <th>name_a</th>\n",
       "      <th>ent_type</th>\n",
       "      <th>minmax</th>\n",
       "    </tr>\n",
       "  </thead>\n",
       "  <tbody>\n",
       "    <tr>\n",
       "      <th>768</th>\n",
       "      <td>Q130206</td>\n",
       "      <td>P2048</td>\n",
       "      <td>160.00</td>\n",
       "      <td>London Bridge</td>\n",
       "      <td>height</td>\n",
       "      <td>Q537127</td>\n",
       "      <td>0.016396</td>\n",
       "    </tr>\n",
       "    <tr>\n",
       "      <th>881</th>\n",
       "      <td>Q524908</td>\n",
       "      <td>P2048</td>\n",
       "      <td>2.11</td>\n",
       "      <td>Elden Campbell</td>\n",
       "      <td>height</td>\n",
       "      <td>Q5</td>\n",
       "      <td>0.000208</td>\n",
       "    </tr>\n",
       "    <tr>\n",
       "      <th>1716</th>\n",
       "      <td>Q970267</td>\n",
       "      <td>P2048</td>\n",
       "      <td>2.01</td>\n",
       "      <td>Don Meineke</td>\n",
       "      <td>height</td>\n",
       "      <td>Q5</td>\n",
       "      <td>0.000198</td>\n",
       "    </tr>\n",
       "    <tr>\n",
       "      <th>2234</th>\n",
       "      <td>Q984367</td>\n",
       "      <td>P2048</td>\n",
       "      <td>2.03</td>\n",
       "      <td>Jalen Rose</td>\n",
       "      <td>height</td>\n",
       "      <td>Q5</td>\n",
       "      <td>0.000200</td>\n",
       "    </tr>\n",
       "    <tr>\n",
       "      <th>2502</th>\n",
       "      <td>Q243</td>\n",
       "      <td>P2048</td>\n",
       "      <td>324.00</td>\n",
       "      <td>Eiffel Tower</td>\n",
       "      <td>height</td>\n",
       "      <td>Q570116</td>\n",
       "      <td>0.033211</td>\n",
       "    </tr>\n",
       "    <tr>\n",
       "      <th>...</th>\n",
       "      <td>...</td>\n",
       "      <td>...</td>\n",
       "      <td>...</td>\n",
       "      <td>...</td>\n",
       "      <td>...</td>\n",
       "      <td>...</td>\n",
       "      <td>...</td>\n",
       "    </tr>\n",
       "    <tr>\n",
       "      <th>235087</th>\n",
       "      <td>Q456702</td>\n",
       "      <td>P2048</td>\n",
       "      <td>2.11</td>\n",
       "      <td>Troy Murphy</td>\n",
       "      <td>height</td>\n",
       "      <td>Q5</td>\n",
       "      <td>0.000208</td>\n",
       "    </tr>\n",
       "    <tr>\n",
       "      <th>235676</th>\n",
       "      <td>Q352114</td>\n",
       "      <td>P2048</td>\n",
       "      <td>2.03</td>\n",
       "      <td>Nicolas Batum</td>\n",
       "      <td>height</td>\n",
       "      <td>Q5</td>\n",
       "      <td>0.000200</td>\n",
       "    </tr>\n",
       "    <tr>\n",
       "      <th>235911</th>\n",
       "      <td>Q2408726</td>\n",
       "      <td>P2048</td>\n",
       "      <td>2.02</td>\n",
       "      <td>Žarko Varajić</td>\n",
       "      <td>height</td>\n",
       "      <td>Q5</td>\n",
       "      <td>0.000199</td>\n",
       "    </tr>\n",
       "    <tr>\n",
       "      <th>235941</th>\n",
       "      <td>Q939333</td>\n",
       "      <td>P2048</td>\n",
       "      <td>2.11</td>\n",
       "      <td>Dan Gadzuric</td>\n",
       "      <td>height</td>\n",
       "      <td>Q5</td>\n",
       "      <td>0.000208</td>\n",
       "    </tr>\n",
       "    <tr>\n",
       "      <th>235974</th>\n",
       "      <td>Q2355451</td>\n",
       "      <td>P2048</td>\n",
       "      <td>2.04</td>\n",
       "      <td>Jasmin Hukić</td>\n",
       "      <td>height</td>\n",
       "      <td>Q5</td>\n",
       "      <td>0.000201</td>\n",
       "    </tr>\n",
       "  </tbody>\n",
       "</table>\n",
       "<p>724 rows × 7 columns</p>\n",
       "</div>"
      ],
      "text/plain": [
       "               e      a       v          name_e  name_a ent_type    minmax\n",
       "768      Q130206  P2048  160.00   London Bridge  height  Q537127  0.016396\n",
       "881      Q524908  P2048    2.11  Elden Campbell  height       Q5  0.000208\n",
       "1716     Q970267  P2048    2.01     Don Meineke  height       Q5  0.000198\n",
       "2234     Q984367  P2048    2.03      Jalen Rose  height       Q5  0.000200\n",
       "2502        Q243  P2048  324.00    Eiffel Tower  height  Q570116  0.033211\n",
       "...          ...    ...     ...             ...     ...      ...       ...\n",
       "235087   Q456702  P2048    2.11     Troy Murphy  height       Q5  0.000208\n",
       "235676   Q352114  P2048    2.03   Nicolas Batum  height       Q5  0.000200\n",
       "235911  Q2408726  P2048    2.02   Žarko Varajić  height       Q5  0.000199\n",
       "235941   Q939333  P2048    2.11    Dan Gadzuric  height       Q5  0.000208\n",
       "235974  Q2355451  P2048    2.04    Jasmin Hukić  height       Q5  0.000201\n",
       "\n",
       "[724 rows x 7 columns]"
      ]
     },
     "execution_count": 49,
     "metadata": {},
     "output_type": "execute_result"
    }
   ],
   "source": [
    "df_height = df[df['a']=='P2048']\n",
    "df_height[df_height.v>2.0]"
   ]
  },
  {
   "cell_type": "code",
   "execution_count": null,
   "id": "d2893c0c",
   "metadata": {},
   "outputs": [],
   "source": [
    "df[df['e']=='Q145']"
   ]
  },
  {
   "cell_type": "code",
   "execution_count": 29,
   "id": "13b47a41",
   "metadata": {},
   "outputs": [
    {
     "data": {
      "text/plain": [
       "'United Kingdom'"
      ]
     },
     "execution_count": 29,
     "metadata": {},
     "output_type": "execute_result"
    }
   ],
   "source": [
    "df_rel[df_rel['e']=='Q9682']\n",
    "id2ent['Q145']"
   ]
  },
  {
   "cell_type": "code",
   "execution_count": 60,
   "id": "60478eeb",
   "metadata": {},
   "outputs": [],
   "source": [
    "#meanpredictor\n",
    "att_group = df.groupby('a')\n",
    "df['mean_predictor'] = att_group['v'].transform('mean')"
   ]
  },
  {
   "cell_type": "code",
   "execution_count": 62,
   "id": "406a26ef",
   "metadata": {},
   "outputs": [],
   "source": [
    "df['mae']=df['mean_predictor'] - df['v']"
   ]
  },
  {
   "cell_type": "code",
   "execution_count": 89,
   "id": "ec29983b",
   "metadata": {},
   "outputs": [],
   "source": [
    "\n",
    "list_var = ['P1082','P4010','P2299','P565','P570','P2046','P2032','P2031','P625_Latitude','P625_Longtiude','P2048']"
   ]
  },
  {
   "cell_type": "code",
   "execution_count": 78,
   "id": "826197ac",
   "metadata": {},
   "outputs": [],
   "source": [
    "att_pred = df.groupby('a')['mae'].aggregate(['mean','median'])"
   ]
  },
  {
   "cell_type": "code",
   "execution_count": 94,
   "id": "f980571f",
   "metadata": {},
   "outputs": [],
   "source": [
    "var_res = df[df['a'].isin(list_var)]"
   ]
  },
  {
   "cell_type": "code",
   "execution_count": 96,
   "id": "82a868d9",
   "metadata": {},
   "outputs": [
    {
     "data": {
      "text/html": [
       "<div>\n",
       "<style scoped>\n",
       "    .dataframe tbody tr th:only-of-type {\n",
       "        vertical-align: middle;\n",
       "    }\n",
       "\n",
       "    .dataframe tbody tr th {\n",
       "        vertical-align: top;\n",
       "    }\n",
       "\n",
       "    .dataframe thead th {\n",
       "        text-align: right;\n",
       "    }\n",
       "</style>\n",
       "<table border=\"1\" class=\"dataframe\">\n",
       "  <thead>\n",
       "    <tr style=\"text-align: right;\">\n",
       "      <th></th>\n",
       "      <th>mean</th>\n",
       "      <th>median</th>\n",
       "    </tr>\n",
       "    <tr>\n",
       "      <th>a</th>\n",
       "      <th></th>\n",
       "      <th></th>\n",
       "    </tr>\n",
       "  </thead>\n",
       "  <tbody>\n",
       "    <tr>\n",
       "      <th>P1082</th>\n",
       "      <td>0.000000e+00</td>\n",
       "      <td>9.172066e+05</td>\n",
       "    </tr>\n",
       "    <tr>\n",
       "      <th>P2031</th>\n",
       "      <td>-2.386617e-14</td>\n",
       "      <td>-5.920567e+00</td>\n",
       "    </tr>\n",
       "    <tr>\n",
       "      <th>P2032</th>\n",
       "      <td>-9.370551e-14</td>\n",
       "      <td>-7.396970e+00</td>\n",
       "    </tr>\n",
       "    <tr>\n",
       "      <th>P2046</th>\n",
       "      <td>5.326194e-05</td>\n",
       "      <td>7.337400e+11</td>\n",
       "    </tr>\n",
       "    <tr>\n",
       "      <th>P2048</th>\n",
       "      <td>-5.879330e-17</td>\n",
       "      <td>2.012972e+00</td>\n",
       "    </tr>\n",
       "    <tr>\n",
       "      <th>P2299</th>\n",
       "      <td>1.591616e-12</td>\n",
       "      <td>6.057906e+03</td>\n",
       "    </tr>\n",
       "    <tr>\n",
       "      <th>P4010</th>\n",
       "      <td>0.000000e+00</td>\n",
       "      <td>1.287222e+12</td>\n",
       "    </tr>\n",
       "    <tr>\n",
       "      <th>P570</th>\n",
       "      <td>-5.402939e-14</td>\n",
       "      <td>-5.283168e+01</td>\n",
       "    </tr>\n",
       "    <tr>\n",
       "      <th>P625_Latitude</th>\n",
       "      <td>3.215241e-15</td>\n",
       "      <td>-2.479288e+00</td>\n",
       "    </tr>\n",
       "    <tr>\n",
       "      <th>P625_Longtiude</th>\n",
       "      <td>-1.708720e-16</td>\n",
       "      <td>-6.109336e+00</td>\n",
       "    </tr>\n",
       "  </tbody>\n",
       "</table>\n",
       "</div>"
      ],
      "text/plain": [
       "                        mean        median\n",
       "a                                         \n",
       "P1082           0.000000e+00  9.172066e+05\n",
       "P2031          -2.386617e-14 -5.920567e+00\n",
       "P2032          -9.370551e-14 -7.396970e+00\n",
       "P2046           5.326194e-05  7.337400e+11\n",
       "P2048          -5.879330e-17  2.012972e+00\n",
       "P2299           1.591616e-12  6.057906e+03\n",
       "P4010           0.000000e+00  1.287222e+12\n",
       "P570           -5.402939e-14 -5.283168e+01\n",
       "P625_Latitude   3.215241e-15 -2.479288e+00\n",
       "P625_Longtiude -1.708720e-16 -6.109336e+00"
      ]
     },
     "execution_count": 96,
     "metadata": {},
     "output_type": "execute_result"
    }
   ],
   "source": [
    "var_res.groupby('a')['mae'].aggregate(['mean'])"
   ]
  }
 ],
 "metadata": {
  "kernelspec": {
   "display_name": "Python 3 (ipykernel)",
   "language": "python",
   "name": "python3"
  },
  "language_info": {
   "codemirror_mode": {
    "name": "ipython",
    "version": 3
   },
   "file_extension": ".py",
   "mimetype": "text/x-python",
   "name": "python",
   "nbconvert_exporter": "python",
   "pygments_lexer": "ipython3",
   "version": "3.7.9"
  }
 },
 "nbformat": 4,
 "nbformat_minor": 5
}

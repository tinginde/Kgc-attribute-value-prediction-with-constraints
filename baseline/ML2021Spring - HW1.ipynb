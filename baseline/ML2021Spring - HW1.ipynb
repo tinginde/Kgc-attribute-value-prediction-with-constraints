{
 "cells": [
  {
   "cell_type": "markdown",
   "metadata": {
    "id": "wS_4-77xHk44"
   },
   "source": [
    "# **Import Some Packages**"
   ]
  },
  {
   "cell_type": "code",
   "execution_count": 2,
   "metadata": {
    "id": "k-onQd4JNA5H"
   },
   "outputs": [],
   "source": [
    "# PyTorch\n",
    "import torch\n",
    "import torch.nn as nn\n",
    "from torch.utils.data import Dataset, DataLoader, random_split\n",
    "\n",
    "# For data preprocess\n",
    "import pandas as pd\n",
    "import numpy as np\n",
    "import csv\n",
    "import os\n",
    "\n",
    "from tqdm import tqdm\n",
    "\n",
    "import math\n",
    "from torch.utils.tensorboard import SummaryWriter\n",
    "# For plotting\n",
    "import matplotlib.pyplot as plt\n",
    "from matplotlib.pyplot import figure\n",
    "\n",
    "myseed = 80215  # set a random seed for reproducibility\n",
    "torch.backends.cudnn.deterministic = True\n",
    "torch.backends.cudnn.benchmark = False\n",
    "np.random.seed(myseed)\n",
    "torch.manual_seed(myseed)\n",
    "if torch.cuda.is_available():\n",
    "    torch.cuda.manual_seed_all(myseed)"
   ]
  },
  {
   "cell_type": "markdown",
   "metadata": {
    "id": "BtE3b6JEH7rw"
   },
   "source": [
    "# **Some Utilities**\n",
    "\n",
    "You do not need to modify this part."
   ]
  },
  {
   "cell_type": "code",
   "execution_count": 3,
   "metadata": {
    "id": "FWMT3uf1NGQp"
   },
   "outputs": [],
   "source": [
    "def get_device():\n",
    "    ''' Get device (if GPU is available, use GPU) '''\n",
    "    return 'cuda' if torch.cuda.is_available() else 'cpu'\n",
    "\n",
    "def plot_learning_curve(loss_record, title=''):\n",
    "    ''' Plot learning curve of your DNN (train & dev loss) '''\n",
    "    total_steps = len(loss_record['train'])\n",
    "    x_1 = range(total_steps)\n",
    "    x_2 = x_1[::len(loss_record['train']) // len(loss_record['dev'])]\n",
    "    figure(figsize=(6, 4))\n",
    "    plt.plot(x_1, loss_record['train'], c='tab:red', label='train')\n",
    "    plt.plot(x_2, loss_record['dev'], c='tab:cyan', label='dev')\n",
    "    plt.ylim(1000.0, 100000.)\n",
    "    plt.xlabel('Training steps')\n",
    "    plt.ylabel('MSE loss')\n",
    "    plt.title('Learning curve of {}'.format(title))\n",
    "    plt.legend()\n",
    "    plt.show()\n",
    "\n",
    "\n",
    "def plot_pred(dv_set, model, device, lim=35., preds=None, targets=None):\n",
    "    ''' Plot prediction of your DNN '''\n",
    "    if preds is None or targets is None:\n",
    "        model.eval()\n",
    "        preds, targets = [], []\n",
    "        for x, y in dv_set:\n",
    "            x, y = x.to(device), y.to(device)\n",
    "            with torch.no_grad():\n",
    "                pred = model(x)\n",
    "                preds.append(pred.detach().cpu())\n",
    "                targets.append(y.detach().cpu())\n",
    "        preds = torch.cat(preds, dim=0).numpy()\n",
    "        targets = torch.cat(targets, dim=0).numpy()\n",
    "\n",
    "    figure(figsize=(5, 5))\n",
    "    plt.scatter(targets, preds, c='r', alpha=0.5)\n",
    "    plt.plot([-0.2, lim], [-0.2, lim], c='b')\n",
    "    plt.xlim(-0.2, lim)\n",
    "    plt.ylim(-0.2, lim)\n",
    "    plt.xlabel('ground truth value')\n",
    "    plt.ylabel('predicted value')\n",
    "    plt.title('Ground Truth v.s. Prediction')\n",
    "    plt.show()\n",
    "    \n"
   ]
  },
  {
   "cell_type": "code",
   "execution_count": 4,
   "metadata": {},
   "outputs": [],
   "source": [
    "def same_seed(seed): \n",
    "    '''Fixes random number generator seeds for reproducibility.'''\n",
    "    torch.backends.cudnn.deterministic = True\n",
    "    torch.backends.cudnn.benchmark = False\n",
    "    np.random.seed(seed)\n",
    "    torch.manual_seed(seed)\n",
    "    if torch.cuda.is_available():\n",
    "        torch.cuda.manual_seed_all(seed)\n",
    "\n",
    "def train_valid_split(data_set, valid_ratio, seed):\n",
    "    '''Split provided training data into training set and validation set'''\n",
    "    valid_set_size = int(valid_ratio * len(data_set)) \n",
    "    train_set_size = len(data_set) - valid_set_size\n",
    "    train_set, valid_set = random_split(data_set, [train_set_size, valid_set_size], generator=torch.Generator().manual_seed(seed))\n",
    "    return np.array(train_set), np.array(valid_set)\n",
    "\n",
    "def predict(test_loader, model, device):\n",
    "    model.eval() # Set your model to evaluation mode.\n",
    "    preds = []\n",
    "    for x in tqdm(test_loader):\n",
    "        x = x.to(device)                        \n",
    "        with torch.no_grad():                   \n",
    "            pred = model(x)                     \n",
    "            preds.append(pred.detach().cpu())   \n",
    "    preds = torch.cat(preds, dim=0).numpy()  \n",
    "    return preds"
   ]
  },
  {
   "cell_type": "code",
   "execution_count": 5,
   "metadata": {},
   "outputs": [],
   "source": [
    "attri_data = pd.read_csv('../LiterallyWikidata/files_needed/numeric_literals_ver06')"
   ]
  },
  {
   "cell_type": "code",
   "execution_count": 6,
   "metadata": {},
   "outputs": [
    {
     "data": {
      "text/html": [
       "<div>\n",
       "<style scoped>\n",
       "    .dataframe tbody tr th:only-of-type {\n",
       "        vertical-align: middle;\n",
       "    }\n",
       "\n",
       "    .dataframe tbody tr th {\n",
       "        vertical-align: top;\n",
       "    }\n",
       "\n",
       "    .dataframe thead th {\n",
       "        text-align: right;\n",
       "    }\n",
       "</style>\n",
       "<table border=\"1\" class=\"dataframe\">\n",
       "  <thead>\n",
       "    <tr style=\"text-align: right;\">\n",
       "      <th></th>\n",
       "      <th>e</th>\n",
       "      <th>a</th>\n",
       "      <th>v</th>\n",
       "      <th>name_e</th>\n",
       "      <th>name_a</th>\n",
       "      <th>ent_type</th>\n",
       "      <th>std_v</th>\n",
       "      <th>minmax_v</th>\n",
       "    </tr>\n",
       "  </thead>\n",
       "  <tbody>\n",
       "    <tr>\n",
       "      <th>0</th>\n",
       "      <td>Q1000056</td>\n",
       "      <td>P1082</td>\n",
       "      <td>1.103200e+04</td>\n",
       "      <td>Sušice</td>\n",
       "      <td>population</td>\n",
       "      <td>Q7841907</td>\n",
       "      <td>-0.030708</td>\n",
       "      <td>2.649215e-06</td>\n",
       "    </tr>\n",
       "    <tr>\n",
       "      <th>1</th>\n",
       "      <td>Q1000056</td>\n",
       "      <td>P2044</td>\n",
       "      <td>4.720000e+02</td>\n",
       "      <td>Sušice</td>\n",
       "      <td>elevation above sea level</td>\n",
       "      <td>Q7841907</td>\n",
       "      <td>0.031306</td>\n",
       "      <td>2.219876e-03</td>\n",
       "    </tr>\n",
       "    <tr>\n",
       "      <th>2</th>\n",
       "      <td>Q1000056</td>\n",
       "      <td>P2046</td>\n",
       "      <td>4.563000e+07</td>\n",
       "      <td>Sušice</td>\n",
       "      <td>area</td>\n",
       "      <td>Q7841907</td>\n",
       "      <td>-0.006852</td>\n",
       "      <td>7.492611e-12</td>\n",
       "    </tr>\n",
       "    <tr>\n",
       "      <th>3</th>\n",
       "      <td>Q1000138</td>\n",
       "      <td>P1082</td>\n",
       "      <td>1.375000e+03</td>\n",
       "      <td>Cantenac</td>\n",
       "      <td>population</td>\n",
       "      <td>Q484170</td>\n",
       "      <td>-0.031014</td>\n",
       "      <td>3.301914e-07</td>\n",
       "    </tr>\n",
       "    <tr>\n",
       "      <th>4</th>\n",
       "      <td>Q1000138</td>\n",
       "      <td>P2044</td>\n",
       "      <td>1.000000e+00</td>\n",
       "      <td>Cantenac</td>\n",
       "      <td>elevation above sea level</td>\n",
       "      <td>Q484170</td>\n",
       "      <td>-0.116549</td>\n",
       "      <td>1.058141e-03</td>\n",
       "    </tr>\n",
       "    <tr>\n",
       "      <th>...</th>\n",
       "      <td>...</td>\n",
       "      <td>...</td>\n",
       "      <td>...</td>\n",
       "      <td>...</td>\n",
       "      <td>...</td>\n",
       "      <td>...</td>\n",
       "      <td>...</td>\n",
       "      <td>...</td>\n",
       "    </tr>\n",
       "    <tr>\n",
       "      <th>296303</th>\n",
       "      <td>Q99987</td>\n",
       "      <td>P1333_Longtiude</td>\n",
       "      <td>9.586108e+00</td>\n",
       "      <td>Brembate di Sopra</td>\n",
       "      <td>coordinates of southernmost point</td>\n",
       "      <td>Q747074</td>\n",
       "      <td>-0.140675</td>\n",
       "      <td>5.334437e-01</td>\n",
       "    </tr>\n",
       "    <tr>\n",
       "      <th>296304</th>\n",
       "      <td>Q99987</td>\n",
       "      <td>P1334_Longtiude</td>\n",
       "      <td>9.595788e+00</td>\n",
       "      <td>Brembate di Sopra</td>\n",
       "      <td>coordinates of easternmost point</td>\n",
       "      <td>Q747074</td>\n",
       "      <td>-0.144653</td>\n",
       "      <td>5.264729e-01</td>\n",
       "    </tr>\n",
       "    <tr>\n",
       "      <th>296305</th>\n",
       "      <td>Q99987</td>\n",
       "      <td>P1335_Longtiude</td>\n",
       "      <td>9.564391e+00</td>\n",
       "      <td>Brembate di Sopra</td>\n",
       "      <td>coordinates of westernmost point</td>\n",
       "      <td>Q747074</td>\n",
       "      <td>-0.142728</td>\n",
       "      <td>5.252904e-01</td>\n",
       "    </tr>\n",
       "    <tr>\n",
       "      <th>296306</th>\n",
       "      <td>Q99987</td>\n",
       "      <td>P625_Longtiude</td>\n",
       "      <td>9.580647e+00</td>\n",
       "      <td>Brembate di Sopra</td>\n",
       "      <td>coordinate location(logtitude)</td>\n",
       "      <td>Q747074</td>\n",
       "      <td>0.130122</td>\n",
       "      <td>5.244460e-01</td>\n",
       "    </tr>\n",
       "    <tr>\n",
       "      <th>296307</th>\n",
       "      <td>Q99</td>\n",
       "      <td>P625_Longtiude</td>\n",
       "      <td>-1.200000e+02</td>\n",
       "      <td>California</td>\n",
       "      <td>coordinate location(logtitude)</td>\n",
       "      <td>Q35657</td>\n",
       "      <td>-2.000731</td>\n",
       "      <td>1.621589e-01</td>\n",
       "    </tr>\n",
       "  </tbody>\n",
       "</table>\n",
       "<p>296308 rows × 8 columns</p>\n",
       "</div>"
      ],
      "text/plain": [
       "               e                a             v             name_e  \\\n",
       "0       Q1000056            P1082  1.103200e+04             Sušice   \n",
       "1       Q1000056            P2044  4.720000e+02             Sušice   \n",
       "2       Q1000056            P2046  4.563000e+07             Sušice   \n",
       "3       Q1000138            P1082  1.375000e+03           Cantenac   \n",
       "4       Q1000138            P2044  1.000000e+00           Cantenac   \n",
       "...          ...              ...           ...                ...   \n",
       "296303    Q99987  P1333_Longtiude  9.586108e+00  Brembate di Sopra   \n",
       "296304    Q99987  P1334_Longtiude  9.595788e+00  Brembate di Sopra   \n",
       "296305    Q99987  P1335_Longtiude  9.564391e+00  Brembate di Sopra   \n",
       "296306    Q99987   P625_Longtiude  9.580647e+00  Brembate di Sopra   \n",
       "296307       Q99   P625_Longtiude -1.200000e+02         California   \n",
       "\n",
       "                                   name_a  ent_type     std_v      minmax_v  \n",
       "0                              population  Q7841907 -0.030708  2.649215e-06  \n",
       "1               elevation above sea level  Q7841907  0.031306  2.219876e-03  \n",
       "2                                    area  Q7841907 -0.006852  7.492611e-12  \n",
       "3                              population   Q484170 -0.031014  3.301914e-07  \n",
       "4               elevation above sea level   Q484170 -0.116549  1.058141e-03  \n",
       "...                                   ...       ...       ...           ...  \n",
       "296303  coordinates of southernmost point   Q747074 -0.140675  5.334437e-01  \n",
       "296304   coordinates of easternmost point   Q747074 -0.144653  5.264729e-01  \n",
       "296305   coordinates of westernmost point   Q747074 -0.142728  5.252904e-01  \n",
       "296306     coordinate location(logtitude)   Q747074  0.130122  5.244460e-01  \n",
       "296307     coordinate location(logtitude)    Q35657 -2.000731  1.621589e-01  \n",
       "\n",
       "[296308 rows x 8 columns]"
      ]
     },
     "execution_count": 6,
     "metadata": {},
     "output_type": "execute_result"
    }
   ],
   "source": [
    "attri_data"
   ]
  },
  {
   "cell_type": "code",
   "execution_count": 7,
   "metadata": {},
   "outputs": [],
   "source": [
    "# 用kgeemb順序\n",
    "ent2idx ={}\n",
    "with open('../LiterallyWikidata/files_needed/list_ent_ids.txt','r') as fr:\n",
    "    for i, word in enumerate(fr.readlines()):\n",
    "        ent2idx[word.strip()] = i\n",
    "\n",
    "\n",
    "attri_data_std_v = attri_data[['e','a','std_v']]\n",
    "attri_data_eav = attri_data[['e','a','v']]\n",
    "# att2idx = {}\n",
    "# #rel2idx = {v:k for k,v in enumerate(relations['label'].unique())}\n",
    "\n",
    "# with open('../LiterallyWikidata/files_needed/attribute.txt','r') as fr:\n",
    "#     for i, word in enumerate(fr.readlines()):\n",
    "#         att2idx[word.strip()] = i\n",
    "        \n",
    "att2idx = {v:k for k,v in enumerate(attri_data['a'].unique())}"
   ]
  },
  {
   "cell_type": "code",
   "execution_count": 8,
   "metadata": {},
   "outputs": [],
   "source": [
    "# attri_data['a_idx']=attri_data['a'].map(att2idx)\n",
    "# attri_data['e_idx']=attri_data['e'].map(ent2idx)"
   ]
  },
  {
   "cell_type": "code",
   "execution_count": 9,
   "metadata": {},
   "outputs": [
    {
     "data": {
      "text/html": [
       "<div>\n",
       "<style scoped>\n",
       "    .dataframe tbody tr th:only-of-type {\n",
       "        vertical-align: middle;\n",
       "    }\n",
       "\n",
       "    .dataframe tbody tr th {\n",
       "        vertical-align: top;\n",
       "    }\n",
       "\n",
       "    .dataframe thead th {\n",
       "        text-align: right;\n",
       "    }\n",
       "</style>\n",
       "<table border=\"1\" class=\"dataframe\">\n",
       "  <thead>\n",
       "    <tr style=\"text-align: right;\">\n",
       "      <th></th>\n",
       "      <th>e</th>\n",
       "      <th>a</th>\n",
       "      <th>v</th>\n",
       "    </tr>\n",
       "  </thead>\n",
       "  <tbody>\n",
       "    <tr>\n",
       "      <th>0</th>\n",
       "      <td>Q1000056</td>\n",
       "      <td>P1082</td>\n",
       "      <td>1.103200e+04</td>\n",
       "    </tr>\n",
       "    <tr>\n",
       "      <th>1</th>\n",
       "      <td>Q1000056</td>\n",
       "      <td>P2044</td>\n",
       "      <td>4.720000e+02</td>\n",
       "    </tr>\n",
       "    <tr>\n",
       "      <th>2</th>\n",
       "      <td>Q1000056</td>\n",
       "      <td>P2046</td>\n",
       "      <td>4.563000e+07</td>\n",
       "    </tr>\n",
       "    <tr>\n",
       "      <th>3</th>\n",
       "      <td>Q1000138</td>\n",
       "      <td>P1082</td>\n",
       "      <td>1.375000e+03</td>\n",
       "    </tr>\n",
       "    <tr>\n",
       "      <th>4</th>\n",
       "      <td>Q1000138</td>\n",
       "      <td>P2044</td>\n",
       "      <td>1.000000e+00</td>\n",
       "    </tr>\n",
       "    <tr>\n",
       "      <th>...</th>\n",
       "      <td>...</td>\n",
       "      <td>...</td>\n",
       "      <td>...</td>\n",
       "    </tr>\n",
       "    <tr>\n",
       "      <th>296303</th>\n",
       "      <td>Q99987</td>\n",
       "      <td>P1333_Longtiude</td>\n",
       "      <td>9.586108e+00</td>\n",
       "    </tr>\n",
       "    <tr>\n",
       "      <th>296304</th>\n",
       "      <td>Q99987</td>\n",
       "      <td>P1334_Longtiude</td>\n",
       "      <td>9.595788e+00</td>\n",
       "    </tr>\n",
       "    <tr>\n",
       "      <th>296305</th>\n",
       "      <td>Q99987</td>\n",
       "      <td>P1335_Longtiude</td>\n",
       "      <td>9.564391e+00</td>\n",
       "    </tr>\n",
       "    <tr>\n",
       "      <th>296306</th>\n",
       "      <td>Q99987</td>\n",
       "      <td>P625_Longtiude</td>\n",
       "      <td>9.580647e+00</td>\n",
       "    </tr>\n",
       "    <tr>\n",
       "      <th>296307</th>\n",
       "      <td>Q99</td>\n",
       "      <td>P625_Longtiude</td>\n",
       "      <td>-1.200000e+02</td>\n",
       "    </tr>\n",
       "  </tbody>\n",
       "</table>\n",
       "<p>296308 rows × 3 columns</p>\n",
       "</div>"
      ],
      "text/plain": [
       "               e                a             v\n",
       "0       Q1000056            P1082  1.103200e+04\n",
       "1       Q1000056            P2044  4.720000e+02\n",
       "2       Q1000056            P2046  4.563000e+07\n",
       "3       Q1000138            P1082  1.375000e+03\n",
       "4       Q1000138            P2044  1.000000e+00\n",
       "...          ...              ...           ...\n",
       "296303    Q99987  P1333_Longtiude  9.586108e+00\n",
       "296304    Q99987  P1334_Longtiude  9.595788e+00\n",
       "296305    Q99987  P1335_Longtiude  9.564391e+00\n",
       "296306    Q99987   P625_Longtiude  9.580647e+00\n",
       "296307       Q99   P625_Longtiude -1.200000e+02\n",
       "\n",
       "[296308 rows x 3 columns]"
      ]
     },
     "execution_count": 9,
     "metadata": {},
     "output_type": "execute_result"
    }
   ],
   "source": [
    "attri_data_eav"
   ]
  },
  {
   "cell_type": "code",
   "execution_count": 10,
   "metadata": {},
   "outputs": [],
   "source": [
    "def numeric_literal_array(data, ent2idx, att2idx):\n",
    "    #'LiterallyWikidata/LitWD48K/train_attri_data'\n",
    "    df_all = data\n",
    "\n",
    "    # Resulting file\n",
    "    num_lit = np.zeros([len(ent2idx), len(att2idx)], dtype=np.float32)\n",
    "\n",
    "# Create literal wrt vocab\n",
    "    for i, (s, p, lit) in enumerate(df_all.values):\n",
    "        try:\n",
    "            num_lit[ent2idx[s], att2idx[p]] = lit\n",
    "        except KeyError:\n",
    "            continue\n",
    "    return num_lit\n",
    "\n",
    "\n",
    "# num_lit shape (47998, 86)\n"
   ]
  },
  {
   "cell_type": "code",
   "execution_count": 11,
   "metadata": {},
   "outputs": [
    {
     "name": "stdout",
     "output_type": "stream",
     "text": [
      "(47998, 86)\n"
     ]
    }
   ],
   "source": [
    "num_lit = numeric_literal_array(attri_data_eav, ent2idx, att2idx)\n",
    "print(num_lit.shape)"
   ]
  },
  {
   "cell_type": "code",
   "execution_count": 18,
   "metadata": {},
   "outputs": [
    {
     "name": "stdout",
     "output_type": "stream",
     "text": [
      "(47998, 86)\n"
     ]
    }
   ],
   "source": [
    "num_lit_stdv = numeric_literal_array(attri_data_std_v, ent2idx, att2idx)\n",
    "print(num_lit_stdv.shape)"
   ]
  },
  {
   "cell_type": "code",
   "execution_count": 19,
   "metadata": {},
   "outputs": [],
   "source": [
    "# ## constraint needed:\n",
    "pop_idx = att2idx['P1082']\n",
    "gdp = att2idx['P4010']\n",
    "nominal_gdp = att2idx['P2131']\n",
    "# nominal_gdp_per = att2idx['P2132']\n",
    "gdp_per = att2idx['P2299']\n",
    "# date_of_birth = att2idx['P569']\n",
    "# date_of_death = att2idx['P570']\n",
    "# area = ['P2046']\n",
    "# # net_profit = att2idx['P2295']\n",
    "# # retirement_age = att2idx['P3001']\n",
    "# # age_of_majority = att2idx['P2997']\n",
    "# # work_start = att2idx['P2031']\n",
    "# # work_end = att2idx['P2032']"
   ]
  },
  {
   "cell_type": "code",
   "execution_count": 13,
   "metadata": {},
   "outputs": [
    {
     "data": {
      "text/plain": [
       "84"
      ]
     },
     "execution_count": 13,
     "metadata": {},
     "output_type": "execute_result"
    }
   ],
   "source": [
    "ent2idx['Q1000']"
   ]
  },
  {
   "cell_type": "code",
   "execution_count": 14,
   "metadata": {},
   "outputs": [
    {
     "data": {
      "text/html": [
       "<div>\n",
       "<style scoped>\n",
       "    .dataframe tbody tr th:only-of-type {\n",
       "        vertical-align: middle;\n",
       "    }\n",
       "\n",
       "    .dataframe tbody tr th {\n",
       "        vertical-align: top;\n",
       "    }\n",
       "\n",
       "    .dataframe thead th {\n",
       "        text-align: right;\n",
       "    }\n",
       "</style>\n",
       "<table border=\"1\" class=\"dataframe\">\n",
       "  <thead>\n",
       "    <tr style=\"text-align: right;\">\n",
       "      <th></th>\n",
       "      <th>e</th>\n",
       "      <th>a</th>\n",
       "      <th>v</th>\n",
       "      <th>name_e</th>\n",
       "      <th>name_a</th>\n",
       "      <th>ent_type</th>\n",
       "      <th>std_v</th>\n",
       "      <th>minmax_v</th>\n",
       "    </tr>\n",
       "  </thead>\n",
       "  <tbody>\n",
       "    <tr>\n",
       "      <th>0</th>\n",
       "      <td>Q1000056</td>\n",
       "      <td>P1082</td>\n",
       "      <td>11032.0</td>\n",
       "      <td>Sušice</td>\n",
       "      <td>population</td>\n",
       "      <td>Q7841907</td>\n",
       "      <td>-0.030708</td>\n",
       "      <td>2.649215e-06</td>\n",
       "    </tr>\n",
       "    <tr>\n",
       "      <th>3</th>\n",
       "      <td>Q1000138</td>\n",
       "      <td>P1082</td>\n",
       "      <td>1375.0</td>\n",
       "      <td>Cantenac</td>\n",
       "      <td>population</td>\n",
       "      <td>Q484170</td>\n",
       "      <td>-0.031014</td>\n",
       "      <td>3.301914e-07</td>\n",
       "    </tr>\n",
       "    <tr>\n",
       "      <th>6</th>\n",
       "      <td>Q100013</td>\n",
       "      <td>P1082</td>\n",
       "      <td>4109.0</td>\n",
       "      <td>Brembilla</td>\n",
       "      <td>population</td>\n",
       "      <td>Q1134686</td>\n",
       "      <td>-0.030927</td>\n",
       "      <td>9.867318e-07</td>\n",
       "    </tr>\n",
       "    <tr>\n",
       "      <th>9</th>\n",
       "      <td>Q100015</td>\n",
       "      <td>P1082</td>\n",
       "      <td>6009.0</td>\n",
       "      <td>Brignano Gera d'Adda</td>\n",
       "      <td>population</td>\n",
       "      <td>Q747074</td>\n",
       "      <td>-0.030867</td>\n",
       "      <td>1.442996e-06</td>\n",
       "    </tr>\n",
       "    <tr>\n",
       "      <th>12</th>\n",
       "      <td>Q100016</td>\n",
       "      <td>P1082</td>\n",
       "      <td>119.0</td>\n",
       "      <td>Brumano</td>\n",
       "      <td>population</td>\n",
       "      <td>Q747074</td>\n",
       "      <td>-0.031053</td>\n",
       "      <td>2.857656e-08</td>\n",
       "    </tr>\n",
       "    <tr>\n",
       "      <th>...</th>\n",
       "      <td>...</td>\n",
       "      <td>...</td>\n",
       "      <td>...</td>\n",
       "      <td>...</td>\n",
       "      <td>...</td>\n",
       "      <td>...</td>\n",
       "      <td>...</td>\n",
       "      <td>...</td>\n",
       "    </tr>\n",
       "    <tr>\n",
       "      <th>123807</th>\n",
       "      <td>Q99983</td>\n",
       "      <td>P1082</td>\n",
       "      <td>706.0</td>\n",
       "      <td>Bracca</td>\n",
       "      <td>population</td>\n",
       "      <td>Q747074</td>\n",
       "      <td>-0.031035</td>\n",
       "      <td>1.695383e-07</td>\n",
       "    </tr>\n",
       "    <tr>\n",
       "      <th>123810</th>\n",
       "      <td>Q99985</td>\n",
       "      <td>P1082</td>\n",
       "      <td>712.0</td>\n",
       "      <td>Branzi</td>\n",
       "      <td>population</td>\n",
       "      <td>Q747074</td>\n",
       "      <td>-0.031035</td>\n",
       "      <td>1.709791e-07</td>\n",
       "    </tr>\n",
       "    <tr>\n",
       "      <th>123813</th>\n",
       "      <td>Q99986</td>\n",
       "      <td>P1082</td>\n",
       "      <td>8551.0</td>\n",
       "      <td>Brembate</td>\n",
       "      <td>population</td>\n",
       "      <td>Q747074</td>\n",
       "      <td>-0.030787</td>\n",
       "      <td>2.053430e-06</td>\n",
       "    </tr>\n",
       "    <tr>\n",
       "      <th>123816</th>\n",
       "      <td>Q99987</td>\n",
       "      <td>P1082</td>\n",
       "      <td>7868.0</td>\n",
       "      <td>Brembate di Sopra</td>\n",
       "      <td>population</td>\n",
       "      <td>Q747074</td>\n",
       "      <td>-0.030808</td>\n",
       "      <td>1.889415e-06</td>\n",
       "    </tr>\n",
       "    <tr>\n",
       "      <th>123819</th>\n",
       "      <td>Q99</td>\n",
       "      <td>P1082</td>\n",
       "      <td>39144816.0</td>\n",
       "      <td>California</td>\n",
       "      <td>population</td>\n",
       "      <td>Q35657</td>\n",
       "      <td>1.206696</td>\n",
       "      <td>9.400203e-03</td>\n",
       "    </tr>\n",
       "  </tbody>\n",
       "</table>\n",
       "<p>21446 rows × 8 columns</p>\n",
       "</div>"
      ],
      "text/plain": [
       "               e      a           v                name_e      name_a  \\\n",
       "0       Q1000056  P1082     11032.0                Sušice  population   \n",
       "3       Q1000138  P1082      1375.0              Cantenac  population   \n",
       "6        Q100013  P1082      4109.0             Brembilla  population   \n",
       "9        Q100015  P1082      6009.0  Brignano Gera d'Adda  population   \n",
       "12       Q100016  P1082       119.0               Brumano  population   \n",
       "...          ...    ...         ...                   ...         ...   \n",
       "123807    Q99983  P1082       706.0                Bracca  population   \n",
       "123810    Q99985  P1082       712.0                Branzi  population   \n",
       "123813    Q99986  P1082      8551.0              Brembate  population   \n",
       "123816    Q99987  P1082      7868.0     Brembate di Sopra  population   \n",
       "123819       Q99  P1082  39144816.0            California  population   \n",
       "\n",
       "        ent_type     std_v      minmax_v  \n",
       "0       Q7841907 -0.030708  2.649215e-06  \n",
       "3        Q484170 -0.031014  3.301914e-07  \n",
       "6       Q1134686 -0.030927  9.867318e-07  \n",
       "9        Q747074 -0.030867  1.442996e-06  \n",
       "12       Q747074 -0.031053  2.857656e-08  \n",
       "...          ...       ...           ...  \n",
       "123807   Q747074 -0.031035  1.695383e-07  \n",
       "123810   Q747074 -0.031035  1.709791e-07  \n",
       "123813   Q747074 -0.030787  2.053430e-06  \n",
       "123816   Q747074 -0.030808  1.889415e-06  \n",
       "123819    Q35657  1.206696  9.400203e-03  \n",
       "\n",
       "[21446 rows x 8 columns]"
      ]
     },
     "execution_count": 14,
     "metadata": {},
     "output_type": "execute_result"
    }
   ],
   "source": [
    "attri_data[attri_data['a']=='P1082']"
   ]
  },
  {
   "cell_type": "code",
   "execution_count": 20,
   "metadata": {
    "scrolled": false
   },
   "outputs": [
    {
     "data": {
      "text/plain": [
       "36681910000.0"
      ]
     },
     "execution_count": 20,
     "metadata": {},
     "output_type": "execute_result"
    }
   ],
   "source": [
    "num_lit[84][gdp_per]*num_lit[84][pop_idx]\n",
    "num_lit[84][gdp]"
   ]
  },
  {
   "cell_type": "code",
   "execution_count": 72,
   "metadata": {
    "scrolled": false
   },
   "outputs": [],
   "source": [
    "# x_list: ent的gdp有值，把除了gdp那個值之外的值存到inner_x_list，len(x_list)是有幾組變數有值\n",
    "x_list=[]\n",
    "\n",
    "for ent in num_lit_stdv:\n",
    "    if ent[gdp] == 0:\n",
    "        pass\n",
    "    else:\n",
    "        #print(ent[gdp])\n",
    "        inner_x_list=[]\n",
    "        for j in range(len(ent)):\n",
    "            if j != gdp :\n",
    "                inner_x_list.append(ent[j])\n",
    "        inner_x_list.append(ent[gdp])\n",
    "        x_list.append(inner_x_list)\n"
   ]
  },
  {
   "cell_type": "code",
   "execution_count": 73,
   "metadata": {},
   "outputs": [
    {
     "data": {
      "text/plain": [
       "[10.250006,\n",
       " 0.0,\n",
       " -0.006613904,\n",
       " 0.0,\n",
       " 0.0,\n",
       " 0.0,\n",
       " 0.0,\n",
       " 0.0,\n",
       " 0.0,\n",
       " 0.0,\n",
       " 0.0,\n",
       " 0.0,\n",
       " 1.5218797,\n",
       " 10.139478,\n",
       " 2.0880435,\n",
       " -0.21222888,\n",
       " 0.96752954,\n",
       " 1.7440671,\n",
       " -1.8439026,\n",
       " -0.7418871,\n",
       " 0.0,\n",
       " 0.0,\n",
       " 0.0,\n",
       " 0.0,\n",
       " 0.0,\n",
       " 0.0,\n",
       " 0.0,\n",
       " 0.0,\n",
       " 0.0,\n",
       " 0.0,\n",
       " 0.0,\n",
       " 0.0,\n",
       " 0.0,\n",
       " 0.0,\n",
       " 0.0,\n",
       " 0.0,\n",
       " 0.0,\n",
       " 0.0,\n",
       " 0.0,\n",
       " 0.0,\n",
       " 0.0,\n",
       " 0.0,\n",
       " 0.0,\n",
       " 0.0,\n",
       " 0.0,\n",
       " 0.0,\n",
       " 0.0,\n",
       " 0.0,\n",
       " 0.0,\n",
       " 0.0,\n",
       " 0.0,\n",
       " 0.0,\n",
       " 0.0,\n",
       " 0.0,\n",
       " 0.0,\n",
       " 0.0,\n",
       " 0.0,\n",
       " 0.0,\n",
       " 0.0,\n",
       " 0.0,\n",
       " 0.0,\n",
       " 0.0,\n",
       " 0.0,\n",
       " 0.0,\n",
       " 0.0,\n",
       " -0.3853737,\n",
       " 0.0,\n",
       " 0.0,\n",
       " 0.0,\n",
       " 0.0,\n",
       " 0.0,\n",
       " 0.0,\n",
       " 0.0,\n",
       " 0.0,\n",
       " 0.0,\n",
       " -0.10251015,\n",
       " 4.6604037,\n",
       " -2.7036817,\n",
       " 0.35937592,\n",
       " 3.820149,\n",
       " -1.6484872,\n",
       " -10.671047,\n",
       " -7.5986323,\n",
       " -5.1867476,\n",
       " -12.194551,\n",
       " 8.661657]"
      ]
     },
     "execution_count": 73,
     "metadata": {},
     "output_type": "execute_result"
    }
   ],
   "source": [
    "x_list[0]"
   ]
  },
  {
   "cell_type": "code",
   "execution_count": 22,
   "metadata": {},
   "outputs": [],
   "source": [
    "y_list=list()\n",
    "for ent2 in num_lit:\n",
    "    if ent2[gdp] ==0:\n",
    "        pass\n",
    "    else:\n",
    "        y_list.append(ent2[gdp])"
   ]
  },
  {
   "cell_type": "code",
   "execution_count": 23,
   "metadata": {},
   "outputs": [],
   "source": [
    "for i in range(len(x_list)):\n",
    "    inner_x = x_list[i]\n",
    "    inner_x.append(y_list[i])\n",
    "x_list.append(inner_x)\n"
   ]
  },
  {
   "cell_type": "code",
   "execution_count": 54,
   "metadata": {},
   "outputs": [],
   "source": [
    "select_feature = []\n",
    "for i in range(len(x_list[0])-1):\n",
    "    if x_list[0][i] !=0:\n",
    "        select_feature.append(i)"
   ]
  },
  {
   "cell_type": "code",
   "execution_count": 55,
   "metadata": {
    "collapsed": true
   },
   "outputs": [
    {
     "data": {
      "text/plain": [
       "[0,\n",
       " 2,\n",
       " 12,\n",
       " 13,\n",
       " 14,\n",
       " 15,\n",
       " 16,\n",
       " 17,\n",
       " 18,\n",
       " 19,\n",
       " 65,\n",
       " 75,\n",
       " 76,\n",
       " 77,\n",
       " 78,\n",
       " 79,\n",
       " 80,\n",
       " 81,\n",
       " 82,\n",
       " 83,\n",
       " 84]"
      ]
     },
     "execution_count": 55,
     "metadata": {},
     "output_type": "execute_result"
    }
   ],
   "source": [
    "select_feature"
   ]
  },
  {
   "cell_type": "code",
   "execution_count": 33,
   "metadata": {
    "scrolled": true
   },
   "outputs": [
    {
     "data": {
      "text/html": [
       "<div>\n",
       "<style scoped>\n",
       "    .dataframe tbody tr th:only-of-type {\n",
       "        vertical-align: middle;\n",
       "    }\n",
       "\n",
       "    .dataframe tbody tr th {\n",
       "        vertical-align: top;\n",
       "    }\n",
       "\n",
       "    .dataframe thead th {\n",
       "        text-align: right;\n",
       "    }\n",
       "</style>\n",
       "<table border=\"1\" class=\"dataframe\">\n",
       "  <thead>\n",
       "    <tr style=\"text-align: right;\">\n",
       "      <th></th>\n",
       "      <th>e</th>\n",
       "      <th>a</th>\n",
       "      <th>v</th>\n",
       "      <th>name_e</th>\n",
       "      <th>name_a</th>\n",
       "      <th>ent_type</th>\n",
       "      <th>std_v</th>\n",
       "      <th>minmax_v</th>\n",
       "    </tr>\n",
       "  </thead>\n",
       "  <tbody>\n",
       "    <tr>\n",
       "      <th>156</th>\n",
       "      <td>Q1000</td>\n",
       "      <td>P4010</td>\n",
       "      <td>3.668191e+10</td>\n",
       "      <td>Gabon</td>\n",
       "      <td>GDP (PPP)</td>\n",
       "      <td>Q3624078</td>\n",
       "      <td>-0.225985</td>\n",
       "      <td>0.001880</td>\n",
       "    </tr>\n",
       "    <tr>\n",
       "      <th>414</th>\n",
       "      <td>Q1005</td>\n",
       "      <td>P4010</td>\n",
       "      <td>3.569106e+09</td>\n",
       "      <td>The Gambia</td>\n",
       "      <td>GDP (PPP)</td>\n",
       "      <td>Q6256</td>\n",
       "      <td>-0.241117</td>\n",
       "      <td>0.000181</td>\n",
       "    </tr>\n",
       "    <tr>\n",
       "      <th>461</th>\n",
       "      <td>Q1006</td>\n",
       "      <td>P4010</td>\n",
       "      <td>2.857575e+10</td>\n",
       "      <td>Guinea</td>\n",
       "      <td>GDP (PPP)</td>\n",
       "      <td>Q6256</td>\n",
       "      <td>-0.229690</td>\n",
       "      <td>0.001464</td>\n",
       "    </tr>\n",
       "    <tr>\n",
       "      <th>519</th>\n",
       "      <td>Q1007</td>\n",
       "      <td>P4010</td>\n",
       "      <td>3.171312e+09</td>\n",
       "      <td>Guinea-Bissau</td>\n",
       "      <td>GDP (PPP)</td>\n",
       "      <td>Q6256</td>\n",
       "      <td>-0.241299</td>\n",
       "      <td>0.000160</td>\n",
       "    </tr>\n",
       "    <tr>\n",
       "      <th>588</th>\n",
       "      <td>Q1008</td>\n",
       "      <td>P4010</td>\n",
       "      <td>9.583674e+10</td>\n",
       "      <td>Ivory Coast</td>\n",
       "      <td>GDP (PPP)</td>\n",
       "      <td>Q7270</td>\n",
       "      <td>-0.198953</td>\n",
       "      <td>0.004916</td>\n",
       "    </tr>\n",
       "    <tr>\n",
       "      <th>...</th>\n",
       "      <td>...</td>\n",
       "      <td>...</td>\n",
       "      <td>...</td>\n",
       "      <td>...</td>\n",
       "      <td>...</td>\n",
       "      <td>...</td>\n",
       "      <td>...</td>\n",
       "      <td>...</td>\n",
       "    </tr>\n",
       "    <tr>\n",
       "      <th>121853</th>\n",
       "      <td>Q971</td>\n",
       "      <td>P4010</td>\n",
       "      <td>2.869352e+10</td>\n",
       "      <td>Republic of the Congo</td>\n",
       "      <td>GDP (PPP)</td>\n",
       "      <td>Q6256</td>\n",
       "      <td>-0.229636</td>\n",
       "      <td>0.001470</td>\n",
       "    </tr>\n",
       "    <tr>\n",
       "      <th>122011</th>\n",
       "      <td>Q974</td>\n",
       "      <td>P4010</td>\n",
       "      <td>7.231902e+10</td>\n",
       "      <td>Democratic Republic of the Congo</td>\n",
       "      <td>GDP (PPP)</td>\n",
       "      <td>Q6256</td>\n",
       "      <td>-0.209700</td>\n",
       "      <td>0.003709</td>\n",
       "    </tr>\n",
       "    <tr>\n",
       "      <th>122243</th>\n",
       "      <td>Q977</td>\n",
       "      <td>P4010</td>\n",
       "      <td>2.342711e+09</td>\n",
       "      <td>Djibouti</td>\n",
       "      <td>GDP (PPP)</td>\n",
       "      <td>Q6256</td>\n",
       "      <td>-0.241678</td>\n",
       "      <td>0.000118</td>\n",
       "    </tr>\n",
       "    <tr>\n",
       "      <th>122774</th>\n",
       "      <td>Q983</td>\n",
       "      <td>P4010</td>\n",
       "      <td>3.098132e+10</td>\n",
       "      <td>Equatorial Guinea</td>\n",
       "      <td>GDP (PPP)</td>\n",
       "      <td>Q3624078</td>\n",
       "      <td>-0.228591</td>\n",
       "      <td>0.001588</td>\n",
       "    </tr>\n",
       "    <tr>\n",
       "      <th>123077</th>\n",
       "      <td>Q986</td>\n",
       "      <td>P4010</td>\n",
       "      <td>6.758836e+09</td>\n",
       "      <td>Eritrea</td>\n",
       "      <td>GDP (PPP)</td>\n",
       "      <td>Q7270</td>\n",
       "      <td>-0.239660</td>\n",
       "      <td>0.000345</td>\n",
       "    </tr>\n",
       "  </tbody>\n",
       "</table>\n",
       "<p>156 rows × 8 columns</p>\n",
       "</div>"
      ],
      "text/plain": [
       "            e      a             v                            name_e  \\\n",
       "156     Q1000  P4010  3.668191e+10                             Gabon   \n",
       "414     Q1005  P4010  3.569106e+09                        The Gambia   \n",
       "461     Q1006  P4010  2.857575e+10                            Guinea   \n",
       "519     Q1007  P4010  3.171312e+09                     Guinea-Bissau   \n",
       "588     Q1008  P4010  9.583674e+10                       Ivory Coast   \n",
       "...       ...    ...           ...                               ...   \n",
       "121853   Q971  P4010  2.869352e+10             Republic of the Congo   \n",
       "122011   Q974  P4010  7.231902e+10  Democratic Republic of the Congo   \n",
       "122243   Q977  P4010  2.342711e+09                          Djibouti   \n",
       "122774   Q983  P4010  3.098132e+10                 Equatorial Guinea   \n",
       "123077   Q986  P4010  6.758836e+09                           Eritrea   \n",
       "\n",
       "           name_a  ent_type     std_v  minmax_v  \n",
       "156     GDP (PPP)  Q3624078 -0.225985  0.001880  \n",
       "414     GDP (PPP)     Q6256 -0.241117  0.000181  \n",
       "461     GDP (PPP)     Q6256 -0.229690  0.001464  \n",
       "519     GDP (PPP)     Q6256 -0.241299  0.000160  \n",
       "588     GDP (PPP)     Q7270 -0.198953  0.004916  \n",
       "...           ...       ...       ...       ...  \n",
       "121853  GDP (PPP)     Q6256 -0.229636  0.001470  \n",
       "122011  GDP (PPP)     Q6256 -0.209700  0.003709  \n",
       "122243  GDP (PPP)     Q6256 -0.241678  0.000118  \n",
       "122774  GDP (PPP)  Q3624078 -0.228591  0.001588  \n",
       "123077  GDP (PPP)     Q7270 -0.239660  0.000345  \n",
       "\n",
       "[156 rows x 8 columns]"
      ]
     },
     "execution_count": 33,
     "metadata": {},
     "output_type": "execute_result"
    }
   ],
   "source": [
    "attri_data[attri_data['a']=='P4010']"
   ]
  },
  {
   "cell_type": "code",
   "execution_count": 42,
   "metadata": {},
   "outputs": [],
   "source": [
    "def select_feat(train_data, valid_data, select_all=True):\n",
    "    '''Selects useful features to perform regression'''\n",
    "    y_train, y_valid = train_data[:,-1], valid_data[:,-1]\n",
    "    raw_x_train, raw_x_valid = train_data[:,:-1], valid_data[:,:-1]\n",
    "\n",
    "    if select_all:\n",
    "        feat_idx = list(range(raw_x_train.shape[1]))\n",
    "    else:\n",
    "        feat_idx = select_feature # TODO: Select suitable feature columns.\n",
    "        \n",
    "    return raw_x_train[:,feat_idx], raw_x_valid[:,feat_idx], y_train, y_valid"
   ]
  },
  {
   "cell_type": "code",
   "execution_count": 43,
   "metadata": {},
   "outputs": [],
   "source": [
    "class KGMTL_Data(Dataset):\n",
    "    '''\n",
    "    x: Features.\n",
    "    y: Targets, if none, do prediction.\n",
    "    '''\n",
    "    def __init__(self, x, y=None):\n",
    "        if y is None:\n",
    "            self.y = y\n",
    "        else:\n",
    "            self.y = torch.FloatTensor(y)\n",
    "        self.x = torch.FloatTensor(x)\n",
    "        \n",
    "\n",
    "    def __getitem__(self, idx):\n",
    "        if self.y is None:\n",
    "            return self.x[idx]\n",
    "        else:\n",
    "            return self.x[idx], self.y[idx]\n",
    "\n",
    "    def __len__(self):\n",
    "        return len(self.x)\n",
    "\n",
    "\n",
    "    "
   ]
  },
  {
   "cell_type": "code",
   "execution_count": 74,
   "metadata": {},
   "outputs": [
    {
     "name": "stdout",
     "output_type": "stream",
     "text": [
      "train_data size: (141, 86) \n",
      "valid_data size: (15, 86) \n",
      "number of features: 21\n",
      "train_dataset (tensor([ 0.1144, -0.0069,  0.6703, -0.1330,  0.6834,  0.0256,  0.4453,  2.2679,\n",
      "         0.6065, -0.5695,  0.5956, -0.8998, -2.0334, -2.2693, -2.2668, -2.2481,\n",
      "         0.7553,  2.2824,  2.5167,  2.4367,  2.3661]), tensor(-0.1065))\n"
     ]
    }
   ],
   "source": [
    "# Set seed for reproducibility\n",
    "same_seed(config['seed'])\n",
    "\n",
    "\n",
    "# train_data size: 2699 x 118 (id + 37 states + 16 features x 5 days) \n",
    "# test_data size: 1078 x 117 (without last day's positive rate)\n",
    "# train_data, test_data = pd.read_csv('../LiterallyWikidata/files_needed/train_attri_data.csv',sep='\\t').values, \n",
    "# pd.read_csv('../LiterallyWikidata/files_needed/test_attri_data.csv',sep='\\t').values\n",
    "train_data, valid_data = train_valid_split(x_list, config['valid_ratio'], config['seed'])\n",
    "\n",
    "# Print out the data size.\n",
    "print(f\"\"\"train_data size: {train_data.shape} \n",
    "valid_data size: {valid_data.shape} \"\"\")\n",
    "# test_data size: {test_data.shape}\"\"\")\n",
    "\n",
    "\n",
    "# Select features\n",
    "x_train, x_valid, y_train, y_valid = select_feat(train_data, valid_data, config['select_all'])\n",
    "\n",
    "# Print out the number of features.\n",
    "print(f'number of features: {x_train.shape[1]}')\n",
    "\n",
    "train_dataset, valid_dataset = KGMTL_Data(x_train, y_train), \\\n",
    "                                            KGMTL_Data(x_valid, y_valid)\n",
    "\n",
    "print('train_dataset', train_dataset[0])\n",
    "\n",
    "# Pytorch data loader loads pytorch dataset into batches.\n",
    "train_loader = DataLoader(train_dataset, batch_size=config['batch_size'], shuffle=True, pin_memory=True)\n",
    "valid_loader = DataLoader(valid_dataset, batch_size=config['batch_size'], shuffle=False, pin_memory=True)\n",
    "# test_loader = DataLoader(test_dataset, batch_size=config['batch_size'], shuffle=False, pin_memory=True)"
   ]
  },
  {
   "cell_type": "code",
   "execution_count": 57,
   "metadata": {},
   "outputs": [
    {
     "data": {
      "text/plain": [
       "(tensor([ 1.5015e+00, -6.8378e-03, -1.1856e+00, -1.5706e-01, -5.6475e-01,\n",
       "          9.5041e-01, -5.5587e-01, -6.9429e-01,  6.0650e-01,  1.0090e+00,\n",
       "          4.6787e-01, -3.0733e+00, -6.0224e+00, -7.6364e+00, -6.3457e+00,\n",
       "         -7.0670e+00,  5.9746e-01,  1.5089e+00,  1.9251e+00,  1.9837e+00,\n",
       "          1.5109e+00]),\n",
       " tensor(1.6363e+11))"
      ]
     },
     "execution_count": 57,
     "metadata": {},
     "output_type": "execute_result"
    }
   ],
   "source": [
    "train_dataset[5]"
   ]
  },
  {
   "cell_type": "code",
   "execution_count": 75,
   "metadata": {
    "id": "49-uXYovOAI0"
   },
   "outputs": [],
   "source": [
    "class NeuralNet(nn.Module):\n",
    "    ''' A simple fully-connected deep neural network '''\n",
    "    def __init__(self, input_dim):\n",
    "        super(NeuralNet, self).__init__()\n",
    "\n",
    "        self.layers = nn.Sequential(\n",
    "            nn.Linear(input_dim, 21),\n",
    "            nn.Linear(21, 1)\n",
    "        )\n",
    "\n",
    "        # Mean squared error loss\n",
    "        self.criterion = nn.MSELoss(reduction='mean')\n",
    "\n",
    "    def forward(self, x):\n",
    "        ''' Given input of size (batch_size x input_dim), compute output of the network '''\n",
    "        x = self.layers(x)\n",
    "        x = x.squeeze(1)\n",
    "        return x\n",
    "\n",
    "    def cal_loss(self, pred, target):\n",
    "        ''' Calculate loss '''\n",
    "        # TODO: you may implement L1/L2 regularization here\n",
    "        return self.criterion(pred, target)"
   ]
  },
  {
   "cell_type": "markdown",
   "metadata": {
    "id": "39U_XFX6KOoj"
   },
   "source": [
    "# **Preprocess**\n",
    "\n",
    "We have three kinds of datasets:\n",
    "* `train`: for training\n",
    "* `dev`: for validation\n",
    "* `test`: for testing (w/o target value)"
   ]
  },
  {
   "cell_type": "code",
   "execution_count": 19,
   "metadata": {},
   "outputs": [
    {
     "data": {
      "text/plain": [
       "array([0.0000000e+00, 6.2448000e+04, 3.2514595e+08, ..., 0.0000000e+00,\n",
       "       9.0200000e+02, 2.5440000e+03], dtype=float32)"
      ]
     },
     "execution_count": 19,
     "metadata": {},
     "output_type": "execute_result"
    }
   ],
   "source": [
    "num_lit[:,0]"
   ]
  },
  {
   "cell_type": "code",
   "execution_count": 89,
   "metadata": {
    "id": "lOqcmYzMO7jB"
   },
   "outputs": [],
   "source": [
    "def trainer(train_loader, valid_loader, model, config, device):\n",
    "\n",
    "    criterion = nn.MSELoss(reduction='mean') # Define your loss function, do not modify this.\n",
    "\n",
    "    # Define your optimization algorithm. \n",
    "    # TODO: Please check https://pytorch.org/docs/stable/optim.html to get more available algorithms.\n",
    "    # TODO: L2 regularization (optimizer(weight decay...) or implement by your self).\n",
    "    optimizer = torch.optim.SGD(model.parameters(), lr=config['learning_rate'], momentum=0.9, weight_decay=1e-6) \n",
    "\n",
    "    n_epochs, best_loss, step, early_stop_count = config['n_epochs'], math.inf, 0, 0\n",
    "\n",
    "    writer = SummaryWriter() # Writer of tensoboard\n",
    "    if not os.path.isdir('./models_var'):\n",
    "        os.mkdir('./models_var') # Create directory of saving models.\n",
    "    \n",
    "    for epoch in range(n_epochs):\n",
    "        model.train() # Set your model to train mode.\n",
    "        loss_record = []\n",
    "\n",
    "        # tqdm is a package to visualize your training progress.\n",
    "        train_pbar = tqdm(train_loader, position=0, leave=True)\n",
    "\n",
    "        for x, y in train_pbar:\n",
    "            optimizer.zero_grad()               # Set gradient to zero.\n",
    "            \n",
    "            x, y = x.to(device), y.to(device)   # Move your data to device. \n",
    "            pred = model(x)   \n",
    "            print(f'-------predict: {pred}, y: {y}----------') \n",
    "            #x_constraint = torch.tensor([ (y[i] - x[i][0]*x[i][18]) ** 2 for i in range(len(x))])\n",
    "            x_constraint = torch.tensor([x[i][pop_idx]*x[i][gdp_per] for i in range(len(x))])\n",
    "            x_constraint = x_constraint.to(device)          \n",
    "            loss = criterion(pred, y) + criterion(pred, x_constraint)\n",
    "            #loss = criterion(pred, y) \n",
    "            # criterion(pred,x_constraint)\n",
    "                # ((pred-x[0]*x[18])**2) \n",
    "\n",
    "            loss.backward()                     # Compute gradient(backpropagation).\n",
    "            optimizer.step()                    # Update parameters.\n",
    "            step += 1\n",
    "            loss_record.append(loss.detach().item())\n",
    "            \n",
    "            # Display current epoch number and loss on tqdm progress bar.\n",
    "            train_pbar.set_description(f'Epoch [{epoch+1}/{n_epochs}]')\n",
    "            train_pbar.set_postfix({'loss': loss.detach().item()})\n",
    "\n",
    "        mean_train_loss = sum(loss_record)/len(loss_record)\n",
    "        writer.add_scalar('Loss/train', mean_train_loss, step)\n",
    "\n",
    "        model.eval() # Set your model to evaluation mode.\n",
    "        loss_record = []\n",
    "        for x, y in valid_loader:\n",
    "            x, y = x.to(device), y.to(device)\n",
    "            with torch.no_grad():\n",
    "                pred = model(x)\n",
    "                # print(f'x: {x}')\n",
    "                loss = criterion(pred, y)\n",
    "\n",
    "            loss_record.append(loss.item())\n",
    "            \n",
    "        mean_valid_loss = sum(loss_record)/len(loss_record)\n",
    "        print(f'Epoch [{epoch+1}/{n_epochs}]: Train loss: {mean_train_loss:.4f}, Valid loss: {mean_valid_loss:.4f}')\n",
    "        writer.add_scalar('Loss/valid', mean_valid_loss, step)\n",
    "\n",
    "        if mean_valid_loss < best_loss:\n",
    "            best_loss = mean_valid_loss\n",
    "            torch.save(model.state_dict(), config['save_path']) # Save your best model\n",
    "            print('Saving model with loss {:.3f}...'.format(best_loss))\n",
    "            early_stop_count = 0\n",
    "        else: \n",
    "            early_stop_count += 1\n",
    "\n",
    "        if early_stop_count >= config['early_stop']:\n",
    "            print('\\nModel is not improving, so we halt the training session.')\n",
    "            return"
   ]
  },
  {
   "cell_type": "markdown",
   "metadata": {
    "id": "0hSd4Bn3O2PL"
   },
   "source": [
    "## **Validation**"
   ]
  },
  {
   "cell_type": "code",
   "execution_count": 26,
   "metadata": {
    "id": "yrxrD3YsN3U2"
   },
   "outputs": [],
   "source": [
    "def dev(dv_set, model, device):\n",
    "    model.eval()                                # set model to evalutation mode\n",
    "    total_loss = 0\n",
    "    for x, y in dv_set:                         # iterate through the dataloader\n",
    "        x, y = x.to(device), y.to(device)       # move data to device (cpu/cuda)\n",
    "        with torch.no_grad():                   # disable gradient calculation\n",
    "            pred = model(x)# forward pass (compute output)\n",
    "            #print(pred)\n",
    "            mse_loss = model.cal_loss(pred, y)  # compute loss\n",
    "            print(mse_loss)\n",
    "        total_loss += mse_loss.detach().cpu().item() * len(x)  # accumulate loss\n",
    "    total_loss = total_loss / len(dv_set.dataset)              # compute averaged loss\n",
    "\n",
    "    return total_loss"
   ]
  },
  {
   "cell_type": "markdown",
   "metadata": {
    "id": "g0pdrhQAO41L"
   },
   "source": [
    "## **Testing**"
   ]
  },
  {
   "cell_type": "code",
   "execution_count": 25,
   "metadata": {
    "id": "aSBMRFlYN5tB"
   },
   "outputs": [],
   "source": [
    "def test(tt_set, model, device):\n",
    "    model.eval()                                # set model to evalutation mode\n",
    "    preds = []\n",
    "    for x in tt_set:                            # iterate through the dataloader\n",
    "        x = x.to(device)                        # move data to device (cpu/cuda)\n",
    "        with torch.no_grad():                   # disable gradient calculation\n",
    "            pred = model(x)                     # forward pass (compute output)\n",
    "            preds.append(pred.detach().cpu())   # collect prediction\n",
    "    preds = torch.cat(preds, dim=0).numpy()     # concatenate all predictions and convert to a numpy array\n",
    "    return preds"
   ]
  },
  {
   "cell_type": "code",
   "execution_count": 79,
   "metadata": {
    "id": "NPXpdumwPjE7"
   },
   "outputs": [],
   "source": [
    "device = get_device()                 # get the current available device ('cpu' or 'cuda')\n",
    "#os.makedirs('models', exist_ok=True)  # The trained model will be saved to ./models/\n",
    "\n",
    "# TODO: How to tune these hyper-parameters to improve your model's performance?\n",
    "config = {\n",
    "    'seed': 802,      # Your seed number, you can pick your lucky number. :)\n",
    "    'select_all': False,   # Whether to use all features.\n",
    "    'n_epochs': 50,                # maximum number of epochs\n",
    "    'batch_size': 16,               # mini-batch size for dataloader\n",
    "    'learning_rate':1e-3,\n",
    "    'early_stop': 200,               # early stopping epochs (the number epochs since your model's last improvement)\n",
    "    'save_path': './models_var/model_gdp.pt' , # your model will be saved here\n",
    "    'valid_ratio': 0.1,   # validation_size = train_size * valid_ratio\n",
    "}\n"
   ]
  },
  {
   "cell_type": "markdown",
   "metadata": {
    "id": "6j1eOV3TOH-j"
   },
   "source": [
    "# **Load data and model**"
   ]
  },
  {
   "cell_type": "code",
   "execution_count": 77,
   "metadata": {
    "id": "FHylSirLP9oh"
   },
   "outputs": [
    {
     "name": "stdout",
     "output_type": "stream",
     "text": [
      "NeuralNet(\n",
      "  (layers): Sequential(\n",
      "    (0): Linear(in_features=21, out_features=21, bias=True)\n",
      "    (1): Linear(in_features=21, out_features=1, bias=True)\n",
      "  )\n",
      "  (criterion): MSELoss()\n",
      ")\n"
     ]
    }
   ],
   "source": [
    "model = NeuralNet(input_dim=x_train.shape[1]).to(device)  # Construct model and move to device\n",
    "print(model)"
   ]
  },
  {
   "cell_type": "markdown",
   "metadata": {
    "id": "sX2B_zgSOPTJ"
   },
   "source": [
    "# **Start Training!**"
   ]
  },
  {
   "cell_type": "code",
   "execution_count": 80,
   "metadata": {
    "colab": {
     "base_uri": "https://localhost:8080/"
    },
    "id": "GrEbUxazQAAZ",
    "outputId": "f4f3bd74-2d97-4275-b69f-6609976b91f9",
    "scrolled": true
   },
   "outputs": [
    {
     "name": "stderr",
     "output_type": "stream",
     "text": [
      "Epoch [1/50]: 100%|███████████████████████████████████████████████████████████| 9/9 [00:00<00:00, 91.20it/s, loss=0.0585]\n"
     ]
    },
    {
     "name": "stdout",
     "output_type": "stream",
     "text": [
      "-------predict: tensor([-0.2327, -0.1981, -0.2078, -0.1650, -0.1732,  1.2533, -1.4899, -0.0776,\n",
      "        -0.1578,  0.0718,  0.1080, -0.1879,  0.0512, -0.2842, -0.2741, -0.2617],\n",
      "       device='cuda:0', grad_fn=<SqueezeBackward1>), y: tensor([-0.2297, -0.2217, -0.1065, -0.2112, -0.2021,  6.7906, -0.2388, -0.2264,\n",
      "        -0.2400, -0.2229,  0.0460, -0.2375,  0.5884, -0.2423, -0.2424, -0.2417],\n",
      "       device='cuda:0')----------\n",
      "-------predict: tensor([ 0.1508,  0.3071,  0.0611,  0.1954, -0.1679, -0.2781, -0.9161, -0.1068,\n",
      "        -2.2827,  0.1972,  2.5341, -0.3767,  0.5809, -0.1598, -0.1801, -0.4350],\n",
      "       device='cuda:0', grad_fn=<SqueezeBackward1>), y: tensor([-1.5173e-01,  5.7982e-03, -1.6797e-01, -2.3327e-01, -1.9977e-01,\n",
      "        -2.3402e-01, -2.4260e-01, -2.3112e-01, -2.4263e-01, -9.2797e-02,\n",
      "         8.6617e+00,  2.7475e-01, -1.5453e-01,  1.4033e-02, -2.4112e-01,\n",
      "        -1.0634e-01], device='cuda:0')----------\n",
      "-------predict: tensor([ 0.0620,  0.7989, -0.0406, -0.1372, -0.0136, -0.3665, -0.1062,  0.1189,\n",
      "        -0.5395, -0.2265, -0.0328, -0.0986,  0.3050, -0.1975,  0.1500, -0.1052],\n",
      "       device='cuda:0', grad_fn=<SqueezeBackward1>), y: tensor([-0.2412,  2.1945, -0.1409, -0.2249, -0.2297, -0.2393, -0.2426, -0.2308,\n",
      "        -0.2427, -0.2337, -0.1834, -0.2398,  1.7431, -0.2373, -0.2416, -0.2413],\n",
      "       device='cuda:0')----------\n",
      "-------predict: tensor([-0.2177, -0.2862,  6.0503, -0.1350, -0.1334, -0.3751,  0.0865, -0.2399,\n",
      "         0.0245,  0.0331, -0.2501,  0.2616, -0.4225,  0.2817,  0.1094, -0.3213],\n",
      "       device='cuda:0', grad_fn=<SqueezeBackward1>), y: tensor([-0.2244, -0.2102,  4.1428, -0.2286, -0.1642, -0.2385, -0.2286, -0.2258,\n",
      "        -0.2107, -0.1990, -0.2335, -0.2408, -0.1139, -0.2216,  0.5685, -0.2134],\n",
      "       device='cuda:0')----------\n",
      "-------predict: tensor([-0.4025, -0.0198,  0.0474, -0.0472,  1.0525,  0.0109, -0.2640, -0.5915,\n",
      "        -0.3812,  0.0895,  0.3163,  0.1194,  0.0118, -0.4691, -0.3691, -0.0217],\n",
      "       device='cuda:0', grad_fn=<SqueezeBackward1>), y: tensor([-0.2273, -0.2417, -0.0739, -0.2391,  1.2423, -0.2425, -0.1953, -0.2418,\n",
      "        -0.2207, -0.2388, -0.2336, -0.2099, -0.1968, -0.2194, -0.0014, -0.2420],\n",
      "       device='cuda:0')----------\n",
      "-------predict: tensor([-1.7758, -1.1799,  0.2234, -0.0598,  0.1041, -0.3891,  0.0391,  0.1009,\n",
      "         0.2271,  0.2730, -0.0650, -0.2729,  0.2857, -0.0664, -0.6050, -0.3366],\n",
      "       device='cuda:0', grad_fn=<SqueezeBackward1>), y: tensor([-0.2421, -0.2415, -0.2403, -0.2325, -0.2070, -0.2412, -0.0244, -0.2261,\n",
      "        -0.2045, -0.1833, -0.2260, -0.2246, -0.2044, -0.2326, -0.2269, -0.2394],\n",
      "       device='cuda:0')----------\n",
      "-------predict: tensor([-0.2394, -0.2268,  0.4300, -0.2418, -0.5791, -0.1955, -0.1576, -0.0350,\n",
      "         0.6972,  0.0073, -0.0837, -0.1655,  0.2142, -0.2143, -0.0824, -0.8766],\n",
      "       device='cuda:0', grad_fn=<SqueezeBackward1>), y: tensor([-0.2246, -0.1750, -0.0386, -0.2368, -0.0876,  0.0753, -0.2062, -0.2422,\n",
      "         0.2559, -0.1637, -0.2410, -0.0042, -0.2240, -0.2420,  0.0535,  0.1581],\n",
      "       device='cuda:0')----------\n",
      "-------predict: tensor([-0.0171, -0.1570,  0.1668, -0.2702, -0.5502,  0.3831, -0.2554, -1.4606,\n",
      "        -0.2774, -0.3383,  0.1512, -0.2899, -0.3064,  0.1375, -0.4797, -0.2821],\n",
      "       device='cuda:0', grad_fn=<SqueezeBackward1>), y: tensor([-0.2245, -0.1932, -0.1521, -0.1552, -0.2397,  1.1126, -0.2024, -0.2426,\n",
      "        -0.2298, -0.2417, -0.1854, -0.2066, -0.2422, -0.2258, -0.2413, -0.2398],\n",
      "       device='cuda:0')----------\n",
      "-------predict: tensor([-0.3711, -0.1168,  0.0240, -0.0710,  0.2861, -0.0370,  0.0457, -0.2485,\n",
      "        -0.2374, -0.1427,  0.1025,  0.3354, -0.1752], device='cuda:0',\n",
      "       grad_fn=<SqueezeBackward1>), y: tensor([-0.2313, -0.1678, -0.0344, -0.2327, -0.1515, -0.0922, -0.2134, -0.2282,\n",
      "        -0.2296, -0.2177, -0.2348, -0.2372, -0.1798], device='cuda:0')----------\n",
      "Epoch [1/50]: Train loss: 0.6750, Valid loss: 0.4941\n",
      "Saving model with loss 0.494...\n"
     ]
    },
    {
     "name": "stderr",
     "output_type": "stream",
     "text": [
      "Epoch [2/50]: 100%|████████████████████████████████████████████████████████████| 9/9 [00:00<00:00, 104.92it/s, loss=1.15]\n"
     ]
    },
    {
     "name": "stdout",
     "output_type": "stream",
     "text": [
      "-------predict: tensor([-0.1476,  0.1343,  0.1591, -0.0868, -0.1948, -0.3595, -0.0384, -0.1426,\n",
      "        -0.2701,  0.0313, -0.2345, -0.0672, -0.2365, -0.4181, -0.1753, -0.2417],\n",
      "       device='cuda:0', grad_fn=<SqueezeBackward1>), y: tensor([-0.1998, -0.2308, -0.2336, -0.2327, -0.2260, -0.1139, -0.1968, -0.2246,\n",
      "        -0.2066, -0.2416, -0.2337, -0.2326, -0.2246, -0.2398, -0.2177, -0.2335],\n",
      "       device='cuda:0')----------\n",
      "-------predict: tensor([ 0.0194, -0.1646,  0.1213, -0.3015, -0.2862, -0.3274, -0.0319, -0.1301,\n",
      "         0.0492,  1.8653, -0.4516, -0.6239,  0.0713, -0.4772, -0.2487, -0.0493],\n",
      "       device='cuda:0', grad_fn=<SqueezeBackward1>), y: tensor([-0.2348, -0.2261, -0.2412, -0.2112,  0.2747, -0.2244, -0.0922, -0.2045,\n",
      "        -0.0344,  6.7906, -0.2425, -0.2427, -0.2134, -0.2373, -0.2340, -0.2258],\n",
      "       device='cuda:0')----------\n",
      "-------predict: tensor([-0.1093, -0.0618,  0.0099, -0.2971,  0.9524, -0.2090,  3.6092, -0.2610,\n",
      "        -0.1872, -0.5036, -0.1397, -0.6367,  0.1605, -0.1371, -0.2318, -0.3932],\n",
      "       device='cuda:0', grad_fn=<SqueezeBackward1>), y: tensor([-0.2286, -0.1521, -0.2388, -0.2391,  2.1945, -0.2021,  8.6617, -0.2297,\n",
      "        -0.2217, -0.2418, -0.2286, -0.2423,  0.0460,  0.0753, -0.2282, -0.2207],\n",
      "       device='cuda:0')----------\n",
      "-------predict: tensor([-0.1045,  0.7573, -0.1870, -0.6316, -0.4925, -0.5059, -0.1594, -0.5646,\n",
      "        -0.5277, -0.4183,  0.1739,  0.2560, -0.2024, -0.0510, -1.3090, -0.5899],\n",
      "       device='cuda:0', grad_fn=<SqueezeBackward1>), y: tensor([-0.1680,  0.2559, -0.1750, -0.2385, -0.2393, -0.2417, -0.1678, -0.2422,\n",
      "        -0.2269, -0.2273, -0.0244,  0.5884, -0.2417, -0.0386, -0.2426, -0.2194],\n",
      "       device='cuda:0')----------\n",
      "-------predict: tensor([-0.2158,  0.3386, -0.3929, -0.2363, -0.4393,  0.5532, -0.2148, -0.2291,\n",
      "        -0.4585,  0.2417, -0.3518, -0.1630,  0.0874, -1.6342,  0.1211,  0.2314],\n",
      "       device='cuda:0', grad_fn=<SqueezeBackward1>), y: tensor([-0.2420,  0.0058, -0.2249, -0.1552, -0.2313,  1.1126, -0.2311, -0.2062,\n",
      "        -0.0876, -0.2372, -0.0014, -0.2264, -0.2333, -0.2388, -0.1854, -0.1515],\n",
      "       device='cuda:0')----------\n",
      "-------predict: tensor([ 1.1982, -0.2070, -0.1689, -0.2260, -0.0997, -0.3442, -0.6681, -0.1052,\n",
      "         0.0055, -1.1162,  0.2966, -1.6346,  0.0546, -0.4738, -0.1796, -0.0185],\n",
      "       device='cuda:0', grad_fn=<SqueezeBackward1>), y: tensor([ 1.2423, -0.2400, -0.1990, -0.2298, -0.1642, -0.2368,  0.1581, -0.1932,\n",
      "        -0.2229, -0.2426, -0.2408, -0.2421, -0.2240, -0.2422, -0.2398, -0.2107],\n",
      "       device='cuda:0')----------\n",
      "-------predict: tensor([-0.2236,  0.1393, -0.2051, -0.2816,  0.0520, -0.0428,  0.1370, -0.0234,\n",
      "         0.0444, -0.0791, -0.1434, -0.1271, -0.0178,  0.2556, -0.1364, -0.6224],\n",
      "       device='cuda:0', grad_fn=<SqueezeBackward1>), y: tensor([-0.2411, -0.0739, -0.2410, -0.2394, -0.2044, -0.2245, -0.1517, -0.1409,\n",
      "        -0.2403, -0.0042, -0.2070, -0.2297,  0.0535,  0.5685, -0.1065, -0.2397],\n",
      "       device='cuda:0')----------\n",
      "-------predict: tensor([ 0.0221, -0.0608,  0.0969, -0.1582,  0.3347, -0.0929, -0.1863, -0.2322,\n",
      "        -0.3428, -0.2776, -0.1500, -0.2877, -0.1716,  0.3394, -1.8147,  0.4447],\n",
      "       device='cuda:0', grad_fn=<SqueezeBackward1>), y: tensor([ 0.0140, -0.1834, -0.2216, -0.2424, -0.1833, -0.2426, -0.2102, -0.2413,\n",
      "        -0.2417, -0.2420, -0.1798, -0.2134, -0.2024, -0.1545, -0.2426, -0.0928],\n",
      "       device='cuda:0')----------\n",
      "-------predict: tensor([-0.6110, -0.2467,  0.7367,  0.3206, -0.0355, -0.3984, -0.2215, -0.9992,\n",
      "        -0.1908,  7.7111, -0.0969, -0.5554, -0.2706], device='cuda:0',\n",
      "       grad_fn=<SqueezeBackward1>), y: tensor([-0.2413, -0.1063,  1.7431, -0.2099, -0.2325, -0.2375, -0.1953, -0.2415,\n",
      "        -0.2258,  4.1428, -0.1637, -0.2412, -0.2296], device='cuda:0')----------\n",
      "Epoch [2/50]: Train loss: 0.5904, Valid loss: 0.4335\n",
      "Saving model with loss 0.433...\n"
     ]
    },
    {
     "name": "stderr",
     "output_type": "stream",
     "text": [
      "Epoch [3/50]:   0%|                                                                                | 0/9 [00:00<?, ?it/s]"
     ]
    },
    {
     "name": "stdout",
     "output_type": "stream",
     "text": [
      "-------predict: tensor([-0.2569,  0.0985,  0.0260, -0.1885,  0.3889,  0.2315,  0.4151, -0.3435,\n",
      "        -0.1735,  0.0170, -0.2663, -0.1471,  0.8739, -1.2234,  0.3175, -1.6422],\n",
      "       device='cuda:0', grad_fn=<SqueezeBackward1>), y: tensor([-0.2296, -0.2240,  0.0140, -0.2373,  0.0058, -0.1521, -0.1515, -0.2368,\n",
      "        -0.2298, -0.0014, -0.2420, -0.1798,  0.2559, -0.2388, -0.1545, -0.2426],\n",
      "       device='cuda:0')----------\n"
     ]
    },
    {
     "name": "stderr",
     "output_type": "stream",
     "text": [
      "Epoch [3/50]: 100%|███████████████████████████████████████████████████████████| 9/9 [00:00<00:00, 103.71it/s, loss=0.112]\n"
     ]
    },
    {
     "name": "stdout",
     "output_type": "stream",
     "text": [
      "-------predict: tensor([-0.2630,  1.4117, -0.2936, -0.2021,  0.0338,  0.0822, -0.0406, -0.0485,\n",
      "        -0.0936,  0.0944, -0.2047, -0.1827,  0.3302,  0.1025, -0.2230, -0.2335],\n",
      "       device='cuda:0', grad_fn=<SqueezeBackward1>), y: tensor([-0.2385,  1.2423, -0.2112, -0.2062, -0.2229, -0.2045, -0.2273, -0.1642,\n",
      "        -0.2398, -0.2308, -0.2398, -0.2246,  0.5685, -0.0739, -0.2337, -0.1063],\n",
      "       device='cuda:0')----------\n",
      "-------predict: tensor([-0.2106, -0.1565,  0.0316, -0.2675, -0.0396, -0.3193, -0.0095, -0.2778,\n",
      "        -1.1295, -0.2602,  0.1727, -0.1972, -0.1726, -0.2244, -0.0523, -0.0903],\n",
      "       device='cuda:0', grad_fn=<SqueezeBackward1>), y: tensor([-0.2282, -0.2024, -0.2348, -0.2423, -0.1834, -0.2417, -0.2107, -0.1139,\n",
      "        -0.2421, -0.2297, -0.1854, -0.2258, -0.2327, -0.1953, -0.1409,  0.2747],\n",
      "       device='cuda:0')----------\n",
      "-------predict: tensor([-0.1074, -0.0949, -0.0937, -0.2164, -0.1518,  0.3371, -0.5173, -0.1078,\n",
      "        -0.3889, -0.5574, -0.3017,  0.1060, -0.1153, -0.0928, -0.0599, -0.0480],\n",
      "       device='cuda:0', grad_fn=<SqueezeBackward1>), y: tensor([-0.2416, -0.0042, -0.2417, -0.2417, -0.2340,  0.5884, -0.2425, -0.2424,\n",
      "        -0.2313, -0.2422, -0.2177, -0.2333, -0.2297, -0.1637, -0.2326, -0.2260],\n",
      "       device='cuda:0')----------\n",
      "-------predict: tensor([ 0.1283, -0.0778,  0.2769,  0.0527, -0.0403,  0.2242, -0.4542, -0.1265,\n",
      "        -0.1259,  0.1548, -0.2594, -0.4234, -0.1994,  3.9584,  0.0422,  0.0806],\n",
      "       device='cuda:0', grad_fn=<SqueezeBackward1>), y: tensor([-0.2258, -0.2325, -0.2372, -0.2388, -0.2249, -0.2412, -0.2194, -0.1552,\n",
      "        -0.1990, -0.0244, -0.2261, -0.2422, -0.2269,  8.6617, -0.2336, -0.2070],\n",
      "       device='cuda:0')----------\n",
      "-------predict: tensor([-1.3739e-01, -4.6664e-02,  1.5380e-01, -4.2695e-03,  3.0537e-01,\n",
      "        -5.9714e-01, -1.8103e-01, -4.6202e-01, -4.5675e-02,  5.6013e+00,\n",
      "         6.9386e-01,  1.7892e-01, -3.0287e-01,  5.8723e-02, -2.3439e-01,\n",
      "        -6.6337e-01], device='cuda:0', grad_fn=<SqueezeBackward1>), y: tensor([-0.0876, -0.0922, -0.2216, -0.2245, -0.2408, -0.2397, -0.1750, -0.2413,\n",
      "        -0.1968,  4.1428,  1.7431, -0.2044, -0.2418, -0.2286, -0.2413, -0.2426],\n",
      "       device='cuda:0')----------\n",
      "-------predict: tensor([ 0.2542,  0.1661, -0.6516, -0.2934,  1.0572,  0.4015, -0.5254, -0.1861,\n",
      "         0.2393, -0.1959,  0.0300, -0.4244, -0.8744,  2.2320, -0.2854, -0.4850],\n",
      "       device='cuda:0', grad_fn=<SqueezeBackward1>), y: tensor([-0.0344, -0.2403, -0.2412, -0.2394,  2.1945, -0.2099, -0.2393, -0.2311,\n",
      "        -0.2134, -0.2021,  0.0753, -0.2375, -0.2426,  6.7906, -0.2335, -0.2134],\n",
      "       device='cuda:0')----------\n",
      "-------predict: tensor([-0.1923, -0.3668, -0.1504, -0.2523, -0.4609, -0.1016, -0.2094, -0.5042,\n",
      "        -0.2515, -0.2050, -0.3016, -0.0577, -0.0370, -0.2117,  0.1775, -0.1100],\n",
      "       device='cuda:0', grad_fn=<SqueezeBackward1>), y: tensor([-0.1678, -0.2066,  0.0535, -0.2246,  0.1581, -0.2426, -0.2102, -0.2207,\n",
      "        -0.2411, -0.2400, -0.2391, -0.1517, -0.2420, -0.2264,  0.0460, -0.1998],\n",
      "       device='cuda:0')----------\n",
      "-------predict: tensor([-0.0499, -0.2075, -0.1281,  0.3574,  0.6648, -0.4141, -0.8408, -0.1005,\n",
      "        -0.1771, -0.3474,  0.5138,  0.3502, -0.1778], device='cuda:0',\n",
      "       grad_fn=<SqueezeBackward1>), y: tensor([-0.2286, -0.2217, -0.1065, -0.0386,  1.1126, -0.2427, -0.2415, -0.1932,\n",
      "        -0.1680, -0.2244, -0.0928, -0.1833, -0.2410], device='cuda:0')----------\n",
      "Epoch [3/50]: Train loss: 0.4173, Valid loss: 0.2548\n",
      "Saving model with loss 0.255...\n"
     ]
    },
    {
     "name": "stderr",
     "output_type": "stream",
     "text": [
      "Epoch [4/50]:   0%|                                                                    | 0/9 [00:00<?, ?it/s, loss=0.102]"
     ]
    },
    {
     "name": "stdout",
     "output_type": "stream",
     "text": [
      "-------predict: tensor([-0.1766, -0.2861, -0.1909,  0.4142, -0.1128, -0.2740, -0.0909, -0.0746,\n",
      "        -0.8966, -0.1962,  0.2134, -0.9508, -0.2434,  0.3043, -0.2755, -0.4978],\n",
      "       device='cuda:0', grad_fn=<SqueezeBackward1>), y: tensor([ 0.0535, -0.2411, -0.2420,  0.0058, -0.2240, -0.2246, -0.0876, -0.1521,\n",
      "        -0.2426, -0.2258,  0.5685, -0.2426, -0.2297, -0.2134, -0.2298, -0.2417],\n",
      "       device='cuda:0')----------\n"
     ]
    },
    {
     "name": "stderr",
     "output_type": "stream",
     "text": [
      "Epoch [4/50]: 100%|██████████████████████████████████████████████████████████| 9/9 [00:00<00:00, 102.68it/s, loss=0.0679]\n"
     ]
    },
    {
     "name": "stdout",
     "output_type": "stream",
     "text": [
      "-------predict: tensor([ 2.3260,  4.4656, -0.2613, -0.3969, -0.4611, -0.2681,  0.0751, -0.4240,\n",
      "         0.3178, -0.2334, -0.1569, -0.3664, -0.2825,  0.3095, -0.1488,  0.0278],\n",
      "       device='cuda:0', grad_fn=<SqueezeBackward1>), y: tensor([ 6.7906e+00,  8.6617e+00, -2.3112e-01, -2.4266e-01, -2.3734e-01,\n",
      "        -2.2611e-01, -2.2295e-01, -2.1770e-01, -2.4085e-01, -2.0208e-01,\n",
      "        -1.7985e-01, -2.3250e-01, -2.1066e-01, -2.4119e-01, -1.4000e-03,\n",
      "        -2.0449e-01], device='cuda:0')----------\n",
      "-------predict: tensor([ 0.9748,  0.6412, -0.7546,  0.4829, -0.2709, -0.1148,  0.1348, -0.0538,\n",
      "         0.0253, -0.0574, -0.2422,  0.4367, -0.2554, -0.3726, -0.0661, -0.2503],\n",
      "       device='cuda:0', grad_fn=<SqueezeBackward1>), y: tensor([ 2.1945,  1.2423, -0.2412, -0.2372, -0.2327, -0.1552, -0.2336, -0.2333,\n",
      "        -0.2424, -0.2286, -0.2024,  0.5884, -0.2296, -0.2244, -0.1637, -0.1990],\n",
      "       device='cuda:0')----------\n",
      "-------predict: tensor([ 0.4946, -0.4100, -0.3315, -0.4671,  0.0650, -0.2150, -0.0478, -0.1859,\n",
      "         0.2883, -0.4785,  0.0522,  0.5676, -0.6863, -0.4974, -0.1283, -0.2374],\n",
      "       device='cuda:0', grad_fn=<SqueezeBackward1>), y: tensor([-0.2099, -0.2394, -0.2297, -0.2313, -0.2420, -0.2217, -0.2286, -0.1139,\n",
      "        -0.2308,  0.1581, -0.2388, -0.0928, -0.2134, -0.2398, -0.1065, -0.2245],\n",
      "       device='cuda:0')----------\n",
      "-------predict: tensor([ 0.2355, -0.1505, -0.1842, -0.3796, -0.6812, -0.0570,  0.3793,  0.9128,\n",
      "        -0.8642, -0.1718, -0.0328, -0.7278,  0.0574,  0.8054, -0.1606, -0.1126],\n",
      "       device='cuda:0', grad_fn=<SqueezeBackward1>), y: tensor([ 0.0460, -0.1680, -0.2413, -0.2246, -0.2393, -0.2326, -0.1833,  1.7431,\n",
      "        -0.2423, -0.2400,  0.2747, -0.2385, -0.2398,  1.1126, -0.2416, -0.1998],\n",
      "       device='cuda:0')----------\n",
      "-------predict: tensor([-0.2679, -0.2878, -0.1764, -1.1918, -0.2429, -0.2152, -0.1939,  0.7247,\n",
      "         0.0873, -0.1849, -0.0071, -1.2730,  0.3034,  0.1193, -0.2394, -0.0652],\n",
      "       device='cuda:0', grad_fn=<SqueezeBackward1>), y: tensor([-0.2337, -0.2194, -0.1642, -0.2421, -0.2282, -0.1678, -0.1750, -0.0386,\n",
      "         0.0753, -0.2102, -0.1968, -0.2388, -0.2403, -0.1545, -0.2413, -0.1834],\n",
      "       device='cuda:0')----------\n",
      "-------predict: tensor([-0.3500, -0.7336, -0.1584, -0.3191,  0.2860, -0.0259, -0.4672,  0.0111,\n",
      "         0.0593,  0.3771,  0.3755,  0.0083, -0.2121, -0.2636,  5.8649,  0.1556],\n",
      "       device='cuda:0', grad_fn=<SqueezeBackward1>), y: tensor([-0.2425, -0.2415, -0.2418, -0.2269, -0.2216, -0.2260, -0.2417, -0.1517,\n",
      "        -0.0244, -0.2044, -0.0344, -0.2348, -0.2391, -0.1953,  4.1428, -0.1515],\n",
      "       device='cuda:0')----------\n",
      "-------predict: tensor([-0.4042, -0.0893, -0.1598,  0.6033, -0.0876, -0.3192, -0.3163, -0.1128,\n",
      "         0.1941, -0.0823, -0.1590, -0.0804, -0.0169, -0.0945, -0.4899, -0.0397],\n",
      "       device='cuda:0', grad_fn=<SqueezeBackward1>), y: tensor([-0.2368, -0.0042, -0.2264,  0.2559, -0.1063, -0.2335, -0.2112, -0.2410,\n",
      "         0.0140, -0.2340, -0.0922, -0.2426, -0.0739, -0.2273, -0.2375, -0.2249],\n",
      "       device='cuda:0')----------\n",
      "-------predict: tensor([-0.3164,  0.0499, -0.4250, -0.2742, -0.6871, -0.1998, -0.1941, -0.4249,\n",
      "         0.2225, -0.5544, -0.5725,  0.1280, -0.0773], device='cuda:0',\n",
      "       grad_fn=<SqueezeBackward1>), y: tensor([-0.2066, -0.2417, -0.2422, -0.2062, -0.2397, -0.2258, -0.1409, -0.2207,\n",
      "        -0.2070, -0.2422, -0.2426, -0.1854, -0.1932], device='cuda:0')----------\n",
      "Epoch [4/50]: Train loss: 0.3906, Valid loss: 0.2410\n",
      "Saving model with loss 0.241...\n"
     ]
    },
    {
     "name": "stderr",
     "output_type": "stream",
     "text": [
      "Epoch [5/50]:   0%|                                                                   | 0/9 [00:00<?, ?it/s, loss=0.0667]"
     ]
    },
    {
     "name": "stdout",
     "output_type": "stream",
     "text": [
      "-------predict: tensor([-0.1417,  0.0126, -0.0565, -0.0025, -0.8905, -0.1905,  0.8281, -0.2026,\n",
      "        -0.5822, -0.0667, -0.0868, -0.2698, -0.6810, -0.3550, -0.0044,  0.1224],\n",
      "       device='cuda:0', grad_fn=<SqueezeBackward1>), y: tensor([-0.1798, -0.2286, -0.2260, -0.0739, -0.2421, -0.2394,  1.1126, -0.2217,\n",
      "        -0.2425, -0.1552, -0.1998, -0.2062, -0.2397, -0.2194, -0.1517, -0.1854],\n",
      "       device='cuda:0')----------\n"
     ]
    },
    {
     "name": "stderr",
     "output_type": "stream",
     "text": [
      "Epoch [5/50]: 100%|███████████████████████████████████████████████████████████| 9/9 [00:00<00:00, 102.63it/s, loss=0.196]\n"
     ]
    },
    {
     "name": "stdout",
     "output_type": "stream",
     "text": [
      "-------predict: tensor([-1.5734e-01, -4.8903e-01,  8.5902e-02,  1.5443e-01, -1.3533e-01,\n",
      "        -1.8597e-01, -1.4820e-01, -4.5422e-01, -2.5665e-01, -1.6207e-01,\n",
      "        -3.1801e-01, -7.7194e-02, -2.5791e-04, -2.5571e-02,  5.0640e-02,\n",
      "         7.1775e-02], device='cuda:0', grad_fn=<SqueezeBackward1>), y: tensor([-0.1750, -0.2375, -0.2045, -0.0244, -0.2246, -0.2410, -0.2269, -0.2393,\n",
      "        -0.2066, -0.2107, -0.2413, -0.2348, -0.2258, -0.1545, -0.2216, -0.2229],\n",
      "       device='cuda:0')----------\n",
      "-------predict: tensor([-0.0878,  0.3852, -0.3193, -0.3404,  0.4607, -0.2101, -0.0616, -0.1832,\n",
      "        -0.0582,  0.1607, -0.2341, -0.4537, -0.2771,  0.5670, -0.1480, -0.0897],\n",
      "       device='cuda:0', grad_fn=<SqueezeBackward1>), y: tensor([-0.2249, -0.1833, -0.2417, -0.2244,  0.5884, -0.2282, -0.0042, -0.1678,\n",
      "        -0.1680,  0.0753, -0.1953, -0.2426, -0.2327, -0.2099, -0.2398,  0.1581],\n",
      "       device='cuda:0')----------\n",
      "-------predict: tensor([-0.1364,  0.3443, -0.3400,  1.0021, -0.7531, -0.0743,  0.1213, -0.2351,\n",
      "        -0.0037, -0.2881, -0.2723, -0.3026, -0.0473,  0.0162,  0.0643, -0.1266],\n",
      "       device='cuda:0', grad_fn=<SqueezeBackward1>), y: tensor([-0.2024, -0.2412, -0.2426,  1.7431, -0.2412, -0.2340, -0.2273, -0.2337,\n",
      "        -0.2070, -0.2385, -0.2112, -0.2416,  0.0535, -0.2044, -0.1521, -0.2021],\n",
      "       device='cuda:0')----------\n",
      "-------predict: tensor([-0.1778, -0.0606,  1.1488, -0.0478,  0.1673, -0.2153, -0.1930, -0.1748,\n",
      "         0.0627, -0.1624, -0.2854,  4.9676, -0.0128,  0.1628,  0.0316, -0.5008],\n",
      "       device='cuda:0', grad_fn=<SqueezeBackward1>), y: tensor([-0.2417, -0.1932,  1.2423, -0.2326,  0.0460, -0.2296, -0.2420, -0.2240,\n",
      "        -0.1065, -0.2298, -0.2297,  8.6617, -0.0922, -0.2372, -0.2388, -0.2177],\n",
      "       device='cuda:0')----------\n",
      "-------predict: tensor([-0.1356, -0.3716, -0.2879,  0.0257, -0.1267, -0.1256, -0.7588, -0.0972,\n",
      "         0.4446,  5.5216, -0.3247, -0.0271, -0.4050, -0.0961, -0.3388,  0.3965],\n",
      "       device='cuda:0', grad_fn=<SqueezeBackward1>), y: tensor([-0.2245, -0.2373, -0.2311,  0.2747, -0.1637, -0.1139, -0.2426, -0.1409,\n",
      "         0.0058,  4.1428, -0.2400, -0.2333, -0.2368, -0.2308, -0.2134, -0.2134],\n",
      "       device='cuda:0')----------\n",
      "-------predict: tensor([-0.2696, -0.3643,  0.5500, -0.3393, -0.2392, -0.0690, -0.2228, -0.9434,\n",
      "        -0.1477, -0.5341, -0.5547, -0.3489, -0.3970,  3.0636, -0.3533, -0.0412],\n",
      "       device='cuda:0', grad_fn=<SqueezeBackward1>), y: tensor([-0.2335, -0.2391,  0.2559, -0.2325, -0.1834, -0.2102, -0.1063, -0.2422,\n",
      "        -0.2427, -0.2398, -0.2261, -0.2264, -0.2411,  6.7906, -0.2297, -0.2403],\n",
      "       device='cuda:0')----------\n",
      "-------predict: tensor([-0.3453,  0.4039, -0.1951, -0.2077, -0.5573,  0.2468,  0.3498, -0.2028,\n",
      "         0.1796, -0.1946, -0.4578, -0.1933,  0.1822,  0.0358, -0.0766, -0.4583],\n",
      "       device='cuda:0', grad_fn=<SqueezeBackward1>), y: tensor([-0.1990,  0.5685, -0.2258, -0.2424, -0.2422,  0.0140, -0.2408, -0.2246,\n",
      "        -0.0876, -0.2420, -0.2313, -0.2336, -0.0014, -0.2426, -0.1642, -0.2423],\n",
      "       device='cuda:0')----------\n",
      "-------predict: tensor([-1.1473, -0.0338,  1.5755,  0.0098, -0.6470, -0.4466,  0.4534,  0.2623,\n",
      "        -0.0673,  0.6678, -0.5366, -0.0869, -0.4093], device='cuda:0',\n",
      "       grad_fn=<SqueezeBackward1>), y: tensor([-0.2388, -0.1968,  2.1945, -0.1515, -0.2415, -0.2413, -0.0344, -0.0386,\n",
      "        -0.2286, -0.0928, -0.2417, -0.2418, -0.2207], device='cuda:0')----------\n",
      "Epoch [5/50]: Train loss: 0.2779, Valid loss: 0.1954\n",
      "Saving model with loss 0.195...\n"
     ]
    },
    {
     "name": "stderr",
     "output_type": "stream",
     "text": [
      "Epoch [6/50]:   0%|                                                                    | 0/9 [00:00<?, ?it/s, loss=0.818]"
     ]
    },
    {
     "name": "stdout",
     "output_type": "stream",
     "text": [
      "-------predict: tensor([-8.0613e-02, -1.5805e-01,  1.7574e-01, -1.4057e-01, -3.2924e-01,\n",
      "        -8.0206e-02, -3.0216e-01, -2.2782e-01,  3.2473e+00, -4.3882e-01,\n",
      "         1.0346e-03, -9.4521e-02,  2.8253e-01,  7.4259e-02, -4.0369e-01,\n",
      "        -1.5587e-01], device='cuda:0', grad_fn=<SqueezeBackward1>), y: tensor([-0.1517, -0.1750,  0.0753, -0.2246, -0.2194, -0.2102, -0.2335, -0.2296,\n",
      "         6.7906, -0.2385, -0.2070, -0.1637, -0.2372, -0.2229, -0.2413, -0.1063],\n",
      "       device='cuda:0')----------\n"
     ]
    },
    {
     "name": "stderr",
     "output_type": "stream",
     "text": [
      "Epoch [6/50]: 100%|████████████████████████████████████████████████████████████| 9/9 [00:00<00:00, 100.46it/s, loss=0.15]\n"
     ]
    },
    {
     "name": "stdout",
     "output_type": "stream",
     "text": [
      "-------predict: tensor([ 1.0987, -0.1689, -0.0968,  0.0865, -0.1335, -0.1271, -0.2471, -0.2218,\n",
      "         0.0329, -0.4019,  0.0392,  5.6821, -0.4860, -0.1012,  0.1944, -0.0434],\n",
      "       device='cuda:0', grad_fn=<SqueezeBackward1>), y: tensor([ 1.2423, -0.1409, -0.2260, -0.1854, -0.2398, -0.0922, -0.2337, -0.2410,\n",
      "        -0.2273, -0.2398, -0.1065,  4.1428, -0.2177, -0.2336, -0.0876, -0.2426],\n",
      "       device='cuda:0')----------\n",
      "-------predict: tensor([-0.1116, -0.0934,  0.4607,  0.0569,  0.3721, -0.0378, -0.0274, -0.5557,\n",
      "        -0.0724, -0.1415,  0.3561, -0.2870, -0.4492, -0.2523, -0.3672, -0.8195],\n",
      "       device='cuda:0', grad_fn=<SqueezeBackward1>), y: tensor([ 0.1581, -0.1680, -0.0344, -0.2308, -0.2412, -0.2326, -0.2417, -0.2425,\n",
      "        -0.1932, -0.1798, -0.2408, -0.2411, -0.2134, -0.2264, -0.2417, -0.2421],\n",
      "       device='cuda:0')----------\n",
      "-------predict: tensor([ 0.1100, -0.4775,  0.0915, -0.4370, -0.2587, -0.4801, -0.2040, -0.5192,\n",
      "        -0.3041,  0.1156, -0.2610, -0.1211, -0.2055,  0.5274,  0.0515, -0.1041],\n",
      "       device='cuda:0', grad_fn=<SqueezeBackward1>), y: tensor([-0.1521, -0.2375, -0.1515, -0.2423, -0.2327, -0.2417, -0.2311, -0.2426,\n",
      "        -0.2066, -0.2403, -0.1953, -0.1139, -0.2258, -0.0386, -0.2388, -0.2348],\n",
      "       device='cuda:0')----------\n",
      "-------predict: tensor([-0.0384,  0.2388, -0.2549, -0.2329,  5.8270, -0.2407, -0.0720, -0.7715,\n",
      "        -0.5606,  0.5499, -0.3839, -0.2321, -0.0332, -0.0691,  1.6346, -0.1333],\n",
      "       device='cuda:0', grad_fn=<SqueezeBackward1>), y: tensor([-1.5518e-01, -1.4000e-03, -2.1125e-01, -2.2819e-01,  8.6617e+00,\n",
      "        -2.0616e-01, -4.1539e-03, -2.4120e-01, -2.4146e-01,  2.5595e-01,\n",
      "        -2.3682e-01, -1.9895e-01, -7.3864e-02, -2.4200e-01,  2.1945e+00,\n",
      "        -2.4202e-01], device='cuda:0')----------\n",
      "-------predict: tensor([-0.4173, -0.4082, -0.2483, -0.5276, -0.4478,  1.1639,  0.9621, -0.2857,\n",
      "        -0.0862,  0.0052, -0.3757,  0.0888, -0.2467,  0.5324, -0.8669, -0.0980],\n",
      "       device='cuda:0', grad_fn=<SqueezeBackward1>), y: tensor([-0.2422, -0.2207, -0.2269, -0.2422, -0.2313,  1.7431,  1.1126, -0.2416,\n",
      "        -0.1545, -0.2286, -0.2261, -0.2045, -0.2298,  0.5884, -0.2388, -0.2249],\n",
      "       device='cuda:0')----------\n",
      "-------predict: tensor([-0.3158, -0.2046, -0.1562, -0.2651, -0.0074, -0.0489, -0.3476,  0.0100,\n",
      "        -0.3170, -0.1681,  0.1428, -0.0992, -0.1946, -0.0851,  0.1853, -0.5187],\n",
      "       device='cuda:0', grad_fn=<SqueezeBackward1>), y: tensor([-0.2426, -0.2400, -0.2021, -0.2373, -0.2333, -0.2258, -0.2244, -0.1968,\n",
      "        -0.2413, -0.1678,  0.2747, -0.1834, -0.2325, -0.1998, -0.2044, -0.2426],\n",
      "       device='cuda:0')----------\n",
      "-------predict: tensor([-0.2449, -0.3736, -0.0763,  0.4650, -0.5445,  0.0679, -0.2025,  0.2650,\n",
      "         0.4686, -0.0857, -0.0644, -0.0559, -0.2337, -0.2235, -0.2614,  0.5226],\n",
      "       device='cuda:0', grad_fn=<SqueezeBackward1>), y: tensor([-0.2391, -0.2427, -0.2245,  0.5685, -0.2393, -0.2216, -0.2297,  0.0140,\n",
      "        -0.2134, -0.2240, -0.2340,  0.0535, -0.2217, -0.2394, -0.2246,  0.0058],\n",
      "       device='cuda:0')----------\n",
      "-------predict: tensor([ 0.0612, -0.0473, -0.1894, -0.2365,  0.6137,  0.2291, -0.3505, -0.0417,\n",
      "         0.6196,  0.0797, -0.1322, -0.6915,  0.3948], device='cuda:0',\n",
      "       grad_fn=<SqueezeBackward1>), y: tensor([-0.2286, -0.2418, -0.2024, -0.2107, -0.2099,  0.0460, -0.2297, -0.2424,\n",
      "        -0.0928, -0.0244, -0.1642, -0.2397, -0.1833], device='cuda:0')----------\n",
      "Epoch [6/50]: Train loss: 0.2262, Valid loss: 0.2030\n"
     ]
    },
    {
     "name": "stderr",
     "output_type": "stream",
     "text": [
      "Epoch [7/50]:   0%|                                                                                | 0/9 [00:00<?, ?it/s]"
     ]
    },
    {
     "name": "stdout",
     "output_type": "stream",
     "text": [
      "-------predict: tensor([-0.1135, -0.3485, -0.0805,  0.0778,  0.0124, -0.3506, -0.0835, -0.2590,\n",
      "        -0.1887, -0.2661, -0.1782, -0.2772, -0.5566, -0.3451, -0.1784,  0.5658],\n",
      "       device='cuda:0', grad_fn=<SqueezeBackward1>), y: tensor([-0.2420, -0.2417, -0.1545, -0.0244, -0.1968, -0.2297, -0.1932, -0.2337,\n",
      "        -0.0922, -0.2298, -0.1750, -0.1953, -0.2426, -0.2066, -0.2194,  0.5884],\n",
      "       device='cuda:0')----------\n"
     ]
    },
    {
     "name": "stderr",
     "output_type": "stream",
     "text": [
      "Epoch [7/50]:   0%|                                                                   | 0/9 [00:00<?, ?it/s, loss=0.0158]"
     ]
    },
    {
     "name": "stdout",
     "output_type": "stream",
     "text": [
      "-------predict: tensor([-0.4882, -0.5690, -0.7276, -0.4696, -0.1542, -0.0907,  0.4775,  0.3783,\n",
      "         0.0511, -0.2320, -0.1985,  0.1345,  0.2135, -0.0746, -0.3822, -0.0500],\n",
      "       device='cuda:0', grad_fn=<SqueezeBackward1>), y: tensor([-0.2423, -0.2415, -0.2388, -0.2375, -0.2021, -0.1998, -0.0344, -0.2412,\n",
      "        -0.2216, -0.2062, -0.2297, -0.2403, -0.0876, -0.2102, -0.2368, -0.0739],\n",
      "       device='cuda:0')----------\n"
     ]
    },
    {
     "name": "stderr",
     "output_type": "stream",
     "text": [
      "Epoch [7/50]: 100%|███████████████████████████████████████████████████████████| 9/9 [00:00<00:00, 101.74it/s, loss=0.749]\n"
     ]
    },
    {
     "name": "stdout",
     "output_type": "stream",
     "text": [
      "-------predict: tensor([ 0.1319,  0.1944, -0.4428, -0.4460,  0.3566, -0.0728,  0.2561, -0.0230,\n",
      "         0.0512,  5.9253, -0.2343, -0.3007,  0.0133, -0.2404, -0.0603, -0.0403],\n",
      "       device='cuda:0', grad_fn=<SqueezeBackward1>), y: tensor([-0.1515,  0.2747, -0.2134, -0.2313, -0.2408, -0.1063,  0.0140, -0.1517,\n",
      "        -0.1065,  4.1428, -0.2411, -0.2413, -0.2417, -0.2217, -0.2424, -0.1552],\n",
      "       device='cuda:0')----------\n",
      "-------predict: tensor([ 1.7065, -0.2542, -0.0332, -0.3712, -0.2043,  1.0017, -0.2050,  0.1413,\n",
      "        -0.1059, -0.0738, -0.1479,  0.0787, -0.1921, -0.2189,  0.4543, -0.0313],\n",
      "       device='cuda:0', grad_fn=<SqueezeBackward1>), y: tensor([ 2.1945, -0.2246,  0.0535, -0.2385, -0.2410,  1.1126, -0.2400, -0.2044,\n",
      "        -0.2348, -0.2340, -0.1678, -0.2229, -0.2426, -0.2258, -0.2134, -0.2326],\n",
      "       device='cuda:0')----------\n",
      "-------predict: tensor([ 0.1857, -0.4829,  0.5396,  1.2144, -0.3745, -0.4744, -0.0846, -0.4710,\n",
      "        -0.0943,  0.5897, -0.2293, -0.1104, -0.1915, -0.1199, -0.0524,  6.2417],\n",
      "       device='cuda:0', grad_fn=<SqueezeBackward1>), y: tensor([ 0.0753, -0.2417,  0.2559,  1.7431, -0.2207, -0.2177, -0.1637, -0.2422,\n",
      "         0.1581, -0.0928, -0.2327, -0.2240, -0.2325, -0.2398, -0.2418,  8.6617],\n",
      "       device='cuda:0')----------\n",
      "-------predict: tensor([-0.0105, -0.2280, -0.3298, -0.0986, -0.2705, -0.3627, -0.1157,  0.0700,\n",
      "        -0.1541, -0.3665, -0.1950, -0.3688, -0.3502,  0.0230, -0.2544, -0.5447],\n",
      "       device='cuda:0', grad_fn=<SqueezeBackward1>), y: tensor([-0.2286, -0.2112, -0.2244, -0.2249, -0.2373, -0.2261, -0.2336, -0.2045,\n",
      "        -0.1798, -0.2398, -0.2024, -0.2427, -0.2335, -0.2308, -0.2282, -0.2426],\n",
      "       device='cuda:0')----------\n",
      "-------predict: tensor([-0.0747,  0.4949, -0.1206, -0.7812, -0.2979, -0.2571,  0.0516, -0.2520,\n",
      "         0.4876, -0.1063,  0.0313, -0.2090, -0.0880, -0.2134,  1.0222, -0.0967],\n",
      "       device='cuda:0', grad_fn=<SqueezeBackward1>), y: tensor([-0.2258, -0.0386, -0.1834, -0.2412, -0.2269, -0.2426, -0.1854, -0.2391,\n",
      "         0.0058, -0.1139, -0.2388, -0.2311, -0.0042, -0.2246,  1.2423, -0.1680],\n",
      "       device='cuda:0')----------\n",
      "-------predict: tensor([-0.1385,  0.0563,  0.0691, -0.2897, -0.5247,  0.0036, -0.0017,  0.5667,\n",
      "        -0.0403, -0.8521, -0.2434,  0.2668, -0.2356, -0.1321, -0.4102,  0.1715],\n",
      "       device='cuda:0', grad_fn=<SqueezeBackward1>), y: tensor([-0.1642, -0.2070, -0.1521, -0.2413, -0.2393, -0.2286, -0.2273, -0.2099,\n",
      "        -0.2333, -0.2421, -0.2394, -0.2372, -0.2107, -0.2245, -0.2425,  0.0460],\n",
      "       device='cuda:0')----------\n",
      "-------predict: tensor([ 0.1825, -0.3670, -0.1975, -0.1390, -0.2100,  3.7761, -0.2853,  0.4355,\n",
      "        -0.3015,  0.3588, -0.4381, -0.6983, -0.1449], device='cuda:0',\n",
      "       grad_fn=<SqueezeBackward1>), y: tensor([-1.4000e-03, -2.4161e-01, -2.2964e-01, -2.4200e-01, -1.4093e-01,\n",
      "         6.7906e+00, -1.9895e-01,  5.6845e-01, -2.2638e-01, -1.8335e-01,\n",
      "        -2.4216e-01, -2.3966e-01, -2.2599e-01], device='cuda:0')----------\n",
      "Epoch [7/50]: Train loss: 0.1995, Valid loss: 0.1394\n",
      "Saving model with loss 0.139...\n"
     ]
    },
    {
     "name": "stderr",
     "output_type": "stream",
     "text": [
      "Epoch [8/50]:   0%|                                                                    | 0/9 [00:00<?, ?it/s, loss=0.048]"
     ]
    },
    {
     "name": "stdout",
     "output_type": "stream",
     "text": [
      "-------predict: tensor([-0.5358, -0.2080, -0.8176, -0.5559, -0.1708, -0.2698, -0.3134, -0.2125,\n",
      "        -0.2548, -0.1414, -0.2622, -0.0733, -0.5483, -0.1778, -0.2180, -0.3300],\n",
      "       device='cuda:0', grad_fn=<SqueezeBackward1>), y: tensor([-0.2398, -0.1834, -0.2412, -0.2417, -0.2246, -0.1953, -0.2297, -0.0922,\n",
      "        -0.2249,  0.1581, -0.2298, -0.2286, -0.2426, -0.2021, -0.2245, -0.2325],\n",
      "       device='cuda:0')----------\n"
     ]
    },
    {
     "name": "stderr",
     "output_type": "stream",
     "text": [
      "Epoch [8/50]:   0%|                                                                   | 0/9 [00:00<?, ?it/s, loss=0.0398]"
     ]
    },
    {
     "name": "stdout",
     "output_type": "stream",
     "text": [
      "-------predict: tensor([ 0.3386, -0.0941,  0.5164,  0.0253,  0.2663, -0.1811, -0.4532, -0.1962,\n",
      "        -0.2193,  0.9887, -0.3126, -0.3463, -0.2134, -0.0514, -0.2303,  0.1386],\n",
      "       device='cuda:0', grad_fn=<SqueezeBackward1>), y: tensor([-0.2408, -0.1932,  0.2559, -0.1065,  0.0140, -0.1750, -0.2261, -0.2258,\n",
      "        -0.2062,  1.2423, -0.2410, -0.2411, -0.2194, -0.0739, -0.2258,  0.0460],\n",
      "       device='cuda:0')----------\n"
     ]
    },
    {
     "name": "stderr",
     "output_type": "stream",
     "text": [
      "Epoch [8/50]: 100%|███████████████████████████████████████████████████████████| 9/9 [00:00<00:00, 102.03it/s, loss=0.646]\n"
     ]
    },
    {
     "name": "stdout",
     "output_type": "stream",
     "text": [
      "-------predict: tensor([-0.1889, -0.0601, -0.3721, -0.4451,  1.2814, -0.1740, -0.4342, -0.1560,\n",
      "        -0.4454, -0.6497,  0.3480,  0.1232,  0.4886, -0.3908, -0.1154, -0.1497],\n",
      "       device='cuda:0', grad_fn=<SqueezeBackward1>), y: tensor([-0.2426, -0.1998, -0.2207, -0.2134,  1.7431, -0.2240, -0.2417, -0.1680,\n",
      "        -0.2423, -0.2388, -0.2412, -0.0244,  0.5884, -0.2426, -0.1517, -0.2417],\n",
      "       device='cuda:0')----------\n",
      "-------predict: tensor([-0.2287, -0.2829,  0.2621, -0.2555, -0.1929,  5.5234, -0.2073, -0.2524,\n",
      "        -0.1406, -0.3201, -0.0148, -0.7521,  6.5108,  0.5454,  0.0243,  0.0495],\n",
      "       device='cuda:0', grad_fn=<SqueezeBackward1>), y: tensor([-2.2456e-01, -2.3910e-01, -1.4000e-03, -2.2819e-01, -2.2159e-01,\n",
      "         4.1428e+00, -2.3275e-01, -2.2688e-01, -2.4202e-01, -2.4266e-01,\n",
      "        -2.2860e-01, -2.4207e-01,  8.6617e+00, -2.0993e-01, -1.8544e-01,\n",
      "        -1.5213e-01], device='cuda:0')----------\n",
      "-------predict: tensor([-0.0309, -0.1324, -0.2245,  0.1855,  0.6063, -0.4509,  0.4721, -0.3417,\n",
      "        -0.2829, -0.3229, -0.0337, -0.1816, -0.3691, -0.1630, -0.0760, -0.3854],\n",
      "       device='cuda:0', grad_fn=<SqueezeBackward1>), y: tensor([-0.2326, -0.1678, -0.2394,  0.0753, -0.0928, -0.2422,  0.5685, -0.2335,\n",
      "        -0.2264, -0.2244, -0.2333, -0.2296, -0.2413, -0.1798, -0.0042, -0.2416],\n",
      "       device='cuda:0')----------\n",
      "-------predict: tensor([-0.4429, -0.1597, -0.1907, -0.3523, -0.1993,  1.8153,  0.3520, -0.0585,\n",
      "        -0.2429,  0.1885, -0.3632, -0.4819,  0.0474, -0.4335, -0.0227,  1.0480],\n",
      "       device='cuda:0', grad_fn=<SqueezeBackward1>), y: tensor([-0.2425, -0.2348, -0.2398, -0.2368, -0.2107,  2.1945, -0.0386, -0.2418,\n",
      "        -0.1990, -0.2372, -0.2413, -0.2177, -0.1515, -0.2375, -0.1968,  1.1126],\n",
      "       device='cuda:0')----------\n",
      "-------predict: tensor([-0.1385, -0.3184, -0.4705, -0.0328, -0.2658, -0.0738, -0.1411, -0.1226,\n",
      "        -0.2693, -0.1053, -0.1940, -0.1952, -0.0012, -0.2295, -0.4206, -0.4967],\n",
      "       device='cuda:0', grad_fn=<SqueezeBackward1>), y: tensor([-0.1642, -0.2066, -0.2422, -0.1552, -0.2217, -0.2308, -0.2420, -0.1063,\n",
      "        -0.2400, -0.2260, -0.1409, -0.2112, -0.2070, -0.2311, -0.2313, -0.2426],\n",
      "       device='cuda:0')----------\n",
      "-------predict: tensor([ 1.7519e-02, -1.3043e-02, -3.3782e-01,  4.5589e-01, -6.7277e-01,\n",
      "        -1.8840e-01, -1.0315e-01,  3.8546e-04,  1.9702e-01, -3.0009e-02,\n",
      "         4.5517e-02, -5.3984e-01, -4.9839e-01, -2.1449e-01, -1.0212e-01,\n",
      "        -2.0244e-01], device='cuda:0', grad_fn=<SqueezeBackward1>), y: tensor([-0.2273,  0.0535, -0.2297,  0.0058, -0.2397, -0.2424, -0.2340, -0.2044,\n",
      "         0.2747, -0.2045, -0.2229, -0.2415, -0.2393, -0.1545, -0.1139, -0.2336],\n",
      "       device='cuda:0')----------\n",
      "-------predict: tensor([-8.1432e-02, -3.6240e-01,  2.1799e-01,  4.1097e+00,  3.4287e-01,\n",
      "        -3.0704e-02, -2.5698e-01, -1.5311e-03,  4.6070e-01, -3.3858e-01,\n",
      "        -8.7928e-02, -2.1854e-01,  4.5766e-01], device='cuda:0',\n",
      "       grad_fn=<SqueezeBackward1>), y: tensor([-0.2102, -0.2385, -0.0876,  6.7906, -0.1833, -0.2403, -0.2337, -0.2388,\n",
      "        -0.2134, -0.2373, -0.1637, -0.2024, -0.0344], device='cuda:0')----------\n",
      "Epoch [8/50]: Train loss: 0.1587, Valid loss: 0.1428\n"
     ]
    },
    {
     "name": "stderr",
     "output_type": "stream",
     "text": [
      "Epoch [9/50]:   0%|                                                                    | 0/9 [00:00<?, ?it/s, loss=0.132]"
     ]
    },
    {
     "name": "stdout",
     "output_type": "stream",
     "text": [
      "-------predict: tensor([-0.3764, -0.1729, -0.2696, -0.1606, -0.4842, -0.1312,  0.3364,  0.4732,\n",
      "         5.3766,  0.5042, -0.1228, -0.1286, -0.2419,  0.3230, -0.1122, -0.2526],\n",
      "       device='cuda:0', grad_fn=<SqueezeBackward1>), y: tensor([-0.2417, -0.2062, -0.2298, -0.2420, -0.2426, -0.1063, -0.2408,  0.5685,\n",
      "         4.1428,  0.5884, -0.2420, -0.2245, -0.2258, -0.0386, -0.1932, -0.2246],\n",
      "       device='cuda:0')----------\n"
     ]
    },
    {
     "name": "stderr",
     "output_type": "stream",
     "text": [
      "Epoch [9/50]:   0%|                                                                   | 0/9 [00:00<?, ?it/s, loss=0.0716]"
     ]
    },
    {
     "name": "stdout",
     "output_type": "stream",
     "text": [
      "-------predict: tensor([ 1.8340, -0.2837,  0.6033, -0.0250, -0.4491,  1.0198,  0.3348, -0.1439,\n",
      "        -0.0080, -0.2692, -0.1679, -0.3837, -0.2510, -0.0355, -0.4533, -0.1802],\n",
      "       device='cuda:0', grad_fn=<SqueezeBackward1>), y: tensor([ 2.1945, -0.2297, -0.0928, -0.1968, -0.2134,  1.2423, -0.1833, -0.1680,\n",
      "         0.0535, -0.1953, -0.2296, -0.2413, -0.1545, -0.2286, -0.2425, -0.1834],\n",
      "       device='cuda:0')----------\n"
     ]
    },
    {
     "name": "stderr",
     "output_type": "stream",
     "text": [
      "Epoch [9/50]:   0%|                                                                   | 0/9 [00:00<?, ?it/s, loss=0.0454]"
     ]
    },
    {
     "name": "stdout",
     "output_type": "stream",
     "text": [
      "-------predict: tensor([-0.3335,  0.1057, -0.1193, -0.1558, -0.1740, -0.0571, -0.1949, -0.3123,\n",
      "        -0.7650, -0.7668, -0.4789, -0.2550, -0.0849, -0.1938, -0.2050, -0.3641],\n",
      "       device='cuda:0', grad_fn=<SqueezeBackward1>), y: tensor([-0.2368, -0.0244, -0.2045, -0.2258, -0.2327, -0.2286, -0.2194, -0.2427,\n",
      "        -0.2421, -0.2412, -0.2177, -0.2337, -0.2044, -0.1750, -0.2216, -0.2385],\n",
      "       device='cuda:0')----------\n"
     ]
    },
    {
     "name": "stderr",
     "output_type": "stream",
     "text": [
      "Epoch [9/50]: 100%|██████████████████████████████████████████████████████████| 9/9 [00:00<00:00, 100.53it/s, loss=0.0533]\n"
     ]
    },
    {
     "name": "stdout",
     "output_type": "stream",
     "text": [
      "-------predict: tensor([-0.1578, -0.1742, -0.2666, -0.1733, -0.2758, -0.0201, -0.1068, -0.0288,\n",
      "         0.0373, -0.1831,  0.1841, -0.3801, -0.1431, -0.4007, -0.6565,  0.4466],\n",
      "       device='cuda:0', grad_fn=<SqueezeBackward1>), y: tensor([-0.2021, -0.1798, -0.2325, -0.1409, -0.2217, -0.2388, -0.1517, -0.2326,\n",
      "        -0.1065, -0.2107,  0.0753, -0.2423, -0.2260, -0.2375, -0.2397, -0.0344],\n",
      "       device='cuda:0')----------\n",
      "-------predict: tensor([-0.2748, -0.1317, -0.1220,  0.2576, -0.3094, -0.1935, -0.1003, -0.1286,\n",
      "        -0.2180,  0.0631, -0.0344,  0.4930,  0.2299, -0.3164, -0.2748,  0.0209],\n",
      "       device='cuda:0', grad_fn=<SqueezeBackward1>), y: tensor([-0.2244, -0.2070, -0.2340, -0.0014, -0.2400, -0.2348, -0.1139, -0.1642,\n",
      "        -0.2024, -0.2273, -0.2333,  0.2559, -0.0876, -0.2411, -0.2282, -0.2229],\n",
      "       device='cuda:0')----------\n",
      "-------predict: tensor([ 6.0436e-04,  1.0479e+00, -2.6523e-01, -8.6118e-02, -2.5601e-01,\n",
      "        -2.7098e-01,  4.2089e+00, -4.5308e-01, -1.6894e-01, -1.0768e-01,\n",
      "         4.0035e-02,  4.9124e-01,  1.9021e-02, -1.4319e-01, -2.1156e-01,\n",
      "        -1.5291e-01], device='cuda:0', grad_fn=<SqueezeBackward1>), y: tensor([ 0.1581,  1.1126, -0.1990, -0.2246, -0.2311, -0.2391,  6.7906, -0.2398,\n",
      "        -0.2269, -0.1637, -0.1521, -0.2099, -0.1515, -0.2403, -0.2417, -0.2240],\n",
      "       device='cuda:0')----------\n",
      "-------predict: tensor([ 0.3073,  0.2009, -0.2654, -0.5905, -0.4933,  0.1054, -0.3153, -0.4092,\n",
      "        -0.0206,  0.4059, -0.0859, -0.1196, -0.3176,  0.2289, -0.4030, -0.3774],\n",
      "       device='cuda:0', grad_fn=<SqueezeBackward1>), y: tensor([-0.2412,  0.2747, -0.2066, -0.2422, -0.2415,  0.0460, -0.2297, -0.2426,\n",
      "        -0.1854,  0.0058, -0.0042, -0.2426, -0.2424,  0.0140, -0.2426, -0.2313],\n",
      "       device='cuda:0')----------\n",
      "-------predict: tensor([-0.2329, -0.4727, -0.0704, -0.1090, -0.2088, -0.3329,  6.8954, -0.4137,\n",
      "        -0.3351, -0.5083, -0.4271, -0.1935, -0.2695, -0.2985,  1.3328, -0.4732],\n",
      "       device='cuda:0', grad_fn=<SqueezeBackward1>), y: tensor([-0.2308, -0.2417, -0.1678, -0.0922, -0.2394, -0.2336,  8.6617, -0.2416,\n",
      "        -0.2373, -0.2388, -0.2413, -0.2249, -0.2207, -0.2398,  1.7431, -0.2422],\n",
      "       device='cuda:0')----------\n",
      "-------predict: tensor([-0.4325,  0.4283, -0.1211, -0.0926, -0.4502, -0.0692, -0.0804,  0.0695,\n",
      "        -0.3602, -0.2418, -0.1011, -0.3189, -0.0264], device='cuda:0',\n",
      "       grad_fn=<SqueezeBackward1>), y: tensor([-0.2393, -0.2134, -0.2112, -0.2418, -0.2261, -0.2102, -0.0739, -0.2372,\n",
      "        -0.2335, -0.2264, -0.1998, -0.2410, -0.1552], device='cuda:0')----------\n",
      "Epoch [9/50]: Train loss: 0.1224, Valid loss: 0.1399\n"
     ]
    },
    {
     "name": "stderr",
     "output_type": "stream",
     "text": [
      "Epoch [10/50]:   0%|                                                                   | 0/9 [00:00<?, ?it/s, loss=0.034]"
     ]
    },
    {
     "name": "stdout",
     "output_type": "stream",
     "text": [
      "-------predict: tensor([-0.1527,  0.4943,  1.0709, -0.2488, -0.2917, -0.2445,  0.0450, -0.0720,\n",
      "        -0.0707, -0.0551, -0.2428, -0.1167, -0.3622,  0.1038,  0.3162,  0.0953],\n",
      "       device='cuda:0', grad_fn=<SqueezeBackward1>), y: tensor([-0.2325,  0.5685,  1.1126, -0.2373, -0.2417, -0.2336,  0.0535, -0.2240,\n",
      "        -0.2102, -0.1678, -0.2411, -0.2112, -0.2134, -0.2372, -0.2408, -0.0244],\n",
      "       device='cuda:0')----------\n"
     ]
    },
    {
     "name": "stderr",
     "output_type": "stream",
     "text": [
      "Epoch [10/50]:   0%|                                                                   | 0/9 [00:00<?, ?it/s, loss=0.153]"
     ]
    },
    {
     "name": "stdout",
     "output_type": "stream",
     "text": [
      "-------predict: tensor([-1.0198e-01, -1.9641e-02,  5.5111e+00, -3.8310e-01, -6.0695e-01,\n",
      "        -4.6672e-01, -2.2496e-01, -4.1299e-02, -1.0541e-01, -2.1032e-01,\n",
      "        -2.6760e-02,  5.3430e-03, -4.5159e-01,  1.3695e+00, -9.1851e-02,\n",
      "        -3.6304e-01], device='cuda:0', grad_fn=<SqueezeBackward1>), y: tensor([-0.2062, -0.2245,  4.1428, -0.2261, -0.2397, -0.2426, -0.2385, -0.2260,\n",
      "        -0.2327, -0.1545, -0.1968, -0.1854, -0.2415,  1.7431, -0.0739, -0.2416],\n",
      "       device='cuda:0')----------\n"
     ]
    },
    {
     "name": "stderr",
     "output_type": "stream",
     "text": [
      "Epoch [10/50]:   0%|                                                                  | 0/9 [00:00<?, ?it/s, loss=0.0565]"
     ]
    },
    {
     "name": "stdout",
     "output_type": "stream",
     "text": [
      "-------predict: tensor([-0.2110, -0.0989,  0.4186, -0.1723, -0.6758, -0.1204, -0.0649, -0.0793,\n",
      "         0.2987,  0.2126, -0.0843, -0.2980,  0.2036,  1.1189,  0.0433, -0.2148],\n",
      "       device='cuda:0', grad_fn=<SqueezeBackward1>), y: tensor([-0.2426, -0.2418,  0.0058, -0.2107, -0.2412, -0.2348, -0.2286, -0.1834,\n",
      "        -0.1833,  0.0140, -0.2249, -0.2298, -0.0876,  1.2423, -0.2286, -0.1750],\n",
      "       device='cuda:0')----------\n"
     ]
    },
    {
     "name": "stderr",
     "output_type": "stream",
     "text": [
      "Epoch [10/50]: 100%|█████████████████████████████████████████████████████████| 9/9 [00:00<00:00, 100.46it/s, loss=0.0408]\n"
     ]
    },
    {
     "name": "stdout",
     "output_type": "stream",
     "text": [
      "-------predict: tensor([-0.4632, -0.2646, -0.4846, -0.3365, -0.1891,  0.4437, -0.0547, -0.0869,\n",
      "        -0.3331, -0.2686, -0.0848,  0.1557, -0.1333, -0.2146, -0.1897, -0.5033],\n",
      "       device='cuda:0', grad_fn=<SqueezeBackward1>), y: tensor([-0.2426, -0.2422, -0.2388, -0.2398, -0.2391, -0.2099, -0.1517, -0.2308,\n",
      "        -0.2297, -0.2258, -0.1637,  0.0753, -0.1998, -0.2400, -0.2264, -0.2393],\n",
      "       device='cuda:0')----------\n",
      "-------predict: tensor([ 1.8303, -0.0394, -0.0246, -0.2362, -0.0433, -0.3519, -0.0309, -0.2637,\n",
      "        -0.3434, -0.2225, -0.3109, -0.3056, -0.2514,  0.4081, -0.1193,  0.0410],\n",
      "       device='cuda:0', grad_fn=<SqueezeBackward1>), y: tensor([ 2.1945, -0.2258, -0.2326, -0.2426, -0.1552, -0.2066, -0.2403, -0.2337,\n",
      "        -0.2375, -0.1409, -0.2217, -0.2282, -0.2394, -0.0344, -0.0042, -0.2045],\n",
      "       device='cuda:0')----------\n",
      "-------predict: tensor([ 0.3706, -0.1323, -0.0451, -0.1506,  0.2372, -0.0521, -0.3685, -0.3917,\n",
      "        -0.0420, -0.2621, -0.1552, -0.2783, -0.0097, -0.2218,  4.5006,  0.4804],\n",
      "       device='cuda:0', grad_fn=<SqueezeBackward1>), y: tensor([-0.0386, -0.2194, -0.2273, -0.2398,  0.2747,  0.1581, -0.2207, -0.2335,\n",
      "        -0.2388, -0.2244, -0.1932, -0.1953, -0.2333, -0.2246,  6.7906,  0.2559],\n",
      "       device='cuda:0')----------\n",
      "-------predict: tensor([-0.0558, -0.2660, -0.0509,  0.4878, -0.4077, -0.3769, -0.7408, -0.1260,\n",
      "         0.2758, -0.2450,  0.0986,  0.0300,  0.1252, -0.2626, -0.2244, -0.2861],\n",
      "       device='cuda:0', grad_fn=<SqueezeBackward1>), y: tensor([-0.2044, -0.2024, -0.2070,  0.5884, -0.2177, -0.2313, -0.2421, -0.2417,\n",
      "        -0.2412, -0.2425, -0.1521, -0.1515,  0.0460, -0.2269, -0.2424, -0.2368],\n",
      "       device='cuda:0')----------\n",
      "-------predict: tensor([-0.1453, -0.2549, -0.1417, -0.2365,  0.5375, -0.1925, -0.1579, -0.4674,\n",
      "         7.4242, -0.3321,  0.1296, -0.2195, -0.1396, -0.5131, -0.2284, -0.1283],\n",
      "       device='cuda:0', grad_fn=<SqueezeBackward1>), y: tensor([-1.0634e-01, -2.2969e-01, -1.6797e-01, -2.3112e-01, -9.2797e-02,\n",
      "        -1.7985e-01, -2.3402e-01, -2.4234e-01,  8.6617e+00, -2.4102e-01,\n",
      "        -1.4000e-03, -1.9895e-01, -2.2964e-01, -2.4168e-01, -2.2159e-01,\n",
      "        -2.4202e-01], device='cuda:0')----------\n",
      "-------predict: tensor([-0.2795, -0.3070, -0.2255, -0.4131, -0.2219, -0.3593, -0.0160, -0.1810,\n",
      "        -0.0315, -0.1118, -0.3397,  0.4236, -0.1912], device='cuda:0',\n",
      "       grad_fn=<SqueezeBackward1>), y: tensor([-0.2246, -0.2413, -0.0922, -0.2422, -0.2420, -0.2413, -0.1065, -0.2021,\n",
      "        -0.2229, -0.1139, -0.2427, -0.2134, -0.1642], device='cuda:0')----------\n",
      "Epoch [10/50]: Train loss: 0.0999, Valid loss: 0.1044\n",
      "Saving model with loss 0.104...\n"
     ]
    },
    {
     "name": "stderr",
     "output_type": "stream",
     "text": [
      "Epoch [11/50]:   0%|                                                                   | 0/9 [00:00<?, ?it/s, loss=0.028]"
     ]
    },
    {
     "name": "stdout",
     "output_type": "stream",
     "text": [
      "-------predict: tensor([-0.2977,  0.2238, -0.0732, -0.3926,  0.0237, -0.0714, -0.4356, -0.3294,\n",
      "        -0.4182, -0.3008, -0.1503, -0.2898,  0.3966, -0.1871, -0.0505, -0.5031],\n",
      "       device='cuda:0', grad_fn=<SqueezeBackward1>), y: tensor([-0.2325,  0.0140, -0.1678, -0.2385,  0.0535, -0.1854, -0.2417, -0.2426,\n",
      "        -0.2422, -0.2391, -0.2045, -0.2424, -0.0344, -0.2417, -0.1552, -0.2423],\n",
      "       device='cuda:0')----------\n"
     ]
    },
    {
     "name": "stderr",
     "output_type": "stream",
     "text": [
      "Epoch [11/50]:   0%|                                                                  | 0/9 [00:00<?, ?it/s, loss=0.0474]"
     ]
    },
    {
     "name": "stdout",
     "output_type": "stream",
     "text": [
      "-------predict: tensor([-0.5032, -0.6986, -0.1555, -0.0145,  0.2560, -0.2591, -0.2035, -0.3861,\n",
      "        -0.2215, -0.2058, -0.1005, -0.1432,  0.3490, -0.0270, -0.1146, -0.3478],\n",
      "       device='cuda:0', grad_fn=<SqueezeBackward1>), y: tensor([-0.2393, -0.2412, -0.2403, -0.1065, -0.2412, -0.2269, -0.2308, -0.2313,\n",
      "        -0.1750, -0.0922, -0.0739, -0.2044,  0.0058,  0.1581, -0.1139, -0.2066],\n",
      "       device='cuda:0')----------\n"
     ]
    },
    {
     "name": "stderr",
     "output_type": "stream",
     "text": [
      "Epoch [11/50]:   0%|                                                                   | 0/9 [00:00<?, ?it/s, loss=0.131]"
     ]
    },
    {
     "name": "stdout",
     "output_type": "stream",
     "text": [
      "-------predict: tensor([ 0.1185, -0.3371,  5.2887,  0.4003, -0.1505, -0.0227, -0.2299, -0.1878,\n",
      "         1.0610, -0.1526, -0.1507,  0.5355,  0.2627, -0.2214,  0.2457, -0.0890],\n",
      "       device='cuda:0', grad_fn=<SqueezeBackward1>), y: tensor([ 0.0460, -0.2425,  4.1428, -0.2134, -0.1834, -0.2326, -0.2426, -0.2194,\n",
      "         1.2423, -0.2246, -0.2245,  0.2559, -0.1833, -0.2311,  0.2747, -0.2240],\n",
      "       device='cuda:0')----------\n"
     ]
    },
    {
     "name": "stderr",
     "output_type": "stream",
     "text": [
      "Epoch [11/50]:   0%|                                                                  | 0/9 [00:00<?, ?it/s, loss=0.0161]"
     ]
    },
    {
     "name": "stdout",
     "output_type": "stream",
     "text": [
      "-------predict: tensor([-0.3094, -0.3383, -0.0453, -0.4439,  0.4687, -0.2926, -0.1082, -0.1600,\n",
      "        -0.1290, -0.3365, -0.0992, -0.2776, -0.1208, -0.3214,  0.1658, -0.0690],\n",
      "       device='cuda:0', grad_fn=<SqueezeBackward1>), y: tensor([-0.2282, -0.2375, -0.2273, -0.2398,  0.5884, -0.2400, -0.0042, -0.1932,\n",
      "        -0.2418, -0.2413, -0.2388, -0.2258, -0.1637, -0.2207, -0.0876, -0.1968],\n",
      "       device='cuda:0')----------\n"
     ]
    },
    {
     "name": "stderr",
     "output_type": "stream",
     "text": [
      "Epoch [11/50]: 100%|█████████████████████████████████████████████████████████| 9/9 [00:00<00:00, 101.85it/s, loss=0.0198]\n"
     ]
    },
    {
     "name": "stdout",
     "output_type": "stream",
     "text": [
      "-------predict: tensor([ 0.4529,  7.5935, -0.4890, -0.1276, -0.3406, -0.1528, -0.2353, -0.4057,\n",
      "        -0.4928, -0.3054, -0.2340, -0.2609, -0.1834, -0.1217, -0.4341, -0.2723],\n",
      "       device='cuda:0', grad_fn=<SqueezeBackward1>), y: tensor([ 0.5685,  8.6617, -0.2426, -0.2260, -0.2410, -0.2070, -0.2420, -0.2177,\n",
      "        -0.2388, -0.2336, -0.2297, -0.2411, -0.1642, -0.1998, -0.2261, -0.2216],\n",
      "       device='cuda:0')----------\n",
      "-------predict: tensor([ 0.1542,  0.2364,  1.4083, -0.2762, -0.2231, -0.3223,  0.1279, -0.1865,\n",
      "         0.1179, -0.1652, -0.0747,  0.0662, -0.4015, -0.3859, -0.2013, -0.4567],\n",
      "       device='cuda:0', grad_fn=<SqueezeBackward1>), y: tensor([-1.4000e-03, -3.8568e-02,  1.7431e+00, -2.2456e-01, -2.3984e-01,\n",
      "        -2.2174e-01,  7.5282e-02, -1.4093e-01, -1.5213e-01, -1.9895e-01,\n",
      "        -2.3275e-01, -2.4388e-02, -2.4161e-01, -2.4265e-01, -1.7985e-01,\n",
      "        -2.4146e-01], device='cuda:0')----------\n",
      "-------predict: tensor([-0.1709, -0.2082, -0.3175, -0.2684, -0.1544,  0.0459, -0.3138, -0.2711,\n",
      "        -0.1636, -0.0774, -0.2713, -0.2755, -0.2659,  0.3541,  4.7325, -0.1385],\n",
      "       device='cuda:0', grad_fn=<SqueezeBackward1>), y: tensor([-0.2107, -0.2264, -0.2298, -0.1953, -0.2348, -0.2372, -0.2422, -0.2394,\n",
      "        -0.2021, -0.1517, -0.2413, -0.2024, -0.2244, -0.2099,  6.7906, -0.2420],\n",
      "       device='cuda:0')----------\n",
      "-------predict: tensor([-0.1302, -0.1303, -0.0590, -0.3151,  0.2843, -0.0372, -0.0906,  0.4842,\n",
      "        -0.6045, -0.2583, -0.4703, -0.6742, -0.2675, -0.1030, -0.1052, -0.4191],\n",
      "       device='cuda:0', grad_fn=<SqueezeBackward1>), y: tensor([-0.2102, -0.2296, -0.2229, -0.2297, -0.2408, -0.2286, -0.1680, -0.0928,\n",
      "        -0.2397, -0.2337, -0.2417, -0.2421, -0.2368, -0.2112, -0.2286, -0.2134],\n",
      "       device='cuda:0')----------\n",
      "-------predict: tensor([ 1.9423, -0.1769, -0.0111, -0.1565, -0.2657,  0.0675, -0.0807,  1.1175,\n",
      "        -0.0521, -0.3911, -0.1286, -0.2720, -0.2915], device='cuda:0',\n",
      "       grad_fn=<SqueezeBackward1>), y: tensor([ 2.1945, -0.2340, -0.2333, -0.2249, -0.2427, -0.1515, -0.2062,  1.1126,\n",
      "        -0.2258, -0.2335, -0.1063, -0.1545, -0.2373], device='cuda:0')----------\n",
      "Epoch [11/50]: Train loss: 0.0801, Valid loss: 0.1126\n"
     ]
    },
    {
     "name": "stderr",
     "output_type": "stream",
     "text": [
      "Epoch [12/50]:   0%|                                                                  | 0/9 [00:00<?, ?it/s, loss=0.0138]"
     ]
    },
    {
     "name": "stdout",
     "output_type": "stream",
     "text": [
      "-------predict: tensor([-0.3192, -0.0410, -0.1714, -0.3112, -0.2756, -0.2756, -0.0625,  1.9643,\n",
      "        -0.1814, -0.3290, -0.2858, -0.0225, -0.0591, -0.1176, -0.2312,  1.0545],\n",
      "       device='cuda:0', grad_fn=<SqueezeBackward1>), y: tensor([-0.2298, -0.1678, -0.2246, -0.2410, -0.2426, -0.2024, -0.1854,  2.1945,\n",
      "        -0.2269, -0.2217, -0.2373, -0.2326, -0.1517, -0.2044, -0.1750,  1.2423],\n",
      "       device='cuda:0')----------\n"
     ]
    },
    {
     "name": "stderr",
     "output_type": "stream",
     "text": [
      "Epoch [12/50]:   0%|                                                                   | 0/9 [00:00<?, ?it/s, loss=0.248]"
     ]
    },
    {
     "name": "stdout",
     "output_type": "stream",
     "text": [
      "-------predict: tensor([-0.0744, -0.6409, -0.0523, -0.2553, -0.2043, -0.2173,  4.8913, -0.3591,\n",
      "        -0.0919, -0.2420, -0.1185, -0.0592, -0.2759, -0.3991, -0.0313, -0.0731],\n",
      "       device='cuda:0', grad_fn=<SqueezeBackward1>), y: tensor([-2.0616e-01, -2.4120e-01, -1.5518e-01, -2.3375e-01, -1.7985e-01,\n",
      "        -2.4112e-01,  6.7906e+00, -2.3135e-01, -2.1125e-01, -2.3997e-01,\n",
      "        -4.1539e-03, -2.3275e-01, -2.4241e-01, -2.2611e-01, -2.2580e-01,\n",
      "        -2.2454e-01], device='cuda:0')----------\n"
     ]
    },
    {
     "name": "stderr",
     "output_type": "stream",
     "text": [
      "Epoch [12/50]:   0%|                                                                  | 0/9 [00:00<?, ?it/s, loss=0.0498]"
     ]
    },
    {
     "name": "stdout",
     "output_type": "stream",
     "text": [
      "-------predict: tensor([ 0.0879, -0.2914, -0.3618, -0.2466, -0.1744, -0.3811, -0.1271, -0.1381,\n",
      "         0.2390, -0.1317, -0.2150, -0.2622, -0.3160, -0.4240, -0.3061,  7.9484],\n",
      "       device='cuda:0', grad_fn=<SqueezeBackward1>), y: tensor([ 0.0535, -0.2417, -0.2134, -0.2425, -0.1932, -0.2422, -0.2296, -0.2107,\n",
      "        -0.1833, -0.1063, -0.2385, -0.2244, -0.2375, -0.2388, -0.2297,  8.6617],\n",
      "       device='cuda:0')----------\n"
     ]
    },
    {
     "name": "stderr",
     "output_type": "stream",
     "text": [
      "Epoch [12/50]:   0%|                                                                    | 0/9 [00:00<?, ?it/s, loss=0.11]"
     ]
    },
    {
     "name": "stdout",
     "output_type": "stream",
     "text": [
      "-------predict: tensor([-0.3183, -0.2739, -0.1148, -0.2426, -0.1553, -0.0770,  0.1808, -0.2585,\n",
      "        -0.1958, -0.4734, -0.3487,  0.1646,  0.1239,  1.1492,  5.3569, -0.1736],\n",
      "       device='cuda:0', grad_fn=<SqueezeBackward1>), y: tensor([-0.2282, -0.2207, -0.1990, -0.2427, -0.2311, -0.2229,  0.0140, -0.2413,\n",
      "        -0.2398, -0.2426, -0.2426, -0.0876, -0.1515,  1.1126,  4.1428, -0.2194],\n",
      "       device='cuda:0')----------\n"
     ]
    },
    {
     "name": "stderr",
     "output_type": "stream",
     "text": [
      "Epoch [12/50]: 100%|█████████████████████████████████████████████████████████| 9/9 [00:00<00:00, 104.63it/s, loss=0.0686]\n"
     ]
    },
    {
     "name": "stdout",
     "output_type": "stream",
     "text": [
      "-------predict: tensor([ 0.0339, -0.2816, -0.2555,  0.4972, -0.1404, -0.0929, -0.3402,  0.2997,\n",
      "        -0.0503, -0.1163, -0.2656, -0.1780,  1.4864, -0.2734,  0.3726, -0.0781],\n",
      "       device='cuda:0', grad_fn=<SqueezeBackward1>), y: tensor([-0.2372, -0.2413, -0.2422,  0.5884, -0.2249, -0.1834, -0.2423, -0.0386,\n",
      "        -0.1680, -0.0739, -0.1953, -0.2340,  1.7431, -0.1545, -0.0344, -0.2260],\n",
      "       device='cuda:0')----------\n",
      "-------predict: tensor([-0.4163, -0.1499, -0.4395, -0.2105,  0.1316,  0.3016,  0.0400, -0.1505,\n",
      "        -0.4097,  0.1209, -0.1110, -0.2109, -0.1347, -0.0202, -0.1643, -0.4774],\n",
      "       device='cuda:0', grad_fn=<SqueezeBackward1>), y: tensor([-0.2398, -0.2420, -0.2415, -0.2426, -0.0014,  0.0058,  0.1581, -0.2418,\n",
      "        -0.2416,  0.0460, -0.2286, -0.2325, -0.1998, -0.2333, -0.2021, -0.2417],\n",
      "       device='cuda:0')----------\n",
      "-------predict: tensor([-0.2093, -0.2795, -0.2902, -0.3131, -0.0804,  0.2542,  0.3309, -0.2753,\n",
      "        -0.4909, -0.2026, -0.2374, -0.2352, -0.6141, -0.3509, -0.2328, -0.1866],\n",
      "       device='cuda:0', grad_fn=<SqueezeBackward1>), y: tensor([-0.1642, -0.2216, -0.2258, -0.2336, -0.2240,  0.2747, -0.2099, -0.2368,\n",
      "        -0.2393, -0.2417, -0.2420, -0.2297, -0.2397, -0.2066, -0.2264, -0.2403],\n",
      "       device='cuda:0')----------\n",
      "-------predict: tensor([ 0.0681, -0.2130, -0.0286,  0.4870,  0.3841, -0.0888, -0.2829, -0.1085,\n",
      "        -0.1583, -0.1189, -0.2530,  0.2833, -0.3228, -0.1473, -0.2131, -0.1327],\n",
      "       device='cuda:0', grad_fn=<SqueezeBackward1>), y: tensor([-0.0244, -0.2070, -0.1065,  0.2559, -0.2134, -0.1968, -0.2246, -0.2286,\n",
      "        -0.2045, -0.1139, -0.2308, -0.2408, -0.2394, -0.2102, -0.0922, -0.1637],\n",
      "       device='cuda:0')----------\n",
      "-------predict: tensor([ 0.4369, -0.1859,  0.1219, -0.4073, -0.3853, -0.2935,  0.0261, -0.1535,\n",
      "        -0.6584,  0.2174, -0.2060, -0.1171,  0.5181], device='cuda:0',\n",
      "       grad_fn=<SqueezeBackward1>), y: tensor([ 0.5685, -0.1409,  0.0753, -0.2177, -0.2335, -0.2391, -0.1521, -0.2388,\n",
      "        -0.2421, -0.2412, -0.2348, -0.2273, -0.0928], device='cuda:0')----------\n",
      "Epoch [12/50]: Train loss: 0.0696, Valid loss: 0.0886\n",
      "Saving model with loss 0.089...\n"
     ]
    },
    {
     "name": "stderr",
     "output_type": "stream",
     "text": [
      "Epoch [13/50]:   0%|                                                                   | 0/9 [00:00<?, ?it/s, loss=0.209]"
     ]
    },
    {
     "name": "stdout",
     "output_type": "stream",
     "text": [
      "-------predict: tensor([-0.1795, -0.1402, -0.3760, -0.1067,  0.3680, -0.2646, -0.1757,  0.0227,\n",
      "        -0.3200, -0.0261,  5.0704, -0.1589, -0.1178, -0.3046, -0.2914, -0.5130],\n",
      "       device='cuda:0', grad_fn=<SqueezeBackward1>), y: tensor([-0.1409, -0.1637, -0.2313, -0.2273, -0.0344, -0.2070, -0.1063, -0.1521,\n",
      "        -0.2425, -0.2326,  6.7906, -0.1680, -0.1998, -0.2297, -0.2249, -0.2398],\n",
      "       device='cuda:0')----------\n",
      "-------predict: tensor([-0.1961,  0.9923, -0.3256, -0.2325, -0.4694, -0.1775,  0.0826,  0.1071,\n",
      "        -0.2564, -0.3386,  1.1793, -0.6008,  0.0060, -0.1573,  0.3677, -0.3261],\n",
      "       device='cuda:0', grad_fn=<SqueezeBackward1>), y: tensor([-0.2340,  1.2423, -0.2426, -0.1750, -0.2393, -0.1834,  0.0460, -0.0014,\n",
      "        -0.2337, -0.2413,  1.1126, -0.2421, -0.1515, -0.2269, -0.2134, -0.2282],\n",
      "       device='cuda:0')----------\n"
     ]
    },
    {
     "name": "stderr",
     "output_type": "stream",
     "text": [
      "Epoch [13/50]:   0%|                                                                  | 0/9 [00:00<?, ?it/s, loss=0.0413]"
     ]
    },
    {
     "name": "stdout",
     "output_type": "stream",
     "text": [
      "-------predict: tensor([-0.1082, -0.1631, -0.1611, -0.2349, -0.1131,  1.5105, -0.1557, -0.2985,\n",
      "        -0.4366, -0.2724,  0.0849, -0.3426, -0.4845,  0.0847,  0.1621, -0.3666],\n",
      "       device='cuda:0', grad_fn=<SqueezeBackward1>), y: tensor([-0.1854, -0.2420, -0.2021, -0.2325, -0.0042,  1.7431, -0.2426, -0.2308,\n",
      "        -0.2416, -0.2411,  0.0535, -0.2423, -0.2388, -0.0244, -0.0876, -0.2373],\n",
      "       device='cuda:0')----------\n"
     ]
    },
    {
     "name": "stderr",
     "output_type": "stream",
     "text": [
      "Epoch [13/50]:   0%|                                                                  | 0/9 [00:00<?, ?it/s, loss=0.0183]"
     ]
    },
    {
     "name": "stdout",
     "output_type": "stream",
     "text": [
      "-------predict: tensor([-0.2527, -0.1115,  0.1719, -0.3593, -0.2640, -0.2447, -0.3908, -0.2752,\n",
      "        -0.2410,  0.2718, -0.1972, -0.0673,  0.2689, -0.3059, -0.3641,  0.1423],\n",
      "       device='cuda:0', grad_fn=<SqueezeBackward1>), y: tensor([-0.2368, -0.2102,  0.0140, -0.2415, -0.2246, -0.2207, -0.2426, -0.2024,\n",
      "        -0.2394, -0.2408, -0.2311, -0.1517,  0.0058, -0.2375, -0.2336,  0.1581],\n",
      "       device='cuda:0')----------\n"
     ]
    },
    {
     "name": "stderr",
     "output_type": "stream",
     "text": [
      "Epoch [13/50]:   0%|                                                                  | 0/9 [00:00<?, ?it/s, loss=0.0275]"
     ]
    },
    {
     "name": "stdout",
     "output_type": "stream",
     "text": [
      "-------predict: tensor([-0.3127, -0.0762, -0.3625,  0.2053, -0.2878, -0.2593, -0.3468, -0.3225,\n",
      "        -0.1308, -0.3195, -0.2999, -0.0271,  0.1257, -0.3856, -0.1954, -0.0417],\n",
      "       device='cuda:0', grad_fn=<SqueezeBackward1>), y: tensor([-0.1545, -0.2372, -0.2177, -0.0386, -0.2258, -0.2400, -0.2424, -0.2422,\n",
      "        -0.1139, -0.2426, -0.2298, -0.2286,  0.0753, -0.2335, -0.2297, -0.2062],\n",
      "       device='cuda:0')----------\n"
     ]
    },
    {
     "name": "stderr",
     "output_type": "stream",
     "text": [
      "Epoch [13/50]:   0%|                                                                  | 0/9 [00:00<?, ?it/s, loss=0.0243]"
     ]
    },
    {
     "name": "stdout",
     "output_type": "stream",
     "text": [
      "-------predict: tensor([-0.2263, -0.1101,  2.2126, -0.1895, -0.1704, -0.3470, -0.2609,  0.1753,\n",
      "        -0.1152, -0.2018, -0.0888, -0.1254, -0.1512, -0.5778,  0.0226, -0.3405],\n",
      "       device='cuda:0', grad_fn=<SqueezeBackward1>), y: tensor([-0.2403, -0.2286,  2.1945, -0.1932, -0.2264, -0.2216, -0.2398, -0.2412,\n",
      "        -0.0739, -0.2194, -0.2107, -0.2391, -0.2388, -0.2412, -0.1065, -0.2217],\n",
      "       device='cuda:0')----------\n"
     ]
    },
    {
     "name": "stderr",
     "output_type": "stream",
     "text": [
      "Epoch [13/50]: 100%|███████████████████████████████████████████████████████████| 9/9 [00:00<00:00, 110.95it/s, loss=0.14]\n"
     ]
    },
    {
     "name": "stdout",
     "output_type": "stream",
     "text": [
      "-------predict: tensor([-0.2101, -0.5209,  0.3188, -0.2628, -0.1048, -0.0736, -0.3666, -0.0249,\n",
      "         0.5383, -0.0967,  8.1716, -0.0262, -0.2111,  0.0146, -0.1589, -0.2241],\n",
      "       device='cuda:0', grad_fn=<SqueezeBackward1>), y: tensor([-0.2244, -0.2397,  0.2747, -0.2420, -0.1968, -0.2246, -0.2417, -0.2240,\n",
      "         0.2559, -0.1990,  8.6617, -0.2327, -0.1798, -0.1678, -0.2348, -0.2066],\n",
      "       device='cuda:0')----------\n",
      "-------predict: tensor([-0.1694, -0.0234, -0.3290,  0.0712,  0.0383, -0.2002, -0.0818, -0.2195,\n",
      "        -0.0378,  0.0350, -0.0148, -0.0303, -0.2406,  0.4610, -0.1800, -0.4203],\n",
      "       device='cuda:0', grad_fn=<SqueezeBackward1>), y: tensor([-0.1642, -0.2260, -0.2410, -0.2258, -0.2245, -0.2418, -0.2427, -0.2044,\n",
      "        -0.0922, -0.2333, -0.2385, -0.2112, -0.2417,  0.5884, -0.2417, -0.2261],\n",
      "       device='cuda:0')----------\n",
      "-------predict: tensor([ 0.3887,  0.2017, -0.2713,  5.2129, -0.0820, -0.2521, -0.2475, -0.3701,\n",
      "        -0.1149, -0.0996, -0.0407,  0.2513,  0.5049], device='cuda:0',\n",
      "       grad_fn=<SqueezeBackward1>), y: tensor([-0.0928, -0.1833, -0.2413,  4.1428, -0.2045, -0.2134, -0.1953, -0.2422,\n",
      "        -0.2229, -0.2296, -0.1552, -0.2099,  0.5685], device='cuda:0')----------\n",
      "Epoch [13/50]: Train loss: 0.0601, Valid loss: 0.0919\n"
     ]
    },
    {
     "name": "stderr",
     "output_type": "stream",
     "text": [
      "Epoch [14/50]:   0%|                                                                  | 0/9 [00:00<?, ?it/s, loss=0.0195]"
     ]
    },
    {
     "name": "stdout",
     "output_type": "stream",
     "text": [
      "-------predict: tensor([ 0.4521, -0.2519, -0.5742, -0.3704, -0.1968,  0.1958, -0.3904, -0.3278,\n",
      "        -0.1357, -0.1740,  0.0066, -0.2324, -0.0465, -0.4142, -0.3240, -0.1065],\n",
      "       device='cuda:0', grad_fn=<SqueezeBackward1>), y: tensor([ 0.5884, -0.1953, -0.2412, -0.2422, -0.1932, -0.0014, -0.2335, -0.2282,\n",
      "        -0.2427, -0.2426, -0.2333, -0.2403, -0.1552, -0.2261, -0.2398, -0.2296],\n",
      "       device='cuda:0')----------\n",
      "-------predict: tensor([-0.2427, -0.1348, -0.1000, -0.1415,  0.2344, -0.3546, -0.1935, -0.3265,\n",
      "        -0.3544, -0.1312, -0.3203, -0.1185, -0.2892,  2.0733, -0.2577,  0.0779],\n",
      "       device='cuda:0', grad_fn=<SqueezeBackward1>), y: tensor([-0.1750, -0.2045, -0.1968, -0.0739, -0.2099, -0.2177, -0.2348, -0.2298,\n",
      "        -0.2336, -0.1834, -0.2066, -0.2260, -0.2308,  2.1945, -0.2337,  0.0460],\n",
      "       device='cuda:0')----------\n",
      "-------predict: tensor([-0.1800, -0.2911, -0.1476,  0.2366,  0.1579,  0.0294, -0.0700, -0.3682,\n",
      "        -0.3147,  0.1009, -0.2421, -0.0572,  5.1567, -0.3288, -0.2985, -0.2224],\n",
      "       device='cuda:0', grad_fn=<SqueezeBackward1>), y: tensor([-2.4245e-01, -2.3746e-01, -2.2580e-01,  5.7982e-03,  1.4033e-02,\n",
      "        -2.4388e-02, -2.3724e-01, -2.4173e-01, -2.3942e-01,  1.5810e-01,\n",
      "        -2.3682e-01, -2.0616e-01,  6.7906e+00, -2.2159e-01, -2.2970e-01,\n",
      "        -1.7985e-01], device='cuda:0')----------\n"
     ]
    },
    {
     "name": "stderr",
     "output_type": "stream",
     "text": [
      "Epoch [14/50]:   0%|                                                                   | 0/9 [00:00<?, ?it/s, loss=0.178]"
     ]
    },
    {
     "name": "stdout",
     "output_type": "stream",
     "text": [
      "-------predict: tensor([-0.1675, -0.1402, -0.2874, -0.2562, -0.0705, -0.0509,  0.1559, -0.2107,\n",
      "        -0.2668, -0.2828, -0.2788, -0.1721,  0.0909, -0.3451, -0.2989, -0.2518],\n",
      "       device='cuda:0', grad_fn=<SqueezeBackward1>), y: tensor([-0.1680, -0.2286, -0.2398, -0.2244, -0.1065, -0.2327, -0.2412, -0.1409,\n",
      "        -0.2411, -0.2413, -0.2391, -0.2269,  0.0753, -0.2424, -0.2246, -0.2297],\n",
      "       device='cuda:0')----------\n"
     ]
    },
    {
     "name": "stderr",
     "output_type": "stream",
     "text": [
      "Epoch [14/50]:   0%|                                                                  | 0/9 [00:00<?, ?it/s, loss=0.0145]"
     ]
    },
    {
     "name": "stdout",
     "output_type": "stream",
     "text": [
      "-------predict: tensor([ 0.0398, -0.4446, -0.5807, -0.4809,  0.3078, -0.3397, -0.3301, -0.3808,\n",
      "         0.2439, -0.1268, -0.4971, -0.2568, -0.5212, -0.0665,  4.2749, -0.2020],\n",
      "       device='cuda:0', grad_fn=<SqueezeBackward1>), y: tensor([-0.0386, -0.2373, -0.2421, -0.2426, -0.2134, -0.2413, -0.2024, -0.2207,\n",
      "        -0.2408, -0.2229, -0.2388, -0.1642, -0.2423, -0.1515,  4.1428, -0.2021],\n",
      "       device='cuda:0')----------\n"
     ]
    },
    {
     "name": "stderr",
     "output_type": "stream",
     "text": [
      "Epoch [14/50]:   0%|                                                                  | 0/9 [00:00<?, ?it/s, loss=0.0282]"
     ]
    },
    {
     "name": "stdout",
     "output_type": "stream",
     "text": [
      "-------predict: tensor([-0.1593,  0.0166, -0.3584,  1.4870,  0.1087, -0.3480,  0.3149, -0.2122,\n",
      "        -0.3588, -0.1908, -0.1567, -0.2142, -0.2401, -0.2577, -0.1801,  8.2892],\n",
      "       device='cuda:0', grad_fn=<SqueezeBackward1>), y: tensor([-0.1517, -0.1521, -0.2415,  1.7431, -0.0876, -0.2385, -0.0344, -0.2044,\n",
      "        -0.2217, -0.2273, -0.2420, -0.2246, -0.2070, -0.2420, -0.2388,  8.6617],\n",
      "       device='cuda:0')----------\n",
      "-------predict: tensor([-0.2753,  0.2306, -0.2436, -0.3258, -0.0711,  0.7961, -0.2401, -0.2791,\n",
      "        -0.2241, -0.3217,  0.3758, -0.0419,  0.0452, -0.2321, -0.5061, -0.1601],\n",
      "       device='cuda:0', grad_fn=<SqueezeBackward1>), y: tensor([-0.2249,  0.2747, -0.2264, -0.1545, -0.2112,  1.2423, -0.2426, -0.2325,\n",
      "        -0.2340, -0.2400,  0.5685, -0.1678,  0.0535, -0.2245, -0.2393, -0.2422],\n",
      "       device='cuda:0')----------\n"
     ]
    },
    {
     "name": "stderr",
     "output_type": "stream",
     "text": [
      "Epoch [14/50]: 100%|█████████████████████████████████████████████████████████| 9/9 [00:00<00:00, 106.99it/s, loss=0.0237]\n"
     ]
    },
    {
     "name": "stdout",
     "output_type": "stream",
     "text": [
      "-------predict: tensor([-0.1743, -0.1291,  0.3747, -0.1385, -0.1634, -0.3400, -0.1528, -0.2602,\n",
      "        -0.4741, -0.2113, -0.0391, -0.1693, -0.3100, -0.1881,  0.3834, -0.4151],\n",
      "       device='cuda:0', grad_fn=<SqueezeBackward1>), y: tensor([-0.2102, -0.2194,  0.2559, -0.1637, -0.1854, -0.2313, -0.1063, -0.0922,\n",
      "        -0.2417, -0.2417, -0.2326, -0.2286, -0.2258, -0.2418, -0.0928, -0.2416],\n",
      "       device='cuda:0')----------\n",
      "-------predict: tensor([-0.1794, -0.1269, -0.3322, -0.1798, -0.1391,  1.1220,  0.1658, -0.5296,\n",
      "        -0.1506, -0.3903, -0.0598, -0.1752, -0.1917], device='cuda:0',\n",
      "       grad_fn=<SqueezeBackward1>), y: tensor([-0.2311, -0.1990, -0.2410, -0.1998, -0.1139,  1.1126, -0.1833, -0.2397,\n",
      "        -0.0042, -0.2134, -0.2240, -0.2426, -0.2107], device='cuda:0')----------\n",
      "Epoch [14/50]: Train loss: 0.0443, Valid loss: 0.0807\n",
      "Saving model with loss 0.081...\n"
     ]
    },
    {
     "name": "stderr",
     "output_type": "stream",
     "text": [
      "Epoch [15/50]:   0%|                                                                  | 0/9 [00:00<?, ?it/s, loss=0.0106]"
     ]
    },
    {
     "name": "stdout",
     "output_type": "stream",
     "text": [
      "-------predict: tensor([-0.1063,  1.1070, -0.1644, -0.1568,  0.2769, -0.0324, -0.1556,  0.2324,\n",
      "        -0.2803, -0.2460, -0.1388,  0.1324, -0.0185, -0.0636, -0.0453, -0.1275],\n",
      "       device='cuda:0', grad_fn=<SqueezeBackward1>), y: tensor([-0.2296,  1.1126, -0.2427, -0.2021,  0.2747, -0.2258, -0.2420, -0.2408,\n",
      "        -0.2398, -0.2388, -0.1854, -0.0876, -0.1678, -0.1552, -0.2425, -0.2325],\n",
      "       device='cuda:0')----------\n",
      "-------predict: tensor([-0.1789, -0.1350, -0.0496, -0.1898, -0.2047, -0.1998, -0.1690, -0.0368,\n",
      "        -0.4149, -0.3652, -0.1773, -0.1624,  0.0058, -0.0653, -0.0348, -0.2204],\n",
      "       device='cuda:0', grad_fn=<SqueezeBackward1>), y: tensor([-0.0739, -0.2229, -0.2260, -0.1409, -0.2418, -0.2417, -0.2044, -0.1065,\n",
      "        -0.2393, -0.2217, -0.2246, -0.2426, -0.0244, -0.1517, -0.2327, -0.2394],\n",
      "       device='cuda:0')----------\n",
      "-------predict: tensor([-0.1331,  0.0627, -0.1829,  0.0764,  0.2335, -0.3405, -0.2164, -0.3205,\n",
      "        -0.1218,  0.3150,  0.2665,  8.2138, -0.3030, -0.2204, -0.1239,  4.1632],\n",
      "       device='cuda:0', grad_fn=<SqueezeBackward1>), y: tensor([-0.1063, -0.1515, -0.2373,  0.0753, -0.2134, -0.2282, -0.2340, -0.2410,\n",
      "        -0.2102, -0.0928, -0.0386,  8.6617, -0.1545, -0.1932, -0.2422,  4.1428],\n",
      "       device='cuda:0')----------\n"
     ]
    },
    {
     "name": "stderr",
     "output_type": "stream",
     "text": [
      "Epoch [15/50]:   0%|                                                                   | 0/9 [00:00<?, ?it/s, loss=0.176]"
     ]
    },
    {
     "name": "stdout",
     "output_type": "stream",
     "text": [
      "-------predict: tensor([-0.2329, -0.0997,  0.1071, -0.2239,  0.4376, -0.2277,  0.1078, -0.2976,\n",
      "         5.1826, -0.2120,  0.1031, -0.0412, -0.0471, -0.3203, -0.1205, -0.2399],\n",
      "       device='cuda:0', grad_fn=<SqueezeBackward1>), y: tensor([-0.2244, -0.2385,  0.0140, -0.2415,  0.5685, -0.2368, -0.2412, -0.2066,\n",
      "         6.7906, -0.2207,  0.0535, -0.1680, -0.2112, -0.2422, -0.1968, -0.2420],\n",
      "       device='cuda:0')----------\n",
      "-------predict: tensor([-0.1973, -0.1406, -0.2561, -0.3465, -0.3328,  2.0914, -0.3076,  0.1873,\n",
      "        -0.1468, -0.1453,  0.1703, -0.1815, -0.3320, -0.0421, -0.3932, -0.2487],\n",
      "       device='cuda:0', grad_fn=<SqueezeBackward1>), y: tensor([-0.2423, -0.2107, -0.1953, -0.2424, -0.2177,  2.1945, -0.2308,  0.1581,\n",
      "        -0.0922, -0.0042, -0.1521, -0.2348, -0.2313, -0.2326, -0.2417, -0.2398],\n",
      "       device='cuda:0')----------\n"
     ]
    },
    {
     "name": "stderr",
     "output_type": "stream",
     "text": [
      "Epoch [15/50]:   0%|                                                                  | 0/9 [00:00<?, ?it/s, loss=0.0159]"
     ]
    },
    {
     "name": "stdout",
     "output_type": "stream",
     "text": [
      "-------predict: tensor([-0.2860, -0.2951, -0.1952,  0.4222, -0.1186, -0.1641, -0.4366, -0.3038,\n",
      "        -0.2826, -0.1667, -0.3781, -0.2339, -0.0563,  0.2819, -0.2643, -0.2231],\n",
      "       device='cuda:0', grad_fn=<SqueezeBackward1>), y: tensor([-0.2297, -0.2024, -0.2297,  0.5884, -0.2045, -0.1637, -0.2416, -0.2258,\n",
      "        -0.2375, -0.2286, -0.2336, -0.1798, -0.2240, -0.0344, -0.2417, -0.1642],\n",
      "       device='cuda:0')----------\n"
     ]
    },
    {
     "name": "stderr",
     "output_type": "stream",
     "text": [
      "Epoch [15/50]:   0%|                                                                  | 0/9 [00:00<?, ?it/s, loss=0.0267]"
     ]
    },
    {
     "name": "stdout",
     "output_type": "stream",
     "text": [
      "-------predict: tensor([-0.3941, -0.2241, -0.1360, -0.5515, -0.2848, -0.2916, -0.3260,  1.4897,\n",
      "        -0.2759, -0.3854, -0.5196, -0.1671, -0.1202,  0.1395, -0.1193, -0.1847],\n",
      "       device='cuda:0', grad_fn=<SqueezeBackward1>), y: tensor([-0.2335, -0.2388, -0.1139, -0.2412, -0.2400, -0.2413, -0.2298,  1.7431,\n",
      "        -0.2246, -0.2421, -0.2397, -0.2249, -0.1834, -0.1833, -0.2269, -0.2311],\n",
      "       device='cuda:0')----------\n"
     ]
    },
    {
     "name": "stderr",
     "output_type": "stream",
     "text": [
      "Epoch [15/50]:   0%|                                                                  | 0/9 [00:00<?, ?it/s, loss=0.0172]"
     ]
    },
    {
     "name": "stdout",
     "output_type": "stream",
     "text": [
      "-------predict: tensor([-0.3153, -0.0637,  0.1632, -0.4160, -0.0593, -0.2551, -0.1416, -0.2425,\n",
      "        -0.3494, -0.1617, -0.1008,  1.0000, -0.3934, -0.2901,  0.4161, -0.1812],\n",
      "       device='cuda:0', grad_fn=<SqueezeBackward1>), y: tensor([-0.2134, -0.2273,  0.0058, -0.2261, -0.2062, -0.2337, -0.1990, -0.2411,\n",
      "        -0.2426, -0.2372, -0.2286,  1.2423, -0.2216, -0.2403,  0.2559, -0.2194],\n",
      "       device='cuda:0')----------\n"
     ]
    },
    {
     "name": "stderr",
     "output_type": "stream",
     "text": [
      "Epoch [15/50]: 100%|█████████████████████████████████████████████████████████| 9/9 [00:00<00:00, 116.21it/s, loss=0.0155]"
     ]
    },
    {
     "name": "stdout",
     "output_type": "stream",
     "text": [
      "-------predict: tensor([-0.0142, -0.2347, -0.2100, -0.3224, -0.1203, -0.2468,  0.1166, -0.1979,\n",
      "        -0.2536,  0.1130, -0.1592,  0.0579, -0.1696], device='cuda:0',\n",
      "       grad_fn=<SqueezeBackward1>), y: tensor([-0.2333, -0.2070, -0.2264, -0.2413, -0.2245, -0.1750, -0.2099, -0.2391,\n",
      "        -0.2426, -0.0014, -0.2426,  0.0460, -0.1998], device='cuda:0')----------\n"
     ]
    },
    {
     "name": "stderr",
     "output_type": "stream",
     "text": [
      "\n"
     ]
    },
    {
     "name": "stdout",
     "output_type": "stream",
     "text": [
      "Epoch [15/50]: Train loss: 0.0392, Valid loss: 0.0668\n",
      "Saving model with loss 0.067...\n"
     ]
    },
    {
     "name": "stderr",
     "output_type": "stream",
     "text": [
      "Epoch [16/50]:   0%|                                                                   | 0/9 [00:00<?, ?it/s, loss=0.037]"
     ]
    },
    {
     "name": "stdout",
     "output_type": "stream",
     "text": [
      "-------predict: tensor([-0.2561, -0.4266,  0.1849, -0.1538, -0.2138, -0.2273,  1.1452, -0.0460,\n",
      "        -0.3252, -0.0645, -0.2981, -0.3897, -0.2948, -0.2647, -0.1498, -0.2186],\n",
      "       device='cuda:0', grad_fn=<SqueezeBackward1>), y: tensor([-0.2388, -0.2261,  0.1581, -0.2102, -0.2391, -0.2418,  1.1126, -0.2327,\n",
      "        -0.2373, -0.2062, -0.2417, -0.2410, -0.2375, -0.2426, -0.1409, -0.2264],\n",
      "       device='cuda:0')----------\n",
      "-------predict: tensor([ 0.0787, -0.2168, -0.1627, -0.1316, -0.1876, -0.3809,  0.3519, -0.3596,\n",
      "         0.1285, -0.2139, -0.2537, -0.3087,  0.2036, -0.0474, -0.3877, -0.0978],\n",
      "       device='cuda:0', grad_fn=<SqueezeBackward1>), y: tensor([-0.0014, -0.1932, -0.2269, -0.1139, -0.2194, -0.2426, -0.0928, -0.2217,\n",
      "        -0.1833, -0.2427, -0.2368, -0.2415, -0.2408, -0.1678, -0.2335, -0.1680],\n",
      "       device='cuda:0')----------\n"
     ]
    },
    {
     "name": "stderr",
     "output_type": "stream",
     "text": [
      "Epoch [16/50]:   0%|                                                                   | 0/9 [00:00<?, ?it/s, loss=0.126]"
     ]
    },
    {
     "name": "stdout",
     "output_type": "stream",
     "text": [
      "-------predict: tensor([ 0.0608, -0.2764,  0.0568, -0.3420, -0.3304,  0.0666, -0.1446, -0.3657,\n",
      "        -0.2563, -0.2150,  8.5262, -0.1588, -0.1757,  0.1446, -0.1922, -0.1313],\n",
      "       device='cuda:0', grad_fn=<SqueezeBackward1>), y: tensor([-3.8568e-02, -2.2456e-01,  4.6002e-02, -2.2819e-01, -2.2980e-01,\n",
      "        -8.7592e-02, -1.8343e-01, -2.3135e-01, -1.9530e-01, -2.3475e-01,\n",
      "         8.6617e+00, -9.2175e-02, -2.3724e-01,  5.7982e-03, -2.0449e-01,\n",
      "        -2.2455e-01], device='cuda:0')----------\n",
      "-------predict: tensor([-0.3005, -0.3479, -0.1465,  0.0365, -0.2312,  1.5293,  0.9961,  5.4499,\n",
      "        -0.1271, -0.2490, -0.1330, -0.4187, -0.1034, -0.2072, -0.0772, -0.1635],\n",
      "       device='cuda:0', grad_fn=<SqueezeBackward1>), y: tensor([-2.0439e-01, -2.1336e-01, -2.2859e-01, -2.4388e-02, -2.4215e-01,\n",
      "         1.7431e+00,  1.2423e+00,  6.7906e+00, -2.2727e-01, -1.7501e-01,\n",
      "        -4.1539e-03, -2.3976e-01, -2.1125e-01, -2.2295e-01, -1.0647e-01,\n",
      "        -2.0208e-01], device='cuda:0')----------\n",
      "-------predict: tensor([-0.4065, -0.3979, -0.2684, -0.3134, -0.3052, -0.1376, -0.3466, -0.2497,\n",
      "        -0.2558, -0.3417, -0.1008, -0.2544, -0.4632,  0.1919, -0.5639,  0.4368],\n",
      "       device='cuda:0', grad_fn=<SqueezeBackward1>), y: tensor([-0.2336, -0.2424, -0.2070, -0.2413, -0.2258, -0.2107, -0.2177, -0.2207,\n",
      "        -0.2411, -0.2417, -0.1552, -0.2337, -0.2421, -0.2134, -0.2412,  0.5884],\n",
      "       device='cuda:0')----------\n"
     ]
    },
    {
     "name": "stderr",
     "output_type": "stream",
     "text": [
      "Epoch [16/50]:   0%|                                                                  | 0/9 [00:00<?, ?it/s, loss=0.0279]"
     ]
    },
    {
     "name": "stdout",
     "output_type": "stream",
     "text": [
      "-------predict: tensor([ 4.8941, -0.1900, -0.1741, -0.2350, -0.2913, -0.3019, -0.2177, -0.3012,\n",
      "         0.0543, -0.1840, -0.1717, -0.1160, -0.2849,  0.0251, -0.2776,  0.0752],\n",
      "       device='cuda:0', grad_fn=<SqueezeBackward1>), y: tensor([ 4.1428, -0.2286, -0.1637, -0.1798, -0.2400, -0.2244, -0.2426, -0.2066,\n",
      "        -0.2412, -0.2311, -0.2385, -0.2245, -0.2297,  0.0753, -0.2413, -0.2099],\n",
      "       device='cuda:0')----------\n"
     ]
    },
    {
     "name": "stderr",
     "output_type": "stream",
     "text": [
      "Epoch [16/50]:   0%|                                                                  | 0/9 [00:00<?, ?it/s, loss=0.0488]"
     ]
    },
    {
     "name": "stdout",
     "output_type": "stream",
     "text": [
      "-------predict: tensor([-0.1247, -0.1650, -0.0700, -0.2721, -0.2731,  0.1028, -0.4382, -0.1912,\n",
      "        -0.1095, -0.1422, -0.0100, -0.1616, -0.1613, -0.3244, -0.4194, -0.0427],\n",
      "       device='cuda:0', grad_fn=<SqueezeBackward1>), y: tensor([-0.1063, -0.2325, -0.1517, -0.2420, -0.2426,  0.0140, -0.2416, -0.2297,\n",
      "        -0.1990, -0.0739, -0.2333, -0.1968, -0.1854, -0.2308, -0.2417, -0.2240],\n",
      "       device='cuda:0')----------\n"
     ]
    },
    {
     "name": "stderr",
     "output_type": "stream",
     "text": [
      "Epoch [16/50]:   0%|                                                                  | 0/9 [00:00<?, ?it/s, loss=0.0221]"
     ]
    },
    {
     "name": "stdout",
     "output_type": "stream",
     "text": [
      "-------predict: tensor([-0.1103, -0.2645, -0.0802,  0.0742,  2.1280,  0.1420, -0.2591,  0.4677,\n",
      "        -0.3021, -0.1771, -0.2804, -0.5170, -0.1602, -0.1952, -0.0448, -0.1879],\n",
      "       device='cuda:0', grad_fn=<SqueezeBackward1>), y: tensor([-0.2260, -0.2403, -0.2425, -0.1515,  2.1945, -0.1521, -0.2388,  0.2559,\n",
      "        -0.2423, -0.2249, -0.2394, -0.2397, -0.2296, -0.2420, -0.2326, -0.1998],\n",
      "       device='cuda:0')----------\n"
     ]
    },
    {
     "name": "stderr",
     "output_type": "stream",
     "text": [
      "Epoch [16/50]: 100%|█████████████████████████████████████████████████████████| 9/9 [00:00<00:00, 111.34it/s, loss=0.0192]"
     ]
    },
    {
     "name": "stdout",
     "output_type": "stream",
     "text": [
      "-------predict: tensor([ 0.3146,  0.1113, -0.3463,  0.4065, -0.2486, -0.2481,  0.2489, -0.3491,\n",
      "        -0.4376, -0.2613, -0.3260, -0.3176, -0.0920], device='cuda:0',\n",
      "       grad_fn=<SqueezeBackward1>), y: tensor([ 0.2747,  0.0535, -0.2216,  0.5685, -0.1642, -0.2340, -0.0344, -0.1545,\n",
      "        -0.2393, -0.2398, -0.2422, -0.2024, -0.2258], device='cuda:0')----------\n"
     ]
    },
    {
     "name": "stderr",
     "output_type": "stream",
     "text": [
      "\n"
     ]
    },
    {
     "name": "stdout",
     "output_type": "stream",
     "text": [
      "Epoch [16/50]: Train loss: 0.0346, Valid loss: 0.0637\n",
      "Saving model with loss 0.064...\n"
     ]
    },
    {
     "name": "stderr",
     "output_type": "stream",
     "text": [
      "Epoch [17/50]:   0%|                                                                  | 0/9 [00:00<?, ?it/s, loss=0.0165]"
     ]
    },
    {
     "name": "stdout",
     "output_type": "stream",
     "text": [
      "-------predict: tensor([-0.3305,  1.5438,  0.4476, -0.0892,  0.0700, -0.2023, -0.0246,  4.6635,\n",
      "         0.1087, -0.1861, -0.1762, -0.0468, -0.2497, -0.0548, -0.2713, -0.3264],\n",
      "       device='cuda:0', grad_fn=<SqueezeBackward1>), y: tensor([-0.2417,  1.7431,  0.2559, -0.1680,  0.0460, -0.2286, -0.2333,  4.1428,\n",
      "        -0.1833, -0.2426, -0.1854, -0.1678, -0.2368, -0.2240, -0.2403, -0.2373],\n",
      "       device='cuda:0')----------\n",
      "-------predict: tensor([-0.0486,  0.1305, -0.2170,  0.0146,  0.0744, -0.1297,  0.0522, -0.2324,\n",
      "        -0.2513, -0.2383, -0.1058, -0.1788, -0.4295,  0.3827, -0.0495, -0.2406],\n",
      "       device='cuda:0', grad_fn=<SqueezeBackward1>), y: tensor([-0.2327,  0.1581, -0.2297,  0.0753, -0.1521, -0.1063, -0.2099, -0.2269,\n",
      "        -0.2340, -0.2418, -0.1065, -0.2107, -0.2416,  0.5685, -0.2326, -0.2411],\n",
      "       device='cuda:0')----------\n"
     ]
    },
    {
     "name": "stderr",
     "output_type": "stream",
     "text": [
      "Epoch [17/50]:   0%|                                                                   | 0/9 [00:00<?, ?it/s, loss=0.151]"
     ]
    },
    {
     "name": "stdout",
     "output_type": "stream",
     "text": [
      "-------predict: tensor([-0.2904, -0.3357,  0.3358, -0.1210, -0.0823, -0.2964, -0.2541, -0.1626,\n",
      "        -0.1398, -0.3712, -0.3780, -0.3351, -0.4675, -0.5370, -0.2749, -0.3260],\n",
      "       device='cuda:0', grad_fn=<SqueezeBackward1>), y: tensor([-0.2426, -0.2024, -0.0928, -0.2422, -0.2062, -0.2297, -0.2417, -0.0739,\n",
      "        -0.1517, -0.2313, -0.2066, -0.2177, -0.2426, -0.2397, -0.2420, -0.2207],\n",
      "       device='cuda:0')----------\n",
      "-------predict: tensor([-0.2698, -0.3669, -0.4755, -0.1817,  0.2453, -0.4465, -0.3018, -0.3665,\n",
      "        -0.2858, -0.3518, -0.2929, -0.1090, -0.2811, -0.1836, -0.1046, -0.0902],\n",
      "       device='cuda:0', grad_fn=<SqueezeBackward1>), y: tensor([-0.1642, -0.2261, -0.2393, -0.2045, -0.0344, -0.2423, -0.2426, -0.2217,\n",
      "        -0.2249, -0.1545, -0.2398, -0.1552, -0.2391, -0.2260, -0.2112, -0.2425],\n",
      "       device='cuda:0')----------\n",
      "-------predict: tensor([-0.4708, -0.2102, -0.3474, -0.1280,  8.6448, -0.2643,  0.1857, -0.5515,\n",
      "        -0.1742,  0.1749, -0.3170,  2.0242, -0.2649, -0.3632, -0.2411,  5.4298],\n",
      "       device='cuda:0', grad_fn=<SqueezeBackward1>), y: tensor([-0.2417, -0.2273, -0.2394, -0.1139,  8.6617, -0.1953, -0.2408, -0.2412,\n",
      "        -0.1998, -0.2134, -0.2413,  2.1945, -0.2044, -0.2388, -0.1798,  6.7906],\n",
      "       device='cuda:0')----------\n"
     ]
    },
    {
     "name": "stderr",
     "output_type": "stream",
     "text": [
      "Epoch [17/50]:   0%|                                                                  | 0/9 [00:00<?, ?it/s, loss=0.0148]"
     ]
    },
    {
     "name": "stdout",
     "output_type": "stream",
     "text": [
      "-------predict: tensor([-0.1486, -0.3328, -0.2185, -0.2771, -0.2590,  0.4280, -0.2811, -0.2269,\n",
      "        -0.1868, -0.3727,  0.2796,  0.0422,  0.0874, -0.2266,  0.0471, -0.2112],\n",
      "       device='cuda:0', grad_fn=<SqueezeBackward1>), y: tensor([-0.1990, -0.2308, -0.2348, -0.2415, -0.2337,  0.5884, -0.2244, -0.2325,\n",
      "        -0.2102, -0.2424,  0.2747, -0.0876,  0.0535, -0.1932, -0.2412, -0.2311],\n",
      "       device='cuda:0')----------\n",
      "-------predict: tensor([-0.1284, -0.1436, -0.3661,  0.0936, -0.3867,  0.1298, -0.2729, -0.3459,\n",
      "        -0.1539,  0.9124, -0.2588, -0.1973,  0.1171,  0.0499, -0.1636, -0.1668],\n",
      "       device='cuda:0', grad_fn=<SqueezeBackward1>), y: tensor([-0.2286, -0.2296, -0.2216,  0.0140, -0.2421,  0.0058, -0.2375, -0.2282,\n",
      "        -0.1637,  1.2423, -0.2413, -0.2070, -0.0386, -0.0014, -0.2021, -0.2246],\n",
      "       device='cuda:0')----------\n"
     ]
    },
    {
     "name": "stderr",
     "output_type": "stream",
     "text": [
      "\r",
      "Epoch [17/50]:   0%|                                                                  | 0/9 [00:00<?, ?it/s, loss=0.0148]"
     ]
    },
    {
     "name": "stdout",
     "output_type": "stream",
     "text": [
      "-------predict: tensor([-0.1854, -0.3037, -0.1784, -0.1359,  0.0084, -0.2794, -0.0633, -0.3513,\n",
      "        -0.3100, -0.1598, -0.2782, -0.0974, -0.1451,  0.0368, -0.3341, -0.1908],\n",
      "       device='cuda:0', grad_fn=<SqueezeBackward1>), y: tensor([-0.2264, -0.2134, -0.2420, -0.1968, -0.0244, -0.2246, -0.2258, -0.2410,\n",
      "        -0.2422, -0.0922, -0.2400, -0.2245, -0.0042, -0.1515, -0.2298, -0.2229],\n",
      "       device='cuda:0')----------\n"
     ]
    },
    {
     "name": "stderr",
     "output_type": "stream",
     "text": [
      "Epoch [17/50]:   0%|                                                                 | 0/9 [00:00<?, ?it/s, loss=0.00834]"
     ]
    },
    {
     "name": "stdout",
     "output_type": "stream",
     "text": [
      "-------predict: tensor([-0.3915, -0.1512, -0.1807,  1.1189, -0.0880, -0.2406, -0.2492, -0.0962,\n",
      "        -0.1435, -0.3024, -0.3902, -0.2740, -0.1646], device='cuda:0',\n",
      "       grad_fn=<SqueezeBackward1>), y: tensor([-0.2335, -0.1409, -0.2372,  1.1126, -0.2385, -0.2388, -0.1750, -0.1834,\n",
      "        -0.2427, -0.2258, -0.2336, -0.2398, -0.2194], device='cuda:0')----------\n"
     ]
    },
    {
     "name": "stderr",
     "output_type": "stream",
     "text": [
      "Epoch [17/50]: 100%|████████████████████████████████████████████████████████| 9/9 [00:00<00:00, 111.64it/s, loss=0.00834]\n"
     ]
    },
    {
     "name": "stdout",
     "output_type": "stream",
     "text": [
      "Epoch [17/50]: Train loss: 0.0325, Valid loss: 0.0763\n"
     ]
    },
    {
     "name": "stderr",
     "output_type": "stream",
     "text": [
      "Epoch [18/50]:   0%|                                                                  | 0/9 [00:00<?, ?it/s, loss=0.0278]"
     ]
    },
    {
     "name": "stdout",
     "output_type": "stream",
     "text": [
      "-------predict: tensor([-0.0600,  0.2404, -0.3449,  1.0078, -0.3697, -0.2628, -0.1115, -0.2403,\n",
      "        -0.4005, -0.2292, -0.4707, -0.0542, -0.1595,  0.2613, -0.1081, -0.3667],\n",
      "       device='cuda:0', grad_fn=<SqueezeBackward1>), y: tensor([-0.1065, -0.0344, -0.2308,  1.2423, -0.2417, -0.2413, -0.2249, -0.2340,\n",
      "        -0.2416, -0.2417, -0.2397, -0.2326, -0.2311, -0.0928, -0.2045, -0.2261],\n",
      "       device='cuda:0')----------\n"
     ]
    },
    {
     "name": "stderr",
     "output_type": "stream",
     "text": [
      "Epoch [18/50]:   0%|                                                                  | 0/9 [00:00<?, ?it/s, loss=0.0172]"
     ]
    },
    {
     "name": "stdout",
     "output_type": "stream",
     "text": [
      "-------predict: tensor([-0.3174,  0.1832, -0.1062, -0.2769,  0.0315,  0.1261, -0.1585, -0.1259,\n",
      "        -0.1221,  0.0973,  0.1885,  0.0604, -0.1210, -0.4677,  0.0235, -0.1116],\n",
      "       device='cuda:0', grad_fn=<SqueezeBackward1>), y: tensor([-0.2298, -0.2408, -0.0922, -0.2297, -0.2412, -0.2134, -0.2207, -0.1063,\n",
      "        -0.2296, -0.1833, -0.1521,  0.0460, -0.2422, -0.2412, -0.0244, -0.2423],\n",
      "       device='cuda:0')----------\n",
      "-------predict: tensor([-0.2290, -0.0731, -0.2851, -0.1277, -0.0336,  8.5610,  1.5027, -0.1988,\n",
      "        -0.2449, -0.0184, -0.2299,  0.1567,  0.1722, -0.2558, -0.2763, -0.1412],\n",
      "       device='cuda:0', grad_fn=<SqueezeBackward1>), y: tensor([-2.3976e-01, -2.2859e-01, -2.0241e-01, -2.1021e-01, -2.0616e-01,\n",
      "         8.6617e+00,  1.7431e+00, -1.9977e-01, -1.7501e-01, -2.2727e-01,\n",
      "        -2.2436e-01, -1.4000e-03, -3.8568e-02, -2.0656e-01, -2.4165e-01,\n",
      "        -4.1539e-03], device='cuda:0')----------\n"
     ]
    },
    {
     "name": "stderr",
     "output_type": "stream",
     "text": [
      "Epoch [18/50]:   0%|                                                                  | 0/9 [00:00<?, ?it/s, loss=0.0139]"
     ]
    },
    {
     "name": "stdout",
     "output_type": "stream",
     "text": [
      "-------predict: tensor([-0.2568, -0.0625, -0.2466, -0.0686, -0.1921, -0.3625, -0.2233,  0.0601,\n",
      "        -0.0404, -0.3970, -0.2931, -0.0461, -0.1756, -0.0699, -0.4220, -0.1439],\n",
      "       device='cuda:0', grad_fn=<SqueezeBackward1>), y: tensor([-0.2426, -0.2240, -0.2388, -0.2245, -0.2070, -0.2217, -0.2372, -0.1515,\n",
      "        -0.2258, -0.2424, -0.2398, -0.2112, -0.1854, -0.1517, -0.2336, -0.1968],\n",
      "       device='cuda:0')----------\n",
      "-------predict: tensor([ 0.0779,  0.0020, -0.3778, -0.4379, -0.0294, -0.2014, -0.2269, -0.3298,\n",
      "        -0.1571, -0.2879,  0.2948, -0.1891, -0.2373, -0.0271, -0.3357, -0.2242],\n",
      "       device='cuda:0', grad_fn=<SqueezeBackward1>), y: tensor([ 0.0140, -0.2099, -0.2335, -0.2216, -0.2333, -0.2391, -0.1932, -0.2044,\n",
      "        -0.2425, -0.2373,  0.2747, -0.2420, -0.1798, -0.1678, -0.2403, -0.2368],\n",
      "       device='cuda:0')----------\n"
     ]
    },
    {
     "name": "stderr",
     "output_type": "stream",
     "text": [
      "Epoch [18/50]:   0%|                                                                 | 0/9 [00:00<?, ?it/s, loss=0.00673]"
     ]
    },
    {
     "name": "stdout",
     "output_type": "stream",
     "text": [
      "-------predict: tensor([-0.2371, -0.2650, -0.1419,  5.5045, -0.2338, -0.1566, -0.3762, -0.1161,\n",
      "         2.1477, -0.1623, -0.4028, -0.2873, -0.3521,  4.1141, -0.2835,  0.1071],\n",
      "       device='cuda:0', grad_fn=<SqueezeBackward1>), y: tensor([-0.2264, -0.2246, -0.2107,  6.7906, -0.1642, -0.2385, -0.2393, -0.1680,\n",
      "         2.1945, -0.2427, -0.2410, -0.2426, -0.1545,  4.1428, -0.2394,  0.0535],\n",
      "       device='cuda:0')----------\n",
      "-------predict: tensor([ 0.3662, -0.1892, -0.2653,  0.2094, -0.3619, -0.3395,  0.0223, -0.1811,\n",
      "        -0.2571, -0.2606, -0.3591, -0.2754, -0.2629, -0.2518, -0.1569, -0.1795],\n",
      "       device='cuda:0', grad_fn=<SqueezeBackward1>), y: tensor([ 0.5685, -0.2260, -0.2297,  0.1581, -0.2400, -0.2282, -0.0876, -0.1990,\n",
      "        -0.2418, -0.2325, -0.2421, -0.2375, -0.2415, -0.2348, -0.2269, -0.1834],\n",
      "       device='cuda:0')----------\n",
      "-------predict: tensor([-0.1977, -0.2216, -0.3038,  0.0067, -0.3615, -0.1479, -0.2943, -0.1215,\n",
      "        -0.2460, -0.3512, -0.2125, -0.2506, -0.1051, -0.1430, -0.1289, -0.3458],\n",
      "       device='cuda:0', grad_fn=<SqueezeBackward1>), y: tensor([-0.2194, -0.2229, -0.2258,  0.0753, -0.2422, -0.1409, -0.2411, -0.1139,\n",
      "        -0.2426, -0.2420, -0.2286, -0.1953, -0.1552, -0.0739, -0.2246, -0.2313],\n",
      "       device='cuda:0')----------\n"
     ]
    },
    {
     "name": "stderr",
     "output_type": "stream",
     "text": [
      "Epoch [18/50]:   0%|                                                                 | 0/9 [00:00<?, ?it/s, loss=0.00458]"
     ]
    },
    {
     "name": "stdout",
     "output_type": "stream",
     "text": [
      "-------predict: tensor([ 0.4197,  0.3945, -0.0584, -0.3675, -0.1786, -0.3582,  1.1700, -0.3212,\n",
      "        -0.2512, -0.3202, -0.1643,  0.0976, -0.1774], device='cuda:0',\n",
      "       grad_fn=<SqueezeBackward1>), y: tensor([ 0.5884,  0.2559, -0.2327, -0.2134, -0.2426, -0.2388,  1.1126, -0.2413,\n",
      "        -0.2337, -0.2177, -0.1637,  0.0058, -0.2021], device='cuda:0')----------\n"
     ]
    },
    {
     "name": "stderr",
     "output_type": "stream",
     "text": [
      "Epoch [18/50]: 100%|█████████████████████████████████████████████████████████| 9/9 [00:00<00:00, 111.39it/s, loss=0.0115]\n"
     ]
    },
    {
     "name": "stdout",
     "output_type": "stream",
     "text": [
      "Epoch [18/50]: Train loss: 0.0278, Valid loss: 0.0466\n",
      "Saving model with loss 0.047...\n"
     ]
    },
    {
     "name": "stderr",
     "output_type": "stream",
     "text": [
      "Epoch [19/50]:   0%|                                                                  | 0/9 [00:00<?, ?it/s, loss=0.0169]"
     ]
    },
    {
     "name": "stdout",
     "output_type": "stream",
     "text": [
      "-------predict: tensor([-4.2796e-01, -2.2958e-04, -2.5924e-01, -2.6311e-01,  1.6780e-01,\n",
      "         1.1759e+00, -1.0981e-01, -9.3356e-02, -2.1115e-01, -3.3659e-01,\n",
      "        -2.4174e-01, -3.4887e-01, -1.6535e-01, -2.6457e-01, -2.0975e-01,\n",
      "        -1.2433e-01], device='cuda:0', grad_fn=<SqueezeBackward1>), y: tensor([-0.2416, -0.0876, -0.2264, -0.2385, -0.2408,  1.1126, -0.1552, -0.2112,\n",
      "        -0.0922, -0.2420, -0.2427, -0.2422, -0.2296, -0.2340, -0.2269, -0.1065],\n",
      "       device='cuda:0')----------\n"
     ]
    },
    {
     "name": "stderr",
     "output_type": "stream",
     "text": [
      "Epoch [19/50]:   0%|                                                                   | 0/9 [00:00<?, ?it/s, loss=0.101]"
     ]
    },
    {
     "name": "stdout",
     "output_type": "stream",
     "text": [
      "-------predict: tensor([-0.1442, -0.4151,  0.1148, -0.2208,  4.3737,  0.2829, -0.4213,  0.4076,\n",
      "        -0.2428,  5.6494,  0.0063, -0.2562, -0.2489, -0.1745, -0.1331, -0.2199],\n",
      "       device='cuda:0', grad_fn=<SqueezeBackward1>), y: tensor([-7.3864e-02, -2.3734e-01, -2.1341e-01, -2.2860e-01,  4.1428e+00,\n",
      "         2.7475e-01, -2.3362e-01,  2.5595e-01, -2.3682e-01,  6.7906e+00,\n",
      "        -1.5213e-01, -1.6417e-01, -1.7501e-01, -2.1066e-01, -4.1539e-03,\n",
      "        -2.2859e-01], device='cuda:0')----------\n"
     ]
    },
    {
     "name": "stderr",
     "output_type": "stream",
     "text": [
      "Epoch [19/50]:   0%|                                                                  | 0/9 [00:00<?, ?it/s, loss=0.0292]"
     ]
    },
    {
     "name": "stdout",
     "output_type": "stream",
     "text": [
      "-------predict: tensor([-0.2206, -0.2373, -0.1919,  0.3532, -0.3043,  0.0955, -0.2177, -0.3335,\n",
      "        -0.0582, -0.2803, -0.2827, -0.2355, -0.3617, -0.4562, -0.3537, -0.1055],\n",
      "       device='cuda:0', grad_fn=<SqueezeBackward1>), y: tensor([-0.2229, -0.2348, -0.2260,  0.5685, -0.2177,  0.0140, -0.1854, -0.2388,\n",
      "        -0.2326, -0.2375, -0.2391, -0.1798, -0.2261, -0.2398, -0.2313, -0.2240],\n",
      "       device='cuda:0')----------\n",
      "-------predict: tensor([-0.2634, -0.1186, -0.1192, -0.0137,  0.2189,  0.9231, -0.2407, -0.0306,\n",
      "        -0.1394,  8.9723, -0.3258, -0.1747, -0.4898, -0.3818, -0.4468,  0.0650],\n",
      "       device='cuda:0', grad_fn=<SqueezeBackward1>), y: tensor([-0.2418, -0.1063, -0.1680, -0.0244, -0.0344,  1.2423, -0.2325, -0.2425,\n",
      "        -0.1990,  8.6617, -0.2308, -0.2021, -0.2397, -0.2134, -0.2421, -0.0386],\n",
      "       device='cuda:0')----------\n"
     ]
    },
    {
     "name": "stderr",
     "output_type": "stream",
     "text": [
      "Epoch [19/50]:   0%|                                                                 | 0/9 [00:00<?, ?it/s, loss=0.00648]"
     ]
    },
    {
     "name": "stdout",
     "output_type": "stream",
     "text": [
      "-------predict: tensor([-0.3612, -0.1448, -0.1901, -0.1994, -0.2811, -0.0022, -0.2406, -0.3271,\n",
      "        -0.2046,  0.2092, -0.3436, -0.1830,  0.0404, -0.2846, -0.2957, -0.3570],\n",
      "       device='cuda:0', grad_fn=<SqueezeBackward1>), y: tensor([-0.2217, -0.2194, -0.2311, -0.2426, -0.2413,  0.0753, -0.2415, -0.2066,\n",
      "        -0.2297,  0.1581, -0.2298, -0.2420, -0.1515, -0.2246, -0.1545, -0.2216],\n",
      "       device='cuda:0')----------\n",
      "-------predict: tensor([-0.1727, -0.3442,  1.5725, -0.1123,  0.1213, -0.0060, -0.2404, -0.3990,\n",
      "        -0.2174, -0.3063, -0.1543, -0.3394, -0.2506, -0.2538, -0.2535, -0.1471],\n",
      "       device='cuda:0', grad_fn=<SqueezeBackward1>), y: tensor([-0.2070, -0.2410,  1.7431, -0.2245,  0.0535, -0.2412, -0.2044, -0.2393,\n",
      "        -0.2411, -0.2024, -0.2426, -0.2282, -0.2417, -0.2398, -0.1953, -0.2273],\n",
      "       device='cuda:0')----------\n",
      "-------predict: tensor([-0.1474, -0.1672, -0.2488,  2.2026, -0.3287, -0.1424, -0.1334, -0.0385,\n",
      "        -0.0916, -0.0477,  0.0711, -0.2711, -0.1861, -0.2755, -0.0626, -0.1620],\n",
      "       device='cuda:0', grad_fn=<SqueezeBackward1>), y: tensor([-0.1637, -0.2102, -0.2337,  2.1945, -0.2426, -0.1968, -0.1139, -0.2062,\n",
      "        -0.2045, -0.2258,  0.0460, -0.2426, -0.2372, -0.2297, -0.1517, -0.2246],\n",
      "       device='cuda:0')----------\n"
     ]
    },
    {
     "name": "stderr",
     "output_type": "stream",
     "text": [
      "Epoch [19/50]: 100%|█████████████████████████████████████████████████████████| 9/9 [00:00<00:00, 111.88it/s, loss=0.0264]"
     ]
    },
    {
     "name": "stdout",
     "output_type": "stream",
     "text": [
      "-------predict: tensor([-0.3585, -0.0815, -0.0544, -0.2016, -0.2279, -0.2952, -0.2829, -0.1302,\n",
      "        -0.2470, -0.1978, -0.3739, -0.0009, -0.1331, -0.1973, -0.0102, -0.2380],\n",
      "       device='cuda:0', grad_fn=<SqueezeBackward1>), y: tensor([-0.2424, -0.1834, -0.2422, -0.2423, -0.1932, -0.2258, -0.2403, -0.2249,\n",
      "        -0.2417, -0.1998, -0.2417, -0.2333, -0.1409, -0.2207, -0.1678, -0.2413],\n",
      "       device='cuda:0')----------\n",
      "-------predict: tensor([-0.3775,  0.4590,  0.1118, -0.2357,  0.2375, -0.4505, -0.2831,  0.0758,\n",
      "        -0.2662,  0.0754, -0.2577, -0.0398, -0.0442], device='cuda:0',\n",
      "       grad_fn=<SqueezeBackward1>), y: tensor([-0.2335,  0.5884,  0.0058, -0.2394, -0.0928, -0.2412, -0.2400, -0.1833,\n",
      "        -0.2388, -0.0014, -0.2244, -0.2099, -0.2327], device='cuda:0')----------\n"
     ]
    },
    {
     "name": "stderr",
     "output_type": "stream",
     "text": [
      "\n"
     ]
    },
    {
     "name": "stdout",
     "output_type": "stream",
     "text": [
      "Epoch [19/50]: Train loss: 0.0249, Valid loss: 0.0677\n"
     ]
    },
    {
     "name": "stderr",
     "output_type": "stream",
     "text": [
      "Epoch [20/50]:   0%|                                                                 | 0/9 [00:00<?, ?it/s, loss=0.00638]"
     ]
    },
    {
     "name": "stdout",
     "output_type": "stream",
     "text": [
      "-------predict: tensor([-0.2280, -0.2244, -0.2662, -0.2956, -0.2944,  0.2941, -0.1676, -0.1850,\n",
      "        -0.3970, -0.2054, -0.2873, -0.1344,  1.1089, -0.2623, -0.1928, -0.1324],\n",
      "       device='cuda:0', grad_fn=<SqueezeBackward1>), y: tensor([-0.1798, -0.2368, -0.2297, -0.2422, -0.2421,  0.1581, -0.2311, -0.2426,\n",
      "        -0.2216, -0.2348, -0.2420, -0.2325,  1.2423, -0.2375, -0.2070, -0.2021],\n",
      "       device='cuda:0')----------\n"
     ]
    },
    {
     "name": "stderr",
     "output_type": "stream",
     "text": [
      "Epoch [20/50]:   0%|                                                                  | 0/9 [00:00<?, ?it/s, loss=0.0766]"
     ]
    },
    {
     "name": "stdout",
     "output_type": "stream",
     "text": [
      "-------predict: tensor([-0.0957, -0.2509, -0.1939, -0.0918, -0.2570, -0.2363, -0.3553, -0.0489,\n",
      "        -0.2833, -0.3693,  0.4561,  0.2344,  5.8121,  0.0663, -0.0199,  0.0196],\n",
      "       device='cuda:0', grad_fn=<SqueezeBackward1>), y: tensor([-0.1990, -0.2340, -0.2297, -0.0922, -0.2244, -0.1750, -0.2261, -0.2258,\n",
      "        -0.2418, -0.2417,  0.5884, -0.0928,  6.7906,  0.0460, -0.2412, -0.0876],\n",
      "       device='cuda:0')----------\n"
     ]
    },
    {
     "name": "stderr",
     "output_type": "stream",
     "text": [
      "Epoch [20/50]:   0%|                                                                  | 0/9 [00:00<?, ?it/s, loss=0.0389]"
     ]
    },
    {
     "name": "stdout",
     "output_type": "stream",
     "text": [
      "-------predict: tensor([-0.2366, -0.1413, -0.2511,  4.8735, -0.1249, -0.0724, -0.2203, -0.1232,\n",
      "        -0.1408, -0.2481, -0.2923,  0.1018, -0.0992, -0.2964,  0.0291, -0.1975],\n",
      "       device='cuda:0', grad_fn=<SqueezeBackward1>), y: tensor([-0.2373, -0.2045, -0.2066,  4.1428, -0.0739, -0.2385, -0.1642, -0.0042,\n",
      "        -0.2249, -0.2417, -0.2417,  0.0058, -0.1552, -0.2044, -0.0244, -0.2427],\n",
      "       device='cuda:0')----------\n"
     ]
    },
    {
     "name": "stderr",
     "output_type": "stream",
     "text": [
      "Epoch [20/50]:   0%|                                                                 | 0/9 [00:00<?, ?it/s, loss=0.00843]"
     ]
    },
    {
     "name": "stdout",
     "output_type": "stream",
     "text": [
      "-------predict: tensor([ 0.1172,  0.0721, -0.0490, -0.1952, -0.2884, -0.3686, -0.0743, -0.2284,\n",
      "        -0.1109,  0.2115, -0.1924, -0.4450, -0.2430, -0.1780,  0.0037, -0.1503],\n",
      "       device='cuda:0', grad_fn=<SqueezeBackward1>), y: tensor([-0.1521,  0.0140, -0.2327, -0.2264, -0.2413, -0.2410, -0.1517, -0.2229,\n",
      "        -0.2426, -0.0344, -0.1854, -0.2397, -0.2337, -0.2269,  0.0753, -0.2296],\n",
      "       device='cuda:0')----------\n",
      "-------predict: tensor([-0.1517, -0.1767, -0.1215, -0.0939, -0.1965, -0.2646, -0.0259, -0.4267,\n",
      "        -0.2211, -0.3184, -0.1048,  0.0269, -0.2802, -0.3025, -0.1358, -0.1627],\n",
      "       device='cuda:0', grad_fn=<SqueezeBackward1>), y: tensor([-0.2273, -0.2388, -0.1139, -0.2240, -0.2420, -0.2246, -0.2333, -0.2336,\n",
      "        -0.2207, -0.2398, -0.1065, -0.0386, -0.2413, -0.2024, -0.1834, -0.1637],\n",
      "       device='cuda:0')----------\n"
     ]
    },
    {
     "name": "stderr",
     "output_type": "stream",
     "text": [
      "Epoch [20/50]:   0%|                                                                  | 0/9 [00:00<?, ?it/s, loss=0.0234]"
     ]
    },
    {
     "name": "stdout",
     "output_type": "stream",
     "text": [
      "-------predict: tensor([-0.4112, -0.4034, -0.0853, -0.3265, -0.3527,  0.4411, -0.1581, -0.1296,\n",
      "        -0.1250,  0.0047, -0.4792, -0.2800, -0.3823, -0.1882,  2.1799, -0.3316],\n",
      "       device='cuda:0', grad_fn=<SqueezeBackward1>), y: tensor([-0.2424, -0.2393, -0.2112, -0.1545, -0.2217,  0.2559, -0.2107, -0.2422,\n",
      "        -0.1680, -0.1515, -0.2412, -0.2411, -0.2308, -0.2260,  2.1945, -0.2298],\n",
      "       device='cuda:0')----------\n",
      "-------predict: tensor([-0.0695, -0.0627,  0.0915, -0.3368, -0.3444,  0.3388,  1.5990, -0.3261,\n",
      "         0.0655,  1.1979, -0.0418, -0.4825, -0.4064, -0.0942, -0.3778, -0.3913],\n",
      "       device='cuda:0', grad_fn=<SqueezeBackward1>), y: tensor([-1.4000e-03, -2.0993e-01,  5.3457e-02, -2.2819e-01, -2.3135e-01,\n",
      "         5.6845e-01,  1.7431e+00, -2.4257e-01, -1.8335e-01,  1.1126e+00,\n",
      "        -1.6781e-01, -2.3976e-01, -2.4234e-01, -2.4245e-01, -2.1336e-01,\n",
      "        -2.4260e-01], device='cuda:0')----------\n"
     ]
    },
    {
     "name": "stderr",
     "output_type": "stream",
     "text": [
      "Epoch [20/50]: 100%|████████████████████████████████████████████████████████| 9/9 [00:00<00:00, 108.34it/s, loss=0.00735]\n"
     ]
    },
    {
     "name": "stdout",
     "output_type": "stream",
     "text": [
      "-------predict: tensor([-0.0648, -0.1538, -0.2415, -0.1639,  0.1552, -0.2168, -0.3136, -0.2274,\n",
      "        -0.3837,  8.9948, -0.2982,  0.0800, -0.2676, -0.2446, -0.1387, -0.3597],\n",
      "       device='cuda:0', grad_fn=<SqueezeBackward1>), y: tensor([-0.2326, -0.1409, -0.2372, -0.1998, -0.2408, -0.2102, -0.2391, -0.2286,\n",
      "        -0.2400,  8.6617, -0.2177, -0.2134, -0.2245, -0.1953, -0.1063, -0.2394],\n",
      "       device='cuda:0')----------\n",
      "-------predict: tensor([-0.4078, -0.1792, -0.3547, -0.1525, -0.2970, -0.2424, -0.2216, -0.1636,\n",
      "         0.2853, -0.2558, -0.3665, -0.2891, -0.0636], device='cuda:0',\n",
      "       grad_fn=<SqueezeBackward1>), y: tensor([-0.2416, -0.2194, -0.2403, -0.2246, -0.2258, -0.2286, -0.1932, -0.1968,\n",
      "         0.2747, -0.2415, -0.2335, -0.2388, -0.2062], device='cuda:0')----------\n",
      "Epoch [20/50]: Train loss: 0.0248, Valid loss: 0.0410\n",
      "Saving model with loss 0.041...\n"
     ]
    },
    {
     "name": "stderr",
     "output_type": "stream",
     "text": [
      "Epoch [21/50]:   0%|                                                                 | 0/9 [00:00<?, ?it/s, loss=0.00705]"
     ]
    },
    {
     "name": "stdout",
     "output_type": "stream",
     "text": [
      "-------predict: tensor([-0.1433, -0.2298, -0.1623, -0.4035, -0.2382, -0.1266,  4.2497, -0.2588,\n",
      "        -0.2910, -0.1252, -0.0318, -0.0371, -0.0253, -0.3638, -0.1460, -0.2730],\n",
      "       device='cuda:0', grad_fn=<SqueezeBackward1>), y: tensor([-1.6797e-01, -1.8544e-01, -1.9682e-01, -2.4161e-01, -2.4146e-01,\n",
      "        -4.1539e-03,  4.1428e+00, -2.3475e-01, -2.1770e-01, -1.0647e-01,\n",
      "        -1.4000e-03, -1.6781e-01, -1.5146e-01, -2.4207e-01, -1.5173e-01,\n",
      "        -2.3746e-01], device='cuda:0')----------\n"
     ]
    },
    {
     "name": "stderr",
     "output_type": "stream",
     "text": [
      "Epoch [21/50]:   0%|                                                                  | 0/9 [00:00<?, ?it/s, loss=0.0139]"
     ]
    },
    {
     "name": "stdout",
     "output_type": "stream",
     "text": [
      "-------predict: tensor([-0.0732, -0.1925,  0.0064, -0.1105, -0.3924, -0.3316, -0.0580, -0.4631,\n",
      "        -0.3961, -0.2645, -0.2375, -0.3258, -0.1939, -0.1833, -0.3873, -0.3129],\n",
      "       device='cuda:0', grad_fn=<SqueezeBackward1>), y: tensor([-0.2099, -0.2258, -0.0244, -0.2425, -0.2308, -0.2282, -0.2062, -0.2412,\n",
      "        -0.2410, -0.2244, -0.2388, -0.2298, -0.2102, -0.0922, -0.2393, -0.2066],\n",
      "       device='cuda:0')----------\n"
     ]
    },
    {
     "name": "stderr",
     "output_type": "stream",
     "text": [
      "Epoch [21/50]:   0%|                                                                  | 0/9 [00:00<?, ?it/s, loss=0.0096]"
     ]
    },
    {
     "name": "stdout",
     "output_type": "stream",
     "text": [
      "-------predict: tensor([ 1.5609,  0.0578, -0.2911,  1.1528, -0.1746, -0.2290, -0.2264,  2.1705,\n",
      "        -0.2280, -0.3150, -0.1140, -0.1586, -0.1918, -0.1311, -0.3327, -0.1935],\n",
      "       device='cuda:0', grad_fn=<SqueezeBackward1>), y: tensor([ 1.7431, -0.2134, -0.2394,  1.1126, -0.2269, -0.2311, -0.2045,  2.1945,\n",
      "        -0.2229, -0.2422, -0.1139, -0.2273, -0.2427, -0.2246, -0.2044, -0.2245],\n",
      "       device='cuda:0')----------\n"
     ]
    },
    {
     "name": "stderr",
     "output_type": "stream",
     "text": [
      "Epoch [21/50]:   0%|                                                                   | 0/9 [00:00<?, ?it/s, loss=0.014]"
     ]
    },
    {
     "name": "stdout",
     "output_type": "stream",
     "text": [
      "-------predict: tensor([-2.2264e-01, -2.5566e-01, -2.9067e-01, -2.8931e-01, -3.1565e-01,\n",
      "        -2.3695e-01, -2.5772e-01, -6.8567e-02, -8.1795e-02, -6.8640e-02,\n",
      "         9.1417e-01, -1.5021e-01, -2.3813e-01, -8.0474e-04, -2.1463e-01,\n",
      "        -3.6199e-01], device='cuda:0', grad_fn=<SqueezeBackward1>), y: tensor([-0.2368, -0.2340, -0.2413, -0.2134, -0.2420, -0.1750, -0.2372, -0.2326,\n",
      "        -0.2426, -0.2327,  1.2423, -0.1990, -0.2426, -0.0386, -0.2249, -0.2398],\n",
      "       device='cuda:0')----------\n"
     ]
    },
    {
     "name": "stderr",
     "output_type": "stream",
     "text": [
      "Epoch [21/50]:   0%|                                                                 | 0/9 [00:00<?, ?it/s, loss=0.00927]"
     ]
    },
    {
     "name": "stdout",
     "output_type": "stream",
     "text": [
      "-------predict: tensor([-0.3065,  0.0242, -0.4200, -0.2223, -0.0533, -0.1419, -0.1037, -0.3657,\n",
      "         0.0873,  0.3016, -0.2250, -0.1281, -0.2134, -0.2698,  0.0133, -0.3062],\n",
      "       device='cuda:0', grad_fn=<SqueezeBackward1>), y: tensor([-0.2313,  0.0460, -0.2216, -0.2426, -0.2112, -0.2107, -0.2385, -0.2335,\n",
      "        -0.1521,  0.2747, -0.1932, -0.1834, -0.2264, -0.2388, -0.0876, -0.2398],\n",
      "       device='cuda:0')----------\n",
      "-------predict: tensor([-0.2057, -0.2295,  0.0591, -0.2572,  8.7582, -0.1894,  0.1990, -0.2739,\n",
      "        -0.3716, -0.2884, -0.0308, -0.2361, -0.2831, -0.1958, -0.2370, -0.2886],\n",
      "       device='cuda:0', grad_fn=<SqueezeBackward1>), y: tensor([-0.2070, -0.1798,  0.0140, -0.2246,  8.6617, -0.1998, -0.0344, -0.2418,\n",
      "        -0.2417, -0.2258, -0.2412, -0.1953, -0.2413, -0.2391, -0.2426, -0.2024],\n",
      "       device='cuda:0')----------\n"
     ]
    },
    {
     "name": "stderr",
     "output_type": "stream",
     "text": [
      "Epoch [21/50]:   0%|                                                                  | 0/9 [00:00<?, ?it/s, loss=0.0149]"
     ]
    },
    {
     "name": "stdout",
     "output_type": "stream",
     "text": [
      "-------predict: tensor([-0.0854,  0.0057,  0.1485, -0.2332, -0.1534, -0.1095, -0.3036,  0.4360,\n",
      "        -0.2424, -0.1741, -0.1454, -0.2694, -0.0897, -0.1537, -0.1354, -0.2430],\n",
      "       device='cuda:0', grad_fn=<SqueezeBackward1>), y: tensor([-0.2240,  0.0753, -0.2408, -0.2411, -0.0739, -0.1063, -0.2403,  0.5884,\n",
      "        -0.2337, -0.2207, -0.2325, -0.1545, -0.2422, -0.1637, -0.2021, -0.2417],\n",
      "       device='cuda:0')----------\n",
      "-------predict: tensor([ 5.6205, -0.0941,  0.0545,  0.2913, -0.1326, -0.4122, -0.0261, -0.1757,\n",
      "        -0.2072, -0.2011, -0.2297,  0.3808, -0.1294, -0.2598, -0.0928,  0.3455],\n",
      "       device='cuda:0', grad_fn=<SqueezeBackward1>), y: tensor([ 6.7906, -0.2260, -0.1833,  0.1581, -0.2286, -0.2336, -0.2333, -0.2194,\n",
      "        -0.2286, -0.2297, -0.1642,  0.5685, -0.1409, -0.2297, -0.1552,  0.2559],\n",
      "       device='cuda:0')----------\n",
      "-------predict: tensor([ 0.0799, -0.2113,  0.1165, -0.1484, -0.2899, -0.3500, -0.3719, -0.3401,\n",
      "        -0.4119, -0.1356, -0.1824, -0.2755,  0.1953], device='cuda:0',\n",
      "       grad_fn=<SqueezeBackward1>), y: tensor([ 0.0058, -0.2373,  0.0535, -0.2423, -0.2400, -0.2217, -0.2424, -0.2261,\n",
      "        -0.2397, -0.2296, -0.2420, -0.2417, -0.0928], device='cuda:0')----------\n"
     ]
    },
    {
     "name": "stderr",
     "output_type": "stream",
     "text": [
      "Epoch [21/50]: 100%|█████████████████████████████████████████████████████████| 9/9 [00:00<00:00, 111.55it/s, loss=0.0149]\n"
     ]
    },
    {
     "name": "stdout",
     "output_type": "stream",
     "text": [
      "Epoch [21/50]: Train loss: 0.0219, Valid loss: 0.0602\n"
     ]
    },
    {
     "name": "stderr",
     "output_type": "stream",
     "text": [
      "Epoch [22/50]:   0%|                                                                  | 0/9 [00:00<?, ?it/s, loss=0.0904]"
     ]
    },
    {
     "name": "stdout",
     "output_type": "stream",
     "text": [
      "-------predict: tensor([ 2.2796e-02, -9.0536e-02,  3.5103e-01, -1.3311e-01, -2.3510e-01,\n",
      "        -3.9721e-01, -2.7666e-01,  2.2004e-03, -1.6928e-01, -2.4774e-01,\n",
      "        -2.1603e-01, -9.3747e-02, -2.4380e-01, -2.8783e-01,  5.6482e+00,\n",
      "        -2.1024e-01], device='cuda:0', grad_fn=<SqueezeBackward1>), y: tensor([-0.2134, -0.2273,  0.2559, -0.1409, -0.1750, -0.2336, -0.2418,  0.0753,\n",
      "        -0.2426, -0.2177, -0.2229, -0.1990, -0.2134, -0.2403,  6.7906, -0.2348],\n",
      "       device='cuda:0')----------\n"
     ]
    },
    {
     "name": "stderr",
     "output_type": "stream",
     "text": [
      "Epoch [22/50]:   0%|                                                                  | 0/9 [00:00<?, ?it/s, loss=0.0196]"
     ]
    },
    {
     "name": "stdout",
     "output_type": "stream",
     "text": [
      "-------predict: tensor([-0.1634, -0.2108, -0.1024, -0.2270, -0.2497,  0.0521, -0.3623,  2.1795,\n",
      "        -0.1345, -0.1759, -0.0501,  0.1448, -0.2863, -0.0951, -0.0716,  0.0521],\n",
      "       device='cuda:0', grad_fn=<SqueezeBackward1>), y: tensor([-0.2194, -0.2286, -0.2249, -0.1932, -0.2417,  0.0140, -0.2216,  2.1945,\n",
      "        -0.2021, -0.2264, -0.2258, -0.2408, -0.2258, -0.1065, -0.2326, -0.1833],\n",
      "       device='cuda:0')----------\n"
     ]
    },
    {
     "name": "stderr",
     "output_type": "stream",
     "text": [
      "Epoch [22/50]:   0%|                                                                  | 0/9 [00:00<?, ?it/s, loss=0.0123]"
     ]
    },
    {
     "name": "stdout",
     "output_type": "stream",
     "text": [
      "-------predict: tensor([-0.2519, -0.1350, -0.2473, -0.1205, -0.3725, -0.0827, -0.3060, -0.0860,\n",
      "        -0.2894, -0.2673,  0.4623, -0.1271, -0.2322, -0.1020,  8.8950,  0.0482],\n",
      "       device='cuda:0', grad_fn=<SqueezeBackward1>), y: tensor([-0.2426, -0.2415, -0.2340, -0.1139, -0.2335, -0.1063, -0.2313, -0.2260,\n",
      "        -0.2066, -0.2388,  0.5884, -0.2286, -0.2394, -0.2099,  8.6617, -0.1515],\n",
      "       device='cuda:0')----------\n"
     ]
    },
    {
     "name": "stderr",
     "output_type": "stream",
     "text": [
      "Epoch [22/50]:   0%|                                                                 | 0/9 [00:00<?, ?it/s, loss=0.00534]"
     ]
    },
    {
     "name": "stdout",
     "output_type": "stream",
     "text": [
      "-------predict: tensor([-0.3709, -0.0179, -0.2948, -0.1479, -0.2061, -0.2890, -0.1711, -0.2240,\n",
      "        -0.2471, -0.1559, -0.1029, -0.2832, -0.3256, -0.2569, -0.3453, -0.0625],\n",
      "       device='cuda:0', grad_fn=<SqueezeBackward1>), y: tensor([-0.2393, -0.0244, -0.2024, -0.1968, -0.2372, -0.2421, -0.2246, -0.2411,\n",
      "        -0.2398, -0.0922, -0.1552, -0.2426, -0.2298, -0.2375, -0.2416, -0.2112],\n",
      "       device='cuda:0')----------\n"
     ]
    },
    {
     "name": "stderr",
     "output_type": "stream",
     "text": [
      "Epoch [22/50]:   0%|                                                                  | 0/9 [00:00<?, ?it/s, loss=0.0162]"
     ]
    },
    {
     "name": "stdout",
     "output_type": "stream",
     "text": [
      "-------predict: tensor([-0.3499, -0.2526, -0.3370, -0.2486,  0.2026, -0.1952, -0.0759, -0.2275,\n",
      "        -0.4188, -0.2578, -0.1624, -0.2699,  0.1878, -0.1317, -0.2057, -0.3260],\n",
      "       device='cuda:0', grad_fn=<SqueezeBackward1>), y: tensor([-0.2217, -0.2420, -0.2410, -0.1642, -0.0928, -0.1998, -0.2327, -0.1798,\n",
      "        -0.2412, -0.2373, -0.2107, -0.2246, -0.0344, -0.0042, -0.1854, -0.2308],\n",
      "       device='cuda:0')----------\n"
     ]
    },
    {
     "name": "stderr",
     "output_type": "stream",
     "text": [
      "Epoch [22/50]:   0%|                                                                 | 0/9 [00:00<?, ?it/s, loss=0.00858]"
     ]
    },
    {
     "name": "stdout",
     "output_type": "stream",
     "text": [
      "-------predict: tensor([-0.1719, -0.0828, -0.1487, -0.0379, -0.1836, -0.1663,  1.1534, -0.2209,\n",
      "        -0.2453,  0.1052, -0.0539, -0.1280, -0.0357,  0.2539, -0.2039, -0.1519],\n",
      "       device='cuda:0', grad_fn=<SqueezeBackward1>), y: tensor([-0.2070, -0.2240, -0.0739, -0.2333, -0.2102, -0.2388,  1.1126, -0.2427,\n",
      "        -0.2337,  0.0535, -0.2062, -0.2426, -0.2422,  0.1581, -0.2413, -0.1637],\n",
      "       device='cuda:0')----------\n",
      "-------predict: tensor([-0.1605, -0.0301, -0.3079, -0.3273, -0.1881, -0.3571, -0.3231, -0.1354,\n",
      "        -0.2410, -0.0196, -0.1783, -0.2639,  0.0887, -0.2648, -0.2641, -0.2322],\n",
      "       device='cuda:0', grad_fn=<SqueezeBackward1>), y: tensor([-0.2296, -0.0876, -0.2417, -0.2282, -0.2420, -0.2424, -0.2261, -0.2045,\n",
      "        -0.2207, -0.2425, -0.2385, -0.2244, -0.0386, -0.1545, -0.2297, -0.2391],\n",
      "       device='cuda:0')----------\n"
     ]
    },
    {
     "name": "stderr",
     "output_type": "stream",
     "text": [
      "Epoch [22/50]: 100%|█████████████████████████████████████████████████████████| 9/9 [00:00<00:00, 110.32it/s, loss=0.0246]"
     ]
    },
    {
     "name": "stdout",
     "output_type": "stream",
     "text": [
      "-------predict: tensor([-0.2349,  0.0276,  0.0609, -0.2408, -0.2389, -0.2382,  0.3065, -0.2337,\n",
      "        -0.0540, -0.1267,  4.2607,  1.5845, -0.2839, -0.3417, -0.4394, -0.2912],\n",
      "       device='cuda:0', grad_fn=<SqueezeBackward1>), y: tensor([-0.2368,  0.0460,  0.0058, -0.2297, -0.2325, -0.1953,  0.2747, -0.2269,\n",
      "        -0.2412, -0.1517,  4.1428,  1.7431, -0.2044, -0.2400, -0.2397, -0.2422],\n",
      "       device='cuda:0')----------\n",
      "-------predict: tensor([ 0.8820, -0.0476, -0.1647,  0.0054, -0.0609,  0.3336, -0.3225, -0.3568,\n",
      "        -0.4212, -0.4347, -0.2372, -0.2279, -0.1339], device='cuda:0',\n",
      "       grad_fn=<SqueezeBackward1>), y: tensor([ 1.2423, -0.1678, -0.1834, -0.1521, -0.0014,  0.5685, -0.2413, -0.2423,\n",
      "        -0.2398, -0.2417, -0.2311, -0.2245, -0.1680], device='cuda:0')----------\n"
     ]
    },
    {
     "name": "stderr",
     "output_type": "stream",
     "text": [
      "\n"
     ]
    },
    {
     "name": "stdout",
     "output_type": "stream",
     "text": [
      "Epoch [22/50]: Train loss: 0.0218, Valid loss: 0.0389\n",
      "Saving model with loss 0.039...\n"
     ]
    },
    {
     "name": "stderr",
     "output_type": "stream",
     "text": [
      "Epoch [23/50]:   0%|                                                                  | 0/9 [00:00<?, ?it/s, loss=0.0247]"
     ]
    },
    {
     "name": "stdout",
     "output_type": "stream",
     "text": [
      "-------predict: tensor([-0.2811, -0.2424, -0.2572, -0.3788,  0.4599, -0.2299,  0.1302, -0.2455,\n",
      "        -0.2625,  4.2924, -0.3078,  0.4009, -0.1419, -0.4452,  0.2333, -0.3120],\n",
      "       device='cuda:0', grad_fn=<SqueezeBackward1>), y: tensor([-0.2244, -0.2264, -0.2413, -0.2416,  0.5884, -0.2269, -0.2408, -0.1642,\n",
      "        -0.2246,  4.1428, -0.2394,  0.2559, -0.2426, -0.2412, -0.0928, -0.2422],\n",
      "       device='cuda:0')----------\n",
      "-------predict: tensor([-0.2611, -0.1638, -0.1450, -0.2183, -0.3173, -0.1201, -0.3662, -0.2195,\n",
      "        -0.2353, -0.3963, -0.4341, -0.1563, -0.2670, -0.1779, -0.1913, -0.3670],\n",
      "       device='cuda:0', grad_fn=<SqueezeBackward1>), y: tensor([-0.2372, -0.2260, -0.1990, -0.1854, -0.2298, -0.0042, -0.2393, -0.1932,\n",
      "        -0.2368, -0.2424, -0.2397, -0.2258, -0.2177, -0.1998, -0.2102, -0.2261],\n",
      "       device='cuda:0')----------\n"
     ]
    },
    {
     "name": "stderr",
     "output_type": "stream",
     "text": [
      "Epoch [23/50]:   0%|                                                                   | 0/9 [00:00<?, ?it/s, loss=0.011]"
     ]
    },
    {
     "name": "stdout",
     "output_type": "stream",
     "text": [
      "-------predict: tensor([-0.2051, -0.1295, -0.3398, -0.3043, -0.0772, -0.1043, -0.1946, -0.2342,\n",
      "        -0.1037, -0.2314, -0.0842,  0.9683, -0.2923, -0.1343, -0.0163, -0.2055],\n",
      "       device='cuda:0', grad_fn=<SqueezeBackward1>), y: tensor([-0.2194, -0.0739, -0.2398, -0.2398, -0.2326, -0.2240, -0.2388, -0.2348,\n",
      "        -0.1517, -0.2297, -0.2327,  1.2423, -0.2024, -0.0922,  0.0753, -0.2311],\n",
      "       device='cuda:0')----------\n"
     ]
    },
    {
     "name": "stderr",
     "output_type": "stream",
     "text": [
      "Epoch [23/50]:   0%|                                                                  | 0/9 [00:00<?, ?it/s, loss=0.0658]"
     ]
    },
    {
     "name": "stdout",
     "output_type": "stream",
     "text": [
      "-------predict: tensor([ 0.0556,  0.0347,  1.1501, -0.1127, -0.1337, -0.1564, -0.2152,  0.0751,\n",
      "        -0.2900,  5.8156, -0.2905, -0.2537, -0.3534, -0.2052,  0.0134,  0.0526],\n",
      "       device='cuda:0', grad_fn=<SqueezeBackward1>), y: tensor([ 5.7982e-03, -1.8335e-01,  1.1126e+00, -1.8343e-01, -2.0993e-01,\n",
      "        -2.2492e-01, -2.2860e-01, -3.8568e-02, -2.4165e-01,  6.7906e+00,\n",
      "        -2.4200e-01, -2.3734e-01, -2.4102e-01, -2.3910e-01, -2.4388e-02,\n",
      "         1.4033e-02], device='cuda:0')----------\n"
     ]
    },
    {
     "name": "stderr",
     "output_type": "stream",
     "text": [
      "Epoch [23/50]:   0%|                                                                  | 0/9 [00:00<?, ?it/s, loss=0.0121]"
     ]
    },
    {
     "name": "stdout",
     "output_type": "stream",
     "text": [
      "-------predict: tensor([-0.1218, -0.2505,  0.0676,  0.0738, -0.3102, -0.1122, -0.2302, -0.1266,\n",
      "        -0.2949, -0.0112, -0.2414, -0.0295, -0.1938, -0.3499, -0.0496, -0.1758],\n",
      "       device='cuda:0', grad_fn=<SqueezeBackward1>), y: tensor([-0.2422, -0.2340, -0.0014, -0.1515, -0.2313, -0.1139, -0.1953, -0.2021,\n",
      "        -0.2044, -0.2134, -0.2229, -0.1680, -0.2070, -0.2417, -0.2062, -0.2427],\n",
      "       device='cuda:0')----------\n"
     ]
    },
    {
     "name": "stderr",
     "output_type": "stream",
     "text": [
      "Epoch [23/50]:   0%|                                                                  | 0/9 [00:00<?, ?it/s, loss=0.0137]"
     ]
    },
    {
     "name": "stdout",
     "output_type": "stream",
     "text": [
      "-------predict: tensor([ 8.9937, -0.3144,  1.5835, -0.0862, -0.3242,  0.0526, -0.4263, -0.2354,\n",
      "        -0.2378, -0.2241, -0.1568, -0.2415, -0.2647,  2.2834, -0.2770, -0.2383],\n",
      "       device='cuda:0', grad_fn=<SqueezeBackward1>), y: tensor([ 8.6617, -0.2282,  1.7431, -0.1063, -0.2403,  0.0460, -0.2336, -0.2417,\n",
      "        -0.2066, -0.1798, -0.2296, -0.2426, -0.1545,  2.1945, -0.2258, -0.2426],\n",
      "       device='cuda:0')----------\n"
     ]
    },
    {
     "name": "stderr",
     "output_type": "stream",
     "text": [
      "Epoch [23/50]:   0%|                                                                  | 0/9 [00:00<?, ?it/s, loss=0.0214]"
     ]
    },
    {
     "name": "stdout",
     "output_type": "stream",
     "text": [
      "-------predict: tensor([-0.1315, -0.2208,  0.1412, -0.3498, -0.0613, -0.0962, -0.1037, -0.1018,\n",
      "        -0.2208, -0.0653, -0.0320, -0.0168, -0.2562, -0.0982, -0.0291,  0.1746],\n",
      "       device='cuda:0', grad_fn=<SqueezeBackward1>), y: tensor([-0.2207, -0.2426, -0.1521, -0.2335, -0.2245, -0.2246, -0.1552, -0.2107,\n",
      "        -0.1750, -0.2112, -0.2333, -0.0876, -0.2375, -0.2423, -0.2385, -0.0344],\n",
      "       device='cuda:0')----------\n",
      "-------predict: tensor([-0.1592, -0.2457, -0.2869,  0.3860, -0.0976, -0.3151, -0.2946,  0.3168,\n",
      "         0.3378, -0.2530, -0.1124, -0.1570, -0.1695, -0.2973, -0.2522, -0.1003],\n",
      "       device='cuda:0', grad_fn=<SqueezeBackward1>), y: tensor([-0.2415, -0.2421, -0.2413,  0.5685, -0.1065, -0.2400, -0.2418,  0.1581,\n",
      "         0.2747, -0.2411, -0.2425, -0.2325, -0.1968, -0.2388, -0.2297, -0.2273],\n",
      "       device='cuda:0')----------\n"
     ]
    },
    {
     "name": "stderr",
     "output_type": "stream",
     "text": [
      "Epoch [23/50]: 100%|█████████████████████████████████████████████████████████| 9/9 [00:00<00:00, 104.98it/s, loss=0.0112]\n"
     ]
    },
    {
     "name": "stdout",
     "output_type": "stream",
     "text": [
      "-------predict: tensor([-0.0758, -0.2348, -0.3359, -0.1985, -0.2479, -0.4007, -0.1644, -0.2054,\n",
      "         0.1257, -0.0331, -0.4396, -0.0985, -0.2010], device='cuda:0',\n",
      "       grad_fn=<SqueezeBackward1>), y: tensor([-0.2412, -0.2337, -0.2217, -0.2420, -0.2134, -0.2308, -0.1637, -0.2286,\n",
      "         0.0535, -0.1678, -0.2216, -0.1409, -0.2045], device='cuda:0')----------\n",
      "Epoch [23/50]: Train loss: 0.0196, Valid loss: 0.0428\n"
     ]
    },
    {
     "name": "stderr",
     "output_type": "stream",
     "text": [
      "Epoch [24/50]:   0%|                                                                  | 0/9 [00:00<?, ?it/s, loss=0.0161]"
     ]
    },
    {
     "name": "stdout",
     "output_type": "stream",
     "text": [
      "-------predict: tensor([-0.3705, -0.2312, -0.4128,  0.0270, -0.3818,  0.0280, -0.0144, -0.2951,\n",
      "        -0.2969, -0.3359, -0.2613, -0.1759, -0.1197,  0.0208, -0.1231, -0.4374],\n",
      "       device='cuda:0', grad_fn=<SqueezeBackward1>), y: tensor([-0.2416, -0.1953, -0.2424, -0.1833, -0.2398,  0.0460, -0.0014, -0.1545,\n",
      "        -0.2426, -0.2044, -0.2423, -0.2422, -0.2246, -0.1515, -0.2426, -0.2216],\n",
      "       device='cuda:0')----------\n"
     ]
    },
    {
     "name": "stderr",
     "output_type": "stream",
     "text": [
      "\r",
      "Epoch [24/50]:   0%|                                                                  | 0/9 [00:00<?, ?it/s, loss=0.0161]"
     ]
    },
    {
     "name": "stdout",
     "output_type": "stream",
     "text": [
      "-------predict: tensor([-0.2644, -0.2529,  4.4222, -0.2390, -0.0463, -0.3181, -0.2154, -0.3006,\n",
      "        -0.3554, -0.3181, -0.1818, -0.2465, -0.0280, -0.0140, -0.1224, -0.1803],\n",
      "       device='cuda:0', grad_fn=<SqueezeBackward1>), y: tensor([-0.2372, -0.2297,  4.1428, -0.2337, -0.1678, -0.2298, -0.1932, -0.2066,\n",
      "        -0.2417, -0.2413, -0.2260, -0.2348,  0.0753, -0.0386, -0.2240, -0.2258],\n",
      "       device='cuda:0')----------\n"
     ]
    },
    {
     "name": "stderr",
     "output_type": "stream",
     "text": [
      "Epoch [24/50]:   0%|                                                                 | 0/9 [00:00<?, ?it/s, loss=0.00974]"
     ]
    },
    {
     "name": "stdout",
     "output_type": "stream",
     "text": [
      "-------predict: tensor([-0.2770, -0.2243, -0.3512, -0.2967, -0.2284, -0.3081, -0.1735,  1.6063,\n",
      "        -0.2762, -0.2506,  0.8952, -0.2313, -0.0926, -0.2299,  2.1517, -0.1677],\n",
      "       device='cuda:0', grad_fn=<SqueezeBackward1>), y: tensor([-0.2375, -0.2413, -0.2261, -0.2391, -0.1854, -0.2398, -0.1998,  1.7431,\n",
      "        -0.2269, -0.2273,  1.2423, -0.2245, -0.1063, -0.1750,  2.1945, -0.2021],\n",
      "       device='cuda:0')----------\n"
     ]
    },
    {
     "name": "stderr",
     "output_type": "stream",
     "text": [
      "Epoch [24/50]:   0%|                                                                   | 0/9 [00:00<?, ?it/s, loss=0.011]"
     ]
    },
    {
     "name": "stdout",
     "output_type": "stream",
     "text": [
      "-------predict: tensor([-0.3561, -0.1547, -0.4196, -0.2849, -0.2682, -0.4329, -0.2605, -0.0572,\n",
      "        -0.4106, -0.2404, -0.3114, -0.3104, -0.3813,  0.1200, -0.1199, -0.1757],\n",
      "       device='cuda:0', grad_fn=<SqueezeBackward1>), y: tensor([-0.2134, -0.1834, -0.2421, -0.2418, -0.2070, -0.2417, -0.2177, -0.2425,\n",
      "        -0.2393, -0.2368, -0.2024, -0.2403, -0.2426, -0.2408, -0.0042, -0.2045],\n",
      "       device='cuda:0')----------\n"
     ]
    },
    {
     "name": "stderr",
     "output_type": "stream",
     "text": [
      "Epoch [24/50]:   0%|                                                                  | 0/9 [00:00<?, ?it/s, loss=0.0213]"
     ]
    },
    {
     "name": "stdout",
     "output_type": "stream",
     "text": [
      "-------predict: tensor([-0.2589, -0.4359, -0.1276, -0.1061, -0.0837, -0.3383, -0.1924, -0.1826,\n",
      "        -0.2478, -0.2707, -0.2352, -0.2173, -0.2182, -0.1378,  0.3035, -0.0747],\n",
      "       device='cuda:0', grad_fn=<SqueezeBackward1>), y: tensor([-0.1642, -0.2412, -0.1517, -0.1139, -0.2326, -0.2217, -0.2194, -0.2296,\n",
      "        -0.2325, -0.2246, -0.2415, -0.2426, -0.2311, -0.1990,  0.2747, -0.2412],\n",
      "       device='cuda:0')----------\n"
     ]
    },
    {
     "name": "stderr",
     "output_type": "stream",
     "text": [
      "Epoch [24/50]:   0%|                                                                 | 0/9 [00:00<?, ?it/s, loss=0.00761]"
     ]
    },
    {
     "name": "stdout",
     "output_type": "stream",
     "text": [
      "-------predict: tensor([-0.1432,  0.0516, -0.1789, -0.2820, -0.2244,  0.3885, -0.3281,  0.0932,\n",
      "        -0.2191, -0.4356, -0.2963, -0.2559,  0.3399, -0.2781, -0.1572, -0.3035],\n",
      "       device='cuda:0', grad_fn=<SqueezeBackward1>), y: tensor([-0.1065,  0.0058, -0.0922, -0.2258, -0.1798,  0.2559, -0.2313,  0.0535,\n",
      "        -0.2264, -0.2397, -0.2388, -0.2411,  0.5685, -0.2422, -0.1968, -0.2394],\n",
      "       device='cuda:0')----------\n"
     ]
    },
    {
     "name": "stderr",
     "output_type": "stream",
     "text": [
      "Epoch [24/50]:   0%|                                                                 | 0/9 [00:00<?, ?it/s, loss=0.00911]"
     ]
    },
    {
     "name": "stdout",
     "output_type": "stream",
     "text": [
      "-------predict: tensor([-0.0776, -0.1476,  5.8483, -0.3555, -0.3731,  9.1080, -0.2576, -0.2372,\n",
      "        -0.2528, -0.0704, -0.0598, -0.3310, -0.1691, -0.1182,  0.2353, -0.0162],\n",
      "       device='cuda:0', grad_fn=<SqueezeBackward1>), y: tensor([-0.1680, -0.1637,  6.7906, -0.2335, -0.2336,  8.6617, -0.2388, -0.2229,\n",
      "        -0.2340, -0.2062, -0.0876, -0.2410, -0.2107, -0.1552,  0.1581, -0.0244],\n",
      "       device='cuda:0')----------\n"
     ]
    },
    {
     "name": "stderr",
     "output_type": "stream",
     "text": [
      "Epoch [24/50]:   0%|                                                                  | 0/9 [00:00<?, ?it/s, loss=0.0166]"
     ]
    },
    {
     "name": "stdout",
     "output_type": "stream",
     "text": [
      "-------predict: tensor([-0.2176, -0.1554,  0.0985, -0.1700, -0.2201, -0.3157,  0.1829, -0.0953,\n",
      "        -0.2153, -0.0247,  1.1596, -0.1298,  0.1670, -0.3178, -0.1321, -0.1827],\n",
      "       device='cuda:0', grad_fn=<SqueezeBackward1>), y: tensor([-0.2427, -0.2099, -0.1521, -0.2286, -0.2286, -0.2282, -0.0928, -0.2327,\n",
      "        -0.2207, -0.2134,  1.1126, -0.1409, -0.0344, -0.2308, -0.0739, -0.2420],\n",
      "       device='cuda:0')----------\n",
      "-------predict: tensor([-0.2577, -0.1746, -0.1177, -0.2238,  0.4877, -0.2440, -0.0774,  0.0482,\n",
      "        -0.2408, -0.2549, -0.0550, -0.1239, -0.2897], device='cuda:0',\n",
      "       grad_fn=<SqueezeBackward1>), y: tensor([-0.2297, -0.2102, -0.2385, -0.2373,  0.5884, -0.2417, -0.2112,  0.0140,\n",
      "        -0.2420, -0.2244, -0.2333, -0.2249, -0.2400], device='cuda:0')----------\n"
     ]
    },
    {
     "name": "stderr",
     "output_type": "stream",
     "text": [
      "Epoch [24/50]: 100%|████████████████████████████████████████████████████████| 9/9 [00:00<00:00, 109.25it/s, loss=0.00703]\n"
     ]
    },
    {
     "name": "stdout",
     "output_type": "stream",
     "text": [
      "Epoch [24/50]: Train loss: 0.0191, Valid loss: 0.0519\n"
     ]
    },
    {
     "name": "stderr",
     "output_type": "stream",
     "text": [
      "Epoch [25/50]:   0%|                                                                               | 0/9 [00:00<?, ?it/s]"
     ]
    },
    {
     "name": "stdout",
     "output_type": "stream",
     "text": [
      "-------predict: tensor([-0.2808, -0.1294, -0.2702, -0.0450, -0.2711, -0.2584, -0.2370, -0.1694,\n",
      "        -0.1637, -0.2424,  9.0608, -0.1117,  0.1158, -0.0782,  0.0471, -0.1873],\n",
      "       device='cuda:0', grad_fn=<SqueezeBackward1>), y: tensor([-0.2024, -0.0739, -0.2426, -0.0876, -0.2426, -0.2375, -0.1642, -0.2311,\n",
      "        -0.2296, -0.2398,  8.6617, -0.1139,  0.0535, -0.2240,  0.0140, -0.2388],\n",
      "       device='cuda:0')----------\n"
     ]
    },
    {
     "name": "stderr",
     "output_type": "stream",
     "text": [
      "Epoch [25/50]:   0%|                                                                  | 0/9 [00:00<?, ?it/s, loss=0.0102]"
     ]
    },
    {
     "name": "stdout",
     "output_type": "stream",
     "text": [
      "-------predict: tensor([-0.3064, -0.0984, -0.2588, -0.0762,  1.0060, -0.1868, -0.2980, -0.1942,\n",
      "        -0.0961, -0.2383, -0.1593, -0.2233, -0.2731, -0.1055, -0.2254,  0.1637],\n",
      "       device='cuda:0', grad_fn=<SqueezeBackward1>), y: tensor([-0.2313, -0.2385, -0.2420, -0.1063,  1.2423, -0.2420, -0.2418, -0.2426,\n",
      "        -0.1990, -0.2229, -0.1968, -0.2368, -0.2258, -0.2422, -0.2373, -0.0344],\n",
      "       device='cuda:0')----------\n",
      "-------predict: tensor([-0.3139, -0.3408,  0.0447, -0.0598, -0.3305,  0.3201, -0.0765, -0.2487,\n",
      "        -0.0928,  0.0212, -0.1996, -0.3175, -0.1413, -0.1008,  2.2439, -0.4015],\n",
      "       device='cuda:0', grad_fn=<SqueezeBackward1>), y: tensor([-2.3928e-01, -2.4161e-01, -1.4000e-03, -2.3327e-01, -2.2174e-01,\n",
      "         2.7475e-01, -2.1125e-01, -2.2970e-01, -9.2175e-02, -1.8335e-01,\n",
      "        -1.8544e-01, -2.4033e-01, -2.0449e-01, -1.4093e-01,  2.1945e+00,\n",
      "        -2.2159e-01], device='cuda:0')----------\n"
     ]
    },
    {
     "name": "stderr",
     "output_type": "stream",
     "text": [
      "Epoch [25/50]:   0%|                                                                  | 0/9 [00:00<?, ?it/s, loss=0.0116]"
     ]
    },
    {
     "name": "stdout",
     "output_type": "stream",
     "text": [
      "-------predict: tensor([-0.3238, -0.2206, -0.3515, -0.1875, -0.0604, -0.1137, -0.0866, -0.2905,\n",
      "        -0.2197, -0.1126, -0.2610, -0.1287, -0.1538,  0.3191, -0.1094,  0.0507],\n",
      "       device='cuda:0', grad_fn=<SqueezeBackward1>), y: tensor([-0.2400, -0.1798, -0.2410, -0.2286, -0.2062, -0.2245, -0.2326, -0.2298,\n",
      "        -0.2394, -0.2273, -0.2413, -0.2021, -0.2423,  0.1581, -0.0042, -0.1515],\n",
      "       device='cuda:0')----------\n"
     ]
    },
    {
     "name": "stderr",
     "output_type": "stream",
     "text": [
      "Epoch [25/50]:   0%|                                                                  | 0/9 [00:00<?, ?it/s, loss=0.0179]"
     ]
    },
    {
     "name": "stdout",
     "output_type": "stream",
     "text": [
      "-------predict: tensor([-0.0733,  0.1108, -0.4056, -0.1315, -0.3137, -0.2310, -0.2613, -0.3331,\n",
      "        -0.1000, -0.0484, -0.3048, -0.1660, -0.2846,  0.0009, -0.2499, -0.1072],\n",
      "       device='cuda:0', grad_fn=<SqueezeBackward1>), y: tensor([-0.1680, -0.2408, -0.2424, -0.2258, -0.2417, -0.2337, -0.2244, -0.2335,\n",
      "        -0.2246, -0.2426, -0.2282, -0.2427, -0.1545, -0.0386, -0.2066, -0.2327],\n",
      "       device='cuda:0')----------\n"
     ]
    },
    {
     "name": "stderr",
     "output_type": "stream",
     "text": [
      "Epoch [25/50]:   0%|                                                                 | 0/9 [00:00<?, ?it/s, loss=0.00808]"
     ]
    },
    {
     "name": "stdout",
     "output_type": "stream",
     "text": [
      "-------predict: tensor([-0.2660,  0.4570,  0.3872,  1.5811, -0.2551, -0.1422, -0.3329, -0.2732,\n",
      "        -0.2092, -0.3269, -0.1231, -0.1610,  0.0168, -0.1251, -0.3913, -0.3431],\n",
      "       device='cuda:0', grad_fn=<SqueezeBackward1>), y: tensor([-0.2177,  0.5884,  0.2559,  1.7431, -0.2340, -0.2107, -0.2417, -0.2421,\n",
      "        -0.1932, -0.2413, -0.1517, -0.1834,  0.0460, -0.1065, -0.2417, -0.2044],\n",
      "       device='cuda:0')----------\n"
     ]
    },
    {
     "name": "stderr",
     "output_type": "stream",
     "text": [
      "Epoch [25/50]:   0%|                                                                  | 0/9 [00:00<?, ?it/s, loss=0.0734]"
     ]
    },
    {
     "name": "stdout",
     "output_type": "stream",
     "text": [
      "-------predict: tensor([ 4.1657, -0.1144,  5.7974, -0.3041, -0.3139, -0.2643,  0.2084, -0.3978,\n",
      "        -0.2606, -0.1763, -0.1677, -0.1861, -0.0372, -0.2417, -0.0124, -0.2924],\n",
      "       device='cuda:0', grad_fn=<SqueezeBackward1>), y: tensor([ 4.1428, -0.1552,  6.7906, -0.2411, -0.2388, -0.2325, -0.0928, -0.2398,\n",
      "        -0.2264, -0.2099, -0.1637, -0.2425, -0.2134, -0.2246, -0.1521, -0.2391],\n",
      "       device='cuda:0')----------\n",
      "-------predict: tensor([-0.2892, -0.2237, -0.0939, -0.2907, -0.3242, -0.4259, -0.2534, -0.1933,\n",
      "        -0.2246, -0.4276, -0.2352,  1.1616, -0.3910, -0.3871, -0.4474, -0.1659],\n",
      "       device='cuda:0', grad_fn=<SqueezeBackward1>), y: tensor([-0.2372, -0.2286, -0.2412, -0.2134, -0.2422, -0.2397, -0.2249, -0.2260,\n",
      "        -0.1953, -0.2412, -0.2194,  1.1126, -0.2308, -0.2261, -0.2336, -0.1998],\n",
      "       device='cuda:0')----------\n"
     ]
    },
    {
     "name": "stderr",
     "output_type": "stream",
     "text": [
      "Epoch [25/50]:   0%|                                                                  | 0/9 [00:00<?, ?it/s, loss=0.0131]"
     ]
    },
    {
     "name": "stdout",
     "output_type": "stream",
     "text": [
      "-------predict: tensor([-0.2507, -0.2310, -0.0297,  0.3287, -0.2196, -0.2554, -0.0012, -0.2072,\n",
      "        -0.0502, -0.2351, -0.2760,  0.0297, -0.2000], device='cuda:0',\n",
      "       grad_fn=<SqueezeBackward1>), y: tensor([-0.2348, -0.2207,  0.0753,  0.5685, -0.1750, -0.2297, -0.0244, -0.2415,\n",
      "        -0.1678, -0.2269, -0.2070,  0.0058, -0.2102], device='cuda:0')----------\n"
     ]
    },
    {
     "name": "stderr",
     "output_type": "stream",
     "text": [
      "Epoch [25/50]: 100%|████████████████████████████████████████████████████████| 9/9 [00:00<00:00, 108.55it/s, loss=0.00712]\n"
     ]
    },
    {
     "name": "stdout",
     "output_type": "stream",
     "text": [
      "Epoch [25/50]: Train loss: 0.0184, Valid loss: 0.0370\n",
      "Saving model with loss 0.037...\n"
     ]
    },
    {
     "name": "stderr",
     "output_type": "stream",
     "text": [
      "Epoch [26/50]:   0%|                                                                 | 0/9 [00:00<?, ?it/s, loss=0.00679]"
     ]
    },
    {
     "name": "stdout",
     "output_type": "stream",
     "text": [
      "-------predict: tensor([-0.2446,  0.1525, -0.2359,  5.8417,  9.0417, -0.2675, -0.3393, -0.2363,\n",
      "        -0.2840, -0.1404,  0.3329, -0.2975, -0.2550, -0.2267, -0.3428, -0.2468],\n",
      "       device='cuda:0', grad_fn=<SqueezeBackward1>), y: tensor([-0.1642, -0.0344, -0.2427,  6.7906,  8.6617, -0.2420, -0.2261, -0.2348,\n",
      "        -0.2422, -0.2426,  0.5685, -0.2418, -0.2297, -0.2264, -0.2410, -0.2229],\n",
      "       device='cuda:0')----------\n",
      "-------predict: tensor([-0.2739, -0.1097, -0.2096, -0.1647, -0.1951, -0.2261, -0.1356, -0.1085,\n",
      "        -0.0272, -0.1177, -0.1282, -0.0534, -0.1924,  0.0698, -0.0197, -0.1747],\n",
      "       device='cuda:0', grad_fn=<SqueezeBackward1>), y: tensor([-0.2423, -0.1834, -0.1854, -0.2249, -0.2286, -0.2207, -0.1065, -0.2327,\n",
      "        -0.0014, -0.1552, -0.1409, -0.2134, -0.2102, -0.1521, -0.0244, -0.2296],\n",
      "       device='cuda:0')----------\n"
     ]
    },
    {
     "name": "stderr",
     "output_type": "stream",
     "text": [
      "Epoch [26/50]:   0%|                                                                 | 0/9 [00:00<?, ?it/s, loss=0.00759]"
     ]
    },
    {
     "name": "stdout",
     "output_type": "stream",
     "text": [
      "-------predict: tensor([-0.4023, -0.2262, -0.0905, -0.0959, -0.1820, -0.0713, -0.1605, -0.1858,\n",
      "         0.0520, -0.2326, -0.1168, -0.1094,  0.4113,  1.5885,  0.4943, -0.2175],\n",
      "       device='cuda:0', grad_fn=<SqueezeBackward1>), y: tensor([-0.2397, -0.2286, -0.1517, -0.1990, -0.2194, -0.0876, -0.2385, -0.2388,\n",
      "         0.0460, -0.2417, -0.0042, -0.1139,  0.2559,  1.7431,  0.5884, -0.2372],\n",
      "       device='cuda:0')----------\n"
     ]
    },
    {
     "name": "stderr",
     "output_type": "stream",
     "text": [
      "Epoch [26/50]:   0%|                                                                 | 0/9 [00:00<?, ?it/s, loss=0.00968]"
     ]
    },
    {
     "name": "stdout",
     "output_type": "stream",
     "text": [
      "-------predict: tensor([-0.2194,  0.2622, -0.3241, -0.3099, -0.3145, -0.1144, -0.3679,  0.0117,\n",
      "        -0.2770, -0.2163, -0.1506, -0.2772, -0.2632, -0.3088, -0.1788, -0.3296],\n",
      "       device='cuda:0', grad_fn=<SqueezeBackward1>), y: tensor([-0.2391,  0.1581, -0.2216, -0.2282, -0.2424, -0.2260, -0.2417, -0.2425,\n",
      "        -0.2417, -0.1798, -0.1968, -0.2398, -0.2403, -0.2313, -0.2420, -0.2217],\n",
      "       device='cuda:0')----------\n"
     ]
    },
    {
     "name": "stderr",
     "output_type": "stream",
     "text": [
      "Epoch [26/50]:   0%|                                                                  | 0/9 [00:00<?, ?it/s, loss=0.0139]"
     ]
    },
    {
     "name": "stdout",
     "output_type": "stream",
     "text": [
      "-------predict: tensor([-0.2086, -0.0644, -0.0879, -0.2715, -0.1957,  0.0138,  0.0554,  0.9850,\n",
      "        -0.2865, -0.1694, -0.2243, -0.2148, -0.2224, -0.2964, -0.1012, -0.2232],\n",
      "       device='cuda:0', grad_fn=<SqueezeBackward1>), y: tensor([-0.2044, -0.2062, -0.2112, -0.2258, -0.2297, -0.1833, -0.1515,  1.2423,\n",
      "        -0.2134, -0.2415, -0.2398, -0.1932, -0.1750, -0.2400, -0.2412, -0.2177],\n",
      "       device='cuda:0')----------\n"
     ]
    },
    {
     "name": "stderr",
     "output_type": "stream",
     "text": [
      "Epoch [26/50]:   0%|                                                                  | 0/9 [00:00<?, ?it/s, loss=0.0058]"
     ]
    },
    {
     "name": "stdout",
     "output_type": "stream",
     "text": [
      "-------predict: tensor([-0.1918, -0.1362, -0.2914, -0.3056, -0.3869, -0.1217, -0.3630, -0.2833,\n",
      "        -0.3349, -0.1440,  0.1053,  0.3277, -0.1865, -0.1713, -0.1401, -0.2605],\n",
      "       device='cuda:0', grad_fn=<SqueezeBackward1>), y: tensor([-0.2099, -0.0922, -0.2066, -0.2416, -0.2412, -0.0739, -0.2393, -0.2024,\n",
      "        -0.2426, -0.2426,  0.0535,  0.2747, -0.2246, -0.2325, -0.2070, -0.2413],\n",
      "       device='cuda:0')----------\n"
     ]
    },
    {
     "name": "stderr",
     "output_type": "stream",
     "text": [
      "Epoch [26/50]:   0%|                                                                 | 0/9 [00:00<?, ?it/s, loss=0.00727]"
     ]
    },
    {
     "name": "stdout",
     "output_type": "stream",
     "text": [
      "-------predict: tensor([-0.0863, -0.3062, -0.1779, -0.0887, -0.2368, -0.3023, -0.0974, -0.2157,\n",
      "        -0.1643, -0.0564, -0.0671, -0.1930, -0.1559,  2.2017, -0.3438, -0.1450],\n",
      "       device='cuda:0', grad_fn=<SqueezeBackward1>), y: tensor([-0.2045, -0.2308, -0.2311, -0.2240, -0.2411, -0.2426, -0.2258, -0.1545,\n",
      "        -0.2413, -0.1063, -0.2333, -0.1998, -0.2107,  2.1945, -0.2335, -0.1637],\n",
      "       device='cuda:0')----------\n"
     ]
    },
    {
     "name": "stderr",
     "output_type": "stream",
     "text": [
      "Epoch [26/50]:   0%|                                                                  | 0/9 [00:00<?, ?it/s, loss=0.0113]"
     ]
    },
    {
     "name": "stdout",
     "output_type": "stream",
     "text": [
      "-------predict: tensor([-0.3006, -0.2674, -0.3064, -0.2481, -0.0317, -0.0753, -0.1392,  0.1660,\n",
      "        -0.1414, -0.3228, -0.2506, -0.2698,  0.0495, -0.0915, -0.2688,  0.1059],\n",
      "       device='cuda:0', grad_fn=<SqueezeBackward1>), y: tensor([-0.2388, -0.2373, -0.2298, -0.2340,  0.0753, -0.2422, -0.2245, -0.0928,\n",
      "        -0.2021, -0.2421, -0.2246, -0.2244,  0.0140, -0.2326, -0.2375, -0.0386],\n",
      "       device='cuda:0')----------\n"
     ]
    },
    {
     "name": "stderr",
     "output_type": "stream",
     "text": [
      "Epoch [26/50]: 100%|█████████████████████████████████████████████████████████| 9/9 [00:00<00:00, 107.83it/s, loss=0.0322]"
     ]
    },
    {
     "name": "stdout",
     "output_type": "stream",
     "text": [
      "-------predict: tensor([-0.0373, -0.2234, -0.4104,  1.1784, -0.2660,  0.0358,  4.6257, -0.2508,\n",
      "        -0.1851, -0.0709, -0.2318, -0.2368,  0.1034], device='cuda:0',\n",
      "       grad_fn=<SqueezeBackward1>), y: tensor([-0.1678, -0.1953, -0.2336,  1.1126, -0.2394,  0.0058,  4.1428, -0.2269,\n",
      "        -0.2273, -0.1680, -0.2337, -0.2368, -0.2408], device='cuda:0')----------\n"
     ]
    },
    {
     "name": "stderr",
     "output_type": "stream",
     "text": [
      "\n"
     ]
    },
    {
     "name": "stdout",
     "output_type": "stream",
     "text": [
      "Epoch [26/50]: Train loss: 0.0187, Valid loss: 0.0342\n",
      "Saving model with loss 0.034...\n"
     ]
    },
    {
     "name": "stderr",
     "output_type": "stream",
     "text": [
      "\r",
      "  0%|                                                                                              | 0/9 [00:00<?, ?it/s]"
     ]
    },
    {
     "name": "stdout",
     "output_type": "stream",
     "text": [
      "-------predict: tensor([-0.1448, -0.2439, -0.4145,  0.0100, -0.4147, -0.3478, -0.3905, -0.2834,\n",
      "        -0.1666, -0.1507, -0.2904, -0.3216,  2.2212,  0.0128, -0.1071, -0.1901],\n",
      "       device='cuda:0', grad_fn=<SqueezeBackward1>), y: tensor([-0.2240, -0.2413, -0.2397, -0.1833, -0.2216, -0.2373, -0.2424, -0.2372,\n",
      "        -0.1998, -0.2021, -0.2394, -0.2313,  2.1945, -0.1515, -0.2112, -0.2258],\n",
      "       device='cuda:0')----------\n"
     ]
    },
    {
     "name": "stderr",
     "output_type": "stream",
     "text": [
      "Epoch [27/50]:   0%|                                                                  | 0/9 [00:00<?, ?it/s, loss=0.0126]"
     ]
    },
    {
     "name": "stdout",
     "output_type": "stream",
     "text": [
      "-------predict: tensor([-0.2494,  5.9135, -0.2821,  0.0241, -0.3260, -0.1808,  0.2567, -0.3569,\n",
      "         0.0140, -0.1600, -0.2247, -0.0664, -0.3811, -0.2271, -0.0957, -0.3006],\n",
      "       device='cuda:0', grad_fn=<SqueezeBackward1>), y: tensor([-2.2970e-01,  6.7906e+00, -2.2436e-01,  5.7982e-03, -2.4234e-01,\n",
      "        -1.9895e-01,  1.5810e-01, -2.3928e-01,  4.6002e-02, -1.6371e-01,\n",
      "        -2.3847e-01, -1.4000e-03, -2.4173e-01, -2.2860e-01, -2.3260e-01,\n",
      "        -2.4178e-01], device='cuda:0')----------\n"
     ]
    },
    {
     "name": "stderr",
     "output_type": "stream",
     "text": [
      "Epoch [27/50]:   0%|                                                                  | 0/9 [00:00<?, ?it/s, loss=0.0532]"
     ]
    },
    {
     "name": "stdout",
     "output_type": "stream",
     "text": [
      "-------predict: tensor([-0.3486, -0.3376, -0.0507,  0.1006,  1.1835, -0.1580,  0.9047, -0.3018,\n",
      "        -0.3177, -0.2189, -0.2085, -0.2170,  4.3323, -0.0281, -0.2356, -0.0930],\n",
      "       device='cuda:0', grad_fn=<SqueezeBackward1>), y: tensor([-0.2398, -0.2044, -0.1521, -0.2408,  1.1126, -0.0922,  1.2423, -0.2298,\n",
      "        -0.2217, -0.2260, -0.2102, -0.1798,  4.1428,  0.0753, -0.1642, -0.1139],\n",
      "       device='cuda:0')----------\n"
     ]
    },
    {
     "name": "stderr",
     "output_type": "stream",
     "text": [
      "Epoch [27/50]:   0%|                                                                 | 0/9 [00:00<?, ?it/s, loss=0.00718]"
     ]
    },
    {
     "name": "stdout",
     "output_type": "stream",
     "text": [
      "-------predict: tensor([-0.2087, -0.1892, -0.2027,  0.0092, -0.0513, -0.1740, -0.2380, -0.1688,\n",
      "        -0.3955, -0.2789, -0.3998, -0.0995,  0.4716, -0.2389, -0.1460, -0.2922],\n",
      "       device='cuda:0', grad_fn=<SqueezeBackward1>), y: tensor([-0.2422, -0.1834, -0.1932, -0.0244, -0.2134, -0.1968, -0.1854, -0.2107,\n",
      "        -0.2308, -0.2348, -0.2400, -0.0386,  0.5884, -0.2194, -0.1065, -0.2066],\n",
      "       device='cuda:0')----------\n",
      "-------predict: tensor([-0.3161, -0.2612, -0.3004, -0.1676, -0.1939, -0.3096,  0.1997,  1.6101,\n",
      "        -0.3140, -0.1472, -0.0828, -0.1130, -0.3136, -0.4114, -0.3789, -0.2413],\n",
      "       device='cuda:0', grad_fn=<SqueezeBackward1>), y: tensor([-0.2421, -0.2177, -0.2426, -0.2425, -0.2420, -0.2417, -0.0928,  1.7431,\n",
      "        -0.2411, -0.1517, -0.2062, -0.1552, -0.2391, -0.2398, -0.2261, -0.2246],\n",
      "       device='cuda:0')----------\n"
     ]
    },
    {
     "name": "stderr",
     "output_type": "stream",
     "text": [
      "Epoch [27/50]:   0%|                                                                   | 0/9 [00:00<?, ?it/s, loss=0.013]"
     ]
    },
    {
     "name": "stdout",
     "output_type": "stream",
     "text": [
      "-------predict: tensor([-0.1998, -0.3910, -0.2491,  0.3849, -0.0971, -0.2592,  0.2866, -0.3335,\n",
      "        -0.3585, -0.4027, -0.2137, -0.2791, -0.2700, -0.3326, -0.3017, -0.2158],\n",
      "       device='cuda:0', grad_fn=<SqueezeBackward1>), y: tensor([-0.2045, -0.2417, -0.2340,  0.2559, -0.1063, -0.2426,  0.2747, -0.2403,\n",
      "        -0.2410, -0.2412, -0.2207, -0.2024, -0.2070, -0.2416, -0.2422, -0.2269],\n",
      "       device='cuda:0')----------\n"
     ]
    },
    {
     "name": "stderr",
     "output_type": "stream",
     "text": [
      "Epoch [27/50]:   0%|                                                                 | 0/9 [00:00<?, ?it/s, loss=0.00688]"
     ]
    },
    {
     "name": "stdout",
     "output_type": "stream",
     "text": [
      "-------predict: tensor([-0.2327, -0.1418, -0.2370, -0.1408, -0.2054, -0.0339, -0.2302, -0.3327,\n",
      "        -0.1938, -0.1948, -0.2893, -0.2621, -0.1240, -0.1542,  0.3457, -0.0692],\n",
      "       device='cuda:0', grad_fn=<SqueezeBackward1>), y: tensor([-0.2337, -0.2245, -0.2229, -0.2246, -0.2388, -0.1678, -0.1545, -0.2335,\n",
      "        -0.2099, -0.2325, -0.2388, -0.2375, -0.2327, -0.2273,  0.5685, -0.1680],\n",
      "       device='cuda:0')----------\n"
     ]
    },
    {
     "name": "stderr",
     "output_type": "stream",
     "text": [
      "Epoch [27/50]:   0%|                                                                 | 0/9 [00:00<?, ?it/s, loss=0.00813]"
     ]
    },
    {
     "name": "stdout",
     "output_type": "stream",
     "text": [
      "-------predict: tensor([-0.3857, -0.1666, -0.0491, -0.2686, -0.2642, -0.2013, -0.1245, -0.1202,\n",
      "        -0.1606, -0.0662, -0.2135,  0.1025, -0.1156, -0.1804, -0.2354, -0.1764],\n",
      "       device='cuda:0', grad_fn=<SqueezeBackward1>), y: tensor([-0.2336, -0.2427, -0.0876, -0.2413, -0.2258, -0.2264, -0.0739, -0.2415,\n",
      "        -0.2296, -0.2426, -0.1750,  0.0535, -0.2249, -0.2311, -0.2134, -0.2286],\n",
      "       device='cuda:0')----------\n"
     ]
    },
    {
     "name": "stderr",
     "output_type": "stream",
     "text": [
      "Epoch [27/50]: 100%|█████████████████████████████████████████████████████████| 9/9 [00:00<00:00, 109.98it/s, loss=0.0207]\n"
     ]
    },
    {
     "name": "stdout",
     "output_type": "stream",
     "text": [
      "-------predict: tensor([ 0.1519, -0.1146, -0.3008, -0.2257, -0.2236, -0.2167, -0.1219, -0.1010,\n",
      "         9.0743, -0.1933,  0.0400, -0.2188, -0.0815], device='cuda:0',\n",
      "       grad_fn=<SqueezeBackward1>), y: tensor([-3.4434e-02, -4.1539e-03, -2.2819e-01, -2.4260e-01, -1.9530e-01,\n",
      "        -2.3682e-01, -1.4093e-01, -2.4119e-01,  8.6617e+00, -2.2969e-01,\n",
      "         1.4033e-02, -2.4200e-01, -2.3327e-01], device='cuda:0')----------\n",
      "Epoch [27/50]: Train loss: 0.0167, Valid loss: 0.0496\n"
     ]
    },
    {
     "name": "stderr",
     "output_type": "stream",
     "text": [
      "Epoch [28/50]:   0%|                                                                               | 0/9 [00:00<?, ?it/s]"
     ]
    },
    {
     "name": "stdout",
     "output_type": "stream",
     "text": [
      "-------predict: tensor([-0.2155, -0.2487, -0.2123, -0.2700, -0.2971, -0.2138, -0.1638, -0.2301,\n",
      "        -0.0250,  9.0439, -0.3580, -0.2656, -0.0899, -0.2003, -0.2364, -0.2793],\n",
      "       device='cuda:0', grad_fn=<SqueezeBackward1>), y: tensor([-0.1750, -0.2375, -0.1932, -0.2388, -0.2261, -0.1798, -0.2246, -0.2134,\n",
      "        -0.1678,  8.6617, -0.2412, -0.2066, -0.2070, -0.1998, -0.2340, -0.2400],\n",
      "       device='cuda:0')----------\n"
     ]
    },
    {
     "name": "stderr",
     "output_type": "stream",
     "text": [
      "Epoch [28/50]:   0%|                                                                  | 0/9 [00:00<?, ?it/s, loss=0.0685]"
     ]
    },
    {
     "name": "stdout",
     "output_type": "stream",
     "text": [
      "-------predict: tensor([-0.3691, -0.1018, -0.0619, -0.2383, -0.0569,  5.8218, -0.2164, -0.1341,\n",
      "        -0.3046, -0.2426, -0.2304, -0.2629, -0.3679,  0.1876, -0.1567, -0.1165],\n",
      "       device='cuda:0', grad_fn=<SqueezeBackward1>), y: tensor([-0.2397, -0.0922, -0.2385, -0.2426, -0.2112,  6.7906, -0.2244, -0.0739,\n",
      "        -0.2308, -0.2246, -0.2372, -0.2258, -0.2336, -0.0386, -0.2311, -0.1409],\n",
      "       device='cuda:0')----------\n"
     ]
    },
    {
     "name": "stderr",
     "output_type": "stream",
     "text": [
      "Epoch [28/50]:   0%|                                                                 | 0/9 [00:00<?, ?it/s, loss=0.00964]"
     ]
    },
    {
     "name": "stdout",
     "output_type": "stream",
     "text": [
      "-------predict: tensor([-0.0157, -0.1611, -0.3205, -0.1874, -0.1490, -0.1907, -0.0429, -0.0377,\n",
      "        -0.1012, -0.1051, -0.1075,  0.0485, -0.1072, -0.0290, -0.0691, -0.0548],\n",
      "       device='cuda:0', grad_fn=<SqueezeBackward1>), y: tensor([-0.0244, -0.2207, -0.2417, -0.2264, -0.2296, -0.1545, -0.0876, -0.2426,\n",
      "        -0.1552, -0.2273, -0.1139,  0.0058, -0.1065, -0.2425, -0.1063, -0.2062],\n",
      "       device='cuda:0')----------\n",
      "-------predict: tensor([-0.2259, -0.2955, -0.1743, -0.1995, -0.3699,  1.1211,  0.0326, -0.3328,\n",
      "        -0.2680, -0.0937, -0.0444, -0.2316,  1.5643, -0.1306, -0.1969, -0.2572],\n",
      "       device='cuda:0', grad_fn=<SqueezeBackward1>), y: tensor([-0.1642, -0.2416, -0.2269, -0.2373, -0.2216,  1.1126, -0.1515, -0.2335,\n",
      "        -0.2413, -0.2422, -0.1680, -0.2398,  1.7431, -0.2021, -0.2426, -0.2422],\n",
      "       device='cuda:0')----------\n"
     ]
    },
    {
     "name": "stderr",
     "output_type": "stream",
     "text": [
      "Epoch [28/50]:   0%|                                                                 | 0/9 [00:00<?, ?it/s, loss=0.00858]"
     ]
    },
    {
     "name": "stdout",
     "output_type": "stream",
     "text": [
      "-------predict: tensor([ 0.1427,  2.1964, -0.1528, -0.1943, -0.2322, -0.2478, -0.2681, -0.0931,\n",
      "        -0.3094, -0.3123, -0.2685, -0.3615, -0.1024, -0.1797, -0.2271,  0.3388],\n",
      "       device='cuda:0', grad_fn=<SqueezeBackward1>), y: tensor([-0.0928,  2.1945, -0.2045, -0.2423, -0.2394, -0.2297, -0.2411, -0.2333,\n",
      "        -0.2403, -0.2393, -0.2024, -0.2424, -0.2326, -0.2388, -0.2413,  0.2559],\n",
      "       device='cuda:0')----------\n"
     ]
    },
    {
     "name": "stderr",
     "output_type": "stream",
     "text": [
      "Epoch [28/50]:   0%|                                                                 | 0/9 [00:00<?, ?it/s, loss=0.00483]"
     ]
    },
    {
     "name": "stdout",
     "output_type": "stream",
     "text": [
      "-------predict: tensor([-0.0089, -0.1516, -0.1928, -0.2235, -0.0739, -0.2928,  0.1403, -0.2201,\n",
      "         0.2692, -0.2346, -0.1541, -0.1703, -0.1822, -0.3054, -0.2089, -0.3022],\n",
      "       device='cuda:0', grad_fn=<SqueezeBackward1>), y: tensor([-0.0014, -0.1834, -0.2427, -0.2368, -0.2134, -0.2313, -0.0344, -0.2194,\n",
      "         0.2747, -0.2229, -0.1968, -0.2258, -0.2102, -0.2398, -0.2099, -0.2044],\n",
      "       device='cuda:0')----------\n"
     ]
    },
    {
     "name": "stderr",
     "output_type": "stream",
     "text": [
      "Epoch [28/50]:   0%|                                                                  | 0/9 [00:00<?, ?it/s, loss=0.0113]"
     ]
    },
    {
     "name": "stdout",
     "output_type": "stream",
     "text": [
      "-------predict: tensor([-1.7196e-01,  3.8417e+00, -1.1092e-01, -1.6694e-01, -2.9968e-01,\n",
      "        -2.2077e-01, -2.9495e-01,  2.5351e-01, -2.5914e-01,  1.1995e-05,\n",
      "        -1.4804e-01, -1.3623e-01, -2.9823e-01, -2.4170e-01, -2.7561e-01,\n",
      "        -1.7377e-01], device='cuda:0', grad_fn=<SqueezeBackward1>), y: tensor([-0.1990,  4.1428, -0.2412, -0.2240, -0.2417, -0.1953, -0.2298,  0.1581,\n",
      "        -0.2286, -0.1833, -0.1517, -0.2327, -0.2282, -0.2426, -0.2421, -0.2107],\n",
      "       device='cuda:0')----------\n"
     ]
    },
    {
     "name": "stderr",
     "output_type": "stream",
     "text": [
      "Epoch [28/50]:   0%|                                                                  | 0/9 [00:00<?, ?it/s, loss=0.0245]"
     ]
    },
    {
     "name": "stdout",
     "output_type": "stream",
     "text": [
      "-------predict: tensor([ 0.0497,  0.3002, -0.2756, -0.2385,  0.0726, -0.2316, -0.0099, -0.3158,\n",
      "        -0.2571, -0.3004, -0.2856,  0.8341, -0.1852, -0.2362,  0.0896, -0.3633],\n",
      "       device='cuda:0', grad_fn=<SqueezeBackward1>), y: tensor([ 0.0140,  0.5685, -0.2348, -0.1854,  0.0535, -0.2337,  0.0460, -0.2217,\n",
      "        -0.2249, -0.2418, -0.2297,  1.2423, -0.2420, -0.2245, -0.2408, -0.2417],\n",
      "       device='cuda:0')----------\n"
     ]
    },
    {
     "name": "stderr",
     "output_type": "stream",
     "text": [
      "Epoch [28/50]: 100%|████████████████████████████████████████████████████████| 9/9 [00:00<00:00, 107.15it/s, loss=0.00645]"
     ]
    },
    {
     "name": "stdout",
     "output_type": "stream",
     "text": [
      "-------predict: tensor([-0.2997, -0.1046, -0.2696, -0.3691, -0.1944, -0.2265, -0.0324, -0.1534,\n",
      "        -0.3139,  0.4591, -0.1914, -0.0306, -0.2531], device='cuda:0',\n",
      "       grad_fn=<SqueezeBackward1>), y: tensor([-0.2391, -0.0042, -0.2325, -0.2410, -0.2260, -0.2286, -0.1521, -0.1637,\n",
      "        -0.2420,  0.5884, -0.2415,  0.0753, -0.2177], device='cuda:0')----------\n"
     ]
    },
    {
     "name": "stderr",
     "output_type": "stream",
     "text": [
      "\n"
     ]
    },
    {
     "name": "stdout",
     "output_type": "stream",
     "text": [
      "Epoch [28/50]: Train loss: 0.0174, Valid loss: 0.0325\n",
      "Saving model with loss 0.033...\n"
     ]
    },
    {
     "name": "stderr",
     "output_type": "stream",
     "text": [
      "Epoch [29/50]:   0%|                                                                               | 0/9 [00:00<?, ?it/s]"
     ]
    },
    {
     "name": "stdout",
     "output_type": "stream",
     "text": [
      "-------predict: tensor([-0.3133, -0.0318, -0.3883, -0.1579, -0.2339, -0.3106,  0.0860, -0.1778,\n",
      "        -0.2710, -0.2191, -0.2267, -0.3351, -0.1673, -0.2597, -0.0186, -0.2260],\n",
      "       device='cuda:0', grad_fn=<SqueezeBackward1>), y: tensor([-0.2422,  0.0753, -0.2412, -0.2107, -0.2194, -0.2417, -0.2408, -0.2425,\n",
      "        -0.2394, -0.1953, -0.2045, -0.2416, -0.1998, -0.2286, -0.1521, -0.1642],\n",
      "       device='cuda:0')----------\n"
     ]
    },
    {
     "name": "stderr",
     "output_type": "stream",
     "text": [
      "Epoch [29/50]:   0%|                                                                 | 0/9 [00:00<?, ?it/s, loss=0.00683]"
     ]
    },
    {
     "name": "stdout",
     "output_type": "stream",
     "text": [
      "-------predict: tensor([-0.2868, -0.2331, -0.3005, -0.1164, -0.1605, -0.2720, -0.2939, -0.0998,\n",
      "        -0.2046,  0.2787, -0.3503,  1.5846, -0.3796, -0.2538, -0.3891, -0.2775],\n",
      "       device='cuda:0', grad_fn=<SqueezeBackward1>), y: tensor([-0.2070, -0.2311, -0.2426, -0.0922, -0.1990, -0.2024, -0.2282, -0.1063,\n",
      "        -0.1932,  0.2747, -0.2403,  1.7431, -0.2261, -0.2264, -0.2308, -0.2391],\n",
      "       device='cuda:0')----------\n"
     ]
    },
    {
     "name": "stderr",
     "output_type": "stream",
     "text": [
      "Epoch [29/50]:   0%|                                                                 | 0/9 [00:00<?, ?it/s, loss=0.00469]"
     ]
    },
    {
     "name": "stdout",
     "output_type": "stream",
     "text": [
      "-------predict: tensor([-0.2266, -0.0029, -0.1414, -0.2070, -0.1048, -0.2531, -0.3618, -0.3073,\n",
      "        -0.0977, -0.2218, -0.2276,  0.1292, -0.2309, -0.2988, -0.1785,  1.1405],\n",
      "       device='cuda:0', grad_fn=<SqueezeBackward1>), y: tensor([-0.2099, -0.0386, -0.1834, -0.2423, -0.2326, -0.2244, -0.2417, -0.2393,\n",
      "        -0.1139, -0.2286, -0.2337, -0.0344, -0.2246, -0.2372, -0.2296,  1.1126],\n",
      "       device='cuda:0')----------\n"
     ]
    },
    {
     "name": "stderr",
     "output_type": "stream",
     "text": [
      "Epoch [29/50]:   0%|                                                                 | 0/9 [00:00<?, ?it/s, loss=0.00858]"
     ]
    },
    {
     "name": "stdout",
     "output_type": "stream",
     "text": [
      "-------predict: tensor([-0.1607, -0.2459, -0.2875, -0.2421, -0.1854,  0.0328, -0.1278, -0.2256,\n",
      "        -0.2283, -0.2130, -0.4017, -0.0976, -0.3118, -0.3130, -0.1251, -0.1735],\n",
      "       device='cuda:0', grad_fn=<SqueezeBackward1>), y: tensor([-0.2249, -0.2066, -0.2398, -0.1545, -0.2420, -0.1515, -0.2412, -0.2368,\n",
      "        -0.2269, -0.2427, -0.2216, -0.2134, -0.2418, -0.2217, -0.2258, -0.2102],\n",
      "       device='cuda:0')----------\n"
     ]
    },
    {
     "name": "stderr",
     "output_type": "stream",
     "text": [
      "Epoch [29/50]:   0%|                                                                  | 0/9 [00:00<?, ?it/s, loss=0.0557]"
     ]
    },
    {
     "name": "stdout",
     "output_type": "stream",
     "text": [
      "-------predict: tensor([ 0.0279, -0.0877, -0.3218, -0.2682, -0.2950,  5.8918, -0.2789, -0.1449,\n",
      "        -0.1236, -0.3216, -0.0919, -0.2154, -0.0505, -0.1546, -0.1294, -0.2456],\n",
      "       device='cuda:0', grad_fn=<SqueezeBackward1>), y: tensor([ 5.7982e-03, -2.1125e-01, -2.3997e-01, -2.4200e-01, -2.3135e-01,\n",
      "         6.7906e+00, -2.0439e-01, -2.2727e-01, -1.0647e-01, -2.3349e-01,\n",
      "        -1.5173e-01, -2.4129e-01, -1.6797e-01, -2.4146e-01, -2.3275e-01,\n",
      "        -2.2970e-01], device='cuda:0')----------\n"
     ]
    },
    {
     "name": "stderr",
     "output_type": "stream",
     "text": [
      "Epoch [29/50]:   0%|                                                                  | 0/9 [00:00<?, ?it/s, loss=0.0064]"
     ]
    },
    {
     "name": "stdout",
     "output_type": "stream",
     "text": [
      "-------predict: tensor([-0.1040, -0.2304, -0.3450,  0.0392, -0.2607, -0.1392, -0.0985, -0.2416,\n",
      "         0.0330, -0.2113, -0.1075, -0.3950, -0.1138, -0.0079, -0.2549, -0.2022],\n",
      "       device='cuda:0', grad_fn=<SqueezeBackward1>), y: tensor([-0.0042, -0.2373, -0.2424,  0.0460, -0.2398, -0.2246, -0.1409, -0.2229,\n",
      "         0.0140, -0.1798, -0.0739, -0.2336, -0.2240, -0.1833, -0.2411, -0.1854],\n",
      "       device='cuda:0')----------\n",
      "-------predict: tensor([-0.2446,  0.4102,  0.3445, -0.2181, -0.2588,  1.0087,  9.1175, -0.0693,\n",
      "        -0.1561, -0.1415, -0.2604,  0.1223,  2.2219, -0.2337, -0.2083, -0.2651],\n",
      "       device='cuda:0', grad_fn=<SqueezeBackward1>), y: tensor([-0.2340,  0.2559,  0.5685, -0.2348, -0.2258,  1.2423,  8.6617, -0.2062,\n",
      "        -0.1968, -0.2388, -0.2426, -0.0928,  2.1945, -0.2134, -0.1750, -0.2413],\n",
      "       device='cuda:0')----------\n"
     ]
    },
    {
     "name": "stderr",
     "output_type": "stream",
     "text": [
      "Epoch [29/50]:   0%|                                                                  | 0/9 [00:00<?, ?it/s, loss=0.0261]"
     ]
    },
    {
     "name": "stdout",
     "output_type": "stream",
     "text": [
      "-------predict: tensor([-0.1329, -0.1386, -0.1918, -0.0958,  0.1114, -0.2134, -0.0833,  4.4624,\n",
      "         0.3003,  0.5044, -0.0305, -0.0148, -0.0823,  0.0176, -0.0959, -0.2650],\n",
      "       device='cuda:0', grad_fn=<SqueezeBackward1>), y: tensor([-2.4263e-01, -2.3250e-01, -2.2969e-01, -2.3847e-01,  5.3457e-02,\n",
      "        -2.1770e-01, -2.2454e-01,  4.1428e+00,  1.5810e-01,  5.8844e-01,\n",
      "        -1.6781e-01, -2.4388e-02, -2.4215e-01, -1.4000e-03, -2.2599e-01,\n",
      "        -2.4207e-01], device='cuda:0')----------\n"
     ]
    },
    {
     "name": "stderr",
     "output_type": "stream",
     "text": [
      "Epoch [29/50]:   0%|                                                                  | 0/9 [00:00<?, ?it/s, loss=0.0161]"
     ]
    },
    {
     "name": "stdout",
     "output_type": "stream",
     "text": [
      "-------predict: tensor([-0.3769, -0.1222, -0.1431, -0.2586, -0.1328, -0.2588, -0.1145, -0.2925,\n",
      "        -0.1872, -0.2911, -0.0885, -0.0930, -0.3080], device='cuda:0',\n",
      "       grad_fn=<SqueezeBackward1>), y: tensor([-0.2397, -0.1552, -0.1637, -0.2417, -0.2021, -0.2375, -0.2426, -0.2388,\n",
      "        -0.2207, -0.2298, -0.2333, -0.0876, -0.2410], device='cuda:0')----------\n"
     ]
    },
    {
     "name": "stderr",
     "output_type": "stream",
     "text": [
      "Epoch [29/50]: 100%|████████████████████████████████████████████████████████| 9/9 [00:00<00:00, 107.18it/s, loss=0.00581]\n"
     ]
    },
    {
     "name": "stdout",
     "output_type": "stream",
     "text": [
      "Epoch [29/50]: Train loss: 0.0158, Valid loss: 0.0379\n"
     ]
    },
    {
     "name": "stderr",
     "output_type": "stream",
     "text": [
      "Epoch [30/50]:   0%|                                                                  | 0/9 [00:00<?, ?it/s, loss=0.0174]"
     ]
    },
    {
     "name": "stdout",
     "output_type": "stream",
     "text": [
      "-------predict: tensor([-0.3840, -0.2528,  9.1210, -0.1076, -0.1397, -0.2779,  0.0402,  1.1537,\n",
      "        -0.3329, -0.3295, -0.2780, -0.0999, -0.2301, -0.2262, -0.2943,  2.2039],\n",
      "       device='cuda:0', grad_fn=<SqueezeBackward1>), y: tensor([-0.2397, -0.2372,  8.6617, -0.2422, -0.2021, -0.2426,  0.0460,  1.1126,\n",
      "        -0.2424, -0.2393, -0.2413, -0.0876, -0.2368, -0.2286, -0.2298,  2.1945],\n",
      "       device='cuda:0')----------\n",
      "-------predict: tensor([-0.1020, -0.2234, -0.2583, -0.1802, -0.1554, -0.2459,  0.3273, -0.0111,\n",
      "        -0.1879, -0.1021, -0.1859, -0.3325,  0.1216, -0.1049, -0.1303, -0.2805],\n",
      "       device='cuda:0', grad_fn=<SqueezeBackward1>), y: tensor([-0.2333, -0.2286, -0.2258, -0.1998, -0.2107, -0.2229,  0.5685, -0.0244,\n",
      "        -0.2102, -0.2112, -0.2388, -0.2426, -0.0344, -0.0739, -0.2240, -0.2422],\n",
      "       device='cuda:0')----------\n"
     ]
    },
    {
     "name": "stderr",
     "output_type": "stream",
     "text": [
      "Epoch [30/50]:   0%|                                                                 | 0/9 [00:00<?, ?it/s, loss=0.00872]"
     ]
    },
    {
     "name": "stdout",
     "output_type": "stream",
     "text": [
      "-------predict: tensor([ 0.0131, -0.2424, -0.1419, -0.0400, -0.1150, -0.1512, -0.1597, -0.3686,\n",
      "         0.0915, -0.2047,  0.4846, -0.3166, -0.2424, -0.3400,  1.5918, -0.1883],\n",
      "       device='cuda:0', grad_fn=<SqueezeBackward1>), y: tensor([-0.1521, -0.1545, -0.2327,  0.0753, -0.2426, -0.1637, -0.2385, -0.2417,\n",
      "         0.0535, -0.1750,  0.5884, -0.2335, -0.2070, -0.2410,  1.7431, -0.2296],\n",
      "       device='cuda:0')----------\n"
     ]
    },
    {
     "name": "stderr",
     "output_type": "stream",
     "text": [
      "Epoch [30/50]:   0%|                                                                 | 0/9 [00:00<?, ?it/s, loss=0.00944]"
     ]
    },
    {
     "name": "stdout",
     "output_type": "stream",
     "text": [
      "-------predict: tensor([-0.3222, -0.0808, -0.3648, -0.2300,  0.0746, -0.3055, -0.2225, -0.1799,\n",
      "        -0.0429, -0.2593, -0.3086, -0.3675, -0.2902, -0.2982, -0.1329, -0.3186],\n",
      "       device='cuda:0', grad_fn=<SqueezeBackward1>), y: tensor([-0.2416, -0.1063, -0.2400, -0.2413, -0.2408, -0.2388, -0.1854, -0.2260,\n",
      "        -0.0014, -0.2348, -0.2313, -0.2261, -0.2282, -0.2411, -0.2246, -0.2373],\n",
      "       device='cuda:0')----------\n"
     ]
    },
    {
     "name": "stderr",
     "output_type": "stream",
     "text": [
      "Epoch [30/50]:   0%|                                                                 | 0/9 [00:00<?, ?it/s, loss=0.00718]"
     ]
    },
    {
     "name": "stdout",
     "output_type": "stream",
     "text": [
      "-------predict: tensor([ 0.2601, -0.2687, -0.2556, -0.2001,  0.3758, -0.3388, -0.2378, -0.2684,\n",
      "        -0.1882, -0.4306, -0.2470, -0.2264,  0.0427, -0.3595, -0.2928, -0.1025],\n",
      "       device='cuda:0', grad_fn=<SqueezeBackward1>), y: tensor([ 0.1581, -0.2297, -0.2325, -0.2415,  0.2559, -0.2417, -0.2311, -0.2423,\n",
      "        -0.2420, -0.2336, -0.2297, -0.1642,  0.0140, -0.2398, -0.2391, -0.2134],\n",
      "       device='cuda:0')----------\n",
      "-------predict: tensor([-0.1648, -0.0150, -0.0875, -0.2502, -0.2623, -0.3799, -0.2676, -0.2189,\n",
      "        -0.2014,  0.1446, -0.3619, -0.3013,  5.8533,  0.2869, -0.2663, -0.2085],\n",
      "       device='cuda:0', grad_fn=<SqueezeBackward1>), y: tensor([-0.1968, -0.0386, -0.2062, -0.2264, -0.2244, -0.2412, -0.2375, -0.1953,\n",
      "        -0.1932, -0.0928, -0.2308, -0.2421,  6.7906,  0.2747, -0.2269, -0.2207],\n",
      "       device='cuda:0')----------\n"
     ]
    },
    {
     "name": "stderr",
     "output_type": "stream",
     "text": [
      "Epoch [30/50]:   0%|                                                                  | 0/9 [00:00<?, ?it/s, loss=0.0622]"
     ]
    },
    {
     "name": "stdout",
     "output_type": "stream",
     "text": [
      "-------predict: tensor([-0.2534, -0.2411, -0.3130, -0.1157, -0.2686, -0.1610, -0.2350,  0.0223,\n",
      "        -0.2328, -0.1116, -0.2508,  0.9293, -0.3041, -0.3081,  4.1635, -0.0925],\n",
      "       device='cuda:0', grad_fn=<SqueezeBackward1>), y: tensor([-0.2394, -0.2427, -0.2403, -0.1517, -0.2420, -0.2045, -0.2246,  0.0058,\n",
      "        -0.2177, -0.2326, -0.2134,  1.2423, -0.2418, -0.2217,  4.1428, -0.1139],\n",
      "       device='cuda:0')----------\n"
     ]
    },
    {
     "name": "stderr",
     "output_type": "stream",
     "text": [
      "Epoch [30/50]:   0%|                                                                 | 0/9 [00:00<?, ?it/s, loss=0.00851]"
     ]
    },
    {
     "name": "stdout",
     "output_type": "stream",
     "text": [
      "-------predict: tensor([-0.2164, -0.1178, -0.2278, -0.2607, -0.1430, -0.2619, -0.2435, -0.2588,\n",
      "        -0.1370, -0.3675, -0.0151, -0.2594, -0.1014, -0.0553, -0.1026, -0.1304],\n",
      "       device='cuda:0', grad_fn=<SqueezeBackward1>), y: tensor([-0.2194, -0.2258, -0.2337, -0.2398, -0.2249, -0.2024, -0.2340, -0.2417,\n",
      "        -0.2412, -0.2216, -0.1833, -0.2044, -0.0922, -0.1680, -0.0042, -0.1065],\n",
      "       device='cuda:0')----------\n"
     ]
    },
    {
     "name": "stderr",
     "output_type": "stream",
     "text": [
      "Epoch [30/50]:   0%|                                                                 | 0/9 [00:00<?, ?it/s, loss=0.00683]"
     ]
    },
    {
     "name": "stdout",
     "output_type": "stream",
     "text": [
      "-------predict: tensor([-0.1478, -0.1064, -0.0356, -0.1186, -0.2085, -0.0984,  0.0514, -0.2456,\n",
      "        -0.2474, -0.1017, -0.0721, -0.1673, -0.1000], device='cuda:0',\n",
      "       grad_fn=<SqueezeBackward1>), y: tensor([-0.2273, -0.2245, -0.1678, -0.1552, -0.1798, -0.1834, -0.1515, -0.2099,\n",
      "        -0.2066, -0.1409, -0.2425, -0.2426, -0.1990], device='cuda:0')----------\n"
     ]
    },
    {
     "name": "stderr",
     "output_type": "stream",
     "text": [
      "Epoch [30/50]: 100%|█████████████████████████████████████████████████████████| 9/9 [00:00<00:00, 107.22it/s, loss=0.0106]\n"
     ]
    },
    {
     "name": "stdout",
     "output_type": "stream",
     "text": [
      "Epoch [30/50]: Train loss: 0.0158, Valid loss: 0.0389\n"
     ]
    },
    {
     "name": "stderr",
     "output_type": "stream",
     "text": [
      "Epoch [31/50]:   0%|                                                                               | 0/9 [00:00<?, ?it/s]"
     ]
    },
    {
     "name": "stdout",
     "output_type": "stream",
     "text": [
      "-------predict: tensor([-0.2189,  0.3337, -0.1084, -0.2232, -0.3119,  0.0592,  0.4936, -0.3070,\n",
      "        -0.2918, -0.1510, -0.1902, -0.1765, -0.0153, -0.1857, -0.2196, -0.2263],\n",
      "       device='cuda:0', grad_fn=<SqueezeBackward1>), y: tensor([-0.1953,  0.5685, -0.1834, -0.1642, -0.2410, -0.1521,  0.5884, -0.2393,\n",
      "        -0.2403, -0.2107, -0.2311, -0.2325, -0.1833, -0.1998, -0.2286, -0.2134],\n",
      "       device='cuda:0')----------\n"
     ]
    },
    {
     "name": "stderr",
     "output_type": "stream",
     "text": [
      "Epoch [31/50]:   0%|                                                                  | 0/9 [00:00<?, ?it/s, loss=0.0103]"
     ]
    },
    {
     "name": "stdout",
     "output_type": "stream",
     "text": [
      "-------predict: tensor([-0.0994, -0.1416, -0.2845,  0.0725, -0.2267, -0.1428,  2.2049, -0.1975,\n",
      "        -0.1325, -0.3062, -0.1896, -0.2340, -0.1359,  0.1174, -0.2608, -0.2280],\n",
      "       device='cuda:0', grad_fn=<SqueezeBackward1>), y: tensor([-0.0042, -0.2045, -0.2398, -0.2408, -0.2177, -0.2422,  2.1945, -0.2070,\n",
      "        -0.1065, -0.2217, -0.2388, -0.2297, -0.2240, -0.0344, -0.2375, -0.2368],\n",
      "       device='cuda:0')----------\n"
     ]
    },
    {
     "name": "stderr",
     "output_type": "stream",
     "text": [
      "Epoch [31/50]:   0%|                                                                 | 0/9 [00:00<?, ?it/s, loss=0.00699]"
     ]
    },
    {
     "name": "stdout",
     "output_type": "stream",
     "text": [
      "-------predict: tensor([-0.1094, -0.2887, -0.2269,  0.9490, -0.2880, -0.3110, -0.2818, -0.2459,\n",
      "        -0.0982, -0.3116, -0.1854, -0.2467, -0.2568,  0.2984,  0.0879, -0.1823],\n",
      "       device='cuda:0', grad_fn=<SqueezeBackward1>), y: tensor([-0.0922, -0.2372, -0.2337,  1.2423, -0.2421, -0.2417, -0.2417, -0.2340,\n",
      "        -0.0739, -0.2335, -0.2102, -0.2099, -0.2426,  0.2747,  0.0535, -0.2415],\n",
      "       device='cuda:0')----------\n"
     ]
    },
    {
     "name": "stderr",
     "output_type": "stream",
     "text": [
      "Epoch [31/50]:   0%|                                                                 | 0/9 [00:00<?, ?it/s, loss=0.00543]"
     ]
    },
    {
     "name": "stdout",
     "output_type": "stream",
     "text": [
      "-------predict: tensor([-0.2934, -0.3711, -0.0734, -0.2492, -0.2092, -0.2470, -0.1553, -0.3730,\n",
      "        -0.3178, -0.1875,  0.0170, -0.0901, -0.1903, -0.3784, -0.1411, -0.1205],\n",
      "       device='cuda:0', grad_fn=<SqueezeBackward1>), y: tensor([-0.2420, -0.2261, -0.1063, -0.2066, -0.1798, -0.2269, -0.1990, -0.2308,\n",
      "        -0.2413, -0.2420,  0.0460, -0.1409, -0.2207, -0.2412, -0.2021, -0.1552],\n",
      "       device='cuda:0')----------\n"
     ]
    },
    {
     "name": "stderr",
     "output_type": "stream",
     "text": [
      "Epoch [31/50]:   0%|                                                                 | 0/9 [00:00<?, ?it/s, loss=0.00681]"
     ]
    },
    {
     "name": "stdout",
     "output_type": "stream",
     "text": [
      "-------predict: tensor([-0.3869, -0.1505, -0.0885, -0.2152, -0.3809, -0.2177, -0.1149, -0.2606,\n",
      "        -0.1965, -0.3015, -0.1146, -0.3121, -0.1913, -0.1078, -0.3004, -0.1187],\n",
      "       device='cuda:0', grad_fn=<SqueezeBackward1>), y: tensor([-0.2397, -0.2385, -0.1680, -0.1854, -0.2424, -0.2427, -0.2246, -0.2348,\n",
      "        -0.1932, -0.2411, -0.2326, -0.2416, -0.2296, -0.2112, -0.2373, -0.1517],\n",
      "       device='cuda:0')----------\n"
     ]
    },
    {
     "name": "stderr",
     "output_type": "stream",
     "text": [
      "Epoch [31/50]:   0%|                                                                 | 0/9 [00:00<?, ?it/s, loss=0.00904]"
     ]
    },
    {
     "name": "stdout",
     "output_type": "stream",
     "text": [
      "-------predict: tensor([-0.0529, -0.1968, -0.2514, -0.2336, -0.4321,  0.0147, -0.0992, -0.2270,\n",
      "        -0.3020,  0.0408, -0.3025, -0.0878, -0.0995, -0.2631,  0.3952, -0.2519],\n",
      "       device='cuda:0', grad_fn=<SqueezeBackward1>), y: tensor([-0.1678, -0.1750, -0.2264, -0.2413, -0.2336, -0.1515, -0.2426, -0.2423,\n",
      "        -0.2426,  0.0140, -0.2418, -0.2062, -0.0876, -0.2426,  0.2559, -0.2286],\n",
      "       device='cuda:0')----------\n"
     ]
    },
    {
     "name": "stderr",
     "output_type": "stream",
     "text": [
      "Epoch [31/50]:   0%|                                                                  | 0/9 [00:00<?, ?it/s, loss=0.0166]"
     ]
    },
    {
     "name": "stdout",
     "output_type": "stream",
     "text": [
      "-------predict: tensor([-0.3994,  1.1537, -0.1515,  9.0549, -0.2487, -0.3023, -0.3716, -0.2522,\n",
      "        -0.2464, -0.1585, -0.1724, -0.1266, -0.2804, -0.3019,  4.2981, -0.2843],\n",
      "       device='cuda:0', grad_fn=<SqueezeBackward1>), y: tensor([-0.2216,  1.1126, -0.1637,  8.6617, -0.2229, -0.2422, -0.2417, -0.2258,\n",
      "        -0.2297, -0.2327, -0.2425, -0.2333, -0.2298, -0.2398,  4.1428, -0.2282],\n",
      "       device='cuda:0')----------\n"
     ]
    },
    {
     "name": "stderr",
     "output_type": "stream",
     "text": [
      "Epoch [31/50]:   0%|                                                                 | 0/9 [00:00<?, ?it/s, loss=0.00327]"
     ]
    },
    {
     "name": "stdout",
     "output_type": "stream",
     "text": [
      "-------predict: tensor([-0.1755, -0.1389, -0.3062, -0.2280, -0.2652, -0.0839, -0.2288,  0.0180,\n",
      "        -0.2828, -0.3007, -0.0033, -0.2472, -0.2640, -0.1131, -0.0314, -0.1710],\n",
      "       device='cuda:0', grad_fn=<SqueezeBackward1>), y: tensor([-0.2258, -0.2412, -0.2313, -0.1545, -0.2244, -0.1139, -0.2246,  0.0058,\n",
      "        -0.2391, -0.2388, -0.0386, -0.2194, -0.2024, -0.2134, -0.0014, -0.2260],\n",
      "       device='cuda:0')----------\n",
      "-------predict: tensor([-1.6459e-01, -1.8707e-01,  1.4085e-01,  5.8814e+00, -3.7055e-02,\n",
      "        -3.5715e-01, -1.8450e-01, -2.8896e-01,  1.5912e+00, -1.9804e-01,\n",
      "        -2.5794e-01,  2.7107e-01, -1.7394e-03], device='cuda:0',\n",
      "       grad_fn=<SqueezeBackward1>), y: tensor([-0.1968, -0.2273, -0.0928,  6.7906,  0.0753, -0.2400, -0.2245, -0.2044,\n",
      "         1.7431, -0.2249, -0.2394,  0.1581, -0.0244], device='cuda:0')----------\n"
     ]
    },
    {
     "name": "stderr",
     "output_type": "stream",
     "text": [
      "Epoch [31/50]: 100%|██████████████████████████████████████████████████████████| 9/9 [00:00<00:00, 97.30it/s, loss=0.0736]"
     ]
    },
    {
     "name": "stdout",
     "output_type": "stream",
     "text": [
      "Epoch [31/50]: Train loss: 0.0158, Valid loss: 0.0313\n"
     ]
    },
    {
     "name": "stderr",
     "output_type": "stream",
     "text": [
      "\n"
     ]
    },
    {
     "name": "stdout",
     "output_type": "stream",
     "text": [
      "Saving model with loss 0.031...\n"
     ]
    },
    {
     "name": "stderr",
     "output_type": "stream",
     "text": [
      "Epoch [32/50]:   0%|                                                                 | 0/9 [00:00<?, ?it/s, loss=0.00398]"
     ]
    },
    {
     "name": "stdout",
     "output_type": "stream",
     "text": [
      "-------predict: tensor([-0.2411, -0.1203, -0.3425, -0.2552, -0.1814, -0.3024, -0.1885, -0.1723,\n",
      "        -0.1191, -0.1635, -0.2317, -0.2597, -0.2234, -0.2933, -0.2629, -0.0177],\n",
      "       device='cuda:0', grad_fn=<SqueezeBackward1>), y: tensor([-0.2229, -0.1517, -0.2308, -0.2388, -0.2420, -0.2313, -0.2102, -0.2385,\n",
      "        -0.0922, -0.2045, -0.2325, -0.2426, -0.2311, -0.2416, -0.2066, -0.1833],\n",
      "       device='cuda:0')----------\n"
     ]
    },
    {
     "name": "stderr",
     "output_type": "stream",
     "text": [
      "Epoch [32/50]:   0%|                                                                  | 0/9 [00:00<?, ?it/s, loss=0.0138]"
     ]
    },
    {
     "name": "stdout",
     "output_type": "stream",
     "text": [
      "-------predict: tensor([-0.1428, -0.2119,  0.3177, -0.3395,  0.0785,  0.0686, -0.1894, -0.2682,\n",
      "        -0.2357, -0.1567, -0.0534, -0.1226, -0.1694, -0.1258, -0.1072, -0.3015],\n",
      "       device='cuda:0', grad_fn=<SqueezeBackward1>), y: tensor([-0.1637, -0.1854,  0.5685, -0.2424,  0.0535, -0.2408, -0.2413, -0.2375,\n",
      "        -0.2427, -0.2260, -0.1678, -0.1552, -0.2107, -0.2333, -0.2112, -0.2421],\n",
      "       device='cuda:0')----------\n",
      "-------predict: tensor([-0.1178, -0.3063, -0.2200,  0.2630, -0.3222, -0.0890, -0.2626, -0.1986,\n",
      "        -0.1167, -0.2290, -0.1771, -0.2473, -0.0813, -0.1423, -0.1989, -0.1564],\n",
      "       device='cuda:0', grad_fn=<SqueezeBackward1>), y: tensor([-0.2326, -0.2417, -0.1953,  0.1581, -0.2426, -0.2062, -0.2269, -0.1932,\n",
      "        -0.2134, -0.1642, -0.2415, -0.2044, -0.1680, -0.1065, -0.1545, -0.2258],\n",
      "       device='cuda:0')----------\n"
     ]
    },
    {
     "name": "stderr",
     "output_type": "stream",
     "text": [
      "Epoch [32/50]:   0%|                                                                 | 0/9 [00:00<?, ?it/s, loss=0.00534]"
     ]
    },
    {
     "name": "stdout",
     "output_type": "stream",
     "text": [
      "-------predict: tensor([ 1.1530, -0.2375, -0.1436, -0.2571, -0.3127, -0.3331, -0.2872, -0.2383,\n",
      "        -0.2823, -0.2907, -0.1387, -0.2533, -0.2863, -0.3031, -0.0985, -0.2917],\n",
      "       device='cuda:0', grad_fn=<SqueezeBackward1>), y: tensor([ 1.1126, -0.2297, -0.2426, -0.2244, -0.2410, -0.2400, -0.2388, -0.2420,\n",
      "        -0.2403, -0.2298, -0.2412, -0.2258, -0.2282, -0.2217, -0.0042, -0.2413],\n",
      "       device='cuda:0')----------\n"
     ]
    },
    {
     "name": "stderr",
     "output_type": "stream",
     "text": [
      "\r",
      "Epoch [32/50]:   0%|                                                                 | 0/9 [00:00<?, ?it/s, loss=0.00418]"
     ]
    },
    {
     "name": "stdout",
     "output_type": "stream",
     "text": [
      "-------predict: tensor([ 0.0188, -0.2261, -0.2593, -0.3296, -0.3184, -0.1070, -0.3698, -0.2397,\n",
      "        -0.2540, -0.2288, -0.1623,  2.1732,  0.0951, -0.2311, -0.0413,  0.5134],\n",
      "       device='cuda:0', grad_fn=<SqueezeBackward1>), y: tensor([-0.1515, -0.2264, -0.2394, -0.2216, -0.2335, -0.0876, -0.2412, -0.2398,\n",
      "        -0.2297, -0.2207, -0.2245,  2.1945, -0.0386, -0.2417, -0.1063,  0.5884],\n",
      "       device='cuda:0')----------\n"
     ]
    },
    {
     "name": "stderr",
     "output_type": "stream",
     "text": [
      "Epoch [32/50]:   0%|                                                                 | 0/9 [00:00<?, ?it/s, loss=0.00797]"
     ]
    },
    {
     "name": "stdout",
     "output_type": "stream",
     "text": [
      "-------predict: tensor([-0.3483, -0.2448,  0.3850, -0.2823, -0.2679, -0.2097, -0.1507,  0.0373,\n",
      "        -0.0318, -0.0881, -0.2969, -0.1637, -0.2060,  0.0214,  1.6030, -0.0601],\n",
      "       device='cuda:0', grad_fn=<SqueezeBackward1>), y: tensor([-0.2393, -0.2246,  0.2559, -0.2134, -0.2411, -0.2194, -0.2021,  0.0058,\n",
      "        -0.0244, -0.1139, -0.2418, -0.2070, -0.1798, -0.1521,  1.7431, -0.2425],\n",
      "       device='cuda:0')----------\n"
     ]
    },
    {
     "name": "stderr",
     "output_type": "stream",
     "text": [
      "Epoch [32/50]:   0%|                                                                  | 0/9 [00:00<?, ?it/s, loss=0.0252]"
     ]
    },
    {
     "name": "stdout",
     "output_type": "stream",
     "text": [
      "-------predict: tensor([-0.1402,  0.9111, -0.2500, -0.1113, -0.2622,  9.1561, -0.2030, -0.2423,\n",
      "        -0.2380, -0.1763, -0.1817, -0.2312,  4.2701, -0.2058, -0.1658, -0.1036],\n",
      "       device='cuda:0', grad_fn=<SqueezeBackward1>), y: tensor([-0.1990,  1.2423, -0.2099, -0.2422, -0.2422,  8.6617, -0.1750, -0.2340,\n",
      "        -0.2368, -0.1998, -0.2246, -0.2177,  4.1428, -0.2426, -0.2327, -0.0739],\n",
      "       device='cuda:0')----------\n"
     ]
    },
    {
     "name": "stderr",
     "output_type": "stream",
     "text": [
      "Epoch [32/50]:   0%|                                                                  | 0/9 [00:00<?, ?it/s, loss=0.0512]"
     ]
    },
    {
     "name": "stdout",
     "output_type": "stream",
     "text": [
      "-------predict: tensor([-0.3398, -0.0554, -0.1502, -0.1567,  5.9248, -0.3822, -0.2964, -0.3412,\n",
      "        -0.0357, -0.2214, -0.1647, -0.2145, -0.2294, -0.2067, -0.1942, -0.2557],\n",
      "       device='cuda:0', grad_fn=<SqueezeBackward1>), y: tensor([-2.2611e-01, -1.4000e-03, -1.8343e-01, -1.9682e-01,  6.7906e+00,\n",
      "        -2.4168e-01, -2.4234e-01, -2.3976e-01,  7.5282e-02, -2.2860e-01,\n",
      "        -2.2395e-01, -2.2727e-01, -2.3375e-01, -2.2492e-01, -2.2964e-01,\n",
      "        -2.3475e-01], device='cuda:0')----------\n"
     ]
    },
    {
     "name": "stderr",
     "output_type": "stream",
     "text": [
      "Epoch [32/50]:   0%|                                                                  | 0/9 [00:00<?, ?it/s, loss=0.0115]"
     ]
    },
    {
     "name": "stdout",
     "output_type": "stream",
     "text": [
      "-------predict: tensor([-0.2913, -0.4159,  0.1176,  0.2917, -0.2562, -0.2612, -0.2839,  0.0454,\n",
      "         0.0170, -0.3884, -0.0988, -0.3037,  0.1398], device='cuda:0',\n",
      "       grad_fn=<SqueezeBackward1>), y: tensor([-0.2391, -0.2336, -0.0344,  0.2747, -0.2286, -0.2024, -0.2372,  0.0140,\n",
      "         0.0460, -0.2397, -0.1409, -0.2373, -0.0928], device='cuda:0')----------\n"
     ]
    },
    {
     "name": "stderr",
     "output_type": "stream",
     "text": [
      "Epoch [32/50]: 100%|██████████████████████████████████████████████████████████| 9/9 [00:00<00:00, 95.79it/s, loss=0.0115]\n"
     ]
    },
    {
     "name": "stdout",
     "output_type": "stream",
     "text": [
      "Epoch [32/50]: Train loss: 0.0144, Valid loss: 0.0324\n"
     ]
    },
    {
     "name": "stderr",
     "output_type": "stream",
     "text": [
      "Epoch [33/50]:   0%|                                                                               | 0/9 [00:00<?, ?it/s]"
     ]
    },
    {
     "name": "stdout",
     "output_type": "stream",
     "text": [
      "-------predict: tensor([ 4.3043, -0.2930, -0.3010, -0.1160, -0.2213, -0.1813,  0.0064, -0.0856,\n",
      "        -0.3591, -0.2471, -0.1237, -0.1026, -0.2803, -0.2928,  5.9389, -0.0832],\n",
      "       device='cuda:0', grad_fn=<SqueezeBackward1>), y: tensor([ 4.1428, -0.2416, -0.2417, -0.1552, -0.2325, -0.2420, -0.1521, -0.2062,\n",
      "        -0.2261, -0.2264, -0.2246, -0.2112, -0.2417, -0.2426,  6.7906, -0.1139],\n",
      "       device='cuda:0')----------\n"
     ]
    },
    {
     "name": "stderr",
     "output_type": "stream",
     "text": [
      "\r",
      "Epoch [33/50]:   0%|                                                                   | 0/9 [00:00<?, ?it/s, loss=0.053]"
     ]
    },
    {
     "name": "stdout",
     "output_type": "stream",
     "text": [
      "-------predict: tensor([-0.1826, -0.1636,  0.0305,  0.1180, -0.2734, -0.2886, -0.2882, -0.2037,\n",
      "         1.6065, -0.2824, -0.2320,  0.0337, -0.1312, -0.1993, -0.2542, -0.1923],\n",
      "       device='cuda:0', grad_fn=<SqueezeBackward1>), y: tensor([-0.2296, -0.2327,  0.0058, -0.0344, -0.2420, -0.2411, -0.2393, -0.1798,\n",
      "         1.7431, -0.2398, -0.2368, -0.1515, -0.1834, -0.2388, -0.2391, -0.1750],\n",
      "       device='cuda:0')----------\n"
     ]
    },
    {
     "name": "stderr",
     "output_type": "stream",
     "text": [
      "Epoch [33/50]:   0%|                                                                 | 0/9 [00:00<?, ?it/s, loss=0.00604]"
     ]
    },
    {
     "name": "stdout",
     "output_type": "stream",
     "text": [
      "-------predict: tensor([-0.1574, -0.3561, -0.2237, -0.2860, -0.1260, -0.0638, -0.2416, -0.2869,\n",
      "         0.3404, -0.2499, -0.2455, -0.4191, -0.1617, -0.2064, -0.2008, -0.2883],\n",
      "       device='cuda:0', grad_fn=<SqueezeBackward1>), y: tensor([-0.2045, -0.2308, -0.2337, -0.2044, -0.2134, -0.1063, -0.2297, -0.2313,\n",
      "         0.5685, -0.2348, -0.2258, -0.2336, -0.2207, -0.1545, -0.1854, -0.2422],\n",
      "       device='cuda:0')----------\n"
     ]
    },
    {
     "name": "stderr",
     "output_type": "stream",
     "text": [
      "Epoch [33/50]:   0%|                                                                 | 0/9 [00:00<?, ?it/s, loss=0.00831]"
     ]
    },
    {
     "name": "stdout",
     "output_type": "stream",
     "text": [
      "-------predict: tensor([-0.2035, -0.1921, -0.2964, -0.2222, -0.0893,  2.2871, -0.2159, -0.2328,\n",
      "         0.0676,  0.0983, -0.2107, -0.0781, -0.2650, -0.2129, -0.3481, -0.1455],\n",
      "       device='cuda:0', grad_fn=<SqueezeBackward1>), y: tensor([-0.1642, -0.2426, -0.2217, -0.2426, -0.0042,  2.1945, -0.2421, -0.2244,\n",
      "        -0.2408,  0.0535, -0.1953, -0.0876, -0.2298, -0.2373, -0.2412, -0.2423],\n",
      "       device='cuda:0')----------\n"
     ]
    },
    {
     "name": "stderr",
     "output_type": "stream",
     "text": [
      "Epoch [33/50]:   0%|                                                                 | 0/9 [00:00<?, ?it/s, loss=0.00917]"
     ]
    },
    {
     "name": "stdout",
     "output_type": "stream",
     "text": [
      "-------predict: tensor([-0.3071,  0.0017,  0.5100, -0.0838, -0.1960, -0.2006, -0.1129, -0.0328,\n",
      "        -0.1854, -0.1937, -0.1398, -0.2255, -0.0334, -0.1370, -0.3697,  1.1479],\n",
      "       device='cuda:0', grad_fn=<SqueezeBackward1>), y: tensor([-0.2418, -0.0244,  0.5884, -0.1409, -0.2286, -0.2413, -0.1065, -0.1678,\n",
      "        -0.2427, -0.2134, -0.2107, -0.2297, -0.1680, -0.2240, -0.2216,  1.1126],\n",
      "       device='cuda:0')----------\n"
     ]
    },
    {
     "name": "stderr",
     "output_type": "stream",
     "text": [
      "Epoch [33/50]:   0%|                                                                 | 0/9 [00:00<?, ?it/s, loss=0.00581]"
     ]
    },
    {
     "name": "stdout",
     "output_type": "stream",
     "text": [
      "-------predict: tensor([-0.3032, -0.3255, -0.2311,  0.1067,  1.0330, -0.1051, -0.2493, -0.1271,\n",
      "        -0.1955,  0.0325, -0.2041, -0.3131, -0.1416, -0.0762, -0.2818, -0.2647],\n",
      "       device='cuda:0', grad_fn=<SqueezeBackward1>), y: tensor([-0.2410, -0.2424, -0.2066, -0.0386,  1.2423, -0.2425, -0.2398, -0.2415,\n",
      "        -0.1932, -0.0014, -0.2394, -0.2400, -0.2412, -0.0922, -0.2403, -0.2372],\n",
      "       device='cuda:0')----------\n"
     ]
    },
    {
     "name": "stderr",
     "output_type": "stream",
     "text": [
      "Epoch [33/50]:   0%|                                                                 | 0/9 [00:00<?, ?it/s, loss=0.00804]"
     ]
    },
    {
     "name": "stdout",
     "output_type": "stream",
     "text": [
      "-------predict: tensor([ 0.0400, -0.0879, -0.2110,  0.1070, -0.2803, -0.1120, -0.0223, -0.3099,\n",
      "        -0.2261, -0.1363,  9.1690,  0.4146, -0.1144, -0.2258, -0.2268, -0.1066],\n",
      "       device='cuda:0', grad_fn=<SqueezeBackward1>), y: tensor([ 0.0460, -0.1517, -0.2286, -0.0928, -0.2413, -0.2385,  0.0753, -0.2335,\n",
      "        -0.2229, -0.2273,  8.6617,  0.2559, -0.2333, -0.2246, -0.2194, -0.2258],\n",
      "       device='cuda:0')----------\n"
     ]
    },
    {
     "name": "stderr",
     "output_type": "stream",
     "text": [
      "Epoch [33/50]:   0%|                                                                 | 0/9 [00:00<?, ?it/s, loss=0.00625]"
     ]
    },
    {
     "name": "stdout",
     "output_type": "stream",
     "text": [
      "-------predict: tensor([-0.3644,  0.3098, -0.1689, -0.0921, -0.3405, -0.2312, -0.0838, -0.2773,\n",
      "        -0.1375, -0.1407, -0.1322, -0.2030, -0.1525, -0.2490,  0.3076, -0.2356],\n",
      "       device='cuda:0', grad_fn=<SqueezeBackward1>), y: tensor([-0.2397,  0.1581, -0.2102, -0.0739, -0.2417, -0.2269, -0.2426, -0.2388,\n",
      "        -0.2249, -0.1637, -0.2260, -0.2311, -0.1968, -0.2024,  0.2747, -0.2340],\n",
      "       device='cuda:0')----------\n"
     ]
    },
    {
     "name": "stderr",
     "output_type": "stream",
     "text": [
      "Epoch [33/50]:   0%|                                                                 | 0/9 [00:00<?, ?it/s, loss=0.00483]"
     ]
    },
    {
     "name": "stdout",
     "output_type": "stream",
     "text": [
      "-------predict: tensor([-0.2272, -0.1699, -0.1597, -0.0183, -0.2635, -0.2783,  0.0404, -0.1723,\n",
      "        -0.1414, -0.1384, -0.2061, -0.2528, -0.1219], device='cuda:0',\n",
      "       grad_fn=<SqueezeBackward1>), y: tensor([-0.2177, -0.2422, -0.2245, -0.1833, -0.2375, -0.2282,  0.0140, -0.1998,\n",
      "        -0.1990, -0.2021, -0.2070, -0.2099, -0.2326], device='cuda:0')----------\n"
     ]
    },
    {
     "name": "stderr",
     "output_type": "stream",
     "text": [
      "\r",
      "Epoch [33/50]: 100%|█████████████████████████████████████████████████████████| 9/9 [00:00<00:00, 91.70it/s, loss=0.00483]"
     ]
    },
    {
     "name": "stdout",
     "output_type": "stream",
     "text": [
      "Epoch [33/50]: Train loss: 0.0140, Valid loss: 0.0271\n"
     ]
    },
    {
     "name": "stderr",
     "output_type": "stream",
     "text": [
      "\n"
     ]
    },
    {
     "name": "stdout",
     "output_type": "stream",
     "text": [
      "Saving model with loss 0.027...\n"
     ]
    },
    {
     "name": "stderr",
     "output_type": "stream",
     "text": [
      "Epoch [34/50]:   0%|                                                                 | 0/9 [00:00<?, ?it/s, loss=0.00456]"
     ]
    },
    {
     "name": "stdout",
     "output_type": "stream",
     "text": [
      "-------predict: tensor([-0.2031, -0.0712, -0.2192, -0.1455, -0.1134, -0.2174, -0.3554, -0.0220,\n",
      "         0.5003, -0.2422,  2.2362,  0.9523, -0.1885, -0.2487, -0.0888, -0.1581],\n",
      "       device='cuda:0', grad_fn=<SqueezeBackward1>), y: tensor([-0.1798, -0.1063, -0.2286, -0.2021, -0.0922, -0.1854, -0.2261, -0.0386,\n",
      "         0.5884, -0.2340,  2.1945,  1.2423, -0.2258, -0.2258, -0.0739, -0.1968],\n",
      "       device='cuda:0')----------\n",
      "-------predict: tensor([-0.2663, -0.2926, -0.0272, -0.3166, -0.1220, -0.3029, -0.1052, -0.2128,\n",
      "        -0.1937, -0.0083, -0.0420, -0.1923, -0.1930, -0.2943, -0.1465, -0.2431],\n",
      "       device='cuda:0', grad_fn=<SqueezeBackward1>), y: tensor([-0.2269, -0.2421,  0.0753, -0.2411, -0.2134, -0.2418, -0.0876, -0.2207,\n",
      "        -0.1750, -0.1515, -0.1521, -0.1932, -0.2260, -0.2217, -0.1637, -0.2194],\n",
      "       device='cuda:0')----------\n"
     ]
    },
    {
     "name": "stderr",
     "output_type": "stream",
     "text": [
      "Epoch [34/50]:   0%|                                                                  | 0/9 [00:00<?, ?it/s, loss=0.0227]"
     ]
    },
    {
     "name": "stdout",
     "output_type": "stream",
     "text": [
      "-------predict: tensor([-0.2910, -0.3116, -0.2019, -0.3793,  0.2977, -0.2323, -0.2115, -0.2089,\n",
      "        -0.1830, -0.1960, -0.3510, -0.1898, -0.3262, -0.2981, -0.3605,  9.1082],\n",
      "       device='cuda:0', grad_fn=<SqueezeBackward1>), y: tensor([-0.2286, -0.2070, -0.2415, -0.2308,  0.5685, -0.1545, -0.1953, -0.2425,\n",
      "        -0.2420, -0.2102, -0.2373, -0.2296, -0.2426, -0.2297, -0.2410,  8.6617],\n",
      "       device='cuda:0')----------\n"
     ]
    },
    {
     "name": "stderr",
     "output_type": "stream",
     "text": [
      "Epoch [34/50]:   0%|                                                                 | 0/9 [00:00<?, ?it/s, loss=0.00734]"
     ]
    },
    {
     "name": "stdout",
     "output_type": "stream",
     "text": [
      "-------predict: tensor([-0.2616, -0.3173, -0.2681, -0.2280, -0.2818, -0.3749, -0.0971,  0.0454,\n",
      "         0.4004, -0.2342, -0.3542, -0.2881,  1.6169, -0.2580, -0.3471, -0.2572],\n",
      "       device='cuda:0', grad_fn=<SqueezeBackward1>), y: tensor([-0.2311, -0.2391, -0.2375, -0.2427, -0.2325, -0.2398, -0.2426,  0.0140,\n",
      "         0.2559, -0.2368, -0.2417, -0.2388,  1.7431, -0.2024, -0.2413, -0.2413],\n",
      "       device='cuda:0')----------\n"
     ]
    },
    {
     "name": "stderr",
     "output_type": "stream",
     "text": [
      "Epoch [34/50]:   0%|                                                                 | 0/9 [00:00<?, ?it/s, loss=0.00688]"
     ]
    },
    {
     "name": "stdout",
     "output_type": "stream",
     "text": [
      "-------predict: tensor([-0.1321,  0.2804, -0.2387, -0.1920, -0.2231, -0.2791, -0.2799, -0.2166,\n",
      "        -0.0014,  0.1242, -0.2006, -0.3310, -0.1102, -0.3565, -0.1356,  0.0287],\n",
      "       device='cuda:0', grad_fn=<SqueezeBackward1>), y: tensor([-0.1065,  0.2747, -0.2297, -0.2240, -0.2337, -0.2348, -0.2313, -0.2423,\n",
      "         0.0460, -0.0928, -0.2388, -0.2044, -0.2246, -0.2412, -0.2333,  0.0058],\n",
      "       device='cuda:0')----------\n"
     ]
    },
    {
     "name": "stderr",
     "output_type": "stream",
     "text": [
      "Epoch [34/50]:   0%|                                                                 | 0/9 [00:00<?, ?it/s, loss=0.00501]"
     ]
    },
    {
     "name": "stdout",
     "output_type": "stream",
     "text": [
      "-------predict: tensor([ 1.1367,  0.0812, -0.3588, -0.2072, -0.3547, -0.1951, -0.2973, -0.3129,\n",
      "        -0.2176, -0.3348, -0.1180, -0.0888, -0.1581, -0.1519, -0.0836, -0.3480],\n",
      "       device='cuda:0', grad_fn=<SqueezeBackward1>), y: tensor([ 1.1126,  0.0535, -0.2400, -0.2134, -0.2397, -0.2426, -0.2335, -0.2398,\n",
      "        -0.2422, -0.2403, -0.1517, -0.0042, -0.1990, -0.2412, -0.1139, -0.2417],\n",
      "       device='cuda:0')----------\n"
     ]
    },
    {
     "name": "stderr",
     "output_type": "stream",
     "text": [
      "\r",
      "Epoch [34/50]:   0%|                                                                 | 0/9 [00:00<?, ?it/s, loss=0.00501]"
     ]
    },
    {
     "name": "stdout",
     "output_type": "stream",
     "text": [
      "-------predict: tensor([-2.1818e-01, -2.6100e-01, -2.1576e-02, -3.0704e-01, -4.2035e-01,\n",
      "         4.2679e+00, -1.4042e-01, -1.2740e-01, -1.6898e-03, -2.0153e-01,\n",
      "         1.0551e-01, -1.4041e-01, -8.2576e-02, -2.8020e-01, -2.8295e-01,\n",
      "        -2.1617e-01], device='cuda:0', grad_fn=<SqueezeBackward1>), y: tensor([-0.2177, -0.2298, -0.1678, -0.2372, -0.2336,  4.1428, -0.2249, -0.1834,\n",
      "        -0.0244, -0.1642, -0.0344, -0.2107, -0.1409, -0.2422, -0.2417, -0.2066],\n",
      "       device='cuda:0')----------\n"
     ]
    },
    {
     "name": "stderr",
     "output_type": "stream",
     "text": [
      "Epoch [34/50]:   0%|                                                                   | 0/9 [00:00<?, ?it/s, loss=0.011]"
     ]
    },
    {
     "name": "stdout",
     "output_type": "stream",
     "text": [
      "-------predict: tensor([-0.3380, -0.1833,  0.3223, -0.2154, -0.1547, -0.1249, -0.2689, -0.1958,\n",
      "        -0.0622, -0.2535, -0.2198,  0.0572, -0.1921, -0.1862, -0.2651, -0.2691],\n",
      "       device='cuda:0', grad_fn=<SqueezeBackward1>), y: tensor([-0.2424, -0.1998,  0.1581, -0.2229, -0.2327, -0.2326, -0.2393, -0.2244,\n",
      "        -0.2112, -0.2420, -0.2264, -0.2408, -0.2394, -0.2426, -0.2099, -0.2416],\n",
      "       device='cuda:0')----------\n"
     ]
    },
    {
     "name": "stderr",
     "output_type": "stream",
     "text": [
      "Epoch [34/50]:   0%|                                                                  | 0/9 [00:00<?, ?it/s, loss=0.0734]"
     ]
    },
    {
     "name": "stdout",
     "output_type": "stream",
     "text": [
      "-------predict: tensor([-0.2221, -0.1053, -0.1017,  5.9009, -0.0288, -0.0263, -0.3558, -0.0540,\n",
      "        -0.1100, -0.0898,  0.0431, -0.2755, -0.0714], device='cuda:0',\n",
      "       grad_fn=<SqueezeBackward1>), y: tensor([-2.2456e-01, -1.5518e-01, -2.0449e-01,  6.7906e+00, -1.6797e-01,\n",
      "        -1.8335e-01, -2.2159e-01, -2.0616e-01, -2.2727e-01, -2.2454e-01,\n",
      "        -1.4000e-03, -2.2819e-01, -2.3847e-01], device='cuda:0')----------\n"
     ]
    },
    {
     "name": "stderr",
     "output_type": "stream",
     "text": [
      "Epoch [34/50]: 100%|██████████████████████████████████████████████████████████| 9/9 [00:00<00:00, 96.10it/s, loss=0.0734]\n"
     ]
    },
    {
     "name": "stdout",
     "output_type": "stream",
     "text": [
      "Epoch [34/50]: Train loss: 0.0162, Valid loss: 0.0338\n"
     ]
    },
    {
     "name": "stderr",
     "output_type": "stream",
     "text": [
      "Epoch [35/50]:   0%|                                                                  | 0/9 [00:00<?, ?it/s, loss=0.0106]"
     ]
    },
    {
     "name": "stdout",
     "output_type": "stream",
     "text": [
      "-------predict: tensor([-0.1899, -0.3683, -0.2414, -0.0955,  1.1170, -0.1978, -0.1616, -0.2028,\n",
      "        -0.2197, -0.3029, -0.1549, -0.2438,  0.0549, -0.2172, -0.2274,  0.0557],\n",
      "       device='cuda:0', grad_fn=<SqueezeBackward1>), y: tensor([-0.1998, -0.2336, -0.2422, -0.0876,  1.1126, -0.2244, -0.2107, -0.2177,\n",
      "        -0.2391, -0.2261, -0.2426, -0.2297, -0.1521, -0.1642, -0.2337, -0.2408],\n",
      "       device='cuda:0')----------\n"
     ]
    },
    {
     "name": "stderr",
     "output_type": "stream",
     "text": [
      "Epoch [35/50]:   0%|                                                                  | 0/9 [00:00<?, ?it/s, loss=0.0531]"
     ]
    },
    {
     "name": "stdout",
     "output_type": "stream",
     "text": [
      "-------predict: tensor([-0.2636, -0.1613, -0.0248, -0.2953, -0.3054,  5.9185, -0.2243,  0.0768,\n",
      "        -0.2394, -0.2215, -0.0279, -0.1238, -0.1586, -0.2252,  0.0865, -0.2080],\n",
      "       device='cuda:0', grad_fn=<SqueezeBackward1>), y: tensor([-2.0656e-01, -2.2964e-01, -1.4000e-03, -2.3077e-01, -2.4178e-01,\n",
      "         6.7906e+00, -2.2860e-01, -9.2797e-02, -2.3942e-01, -2.2638e-01,\n",
      "         7.5282e-02, -2.3327e-01, -2.3275e-01, -2.2969e-01, -3.8568e-02,\n",
      "        -1.8544e-01], device='cuda:0')----------\n"
     ]
    },
    {
     "name": "stderr",
     "output_type": "stream",
     "text": [
      "Epoch [35/50]:   0%|                                                                  | 0/9 [00:00<?, ?it/s, loss=0.0191]"
     ]
    },
    {
     "name": "stdout",
     "output_type": "stream",
     "text": [
      "-------predict: tensor([ 9.1033e+00, -2.1301e-01, -1.2821e-01, -1.1786e-01,  4.7991e-02,\n",
      "        -2.3591e-01, -2.3730e-01, -2.7927e-02, -1.6232e-01, -8.0486e-02,\n",
      "         3.8249e-01, -2.4425e-01,  5.0419e-01, -8.6354e-02,  2.6394e-03,\n",
      "        -1.5367e-01], device='cuda:0', grad_fn=<SqueezeBackward1>), y: tensor([ 8.6617e+00, -2.2295e-01, -1.9895e-01, -1.5518e-01,  5.7982e-03,\n",
      "        -2.3984e-01, -2.3724e-01, -1.8335e-01, -2.2580e-01, -2.1125e-01,\n",
      "         2.5595e-01, -2.2456e-01,  5.8844e-01, -1.6797e-01, -1.5146e-01,\n",
      "        -2.0208e-01], device='cuda:0')----------\n"
     ]
    },
    {
     "name": "stderr",
     "output_type": "stream",
     "text": [
      "Epoch [35/50]:   0%|                                                                 | 0/9 [00:00<?, ?it/s, loss=0.00555]"
     ]
    },
    {
     "name": "stdout",
     "output_type": "stream",
     "text": [
      "-------predict: tensor([-0.2759, -0.1436, -0.3558, -0.2532, -0.3435, -0.3376, -0.2761, -0.3307,\n",
      "        -0.2579, -0.2910,  0.0053,  0.2233, -0.1295, -0.2960, -0.3017,  2.1268],\n",
      "       device='cuda:0', grad_fn=<SqueezeBackward1>), y: tensor([-0.2313, -0.2045, -0.2393, -0.2286, -0.2423, -0.2417, -0.2403, -0.2216,\n",
      "        -0.2325, -0.2427,  0.0460,  0.1581, -0.2326, -0.2298, -0.2134,  2.1945],\n",
      "       device='cuda:0')----------\n"
     ]
    },
    {
     "name": "stderr",
     "output_type": "stream",
     "text": [
      "Epoch [35/50]:   0%|                                                                 | 0/9 [00:00<?, ?it/s, loss=0.00476]"
     ]
    },
    {
     "name": "stdout",
     "output_type": "stream",
     "text": [
      "-------predict: tensor([-0.2553, -0.1562,  0.0416, -0.2239, -0.3002, -0.2191, -0.3909, -0.3564,\n",
      "        -0.3192, -0.0406,  4.2117, -0.2413, -0.1061, -0.3093, -0.2025, -0.2396],\n",
      "       device='cuda:0', grad_fn=<SqueezeBackward1>), y: tensor([-0.2273, -0.1834,  0.0140, -0.2368, -0.2426, -0.1953, -0.2417, -0.2421,\n",
      "        -0.2424, -0.1678,  4.1428, -0.2044, -0.0739, -0.2413, -0.1798, -0.2311],\n",
      "       device='cuda:0')----------\n"
     ]
    },
    {
     "name": "stderr",
     "output_type": "stream",
     "text": [
      "Epoch [35/50]:   0%|                                                                 | 0/9 [00:00<?, ?it/s, loss=0.00482]"
     ]
    },
    {
     "name": "stdout",
     "output_type": "stream",
     "text": [
      "-------predict: tensor([-0.2663, -0.0663, -0.1843, -0.3537, -0.2280, -0.1550, -0.3210, -0.1333,\n",
      "        -0.2469, -0.2976, -0.2525, -0.2677, -0.1954, -0.2195, -0.0850, -0.1729],\n",
      "       device='cuda:0', grad_fn=<SqueezeBackward1>), y: tensor([-0.2416, -0.2425, -0.2240, -0.2398, -0.2070, -0.2412, -0.2269, -0.1409,\n",
      "        -0.2340, -0.2411, -0.2385, -0.2207, -0.2194, -0.2388, -0.1139, -0.0922],\n",
      "       device='cuda:0')----------\n"
     ]
    },
    {
     "name": "stderr",
     "output_type": "stream",
     "text": [
      "Epoch [35/50]:   0%|                                                                  | 0/9 [00:00<?, ?it/s, loss=0.0181]"
     ]
    },
    {
     "name": "stdout",
     "output_type": "stream",
     "text": [
      "-------predict: tensor([-0.2538,  0.0960, -0.3623, -0.0444,  0.2771, -0.2094, -0.1895, -0.0796,\n",
      "        -0.1869,  0.0474, -0.2665, -0.2823,  0.8713, -0.2242, -0.3172, -0.3081],\n",
      "       device='cuda:0', grad_fn=<SqueezeBackward1>), y: tensor([-0.2417, -0.0344, -0.2400, -0.0244,  0.5685, -0.2102, -0.2260, -0.2062,\n",
      "        -0.2246,  0.0535, -0.2348, -0.2282,  1.2423, -0.2249, -0.2373, -0.2335],\n",
      "       device='cuda:0')----------\n"
     ]
    },
    {
     "name": "stderr",
     "output_type": "stream",
     "text": [
      "Epoch [35/50]:   0%|                                                                 | 0/9 [00:00<?, ?it/s, loss=0.00504]"
     ]
    },
    {
     "name": "stdout",
     "output_type": "stream",
     "text": [
      "-------predict: tensor([-0.2962, -0.2726, -0.1405, -0.3384, -0.1985, -0.1982, -0.2534, -0.0599,\n",
      "        -0.3464, -0.1795, -0.1313, -0.2751, -0.1199, -0.3561, -0.1507, -0.1626],\n",
      "       device='cuda:0', grad_fn=<SqueezeBackward1>), y: tensor([-0.2217, -0.2388, -0.2134, -0.2412, -0.1750, -0.1932, -0.2375, -0.1063,\n",
      "        -0.2426, -0.2413, -0.1517, -0.2099, -0.2422, -0.2397, -0.1968, -0.2415],\n",
      "       device='cuda:0')----------\n"
     ]
    },
    {
     "name": "stderr",
     "output_type": "stream",
     "text": [
      "Epoch [35/50]: 100%|█████████████████████████████████████████████████████████| 9/9 [00:00<00:00, 95.45it/s, loss=0.00533]"
     ]
    },
    {
     "name": "stdout",
     "output_type": "stream",
     "text": [
      "-------predict: tensor([-0.1880, -0.2475, -0.2516, -0.1600,  1.6017,  0.2912, -0.0987, -0.1747,\n",
      "        -0.0940, -0.3182, -0.1431, -0.2574, -0.1355], device='cuda:0',\n",
      "       grad_fn=<SqueezeBackward1>), y: tensor([-0.1545, -0.2258, -0.2024, -0.2245,  1.7431,  0.2747, -0.2426, -0.2420,\n",
      "        -0.0042, -0.2410, -0.1637, -0.2420, -0.1065], device='cuda:0')----------\n"
     ]
    },
    {
     "name": "stderr",
     "output_type": "stream",
     "text": [
      "\n"
     ]
    },
    {
     "name": "stdout",
     "output_type": "stream",
     "text": [
      "Epoch [35/50]: Train loss: 0.0140, Valid loss: 0.0293\n"
     ]
    },
    {
     "name": "stderr",
     "output_type": "stream",
     "text": [
      "Epoch [36/50]:   0%|                                                                 | 0/9 [00:00<?, ?it/s, loss=0.00915]"
     ]
    },
    {
     "name": "stdout",
     "output_type": "stream",
     "text": [
      "-------predict: tensor([-0.2932,  0.4945,  5.9913, -0.2372, -0.1614, -0.3003,  1.6016, -0.2714,\n",
      "        -0.2006, -0.2104,  0.2968, -0.0900, -0.3338, -0.1776,  0.4118,  2.2513],\n",
      "       device='cuda:0', grad_fn=<SqueezeBackward1>), y: tensor([-0.2217,  0.5884,  6.7906, -0.2297, -0.2412, -0.2335,  1.7431, -0.2417,\n",
      "        -0.1798, -0.2311,  0.2747, -0.1409, -0.2400, -0.2420,  0.2559,  2.1945],\n",
      "       device='cuda:0')----------\n",
      "-------predict: tensor([-0.2382, -0.1619, -0.2142,  0.0877,  0.0367, -0.2652, -0.2318, -0.0892,\n",
      "        -0.3366, -0.1257,  0.0518, -0.1268, -0.0874, -0.3455, -0.1827, -0.0329],\n",
      "       device='cuda:0', grad_fn=<SqueezeBackward1>), y: tensor([-0.2398, -0.1968, -0.2426,  0.0535, -0.1521, -0.2313, -0.2391, -0.0042,\n",
      "        -0.2261, -0.1990, -0.1515, -0.2021, -0.1139, -0.2424, -0.2070, -0.1833],\n",
      "       device='cuda:0')----------\n"
     ]
    },
    {
     "name": "stderr",
     "output_type": "stream",
     "text": [
      "Epoch [36/50]:   0%|                                                                   | 0/9 [00:00<?, ?it/s, loss=0.007]"
     ]
    },
    {
     "name": "stdout",
     "output_type": "stream",
     "text": [
      "-------predict: tensor([-0.1517, -0.0249, -0.0008, -0.1346, -0.1205, -0.1987, -0.1676, -0.2313,\n",
      "        -0.0918,  0.0812, -0.0962, -0.1313, -0.2730, -0.2952, -0.2146, -0.2053],\n",
      "       device='cuda:0', grad_fn=<SqueezeBackward1>), y: tensor([-0.1637, -0.1678, -0.0244, -0.2107, -0.2245, -0.2394, -0.2327, -0.2264,\n",
      "        -0.1517, -0.0928, -0.2388, -0.2249, -0.2422, -0.2413, -0.2244, -0.2421],\n",
      "       device='cuda:0')----------\n",
      "-------predict: tensor([-0.4039, -0.1976, -0.2379, -0.0571, -0.0783, -0.3005, -0.4248, -0.1639,\n",
      "        -0.2123,  0.0472, -0.1135, -0.1198, -0.0898, -0.2303, -0.3469, -0.1906],\n",
      "       device='cuda:0', grad_fn=<SqueezeBackward1>), y: tensor([-0.2216, -0.2422, -0.2340, -0.1680, -0.0739, -0.2044, -0.2336, -0.2102,\n",
      "        -0.2246, -0.2408, -0.2246, -0.1065, -0.2112, -0.2286, -0.2397, -0.2134],\n",
      "       device='cuda:0')----------\n"
     ]
    },
    {
     "name": "stderr",
     "output_type": "stream",
     "text": [
      "Epoch [36/50]:   0%|                                                                  | 0/9 [00:00<?, ?it/s, loss=0.0136]"
     ]
    },
    {
     "name": "stdout",
     "output_type": "stream",
     "text": [
      "-------predict: tensor([-0.2231, -0.2315, -0.1824, -0.2023, -0.1455, -0.1390, -0.0680,  0.3200,\n",
      "        -0.1323, -0.2447, -0.2152, -0.0752, -0.2262, -0.2636, -0.2708, -0.3395],\n",
      "       device='cuda:0', grad_fn=<SqueezeBackward1>), y: tensor([-0.2337, -0.2368, -0.2045, -0.1642, -0.2134, -0.1834, -0.1063,  0.5685,\n",
      "        -0.2385, -0.2024, -0.2286, -0.0922, -0.2177, -0.2375, -0.2282, -0.2412],\n",
      "       device='cuda:0')----------\n"
     ]
    },
    {
     "name": "stderr",
     "output_type": "stream",
     "text": [
      "Epoch [36/50]:   0%|                                                                  | 0/9 [00:00<?, ?it/s, loss=0.0061]"
     ]
    },
    {
     "name": "stdout",
     "output_type": "stream",
     "text": [
      "-------predict: tensor([-0.2667, -0.2842, -0.1662, -0.3230,  1.0077, -0.0809,  0.0989, -0.1374,\n",
      "        -0.2250, -0.3325, -0.3047, -0.2546, -0.2734, -0.2782, -0.2339, -0.1909],\n",
      "       device='cuda:0', grad_fn=<SqueezeBackward1>), y: tensor([-0.2297, -0.2416, -0.2273, -0.2403,  1.2423, -0.2062, -0.0344, -0.2333,\n",
      "        -0.2423, -0.2410, -0.2411, -0.2269, -0.2099, -0.2420, -0.2325, -0.1932],\n",
      "       device='cuda:0')----------\n"
     ]
    },
    {
     "name": "stderr",
     "output_type": "stream",
     "text": [
      "Epoch [36/50]:   0%|                                                                 | 0/9 [00:00<?, ?it/s, loss=0.00814]"
     ]
    },
    {
     "name": "stdout",
     "output_type": "stream",
     "text": [
      "-------predict: tensor([ 0.0398, -0.3588,  0.0194, -0.3136, -0.1668,  0.3028, -0.2132, -0.1751,\n",
      "        -0.1065, -0.2429, -0.2925,  1.1723, -0.1672, -0.2327, -0.2909, -0.2686],\n",
      "       device='cuda:0', grad_fn=<SqueezeBackward1>), y: tensor([ 0.0140, -0.2417,  0.0460, -0.2417, -0.2415,  0.1581, -0.1854, -0.2258,\n",
      "        -0.0876, -0.2229, -0.2388,  1.1126, -0.1998, -0.2427, -0.2398, -0.2298],\n",
      "       device='cuda:0')----------\n"
     ]
    },
    {
     "name": "stderr",
     "output_type": "stream",
     "text": [
      "Epoch [36/50]:   0%|                                                                 | 0/9 [00:00<?, ?it/s, loss=0.00391]"
     ]
    },
    {
     "name": "stdout",
     "output_type": "stream",
     "text": [
      "-------predict: tensor([ 4.6117, -0.2076, -0.2830, -0.2587, -0.3090, -0.0303, -0.1321, -0.1900,\n",
      "        -0.2079, -0.2446, -0.1715,  9.2611, -0.1257, -0.1191, -0.3118, -0.1397],\n",
      "       device='cuda:0', grad_fn=<SqueezeBackward1>), y: tensor([ 4.1428e+00, -1.9530e-01, -2.3724e-01, -2.3475e-01, -2.3928e-01,\n",
      "        -1.4000e-03, -2.3260e-01, -2.4129e-01, -2.2069e-01, -2.4260e-01,\n",
      "        -2.2395e-01,  8.6617e+00, -2.4265e-01, -1.5518e-01, -2.4178e-01,\n",
      "        -2.4245e-01], device='cuda:0')----------\n"
     ]
    },
    {
     "name": "stderr",
     "output_type": "stream",
     "text": [
      "Epoch [36/50]:   0%|                                                                  | 0/9 [00:00<?, ?it/s, loss=0.0396]"
     ]
    },
    {
     "name": "stdout",
     "output_type": "stream",
     "text": [
      "-------predict: tensor([ 0.0230, -0.3437, -0.0115, -0.2449, -0.1949, -0.3256, -0.2451, -0.0269,\n",
      "        -0.2940, -0.2008, -0.1791, -0.2492, -0.1905], device='cuda:0',\n",
      "       grad_fn=<SqueezeBackward1>), y: tensor([ 0.0058, -0.2308, -0.0386, -0.2194, -0.2296, -0.2426, -0.2258,  0.0753,\n",
      "        -0.2373, -0.1545, -0.2260, -0.2066, -0.1750], device='cuda:0')----------\n"
     ]
    },
    {
     "name": "stderr",
     "output_type": "stream",
     "text": [
      "Epoch [36/50]: 100%|████████████████████████████████████████████████████████| 9/9 [00:00<00:00, 101.60it/s, loss=0.00331]\n"
     ]
    },
    {
     "name": "stdout",
     "output_type": "stream",
     "text": [
      "Epoch [36/50]: Train loss: 0.0152, Valid loss: 0.0218\n",
      "Saving model with loss 0.022...\n"
     ]
    },
    {
     "name": "stderr",
     "output_type": "stream",
     "text": [
      "Epoch [37/50]:   0%|                                                                               | 0/9 [00:00<?, ?it/s]"
     ]
    },
    {
     "name": "stdout",
     "output_type": "stream",
     "text": [
      "-------predict: tensor([-0.2891,  0.0012, -0.3232, -0.4117, -0.1116, -0.1418, -0.2484, -0.1087,\n",
      "        -0.0343,  0.0645, -0.3485, -0.2488, -0.1904, -0.2316, -0.0110, -0.1865],\n",
      "       device='cuda:0', grad_fn=<SqueezeBackward1>), y: tensor([-0.2313, -0.1515, -0.2413, -0.2336, -0.2112, -0.1065, -0.2070, -0.0876,\n",
      "        -0.1833,  0.0535, -0.2308, -0.2134, -0.1750, -0.2427, -0.0244, -0.2420],\n",
      "       device='cuda:0')----------\n"
     ]
    },
    {
     "name": "stderr",
     "output_type": "stream",
     "text": [
      "Epoch [37/50]:   0%|                                                                 | 0/9 [00:00<?, ?it/s, loss=0.00747]"
     ]
    },
    {
     "name": "stdout",
     "output_type": "stream",
     "text": [
      "-------predict: tensor([-0.2703, -0.2653,  4.3046, -0.0249, -0.1199, -0.0870, -0.0920, -0.1584,\n",
      "        -0.1521, -0.1939, -0.2804,  0.9322, -0.2705, -0.3486,  0.2770, -0.2634],\n",
      "       device='cuda:0', grad_fn=<SqueezeBackward1>), y: tensor([-0.2423, -0.2394,  4.1428,  0.0753, -0.0922, -0.0042, -0.2062, -0.1834,\n",
      "        -0.2333, -0.2385, -0.2422,  1.2423, -0.2420, -0.2424,  0.1581, -0.2286],\n",
      "       device='cuda:0')----------\n"
     ]
    },
    {
     "name": "stderr",
     "output_type": "stream",
     "text": [
      "Epoch [37/50]:   0%|                                                                   | 0/9 [00:00<?, ?it/s, loss=0.012]"
     ]
    },
    {
     "name": "stdout",
     "output_type": "stream",
     "text": [
      "-------predict: tensor([-0.2572, -0.2548,  1.1540, -0.1380, -0.2856, -0.2728, -0.0090, -0.3254,\n",
      "        -0.2075, -0.2329, -0.3185, -0.1366,  0.5018,  0.2687, -0.1673,  0.0445],\n",
      "       device='cuda:0', grad_fn=<SqueezeBackward1>), y: tensor([-0.2066, -0.2024,  1.1126, -0.2134, -0.2398, -0.2298, -0.0386, -0.2410,\n",
      "        -0.1953, -0.2177, -0.2398, -0.2326,  0.5884,  0.2747, -0.1998, -0.2408],\n",
      "       device='cuda:0')----------\n"
     ]
    },
    {
     "name": "stderr",
     "output_type": "stream",
     "text": [
      "Epoch [37/50]:   0%|                                                                 | 0/9 [00:00<?, ?it/s, loss=0.00315]"
     ]
    },
    {
     "name": "stdout",
     "output_type": "stream",
     "text": [
      "-------predict: tensor([-0.2374, -0.2178, -0.2814, -0.1924, -0.0241, -0.0538, -0.1071, -0.3069,\n",
      "         0.0229, -0.2991, -0.3021, -0.2435, -0.2572, -0.2750, -0.1845, -0.1500],\n",
      "       device='cuda:0', grad_fn=<SqueezeBackward1>), y: tensor([-0.2194, -0.2388, -0.2391, -0.1932, -0.0014, -0.1678, -0.2426, -0.2417,\n",
      "         0.0058, -0.2335, -0.2418, -0.2426, -0.2417, -0.2372, -0.2245, -0.1637],\n",
      "       device='cuda:0')----------\n"
     ]
    },
    {
     "name": "stderr",
     "output_type": "stream",
     "text": [
      "Epoch [37/50]:   0%|                                                                 | 0/9 [00:00<?, ?it/s, loss=0.00198]"
     ]
    },
    {
     "name": "stdout",
     "output_type": "stream",
     "text": [
      "-------predict: tensor([-0.1780, -0.1594, -0.2777, -0.1131, -0.1751, -0.2511, -0.2725, -0.1832,\n",
      "        -0.2189, -0.0594, -0.3202, -0.2636, -0.0840, -0.1146, -0.1899, -0.2322],\n",
      "       device='cuda:0', grad_fn=<SqueezeBackward1>), y: tensor([-0.1545, -0.2249, -0.2388, -0.1409, -0.2273, -0.2297, -0.2099, -0.2107,\n",
      "        -0.2426, -0.1063, -0.2261, -0.2375, -0.1139, -0.1552, -0.2327, -0.2368],\n",
      "       device='cuda:0')----------\n"
     ]
    },
    {
     "name": "stderr",
     "output_type": "stream",
     "text": [
      "\r",
      "Epoch [37/50]:   0%|                                                                 | 0/9 [00:00<?, ?it/s, loss=0.00198]"
     ]
    },
    {
     "name": "stdout",
     "output_type": "stream",
     "text": [
      "-------predict: tensor([-0.1604, -0.3371, -0.0872, -0.2416, -0.2455,  0.3433, -0.1369, -0.2315,\n",
      "        -0.1543, -0.3391, -0.2696, -0.3124, -0.2459, -0.2634, -0.2916, -0.2739],\n",
      "       device='cuda:0', grad_fn=<SqueezeBackward1>), y: tensor([-0.2258, -0.2216, -0.1680, -0.2264, -0.2297,  0.2559, -0.2415, -0.2246,\n",
      "        -0.2412, -0.2412, -0.2403, -0.2393, -0.2258, -0.2421, -0.2217, -0.2282],\n",
      "       device='cuda:0')----------\n"
     ]
    },
    {
     "name": "stderr",
     "output_type": "stream",
     "text": [
      "Epoch [37/50]:   0%|                                                                 | 0/9 [00:00<?, ?it/s, loss=0.00465]"
     ]
    },
    {
     "name": "stdout",
     "output_type": "stream",
     "text": [
      "-------predict: tensor([ 5.8981,  0.0951,  9.0576, -0.2310, -0.3461, -0.2321, -0.2272, -0.1832,\n",
      "         0.0817, -0.2208, -0.1114, -0.0986, -0.3239, -0.2265, -0.2431,  0.0105],\n",
      "       device='cuda:0', grad_fn=<SqueezeBackward1>), y: tensor([ 6.7906, -0.0344,  8.6617, -0.2373, -0.2417, -0.2340, -0.2244, -0.2102,\n",
      "        -0.0928, -0.2207, -0.0739, -0.2422, -0.2400, -0.1642, -0.2269,  0.0460],\n",
      "       device='cuda:0')----------\n"
     ]
    },
    {
     "name": "stderr",
     "output_type": "stream",
     "text": [
      "Epoch [37/50]:   0%|                                                                  | 0/9 [00:00<?, ?it/s, loss=0.0654]"
     ]
    },
    {
     "name": "stdout",
     "output_type": "stream",
     "text": [
      "-------predict: tensor([-0.2681, -0.2124, -0.1464,  0.0304,  2.1666, -0.0671, -0.2188, -0.1491,\n",
      "         0.3013, -0.2298, -0.1782, -0.2046, -0.2426, -0.1292, -0.1215, -0.1764],\n",
      "       device='cuda:0', grad_fn=<SqueezeBackward1>), y: tensor([-0.2411, -0.2044, -0.2021,  0.0140,  2.1945, -0.2425, -0.2229, -0.1968,\n",
      "         0.5685, -0.2337, -0.2296, -0.2311, -0.2348, -0.2260, -0.1517, -0.2246],\n",
      "       device='cuda:0')----------\n"
     ]
    },
    {
     "name": "stderr",
     "output_type": "stream",
     "text": [
      "Epoch [37/50]:   0%|                                                                 | 0/9 [00:00<?, ?it/s, loss=0.00784]"
     ]
    },
    {
     "name": "stdout",
     "output_type": "stream",
     "text": [
      "-------predict: tensor([-0.2491, -0.3519, -0.1635, -0.1268,  1.5785, -0.2055, -0.1584, -0.1035,\n",
      "        -0.2118,  0.0204, -0.2032, -0.1926, -0.2843], device='cuda:0',\n",
      "       grad_fn=<SqueezeBackward1>), y: tensor([-0.2416, -0.2397, -0.2240, -0.1990,  1.7431, -0.1854, -0.2413, -0.2045,\n",
      "        -0.2286, -0.1521, -0.1798, -0.2325, -0.2426], device='cuda:0')----------\n"
     ]
    },
    {
     "name": "stderr",
     "output_type": "stream",
     "text": [
      "Epoch [37/50]: 100%|█████████████████████████████████████████████████████████| 9/9 [00:00<00:00, 95.03it/s, loss=0.00769]\n"
     ]
    },
    {
     "name": "stdout",
     "output_type": "stream",
     "text": [
      "Epoch [37/50]: Train loss: 0.0132, Valid loss: 0.0248\n"
     ]
    },
    {
     "name": "stderr",
     "output_type": "stream",
     "text": [
      "Epoch [38/50]:   0%|                                                                  | 0/9 [00:00<?, ?it/s, loss=0.0025]"
     ]
    },
    {
     "name": "stdout",
     "output_type": "stream",
     "text": [
      "-------predict: tensor([-0.2734, -0.2143, -0.1563, -0.2360, -0.3275, -0.1920, -0.2052, -0.0838,\n",
      "        -0.1269, -0.2465,  1.1184, -0.1428, -0.2498, -0.1746, -0.2601,  0.0014],\n",
      "       device='cuda:0', grad_fn=<SqueezeBackward1>), y: tensor([-0.2099, -0.1642, -0.2258, -0.2194, -0.2261, -0.2207, -0.2423, -0.1139,\n",
      "        -0.1517, -0.2024,  1.1126, -0.2134, -0.2297, -0.2420, -0.2391,  0.0460],\n",
      "       device='cuda:0')----------\n"
     ]
    },
    {
     "name": "stderr",
     "output_type": "stream",
     "text": [
      "Epoch [38/50]:   0%|                                                                  | 0/9 [00:00<?, ?it/s, loss=0.0118]"
     ]
    },
    {
     "name": "stdout",
     "output_type": "stream",
     "text": [
      "-------predict: tensor([-0.1642, -0.1820, -0.1505, -0.1550,  8.9574, -0.1526, -0.2052, -0.2602,\n",
      "        -0.0998, -0.1727, -0.2101,  3.7863, -0.0929, -0.0968,  0.0897, -0.1450],\n",
      "       device='cuda:0', grad_fn=<SqueezeBackward1>), y: tensor([-2.2492e-01, -2.2964e-01, -1.8343e-01, -2.4119e-01,  8.6617e+00,\n",
      "        -1.6371e-01, -1.9530e-01, -2.2638e-01, -2.1125e-01, -2.1021e-01,\n",
      "        -2.2860e-01,  4.1428e+00, -4.1539e-03, -2.0616e-01, -9.2797e-02,\n",
      "        -2.0208e-01], device='cuda:0')----------\n",
      "-------predict: tensor([-0.1640, -0.2167, -0.3430, -0.3244, -0.2910, -0.1675, -0.2344,  0.3000,\n",
      "        -0.2397, -0.2409, -0.2115, -0.2628,  0.0388, -0.2724, -0.2367, -0.2605],\n",
      "       device='cuda:0', grad_fn=<SqueezeBackward1>), y: tensor([-0.2333, -0.1854, -0.2417, -0.2403, -0.2398, -0.2427, -0.2340,  0.5685,\n",
      "        -0.2311, -0.2177, -0.1545, -0.2426, -0.2408, -0.2393, -0.2070, -0.2373],\n",
      "       device='cuda:0')----------\n"
     ]
    },
    {
     "name": "stderr",
     "output_type": "stream",
     "text": [
      "Epoch [38/50]:   0%|                                                                  | 0/9 [00:00<?, ?it/s, loss=0.0106]"
     ]
    },
    {
     "name": "stdout",
     "output_type": "stream",
     "text": [
      "-------predict: tensor([-0.3749, -0.1886, -0.2484,  0.0915, -0.2835, -0.2265, -0.3152, -0.3810,\n",
      "         0.0328, -0.4457,  0.4746, -0.2259, -0.2862, -0.2089, -0.2051, -0.4258],\n",
      "       device='cuda:0', grad_fn=<SqueezeBackward1>), y: tensor([-0.2424, -0.1932, -0.2298, -0.0344, -0.2217, -0.2325, -0.2411, -0.2308,\n",
      "        -0.0014, -0.2336,  0.5884, -0.2244, -0.2388, -0.2394, -0.2246, -0.2216],\n",
      "       device='cuda:0')----------\n"
     ]
    },
    {
     "name": "stderr",
     "output_type": "stream",
     "text": [
      "Epoch [38/50]:   0%|                                                                 | 0/9 [00:00<?, ?it/s, loss=0.00548]"
     ]
    },
    {
     "name": "stdout",
     "output_type": "stream",
     "text": [
      "-------predict: tensor([-0.0062, -0.1497, -0.2205, -0.1755, -0.1461, -0.2468, -0.2215, -0.3048,\n",
      "        -0.2629, -0.2645, -0.0800,  2.2646, -0.1156, -0.0962, -0.1419, -0.2968],\n",
      "       device='cuda:0', grad_fn=<SqueezeBackward1>), y: tensor([-0.1521, -0.2260, -0.2337, -0.1968, -0.2107, -0.2413, -0.2425, -0.2398,\n",
      "        -0.2282, -0.2375, -0.1063,  2.1945, -0.2415, -0.2246, -0.2326, -0.2417],\n",
      "       device='cuda:0')----------\n"
     ]
    },
    {
     "name": "stderr",
     "output_type": "stream",
     "text": [
      "Epoch [38/50]:   0%|                                                                 | 0/9 [00:00<?, ?it/s, loss=0.00553]"
     ]
    },
    {
     "name": "stdout",
     "output_type": "stream",
     "text": [
      "-------predict: tensor([ 0.0087, -0.1824, -0.0547, -0.1425, -0.3044, -0.2315, -0.1918, -0.3083,\n",
      "        -0.2601,  0.0096, -0.2023, -0.0165, -0.3284,  0.2691, -0.1332, -0.1716],\n",
      "       device='cuda:0', grad_fn=<SqueezeBackward1>), y: tensor([-0.1515, -0.2045, -0.1678, -0.2426, -0.2418, -0.2297, -0.2269, -0.2413,\n",
      "        -0.2417,  0.0058, -0.1798,  0.0753, -0.2412,  0.2747, -0.2388, -0.2134],\n",
      "       device='cuda:0')----------\n"
     ]
    },
    {
     "name": "stderr",
     "output_type": "stream",
     "text": [
      "Epoch [38/50]:   0%|                                                                 | 0/9 [00:00<?, ?it/s, loss=0.00372]"
     ]
    },
    {
     "name": "stdout",
     "output_type": "stream",
     "text": [
      "-------predict: tensor([-0.2868, -0.1872, -0.0028, -0.0745, -0.2785, -0.1472,  0.3520, -0.2738,\n",
      "        -0.2835, -0.2337, -0.0832, -0.2514, -0.1961, -0.0973, -0.0706, -0.2305],\n",
      "       device='cuda:0', grad_fn=<SqueezeBackward1>), y: tensor([-0.2335, -0.2240, -0.0386, -0.1680, -0.2420, -0.2245,  0.2559, -0.2313,\n",
      "        -0.2416, -0.2368, -0.1409, -0.2426, -0.2327, -0.2385, -0.0922, -0.2286],\n",
      "       device='cuda:0')----------\n"
     ]
    },
    {
     "name": "stderr",
     "output_type": "stream",
     "text": [
      "Epoch [38/50]:   0%|                                                                  | 0/9 [00:00<?, ?it/s, loss=0.0569]"
     ]
    },
    {
     "name": "stdout",
     "output_type": "stream",
     "text": [
      "-------predict: tensor([-0.2149, -0.0073, -0.1139, -0.2255, -0.3567,  0.0283, -0.2377, -0.3514,\n",
      "         0.2936, -0.2397, -0.2980,  5.8890, -0.0568, -0.3114, -0.1644, -0.0900],\n",
      "       device='cuda:0', grad_fn=<SqueezeBackward1>), y: tensor([-0.2421, -0.0244, -0.1552, -0.2066, -0.2400,  0.0140, -0.2422, -0.2397,\n",
      "         0.1581, -0.2258, -0.2044,  6.7906, -0.2426, -0.2372, -0.1990, -0.0739],\n",
      "       device='cuda:0')----------\n"
     ]
    },
    {
     "name": "stderr",
     "output_type": "stream",
     "text": [
      "Epoch [38/50]: 100%|██████████████████████████████████████████████████████████| 9/9 [00:00<00:00, 96.89it/s, loss=0.0141]"
     ]
    },
    {
     "name": "stdout",
     "output_type": "stream",
     "text": [
      "-------predict: tensor([-0.1077, -0.2712, -0.1389, -0.0428,  1.5917, -0.2386, -0.1658,  0.8900,\n",
      "         0.0505, -0.2865, -0.3259, -0.1740, -0.1885], device='cuda:0',\n",
      "       grad_fn=<SqueezeBackward1>), y: tensor([-0.0876, -0.2348, -0.1065, -0.1833,  1.7431, -0.2229, -0.1998,  1.2423,\n",
      "         0.0535, -0.2422, -0.2410, -0.2273, -0.1750], device='cuda:0')----------\n"
     ]
    },
    {
     "name": "stderr",
     "output_type": "stream",
     "text": [
      "\n"
     ]
    },
    {
     "name": "stdout",
     "output_type": "stream",
     "text": [
      "Epoch [38/50]: Train loss: 0.0144, Valid loss: 0.0204\n",
      "Saving model with loss 0.020...\n"
     ]
    },
    {
     "name": "stderr",
     "output_type": "stream",
     "text": [
      "Epoch [39/50]:   0%|                                                                               | 0/9 [00:00<?, ?it/s]"
     ]
    },
    {
     "name": "stdout",
     "output_type": "stream",
     "text": [
      "-------predict: tensor([-0.0346, -0.1838, -0.2709, -0.1725, -0.1936,  0.0008, -0.3296, -0.2503,\n",
      "        -0.2117, -0.1495, -0.2999, -0.1528, -0.2451, -0.2437, -0.1798, -0.1868],\n",
      "       device='cuda:0', grad_fn=<SqueezeBackward1>), y: tensor([-0.1521, -0.2385, -0.2375, -0.2260, -0.2245,  0.0460, -0.2308, -0.2024,\n",
      "        -0.2207, -0.2134, -0.2418, -0.2246, -0.2325, -0.2244, -0.2107, -0.2102],\n",
      "       device='cuda:0')----------\n"
     ]
    },
    {
     "name": "stderr",
     "output_type": "stream",
     "text": [
      "Epoch [39/50]:   0%|                                                                 | 0/9 [00:00<?, ?it/s, loss=0.00365]"
     ]
    },
    {
     "name": "stdout",
     "output_type": "stream",
     "text": [
      "-------predict: tensor([-0.2830, -0.2434, -0.1999, -0.2663, -0.2353, -0.2163, -0.1501, -0.1699,\n",
      "         0.0927, -0.2338, -0.1315, -0.2682, -0.3191, -0.1956, -0.0926,  0.5064],\n",
      "       device='cuda:0', grad_fn=<SqueezeBackward1>), y: tensor([-0.2373, -0.2258, -0.2296, -0.2372, -0.2229, -0.1854, -0.1834, -0.1998,\n",
      "        -0.0928, -0.2194, -0.0922, -0.2422, -0.2393, -0.2258, -0.0739,  0.5884],\n",
      "       device='cuda:0')----------\n"
     ]
    },
    {
     "name": "stderr",
     "output_type": "stream",
     "text": [
      "Epoch [39/50]:   0%|                                                                  | 0/9 [00:00<?, ?it/s, loss=0.0207]"
     ]
    },
    {
     "name": "stdout",
     "output_type": "stream",
     "text": [
      "-------predict: tensor([-0.1140, -0.3040, -0.1402, -0.0420, -0.3578, -0.2421, -0.2297, -0.0470,\n",
      "        -0.0914, -0.2834,  2.1716, -0.1899, -0.3671,  9.1450, -0.3056, -0.0639],\n",
      "       device='cuda:0', grad_fn=<SqueezeBackward1>), y: tensor([-2.4245e-01, -2.4102e-01, -2.0449e-01, -1.8335e-01, -2.4257e-01,\n",
      "        -2.3682e-01, -2.3112e-01, -1.0634e-01, -4.1539e-03, -2.3884e-01,\n",
      "         2.1945e+00, -2.0703e-01, -2.3966e-01,  8.6617e+00, -2.2688e-01,\n",
      "        -1.4000e-03], device='cuda:0')----------\n"
     ]
    },
    {
     "name": "stderr",
     "output_type": "stream",
     "text": [
      "\r",
      "Epoch [39/50]:   0%|                                                                  | 0/9 [00:00<?, ?it/s, loss=0.0207]"
     ]
    },
    {
     "name": "stdout",
     "output_type": "stream",
     "text": [
      "-------predict: tensor([ 0.2460, -0.2801, -0.0983, -0.2564, -0.1023, -0.2701,  0.0226, -0.2923,\n",
      "        -0.2079, -0.1311, -0.1851, -0.2564, -0.1817, -0.3382, -0.1146,  0.0319],\n",
      "       device='cuda:0', grad_fn=<SqueezeBackward1>), y: tensor([ 0.1581, -0.2403, -0.1680, -0.2297, -0.2062, -0.2282,  0.0058, -0.2411,\n",
      "        -0.2273, -0.1517, -0.1545, -0.2398, -0.2415, -0.2216, -0.1409, -0.0386],\n",
      "       device='cuda:0')----------\n"
     ]
    },
    {
     "name": "stderr",
     "output_type": "stream",
     "text": [
      "Epoch [39/50]:   0%|                                                                 | 0/9 [00:00<?, ?it/s, loss=0.00345]"
     ]
    },
    {
     "name": "stdout",
     "output_type": "stream",
     "text": [
      "-------predict: tensor([-0.3724, -0.1520, -0.1906, -0.2582, -0.2630, -0.3158, -0.2091, -0.1619,\n",
      "        -0.2070,  0.0317, -0.2304, -0.1492, -0.3600, -0.2612,  5.9931,  0.2884],\n",
      "       device='cuda:0', grad_fn=<SqueezeBackward1>), y: tensor([-0.2336, -0.1990, -0.1750, -0.2426, -0.2394, -0.2424, -0.1953, -0.2333,\n",
      "        -0.2426, -0.2408, -0.2177, -0.1065, -0.2417, -0.2066,  6.7906,  0.5685],\n",
      "       device='cuda:0')----------\n"
     ]
    },
    {
     "name": "stderr",
     "output_type": "stream",
     "text": [
      "Epoch [39/50]:   0%|                                                                  | 0/9 [00:00<?, ?it/s, loss=0.0526]"
     ]
    },
    {
     "name": "stdout",
     "output_type": "stream",
     "text": [
      "-------predict: tensor([ 4.3377, -0.0578, -0.2888, -0.2807,  0.0538,  1.6152, -0.2473, -0.2859,\n",
      "        -0.2373, -0.1248, -0.3404, -0.2646, -0.2698, -0.1475, -0.1655, -0.2429],\n",
      "       device='cuda:0', grad_fn=<SqueezeBackward1>), y: tensor([ 4.1428, -0.1678, -0.2099, -0.2391,  0.0535,  1.7431, -0.2264, -0.2313,\n",
      "        -0.2420, -0.1552, -0.2400, -0.2427, -0.2423, -0.1637, -0.2413, -0.2297],\n",
      "       device='cuda:0')----------\n"
     ]
    },
    {
     "name": "stderr",
     "output_type": "stream",
     "text": [
      "Epoch [39/50]:   0%|                                                                 | 0/9 [00:00<?, ?it/s, loss=0.00602]"
     ]
    },
    {
     "name": "stdout",
     "output_type": "stream",
     "text": [
      "-------predict: tensor([-0.2933, -0.2829, -0.1645, -0.1424, -0.0308,  0.2822, -0.2390, -0.1944,\n",
      "        -0.1161,  0.0338, -0.1453, -0.1796, -0.2816, -0.2428,  0.9515, -0.2260],\n",
      "       device='cuda:0', grad_fn=<SqueezeBackward1>), y: tensor([-0.2335, -0.2217, -0.1968, -0.2326,  0.0753,  0.2747, -0.2044, -0.2327,\n",
      "        -0.2112,  0.0140, -0.2426, -0.2420, -0.2398, -0.2417,  1.2423, -0.2246],\n",
      "       device='cuda:0')----------\n"
     ]
    },
    {
     "name": "stderr",
     "output_type": "stream",
     "text": [
      "Epoch [39/50]:   0%|                                                                 | 0/9 [00:00<?, ?it/s, loss=0.00873]"
     ]
    },
    {
     "name": "stdout",
     "output_type": "stream",
     "text": [
      "-------predict: tensor([-0.2102, -0.2599, -0.0828, -0.1590, -0.3334,  0.0819, -0.0270, -0.1705,\n",
      "         1.1486,  0.0320, -0.1972, -0.2859, -0.2168, -0.2245, -0.1649, -0.1457],\n",
      "       device='cuda:0', grad_fn=<SqueezeBackward1>), y: tensor([-0.1642, -0.2416, -0.1139, -0.2388, -0.2412, -0.0344, -0.0244, -0.2412,\n",
      "         1.1126, -0.1515, -0.1798, -0.2421, -0.2286, -0.2337, -0.2240, -0.2249],\n",
      "       device='cuda:0')----------\n"
     ]
    },
    {
     "name": "stderr",
     "output_type": "stream",
     "text": [
      "Epoch [39/50]:   0%|                                                                 | 0/9 [00:00<?, ?it/s, loss=0.00525]"
     ]
    },
    {
     "name": "stdout",
     "output_type": "stream",
     "text": [
      "-------predict: tensor([-0.1566, -0.2442, -0.1887, -0.1129,  0.4189, -0.2324, -0.2189, -0.2202,\n",
      "        -0.2636, -0.3185, -0.1385, -0.2863, -0.2745], device='cuda:0',\n",
      "       grad_fn=<SqueezeBackward1>), y: tensor([-0.2422, -0.2348, -0.1932, -0.0876,  0.2559, -0.2340, -0.2134, -0.2286,\n",
      "        -0.2298, -0.2261, -0.2021, -0.2413, -0.2417], device='cuda:0')----------\n"
     ]
    },
    {
     "name": "stderr",
     "output_type": "stream",
     "text": [
      "Epoch [39/50]: 100%|█████████████████████████████████████████████████████████| 9/9 [00:00<00:00, 95.28it/s, loss=0.00397]\n"
     ]
    },
    {
     "name": "stdout",
     "output_type": "stream",
     "text": [
      "Epoch [39/50]: Train loss: 0.0120, Valid loss: 0.0262\n"
     ]
    },
    {
     "name": "stderr",
     "output_type": "stream",
     "text": [
      "Epoch [40/50]:   0%|                                                                  | 0/9 [00:00<?, ?it/s, loss=0.0106]"
     ]
    },
    {
     "name": "stdout",
     "output_type": "stream",
     "text": [
      "-------predict: tensor([-0.1370, -0.2908, -0.3717, -0.1581, -0.2133, -0.2433, -0.2051, -0.1702,\n",
      "         0.3157,  0.4219, -0.3242, -0.0438, -0.2344, -0.1503, -0.3297, -0.1188],\n",
      "       device='cuda:0', grad_fn=<SqueezeBackward1>), y: tensor([-0.2260, -0.2335, -0.2336, -0.2070, -0.2286, -0.2348, -0.1953, -0.2413,\n",
      "         0.5685,  0.2559, -0.2426, -0.1063, -0.2368, -0.2333, -0.2412, -0.2426],\n",
      "       device='cuda:0')----------\n"
     ]
    },
    {
     "name": "stderr",
     "output_type": "stream",
     "text": [
      "Epoch [40/50]:   0%|                                                                  | 0/9 [00:00<?, ?it/s, loss=0.0214]"
     ]
    },
    {
     "name": "stdout",
     "output_type": "stream",
     "text": [
      "-------predict: tensor([-0.1616, -0.2225, -0.0885, -0.1962, -0.1155, -0.1207, -0.2368, -0.1240,\n",
      "        -0.2590, -0.2309, -0.2727, -0.1926,  1.1488, -0.1469, -0.2365, -0.0425],\n",
      "       device='cuda:0', grad_fn=<SqueezeBackward1>), y: tensor([-0.2240, -0.2337, -0.1409, -0.1798, -0.1834, -0.1552, -0.2024, -0.2045,\n",
      "        -0.2298, -0.2340, -0.2372, -0.2296,  1.1126, -0.1637, -0.2420, -0.1833],\n",
      "       device='cuda:0')----------\n",
      "-------predict: tensor([-0.2146, -0.1802, -0.1707, -0.3541, -0.2851,  0.0147, -0.1528, -0.3271,\n",
      "        -0.0689, -0.1343, -0.2792, -0.0822,  9.1667, -0.1585, -0.1804, -0.2312],\n",
      "       device='cuda:0', grad_fn=<SqueezeBackward1>), y: tensor([-0.2246, -0.2422, -0.2412, -0.2216, -0.2099, -0.1521, -0.2107, -0.2400,\n",
      "        -0.0922, -0.2021, -0.2217, -0.1139,  8.6617, -0.2134, -0.2420, -0.2229],\n",
      "       device='cuda:0')----------\n"
     ]
    },
    {
     "name": "stderr",
     "output_type": "stream",
     "text": [
      "Epoch [40/50]:   0%|                                                                 | 0/9 [00:00<?, ?it/s, loss=0.00887]"
     ]
    },
    {
     "name": "stdout",
     "output_type": "stream",
     "text": [
      "-------predict: tensor([-0.1981, -0.0579,  0.0416,  0.0778,  0.0252, -0.1324,  0.0827,  0.3035,\n",
      "        -0.2517, -0.2750, -0.2267, -0.1690, -0.2024, -0.1568,  0.0194, -0.2687],\n",
      "       device='cuda:0', grad_fn=<SqueezeBackward1>), y: tensor([-0.1854, -0.1680, -0.1515, -0.0928, -0.0386, -0.2273, -0.0344,  0.1581,\n",
      "        -0.2297, -0.2044, -0.2177, -0.1968, -0.2325, -0.2388,  0.0460, -0.2416],\n",
      "       device='cuda:0')----------\n"
     ]
    },
    {
     "name": "stderr",
     "output_type": "stream",
     "text": [
      "\r",
      "Epoch [40/50]:   0%|                                                                 | 0/9 [00:00<?, ?it/s, loss=0.00887]"
     ]
    },
    {
     "name": "stdout",
     "output_type": "stream",
     "text": [
      "-------predict: tensor([-0.2029, -0.1148, -0.3086,  2.2819, -0.3377, -0.1840, -0.1596, -0.1898,\n",
      "        -0.1699, -0.1709,  1.6222, -0.2548, -0.2070, -0.0253, -0.1086, -0.2901],\n",
      "       device='cuda:0', grad_fn=<SqueezeBackward1>), y: tensor([-0.1545, -0.1517, -0.2418,  2.1945, -0.2417, -0.1932, -0.1990, -0.2423,\n",
      "        -0.2258, -0.2207,  1.7431, -0.2269, -0.2426,  0.0753, -0.0876, -0.2398],\n",
      "       device='cuda:0')----------\n"
     ]
    },
    {
     "name": "stderr",
     "output_type": "stream",
     "text": [
      "Epoch [40/50]:   0%|                                                                 | 0/9 [00:00<?, ?it/s, loss=0.00814]"
     ]
    },
    {
     "name": "stdout",
     "output_type": "stream",
     "text": [
      "-------predict: tensor([-0.3391, -0.3012, -0.1312,  0.0036, -0.1450, -0.1994, -0.0584, -0.2702,\n",
      "         0.0278, -0.2731,  0.0155, -0.1554, -0.2123, -0.3261, -0.1946, -0.3397],\n",
      "       device='cuda:0', grad_fn=<SqueezeBackward1>), y: tensor([-0.2403, -0.2417, -0.1065, -0.0244, -0.2326, -0.2245, -0.1678, -0.2375,\n",
      "        -0.2408, -0.2286,  0.0058, -0.1998, -0.2134, -0.2411, -0.1642, -0.2410],\n",
      "       device='cuda:0')----------\n"
     ]
    },
    {
     "name": "stderr",
     "output_type": "stream",
     "text": [
      "Epoch [40/50]:   0%|                                                                 | 0/9 [00:00<?, ?it/s, loss=0.00805]"
     ]
    },
    {
     "name": "stdout",
     "output_type": "stream",
     "text": [
      "-------predict: tensor([-0.3426, -0.3770, -0.2996, -0.2299,  0.0381, -0.3413, -0.1945, -0.3616,\n",
      "        -0.2800, -0.2856, -0.3772,  4.3425, -0.2554, -0.2686, -0.2368, -0.2612],\n",
      "       device='cuda:0', grad_fn=<SqueezeBackward1>), y: tensor([-0.2413, -0.2424, -0.2426, -0.2249,  0.0140, -0.2417, -0.2415, -0.2397,\n",
      "        -0.2393, -0.2313, -0.2308,  4.1428, -0.2394, -0.2194, -0.2297, -0.2311],\n",
      "       device='cuda:0')----------\n"
     ]
    },
    {
     "name": "stderr",
     "output_type": "stream",
     "text": [
      "\r",
      "Epoch [40/50]:   0%|                                                                 | 0/9 [00:00<?, ?it/s, loss=0.00805]"
     ]
    },
    {
     "name": "stdout",
     "output_type": "stream",
     "text": [
      "-------predict: tensor([-0.2869, -0.1013, -0.1817, -0.2391, -0.0780, -0.0720,  0.4916, -0.2381,\n",
      "        -0.3197, -0.2368,  0.0516, -0.2348, -0.3253, -0.3713, -0.2032, -0.3057],\n",
      "       device='cuda:0', grad_fn=<SqueezeBackward1>), y: tensor([-0.2264, -0.2062, -0.1750, -0.2425, -0.0042, -0.0739,  0.5884, -0.2258,\n",
      "        -0.2391, -0.2427,  0.0535, -0.2066, -0.2398, -0.2261, -0.2327, -0.2422],\n",
      "       device='cuda:0')----------\n"
     ]
    },
    {
     "name": "stderr",
     "output_type": "stream",
     "text": [
      "Epoch [40/50]:   0%|                                                                 | 0/9 [00:00<?, ?it/s, loss=0.00439]"
     ]
    },
    {
     "name": "stdout",
     "output_type": "stream",
     "text": [
      "-------predict: tensor([-0.2798, -0.3119, -0.0464, -0.2633,  5.9754, -0.1374,  0.9069, -0.2378,\n",
      "        -0.2009, -0.1184,  0.2537, -0.2932, -0.1903], device='cuda:0',\n",
      "       grad_fn=<SqueezeBackward1>), y: tensor([-2.3884e-01, -2.3734e-01, -1.4000e-03, -2.2819e-01,  6.7906e+00,\n",
      "        -2.2455e-01,  1.2423e+00, -2.2436e-01, -2.3847e-01, -2.1125e-01,\n",
      "         2.7475e-01, -2.4207e-01, -2.1021e-01], device='cuda:0')----------\n"
     ]
    },
    {
     "name": "stderr",
     "output_type": "stream",
     "text": [
      "Epoch [40/50]: 100%|██████████████████████████████████████████████████████████| 9/9 [00:00<00:00, 95.86it/s, loss=0.0622]\n"
     ]
    },
    {
     "name": "stdout",
     "output_type": "stream",
     "text": [
      "Epoch [40/50]: Train loss: 0.0145, Valid loss: 0.0212\n"
     ]
    },
    {
     "name": "stderr",
     "output_type": "stream",
     "text": [
      "Epoch [41/50]:   0%|                                                                  | 0/9 [00:00<?, ?it/s, loss=0.0445]"
     ]
    },
    {
     "name": "stdout",
     "output_type": "stream",
     "text": [
      "-------predict: tensor([-1.2259e-01,  5.9893e+00, -2.0632e-01, -1.7660e-01, -1.1138e-03,\n",
      "        -1.9015e-01, -1.7421e-01, -2.3536e-01, -2.7842e-01, -1.7218e-01,\n",
      "        -1.8759e-01, -1.7601e-01, -8.3563e-02, -2.6857e-01, -2.6772e-01,\n",
      "        -2.0075e-01], device='cuda:0', grad_fn=<SqueezeBackward1>), y: tensor([-2.4265e-01,  6.7906e+00, -1.6417e-01, -2.3847e-01, -1.5146e-01,\n",
      "        -2.2454e-01, -2.4202e-01, -2.3402e-01, -2.2174e-01, -2.4146e-01,\n",
      "        -2.2492e-01, -2.2727e-01, -4.1539e-03, -2.2969e-01, -2.4165e-01,\n",
      "        -2.4129e-01], device='cuda:0')----------\n"
     ]
    },
    {
     "name": "stderr",
     "output_type": "stream",
     "text": [
      "Epoch [41/50]:   0%|                                                                 | 0/9 [00:00<?, ?it/s, loss=0.00297]"
     ]
    },
    {
     "name": "stdout",
     "output_type": "stream",
     "text": [
      "-------predict: tensor([-0.2200, -0.1820, -0.2403, -0.2457, -0.2224, -0.2943,  0.0786, -0.1534,\n",
      "        -0.2080, -0.1101, -0.2255,  0.0331, -0.2283, -0.1657, -0.1551, -0.3290],\n",
      "       device='cuda:0', grad_fn=<SqueezeBackward1>), y: tensor([-0.2229, -0.2102, -0.2066, -0.2420, -0.2177, -0.2411, -0.0344, -0.1968,\n",
      "        -0.1854, -0.2112, -0.2311,  0.0140, -0.2244, -0.2333, -0.2246, -0.2426],\n",
      "       device='cuda:0')----------\n"
     ]
    },
    {
     "name": "stderr",
     "output_type": "stream",
     "text": [
      "Epoch [41/50]:   0%|                                                                 | 0/9 [00:00<?, ?it/s, loss=0.00231]"
     ]
    },
    {
     "name": "stdout",
     "output_type": "stream",
     "text": [
      "-------predict: tensor([-0.2333, -0.1691, -0.2438,  0.2660, -0.2340, -0.2883, -0.1580, -0.2500,\n",
      "        -0.2660, -0.2481, -0.3065, -0.1952, -0.1883, -0.2903,  0.2768,  0.5167],\n",
      "       device='cuda:0', grad_fn=<SqueezeBackward1>), y: tensor([-0.2134, -0.2070, -0.2024,  0.1581, -0.2044, -0.2417, -0.2258, -0.2348,\n",
      "        -0.2388, -0.2398, -0.2424, -0.2327, -0.1932, -0.2413,  0.2747,  0.5884],\n",
      "       device='cuda:0')----------\n"
     ]
    },
    {
     "name": "stderr",
     "output_type": "stream",
     "text": [
      "Epoch [41/50]:   0%|                                                                 | 0/9 [00:00<?, ?it/s, loss=0.00566]"
     ]
    },
    {
     "name": "stdout",
     "output_type": "stream",
     "text": [
      "-------predict: tensor([ 0.0831, -0.3258, -0.2586, -0.1065, -0.1901, -0.3152, -0.2174, -0.0902,\n",
      "        -0.0862, -0.1244, -0.0471, -0.1456, -0.2475, -0.0229, -0.2293, -0.2548],\n",
      "       device='cuda:0', grad_fn=<SqueezeBackward1>), y: tensor([-0.0386, -0.2412, -0.2427, -0.2045, -0.2388, -0.2216, -0.2286, -0.2425,\n",
      "        -0.0739, -0.1990, -0.1678, -0.2021, -0.2423, -0.0014, -0.2264, -0.2375],\n",
      "       device='cuda:0')----------\n"
     ]
    },
    {
     "name": "stderr",
     "output_type": "stream",
     "text": [
      "Epoch [41/50]:   0%|                                                                 | 0/9 [00:00<?, ?it/s, loss=0.00556]"
     ]
    },
    {
     "name": "stdout",
     "output_type": "stream",
     "text": [
      "-------predict: tensor([-2.3972e-01, -2.6213e-01, -3.1182e-01,  7.1996e-04, -3.2303e-01,\n",
      "        -9.1529e-02, -2.8840e-02, -1.9511e-01, -2.9614e-01,  1.6337e+00,\n",
      "        -1.0940e-01, -1.7681e-01, -2.4484e-01, -1.3121e-01, -1.4777e-01,\n",
      "        -3.0512e-01], device='cuda:0', grad_fn=<SqueezeBackward1>), y: tensor([-0.2258, -0.2398, -0.2421, -0.1521, -0.2400, -0.2062,  0.0753, -0.1798,\n",
      "        -0.2261,  1.7431, -0.0922, -0.1998, -0.2394, -0.1637, -0.2260, -0.2418],\n",
      "       device='cuda:0')----------\n"
     ]
    },
    {
     "name": "stderr",
     "output_type": "stream",
     "text": [
      "Epoch [41/50]:   0%|                                                                 | 0/9 [00:00<?, ?it/s, loss=0.00725]"
     ]
    },
    {
     "name": "stdout",
     "output_type": "stream",
     "text": [
      "-------predict: tensor([-0.2658, -0.3571, -0.2462, -0.2425, -0.1954, -0.1097,  1.1679, -0.2849,\n",
      "        -0.2755, -0.1197, -0.2163, -0.2804,  0.2983, -0.2495, -0.1505, -0.0792],\n",
      "       device='cuda:0', grad_fn=<SqueezeBackward1>), y: tensor([-0.2282, -0.2397, -0.2422, -0.2416, -0.2296, -0.1409,  1.1126, -0.2099,\n",
      "        -0.2391, -0.0876, -0.2194, -0.2313,  0.5685, -0.2297, -0.2134, -0.1680],\n",
      "       device='cuda:0')----------\n"
     ]
    },
    {
     "name": "stderr",
     "output_type": "stream",
     "text": [
      "Epoch [41/50]:   0%|                                                                  | 0/9 [00:00<?, ?it/s, loss=0.0129]"
     ]
    },
    {
     "name": "stdout",
     "output_type": "stream",
     "text": [
      "-------predict: tensor([-0.0424, -0.2604, -0.1738,  4.5211, -0.1973, -0.1303, -0.0446,  0.0429,\n",
      "        -0.1458, -0.2920, -0.2265,  0.0517, -0.1331, -0.2651, -0.3059, -0.0365],\n",
      "       device='cuda:0', grad_fn=<SqueezeBackward1>), y: tensor([-0.1833, -0.2373, -0.2240,  4.1428, -0.2426, -0.1834, -0.1063,  0.0058,\n",
      "        -0.2326, -0.2335, -0.2337,  0.0535, -0.2422, -0.2403, -0.2269, -0.0244],\n",
      "       device='cuda:0')----------\n"
     ]
    },
    {
     "name": "stderr",
     "output_type": "stream",
     "text": [
      "Epoch [41/50]:   0%|                                                                 | 0/9 [00:00<?, ?it/s, loss=0.00978]"
     ]
    },
    {
     "name": "stdout",
     "output_type": "stream",
     "text": [
      "-------predict: tensor([-0.2967, -0.2516,  0.4151, -0.2117,  0.9423, -0.2380, -0.1655, -0.1317,\n",
      "        -0.2733,  2.2211, -0.1868, -0.3604, -0.2415, -0.2555, -0.3647, -0.1279],\n",
      "       device='cuda:0', grad_fn=<SqueezeBackward1>), y: tensor([-0.2308, -0.2372,  0.2559, -0.1953,  1.2423, -0.2368, -0.1545, -0.1517,\n",
      "        -0.2298,  2.1945, -0.1750, -0.2336, -0.2207, -0.2286, -0.2417, -0.1552],\n",
      "       device='cuda:0')----------\n"
     ]
    },
    {
     "name": "stderr",
     "output_type": "stream",
     "text": [
      "Epoch [41/50]:   0%|                                                                  | 0/9 [00:00<?, ?it/s, loss=0.0419]"
     ]
    },
    {
     "name": "stdout",
     "output_type": "stream",
     "text": [
      "-------predict: tensor([-0.2673,  0.0922,  0.0124, -0.2281, -0.1898, -0.0789,  0.0304, -0.1455,\n",
      "        -0.3232, -0.1634,  9.3051, -0.2543, -0.3039], device='cuda:0',\n",
      "       grad_fn=<SqueezeBackward1>), y: tensor([-0.2426, -0.0928,  0.0460, -0.2246, -0.2107, -0.1139, -0.2408, -0.1065,\n",
      "        -0.2393, -0.2412,  8.6617, -0.2325, -0.2410], device='cuda:0')----------\n"
     ]
    },
    {
     "name": "stderr",
     "output_type": "stream",
     "text": [
      "Epoch [41/50]: 100%|██████████████████████████████████████████████████████████| 9/9 [00:00<00:00, 93.38it/s, loss=0.0419]\n"
     ]
    },
    {
     "name": "stdout",
     "output_type": "stream",
     "text": [
      "Epoch [41/50]: Train loss: 0.0148, Valid loss: 0.0219\n"
     ]
    },
    {
     "name": "stderr",
     "output_type": "stream",
     "text": [
      "Epoch [42/50]:   0%|                                                                  | 0/9 [00:00<?, ?it/s, loss=0.0047]"
     ]
    },
    {
     "name": "stdout",
     "output_type": "stream",
     "text": [
      "-------predict: tensor([-0.2545, -0.2077, -0.1251, -0.1810,  0.4019, -0.2263, -0.2194, -0.1782,\n",
      "        -0.2377, -0.0307, -0.0429, -0.3178, -0.2998, -0.1338, -0.2081, -0.2363],\n",
      "       device='cuda:0', grad_fn=<SqueezeBackward1>), y: tensor([-0.2044, -0.1953, -0.1517, -0.2102,  0.2559, -0.2177, -0.2246, -0.2249,\n",
      "        -0.2258, -0.1521, -0.1833, -0.2308, -0.2411, -0.1065, -0.1854, -0.2134],\n",
      "       device='cuda:0')----------\n"
     ]
    },
    {
     "name": "stderr",
     "output_type": "stream",
     "text": [
      "Epoch [42/50]:   0%|                                                                  | 0/9 [00:00<?, ?it/s, loss=0.0091]"
     ]
    },
    {
     "name": "stdout",
     "output_type": "stream",
     "text": [
      "-------predict: tensor([ 6.0607e+00, -2.9392e-01, -2.5911e-01, -3.0082e-01, -2.4242e-01,\n",
      "        -2.5787e-01,  2.7460e-02,  2.6774e-01, -1.4268e-01, -2.3717e-01,\n",
      "        -1.4002e-01, -2.6357e-01, -2.4732e-01,  4.0605e-03, -2.0990e-01,\n",
      "        -7.8936e-02], device='cuda:0', grad_fn=<SqueezeBackward1>), y: tensor([ 6.7906, -0.2417, -0.2420, -0.2403, -0.2297, -0.2375, -0.2408,  0.2747,\n",
      "        -0.2021, -0.2024, -0.1637, -0.2297, -0.2269,  0.0460, -0.2286, -0.1139],\n",
      "       device='cuda:0')----------\n",
      "-------predict: tensor([-0.3398,  4.2858, -0.2513, -0.1990, -0.1214, -0.0684, -0.2130,  0.0821,\n",
      "        -0.3491, -0.3826, -0.4059, -0.1833,  0.0267, -0.3404, -0.2793, -0.2029],\n",
      "       device='cuda:0', grad_fn=<SqueezeBackward1>), y: tensor([-2.3966e-01,  4.1428e+00, -2.2638e-01, -2.3275e-01, -2.3847e-01,\n",
      "        -9.2175e-02, -2.4207e-01, -3.4434e-02, -2.2611e-01, -2.2159e-01,\n",
      "        -2.3362e-01, -2.2964e-01, -1.4000e-03, -2.4241e-01, -2.4216e-01,\n",
      "        -2.0703e-01], device='cuda:0')----------\n"
     ]
    },
    {
     "name": "stderr",
     "output_type": "stream",
     "text": [
      "Epoch [42/50]:   0%|                                                                 | 0/9 [00:00<?, ?it/s, loss=0.00342]"
     ]
    },
    {
     "name": "stdout",
     "output_type": "stream",
     "text": [
      "-------predict: tensor([ 2.2808, -0.1825, -0.2727, -0.2215, -0.1212, -0.1931, -0.1409, -0.2764,\n",
      "        -0.2602, -0.3140, -0.0113, -0.1962, -0.2822, -0.2271, -0.2986,  0.0205],\n",
      "       device='cuda:0', grad_fn=<SqueezeBackward1>), y: tensor([ 2.1945, -0.2427, -0.2398, -0.2286, -0.2415, -0.1642, -0.2258, -0.2217,\n",
      "        -0.2348, -0.2412, -0.0244, -0.2325, -0.2335, -0.2340, -0.2372, -0.0386],\n",
      "       device='cuda:0')----------\n"
     ]
    },
    {
     "name": "stderr",
     "output_type": "stream",
     "text": [
      "Epoch [42/50]:   0%|                                                                  | 0/9 [00:00<?, ?it/s, loss=0.0155]"
     ]
    },
    {
     "name": "stdout",
     "output_type": "stream",
     "text": [
      "-------predict: tensor([ 9.0917, -0.0882, -0.1642, -0.1693, -0.2501, -0.2937, -0.2617, -0.2113,\n",
      "         0.5019, -0.2043, -0.1298, -0.0588, -0.2586, -0.2487, -0.2212, -0.2391],\n",
      "       device='cuda:0', grad_fn=<SqueezeBackward1>), y: tensor([ 8.6617, -0.1409, -0.2333, -0.2412, -0.2298, -0.2413, -0.2417, -0.2229,\n",
      "         0.5884, -0.2244, -0.1834, -0.2426, -0.2282, -0.2391, -0.2337, -0.2194],\n",
      "       device='cuda:0')----------\n"
     ]
    },
    {
     "name": "stderr",
     "output_type": "stream",
     "text": [
      "Epoch [42/50]:   0%|                                                                  | 0/9 [00:00<?, ?it/s, loss=0.0034]"
     ]
    },
    {
     "name": "stdout",
     "output_type": "stream",
     "text": [
      "-------predict: tensor([-0.1583, -0.0874, -0.1816, -0.1561, -0.1957, -0.3027,  0.0351, -0.2561,\n",
      "        -0.2154, -0.0847, -0.0839,  0.0580,  1.6055, -0.2359, -0.0803, -0.2048],\n",
      "       device='cuda:0', grad_fn=<SqueezeBackward1>), y: tensor([-0.2107, -0.0739, -0.1750, -0.2134, -0.1798, -0.2418,  0.0058, -0.2388,\n",
      "        -0.2311, -0.0042, -0.0876,  0.0535,  1.7431, -0.2398, -0.2062, -0.2426],\n",
      "       device='cuda:0')----------\n"
     ]
    },
    {
     "name": "stderr",
     "output_type": "stream",
     "text": [
      "Epoch [42/50]:   0%|                                                                 | 0/9 [00:00<?, ?it/s, loss=0.00538]"
     ]
    },
    {
     "name": "stdout",
     "output_type": "stream",
     "text": [
      "-------predict: tensor([ 0.3035, -0.1655, -0.1299, -0.2165, -0.1485, -0.1663, -0.1207, -0.2040,\n",
      "        -0.2531, -0.0406, -0.1709, -0.1504, -0.2134, -0.0734, -0.2163,  0.0257],\n",
      "       device='cuda:0', grad_fn=<SqueezeBackward1>), y: tensor([ 0.1581, -0.2207, -0.2246, -0.2368, -0.2260, -0.2045, -0.2273, -0.2422,\n",
      "        -0.2416, -0.1678, -0.1998, -0.2245, -0.2066, -0.1680, -0.2373,  0.0140],\n",
      "       device='cuda:0')----------\n"
     ]
    },
    {
     "name": "stderr",
     "output_type": "stream",
     "text": [
      "\r",
      "Epoch [42/50]:   0%|                                                                 | 0/9 [00:00<?, ?it/s, loss=0.00538]"
     ]
    },
    {
     "name": "stdout",
     "output_type": "stream",
     "text": [
      "-------predict: tensor([-0.1879, -0.1135, -0.2108, -0.1520, -0.2274, -0.2886, -0.3182,  0.2865,\n",
      "        -0.0154,  0.0618, -0.0917, -0.1985,  1.1219, -0.3531, -0.2544, -0.2057],\n",
      "       device='cuda:0', grad_fn=<SqueezeBackward1>), y: tensor([-0.1932, -0.1552, -0.2413, -0.2326, -0.2394, -0.2099, -0.2410,  0.5685,\n",
      "         0.0753, -0.0928, -0.2112, -0.2423,  1.1126, -0.2400, -0.2313, -0.2240],\n",
      "       device='cuda:0')----------\n"
     ]
    },
    {
     "name": "stderr",
     "output_type": "stream",
     "text": [
      "Epoch [42/50]:   0%|                                                                  | 0/9 [00:00<?, ?it/s, loss=0.0102]"
     ]
    },
    {
     "name": "stdout",
     "output_type": "stream",
     "text": [
      "-------predict: tensor([-0.1827, -0.1975, -0.1912, -0.1644, -0.3427, -0.1500, -0.0321, -0.1745,\n",
      "        -0.2775, -0.3028, -0.0821, -0.1902,  0.8706], device='cuda:0',\n",
      "       grad_fn=<SqueezeBackward1>), y: tensor([-0.2426, -0.2388, -0.2425, -0.2420, -0.2417, -0.1968, -0.1515, -0.1990,\n",
      "        -0.2393, -0.2426, -0.1063, -0.1545,  1.2423], device='cuda:0')----------\n"
     ]
    },
    {
     "name": "stderr",
     "output_type": "stream",
     "text": [
      "Epoch [42/50]: 100%|██████████████████████████████████████████████████████████| 9/9 [00:00<00:00, 94.27it/s, loss=0.0143]"
     ]
    },
    {
     "name": "stdout",
     "output_type": "stream",
     "text": [
      "Epoch [42/50]: Train loss: 0.0117, Valid loss: 0.0203\n"
     ]
    },
    {
     "name": "stderr",
     "output_type": "stream",
     "text": [
      "\n"
     ]
    },
    {
     "name": "stdout",
     "output_type": "stream",
     "text": [
      "Saving model with loss 0.020...\n"
     ]
    },
    {
     "name": "stderr",
     "output_type": "stream",
     "text": [
      "Epoch [43/50]:   0%|                                                                 | 0/9 [00:00<?, ?it/s, loss=0.00876]"
     ]
    },
    {
     "name": "stdout",
     "output_type": "stream",
     "text": [
      "-------predict: tensor([-0.3531, -0.1523, -0.0648, -0.2766, -0.1621, -0.0745, -0.1323,  0.2769,\n",
      "        -0.3091, -0.2811, -0.2986, -0.0949, -0.2770, -0.1819, -0.2543,  0.0302],\n",
      "       device='cuda:0', grad_fn=<SqueezeBackward1>), y: tensor([-0.2261, -0.1968, -0.1521, -0.2217, -0.1998, -0.0386, -0.2246,  0.5685,\n",
      "        -0.2417, -0.2422, -0.2426, -0.0876, -0.2264, -0.2333, -0.2325,  0.0140],\n",
      "       device='cuda:0')----------\n",
      "-------predict: tensor([-0.1542, -0.2437, -0.1271,  8.9424, -0.1342, -0.1444, -0.1981, -0.2303,\n",
      "         0.0622, -0.1461, -0.2273, -0.2213, -0.1077, -0.0164, -0.2965, -0.2323],\n",
      "       device='cuda:0', grad_fn=<SqueezeBackward1>), y: tensor([-0.2326, -0.2311, -0.1065,  8.6617, -0.2415, -0.2273, -0.1798, -0.2394,\n",
      "        -0.0928, -0.2385, -0.2422, -0.2337, -0.1680,  0.0753, -0.2418, -0.2340],\n",
      "       device='cuda:0')----------\n"
     ]
    },
    {
     "name": "stderr",
     "output_type": "stream",
     "text": [
      "Epoch [43/50]:   0%|                                                                 | 0/9 [00:00<?, ?it/s, loss=0.00952]"
     ]
    },
    {
     "name": "stdout",
     "output_type": "stream",
     "text": [
      "-------predict: tensor([ 1.5822, -0.2161, -0.2202,  1.1084, -0.1692, -0.2285, -0.2195, -0.3655,\n",
      "        -0.0912, -0.1766, -0.3582, -0.3117, -0.2033, -0.2003, -0.0560, -0.2653],\n",
      "       device='cuda:0', grad_fn=<SqueezeBackward1>), y: tensor([ 1.7431, -0.2045, -0.2368,  1.1126, -0.2107, -0.2177, -0.2066, -0.2308,\n",
      "        -0.0739, -0.1990, -0.2424, -0.2044, -0.2327, -0.2134, -0.2426, -0.2416],\n",
      "       device='cuda:0')----------\n"
     ]
    },
    {
     "name": "stderr",
     "output_type": "stream",
     "text": [
      "Epoch [43/50]:   0%|                                                                 | 0/9 [00:00<?, ?it/s, loss=0.00679]"
     ]
    },
    {
     "name": "stdout",
     "output_type": "stream",
     "text": [
      "-------predict: tensor([-0.3028, -0.1655, -0.0239, -0.4015, -0.1135, -0.2365, -0.0776,  2.2004,\n",
      "        -0.2495, -0.0933, -0.0998, -0.2168, -0.1562, -0.1427, -0.3177, -0.1908],\n",
      "       device='cuda:0', grad_fn=<SqueezeBackward1>), y: tensor([-0.2398, -0.2420, -0.0244, -0.2216, -0.1552, -0.2024, -0.1139,  2.1945,\n",
      "        -0.2298, -0.2112, -0.0922, -0.2240, -0.2134, -0.1637, -0.2413, -0.2245],\n",
      "       device='cuda:0')----------\n"
     ]
    },
    {
     "name": "stderr",
     "output_type": "stream",
     "text": [
      "Epoch [43/50]:   0%|                                                                 | 0/9 [00:00<?, ?it/s, loss=0.00447]"
     ]
    },
    {
     "name": "stdout",
     "output_type": "stream",
     "text": [
      "-------predict: tensor([-0.1696, -0.2502, -0.2669,  0.0672, -0.0790, -0.0584,  0.2694, -0.2086,\n",
      "        -0.2105, -0.1432, -0.2528, -0.2371, -0.0273,  0.0383, -0.0886, -0.4095],\n",
      "       device='cuda:0', grad_fn=<SqueezeBackward1>), y: tensor([-0.2102, -0.2286, -0.2393, -0.0344, -0.1063, -0.1833,  0.1581, -0.2413,\n",
      "        -0.2421, -0.1517, -0.2313, -0.2258,  0.0460,  0.0535, -0.0042, -0.2336],\n",
      "       device='cuda:0')----------\n"
     ]
    },
    {
     "name": "stderr",
     "output_type": "stream",
     "text": [
      "Epoch [43/50]:   0%|                                                                 | 0/9 [00:00<?, ?it/s, loss=0.00552]"
     ]
    },
    {
     "name": "stdout",
     "output_type": "stream",
     "text": [
      "-------predict: tensor([-0.2111, -0.2974,  0.0131, -0.2423, -0.2577, -0.3095, -0.2438, -0.2431,\n",
      "        -0.0922, -0.2634, -0.1491, -0.0552, -0.3287, -0.2715, -0.2976, -0.2142],\n",
      "       device='cuda:0', grad_fn=<SqueezeBackward1>), y: tensor([-0.2229, -0.2403, -0.2408, -0.2297, -0.2388, -0.2412, -0.2269, -0.2375,\n",
      "        -0.2062, -0.2398, -0.2021, -0.1678, -0.2417, -0.2348, -0.2411, -0.2286],\n",
      "       device='cuda:0')----------\n"
     ]
    },
    {
     "name": "stderr",
     "output_type": "stream",
     "text": [
      "Epoch [43/50]:   0%|                                                                  | 0/9 [00:00<?, ?it/s, loss=0.0672]"
     ]
    },
    {
     "name": "stdout",
     "output_type": "stream",
     "text": [
      "-------predict: tensor([-0.1721,  0.8419, -0.0271, -0.2961, -0.2198, -0.2362, -0.1490, -0.1950,\n",
      "        -0.2613, -0.0063, -0.2982, -0.1759, -0.2065, -0.2123,  5.8552, -0.2459],\n",
      "       device='cuda:0', grad_fn=<SqueezeBackward1>), y: tensor([-2.2580e-01,  1.2423e+00, -1.5146e-01, -2.4102e-01, -2.2456e-01,\n",
      "        -2.4200e-01, -2.2492e-01, -2.2069e-01, -2.2819e-01, -1.4000e-03,\n",
      "        -2.0993e-01, -2.2964e-01, -1.9530e-01, -2.4266e-01,  6.7906e+00,\n",
      "        -2.4165e-01], device='cuda:0')----------\n"
     ]
    },
    {
     "name": "stderr",
     "output_type": "stream",
     "text": [
      "Epoch [43/50]:   0%|                                                                  | 0/9 [00:00<?, ?it/s, loss=0.0124]"
     ]
    },
    {
     "name": "stdout",
     "output_type": "stream",
     "text": [
      "-------predict: tensor([-0.1352, -0.2120, -0.2882, -0.1922, -0.2003, -0.1156, -0.1756, -0.2027,\n",
      "        -0.2069, -0.1371, -0.1876,  0.4866,  3.7595, -0.1679,  0.0247, -0.1271],\n",
      "       device='cuda:0', grad_fn=<SqueezeBackward1>), y: tensor([-0.2388, -0.1642, -0.2335, -0.1932, -0.2423, -0.1409, -0.2412, -0.2244,\n",
      "        -0.2194, -0.2260, -0.1750,  0.5884,  4.1428, -0.2426,  0.0058, -0.1834],\n",
      "       device='cuda:0')----------\n"
     ]
    },
    {
     "name": "stderr",
     "output_type": "stream",
     "text": [
      "Epoch [43/50]:   0%|                                                                 | 0/9 [00:00<?, ?it/s, loss=0.00425]"
     ]
    },
    {
     "name": "stdout",
     "output_type": "stream",
     "text": [
      "-------predict: tensor([-0.1980, -0.2034,  0.2594,  0.3304, -0.1249, -0.2634, -0.1527, -0.1857,\n",
      "        -0.3266, -0.2376, -0.2289, -0.0843, -0.3073], device='cuda:0',\n",
      "       grad_fn=<SqueezeBackward1>), y: tensor([-0.2426, -0.1854,  0.2747,  0.2559, -0.2070, -0.2372, -0.1545, -0.2373,\n",
      "        -0.2397, -0.2391, -0.2297, -0.2425, -0.2400], device='cuda:0')----------\n"
     ]
    },
    {
     "name": "stderr",
     "output_type": "stream",
     "text": [
      "Epoch [43/50]: 100%|█████████████████████████████████████████████████████████| 9/9 [00:00<00:00, 98.91it/s, loss=0.00425]\n"
     ]
    },
    {
     "name": "stdout",
     "output_type": "stream",
     "text": [
      "Epoch [43/50]: Train loss: 0.0140, Valid loss: 0.0247\n"
     ]
    },
    {
     "name": "stderr",
     "output_type": "stream",
     "text": [
      "Epoch [44/50]:   0%|                                                                 | 0/9 [00:00<?, ?it/s, loss=0.00269]"
     ]
    },
    {
     "name": "stdout",
     "output_type": "stream",
     "text": [
      "-------predict: tensor([-0.0607, -0.1855, -0.2304, -0.0912, -0.2262, -0.1714, -0.2450, -0.1330,\n",
      "         0.3477, -0.2129, -0.2361, -0.2259, -0.1972,  1.1086, -0.1628, -0.2266],\n",
      "       device='cuda:0', grad_fn=<SqueezeBackward1>), y: tensor([-0.1833, -0.2423, -0.2417, -0.0922, -0.2044, -0.2240, -0.2375, -0.2245,\n",
      "         0.2559, -0.2244, -0.2416, -0.2427, -0.1798,  1.1126, -0.2246, -0.2264],\n",
      "       device='cuda:0')----------\n"
     ]
    },
    {
     "name": "stderr",
     "output_type": "stream",
     "text": [
      "Epoch [44/50]:   0%|                                                                  | 0/9 [00:00<?, ?it/s, loss=0.0077]"
     ]
    },
    {
     "name": "stdout",
     "output_type": "stream",
     "text": [
      "-------predict: tensor([-4.8027e-02,  2.1174e-02, -2.7698e-01, -2.7616e-01,  7.1794e-05,\n",
      "        -1.8534e-01,  2.9339e-01, -2.0716e-01, -3.1339e-01, -2.9787e-02,\n",
      "        -2.2001e-01, -1.3941e-01, -2.8496e-01, -3.0917e-01, -3.0268e-01,\n",
      "        -1.1008e-01], device='cuda:0', grad_fn=<SqueezeBackward1>), y: tensor([-0.1063,  0.0140, -0.2393, -0.2413, -0.0014, -0.2207,  0.5685, -0.1642,\n",
      "        -0.2417,  0.0753, -0.2229, -0.2388, -0.2335, -0.2412, -0.2099, -0.0876],\n",
      "       device='cuda:0')----------\n",
      "-------predict: tensor([ 0.0089, -0.2222,  0.0088,  0.0530, -0.2043, -0.2083, -0.2761, -0.1310,\n",
      "        -0.1454, -0.1879, -0.3028, -0.0643,  2.2111, -0.3372, -0.0987, -0.2014],\n",
      "       device='cuda:0', grad_fn=<SqueezeBackward1>), y: tensor([-0.2408, -0.2337,  0.0460,  0.0535, -0.2327, -0.2134, -0.2403, -0.2426,\n",
      "        -0.2385, -0.1932, -0.2424, -0.1680,  2.1945, -0.2397, -0.2062, -0.1854],\n",
      "       device='cuda:0')----------\n"
     ]
    },
    {
     "name": "stderr",
     "output_type": "stream",
     "text": [
      "Epoch [44/50]:   0%|                                                                 | 0/9 [00:00<?, ?it/s, loss=0.00882]"
     ]
    },
    {
     "name": "stdout",
     "output_type": "stream",
     "text": [
      "-------predict: tensor([-0.1616, -0.1553, -0.1254, -0.2305, -0.2501,  4.2467, -0.2598,  0.9480,\n",
      "        -0.2305, -0.2818, -0.1242, -0.1496, -0.0818, -0.2136, -0.2185, -0.1326],\n",
      "       device='cuda:0', grad_fn=<SqueezeBackward1>), y: tensor([-0.1968, -0.2326, -0.2112, -0.2420, -0.2348,  4.1428, -0.2298,  1.2423,\n",
      "        -0.2340, -0.2411, -0.2425, -0.2249, -0.1139, -0.2311, -0.2246, -0.2045],\n",
      "       device='cuda:0')----------\n"
     ]
    },
    {
     "name": "stderr",
     "output_type": "stream",
     "text": [
      "Epoch [44/50]:   0%|                                                                 | 0/9 [00:00<?, ?it/s, loss=0.00699]"
     ]
    },
    {
     "name": "stdout",
     "output_type": "stream",
     "text": [
      "-------predict: tensor([ 0.0219, -0.2966, -0.3476, -0.2449, -0.1355, -0.2845, -0.3501, -0.0256,\n",
      "         0.2519, -0.1856, -0.2940, -0.2319, -0.2246, -0.1786, -0.3362,  0.0167],\n",
      "       device='cuda:0', grad_fn=<SqueezeBackward1>), y: tensor([-0.0386, -0.2269, -0.2216, -0.2297, -0.1065, -0.2388, -0.2426, -0.1521,\n",
      "         0.1581, -0.2412, -0.2417, -0.2066, -0.2325, -0.2415, -0.2400, -0.1515],\n",
      "       device='cuda:0')----------\n"
     ]
    },
    {
     "name": "stderr",
     "output_type": "stream",
     "text": [
      "Epoch [44/50]:   0%|                                                                 | 0/9 [00:00<?, ?it/s, loss=0.00315]"
     ]
    },
    {
     "name": "stdout",
     "output_type": "stream",
     "text": [
      "-------predict: tensor([-0.3275, -0.3095, -0.2989, -0.2509, -0.2483, -0.0760, -0.2745, -0.2173,\n",
      "        -0.0234, -0.1508, -0.0775, -0.3180, -0.2598, -0.1638, -0.2914, -0.0927],\n",
      "       device='cuda:0', grad_fn=<SqueezeBackward1>), y: tensor([-0.2308, -0.2410, -0.2398, -0.2394, -0.2194, -0.1678, -0.2373, -0.2286,\n",
      "        -0.0244, -0.2021, -0.0042, -0.2421, -0.2286, -0.1998, -0.2313, -0.1409],\n",
      "       device='cuda:0')----------\n"
     ]
    },
    {
     "name": "stderr",
     "output_type": "stream",
     "text": [
      "Epoch [44/50]:   0%|                                                                 | 0/9 [00:00<?, ?it/s, loss=0.00376]"
     ]
    },
    {
     "name": "stdout",
     "output_type": "stream",
     "text": [
      "-------predict: tensor([ 0.0760, -0.2571, -0.1525, -0.2429,  0.5128, -0.3376, -0.1382, -0.1961,\n",
      "        -0.2667, -0.2666,  0.2659, -0.1924, -0.1791, -0.1849, -0.1692, -0.2697],\n",
      "       device='cuda:0', grad_fn=<SqueezeBackward1>), y: tensor([-0.0928, -0.2282, -0.1834, -0.2024,  0.5884, -0.2261, -0.1552, -0.2258,\n",
      "        -0.2297, -0.2426,  0.2747, -0.2273, -0.1750, -0.2260, -0.2107, -0.2217],\n",
      "       device='cuda:0')----------\n"
     ]
    },
    {
     "name": "stderr",
     "output_type": "stream",
     "text": [
      "Epoch [44/50]:   0%|                                                                 | 0/9 [00:00<?, ?it/s, loss=0.00155]"
     ]
    },
    {
     "name": "stdout",
     "output_type": "stream",
     "text": [
      "-------predict: tensor([-0.1776, -0.2220, -0.1607, -0.1834, -0.1927, -0.2122, -0.1529, -0.1601,\n",
      "        -0.2779, -0.1270, -0.3028, -0.2342, -0.3006, -0.2495, -0.1904, -0.0670],\n",
      "       device='cuda:0', grad_fn=<SqueezeBackward1>), y: tensor([-0.2413, -0.2296, -0.1990, -0.2420, -0.2333, -0.2422, -0.1637, -0.2134,\n",
      "        -0.2398, -0.1517, -0.2418, -0.2258, -0.2391, -0.2368, -0.2102, -0.0739],\n",
      "       device='cuda:0')----------\n"
     ]
    },
    {
     "name": "stderr",
     "output_type": "stream",
     "text": [
      "\r",
      "Epoch [44/50]:   0%|                                                                 | 0/9 [00:00<?, ?it/s, loss=0.00155]"
     ]
    },
    {
     "name": "stdout",
     "output_type": "stream",
     "text": [
      "-------predict: tensor([-2.0633e-01,  4.3411e-03, -2.4176e-01, -2.3683e-01,  1.6360e+00,\n",
      "         9.2073e+00, -1.9691e-01, -2.9127e-01,  6.0840e+00, -2.8316e-01,\n",
      "        -2.6856e-01,  5.8424e-02, -3.8736e-01], device='cuda:0',\n",
      "       grad_fn=<SqueezeBackward1>), y: tensor([-1.9530e-01,  5.7982e-03, -2.0703e-01, -2.1770e-01,  1.7431e+00,\n",
      "         8.6617e+00, -1.5453e-01, -2.3724e-01,  6.7906e+00, -2.4216e-01,\n",
      "        -2.4263e-01, -3.4434e-02, -2.3362e-01], device='cuda:0')----------\n"
     ]
    },
    {
     "name": "stderr",
     "output_type": "stream",
     "text": [
      "Epoch [44/50]: 100%|██████████████████████████████████████████████████████████| 9/9 [00:00<00:00, 94.65it/s, loss=0.0653]\n"
     ]
    },
    {
     "name": "stdout",
     "output_type": "stream",
     "text": [
      "Epoch [44/50]: Train loss: 0.0120, Valid loss: 0.0204\n"
     ]
    },
    {
     "name": "stderr",
     "output_type": "stream",
     "text": [
      "Epoch [45/50]:   0%|                                                                 | 0/9 [00:00<?, ?it/s, loss=0.00357]"
     ]
    },
    {
     "name": "stdout",
     "output_type": "stream",
     "text": [
      "-------predict: tensor([-0.1941, -0.3149,  0.2596,  1.6364, -0.1898, -0.2656,  4.5011, -0.0407,\n",
      "        -0.1391, -0.1976,  0.0578, -0.0720, -0.1766, -0.2045, -0.2240, -0.1372],\n",
      "       device='cuda:0', grad_fn=<SqueezeBackward1>), y: tensor([-0.2245, -0.2410,  0.1581,  1.7431, -0.2412, -0.2244,  4.1428,  0.0753,\n",
      "        -0.1552, -0.2207, -0.0344, -0.0042, -0.1750, -0.1953, -0.2066, -0.2246],\n",
      "       device='cuda:0')----------\n",
      "-------predict: tensor([-0.2420, -0.1557, -0.0820, -0.1965,  0.2699, -0.1870,  1.1566, -0.2528,\n",
      "        -0.3950, -0.2637, -0.2963, -0.2446, -0.3158, -0.3376, -0.3105, -0.1993],\n",
      "       device='cuda:0', grad_fn=<SqueezeBackward1>), y: tensor([-0.2297, -0.1637, -0.0922, -0.1798,  0.2747, -0.2260,  1.1126, -0.2298,\n",
      "        -0.2336, -0.2194, -0.2391, -0.2229, -0.2403, -0.2424, -0.2411, -0.1642],\n",
      "       device='cuda:0')----------\n"
     ]
    },
    {
     "name": "stderr",
     "output_type": "stream",
     "text": [
      "Epoch [45/50]:   0%|                                                                 | 0/9 [00:00<?, ?it/s, loss=0.00854]"
     ]
    },
    {
     "name": "stdout",
     "output_type": "stream",
     "text": [
      "-------predict: tensor([ 0.0033, -0.2195, -0.2733, -0.2061,  0.4115, -0.0753, -0.1821, -0.2470,\n",
      "        -0.2773, -0.2950, -0.2928, -0.3641, -0.2574, -0.1367, -0.1910, -0.3404],\n",
      "       device='cuda:0', grad_fn=<SqueezeBackward1>), y: tensor([-0.2408, -0.2337, -0.2335, -0.1854,  0.2559, -0.1678, -0.2273, -0.2394,\n",
      "        -0.2398, -0.2372, -0.2388, -0.2216, -0.2426, -0.1065, -0.2249, -0.2417],\n",
      "       device='cuda:0')----------\n"
     ]
    },
    {
     "name": "stderr",
     "output_type": "stream",
     "text": [
      "Epoch [45/50]:   0%|                                                                 | 0/9 [00:00<?, ?it/s, loss=0.00383]"
     ]
    },
    {
     "name": "stdout",
     "output_type": "stream",
     "text": [
      "-------predict: tensor([-0.2400, -0.2268, -0.3535, -0.1399, -0.1828, -0.1591, -0.3400, -0.3448,\n",
      "        -0.1415, -0.2562, -0.1745, -0.2431, -0.3029, -0.0921, -0.1767, -0.1800],\n",
      "       device='cuda:0', grad_fn=<SqueezeBackward1>), y: tensor([-0.2024, -0.2177, -0.2397, -0.1834, -0.1932, -0.2045, -0.2400, -0.2426,\n",
      "        -0.2112, -0.2348, -0.2425, -0.2368, -0.2417, -0.1409, -0.2258, -0.2420],\n",
      "       device='cuda:0')----------\n"
     ]
    },
    {
     "name": "stderr",
     "output_type": "stream",
     "text": [
      "Epoch [45/50]:   0%|                                                                 | 0/9 [00:00<?, ?it/s, loss=0.00374]"
     ]
    },
    {
     "name": "stdout",
     "output_type": "stream",
     "text": [
      "-------predict: tensor([-0.1835, -0.2105, -0.3053, -0.1657, -0.1137, -0.1250, -0.2396, -0.1099,\n",
      "        -0.2897, -0.2168,  0.0583, -0.2197, -0.2639, -0.1567, -0.0798, -0.1704],\n",
      "       device='cuda:0', grad_fn=<SqueezeBackward1>), y: tensor([-0.2102, -0.2327, -0.2099, -0.2134, -0.1517, -0.0876, -0.2286, -0.2062,\n",
      "        -0.2269, -0.2246, -0.0928, -0.2311, -0.2422, -0.2326, -0.1139, -0.1968],\n",
      "       device='cuda:0')----------\n"
     ]
    },
    {
     "name": "stderr",
     "output_type": "stream",
     "text": [
      "Epoch [45/50]:   0%|                                                                   | 0/9 [00:00<?, ?it/s, loss=0.011]"
     ]
    },
    {
     "name": "stdout",
     "output_type": "stream",
     "text": [
      "-------predict: tensor([-0.2389, -0.2600, -0.1732, -0.2228, -0.0707, -0.1726,  2.2180, -0.1691,\n",
      "         0.2934,  0.9611, -0.1740, -0.2336, -0.0318, -0.2109, -0.2273,  0.0164],\n",
      "       device='cuda:0', grad_fn=<SqueezeBackward1>), y: tensor([-0.2297, -0.2375, -0.1998, -0.2134, -0.1680, -0.2240,  2.1945, -0.2107,\n",
      "         0.5685,  1.2423, -0.2385, -0.2044, -0.0244, -0.2325, -0.2420,  0.0058],\n",
      "       device='cuda:0')----------\n"
     ]
    },
    {
     "name": "stderr",
     "output_type": "stream",
     "text": [
      "Epoch [45/50]:   0%|                                                                 | 0/9 [00:00<?, ?it/s, loss=0.00326]"
     ]
    },
    {
     "name": "stdout",
     "output_type": "stream",
     "text": [
      "-------predict: tensor([-0.2727, -0.2294, -0.1597, -0.2286, -0.2403, -0.2335, -0.1433, -0.2146,\n",
      "        -0.1379, -0.2788, -0.2067, -0.1616, -0.3098, -0.0385, -0.3175, -0.2819],\n",
      "       device='cuda:0', grad_fn=<SqueezeBackward1>), y: tensor([-0.2413, -0.2426, -0.2415, -0.2417, -0.2416, -0.2258, -0.2070, -0.2286,\n",
      "        -0.2426, -0.2313, -0.2373, -0.2422, -0.2261, -0.1063, -0.2412, -0.2393],\n",
      "       device='cuda:0')----------\n"
     ]
    },
    {
     "name": "stderr",
     "output_type": "stream",
     "text": [
      "Epoch [45/50]:   0%|                                                                  | 0/9 [00:00<?, ?it/s, loss=0.0182]"
     ]
    },
    {
     "name": "stdout",
     "output_type": "stream",
     "text": [
      "-------predict: tensor([ 0.0131,  0.5189,  9.1425, -0.2561, -0.2359,  0.0207, -0.0650, -0.0802,\n",
      "        -0.3037, -0.2202, -0.2286, -0.2179, -0.1603, -0.1155, -0.2018,  0.0225],\n",
      "       device='cuda:0', grad_fn=<SqueezeBackward1>), y: tensor([-0.1521,  0.5884,  8.6617, -0.2282, -0.2427,  0.0460, -0.1833, -0.0739,\n",
      "        -0.2418, -0.2264, -0.2340, -0.2398, -0.1545, -0.1990, -0.2296,  0.0140],\n",
      "       device='cuda:0')----------\n"
     ]
    },
    {
     "name": "stderr",
     "output_type": "stream",
     "text": [
      "Epoch [45/50]:   0%|                                                                  | 0/9 [00:00<?, ?it/s, loss=0.0512]"
     ]
    },
    {
     "name": "stdout",
     "output_type": "stream",
     "text": [
      "-------predict: tensor([-2.5033e-01, -2.7049e-01,  2.4050e-03,  6.0217e+00, -1.5753e-01,\n",
      "        -1.8686e-01,  6.5606e-02, -3.0482e-01, -1.8764e-01, -1.7663e-01,\n",
      "         5.6082e-02, -1.3864e-01,  3.8100e-02], device='cuda:0',\n",
      "       grad_fn=<SqueezeBackward1>), y: tensor([-2.4207e-01, -2.2174e-01, -1.4000e-03,  6.7906e+00, -2.4129e-01,\n",
      "        -2.3879e-01, -3.8568e-02, -2.3077e-01, -2.4234e-01, -2.3327e-01,\n",
      "         5.3457e-02, -2.0208e-01, -1.5146e-01], device='cuda:0')----------\n"
     ]
    },
    {
     "name": "stderr",
     "output_type": "stream",
     "text": [
      "Epoch [45/50]: 100%|██████████████████████████████████████████████████████████| 9/9 [00:00<00:00, 94.40it/s, loss=0.0512]\n"
     ]
    },
    {
     "name": "stdout",
     "output_type": "stream",
     "text": [
      "Epoch [45/50]: Train loss: 0.0128, Valid loss: 0.0215\n"
     ]
    },
    {
     "name": "stderr",
     "output_type": "stream",
     "text": [
      "Epoch [46/50]:   0%|                                                                 | 0/9 [00:00<?, ?it/s, loss=0.00411]"
     ]
    },
    {
     "name": "stdout",
     "output_type": "stream",
     "text": [
      "-------predict: tensor([-0.2022, -0.2353, -0.1331, -0.0323, -0.1494, -0.2038, -0.2528, -0.1126,\n",
      "        -0.0055,  0.3916, -0.2180, -0.1696, -0.2553,  1.6086, -0.0722, -0.2961],\n",
      "       device='cuda:0', grad_fn=<SqueezeBackward1>), y: tensor([-1.9530e-01, -2.3682e-01, -1.8343e-01,  7.5282e-02, -2.2727e-01,\n",
      "        -2.3879e-01, -2.1936e-01, -8.7592e-02, -1.4000e-03,  2.5595e-01,\n",
      "        -2.3112e-01, -2.1341e-01, -2.3475e-01,  1.7431e+00, -9.2175e-02,\n",
      "        -2.4033e-01], device='cuda:0')----------\n"
     ]
    },
    {
     "name": "stderr",
     "output_type": "stream",
     "text": [
      "Epoch [46/50]:   0%|                                                                 | 0/9 [00:00<?, ?it/s, loss=0.00989]"
     ]
    },
    {
     "name": "stdout",
     "output_type": "stream",
     "text": [
      "-------predict: tensor([-0.2635, -0.2333, -0.0758, -0.1947, -0.1309, -0.1585, -0.3014,  1.1356,\n",
      "        -0.1957, -0.2529, -0.2673, -0.2863, -0.2125, -0.3426, -0.1652, -0.0687],\n",
      "       device='cuda:0', grad_fn=<SqueezeBackward1>), y: tensor([-0.2416, -0.2229, -0.0042, -0.1642, -0.1065, -0.2326, -0.2417,  1.1126,\n",
      "        -0.1798, -0.2282, -0.2217, -0.2422, -0.2327, -0.2308, -0.2385, -0.1678],\n",
      "       device='cuda:0')----------\n",
      "-------predict: tensor([ 0.0696, -0.3481,  0.2809,  0.0458, -0.0845, -0.2106, -0.2054, -0.1502,\n",
      "        -0.2667,  4.2664, -0.2643, -0.0115, -0.2184, -0.0737, -0.3169, -0.0119],\n",
      "       device='cuda:0', grad_fn=<SqueezeBackward1>), y: tensor([-0.0928, -0.2397,  0.5685,  0.0535, -0.1409, -0.2249, -0.1545, -0.2021,\n",
      "        -0.2269,  4.1428, -0.2426,  0.0460, -0.2337, -0.0386, -0.2372, -0.0244],\n",
      "       device='cuda:0')----------\n"
     ]
    },
    {
     "name": "stderr",
     "output_type": "stream",
     "text": [
      "Epoch [46/50]:   0%|                                                                  | 0/9 [00:00<?, ?it/s, loss=0.0209]"
     ]
    },
    {
     "name": "stdout",
     "output_type": "stream",
     "text": [
      "-------predict: tensor([ 0.9239, -0.3641, -0.1814, -0.1972, -0.1163, -0.2797, -0.2156, -0.2350,\n",
      "        -0.3351, -0.2395, -0.3091, -0.2391, -0.2641, -0.1108, -0.3290,  9.0768],\n",
      "       device='cuda:0', grad_fn=<SqueezeBackward1>), y: tensor([ 1.2423, -0.2261, -0.2420, -0.2333, -0.1680, -0.2264, -0.2286, -0.2340,\n",
      "        -0.2412, -0.2297, -0.2398, -0.2177, -0.2375, -0.2062, -0.2413,  8.6617],\n",
      "       device='cuda:0')----------\n"
     ]
    },
    {
     "name": "stderr",
     "output_type": "stream",
     "text": [
      "Epoch [46/50]:   0%|                                                                 | 0/9 [00:00<?, ?it/s, loss=0.00471]"
     ]
    },
    {
     "name": "stdout",
     "output_type": "stream",
     "text": [
      "-------predict: tensor([ 0.0563, -0.1589, -0.1818, -0.1929, -0.2254, -0.1727, -0.0065, -0.0722,\n",
      "        -0.0740, -0.1755, -0.2249, -0.2113, -0.0913, -0.2883, -0.2989,  0.0307],\n",
      "       device='cuda:0', grad_fn=<SqueezeBackward1>), y: tensor([-0.0344, -0.2107, -0.2207, -0.2426, -0.2045, -0.1968, -0.1515, -0.1521,\n",
      "        -0.1139, -0.2102, -0.2413, -0.2066, -0.2426, -0.2420, -0.2391,  0.0140],\n",
      "       device='cuda:0')----------\n"
     ]
    },
    {
     "name": "stderr",
     "output_type": "stream",
     "text": [
      "Epoch [46/50]:   0%|                                                                 | 0/9 [00:00<?, ?it/s, loss=0.00297]"
     ]
    },
    {
     "name": "stdout",
     "output_type": "stream",
     "text": [
      "-------predict: tensor([-0.1937,  2.2479, -0.1154, -0.2026, -0.1795,  0.2487,  0.2897, -0.2653,\n",
      "        -0.1518, -0.1355, -0.2307, -0.1260, -0.2703, -0.2083, -0.1805, -0.1251],\n",
      "       device='cuda:0', grad_fn=<SqueezeBackward1>), y: tensor([-0.2260,  2.1945, -0.2246, -0.2245, -0.1990,  0.2747,  0.1581, -0.2335,\n",
      "        -0.1637, -0.1517, -0.2258, -0.1552, -0.2286, -0.2427, -0.1932, -0.2112],\n",
      "       device='cuda:0')----------\n"
     ]
    },
    {
     "name": "stderr",
     "output_type": "stream",
     "text": [
      "Epoch [46/50]:   0%|                                                                 | 0/9 [00:00<?, ?it/s, loss=0.00682]"
     ]
    },
    {
     "name": "stdout",
     "output_type": "stream",
     "text": [
      "-------predict: tensor([-0.3024, -0.4209, -0.1998, -0.3591, -0.2722, -0.2394, -0.2134, -0.3707,\n",
      "        -0.2989, -0.1744, -0.2291, -0.0694, -0.3250, -0.2829, -0.0671, -0.1876],\n",
      "       device='cuda:0', grad_fn=<SqueezeBackward1>), y: tensor([-0.2099, -0.2336, -0.2296, -0.2424, -0.2070, -0.2394, -0.2423, -0.2400,\n",
      "        -0.2418, -0.1750, -0.2244, -0.0739, -0.2411, -0.2373, -0.1833, -0.2412],\n",
      "       device='cuda:0')----------\n"
     ]
    },
    {
     "name": "stderr",
     "output_type": "stream",
     "text": [
      "Epoch [46/50]:   0%|                                                                  | 0/9 [00:00<?, ?it/s, loss=0.0477]"
     ]
    },
    {
     "name": "stdout",
     "output_type": "stream",
     "text": [
      "-------predict: tensor([-2.8209e-01, -3.8740e-01,  1.7455e-02, -2.4078e-01, -2.3599e-01,\n",
      "        -2.0077e-01, -2.3316e-01, -2.1730e-01, -3.9676e-04, -2.0540e-01,\n",
      "        -3.3271e-01, -2.6992e-01, -2.7821e-01,  5.9821e+00, -2.9237e-01,\n",
      "        -3.1942e-01], device='cuda:0', grad_fn=<SqueezeBackward1>), y: tensor([-2.4165e-01, -2.2159e-01,  5.7982e-03, -2.4215e-01, -2.4207e-01,\n",
      "        -2.2580e-01, -2.0241e-01, -2.4245e-01, -2.4085e-01, -2.2456e-01,\n",
      "        -2.4168e-01, -2.3884e-01, -2.2969e-01,  6.7906e+00, -2.3976e-01,\n",
      "        -2.4102e-01], device='cuda:0')----------\n"
     ]
    },
    {
     "name": "stderr",
     "output_type": "stream",
     "text": [
      "Epoch [46/50]:   0%|                                                                 | 0/9 [00:00<?, ?it/s, loss=0.00257]"
     ]
    },
    {
     "name": "stdout",
     "output_type": "stream",
     "text": [
      "-------predict: tensor([-0.1675,  0.4953, -0.2636, -0.2677, -0.1985, -0.2086, -0.1448, -0.2244,\n",
      "        -0.2487, -0.3117, -0.2058, -0.0629, -0.2686], device='cuda:0',\n",
      "       grad_fn=<SqueezeBackward1>), y: tensor([-0.1998,  0.5884, -0.2313, -0.2393, -0.2240, -0.1854, -0.2415, -0.2325,\n",
      "        -0.2298, -0.2426, -0.2134, -0.1063, -0.2044], device='cuda:0')----------\n"
     ]
    },
    {
     "name": "stderr",
     "output_type": "stream",
     "text": [
      "Epoch [46/50]: 100%|█████████████████████████████████████████████████████████| 9/9 [00:00<00:00, 94.86it/s, loss=0.00257]\n"
     ]
    },
    {
     "name": "stdout",
     "output_type": "stream",
     "text": [
      "Epoch [46/50]: Train loss: 0.0114, Valid loss: 0.0214\n"
     ]
    },
    {
     "name": "stderr",
     "output_type": "stream",
     "text": [
      "Epoch [47/50]:   0%|                                                                 | 0/9 [00:00<?, ?it/s, loss=0.00387]"
     ]
    },
    {
     "name": "stdout",
     "output_type": "stream",
     "text": [
      "-------predict: tensor([-0.1632, -0.2321, -0.2151, -0.1635, -0.1843, -0.2211, -0.0834, -0.2700,\n",
      "        -0.2030,  0.0527, -0.2051, -0.1362, -0.2803, -0.2436, -0.2115, -0.0269],\n",
      "       device='cuda:0', grad_fn=<SqueezeBackward1>), y: tensor([-0.2070, -0.2024, -0.2286, -0.2422, -0.2240, -0.2337, -0.0739, -0.2217,\n",
      "        -0.2325, -0.0344, -0.1953, -0.2045, -0.2411, -0.2297, -0.2373,  0.0753],\n",
      "       device='cuda:0')----------\n",
      "-------predict: tensor([-0.1810, -0.1513, -0.1601,  0.5064,  1.5997, -0.1491, -0.1875, -0.2339,\n",
      "        -0.3244, -0.3104, -0.2461, -0.2542, -0.2065, -0.1441, -0.0887, -0.1873],\n",
      "       device='cuda:0', grad_fn=<SqueezeBackward1>), y: tensor([-0.1750, -0.2273, -0.2326,  0.5884,  1.7431, -0.1545, -0.2412, -0.2297,\n",
      "        -0.2216, -0.2417, -0.2391, -0.2298, -0.2423, -0.2021, -0.0922, -0.1932],\n",
      "       device='cuda:0')----------\n"
     ]
    },
    {
     "name": "stderr",
     "output_type": "stream",
     "text": [
      "Epoch [47/50]:   0%|                                                                 | 0/9 [00:00<?, ?it/s, loss=0.00547]"
     ]
    },
    {
     "name": "stdout",
     "output_type": "stream",
     "text": [
      "-------predict: tensor([-0.2540, -0.1064, -0.3370, -0.2555, -0.2557, -0.2195, -0.1001, -0.0842,\n",
      "        -0.1077, -0.1186,  0.2713, -0.1533, -0.2820, -0.1318,  0.0425, -0.1753],\n",
      "       device='cuda:0', grad_fn=<SqueezeBackward1>), y: tensor([-0.2403, -0.0876, -0.2336, -0.2282, -0.2372, -0.2394, -0.2425, -0.1139,\n",
      "        -0.2112, -0.1990,  0.1581, -0.2426, -0.2335, -0.2415,  0.0535, -0.2107],\n",
      "       device='cuda:0')----------\n"
     ]
    },
    {
     "name": "stderr",
     "output_type": "stream",
     "text": [
      "Epoch [47/50]:   0%|                                                                  | 0/9 [00:00<?, ?it/s, loss=0.0203]"
     ]
    },
    {
     "name": "stdout",
     "output_type": "stream",
     "text": [
      "-------predict: tensor([-0.0530, -0.1867, -0.1353, -0.2684, -0.0658,  9.1196,  0.2832, -0.1848,\n",
      "        -0.2858, -0.2043, -0.2102, -0.2071, -0.2348, -0.2048, -0.1784, -0.3061],\n",
      "       device='cuda:0', grad_fn=<SqueezeBackward1>), y: tensor([-0.0244, -0.2388, -0.1065, -0.2413, -0.1833,  8.6617,  0.5685, -0.2246,\n",
      "        -0.2261, -0.2420, -0.2194, -0.2229, -0.2258, -0.2327, -0.2333, -0.2400],\n",
      "       device='cuda:0')----------\n"
     ]
    },
    {
     "name": "stderr",
     "output_type": "stream",
     "text": [
      "Epoch [47/50]:   0%|                                                                 | 0/9 [00:00<?, ?it/s, loss=0.00281]"
     ]
    },
    {
     "name": "stdout",
     "output_type": "stream",
     "text": [
      "-------predict: tensor([-0.2038, -0.2062, -0.1342, -0.2430, -0.1693, -0.1532, -0.2271, -0.2341,\n",
      "        -0.0923,  0.2644, -0.1485,  0.0059, -0.0864, -0.2475, -0.2590, -0.2218],\n",
      "       device='cuda:0', grad_fn=<SqueezeBackward1>), y: tensor([-0.2311, -0.2207, -0.2413, -0.2348, -0.2134, -0.2245, -0.2398, -0.2066,\n",
      "        -0.2062,  0.2747, -0.1968,  0.0460, -0.0042, -0.2427, -0.2313, -0.2246],\n",
      "       device='cuda:0')----------\n"
     ]
    },
    {
     "name": "stderr",
     "output_type": "stream",
     "text": [
      "Epoch [47/50]:   0%|                                                                 | 0/9 [00:00<?, ?it/s, loss=0.00601]"
     ]
    },
    {
     "name": "stdout",
     "output_type": "stream",
     "text": [
      "-------predict: tensor([-0.2892,  0.0235, -0.2338,  0.3845, -0.3060, -0.1239, -0.1336, -0.1491,\n",
      "        -0.2090, -0.0228, -0.3003,  4.2239, -0.0448, -0.2977, -0.2157,  0.0172],\n",
      "       device='cuda:0', grad_fn=<SqueezeBackward1>), y: tensor([-2.4241e-01,  1.4033e-02, -2.3984e-01,  2.5595e-01, -2.0993e-01,\n",
      "        -1.8343e-01, -2.4265e-01, -2.2599e-01, -2.1770e-01, -1.4000e-03,\n",
      "        -2.4120e-01,  4.1428e+00, -1.0634e-01, -2.4178e-01, -2.4260e-01,\n",
      "        -1.5146e-01], device='cuda:0')----------\n"
     ]
    },
    {
     "name": "stderr",
     "output_type": "stream",
     "text": [
      "Epoch [47/50]:   0%|                                                                 | 0/9 [00:00<?, ?it/s, loss=0.00369]"
     ]
    },
    {
     "name": "stdout",
     "output_type": "stream",
     "text": [
      "-------predict: tensor([ 0.0385, -0.3309, -0.1900, -0.1684, -0.2324, -0.1660, -0.2070, -0.2903,\n",
      "        -0.0907,  1.1265, -0.2088, -0.2384, -0.3377, -0.2510, -0.1929,  2.1829],\n",
      "       device='cuda:0', grad_fn=<SqueezeBackward1>), y: tensor([-0.0928, -0.2397, -0.2385, -0.2249, -0.2134, -0.2420, -0.1642, -0.2393,\n",
      "        -0.1680,  1.1126, -0.1854, -0.2417, -0.2426, -0.2422, -0.2296,  2.1945],\n",
      "       device='cuda:0')----------\n"
     ]
    },
    {
     "name": "stderr",
     "output_type": "stream",
     "text": [
      "Epoch [47/50]:   0%|                                                                  | 0/9 [00:00<?, ?it/s, loss=0.0415]"
     ]
    },
    {
     "name": "stdout",
     "output_type": "stream",
     "text": [
      "-------predict: tensor([ 0.0233, -0.2328,  5.9946, -0.2548, -0.3120, -0.1409, -0.2644, -0.0635,\n",
      "        -0.2499, -0.1663, -0.3104, -0.1091, -0.2848, -0.1944, -0.1301, -0.2021],\n",
      "       device='cuda:0', grad_fn=<SqueezeBackward1>), y: tensor([ 5.7982e-03, -2.3402e-01,  6.7906e+00, -2.2859e-01, -2.4173e-01,\n",
      "        -1.6371e-01, -2.3884e-01, -1.6781e-01, -2.3746e-01, -1.9977e-01,\n",
      "        -2.3077e-01, -1.4093e-01, -2.4207e-01, -1.7985e-01, -1.5518e-01,\n",
      "        -2.2580e-01], device='cuda:0')----------\n"
     ]
    },
    {
     "name": "stderr",
     "output_type": "stream",
     "text": [
      "Epoch [47/50]:   0%|                                                                  | 0/9 [00:00<?, ?it/s, loss=0.0159]"
     ]
    },
    {
     "name": "stdout",
     "output_type": "stream",
     "text": [
      "-------predict: tensor([-0.2616, -0.1432, -0.2316, -0.0430, -0.2266, -0.0037, -0.3068, -0.2493,\n",
      "        -0.2660, -0.0730,  0.8823, -0.1921, -0.2929], device='cuda:0',\n",
      "       grad_fn=<SqueezeBackward1>), y: tensor([-0.2044, -0.1517, -0.2368, -0.0386, -0.2244, -0.2408, -0.2410, -0.2416,\n",
      "        -0.2264, -0.1521,  1.2423, -0.2102, -0.2269], device='cuda:0')----------\n"
     ]
    },
    {
     "name": "stderr",
     "output_type": "stream",
     "text": [
      "Epoch [47/50]: 100%|██████████████████████████████████████████████████████████| 9/9 [00:00<00:00, 95.47it/s, loss=0.0159]\n"
     ]
    },
    {
     "name": "stdout",
     "output_type": "stream",
     "text": [
      "Epoch [47/50]: Train loss: 0.0113, Valid loss: 0.0156\n",
      "Saving model with loss 0.016...\n"
     ]
    },
    {
     "name": "stderr",
     "output_type": "stream",
     "text": [
      "\r",
      "  0%|                                                                                              | 0/9 [00:00<?, ?it/s]"
     ]
    },
    {
     "name": "stdout",
     "output_type": "stream",
     "text": [
      "-------predict: tensor([-0.2694, -0.2153, -0.1629, -0.2398, -0.1863, -0.1637, -0.0765,  1.1321,\n",
      "        -0.1721, -0.2671,  0.0215,  0.2483, -0.2829, -0.1444, -0.2337, -0.2966],\n",
      "       device='cuda:0', grad_fn=<SqueezeBackward1>), y: tensor([-0.2348, -0.2246, -0.2326, -0.2194, -0.2102, -0.1998, -0.1139,  1.1126,\n",
      "        -0.2420, -0.2217,  0.0058,  0.2747, -0.2269, -0.1637, -0.2258, -0.2403],\n",
      "       device='cuda:0')----------\n"
     ]
    },
    {
     "name": "stderr",
     "output_type": "stream",
     "text": [
      "Epoch [48/50]:   0%|                                                                 | 0/9 [00:00<?, ?it/s, loss=0.00119]"
     ]
    },
    {
     "name": "stdout",
     "output_type": "stream",
     "text": [
      "-------predict: tensor([-0.2591, -0.2307, -0.0756, -0.2012, -0.2999, -0.2387, -0.2385, -0.2722,\n",
      "        -0.2228, -0.0312, -0.1277, -0.1494, -0.2658, -0.3237, -0.2136, -0.2112],\n",
      "       device='cuda:0', grad_fn=<SqueezeBackward1>), y: tensor([-0.2417, -0.2368, -0.0739, -0.1953, -0.2417, -0.2325, -0.2423, -0.2398,\n",
      "        -0.2244, -0.0244, -0.1552, -0.1834, -0.2044, -0.2426, -0.2422, -0.2426],\n",
      "       device='cuda:0')----------\n",
      "-------predict: tensor([-0.2636, -0.1669, -0.3540, -0.0108, -0.1718, -0.1461,  0.5031, -0.3080,\n",
      "        -0.2686, -0.3184, -0.2313, -0.3218, -0.1771,  0.0408, -0.1106, -0.3212],\n",
      "       device='cuda:0', grad_fn=<SqueezeBackward1>), y: tensor([-0.2313, -0.2134, -0.2216, -0.0014, -0.2258, -0.2021,  0.5884, -0.2412,\n",
      "        -0.2393, -0.2424, -0.2024, -0.2308, -0.1750, -0.0928, -0.2426, -0.2417],\n",
      "       device='cuda:0')----------\n"
     ]
    },
    {
     "name": "stderr",
     "output_type": "stream",
     "text": [
      "Epoch [48/50]:   0%|                                                                 | 0/9 [00:00<?, ?it/s, loss=0.00821]"
     ]
    },
    {
     "name": "stdout",
     "output_type": "stream",
     "text": [
      "-------predict: tensor([-0.1607, -0.1243, -0.2888, -0.1446, -0.2190, -0.2428,  0.0489, -0.0680,\n",
      "        -0.2155, -0.2511, -0.3203, -0.1713, -0.1720, -0.1408,  0.9733, -0.1993],\n",
      "       device='cuda:0', grad_fn=<SqueezeBackward1>), y: tensor([-0.2107, -0.1065, -0.2410, -0.2385, -0.2229, -0.2297, -0.0344, -0.1833,\n",
      "        -0.2394, -0.2282, -0.2400, -0.2425, -0.2413, -0.2249,  1.2423, -0.1854],\n",
      "       device='cuda:0')----------\n"
     ]
    },
    {
     "name": "stderr",
     "output_type": "stream",
     "text": [
      "Epoch [48/50]:   0%|                                                                 | 0/9 [00:00<?, ?it/s, loss=0.00438]"
     ]
    },
    {
     "name": "stdout",
     "output_type": "stream",
     "text": [
      "-------predict: tensor([-0.1827, -0.1898, -0.1470,  0.0536, -0.1337, -0.1233, -0.2002, -0.1466,\n",
      "        -0.3002,  2.2531, -0.1997, -0.1921, -0.3153, -0.1583, -0.2457, -0.0482],\n",
      "       device='cuda:0', grad_fn=<SqueezeBackward1>), y: tensor([-0.2134, -0.2412, -0.2246,  0.0535, -0.2415, -0.2045, -0.2311, -0.2070,\n",
      "        -0.2418,  2.1945, -0.2426, -0.1798, -0.2261, -0.2388, -0.2375, -0.1680],\n",
      "       device='cuda:0')----------\n"
     ]
    },
    {
     "name": "stderr",
     "output_type": "stream",
     "text": [
      "Epoch [48/50]:   0%|                                                                 | 0/9 [00:00<?, ?it/s, loss=0.00735]"
     ]
    },
    {
     "name": "stdout",
     "output_type": "stream",
     "text": [
      "-------predict: tensor([-0.0040, -0.1908, -0.2111, -0.1040, -0.0785, -0.2107, -0.1132, -0.0430,\n",
      "        -0.2067, -0.3061, -0.0881, -0.2099,  0.0115,  0.4128, -0.2266, -0.1925],\n",
      "       device='cuda:0', grad_fn=<SqueezeBackward1>), y: tensor([-0.2408, -0.2296, -0.2177, -0.0876, -0.0042, -0.2398, -0.2112, -0.1063,\n",
      "        -0.2327, -0.2099, -0.1409, -0.2286,  0.0460,  0.2559, -0.2340, -0.1642],\n",
      "       device='cuda:0')----------\n"
     ]
    },
    {
     "name": "stderr",
     "output_type": "stream",
     "text": [
      "Epoch [48/50]:   0%|                                                                  | 0/9 [00:00<?, ?it/s, loss=0.0542]"
     ]
    },
    {
     "name": "stdout",
     "output_type": "stream",
     "text": [
      "-------predict: tensor([ 9.1299,  0.2983, -0.2672, -0.0982, -0.2318, -0.1743, -0.1260, -0.3573,\n",
      "        -0.2151, -0.2110,  0.0457, -0.2364, -0.0928,  0.2923, -0.2382,  6.0768],\n",
      "       device='cuda:0', grad_fn=<SqueezeBackward1>), y: tensor([ 8.6617,  0.5685, -0.2388, -0.1517, -0.2420, -0.2207, -0.1990, -0.2336,\n",
      "        -0.2286, -0.2427, -0.0386, -0.2297, -0.2062,  0.1581, -0.2421,  6.7906],\n",
      "       device='cuda:0')----------\n"
     ]
    },
    {
     "name": "stderr",
     "output_type": "stream",
     "text": [
      "Epoch [48/50]:   0%|                                                                 | 0/9 [00:00<?, ?it/s, loss=0.00807]"
     ]
    },
    {
     "name": "stdout",
     "output_type": "stream",
     "text": [
      "-------predict: tensor([-0.2434,  0.0229, -0.2699, -0.2470, -0.1369, -0.2921, -0.0243, -0.1833,\n",
      "        -0.1699, -0.2184, -0.2128,  4.4288, -0.1871, -0.0141, -0.2669, -0.2007],\n",
      "       device='cuda:0', grad_fn=<SqueezeBackward1>), y: tensor([-0.2298,  0.0140, -0.2335, -0.2416, -0.2273, -0.2372,  0.0753, -0.2240,\n",
      "        -0.1545, -0.2337, -0.2373,  4.1428, -0.2333, -0.1521, -0.2422, -0.2066],\n",
      "       device='cuda:0')----------\n"
     ]
    },
    {
     "name": "stderr",
     "output_type": "stream",
     "text": [
      "Epoch [48/50]: 100%|█████████████████████████████████████████████████████████| 9/9 [00:00<00:00, 100.27it/s, loss=0.0062]"
     ]
    },
    {
     "name": "stdout",
     "output_type": "stream",
     "text": [
      "-------predict: tensor([-0.1814, -0.1739, -0.1775, -0.2537, -0.0722, -0.0596, -0.3019,  0.0201,\n",
      "        -0.3352, -0.2752,  1.6219, -0.1718, -0.3033], device='cuda:0',\n",
      "       grad_fn=<SqueezeBackward1>), y: tensor([-0.1932, -0.2260, -0.2245, -0.2264, -0.0922, -0.1678, -0.2411, -0.1515,\n",
      "        -0.2397, -0.2391,  1.7431, -0.1968, -0.2413], device='cuda:0')----------\n"
     ]
    },
    {
     "name": "stderr",
     "output_type": "stream",
     "text": [
      "\n"
     ]
    },
    {
     "name": "stdout",
     "output_type": "stream",
     "text": [
      "Epoch [48/50]: Train loss: 0.0108, Valid loss: 0.0153\n",
      "Saving model with loss 0.015...\n"
     ]
    },
    {
     "name": "stderr",
     "output_type": "stream",
     "text": [
      "Epoch [49/50]:   0%|                                                                 | 0/9 [00:00<?, ?it/s, loss=0.00528]"
     ]
    },
    {
     "name": "stdout",
     "output_type": "stream",
     "text": [
      "-------predict: tensor([-0.0178, -0.2507, -0.2723, -0.0669,  0.4043, -0.3786, -0.2800, -0.2157,\n",
      "        -0.3120, -0.1296, -0.2141, -0.1063, -0.2061, -0.3203,  0.0132,  0.0392],\n",
      "       device='cuda:0', grad_fn=<SqueezeBackward1>), y: tensor([-0.0244, -0.2311, -0.2286, -0.1678,  0.2559, -0.2216, -0.2426, -0.2045,\n",
      "        -0.2398, -0.1552, -0.1854, -0.2062, -0.2296, -0.2410,  0.0058,  0.0535],\n",
      "       device='cuda:0')----------\n",
      "-------predict: tensor([-0.2625,  6.0579, -0.3421, -0.1540, -0.2648,  0.2675, -0.2346, -0.3224,\n",
      "         0.0657, -0.3271, -0.1530, -0.1034, -0.2757, -0.3051, -0.0270, -0.3488],\n",
      "       device='cuda:0', grad_fn=<SqueezeBackward1>), y: tensor([-0.2194,  6.7906, -0.2417, -0.1637, -0.2416,  0.5685, -0.2245, -0.2426,\n",
      "        -0.0928, -0.2411, -0.1998, -0.0922, -0.2269, -0.2099,  0.0753, -0.2397],\n",
      "       device='cuda:0')----------\n"
     ]
    },
    {
     "name": "stderr",
     "output_type": "stream",
     "text": [
      "Epoch [49/50]:   0%|                                                                  | 0/9 [00:00<?, ?it/s, loss=0.0447]"
     ]
    },
    {
     "name": "stdout",
     "output_type": "stream",
     "text": [
      "-------predict: tensor([-0.2074, -0.1419, -0.0684,  2.2293, -0.1573, -0.1947,  0.5018, -0.2631,\n",
      "        -0.3152, -0.3170, -0.3397, -0.3051, -0.1381, -0.3509, -0.3693,  9.1373],\n",
      "       device='cuda:0', grad_fn=<SqueezeBackward1>), y: tensor([-0.2260, -0.2426, -0.1063,  2.1945, -0.2134, -0.1798,  0.5884, -0.2217,\n",
      "        -0.2391, -0.2403, -0.2424, -0.2372, -0.2112, -0.2417, -0.2400,  8.6617],\n",
      "       device='cuda:0')----------\n"
     ]
    },
    {
     "name": "stderr",
     "output_type": "stream",
     "text": [
      "Epoch [49/50]:   0%|                                                                  | 0/9 [00:00<?, ?it/s, loss=0.0195]"
     ]
    },
    {
     "name": "stdout",
     "output_type": "stream",
     "text": [
      "-------predict: tensor([-0.0741, -0.2588, -0.1803, -0.1367, -0.2670, -0.2047, -0.2598, -0.0064,\n",
      "        -0.2014, -0.2139, -0.0688, -0.2213, -0.2430, -0.3354, -0.2387, -0.0747],\n",
      "       device='cuda:0', grad_fn=<SqueezeBackward1>), y: tensor([-0.0042, -0.2325, -0.1932, -0.1517, -0.2335, -0.2249, -0.2375, -0.1515,\n",
      "        -0.2413, -0.2286, -0.0739, -0.2425, -0.2422, -0.2308, -0.2297, -0.1521],\n",
      "       device='cuda:0')----------\n"
     ]
    },
    {
     "name": "stderr",
     "output_type": "stream",
     "text": [
      "Epoch [49/50]:   0%|                                                                 | 0/9 [00:00<?, ?it/s, loss=0.00302]"
     ]
    },
    {
     "name": "stdout",
     "output_type": "stream",
     "text": [
      "-------predict: tensor([-0.2650,  0.0484, -0.1868, -0.0218, -0.2303, -0.1852, -0.3881, -0.2432,\n",
      "        -0.1693, -0.1968, -0.2680, -0.0509, -0.3402, -0.2773, -0.1414, -0.2699],\n",
      "       device='cuda:0', grad_fn=<SqueezeBackward1>), y: tensor([-0.2420, -0.0344, -0.2412, -0.0014, -0.2340, -0.1545, -0.2336, -0.2394,\n",
      "        -0.1990, -0.2207, -0.2373, -0.0386, -0.2261, -0.2422, -0.2246, -0.2313],\n",
      "       device='cuda:0')----------\n"
     ]
    },
    {
     "name": "stderr",
     "output_type": "stream",
     "text": [
      "Epoch [49/50]:   0%|                                                                 | 0/9 [00:00<?, ?it/s, loss=0.00828]"
     ]
    },
    {
     "name": "stdout",
     "output_type": "stream",
     "text": [
      "-------predict: tensor([-0.2471, -0.1660, -0.1982, -0.1499, -0.2050, -0.1698, -0.2500,  1.6187,\n",
      "        -0.2245, -0.2123, -0.2682, -0.2509,  0.2737,  0.9419, -0.3025, -0.2119],\n",
      "       device='cuda:0', grad_fn=<SqueezeBackward1>), y: tensor([-0.2298, -0.1968, -0.2333, -0.2021, -0.2240, -0.2107, -0.2282,  1.7431,\n",
      "        -0.2177, -0.2388, -0.2348, -0.2421,  0.1581,  1.2423, -0.2413, -0.2134],\n",
      "       device='cuda:0')----------\n"
     ]
    },
    {
     "name": "stderr",
     "output_type": "stream",
     "text": [
      "\r",
      "Epoch [49/50]:   0%|                                                                 | 0/9 [00:00<?, ?it/s, loss=0.00828]"
     ]
    },
    {
     "name": "stdout",
     "output_type": "stream",
     "text": [
      "-------predict: tensor([-0.2159, -0.2547, -0.2294, -0.2619,  0.0263, -0.1428, -0.1719,  4.2616,\n",
      "        -0.1330, -0.1940, -0.1904, -0.2021, -0.2153, -0.3035, -0.0949, -0.2158],\n",
      "       device='cuda:0', grad_fn=<SqueezeBackward1>), y: tensor([-0.2244, -0.2398, -0.2368, -0.2388,  0.0140, -0.2273, -0.2420,  4.1428,\n",
      "        -0.1834, -0.1642, -0.2426, -0.2423, -0.2229, -0.2412, -0.1409, -0.2327],\n",
      "       device='cuda:0')----------\n"
     ]
    },
    {
     "name": "stderr",
     "output_type": "stream",
     "text": [
      "Epoch [49/50]:   0%|                                                                 | 0/9 [00:00<?, ?it/s, loss=0.00258]"
     ]
    },
    {
     "name": "stdout",
     "output_type": "stream",
     "text": [
      "-------predict: tensor([-5.8811e-03, -1.6724e-01, -2.3059e-01, -6.7995e-02, -9.7176e-02,\n",
      "        -2.4021e-01, -1.5422e-01,  1.1266e+00, -2.6709e-01, -2.3568e-01,\n",
      "        -1.4822e-01, -2.2106e-01,  6.3027e-04, -1.2205e-01, -2.1441e-01,\n",
      "        -1.7760e-01], device='cuda:0', grad_fn=<SqueezeBackward1>), y: tensor([-0.2408, -0.2102, -0.2258, -0.1680, -0.0876, -0.2297, -0.2070,  1.1126,\n",
      "        -0.2393, -0.2264, -0.2385, -0.2337,  0.0460, -0.1065, -0.2066, -0.1750],\n",
      "       device='cuda:0')----------\n"
     ]
    },
    {
     "name": "stderr",
     "output_type": "stream",
     "text": [
      "Epoch [49/50]:   0%|                                                                 | 0/9 [00:00<?, ?it/s, loss=0.00511]"
     ]
    },
    {
     "name": "stdout",
     "output_type": "stream",
     "text": [
      "-------predict: tensor([-0.0681, -0.2021, -0.2303, -0.2147,  0.2581, -0.1502, -0.2193, -0.2932,\n",
      "        -0.0810, -0.1333, -0.1662, -0.2251, -0.2290], device='cuda:0',\n",
      "       grad_fn=<SqueezeBackward1>), y: tensor([-0.1833, -0.1953, -0.2417, -0.2246,  0.2747, -0.2258, -0.2427, -0.2418,\n",
      "        -0.1139, -0.2415, -0.2326, -0.2044, -0.2024], device='cuda:0')----------\n"
     ]
    },
    {
     "name": "stderr",
     "output_type": "stream",
     "text": [
      "Epoch [49/50]: 100%|█████████████████████████████████████████████████████████| 9/9 [00:00<00:00, 96.27it/s, loss=0.00316]\n"
     ]
    },
    {
     "name": "stdout",
     "output_type": "stream",
     "text": [
      "Epoch [49/50]: Train loss: 0.0106, Valid loss: 0.0176\n"
     ]
    },
    {
     "name": "stderr",
     "output_type": "stream",
     "text": [
      "Epoch [50/50]:   0%|                                                                 | 0/9 [00:00<?, ?it/s, loss=0.00241]"
     ]
    },
    {
     "name": "stdout",
     "output_type": "stream",
     "text": [
      "-------predict: tensor([-0.1748, -0.2344,  0.3768, -0.2293, -0.0017, -0.1270, -0.1655, -0.1459,\n",
      "        -0.3261, -0.2694, -0.2023, -0.1740, -0.2519, -0.1182, -0.2266, -0.2068],\n",
      "       device='cuda:0', grad_fn=<SqueezeBackward1>), y: tensor([-0.1998, -0.2422,  0.2559, -0.2427,  0.0460, -0.1552, -0.2420, -0.1545,\n",
      "        -0.2397, -0.2417, -0.1854, -0.2246, -0.2348, -0.1517, -0.2417, -0.2426],\n",
      "       device='cuda:0')----------\n"
     ]
    },
    {
     "name": "stderr",
     "output_type": "stream",
     "text": [
      "Epoch [50/50]:   0%|                                                                 | 0/9 [00:00<?, ?it/s, loss=0.00299]"
     ]
    },
    {
     "name": "stdout",
     "output_type": "stream",
     "text": [
      "-------predict: tensor([-0.1962, -0.1478, -0.1674, -0.2797,  0.2753,  2.1902, -0.2157, -0.2157,\n",
      "        -0.2079,  6.0339, -0.1982, -0.2276, -0.2211, -0.2236, -0.1856,  0.0459],\n",
      "       device='cuda:0', grad_fn=<SqueezeBackward1>), y: tensor([-0.2333, -0.2426, -0.2326, -0.2308,  0.5685,  2.1945, -0.2194, -0.2244,\n",
      "        -0.2229,  6.7906, -0.2388, -0.2368, -0.2246, -0.2286, -0.2385, -0.0344],\n",
      "       device='cuda:0')----------\n",
      "-------predict: tensor([-0.0317, -0.1107, -0.2445, -0.3270, -0.0367, -0.1447, -0.3154, -0.2773,\n",
      "        -0.2395, -0.1857,  4.1550, -0.2391, -0.1385, -0.0894, -0.3408, -0.2163],\n",
      "       device='cuda:0', grad_fn=<SqueezeBackward1>), y: tensor([-1.5213e-01, -8.7592e-02, -2.3724e-01, -2.4168e-01, -1.4000e-03,\n",
      "        -2.0703e-01, -2.3997e-01, -2.4130e-01, -2.2969e-01, -2.1021e-01,\n",
      "         4.1428e+00, -2.0241e-01, -1.0647e-01, -7.3864e-02, -2.4257e-01,\n",
      "        -2.3112e-01], device='cuda:0')----------\n"
     ]
    },
    {
     "name": "stderr",
     "output_type": "stream",
     "text": [
      "Epoch [50/50]:   0%|                                                                 | 0/9 [00:00<?, ?it/s, loss=0.00377]"
     ]
    },
    {
     "name": "stdout",
     "output_type": "stream",
     "text": [
      "-------predict: tensor([-0.2022, -0.2185, -0.1610, -0.2904, -0.1832, -0.2083, -0.2209, -0.1138,\n",
      "        -0.2549, -0.2367, -0.2557, -0.3012, -0.2492, -0.1239, -0.1262, -0.1578],\n",
      "       device='cuda:0', grad_fn=<SqueezeBackward1>), y: tensor([-0.2420, -0.2327, -0.2021, -0.2423, -0.2426, -0.1953, -0.2398, -0.2422,\n",
      "        -0.2394, -0.2207, -0.2282, -0.2099, -0.2297, -0.2413, -0.2112, -0.2134],\n",
      "       device='cuda:0')----------\n"
     ]
    },
    {
     "name": "stderr",
     "output_type": "stream",
     "text": [
      "Epoch [50/50]:   0%|                                                                 | 0/9 [00:00<?, ?it/s, loss=0.00694]"
     ]
    },
    {
     "name": "stdout",
     "output_type": "stream",
     "text": [
      "-------predict: tensor([-0.2846, -0.1942, -0.2505, -0.2859, -0.0085, -0.0845, -0.0098, -0.1095,\n",
      "        -0.1942, -0.2269, -0.2540, -0.1999, -0.3146, -0.2791, -0.1827, -0.2831],\n",
      "       device='cuda:0', grad_fn=<SqueezeBackward1>), y: tensor([-0.2411, -0.1798, -0.2373, -0.2418, -0.2408, -0.0042, -0.1515, -0.2062,\n",
      "        -0.2258, -0.2416, -0.2066, -0.2107, -0.2412, -0.2424, -0.2412, -0.2261],\n",
      "       device='cuda:0')----------\n"
     ]
    },
    {
     "name": "stderr",
     "output_type": "stream",
     "text": [
      "Epoch [50/50]:   0%|                                                                  | 0/9 [00:00<?, ?it/s, loss=0.0205]"
     ]
    },
    {
     "name": "stdout",
     "output_type": "stream",
     "text": [
      "-------predict: tensor([-0.3099, -0.2629, -0.0765, -0.2647, -0.3244, -0.1563, -0.1812,  0.0367,\n",
      "        -0.2637, -0.2219, -0.3054, -0.2259, -0.1396,  9.2060, -0.2561, -0.0569],\n",
      "       device='cuda:0', grad_fn=<SqueezeBackward1>), y: tensor([-0.2216, -0.2388, -0.1139, -0.2298, -0.2421, -0.1990, -0.2260,  0.0140,\n",
      "        -0.2403, -0.2177, -0.2269, -0.2337, -0.1637,  8.6617, -0.2264, -0.0244],\n",
      "       device='cuda:0')----------\n"
     ]
    },
    {
     "name": "stderr",
     "output_type": "stream",
     "text": [
      "Epoch [50/50]:   0%|                                                                  | 0/9 [00:00<?, ?it/s, loss=0.0122]"
     ]
    },
    {
     "name": "stdout",
     "output_type": "stream",
     "text": [
      "-------predict: tensor([ 1.1440, -0.1565, -0.2300, -0.0202,  0.8858, -0.2504, -0.0709,  0.0248,\n",
      "        -0.2052,  0.0462, -0.2571, -0.2183, -0.1519,  1.6245, -0.2956,  0.5091],\n",
      "       device='cuda:0', grad_fn=<SqueezeBackward1>), y: tensor([ 1.1126, -0.1834, -0.2340, -0.0386,  1.2423, -0.2134, -0.1833,  0.0058,\n",
      "        -0.2296, -0.0928, -0.2375, -0.2286, -0.2425,  1.7431, -0.2398,  0.5884],\n",
      "       device='cuda:0')----------\n"
     ]
    },
    {
     "name": "stderr",
     "output_type": "stream",
     "text": [
      "Epoch [50/50]:   0%|                                                                 | 0/9 [00:00<?, ?it/s, loss=0.00371]"
     ]
    },
    {
     "name": "stdout",
     "output_type": "stream",
     "text": [
      "-------predict: tensor([-0.2116, -0.1632, -0.3762, -0.1820,  0.2592, -0.2862, -0.1674, -0.1980,\n",
      "        -0.2317, -0.3042, -0.2748, -0.0208, -0.1840, -0.0998,  0.2498, -0.2694],\n",
      "       device='cuda:0', grad_fn=<SqueezeBackward1>), y: tensor([-0.2240, -0.2415, -0.2336, -0.1932,  0.1581, -0.2391, -0.1968, -0.2245,\n",
      "        -0.2258, -0.2410, -0.2393,  0.0753, -0.2045, -0.1409,  0.2747, -0.2335],\n",
      "       device='cuda:0')----------\n"
     ]
    },
    {
     "name": "stderr",
     "output_type": "stream",
     "text": [
      "Epoch [50/50]:   0%|                                                                 | 0/9 [00:00<?, ?it/s, loss=0.00296]"
     ]
    },
    {
     "name": "stdout",
     "output_type": "stream",
     "text": [
      "-------predict: tensor([-0.0668, -0.2313, -0.1741, -0.1885, -0.2627, -0.0629, -0.1384, -0.1740,\n",
      "        -0.2650,  0.0388, -0.2827, -0.0907, -0.0760], device='cuda:0',\n",
      "       grad_fn=<SqueezeBackward1>), y: tensor([-0.1678, -0.2325, -0.1750, -0.1642, -0.2217, -0.1063, -0.2273, -0.2249,\n",
      "        -0.2313,  0.0535, -0.2044, -0.1680, -0.0922], device='cuda:0')----------\n"
     ]
    },
    {
     "name": "stderr",
     "output_type": "stream",
     "text": [
      "\r",
      "Epoch [50/50]: 100%|█████████████████████████████████████████████████████████| 9/9 [00:00<00:00, 96.71it/s, loss=0.00296]"
     ]
    },
    {
     "name": "stdout",
     "output_type": "stream",
     "text": [
      "Epoch [50/50]: Train loss: 0.0109, Valid loss: 0.0176\n"
     ]
    },
    {
     "name": "stderr",
     "output_type": "stream",
     "text": [
      "\n"
     ]
    }
   ],
   "source": [
    "trainer(train_loader, valid_loader, model, config, device)"
   ]
  },
  {
   "cell_type": "code",
   "execution_count": 87,
   "metadata": {},
   "outputs": [],
   "source": [
    "!kill 1489040"
   ]
  },
  {
   "cell_type": "code",
   "execution_count": 88,
   "metadata": {
    "scrolled": false
   },
   "outputs": [
    {
     "data": {
      "text/html": [
       "\n",
       "      <iframe id=\"tensorboard-frame-523f1e5ae6b0d6e5\" width=\"100%\" height=\"800\" frameborder=\"0\">\n",
       "      </iframe>\n",
       "      <script>\n",
       "        (function() {\n",
       "          const frame = document.getElementById(\"tensorboard-frame-523f1e5ae6b0d6e5\");\n",
       "          const url = new URL(\"/\", window.location);\n",
       "          const port = 6006;\n",
       "          if (port) {\n",
       "            url.port = port;\n",
       "          }\n",
       "          frame.src = url;\n",
       "        })();\n",
       "      </script>\n",
       "    "
      ],
      "text/plain": [
       "<IPython.core.display.HTML object>"
      ]
     },
     "metadata": {},
     "output_type": "display_data"
    }
   ],
   "source": [
    "#%reload_ext tensorboard\n",
    "%tensorboard --logdir=./runs/"
   ]
  },
  {
   "cell_type": "code",
   "execution_count": null,
   "metadata": {
    "colab": {
     "base_uri": "https://localhost:8080/",
     "height": 295
    },
    "id": "hsNO9nnXQBvP",
    "outputId": "1626def6-94c7-4a87-9447-d939f827c8eb"
   },
   "outputs": [],
   "source": [
    "plot_learning_curve(model_loss_record, title='deep model')"
   ]
  },
  {
   "cell_type": "code",
   "execution_count": 21,
   "metadata": {},
   "outputs": [
    {
     "data": {
      "text/plain": [
       "1e+20"
      ]
     },
     "execution_count": 21,
     "metadata": {},
     "output_type": "execute_result"
    }
   ],
   "source": [
    "model_loss"
   ]
  },
  {
   "cell_type": "code",
   "execution_count": null,
   "metadata": {
    "colab": {
     "base_uri": "https://localhost:8080/",
     "height": 350
    },
    "id": "3iZTVn5WQFpX",
    "outputId": "a2d5e118-559d-45c6-b644-6792af54663d"
   },
   "outputs": [],
   "source": [
    "del model\n",
    "model = NeuralNet(tr_set.dataset.dim).to(device)\n",
    "ckpt = torch.load(config['save_path'], map_location='cpu')  # Load your best model\n",
    "model.load_state_dict(ckpt)\n",
    "plot_pred(dv_set, model, device)  # Show prediction on the validation set"
   ]
  },
  {
   "cell_type": "markdown",
   "metadata": {
    "id": "aQikz3IPiyPf"
   },
   "source": [
    "# **Testing**\n",
    "The predictions of your model on testing set will be stored at `pred.csv`."
   ]
  },
  {
   "cell_type": "code",
   "execution_count": null,
   "metadata": {
    "colab": {
     "base_uri": "https://localhost:8080/"
    },
    "id": "O8cTuQjQQOon",
    "outputId": "6bc5de07-4c5a-4e87-9ae3-d09f539c5f2c"
   },
   "outputs": [],
   "source": [
    "def save_pred(preds, file):\n",
    "    ''' Save predictions to specified file '''\n",
    "    print('Saving results to {}'.format(file))\n",
    "    with open(file, 'w') as fp:\n",
    "        writer = csv.writer(fp)\n",
    "        writer.writerow(['id', 'tested_positive'])\n",
    "        for i, p in enumerate(preds):\n",
    "            writer.writerow([i, p])\n",
    "\n",
    "preds = test(valid_loader, model, device)  # predict COVID-19 cases with your model\n",
    "print('pred')         # save prediction file to pred.csv"
   ]
  },
  {
   "cell_type": "markdown",
   "metadata": {
    "id": "nfrVxqJanGpE"
   },
   "source": [
    "# **Hints**\n",
    "\n",
    "## **Simple Baseline**\n",
    "* Run sample code\n",
    "\n",
    "## **Medium Baseline**\n",
    "* Feature selection: 40 states + 2 `tested_positive` (`TODO` in dataset)\n",
    "\n",
    "## **Strong Baseline**\n",
    "* Feature selection (what other features are useful?)\n",
    "* DNN architecture (layers? dimension? activation function?)\n",
    "* Training (mini-batch? optimizer? learning rate?)\n",
    "* L2 regularization\n",
    "* There are some mistakes in the sample code, can you find them?"
   ]
  },
  {
   "cell_type": "markdown",
   "metadata": {
    "id": "9tmCwXgpot3t"
   },
   "source": [
    "# **Reference**\n",
    "This code is completely written by Heng-Jui Chang @ NTUEE.  \n",
    "Copying or reusing this code is required to specify the original author. \n",
    "\n",
    "E.g.  \n",
    "Source: Heng-Jui Chang @ NTUEE (https://github.com/ga642381/ML2021-Spring/blob/main/HW01/HW01.ipynb)\n"
   ]
  },
  {
   "cell_type": "code",
   "execution_count": 94,
   "metadata": {},
   "outputs": [],
   "source": [
    "## Load pretrain embedding\n",
    "emb_ent = torch.load('../LiterallyWikidata/files_needed/pretrained_kge/pretrained_complex_entemb.pt')\n",
    "list_ent_ids =[]\n",
    "with open('../LiterallyWikidata/files_needed/list_ent_ids.txt','r') as f:\n",
    "    for line in f:\n",
    "        list_ent_ids.append(line.strip())\n",
    "## Preparing ent embedding\n",
    "ent2idx = {e:i for i,e in enumerate(list_ent_ids)}\n",
    "attri_data['ent_idx']= attri_data['e'].map(ent2idx)\n",
    "embedding_e = torch.nn.Embedding.from_pretrained(emb_ent)\n",
    "input_e = torch.LongTensor(attri_data['ent_idx'].to_numpy())\n",
    "\n",
    "entity_embedding = embedding_e(input_e)\n",
    "## Preparing att embedding\n",
    "# att2idx = {a:i for i,a in enumerate(attri_data['a'].unique())}\n",
    "attri_data['a_idx']=attri_data['a'].map(att2idx)\n",
    "embedding_a = torch.nn.Embedding(len(att2idx),128,padding_idx=0)\n",
    "input_a = torch.LongTensor(attri_data['a'].to_numpy())\n",
    "\n",
    "attribute_embedding = embedding_a(input_a)\n",
    "## concat two embedding\n",
    "x_data = torch.cat([entity_embedding,attribute_embedding],dim=1).detach().numpy()\n",
    "\n"
   ]
  }
 ],
 "metadata": {
  "accelerator": "GPU",
  "colab": {
   "collapsed_sections": [],
   "provenance": [
    {
     "file_id": "https://github.com/ga642381/ML2021-Spring/blob/main/HW01/HW01.ipynb",
     "timestamp": 1656054510646
    }
   ],
   "toc_visible": true
  },
  "kernelspec": {
   "display_name": "Python 3 (ipykernel)",
   "language": "python",
   "name": "python3"
  },
  "language_info": {
   "codemirror_mode": {
    "name": "ipython",
    "version": 3
   },
   "file_extension": ".py",
   "mimetype": "text/x-python",
   "name": "python",
   "nbconvert_exporter": "python",
   "pygments_lexer": "ipython3",
   "version": "3.7.9"
  }
 },
 "nbformat": 4,
 "nbformat_minor": 1
}

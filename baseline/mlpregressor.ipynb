{
 "cells": [
  {
   "cell_type": "code",
   "execution_count": 69,
   "metadata": {},
   "outputs": [],
   "source": [
    "import numpy as np\n",
    "import pandas as pd\n",
    "import pickle\n",
    "import matplotlib.pyplot as plt\n",
    "from sklearn.neural_network import MLPRegressor\n",
    "import torch\n",
    "import torch.nn\n",
    "import math"
   ]
  },
  {
   "cell_type": "code",
   "execution_count": 25,
   "metadata": {},
   "outputs": [],
   "source": [
    "attri_data = pd.read_csv('../LiterallyWikidata/files_needed/train_attri_data_minmax.csv')\n",
    "attri_data_valid = pd.read_csv('../LiterallyWikidata/files_needed/valid_attri_data_minmax.csv')\n",
    "attri_data_test = pd.read_csv('../LiterallyWikidata/files_needed/test_attri_data_minmax.csv')"
   ]
  },
  {
   "cell_type": "code",
   "execution_count": 3,
   "metadata": {
    "scrolled": true
   },
   "outputs": [],
   "source": [
    "\n"
   ]
  },
  {
   "cell_type": "code",
   "execution_count": 5,
   "metadata": {},
   "outputs": [],
   "source": [
    "# with open('../LiterallyWikidata/files_needed/attribute.txt','r') as fr:\n",
    "#     att2idx = {line.strip(): i for i, line in enumerate(fr)}\n",
    "# with open('../LiterallyWikidata/files_needed/list_ent_ids.txt','r') as f:\n",
    "#     ent2idx ={line.strip(): i for i, line in enumerate(f)}"
   ]
  },
  {
   "cell_type": "code",
   "execution_count": 34,
   "metadata": {},
   "outputs": [
    {
     "ename": "KeyError",
     "evalue": "'P2295'",
     "output_type": "error",
     "traceback": [
      "\u001b[0;31m---------------------------------------------------------------------------\u001b[0m",
      "\u001b[0;31mKeyError\u001b[0m                                  Traceback (most recent call last)",
      "\u001b[0;32m/tmp/ipykernel_3298584/2013064078.py\u001b[0m in \u001b[0;36m<module>\u001b[0;34m\u001b[0m\n\u001b[1;32m      8\u001b[0m \u001b[0mdate_of_death\u001b[0m \u001b[0;34m=\u001b[0m \u001b[0matt2idx\u001b[0m\u001b[0;34m[\u001b[0m\u001b[0;34m'P570'\u001b[0m\u001b[0;34m]\u001b[0m\u001b[0;34m\u001b[0m\u001b[0;34m\u001b[0m\u001b[0m\n\u001b[1;32m      9\u001b[0m \u001b[0marea\u001b[0m \u001b[0;34m=\u001b[0m \u001b[0;34m[\u001b[0m\u001b[0;34m'P2046'\u001b[0m\u001b[0;34m]\u001b[0m\u001b[0;34m\u001b[0m\u001b[0;34m\u001b[0m\u001b[0m\n\u001b[0;32m---> 10\u001b[0;31m \u001b[0mnet_profit\u001b[0m \u001b[0;34m=\u001b[0m \u001b[0matt2idx\u001b[0m\u001b[0;34m[\u001b[0m\u001b[0;34m'P2295'\u001b[0m\u001b[0;34m]\u001b[0m\u001b[0;34m\u001b[0m\u001b[0;34m\u001b[0m\u001b[0m\n\u001b[0m\u001b[1;32m     11\u001b[0m \u001b[0mretirement_age\u001b[0m \u001b[0;34m=\u001b[0m \u001b[0matt2idx\u001b[0m\u001b[0;34m[\u001b[0m\u001b[0;34m'P3001'\u001b[0m\u001b[0;34m]\u001b[0m\u001b[0;34m\u001b[0m\u001b[0;34m\u001b[0m\u001b[0m\n\u001b[1;32m     12\u001b[0m \u001b[0mage_of_majority\u001b[0m \u001b[0;34m=\u001b[0m \u001b[0matt2idx\u001b[0m\u001b[0;34m[\u001b[0m\u001b[0;34m'P2997'\u001b[0m\u001b[0;34m]\u001b[0m\u001b[0;34m\u001b[0m\u001b[0;34m\u001b[0m\u001b[0m\n",
      "\u001b[0;31mKeyError\u001b[0m: 'P2295'"
     ]
    }
   ],
   "source": [
    "## constraint needed:\n",
    "pop_idx = att2idx['P1082']\n",
    "gdp = att2idx['P4010']\n",
    "nominal_gdp = att2idx['P2131']\n",
    "nominal_gdp_per = att2idx['P2132']\n",
    "gdp_per = att2idx['P2299']\n",
    "date_of_birth = att2idx['P569']\n",
    "date_of_death = att2idx['P570']\n",
    "area = ['P2046']\n",
    "net_profit = att2idx['P2295']\n",
    "retirement_age = att2idx['P3001']\n",
    "age_of_majority = att2idx['P2997']\n",
    "work_start = att2idx['P2031']\n",
    "work_end = att2idx['P2032']\n",
    "gdp"
   ]
  },
  {
   "cell_type": "code",
   "execution_count": 26,
   "metadata": {},
   "outputs": [],
   "source": [
    "# load pretrained e, make ebt2idx, map to ori data to get entid\n",
    "emb_ent = torch.load('../LiterallyWikidata/files_needed/pretrained_kge/pretrained_complex_entemb.pt')\n",
    "#print(emb_ent.shape)\n",
    "ent2idx ={}\n",
    "with open('../LiterallyWikidata/files_needed/list_ent_ids.txt','r') as fr:\n",
    "    for i, word in enumerate(fr.readlines()):\n",
    "        ent2idx[word.strip()] = i\n",
    "embedding_e = torch.nn.Embedding.from_pretrained(emb_ent)\n",
    "attri_data['e_idx']=attri_data['e'].map(ent2idx)\n",
    "input_e = torch.LongTensor(attri_data['e_idx'].to_numpy())\n",
    "emb_e =embedding_e(input_e)\n",
    "# load emb a, make att2idx, map to ori data to get attid   \n",
    "          \n",
    "att2idx = {v:k for k,v in enumerate(attri_data['a'].unique())}\n",
    "embedding_a = torch.nn.Embedding(len(attri_data['a'].unique()),128,padding_idx=0)\n",
    "attri_data['a_idx']=attri_data['a'].map(att2idx)\n",
    "input_a = torch.LongTensor(attri_data['a_idx'].to_numpy())\n",
    "emb_a = embedding_a(input_a)\n",
    "# \n",
    "# attri_data_valid['a_idx']=attri_data_valid['a'].map(att2idx)\n",
    "# attri_data_valid['e_idx']=attri_data_valid['e'].map(ent2idx)     "
   ]
  },
  {
   "cell_type": "code",
   "execution_count": 20,
   "metadata": {
    "collapsed": true
   },
   "outputs": [
    {
     "data": {
      "text/plain": [
       "(['P625_Latitude',\n",
       "  'P625_Longtiude',\n",
       "  'P1332_Latitude',\n",
       "  'P1082',\n",
       "  'P2046',\n",
       "  'P2067',\n",
       "  'P2043',\n",
       "  'P2031',\n",
       "  'P576',\n",
       "  'P569',\n",
       "  'P1332_Longtiude',\n",
       "  'P1538',\n",
       "  'P571',\n",
       "  'P1333_Latitude',\n",
       "  'P2044',\n",
       "  'P6543',\n",
       "  'P6545',\n",
       "  'P2927',\n",
       "  'P1334_Latitude',\n",
       "  'P6509',\n",
       "  'P570',\n",
       "  'P1350',\n",
       "  'P1333_Longtiude',\n",
       "  'P582',\n",
       "  'P1334_Longtiude',\n",
       "  'P6544',\n",
       "  'P1335_Longtiude',\n",
       "  'P2048',\n",
       "  'P6547',\n",
       "  'P1335_Latitude',\n",
       "  'P2032',\n",
       "  'P2243',\n",
       "  'P3087',\n",
       "  'P2052',\n",
       "  'P577',\n",
       "  'P2225',\n",
       "  'P1619',\n",
       "  'P1373',\n",
       "  'P6546',\n",
       "  'P2045',\n",
       "  'P580',\n",
       "  'P2437',\n",
       "  'P1113',\n",
       "  'P2047',\n",
       "  'P1128',\n",
       "  'P1132',\n",
       "  'P2299',\n",
       "  'P2244',\n",
       "  'P2121',\n",
       "  'P4511',\n",
       "  'P2142',\n",
       "  'P5982',\n",
       "  'P4841',\n",
       "  'P3157',\n",
       "  'P5595',\n",
       "  'P1103',\n",
       "  'P2132',\n",
       "  'P2219',\n",
       "  'P1351',\n",
       "  'P1249',\n",
       "  'P1418',\n",
       "  'P585',\n",
       "  'P3086',\n",
       "  'P1971',\n",
       "  'P1540',\n",
       "  'P2053',\n",
       "  'P1352',\n",
       "  'P1831',\n",
       "  'P3872',\n",
       "  'P2884',\n",
       "  'P4010',\n",
       "  'P1110',\n",
       "  'P2131',\n",
       "  'P2873',\n",
       "  'P620',\n",
       "  'P4080',\n",
       "  'P619',\n",
       "  'P2049',\n",
       "  'P2250',\n",
       "  'P2130',\n",
       "  'P2234',\n",
       "  'P2146',\n",
       "  'P1083',\n",
       "  'P1081',\n",
       "  'P1539',\n",
       "  'P2124'],\n",
       " ['P1334_Latitude',\n",
       "  'P1082',\n",
       "  'P625_Latitude',\n",
       "  'P1332_Longtiude',\n",
       "  'P2048',\n",
       "  'P1333_Longtiude',\n",
       "  'P6547',\n",
       "  'P580',\n",
       "  'P2032',\n",
       "  'P1335_Longtiude',\n",
       "  'P1971',\n",
       "  'P570',\n",
       "  'P625_Longtiude',\n",
       "  'P2044',\n",
       "  'P2031',\n",
       "  'P2047',\n",
       "  'P1334_Longtiude',\n",
       "  'P6544',\n",
       "  'P2046',\n",
       "  'P569',\n",
       "  'P2067',\n",
       "  'P6545',\n",
       "  'P1335_Latitude',\n",
       "  'P571',\n",
       "  'P1350',\n",
       "  'P6509',\n",
       "  'P6546',\n",
       "  'P1538',\n",
       "  'P6543',\n",
       "  'P1333_Latitude',\n",
       "  'P1113',\n",
       "  'P1332_Latitude',\n",
       "  'P4080',\n",
       "  'P2130',\n",
       "  'P1540',\n",
       "  'P1128',\n",
       "  'P1418',\n",
       "  'P2043',\n",
       "  'P1539',\n",
       "  'P1351',\n",
       "  'P1103',\n",
       "  'P582',\n",
       "  'P576',\n",
       "  'P2927',\n",
       "  'P2121',\n",
       "  'P4841',\n",
       "  'P1373',\n",
       "  'P2146',\n",
       "  'P585',\n",
       "  'P1132',\n",
       "  'P1619',\n",
       "  'P3157',\n",
       "  'P2132',\n",
       "  'P1249',\n",
       "  'P619',\n",
       "  'P577',\n",
       "  'P2124',\n",
       "  'P2437',\n",
       "  'P2299',\n",
       "  'P2244',\n",
       "  'P2142',\n",
       "  'P3087',\n",
       "  'P2250',\n",
       "  'P2225',\n",
       "  'P2053',\n",
       "  'P1352',\n",
       "  'P4511',\n",
       "  'P2049',\n",
       "  'P2045',\n",
       "  'P2131',\n",
       "  'P3086',\n",
       "  'P5982',\n",
       "  'P2873',\n",
       "  'P2884',\n",
       "  'P2052',\n",
       "  'P2243',\n",
       "  'P1110',\n",
       "  'P1081',\n",
       "  'P1831',\n",
       "  'P620',\n",
       "  'P1083',\n",
       "  'P5595',\n",
       "  'P2219',\n",
       "  'P3872',\n",
       "  'P2234',\n",
       "  'P4010'])"
      ]
     },
     "execution_count": 20,
     "metadata": {},
     "output_type": "execute_result"
    }
   ],
   "source": [
    "list(attri_data['a'].unique()),list(attri_data_valid['a'].unique())"
   ]
  },
  {
   "cell_type": "code",
   "execution_count": 73,
   "metadata": {},
   "outputs": [],
   "source": [
    "# attri_data_valid 做testdata\n",
    "attri_data_valid['e_idx']=attri_data_valid['e'].map(ent2idx)\n",
    "input_e_val = torch.LongTensor(attri_data_valid['e_idx'].to_numpy())\n",
    "emb_e_val =embedding_e(input_e_val)*math.sqrt(2./128)\n",
    "attri_data_valid['a_idx']=attri_data_valid['a'].map(att2idx)\n",
    "input_a_val = torch.LongTensor(attri_data_valid['a_idx'].to_numpy())\n",
    "emb_a_val = embedding_a(input_a_val)*math.sqrt(2./128)\n",
    "x_val = torch.cat([emb_e_val,emb_a_val],dim=1).detach().numpy()\n",
    "y_val= attri_data_valid.loc[:,'v'].values\n",
    "X_test,y_test=x_val,y_val"
   ]
  },
  {
   "cell_type": "code",
   "execution_count": 6,
   "metadata": {},
   "outputs": [
    {
     "data": {
      "text/html": [
       "<div>\n",
       "<style scoped>\n",
       "    .dataframe tbody tr th:only-of-type {\n",
       "        vertical-align: middle;\n",
       "    }\n",
       "\n",
       "    .dataframe tbody tr th {\n",
       "        vertical-align: top;\n",
       "    }\n",
       "\n",
       "    .dataframe thead th {\n",
       "        text-align: right;\n",
       "    }\n",
       "</style>\n",
       "<table border=\"1\" class=\"dataframe\">\n",
       "  <thead>\n",
       "    <tr style=\"text-align: right;\">\n",
       "      <th></th>\n",
       "      <th>e</th>\n",
       "      <th>a</th>\n",
       "      <th>v</th>\n",
       "      <th>name_e</th>\n",
       "      <th>name_a</th>\n",
       "      <th>ent_type</th>\n",
       "      <th>minmax</th>\n",
       "    </tr>\n",
       "  </thead>\n",
       "  <tbody>\n",
       "    <tr>\n",
       "      <th>0</th>\n",
       "      <td>Q593336</td>\n",
       "      <td>P625_Latitude</td>\n",
       "      <td>4.315194e+01</td>\n",
       "      <td>Poumarous</td>\n",
       "      <td>coordinate location(latitude)</td>\n",
       "      <td>Q484170</td>\n",
       "      <td>7.397330e-01</td>\n",
       "    </tr>\n",
       "    <tr>\n",
       "      <th>1</th>\n",
       "      <td>Q511127</td>\n",
       "      <td>P625_Longtiude</td>\n",
       "      <td>3.301111e+00</td>\n",
       "      <td>Nant</td>\n",
       "      <td>coordinate location(logtitude)</td>\n",
       "      <td>Q484170</td>\n",
       "      <td>5.068894e-01</td>\n",
       "    </tr>\n",
       "    <tr>\n",
       "      <th>2</th>\n",
       "      <td>Q59293</td>\n",
       "      <td>P1332_Latitude</td>\n",
       "      <td>4.329426e+01</td>\n",
       "      <td>Porto Sant'Elpidio</td>\n",
       "      <td>coordinates of northernmost point</td>\n",
       "      <td>Q747074</td>\n",
       "      <td>6.482318e-01</td>\n",
       "    </tr>\n",
       "    <tr>\n",
       "      <th>3</th>\n",
       "      <td>Q100092</td>\n",
       "      <td>P1082</td>\n",
       "      <td>6.460000e+03</td>\n",
       "      <td>San Cesario sul Panaro</td>\n",
       "      <td>population</td>\n",
       "      <td>Q747074</td>\n",
       "      <td>1.551299e-06</td>\n",
       "    </tr>\n",
       "    <tr>\n",
       "      <th>4</th>\n",
       "      <td>Q111736</td>\n",
       "      <td>P2046</td>\n",
       "      <td>1.768000e+07</td>\n",
       "      <td>Sarezzo</td>\n",
       "      <td>area</td>\n",
       "      <td>Q747074</td>\n",
       "      <td>2.903120e-12</td>\n",
       "    </tr>\n",
       "  </tbody>\n",
       "</table>\n",
       "</div>"
      ],
      "text/plain": [
       "         e               a             v                  name_e  \\\n",
       "0  Q593336   P625_Latitude  4.315194e+01               Poumarous   \n",
       "1  Q511127  P625_Longtiude  3.301111e+00                    Nant   \n",
       "2   Q59293  P1332_Latitude  4.329426e+01      Porto Sant'Elpidio   \n",
       "3  Q100092           P1082  6.460000e+03  San Cesario sul Panaro   \n",
       "4  Q111736           P2046  1.768000e+07                 Sarezzo   \n",
       "\n",
       "                              name_a ent_type        minmax  \n",
       "0      coordinate location(latitude)  Q484170  7.397330e-01  \n",
       "1     coordinate location(logtitude)  Q484170  5.068894e-01  \n",
       "2  coordinates of northernmost point  Q747074  6.482318e-01  \n",
       "3                         population  Q747074  1.551299e-06  \n",
       "4                               area  Q747074  2.903120e-12  "
      ]
     },
     "execution_count": 6,
     "metadata": {},
     "output_type": "execute_result"
    }
   ],
   "source": [
    "attri_data[:5]"
   ]
  },
  {
   "cell_type": "code",
   "execution_count": 11,
   "metadata": {},
   "outputs": [],
   "source": [
    "# ent embedding use not pretrain\n",
    "# ent2idx = {e:i for i,e in enumerate(attri_data['e'].unique())}\n",
    "# attri_data['e_idx']=attri_data['e'].map(ent2idx)\n",
    "# embedding_e = torch.nn.Embedding(len(attri_data['e'].unique()),128,padding_idx=0)\n",
    "# input_e = torch.LongTensor(attri_data['e_idx'].to_numpy())\n",
    "# emb_e = embedding_e(input_e)"
   ]
  },
  {
   "cell_type": "code",
   "execution_count": 74,
   "metadata": {},
   "outputs": [],
   "source": [
    "x = torch.cat([emb_e,emb_a],dim=1).detach().numpy()"
   ]
  },
  {
   "cell_type": "code",
   "execution_count": 75,
   "metadata": {},
   "outputs": [
    {
     "data": {
      "text/plain": [
       "array([[-3.1758689e-03, -3.0028114e-02,  1.9056829e+00, ...,\n",
       "         0.0000000e+00,  0.0000000e+00,  0.0000000e+00],\n",
       "       [-8.0347735e-01, -1.6112080e-01,  1.5777169e+00, ...,\n",
       "         1.4985690e-01,  1.9457540e-01,  7.9213321e-01],\n",
       "       [-1.1778606e+00,  2.5393713e-02, -1.3152606e+00, ...,\n",
       "        -4.3515575e-01, -8.4614587e-01, -3.9710126e+00],\n",
       "       ...,\n",
       "       [ 8.2747601e-02, -6.1710203e-01,  2.3574358e-01, ...,\n",
       "        -5.8252639e-01,  6.8274313e-01, -1.4978484e+00],\n",
       "       [-1.2147907e-01,  1.6765369e-01, -9.4606072e-01, ...,\n",
       "         1.9079995e+00,  4.5488805e-01,  1.4441520e+00],\n",
       "       [-1.0354982e-01, -1.1097395e-01, -2.1239905e-01, ...,\n",
       "         6.1147124e-01,  9.5499313e-01, -1.2304487e+00]], dtype=float32)"
      ]
     },
     "execution_count": 75,
     "metadata": {},
     "output_type": "execute_result"
    }
   ],
   "source": [
    "x"
   ]
  },
  {
   "cell_type": "code",
   "execution_count": 76,
   "metadata": {},
   "outputs": [
    {
     "data": {
      "text/html": [
       "<div>\n",
       "<style scoped>\n",
       "    .dataframe tbody tr th:only-of-type {\n",
       "        vertical-align: middle;\n",
       "    }\n",
       "\n",
       "    .dataframe tbody tr th {\n",
       "        vertical-align: top;\n",
       "    }\n",
       "\n",
       "    .dataframe thead th {\n",
       "        text-align: right;\n",
       "    }\n",
       "</style>\n",
       "<table border=\"1\" class=\"dataframe\">\n",
       "  <thead>\n",
       "    <tr style=\"text-align: right;\">\n",
       "      <th></th>\n",
       "      <th>e</th>\n",
       "      <th>a</th>\n",
       "      <th>v</th>\n",
       "      <th>name_e</th>\n",
       "      <th>name_a</th>\n",
       "      <th>ent_type</th>\n",
       "      <th>minmax</th>\n",
       "      <th>e_idx</th>\n",
       "      <th>a_idx</th>\n",
       "    </tr>\n",
       "  </thead>\n",
       "  <tbody>\n",
       "    <tr>\n",
       "      <th>0</th>\n",
       "      <td>Q593336</td>\n",
       "      <td>P625_Latitude</td>\n",
       "      <td>4.315194e+01</td>\n",
       "      <td>Poumarous</td>\n",
       "      <td>coordinate location(latitude)</td>\n",
       "      <td>Q484170</td>\n",
       "      <td>7.397330e-01</td>\n",
       "      <td>38633</td>\n",
       "      <td>0</td>\n",
       "    </tr>\n",
       "    <tr>\n",
       "      <th>1</th>\n",
       "      <td>Q511127</td>\n",
       "      <td>P625_Longtiude</td>\n",
       "      <td>3.301111e+00</td>\n",
       "      <td>Nant</td>\n",
       "      <td>coordinate location(logtitude)</td>\n",
       "      <td>Q484170</td>\n",
       "      <td>5.068894e-01</td>\n",
       "      <td>34409</td>\n",
       "      <td>1</td>\n",
       "    </tr>\n",
       "    <tr>\n",
       "      <th>2</th>\n",
       "      <td>Q59293</td>\n",
       "      <td>P1332_Latitude</td>\n",
       "      <td>4.329426e+01</td>\n",
       "      <td>Porto Sant'Elpidio</td>\n",
       "      <td>coordinates of northernmost point</td>\n",
       "      <td>Q747074</td>\n",
       "      <td>6.482318e-01</td>\n",
       "      <td>22002</td>\n",
       "      <td>2</td>\n",
       "    </tr>\n",
       "    <tr>\n",
       "      <th>3</th>\n",
       "      <td>Q100092</td>\n",
       "      <td>P1082</td>\n",
       "      <td>6.460000e+03</td>\n",
       "      <td>San Cesario sul Panaro</td>\n",
       "      <td>population</td>\n",
       "      <td>Q747074</td>\n",
       "      <td>1.551299e-06</td>\n",
       "      <td>81</td>\n",
       "      <td>3</td>\n",
       "    </tr>\n",
       "    <tr>\n",
       "      <th>4</th>\n",
       "      <td>Q111736</td>\n",
       "      <td>P2046</td>\n",
       "      <td>1.768000e+07</td>\n",
       "      <td>Sarezzo</td>\n",
       "      <td>area</td>\n",
       "      <td>Q747074</td>\n",
       "      <td>2.903120e-12</td>\n",
       "      <td>4083</td>\n",
       "      <td>4</td>\n",
       "    </tr>\n",
       "    <tr>\n",
       "      <th>...</th>\n",
       "      <td>...</td>\n",
       "      <td>...</td>\n",
       "      <td>...</td>\n",
       "      <td>...</td>\n",
       "      <td>...</td>\n",
       "      <td>...</td>\n",
       "      <td>...</td>\n",
       "      <td>...</td>\n",
       "      <td>...</td>\n",
       "    </tr>\n",
       "    <tr>\n",
       "      <th>237041</th>\n",
       "      <td>Q128925</td>\n",
       "      <td>P2067</td>\n",
       "      <td>7.500000e+01</td>\n",
       "      <td>Nicolai Boilesen</td>\n",
       "      <td>mass</td>\n",
       "      <td>Q5</td>\n",
       "      <td>3.770587e-29</td>\n",
       "      <td>7688</td>\n",
       "      <td>5</td>\n",
       "    </tr>\n",
       "    <tr>\n",
       "      <th>237042</th>\n",
       "      <td>Q6081</td>\n",
       "      <td>P625_Latitude</td>\n",
       "      <td>5.183333e+01</td>\n",
       "      <td>Salzlandkreis</td>\n",
       "      <td>coordinate location(latitude)</td>\n",
       "      <td>Q17302772</td>\n",
       "      <td>7.879630e-01</td>\n",
       "      <td>13348</td>\n",
       "      <td>0</td>\n",
       "    </tr>\n",
       "    <tr>\n",
       "      <th>237043</th>\n",
       "      <td>Q7612645</td>\n",
       "      <td>P2048</td>\n",
       "      <td>1.880000e+00</td>\n",
       "      <td>Steve Giatzoglou</td>\n",
       "      <td>height</td>\n",
       "      <td>Q5</td>\n",
       "      <td>1.848563e-04</td>\n",
       "      <td>43339</td>\n",
       "      <td>27</td>\n",
       "    </tr>\n",
       "    <tr>\n",
       "      <th>237044</th>\n",
       "      <td>Q7234759</td>\n",
       "      <td>P569</td>\n",
       "      <td>1.948000e+03</td>\n",
       "      <td>Ken Murray</td>\n",
       "      <td>date of birth</td>\n",
       "      <td>Q5</td>\n",
       "      <td>9.741294e-01</td>\n",
       "      <td>42386</td>\n",
       "      <td>9</td>\n",
       "    </tr>\n",
       "    <tr>\n",
       "      <th>237045</th>\n",
       "      <td>Q21979713</td>\n",
       "      <td>P2046</td>\n",
       "      <td>2.375000e+07</td>\n",
       "      <td>Ventalon-en-Cévennes</td>\n",
       "      <td>area</td>\n",
       "      <td>Q484170</td>\n",
       "      <td>3.899836e-12</td>\n",
       "      <td>19764</td>\n",
       "      <td>4</td>\n",
       "    </tr>\n",
       "  </tbody>\n",
       "</table>\n",
       "<p>237046 rows × 9 columns</p>\n",
       "</div>"
      ],
      "text/plain": [
       "                e               a             v                  name_e  \\\n",
       "0         Q593336   P625_Latitude  4.315194e+01               Poumarous   \n",
       "1         Q511127  P625_Longtiude  3.301111e+00                    Nant   \n",
       "2          Q59293  P1332_Latitude  4.329426e+01      Porto Sant'Elpidio   \n",
       "3         Q100092           P1082  6.460000e+03  San Cesario sul Panaro   \n",
       "4         Q111736           P2046  1.768000e+07                 Sarezzo   \n",
       "...           ...             ...           ...                     ...   \n",
       "237041    Q128925           P2067  7.500000e+01        Nicolai Boilesen   \n",
       "237042      Q6081   P625_Latitude  5.183333e+01           Salzlandkreis   \n",
       "237043   Q7612645           P2048  1.880000e+00        Steve Giatzoglou   \n",
       "237044   Q7234759            P569  1.948000e+03              Ken Murray   \n",
       "237045  Q21979713           P2046  2.375000e+07    Ventalon-en-Cévennes   \n",
       "\n",
       "                                   name_a   ent_type        minmax  e_idx  \\\n",
       "0           coordinate location(latitude)    Q484170  7.397330e-01  38633   \n",
       "1          coordinate location(logtitude)    Q484170  5.068894e-01  34409   \n",
       "2       coordinates of northernmost point    Q747074  6.482318e-01  22002   \n",
       "3                              population    Q747074  1.551299e-06     81   \n",
       "4                                    area    Q747074  2.903120e-12   4083   \n",
       "...                                   ...        ...           ...    ...   \n",
       "237041                               mass         Q5  3.770587e-29   7688   \n",
       "237042      coordinate location(latitude)  Q17302772  7.879630e-01  13348   \n",
       "237043                             height         Q5  1.848563e-04  43339   \n",
       "237044                      date of birth         Q5  9.741294e-01  42386   \n",
       "237045                               area    Q484170  3.899836e-12  19764   \n",
       "\n",
       "        a_idx  \n",
       "0           0  \n",
       "1           1  \n",
       "2           2  \n",
       "3           3  \n",
       "4           4  \n",
       "...       ...  \n",
       "237041      5  \n",
       "237042      0  \n",
       "237043     27  \n",
       "237044      9  \n",
       "237045      4  \n",
       "\n",
       "[237046 rows x 9 columns]"
      ]
     },
     "execution_count": 76,
     "metadata": {},
     "output_type": "execute_result"
    }
   ],
   "source": [
    "attri_data"
   ]
  },
  {
   "cell_type": "code",
   "execution_count": 79,
   "metadata": {},
   "outputs": [],
   "source": [
    "y= attri_data.loc[:,'v'].values"
   ]
  },
  {
   "cell_type": "code",
   "execution_count": 77,
   "metadata": {},
   "outputs": [
    {
     "data": {
      "text/plain": [
       "array([-0.03002811, -0.1611208 ,  0.02539371, ..., -0.617102  ,\n",
       "        0.1676537 , -0.11097395], dtype=float32)"
      ]
     },
     "execution_count": 77,
     "metadata": {},
     "output_type": "execute_result"
    }
   ],
   "source": [
    "x[:,1]"
   ]
  },
  {
   "cell_type": "code",
   "execution_count": 80,
   "metadata": {},
   "outputs": [],
   "source": [
    "X_train, y_train = x, y "
   ]
  },
  {
   "cell_type": "code",
   "execution_count": 17,
   "metadata": {},
   "outputs": [],
   "source": [
    "# from sklearn.model_selection import train_test_split\n",
    "# X_train, X_test, y_train, y_test = train_test_split(x, y,test_size=0.2, random_state=802)"
   ]
  },
  {
   "cell_type": "code",
   "execution_count": 84,
   "metadata": {},
   "outputs": [],
   "source": [
    "nn=MLPRegressor(hidden_layer_sizes=(256),  #預設值1層,數目100\n",
    "         activation='relu',  #{'identity'(回歸)無，'logistic'為sigmoid，'tanh'，'relu'}，預設='relu'\n",
    "         solver='adam',   #{'lbfgs'牛頓，'sgd'隨機梯度，'adam'隨機梯度優化}，預設='adam'\n",
    "         batch_size=32,  #'auto'為min(200～樣本數)\n",
    "         learning_rate='constant',  #constant固定'，'invscaling隨著時間遞減'，'adaptive誤差減少時不改變'}，預設 ='constant' \n",
    "         learning_rate_init=0.001, #優化器為sgd、adam使用\n",
    "         power_t=0.5,     # 優化器為sgd，則可以設定強化學習率   \n",
    "         max_iter=50,    #訓練次數\n",
    "         shuffle=True,    \n",
    "         random_state=1,   #隨機的基礎值\n",
    "         momentum=0.9,\n",
    "        alpha=0.01, #正則\n",
    "        verbose=True)"
   ]
  },
  {
   "cell_type": "code",
   "execution_count": null,
   "metadata": {},
   "outputs": [],
   "source": []
  },
  {
   "cell_type": "code",
   "execution_count": 85,
   "metadata": {},
   "outputs": [
    {
     "name": "stdout",
     "output_type": "stream",
     "text": [
      "Iteration 1, loss = 8340855974373046987853782002678472118332082175499829248.00000000\n",
      "Iteration 2, loss = 8340855974373046987853782002678472118332082175499829248.00000000\n",
      "Iteration 3, loss = 8340855974373046987853782002678472118332082175499829248.00000000\n",
      "Iteration 4, loss = 8340855974373046987853782002678472118332082175499829248.00000000\n",
      "Iteration 5, loss = 8340855974373046987853782002678472118332082175499829248.00000000\n",
      "Iteration 6, loss = 8340855974373046987853782002678472118332082175499829248.00000000\n",
      "Iteration 7, loss = 8340855974373046987853782002678472118332082175499829248.00000000\n",
      "Iteration 8, loss = 8340855974373045626724314318924618264833652448426983424.00000000\n",
      "Iteration 9, loss = 8340855974373046987853782002678472118332082175499829248.00000000\n",
      "Iteration 10, loss = 8340855974373046987853782002678472118332082175499829248.00000000\n",
      "Iteration 11, loss = 8340855974373045626724314318924618264833652448426983424.00000000\n",
      "Iteration 12, loss = 8340855974373045626724314318924618264833652448426983424.00000000\n",
      "Iteration 13, loss = 8340855974373046987853782002678472118332082175499829248.00000000\n",
      "Iteration 14, loss = 8340855974373046987853782002678472118332082175499829248.00000000\n",
      "Iteration 15, loss = 8340855974373046987853782002678472118332082175499829248.00000000\n",
      "Iteration 16, loss = 8340855974373046987853782002678472118332082175499829248.00000000\n",
      "Iteration 17, loss = 8340855974373046987853782002678472118332082175499829248.00000000\n",
      "Iteration 18, loss = 8340855974373046987853782002678472118332082175499829248.00000000\n",
      "Iteration 19, loss = 8340855974373045626724314318924618264833652448426983424.00000000\n",
      "Iteration 20, loss = 8340855974373045626724314318924618264833652448426983424.00000000\n",
      "Iteration 21, loss = 8340855974373045626724314318924618264833652448426983424.00000000\n",
      "Iteration 22, loss = 8340855974373046987853782002678472118332082175499829248.00000000\n",
      "Iteration 23, loss = 8340855974373045626724314318924618264833652448426983424.00000000\n",
      "Iteration 24, loss = 8340855974373046987853782002678472118332082175499829248.00000000\n",
      "Iteration 25, loss = 8340855974373046987853782002678472118332082175499829248.00000000\n",
      "Iteration 26, loss = 8340855974373046987853782002678472118332082175499829248.00000000\n",
      "Iteration 27, loss = 8340855974373045626724314318924618264833652448426983424.00000000\n",
      "Iteration 28, loss = 8340855974373046987853782002678472118332082175499829248.00000000\n",
      "Iteration 29, loss = 8340855974373045626724314318924618264833652448426983424.00000000\n",
      "Iteration 30, loss = 8340855974373045626724314318924618264833652448426983424.00000000\n",
      "Iteration 31, loss = 8340855974373046987853782002678472118332082175499829248.00000000\n",
      "Iteration 32, loss = 8340855974373045626724314318924618264833652448426983424.00000000\n",
      "Iteration 33, loss = 8340855974373045626724314318924618264833652448426983424.00000000\n",
      "Iteration 34, loss = 8340855974373045626724314318924618264833652448426983424.00000000\n",
      "Iteration 35, loss = 8340855974373045626724314318924618264833652448426983424.00000000\n",
      "Iteration 36, loss = 8340855974373045626724314318924618264833652448426983424.00000000\n",
      "Iteration 37, loss = 8340855974373045626724314318924618264833652448426983424.00000000\n",
      "Iteration 38, loss = 8340855974373046987853782002678472118332082175499829248.00000000\n",
      "Iteration 39, loss = 8340855974373045626724314318924618264833652448426983424.00000000\n",
      "Iteration 40, loss = 8340855974373045626724314318924618264833652448426983424.00000000\n",
      "Iteration 41, loss = 8340855974373045626724314318924618264833652448426983424.00000000\n",
      "Iteration 42, loss = 8340855974373046987853782002678472118332082175499829248.00000000\n",
      "Iteration 43, loss = 8340855974373045626724314318924618264833652448426983424.00000000\n",
      "Iteration 44, loss = 8340855974373046987853782002678472118332082175499829248.00000000\n",
      "Iteration 45, loss = 8340855974373046987853782002678472118332082175499829248.00000000\n",
      "Iteration 46, loss = 8340855974373045626724314318924618264833652448426983424.00000000\n",
      "Iteration 47, loss = 8340855974373046987853782002678472118332082175499829248.00000000\n",
      "Iteration 48, loss = 8340855974373046987853782002678472118332082175499829248.00000000\n",
      "Iteration 49, loss = 8340855974373045626724314318924618264833652448426983424.00000000\n",
      "Iteration 50, loss = 8340855974373045626724314318924618264833652448426983424.00000000\n"
     ]
    },
    {
     "name": "stderr",
     "output_type": "stream",
     "text": [
      "/projekte/tcl/tclext/kgc_chu/neuenv/lib/python3.7/site-packages/sklearn/neural_network/_multilayer_perceptron.py:696: ConvergenceWarning: Stochastic Optimizer: Maximum iterations (50) reached and the optimization hasn't converged yet.\n",
      "  ConvergenceWarning,\n"
     ]
    }
   ],
   "source": [
    "nn.fit(X_train, y_train)\n",
    "y_predtrain=nn.predict(X_train)"
   ]
  },
  {
   "cell_type": "code",
   "execution_count": 83,
   "metadata": {},
   "outputs": [
    {
     "name": "stdout",
     "output_type": "stream",
     "text": [
      "MSE= 1.668171194874609e+55\n",
      "RMSE= 4.084325152181948e+27\n",
      "MAE= 8.394835376503991e+24\n",
      "R2: -4.080808307344429e+43\n"
     ]
    }
   ],
   "source": [
    "from sklearn.metrics import mean_squared_error\n",
    "from sklearn.metrics import mean_absolute_error\n",
    "from math import sqrt\n",
    "import numpy as np\n",
    "\n",
    "MSE = mean_squared_error(y_train, y_predtrain)\n",
    "print('MSE=',MSE)\n",
    "RMSE =np.sqrt(MSE)\n",
    "print('RMSE=',RMSE)\n",
    "MAE= mean_absolute_error(y_train, y_predtrain)\n",
    "print('MAE=',MAE)\n",
    "\n",
    "R2=1-MSE/np.var(y_predtrain)\n",
    "print(\"R2:\", R2)"
   ]
  },
  {
   "cell_type": "code",
   "execution_count": 18,
   "metadata": {},
   "outputs": [
    {
     "name": "stderr",
     "output_type": "stream",
     "text": [
      "/projekte/tcl/tclext/kgc_chu/neuenv/lib/python3.7/site-packages/ipykernel_launcher.py:5: RuntimeWarning: divide by zero encountered in true_divide\n",
      "  \"\"\"\n"
     ]
    },
    {
     "data": {
      "text/plain": [
       "array([1.94538076e-02, 7.18272868e-03, 9.46137713e-03, ...,\n",
       "       8.62863626e+00, 7.93208177e-03, 4.10372323e+07])"
      ]
     },
     "execution_count": 18,
     "metadata": {},
     "output_type": "execute_result"
    }
   ],
   "source": [
    "ytrain = []\n",
    "for value in y_train:\n",
    "    ytrain.append(value)\n",
    "count=0\n",
    "errvalue=abs((ytrain-y_predtrain)/ytrain)\n",
    "errvalue"
   ]
  },
  {
   "cell_type": "code",
   "execution_count": 19,
   "metadata": {},
   "outputs": [
    {
     "name": "stdout",
     "output_type": "stream",
     "text": [
      "通過門檻筆數 60959\n",
      "通過門檻百分比 0.25716105734751904\n"
     ]
    }
   ],
   "source": [
    "threshold=0.02  #門檻值\n",
    "for i in range(len(errvalue)):\n",
    "  if errvalue[i]<threshold:           \n",
    "    count=count+1\n",
    "print(\"通過門檻筆數\",count)\n",
    "print(\"通過門檻百分比\",count/len(errvalue))"
   ]
  },
  {
   "cell_type": "code",
   "execution_count": 61,
   "metadata": {},
   "outputs": [
    {
     "data": {
      "text/plain": [
       "array([ 0.54091746, -0.0991256 ,  0.5813133 , ...,  0.08488109,\n",
       "       -0.10426868,  0.09598347], dtype=float32)"
      ]
     },
     "execution_count": 61,
     "metadata": {},
     "output_type": "execute_result"
    }
   ],
   "source": [
    "y_pred=nn.predict(X_test)\n",
    "y_pred"
   ]
  },
  {
   "cell_type": "code",
   "execution_count": 62,
   "metadata": {},
   "outputs": [
    {
     "name": "stdout",
     "output_type": "stream",
     "text": [
      "MSE= 0.00771702871132517\n",
      "RMSE= 0.08784662037508996\n",
      "MAE= 0.059130715044269345\n",
      "R2: 0.946369884237033\n"
     ]
    }
   ],
   "source": [
    "from sklearn.metrics import mean_squared_error\n",
    "from sklearn.metrics import mean_absolute_error\n",
    "from math import sqrt\n",
    "import numpy as np\n",
    "\n",
    "MSE = mean_squared_error(y_test, y_pred)\n",
    "print('MSE=',MSE)\n",
    "RMSE =np.sqrt(MSE)\n",
    "print('RMSE=',RMSE)\n",
    "MAE= mean_absolute_error(y_test, y_pred)\n",
    "print('MAE=',MAE)\n",
    "\n",
    "R2=1-MSE/np.var(y_test)\n",
    "print(\"R2:\", R2)\n",
    "\n",
    "# ytest = []\n",
    "# for value in y_test:\n",
    "#     ytest.append(value)\n",
    "# count=0\n",
    "# errvalue=abs((ytest-y_pred)/ytest)\n",
    "# ytest"
   ]
  },
  {
   "cell_type": "code",
   "execution_count": 32,
   "metadata": {},
   "outputs": [
    {
     "name": "stdout",
     "output_type": "stream",
     "text": [
      "通過門檻筆數 583\n",
      "通過門檻百分比 0.019675340015524283\n"
     ]
    }
   ],
   "source": [
    "threshold=0.01  #門檻值\n",
    "for i in range(len(errvalue)):\n",
    "  if errvalue[i]<0.01:           \n",
    "    count=count+1\n",
    "print(\"通過門檻筆數\",count)\n",
    "print(\"通過門檻百分比\",count/len(errvalue))"
   ]
  },
  {
   "cell_type": "code",
   "execution_count": null,
   "metadata": {},
   "outputs": [],
   "source": []
  },
  {
   "cell_type": "code",
   "execution_count": 47,
   "metadata": {},
   "outputs": [
    {
     "name": "stdout",
     "output_type": "stream",
     "text": [
      "[-5.16471977e-04  2.01634387e-03  3.67743225e-04 -1.22812157e-03\n",
      " -4.09318105e-04 -1.49477576e-03  5.30582329e-04 -5.84212539e-04\n",
      " -1.52182067e-04  1.29190285e-03 -8.43106885e-04  1.69864169e-03\n",
      "  6.54089497e-04  6.58057324e-05 -1.67014761e-04  2.49739358e-04\n",
      " -3.46214714e-04 -3.59195331e-03 -3.33673379e-04  3.50631686e-04\n",
      " -1.96854788e-04 -1.66668207e-04 -3.85819422e-03  8.19805311e-04\n",
      " -5.69804863e-04 -1.13583717e-03 -1.59220910e-03 -3.77230375e-04\n",
      " -1.40718024e-04 -1.39299489e-04 -1.74432265e-04  7.74300715e-05\n",
      " -3.59961326e-04  9.84100261e-05 -4.76161391e-03  3.17578961e-05\n",
      "  1.56872778e-03 -2.53054663e-04  2.61779787e-04  7.78805581e-04\n",
      " -2.62351800e-03  4.70866187e-04  1.11015863e-03 -8.96150479e-04\n",
      "  1.49972679e-03 -1.06779533e-02  2.15474446e-03  2.67991738e-04\n",
      " -4.20034630e-04 -9.55233932e-04  2.87602801e-04  3.04002780e-04\n",
      " -1.76452158e-03  2.52298138e-04  1.96269859e-04 -2.15611211e-03\n",
      "  5.32028731e-04  3.21957679e-03  1.66951591e-04 -2.14185580e-04\n",
      " -5.62372501e-04 -1.13395285e-02 -3.70909329e-05  3.96007352e-04\n",
      "  1.54861671e-04 -4.36233450e-03 -9.63211733e-07 -8.37647356e-04\n",
      " -2.77265954e-05 -8.48256052e-04  1.01458968e-03 -9.51439608e-04\n",
      "  4.14675014e-04  6.61298982e-04 -5.28607925e-04 -5.31720056e-04\n",
      "  1.31574762e-03  1.32500127e-05 -7.59545655e-04  1.15607807e-03\n",
      "  3.89828085e-04  1.77655194e-03 -6.23162545e-04 -9.68739987e-05\n",
      "  5.16884436e-04 -6.54018309e-04  5.62312873e-03  6.57466531e-04\n",
      " -8.52268597e-04  5.32977807e-04  9.52994335e-04 -3.12790042e-04\n",
      "  3.04528582e-03  8.38271459e-04  2.62076530e-04 -4.29627660e-04\n",
      "  1.14863622e-03  1.05075387e-03  4.32193279e-03  7.46435617e-05\n",
      "  5.66102332e-04 -1.24983618e-03 -2.28245830e-04 -4.64951940e-04\n",
      "  9.44386330e-03 -6.97078242e-04  3.36691184e-04 -7.54938083e-05\n",
      "  9.35082498e-05 -8.11755285e-03  8.32102727e-04 -6.22451596e-04\n",
      " -4.80628551e-05 -2.81560497e-04  4.37293493e-04  2.11770501e-04\n",
      "  4.13652015e-04 -7.68137670e-06  7.61671981e-04  1.62951113e-03\n",
      " -2.47194024e-04  1.20955927e-03 -2.02733185e-03  2.67654279e-04\n",
      " -4.97872883e-04 -7.16639636e-03 -4.32542642e-04 -4.63708966e-05\n",
      " -9.33706854e-03  8.57691616e-02 -1.30035216e-02 -4.49201725e-02\n",
      "  1.46919684e-02  4.14767712e-01 -2.03789726e-01  1.69391856e-01\n",
      "  1.01378679e-01  1.05277359e-01  2.17396885e-01 -3.54728848e-02\n",
      "  5.49457297e-02 -1.32751793e-01 -3.74370098e-01  3.23924154e-01\n",
      " -1.00377925e-01 -3.56405437e-01 -2.35495400e-02 -2.58975010e-02\n",
      "  3.90889913e-01 -9.73698273e-02  1.11602796e-02 -9.57557410e-02\n",
      "  1.59554765e-01 -9.06669647e-02 -4.12488692e-02  3.17390785e-02\n",
      "  1.63454339e-01 -2.04024203e-02 -1.49828866e-01  6.37995079e-02\n",
      " -1.20603681e-01  1.91180080e-01 -3.55078354e-02 -1.45183638e-01\n",
      " -1.27135485e-01 -9.16887447e-02  1.01728082e-01 -1.99225042e-02\n",
      " -2.90244222e-01 -1.62136465e-01  2.87935823e-01  9.14120823e-02\n",
      " -3.15894246e-01 -8.52995962e-02  4.17959362e-01  2.00039715e-01\n",
      " -5.62602431e-02 -2.19272643e-01 -1.63502738e-01  5.77811673e-02\n",
      " -2.99931150e-02  5.42153940e-02  2.51612157e-01 -2.21210822e-01\n",
      " -2.70511568e-01  3.72173548e-01 -8.01392049e-02  1.87455967e-01\n",
      "  2.72537202e-01  2.03897450e-02  8.40178207e-02 -2.53516901e-02\n",
      " -6.83868155e-02 -6.66731596e-02  3.78341116e-02  4.22290601e-02\n",
      "  1.24940760e-01 -9.69774351e-02  1.31810576e-01  1.77875091e-03\n",
      " -7.33799264e-02  1.02792487e-01 -2.32946545e-01 -1.70190074e-02\n",
      " -3.41600738e-03 -7.78823569e-02  2.30116807e-02  7.71100149e-02\n",
      "  2.16652825e-01 -6.92567766e-01  1.18887581e-01  2.45184544e-02\n",
      "  2.41697915e-02 -6.35245815e-02  1.47946339e-04 -2.59717077e-01\n",
      " -2.29261070e-01 -4.63236198e-02  3.62548269e-02 -1.65537775e-01\n",
      " -1.34000525e-01  1.01333581e-01 -2.63908878e-03  2.97949947e-02\n",
      "  1.89430878e-01  3.81057978e-01  1.20934807e-01  3.70837152e-02\n",
      " -2.19233811e-01  1.47118852e-01 -2.08840668e-01 -9.06491205e-02\n",
      " -8.38060454e-02  3.05738281e-02  1.65676743e-01  8.34116563e-02\n",
      "  2.09211007e-01 -5.59496097e-02  2.58217275e-01 -3.21031362e-02\n",
      "  2.89758351e-02 -9.77279171e-02 -2.80444294e-01 -1.16283543e-01\n",
      " -4.82878536e-02 -4.62313518e-02 -2.47150157e-02  1.52271345e-01\n",
      "  8.46979171e-02 -2.77462117e-02 -1.91527605e-01  5.98859042e-03\n",
      "  2.29340732e-01  2.59772269e-03  1.41816482e-01 -1.25244692e-01]\n"
     ]
    },
    {
     "name": "stderr",
     "output_type": "stream",
     "text": [
      "/projekte/tcl/tclext/kgc_chu/neuenv/lib/python3.7/site-packages/sklearn/linear_model/_ridge.py:157: LinAlgWarning: Ill-conditioned matrix (rcond=1.47092e-08): result may not be accurate.\n",
      "  return linalg.solve(A, Xy, sym_pos=True, overwrite_a=True).T\n"
     ]
    }
   ],
   "source": [
    "from sklearn import linear_model\n",
    "reg = linear_model.Ridge(alpha=.52)#調整alpha值決定正則化的強度\n",
    "reg.fit(X_train, y_train)\n",
    "print(reg.coef_) # 印出訓練後的模型參數，數值都明顯小於單純的線性回歸\n",
    "y_predtrain = reg.predict(X_train)"
   ]
  },
  {
   "cell_type": "code",
   "execution_count": 42,
   "metadata": {},
   "outputs": [
    {
     "name": "stdout",
     "output_type": "stream",
     "text": [
      "MSE= 3.220578710718283e+40\n",
      "RMSE= 1.7945970886854472e+20\n",
      "MAE= 6.87268669111927e+18\n",
      "R2: 1.0\n"
     ]
    },
    {
     "name": "stderr",
     "output_type": "stream",
     "text": [
      "/projekte/tcl/tclext/kgc_chu/neuenv/lib/python3.7/site-packages/numpy/core/_methods.py:233: RuntimeWarning: overflow encountered in multiply\n",
      "  x = um.multiply(x, x, out=x)\n",
      "/projekte/tcl/tclext/kgc_chu/neuenv/lib/python3.7/site-packages/numpy/core/_methods.py:244: RuntimeWarning: overflow encountered in reduce\n",
      "  ret = umr_sum(x, axis, dtype, out, keepdims=keepdims, where=where)\n"
     ]
    }
   ],
   "source": [
    "from sklearn.metrics import mean_squared_error\n",
    "from sklearn.metrics import mean_absolute_error\n",
    "from math import sqrt\n",
    "import numpy as np\n",
    "\n",
    "MSE = mean_squared_error(y_train, y_predtrain)\n",
    "print('MSE=',MSE)\n",
    "RMSE =np.sqrt(MSE)\n",
    "print('RMSE=',RMSE)\n",
    "MAE= mean_absolute_error(y_train, y_predtrain)\n",
    "print('MAE=',MAE)\n",
    "\n",
    "R2=1-MSE/np.var(y_predtrain)\n",
    "print(\"R2:\", R2)"
   ]
  },
  {
   "cell_type": "code",
   "execution_count": 49,
   "metadata": {},
   "outputs": [
    {
     "name": "stdout",
     "output_type": "stream",
     "text": [
      "0.6\n"
     ]
    }
   ],
   "source": [
    "from sklearn.linear_model import RidgeCV\n",
    "rcv = RidgeCV(alphas=np.array([.6, .7, .8, .9]))\n",
    "rcv.fit(X_train, y_train)\n",
    "#RidgeCV(alphas=array([0.1, 0.2, 0.3, 0.4]), cv=None, fit_intercept=True,\n",
    "       # gcv_mode=None, normalize=False, scoring=None, store_cv_values=False)\n",
    "print(rcv.alpha_)"
   ]
  },
  {
   "cell_type": "code",
   "execution_count": 50,
   "metadata": {
    "scrolled": true
   },
   "outputs": [
    {
     "name": "stdout",
     "output_type": "stream",
     "text": [
      "0.63\n"
     ]
    }
   ],
   "source": [
    "rcv2 = RidgeCV(alphas=np.array([.63, .64, .65, .66, .67]))\n",
    "rcv2.fit(X_train, y_train)\n",
    "print(rcv2.alpha_)"
   ]
  },
  {
   "cell_type": "code",
   "execution_count": 51,
   "metadata": {},
   "outputs": [
    {
     "data": {
      "text/plain": [
       "RidgeCV(alphas=array([0.01      , 0.03020408, 0.05040816, 0.07061224, 0.09081633,\n",
       "       0.11102041, 0.13122449, 0.15142857, 0.17163265, 0.19183673,\n",
       "       0.21204082, 0.2322449 , 0.25244898, 0.27265306, 0.29285714,\n",
       "       0.31306122, 0.33326531, 0.35346939, 0.37367347, 0.39387755,\n",
       "       0.41408163, 0.43428571, 0.4544898 , 0.47469388, 0.49489796,\n",
       "       0.51510204, 0.53530612, 0.5555102 , 0.57571429, 0.59591837,\n",
       "       0.61612245, 0.63632653, 0.65653061, 0.67673469, 0.69693878,\n",
       "       0.71714286, 0.73734694, 0.75755102, 0.7777551 , 0.79795918,\n",
       "       0.81816327, 0.83836735, 0.85857143, 0.87877551, 0.89897959,\n",
       "       0.91918367, 0.93938776, 0.95959184, 0.97979592, 1.        ]),\n",
       "        store_cv_values=True)"
      ]
     },
     "execution_count": 51,
     "metadata": {},
     "output_type": "execute_result"
    }
   ],
   "source": [
    "alphas_to_test = np.linspace(0.01, 1)\n",
    "rcv3 = RidgeCV(alphas=alphas_to_test, store_cv_values=True)\n",
    "rcv3.fit(X_train, y_train)"
   ]
  },
  {
   "cell_type": "code",
   "execution_count": 47,
   "metadata": {
    "scrolled": true
   },
   "outputs": [
    {
     "data": {
      "text/plain": [
       "(122474, 50)"
      ]
     },
     "execution_count": 47,
     "metadata": {},
     "output_type": "execute_result"
    }
   ],
   "source": [
    "rcv3.cv_values_.shape"
   ]
  },
  {
   "cell_type": "code",
   "execution_count": 52,
   "metadata": {},
   "outputs": [],
   "source": [
    "def MAD(target, predictions):\n",
    "    absolute_deviation = np.abs(target - predictions)\n",
    "    return absolute_deviation.mean()"
   ]
  },
  {
   "cell_type": "code",
   "execution_count": 53,
   "metadata": {},
   "outputs": [
    {
     "data": {
      "text/plain": [
       "0.01"
      ]
     },
     "execution_count": 53,
     "metadata": {},
     "output_type": "execute_result"
    }
   ],
   "source": [
    "import sklearn\n",
    "MAD = sklearn.metrics.make_scorer(MAD, greater_is_better=False)\n",
    "rcv4 = RidgeCV(alphas=alphas_to_test, store_cv_values=True,scoring=MAD)\n",
    "rcv4.fit(X_train, y_train)\n",
    "smallest_idx = rcv4.cv_values_.mean(axis=0).argmin()\n",
    "alphas_to_test[smallest_idx]"
   ]
  }
 ],
 "metadata": {
  "kernelspec": {
   "display_name": "Python 3 (ipykernel)",
   "language": "python",
   "name": "python3"
  },
  "language_info": {
   "codemirror_mode": {
    "name": "ipython",
    "version": 3
   },
   "file_extension": ".py",
   "mimetype": "text/x-python",
   "name": "python",
   "nbconvert_exporter": "python",
   "pygments_lexer": "ipython3",
   "version": "3.7.9"
  },
  "vscode": {
   "interpreter": {
    "hash": "58040a4f1aa4f5275e06049c30a95750b5a145ef4b58852d0762723662f03261"
   }
  }
 },
 "nbformat": 4,
 "nbformat_minor": 2
}

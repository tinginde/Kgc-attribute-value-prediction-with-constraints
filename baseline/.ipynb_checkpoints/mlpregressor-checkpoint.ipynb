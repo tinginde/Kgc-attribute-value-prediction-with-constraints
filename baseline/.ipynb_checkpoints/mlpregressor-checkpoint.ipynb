{
 "cells": [
  {
   "cell_type": "code",
   "execution_count": 5,
   "metadata": {},
   "outputs": [],
   "source": [
    "import numpy as np\n",
    "import pandas as pd\n",
    "import pickle\n",
    "import matplotlib.pyplot as plt\n",
    "from sklearn.neural_network import MLPRegressor\n",
    "import torch\n",
    "import torch.nn"
   ]
  },
  {
   "cell_type": "code",
   "execution_count": 6,
   "metadata": {},
   "outputs": [
    {
     "name": "stdout",
     "output_type": "stream",
     "text": [
      "torch.Size([47998, 128])\n",
      "47998\n"
     ]
    }
   ],
   "source": [
    "emb_ent = torch.load('../LiterallyWikidata/files_needed/pretrained_kge/pretrained_complex_entemb.pt')\n",
    "print(emb_ent.shape)\n",
    "list_ent_ids =[]\n",
    "with open('../LiterallyWikidata/files_needed/list_ent_ids.txt','r') as f:\n",
    "    for line in f:\n",
    "        list_ent_ids.append(line.strip())\n",
    "print(len(list_ent_ids))\n",
    "\n",
    "attri_data = pd.read_csv('../LiterallyWikidata/files_needed/nogeo_df48_var')\n",
    "\n",
    "#attri_data['e'][0] --> find list idx --> emb.ent[idx]\n",
    "ent2idx = {e:i for i,e in enumerate(list_ent_ids)}\n",
    "attri_data['list_idx']=attri_data['e'].map(ent2idx)\n",
    "\n",
    "\n",
    "weight = emb_ent\n",
    "embedding = torch.nn.Embedding.from_pretrained(weight)\n",
    "input = torch.LongTensor(attri_data['list_idx'].to_numpy())\n"
   ]
  },
  {
   "cell_type": "code",
   "execution_count": 5,
   "metadata": {},
   "outputs": [
    {
     "data": {
      "text/html": [
       "<div>\n",
       "<style scoped>\n",
       "    .dataframe tbody tr th:only-of-type {\n",
       "        vertical-align: middle;\n",
       "    }\n",
       "\n",
       "    .dataframe tbody tr th {\n",
       "        vertical-align: top;\n",
       "    }\n",
       "\n",
       "    .dataframe thead th {\n",
       "        text-align: right;\n",
       "    }\n",
       "</style>\n",
       "<table border=\"1\" class=\"dataframe\">\n",
       "  <thead>\n",
       "    <tr style=\"text-align: right;\">\n",
       "      <th></th>\n",
       "      <th>e</th>\n",
       "      <th>a</th>\n",
       "      <th>v</th>\n",
       "      <th>name_e</th>\n",
       "      <th>name_a</th>\n",
       "      <th>ent_type</th>\n",
       "      <th>std_v</th>\n",
       "      <th>list_idx</th>\n",
       "    </tr>\n",
       "  </thead>\n",
       "  <tbody>\n",
       "    <tr>\n",
       "      <th>0</th>\n",
       "      <td>Q1000056</td>\n",
       "      <td>P1082</td>\n",
       "      <td>11032.0</td>\n",
       "      <td>Sušice</td>\n",
       "      <td>population</td>\n",
       "      <td>Q7841907</td>\n",
       "      <td>-0.030708</td>\n",
       "      <td>5</td>\n",
       "    </tr>\n",
       "    <tr>\n",
       "      <th>1</th>\n",
       "      <td>Q1000056</td>\n",
       "      <td>P2044</td>\n",
       "      <td>472.0</td>\n",
       "      <td>Sušice</td>\n",
       "      <td>elevation above sea level</td>\n",
       "      <td>Q7841907</td>\n",
       "      <td>-0.031042</td>\n",
       "      <td>5</td>\n",
       "    </tr>\n",
       "    <tr>\n",
       "      <th>2</th>\n",
       "      <td>Q1000056</td>\n",
       "      <td>P2046</td>\n",
       "      <td>45630000.0</td>\n",
       "      <td>Sušice</td>\n",
       "      <td>area</td>\n",
       "      <td>Q7841907</td>\n",
       "      <td>1.411756</td>\n",
       "      <td>5</td>\n",
       "    </tr>\n",
       "    <tr>\n",
       "      <th>3</th>\n",
       "      <td>Q1000138</td>\n",
       "      <td>P1082</td>\n",
       "      <td>1375.0</td>\n",
       "      <td>Cantenac</td>\n",
       "      <td>population</td>\n",
       "      <td>Q484170</td>\n",
       "      <td>-0.031014</td>\n",
       "      <td>8</td>\n",
       "    </tr>\n",
       "    <tr>\n",
       "      <th>4</th>\n",
       "      <td>Q1000138</td>\n",
       "      <td>P2044</td>\n",
       "      <td>1.0</td>\n",
       "      <td>Cantenac</td>\n",
       "      <td>elevation above sea level</td>\n",
       "      <td>Q484170</td>\n",
       "      <td>-0.031057</td>\n",
       "      <td>8</td>\n",
       "    </tr>\n",
       "  </tbody>\n",
       "</table>\n",
       "</div>"
      ],
      "text/plain": [
       "          e      a           v    name_e                     name_a  ent_type  \\\n",
       "0  Q1000056  P1082     11032.0    Sušice                 population  Q7841907   \n",
       "1  Q1000056  P2044       472.0    Sušice  elevation above sea level  Q7841907   \n",
       "2  Q1000056  P2046  45630000.0    Sušice                       area  Q7841907   \n",
       "3  Q1000138  P1082      1375.0  Cantenac                 population   Q484170   \n",
       "4  Q1000138  P2044         1.0  Cantenac  elevation above sea level   Q484170   \n",
       "\n",
       "      std_v  list_idx  \n",
       "0 -0.030708         5  \n",
       "1 -0.031042         5  \n",
       "2  1.411756         5  \n",
       "3 -0.031014         8  \n",
       "4 -0.031057         8  "
      ]
     },
     "execution_count": 5,
     "metadata": {},
     "output_type": "execute_result"
    }
   ],
   "source": [
    "attri_data[:5]"
   ]
  },
  {
   "cell_type": "code",
   "execution_count": 22,
   "metadata": {},
   "outputs": [
    {
     "ename": "FileNotFoundError",
     "evalue": "[Errno 2] No such file or directory: 'LiterallyWikidata/files_needed/saved_all2idx.pkl'",
     "output_type": "error",
     "traceback": [
      "\u001b[0;31m---------------------------------------------------------------------------\u001b[0m",
      "\u001b[0;31mFileNotFoundError\u001b[0m                         Traceback (most recent call last)",
      "\u001b[0;32m/tmp/ipykernel_2109257/336274765.py\u001b[0m in \u001b[0;36m<module>\u001b[0;34m\u001b[0m\n\u001b[0;32m----> 1\u001b[0;31m \u001b[0;32mwith\u001b[0m \u001b[0mopen\u001b[0m\u001b[0;34m(\u001b[0m\u001b[0;34m'LiterallyWikidata/files_needed/saved_all2idx.pkl'\u001b[0m\u001b[0;34m,\u001b[0m\u001b[0;34m'r'\u001b[0m\u001b[0;34m)\u001b[0m\u001b[0;32mas\u001b[0m \u001b[0mfr\u001b[0m\u001b[0;34m:\u001b[0m\u001b[0;34m\u001b[0m\u001b[0;34m\u001b[0m\u001b[0m\n\u001b[0m\u001b[1;32m      2\u001b[0m     \u001b[0mdict_all2idx\u001b[0m \u001b[0;34m=\u001b[0m \u001b[0mpickle\u001b[0m\u001b[0;34m.\u001b[0m\u001b[0mload\u001b[0m\u001b[0;34m(\u001b[0m\u001b[0mfr\u001b[0m\u001b[0;34m)\u001b[0m\u001b[0;34m\u001b[0m\u001b[0;34m\u001b[0m\u001b[0m\n",
      "\u001b[0;31mFileNotFoundError\u001b[0m: [Errno 2] No such file or directory: 'LiterallyWikidata/files_needed/saved_all2idx.pkl'"
     ]
    }
   ],
   "source": [
    "with open('../LiterallyWikidata/files_needed/saved_all2idx.pkl','r')as fr:\n",
    "    dict_all2idx = pickle.load(fr)"
   ]
  },
  {
   "cell_type": "code",
   "execution_count": 8,
   "metadata": {},
   "outputs": [],
   "source": [
    "emb_e = embedding(input)"
   ]
  },
  {
   "cell_type": "code",
   "execution_count": 18,
   "metadata": {},
   "outputs": [
    {
     "data": {
      "text/plain": [
       "81"
      ]
     },
     "execution_count": 18,
     "metadata": {},
     "output_type": "execute_result"
    }
   ],
   "source": [
    "len(attri_data['a'].unique())"
   ]
  },
  {
   "cell_type": "code",
   "execution_count": 12,
   "metadata": {},
   "outputs": [],
   "source": [
    "#attri_data['e'][0] --> find list idx --> emb.ent[idx]\n",
    "att2idx = {a:i for i,a in enumerate(attri_data['a'].unique())}\n",
    "attri_data['a_idx']=attri_data['a'].map(att2idx)\n",
    "\n",
    "\n",
    "embedding_a = torch.nn.Embedding(len(attri_data['a'].unique()),128,padding_idx=0)\n",
    "input_a = torch.LongTensor(attri_data['a_idx'].to_numpy())\n",
    "emb_a = embedding_a(input_a)"
   ]
  },
  {
   "cell_type": "code",
   "execution_count": 31,
   "metadata": {},
   "outputs": [],
   "source": [
    "x = torch.cat([emb_e,emb_a],dim=1).detach().numpy()"
   ]
  },
  {
   "cell_type": "code",
   "execution_count": 32,
   "metadata": {},
   "outputs": [],
   "source": [
    "y= attri_data.loc[:,'std_v']"
   ]
  },
  {
   "cell_type": "code",
   "execution_count": 33,
   "metadata": {},
   "outputs": [],
   "source": [
    "from sklearn.model_selection import train_test_split\n",
    "X_train, X_test, y_train, y_test = train_test_split(x, y,test_size=0.2, random_state=802)"
   ]
  },
  {
   "cell_type": "code",
   "execution_count": 34,
   "metadata": {},
   "outputs": [],
   "source": [
    "nn=MLPRegressor(hidden_layer_sizes=(64,64),  #預設值1層,數目100\n",
    "         activation='relu',  #{'identity'(回歸)無，'logistic'為sigmoid，'tanh'，'relu'}，預設='relu'\n",
    "         solver='adam',   #{'lbfgs'牛頓，'sgd'隨機梯度，'adam'隨機梯度優化}，預設='adam'\n",
    "         batch_size=500,  #'auto'為min(200～樣本數)\n",
    "         learning_rate='constant',  #constant固定'，'invscaling隨著時間遞減'，'adaptive誤差減少時不改變'}，預設 ='constant' \n",
    "         learning_rate_init=0.001, #優化器為sgd、adam使用\n",
    "         power_t=0.5,     # 優化器為sgd，則可以設定強化學習率   \n",
    "         max_iter=500,    #訓練次數\n",
    "         shuffle=True,    #隨機設定權重\n",
    "         random_state=1,   #隨機的基礎值\n",
    "         momentum=0.9)"
   ]
  },
  {
   "cell_type": "code",
   "execution_count": null,
   "metadata": {},
   "outputs": [],
   "source": []
  },
  {
   "cell_type": "code",
   "execution_count": 35,
   "metadata": {},
   "outputs": [
    {
     "name": "stderr",
     "output_type": "stream",
     "text": [
      "/projekte/tcl/tclext/kgc_chu/neuenv/lib/python3.7/site-packages/sklearn/neural_network/_multilayer_perceptron.py:696: ConvergenceWarning: Stochastic Optimizer: Maximum iterations (500) reached and the optimization hasn't converged yet.\n",
      "  ConvergenceWarning,\n"
     ]
    }
   ],
   "source": [
    "nn.fit(X_train, y_train)\n",
    "y_predtrain=nn.predict(X_train)"
   ]
  },
  {
   "cell_type": "code",
   "execution_count": 37,
   "metadata": {},
   "outputs": [
    {
     "name": "stdout",
     "output_type": "stream",
     "text": [
      "MSE= 3.228112368459931e+40\n",
      "RMSE= 1.7966948456707752e+20\n",
      "MAE= 5.137597695931371e+17\n",
      "R2: -4.156226072051273e+25\n"
     ]
    }
   ],
   "source": [
    "from sklearn.metrics import mean_squared_error\n",
    "from sklearn.metrics import mean_absolute_error\n",
    "from math import sqrt\n",
    "import numpy as np\n",
    "\n",
    "MSE = mean_squared_error(y_train, y_predtrain)\n",
    "print('MSE=',MSE)\n",
    "RMSE =np.sqrt(MSE)\n",
    "print('RMSE=',RMSE)\n",
    "MAE= mean_absolute_error(y_train, y_predtrain)\n",
    "print('MAE=',MAE)\n",
    "\n",
    "R2=1-MSE/np.var(y_predtrain)\n",
    "print(\"R2:\", R2)"
   ]
  },
  {
   "cell_type": "code",
   "execution_count": 38,
   "metadata": {},
   "outputs": [
    {
     "data": {
      "text/plain": [
       "array([1.01922318e+09, 6.03789655e+08, 9.60477991e+08, ...,\n",
       "       7.54504350e+05, 7.91925945e+08, 5.78766891e+08])"
      ]
     },
     "execution_count": 38,
     "metadata": {},
     "output_type": "execute_result"
    }
   ],
   "source": [
    "ytrain = []\n",
    "for value in y_train:\n",
    "    ytrain.append(value)\n",
    "count=0\n",
    "errvalue=abs((ytrain-y_predtrain)/ytrain)\n",
    "errvalue"
   ]
  },
  {
   "cell_type": "code",
   "execution_count": 39,
   "metadata": {},
   "outputs": [
    {
     "name": "stdout",
     "output_type": "stream",
     "text": [
      "通過門檻筆數 0\n",
      "通過門檻百分比 0.0\n"
     ]
    }
   ],
   "source": [
    "threshold=0.02  #門檻值\n",
    "for i in range(len(errvalue)):\n",
    "  if errvalue[i]<threshold:           \n",
    "    count=count+1\n",
    "print(\"通過門檻筆數\",count)\n",
    "print(\"通過門檻百分比\",count/len(errvalue))"
   ]
  },
  {
   "cell_type": "code",
   "execution_count": null,
   "metadata": {},
   "outputs": [],
   "source": [
    "y_pred=nn.predict(X_test)\n",
    "y_pred"
   ]
  },
  {
   "cell_type": "code",
   "execution_count": null,
   "metadata": {},
   "outputs": [],
   "source": [
    "from sklearn.metrics import mean_squared_error\n",
    "from sklearn.metrics import mean_absolute_error\n",
    "from math import sqrt\n",
    "import numpy as np\n",
    "\n",
    "MSE = mean_squared_error(y_test, y_pred)\n",
    "print('MSE=',MSE)\n",
    "RMSE =np.sqrt(MSE)\n",
    "print('RMSE=',RMSE)\n",
    "MAE= mean_absolute_error(y_test, y_pred)\n",
    "print('MAE=',MAE)\n",
    "\n",
    "R2=1-MSE/np.var(y_test)\n",
    "print(\"R2:\", R2)\n",
    "\n",
    "ytest = []\n",
    "for value in y_test:\n",
    "    ytest.append(value)\n",
    "count=0\n",
    "errvalue=abs((ytest-y_pred)/ytest)\n",
    "errvalue"
   ]
  },
  {
   "cell_type": "code",
   "execution_count": null,
   "metadata": {},
   "outputs": [],
   "source": [
    "threshold=0.01  #門檻值\n",
    "for i in range(len(errvalue)):\n",
    "  if errvalue[i]<0.01:           \n",
    "    count=count+1\n",
    "print(\"通過門檻筆數\",count)\n",
    "print(\"通過門檻百分比\",count/len(errvalue))"
   ]
  },
  {
   "cell_type": "code",
   "execution_count": null,
   "metadata": {},
   "outputs": [],
   "source": []
  },
  {
   "cell_type": "code",
   "execution_count": 41,
   "metadata": {},
   "outputs": [
    {
     "name": "stdout",
     "output_type": "stream",
     "text": [
      "[-4.41818510e+17 -1.06328932e+18  2.38763898e+17 -2.27810288e+17\n",
      " -6.71998228e+16  1.59245327e+17  2.43395539e+17 -1.34701266e+18\n",
      "  1.88870723e+17 -2.24269362e+17 -3.85441704e+17 -1.03717550e+17\n",
      " -1.86330868e+17 -1.09377536e+17 -1.68096585e+17 -2.68021614e+16\n",
      "  8.93950026e+16 -2.11440195e+18 -7.60218660e+16 -9.97186351e+16\n",
      " -2.34964776e+17  1.47258520e+17  4.13949601e+17 -1.30029156e+17\n",
      "  2.99178798e+17 -8.94582331e+16 -4.28834343e+17  6.29185427e+17\n",
      "  3.65651560e+17 -2.88418393e+17  8.19814553e+15  1.23832222e+18\n",
      "  3.63595336e+17 -4.77494260e+17  5.45453205e+18  3.00302705e+17\n",
      "  3.64907981e+17 -4.70638496e+17  2.18309425e+17 -5.87628320e+16\n",
      "  2.58692082e+17 -1.91792830e+17 -1.16482328e+19 -4.01681800e+17\n",
      " -5.50610719e+17 -4.27734522e+17 -2.97533344e+17 -2.21440577e+17\n",
      " -2.61584790e+16  7.27391882e+16 -4.37956054e+16  1.05499941e+18\n",
      "  8.44906654e+16  7.23540636e+17  1.84905987e+17 -7.23441199e+17\n",
      "  4.57605607e+17 -7.74728262e+17 -1.05301835e+17 -3.50424354e+17\n",
      "  6.73793439e+16  3.92967552e+17  1.47368574e+17 -4.66889402e+17\n",
      " -1.33617353e+18 -1.62327705e+18 -8.56677613e+16  1.45972098e+16\n",
      " -1.55397380e+17  1.71679240e+17 -7.91614614e+16  1.79024352e+18\n",
      " -3.20980258e+16 -1.09004784e+17 -1.59887309e+16  1.50944547e+17\n",
      "  2.44009049e+17 -2.10717590e+17  2.43205289e+17  2.50549305e+17\n",
      " -8.92143219e+16  3.91582270e+18 -7.36398557e+15 -2.25657307e+17\n",
      " -1.21150170e+17  2.19657176e+18 -1.11496128e+18 -1.78346730e+17\n",
      "  3.23397775e+17 -9.76578926e+16 -1.69650693e+17 -1.29963113e+18\n",
      " -4.86998370e+17  2.32907349e+17 -2.16594359e+17  3.99818403e+17\n",
      " -1.53017899e+17  1.23336136e+17 -1.59291885e+18  1.23819604e+17\n",
      " -6.51327066e+16  7.86065430e+16 -7.52610233e+15  2.40086232e+17\n",
      "  5.40257793e+18 -1.70309372e+15 -2.51603775e+19 -1.28323762e+17\n",
      "  1.23137400e+18 -5.06086442e+17  2.58352591e+17  1.72591869e+17\n",
      "  8.89094050e+16 -3.48067311e+17 -2.28596078e+17  3.92775075e+18\n",
      "  1.54207434e+17  2.49806448e+17 -3.22021942e+17 -3.57658928e+18\n",
      "  2.18458100e+17 -2.22482484e+17  3.99303006e+17 -3.06975503e+17\n",
      " -3.51876672e+17  2.26278132e+18  1.98116207e+17 -5.48848064e+17\n",
      " -6.26417956e+17  9.57500699e+17 -5.83669151e+17 -4.02044261e+17\n",
      "  4.38329210e+17 -6.21906317e+17 -1.91141548e+18 -2.11821479e+18\n",
      " -9.08577791e+17  7.13251819e+16 -2.42634619e+18  1.66455093e+18\n",
      " -6.25431351e+17  7.68369168e+17  2.73701155e+17 -3.03157401e+18\n",
      "  1.42200430e+18 -1.55837906e+18 -1.23669440e+18  1.73793123e+18\n",
      " -1.00034716e+18 -4.37167060e+18  1.16165657e+18 -1.25450813e+18\n",
      " -3.09875280e+18  1.14618926e+18  2.40677048e+18  5.00636121e+18\n",
      " -2.41250526e+18 -2.46249345e+18 -1.89136307e+17 -3.72796152e+17\n",
      " -1.54342474e+18 -1.85527331e+18 -2.02604300e+18  8.43314698e+17\n",
      " -7.90580540e+17 -7.54401935e+17  2.73618114e+18  2.47450837e+18\n",
      "  2.72748510e+18 -2.90596855e+18 -1.36961930e+18 -1.10873715e+18\n",
      " -1.89398753e+18 -8.17809190e+17  1.63648177e+18 -3.93553942e+18\n",
      "  1.34905830e+18  8.05196417e+17 -3.04411174e+18  6.56016809e+17\n",
      "  1.51710106e+18 -1.05021045e+16 -2.33573543e+18  5.16381582e+17\n",
      "  3.91150959e+18  2.50549068e+18 -2.16431167e+18 -1.54290302e+18\n",
      " -2.49725369e+18  1.45910155e+18  1.45378458e+18  4.24532709e+17\n",
      " -2.64903715e+18 -3.65850372e+18  1.85908697e+18  1.35190370e+18\n",
      " -2.28760060e+18 -8.30522980e+17  2.25906295e+17 -5.66874385e+17\n",
      " -1.44204798e+18  1.58457548e+18 -1.50645586e+18  2.59639116e+18\n",
      "  4.87727965e+17 -2.79303771e+18  3.15397164e+18 -1.04458566e+18\n",
      "  3.76165825e+18 -2.90318651e+18 -6.65053902e+17  8.12782580e+18\n",
      " -1.72369837e+17 -4.05405743e+17  2.92273349e+17  4.93281873e+17\n",
      "  9.06003972e+17 -4.92228713e+17 -5.27167667e+18  1.40665938e+18\n",
      "  8.10586429e+17 -4.54946472e+17  2.68420640e+18 -2.44675807e+18\n",
      " -6.90043327e+17  3.34708492e+18  4.37655628e+18 -2.06371598e+18\n",
      " -8.40410819e+17 -3.92755861e+17  7.65003563e+17  2.77158459e+18\n",
      "  2.88274824e+18 -1.88016062e+18  3.25607669e+18  5.68616974e+17\n",
      "  2.61785032e+18  1.10323904e+18  1.23409652e+18  2.41685575e+18\n",
      " -3.33934903e+18 -7.24567992e+18 -3.18626018e+18  5.30362112e+17\n",
      " -2.06773634e+18  1.70403467e+18 -3.49384113e+18  1.08937679e+17\n",
      " -2.96533173e+18  2.78483013e+18 -4.33105361e+17  1.12534596e+18\n",
      " -5.60366321e+18  2.36109622e+18  1.72065255e+18 -6.83687583e+16]\n"
     ]
    },
    {
     "name": "stderr",
     "output_type": "stream",
     "text": [
      "/projekte/tcl/tclext/kgc_chu/neuenv/lib/python3.7/site-packages/sklearn/linear_model/_ridge.py:157: LinAlgWarning: Ill-conditioned matrix (rcond=1.75972e-08): result may not be accurate.\n",
      "  return linalg.solve(A, Xy, sym_pos=True, overwrite_a=True).T\n"
     ]
    }
   ],
   "source": [
    "from sklearn import linear_model\n",
    "reg = linear_model.Ridge(alpha=.52)#調整alpha值決定正則化的強度\n",
    "reg.fit(X_train, y_train)\n",
    "#print(reg.coef_) # 印出訓練後的模型參數，數值都明顯小於單純的線性回歸\n",
    "y_predtrain = reg.predict(X_train)"
   ]
  },
  {
   "cell_type": "code",
   "execution_count": 42,
   "metadata": {},
   "outputs": [
    {
     "name": "stdout",
     "output_type": "stream",
     "text": [
      "MSE= 3.220578710718283e+40\n",
      "RMSE= 1.7945970886854472e+20\n",
      "MAE= 6.87268669111927e+18\n",
      "R2: 1.0\n"
     ]
    },
    {
     "name": "stderr",
     "output_type": "stream",
     "text": [
      "/projekte/tcl/tclext/kgc_chu/neuenv/lib/python3.7/site-packages/numpy/core/_methods.py:233: RuntimeWarning: overflow encountered in multiply\n",
      "  x = um.multiply(x, x, out=x)\n",
      "/projekte/tcl/tclext/kgc_chu/neuenv/lib/python3.7/site-packages/numpy/core/_methods.py:244: RuntimeWarning: overflow encountered in reduce\n",
      "  ret = umr_sum(x, axis, dtype, out, keepdims=keepdims, where=where)\n"
     ]
    }
   ],
   "source": [
    "from sklearn.metrics import mean_squared_error\n",
    "from sklearn.metrics import mean_absolute_error\n",
    "from math import sqrt\n",
    "import numpy as np\n",
    "\n",
    "MSE = mean_squared_error(y_train, y_predtrain)\n",
    "print('MSE=',MSE)\n",
    "RMSE =np.sqrt(MSE)\n",
    "print('RMSE=',RMSE)\n",
    "MAE= mean_absolute_error(y_train, y_predtrain)\n",
    "print('MAE=',MAE)\n",
    "\n",
    "R2=1-MSE/np.var(y_predtrain)\n",
    "print(\"R2:\", R2)"
   ]
  },
  {
   "cell_type": "code",
   "execution_count": 44,
   "metadata": {},
   "outputs": [
    {
     "name": "stdout",
     "output_type": "stream",
     "text": [
      "0.6\n"
     ]
    }
   ],
   "source": [
    "from sklearn.linear_model import RidgeCV\n",
    "rcv = RidgeCV(alphas=np.array([.3, .4, .5, .6]))\n",
    "rcv.fit(X_train, y_train)\n",
    "#RidgeCV(alphas=array([0.1, 0.2, 0.3, 0.4]), cv=None, fit_intercept=True,\n",
    "       # gcv_mode=None, normalize=False, scoring=None, store_cv_values=False)\n",
    "print(rcv.alpha_)"
   ]
  },
  {
   "cell_type": "code",
   "execution_count": 52,
   "metadata": {
    "scrolled": true
   },
   "outputs": [
    {
     "name": "stdout",
     "output_type": "stream",
     "text": [
      "0.67\n"
     ]
    }
   ],
   "source": [
    "rcv2 = RidgeCV(alphas=np.array([.63, .64, .65, .66, .67]))\n",
    "rcv2.fit(X_train, y_train)\n",
    "print(rcv2.alpha_)"
   ]
  },
  {
   "cell_type": "code",
   "execution_count": 46,
   "metadata": {},
   "outputs": [
    {
     "data": {
      "text/plain": [
       "RidgeCV(alphas=array([0.01      , 0.03020408, 0.05040816, 0.07061224, 0.09081633,\n",
       "       0.11102041, 0.13122449, 0.15142857, 0.17163265, 0.19183673,\n",
       "       0.21204082, 0.2322449 , 0.25244898, 0.27265306, 0.29285714,\n",
       "       0.31306122, 0.33326531, 0.35346939, 0.37367347, 0.39387755,\n",
       "       0.41408163, 0.43428571, 0.4544898 , 0.47469388, 0.49489796,\n",
       "       0.51510204, 0.53530612, 0.5555102 , 0.57571429, 0.59591837,\n",
       "       0.61612245, 0.63632653, 0.65653061, 0.67673469, 0.69693878,\n",
       "       0.71714286, 0.73734694, 0.75755102, 0.7777551 , 0.79795918,\n",
       "       0.81816327, 0.83836735, 0.85857143, 0.87877551, 0.89897959,\n",
       "       0.91918367, 0.93938776, 0.95959184, 0.97979592, 1.        ]),\n",
       "        store_cv_values=True)"
      ]
     },
     "execution_count": 46,
     "metadata": {},
     "output_type": "execute_result"
    }
   ],
   "source": [
    "alphas_to_test = np.linspace(0.01, 1)\n",
    "rcv3 = RidgeCV(alphas=alphas_to_test, store_cv_values=True)\n",
    "rcv3.fit(X_train, y_train)"
   ]
  },
  {
   "cell_type": "code",
   "execution_count": 47,
   "metadata": {
    "scrolled": true
   },
   "outputs": [
    {
     "data": {
      "text/plain": [
       "(122474, 50)"
      ]
     },
     "execution_count": 47,
     "metadata": {},
     "output_type": "execute_result"
    }
   ],
   "source": [
    "rcv3.cv_values_.shape"
   ]
  },
  {
   "cell_type": "code",
   "execution_count": 53,
   "metadata": {},
   "outputs": [],
   "source": [
    "def MAD(target, predictions):\n",
    "    absolute_deviation = np.abs(target - predictions)\n",
    "    return absolute_deviation.mean()"
   ]
  },
  {
   "cell_type": "code",
   "execution_count": 54,
   "metadata": {},
   "outputs": [
    {
     "data": {
      "text/plain": [
       "1.0"
      ]
     },
     "execution_count": 54,
     "metadata": {},
     "output_type": "execute_result"
    }
   ],
   "source": [
    "import sklearn\n",
    "MAD = sklearn.metrics.make_scorer(MAD, greater_is_better=False)\n",
    "rcv4 = RidgeCV(alphas=alphas_to_test, store_cv_values=True,scoring=MAD)\n",
    "rcv4.fit(X_train, y_train)\n",
    "smallest_idx = rcv4.cv_values_.mean(axis=0).argmin()\n",
    "alphas_to_test[smallest_idx]"
   ]
  }
 ],
 "metadata": {
  "kernelspec": {
   "display_name": "Python 3 (ipykernel)",
   "language": "python",
   "name": "python3"
  },
  "language_info": {
   "codemirror_mode": {
    "name": "ipython",
    "version": 3
   },
   "file_extension": ".py",
   "mimetype": "text/x-python",
   "name": "python",
   "nbconvert_exporter": "python",
   "pygments_lexer": "ipython3",
   "version": "3.7.9"
  },
  "vscode": {
   "interpreter": {
    "hash": "58040a4f1aa4f5275e06049c30a95750b5a145ef4b58852d0762723662f03261"
   }
  }
 },
 "nbformat": 4,
 "nbformat_minor": 2
}

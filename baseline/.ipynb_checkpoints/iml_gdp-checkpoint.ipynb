{
 "cells": [
  {
   "cell_type": "markdown",
   "metadata": {
    "id": "wS_4-77xHk44"
   },
   "source": [
    "# **Import Some Packages**"
   ]
  },
  {
   "cell_type": "code",
   "execution_count": 2,
   "metadata": {
    "id": "k-onQd4JNA5H"
   },
   "outputs": [],
   "source": [
    "# PyTorch\n",
    "import torch\n",
    "import torch.nn as nn\n",
    "from torch.utils.data import Dataset, DataLoader, random_split\n",
    "\n",
    "# For data preprocess\n",
    "import pandas as pd\n",
    "import numpy as np\n",
    "import csv\n",
    "import os\n",
    "\n",
    "from tqdm import tqdm\n",
    "\n",
    "import math\n",
    "from torch.utils.tensorboard import SummaryWriter\n",
    "# For plotting\n",
    "import matplotlib.pyplot as plt\n",
    "from matplotlib.pyplot import figure\n",
    "    \n",
    "from sklearn.preprocessing import StandardScaler, MinMaxScaler"
   ]
  },
  {
   "cell_type": "markdown",
   "metadata": {
    "id": "BtE3b6JEH7rw"
   },
   "source": [
    "# **Some Utilities**\n",
    "\n",
    "You do not need to modify this part."
   ]
  },
  {
   "cell_type": "code",
   "execution_count": 156,
   "metadata": {
    "id": "FWMT3uf1NGQp"
   },
   "outputs": [],
   "source": [
    "def get_device():\n",
    "    ''' Get device (if GPU is available, use GPU) '''\n",
    "    return 'cuda' if torch.cuda.is_available() else 'cpu'\n",
    "\n",
    "def plot_learning_curve(loss_record, title=''):\n",
    "    ''' Plot learning curve of your DNN (train & dev loss) '''\n",
    "    total_steps = len(loss_record['mean_train_loss'])\n",
    "    x_1 = range(total_steps)\n",
    "    x_2 = x_1[::len(loss_record['mean_train_loss']) // len(loss_record['mean_valid_loss'])]\n",
    "    figure(figsize=(6, 4))\n",
    "    plt.plot(x_1, loss_record['mean_train_loss'], c='tab:red', label='train')\n",
    "    plt.plot(x_2, loss_record['mean_valid_loss'], c='tab:cyan', label='dev')\n",
    "    plt.ylim(-1,6)\n",
    "    plt.xlabel('Training steps')\n",
    "    plt.ylabel('MSE loss')\n",
    "    plt.title('Learning curve of {}'.format(title))\n",
    "    plt.legend()\n",
    "    plt.show()\n",
    "\n",
    "\n",
    "def plot_pred(dv_set, model, device, lim=35., preds=None, targets=None):\n",
    "    ''' Plot prediction of your DNN '''\n",
    "    if preds is None or targets is None:\n",
    "        model.eval()\n",
    "        preds, targets = [], []\n",
    "        for x, y in dv_set:\n",
    "            x, y = x.to(device), y.to(device)\n",
    "            with torch.no_grad():\n",
    "                pred = model(x)\n",
    "                preds.append(pred.detach().cpu())\n",
    "                targets.append(y.detach().cpu())\n",
    "        preds = torch.cat(preds, dim=0).numpy()\n",
    "        targets = torch.cat(targets, dim=0).numpy()\n",
    "\n",
    "    figure(figsize=(5, 5))\n",
    "    plt.scatter(targets, preds, c='r', alpha=0.5)\n",
    "    plt.plot([-0.2, lim], [-0.2, lim], c='b')\n",
    "    plt.xlim(-0.2, lim)\n",
    "    plt.ylim(-0.2, lim)\n",
    "    plt.xlabel('ground truth value')\n",
    "    plt.ylabel('predicted value')\n",
    "    plt.title('Ground Truth v.s. Prediction')\n",
    "    plt.show()\n",
    "    "
   ]
  },
  {
   "cell_type": "code",
   "execution_count": 3,
   "metadata": {},
   "outputs": [],
   "source": [
    "def same_seed(seed): \n",
    "    '''Fixes random number generator seeds for reproducibility.'''\n",
    "    torch.backends.cudnn.deterministic = True\n",
    "    torch.backends.cudnn.benchmark = False\n",
    "    np.random.seed(seed)\n",
    "    torch.manual_seed(seed)\n",
    "    if torch.cuda.is_available():\n",
    "        torch.cuda.manual_seed_all(seed)\n",
    "\n",
    "def train_valid_split(data_set, valid_ratio, seed):\n",
    "    '''Split provided training data into training set and validation set'''\n",
    "    valid_set_size = int(valid_ratio * len(data_set)) \n",
    "    train_set_size = len(data_set) - valid_set_size\n",
    "    train_set, valid_set = random_split(data_set, [train_set_size, valid_set_size], generator=torch.Generator().manual_seed(seed))\n",
    "    return np.array(train_set), np.array(valid_set)\n",
    "\n",
    "def predict(test_loader, model, device):\n",
    "    model.eval() # Set your model to evaluation mode.\n",
    "    preds = []\n",
    "    for x in tqdm(test_loader):\n",
    "        x = x.to(device)                        \n",
    "        with torch.no_grad():                   \n",
    "            pred = model(x)                     \n",
    "            preds.append(pred.detach().cpu())   \n",
    "    preds = torch.cat(preds, dim=0).numpy()  \n",
    "    return preds"
   ]
  },
  {
   "cell_type": "markdown",
   "metadata": {},
   "source": [
    "# Loading data"
   ]
  },
  {
   "cell_type": "code",
   "execution_count": 181,
   "metadata": {},
   "outputs": [],
   "source": [
    "attri_data = pd.read_csv('../LiterallyWikidata/files_needed/train_attri_data_minmax.csv')\n",
    "attri_data_valid = pd.read_csv('../LiterallyWikidata/files_needed/valid_attri_data_minmax.csv')\n",
    "attri_data_test = pd.read_csv('../LiterallyWikidata/files_needed/test_attri_data_minmax.csv')"
   ]
  },
  {
   "cell_type": "code",
   "execution_count": 182,
   "metadata": {},
   "outputs": [
    {
     "data": {
      "text/html": [
       "<div>\n",
       "<style scoped>\n",
       "    .dataframe tbody tr th:only-of-type {\n",
       "        vertical-align: middle;\n",
       "    }\n",
       "\n",
       "    .dataframe tbody tr th {\n",
       "        vertical-align: top;\n",
       "    }\n",
       "\n",
       "    .dataframe thead th {\n",
       "        text-align: right;\n",
       "    }\n",
       "</style>\n",
       "<table border=\"1\" class=\"dataframe\">\n",
       "  <thead>\n",
       "    <tr style=\"text-align: right;\">\n",
       "      <th></th>\n",
       "      <th>e</th>\n",
       "      <th>a</th>\n",
       "      <th>v</th>\n",
       "      <th>name_e</th>\n",
       "      <th>name_a</th>\n",
       "      <th>ent_type</th>\n",
       "      <th>minmax</th>\n",
       "    </tr>\n",
       "  </thead>\n",
       "  <tbody>\n",
       "    <tr>\n",
       "      <th>0</th>\n",
       "      <td>Q6434729</td>\n",
       "      <td>P1333_Longtiude</td>\n",
       "      <td>3.254495e+01</td>\n",
       "      <td>Kourtaka</td>\n",
       "      <td>coordinates of southernmost point</td>\n",
       "      <td>Q29414133</td>\n",
       "      <td>6.065508e+01</td>\n",
       "    </tr>\n",
       "    <tr>\n",
       "      <th>1</th>\n",
       "      <td>Q994793</td>\n",
       "      <td>P625_Longtiude</td>\n",
       "      <td>-9.285265e+01</td>\n",
       "      <td>Hastings</td>\n",
       "      <td>coordinate location(logtitude)</td>\n",
       "      <td>Q1093829</td>\n",
       "      <td>2.380586e+01</td>\n",
       "    </tr>\n",
       "    <tr>\n",
       "      <th>2</th>\n",
       "      <td>Q378896</td>\n",
       "      <td>P2927</td>\n",
       "      <td>3.000000e-03</td>\n",
       "      <td>Smyth County</td>\n",
       "      <td>water as percent of area</td>\n",
       "      <td>Q13415368</td>\n",
       "      <td>3.296703e-01</td>\n",
       "    </tr>\n",
       "    <tr>\n",
       "      <th>3</th>\n",
       "      <td>Q94976</td>\n",
       "      <td>P625_Latitude</td>\n",
       "      <td>4.307218e+01</td>\n",
       "      <td>Serravalle di Chienti</td>\n",
       "      <td>coordinate location(latitude)</td>\n",
       "      <td>Q747074</td>\n",
       "      <td>7.392899e+01</td>\n",
       "    </tr>\n",
       "    <tr>\n",
       "      <th>4</th>\n",
       "      <td>Q266259</td>\n",
       "      <td>P1332_Longtiude</td>\n",
       "      <td>8.601874e+00</td>\n",
       "      <td>Tiglieto</td>\n",
       "      <td>coordinates of northernmost point</td>\n",
       "      <td>Q747074</td>\n",
       "      <td>5.238325e+01</td>\n",
       "    </tr>\n",
       "    <tr>\n",
       "      <th>...</th>\n",
       "      <td>...</td>\n",
       "      <td>...</td>\n",
       "      <td>...</td>\n",
       "      <td>...</td>\n",
       "      <td>...</td>\n",
       "      <td>...</td>\n",
       "      <td>...</td>\n",
       "    </tr>\n",
       "    <tr>\n",
       "      <th>29626</th>\n",
       "      <td>Q55049</td>\n",
       "      <td>P2046</td>\n",
       "      <td>6.070000e+06</td>\n",
       "      <td>Luogosano</td>\n",
       "      <td>area</td>\n",
       "      <td>Q747074</td>\n",
       "      <td>9.967159e-11</td>\n",
       "    </tr>\n",
       "    <tr>\n",
       "      <th>29627</th>\n",
       "      <td>Q6926115</td>\n",
       "      <td>P1332_Latitude</td>\n",
       "      <td>3.478270e+01</td>\n",
       "      <td>Mousere</td>\n",
       "      <td>NaN</td>\n",
       "      <td>Q29414133</td>\n",
       "      <td>5.730356e+01</td>\n",
       "    </tr>\n",
       "    <tr>\n",
       "      <th>29628</th>\n",
       "      <td>Q503111</td>\n",
       "      <td>P2046</td>\n",
       "      <td>5.122200e+08</td>\n",
       "      <td>Herrljunga Municipality</td>\n",
       "      <td>area</td>\n",
       "      <td>Q127448</td>\n",
       "      <td>8.410837e-09</td>\n",
       "    </tr>\n",
       "    <tr>\n",
       "      <th>29629</th>\n",
       "      <td>Q697916</td>\n",
       "      <td>P625_Latitude</td>\n",
       "      <td>5.258333e+01</td>\n",
       "      <td>Lake Tegel</td>\n",
       "      <td>coordinate location(latitude)</td>\n",
       "      <td>Q23397</td>\n",
       "      <td>7.921296e+01</td>\n",
       "    </tr>\n",
       "    <tr>\n",
       "      <th>29630</th>\n",
       "      <td>Q53953</td>\n",
       "      <td>P1333_Longtiude</td>\n",
       "      <td>1.607074e+01</td>\n",
       "      <td>Rota Greca</td>\n",
       "      <td>coordinates of southernmost point</td>\n",
       "      <td>Q747074</td>\n",
       "      <td>5.593444e+01</td>\n",
       "    </tr>\n",
       "  </tbody>\n",
       "</table>\n",
       "<p>29631 rows × 7 columns</p>\n",
       "</div>"
      ],
      "text/plain": [
       "              e                a             v                   name_e  \\\n",
       "0      Q6434729  P1333_Longtiude  3.254495e+01                 Kourtaka   \n",
       "1       Q994793   P625_Longtiude -9.285265e+01                 Hastings   \n",
       "2       Q378896            P2927  3.000000e-03             Smyth County   \n",
       "3        Q94976    P625_Latitude  4.307218e+01    Serravalle di Chienti   \n",
       "4       Q266259  P1332_Longtiude  8.601874e+00                 Tiglieto   \n",
       "...         ...              ...           ...                      ...   \n",
       "29626    Q55049            P2046  6.070000e+06                Luogosano   \n",
       "29627  Q6926115   P1332_Latitude  3.478270e+01                  Mousere   \n",
       "29628   Q503111            P2046  5.122200e+08  Herrljunga Municipality   \n",
       "29629   Q697916    P625_Latitude  5.258333e+01               Lake Tegel   \n",
       "29630    Q53953  P1333_Longtiude  1.607074e+01               Rota Greca   \n",
       "\n",
       "                                  name_a   ent_type        minmax  \n",
       "0      coordinates of southernmost point  Q29414133  6.065508e+01  \n",
       "1         coordinate location(logtitude)   Q1093829  2.380586e+01  \n",
       "2               water as percent of area  Q13415368  3.296703e-01  \n",
       "3          coordinate location(latitude)    Q747074  7.392899e+01  \n",
       "4      coordinates of northernmost point    Q747074  5.238325e+01  \n",
       "...                                  ...        ...           ...  \n",
       "29626                               area    Q747074  9.967159e-11  \n",
       "29627                                NaN  Q29414133  5.730356e+01  \n",
       "29628                               area    Q127448  8.410837e-09  \n",
       "29629      coordinate location(latitude)     Q23397  7.921296e+01  \n",
       "29630  coordinates of southernmost point    Q747074  5.593444e+01  \n",
       "\n",
       "[29631 rows x 7 columns]"
      ]
     },
     "execution_count": 182,
     "metadata": {},
     "output_type": "execute_result"
    }
   ],
   "source": [
    "attri_data_test"
   ]
  },
  {
   "cell_type": "code",
   "execution_count": 51,
   "metadata": {},
   "outputs": [],
   "source": [
    "#attri_data_valid=attri_data_valid[['e','a','v']]"
   ]
  },
  {
   "cell_type": "markdown",
   "metadata": {},
   "source": [
    "# 準備變數"
   ]
  },
  {
   "cell_type": "code",
   "execution_count": 5,
   "metadata": {},
   "outputs": [],
   "source": [
    "var_name=[\"population\",\"GDP (PPP)\",\"PPP GDP per capita\",\n",
    "      \"date of birth\",\"date of death\",\n",
    "      \"area\",\"work period (start)\",\"work period (end)\",\n",
    "      \"coordinate location(latitude)\",\"coordinate location(logtitude)\",\"height\"]\n",
    "list_var = ['P1082','P4010','P2299','P569','P570','P2046','P2031','P2032','P625_Latitude','P625_Longtiude','P2048']"
   ]
  },
  {
   "cell_type": "code",
   "execution_count": 11,
   "metadata": {},
   "outputs": [
    {
     "data": {
      "text/plain": [
       "coordinate location(latitude)        19961\n",
       "coordinate location(logtitude)       19961\n",
       "area                                 17401\n",
       "population                           17157\n",
       "elevation above sea level            13134\n",
       "date of birth                        12746\n",
       "inception                             9742\n",
       "mass                                  7127\n",
       "coordinates of northernmost point     6830\n",
       "coordinates of easternmost point      6802\n",
       "Name: name_a, dtype: int64"
      ]
     },
     "execution_count": 11,
     "metadata": {},
     "output_type": "execute_result"
    }
   ],
   "source": [
    "attri_data['name_a'].value_counts()[:10]"
   ]
  },
  {
   "cell_type": "markdown",
   "metadata": {},
   "source": [
    "# Making input data\n",
    "## ent --> pretrained; att-->initial emb"
   ]
  },
  {
   "cell_type": "code",
   "execution_count": 123,
   "metadata": {},
   "outputs": [],
   "source": [
    "# 用kgeemb順序\n",
    "ent2idx ={}\n",
    "with open('../LiterallyWikidata/files_needed/list_ent_ids.txt','r') as fr:\n",
    "    for i, word in enumerate(fr.readlines()):\n",
    "        ent2idx[word.strip()] = i\n",
    "\n",
    "#先用沒有標準化 y \n",
    "#attri_data_std_v = attri_data[['e','a','new_stdv']]\n",
    "\n",
    "# att2idx = {}\n",
    "# #rel2idx = {v:k for k,v in enumerate(relations['label'].unique())}\n",
    "\n",
    "# with open('../LiterallyWikidata/files_needed/attribute.txt','r') as fr:\n",
    "#     for i, word in enumerate(fr.readlines()):\n",
    "#         att2idx[word.strip()] = i\n",
    "        \n",
    "att2idx = {v:k for k,v in enumerate(attri_data['a'].unique())}"
   ]
  },
  {
   "cell_type": "code",
   "execution_count": 183,
   "metadata": {},
   "outputs": [],
   "source": [
    "attri_data['a_idx']=attri_data['a'].map(att2idx)\n",
    "attri_data['e_idx']=attri_data['e'].map(ent2idx)\n",
    "attri_data_valid['a_idx']=attri_data_valid['a'].map(att2idx)\n",
    "attri_data_valid['e_idx']=attri_data_valid['e'].map(ent2idx)\n",
    "attri_data_test['a_idx']=attri_data_test['a'].map(att2idx)\n",
    "attri_data_test['e_idx']=attri_data_test['e'].map(ent2idx)"
   ]
  },
  {
   "cell_type": "code",
   "execution_count": 184,
   "metadata": {},
   "outputs": [],
   "source": [
    "attri_data_train = attri_data[['e','a','v']]\n",
    "attri_data_valid = attri_data_valid[['e','a','v']]\n",
    "attri_data_test = attri_data_test[['e','a','v']]"
   ]
  },
  {
   "cell_type": "code",
   "execution_count": 186,
   "metadata": {},
   "outputs": [],
   "source": [
    "attri_valid_new = pd.concat([attri_data_valid,attri_data_test],axis=0)"
   ]
  },
  {
   "cell_type": "code",
   "execution_count": 187,
   "metadata": {},
   "outputs": [
    {
     "data": {
      "text/html": [
       "<div>\n",
       "<style scoped>\n",
       "    .dataframe tbody tr th:only-of-type {\n",
       "        vertical-align: middle;\n",
       "    }\n",
       "\n",
       "    .dataframe tbody tr th {\n",
       "        vertical-align: top;\n",
       "    }\n",
       "\n",
       "    .dataframe thead th {\n",
       "        text-align: right;\n",
       "    }\n",
       "</style>\n",
       "<table border=\"1\" class=\"dataframe\">\n",
       "  <thead>\n",
       "    <tr style=\"text-align: right;\">\n",
       "      <th></th>\n",
       "      <th>e</th>\n",
       "      <th>a</th>\n",
       "      <th>v</th>\n",
       "    </tr>\n",
       "  </thead>\n",
       "  <tbody>\n",
       "    <tr>\n",
       "      <th>0</th>\n",
       "      <td>Q3376</td>\n",
       "      <td>P1334_Latitude</td>\n",
       "      <td>4.606556e+01</td>\n",
       "    </tr>\n",
       "    <tr>\n",
       "      <th>1</th>\n",
       "      <td>Q170446</td>\n",
       "      <td>P1082</td>\n",
       "      <td>1.094284e+06</td>\n",
       "    </tr>\n",
       "    <tr>\n",
       "      <th>2</th>\n",
       "      <td>Q908156</td>\n",
       "      <td>P625_Latitude</td>\n",
       "      <td>3.821420e+01</td>\n",
       "    </tr>\n",
       "    <tr>\n",
       "      <th>3</th>\n",
       "      <td>Q423</td>\n",
       "      <td>P1332_Longtiude</td>\n",
       "      <td>1.299300e+02</td>\n",
       "    </tr>\n",
       "    <tr>\n",
       "      <th>4</th>\n",
       "      <td>Q611033</td>\n",
       "      <td>P2048</td>\n",
       "      <td>1.730000e+00</td>\n",
       "    </tr>\n",
       "    <tr>\n",
       "      <th>...</th>\n",
       "      <td>...</td>\n",
       "      <td>...</td>\n",
       "      <td>...</td>\n",
       "    </tr>\n",
       "    <tr>\n",
       "      <th>29626</th>\n",
       "      <td>Q55049</td>\n",
       "      <td>P2046</td>\n",
       "      <td>6.070000e+06</td>\n",
       "    </tr>\n",
       "    <tr>\n",
       "      <th>29627</th>\n",
       "      <td>Q6926115</td>\n",
       "      <td>P1332_Latitude</td>\n",
       "      <td>3.478270e+01</td>\n",
       "    </tr>\n",
       "    <tr>\n",
       "      <th>29628</th>\n",
       "      <td>Q503111</td>\n",
       "      <td>P2046</td>\n",
       "      <td>5.122200e+08</td>\n",
       "    </tr>\n",
       "    <tr>\n",
       "      <th>29629</th>\n",
       "      <td>Q697916</td>\n",
       "      <td>P625_Latitude</td>\n",
       "      <td>5.258333e+01</td>\n",
       "    </tr>\n",
       "    <tr>\n",
       "      <th>29630</th>\n",
       "      <td>Q53953</td>\n",
       "      <td>P1333_Longtiude</td>\n",
       "      <td>1.607074e+01</td>\n",
       "    </tr>\n",
       "  </tbody>\n",
       "</table>\n",
       "<p>59262 rows × 3 columns</p>\n",
       "</div>"
      ],
      "text/plain": [
       "              e                a             v\n",
       "0         Q3376   P1334_Latitude  4.606556e+01\n",
       "1       Q170446            P1082  1.094284e+06\n",
       "2       Q908156    P625_Latitude  3.821420e+01\n",
       "3          Q423  P1332_Longtiude  1.299300e+02\n",
       "4       Q611033            P2048  1.730000e+00\n",
       "...         ...              ...           ...\n",
       "29626    Q55049            P2046  6.070000e+06\n",
       "29627  Q6926115   P1332_Latitude  3.478270e+01\n",
       "29628   Q503111            P2046  5.122200e+08\n",
       "29629   Q697916    P625_Latitude  5.258333e+01\n",
       "29630    Q53953  P1333_Longtiude  1.607074e+01\n",
       "\n",
       "[59262 rows x 3 columns]"
      ]
     },
     "execution_count": 187,
     "metadata": {},
     "output_type": "execute_result"
    }
   ],
   "source": [
    "attri_valid_new"
   ]
  },
  {
   "cell_type": "code",
   "execution_count": 129,
   "metadata": {},
   "outputs": [],
   "source": [
    "# 做矩陣，ent * att， 交叉為值 v\n",
    "def numeric_literal_array(data, ent2idx, att2idx):\n",
    "    #'LiterallyWikidata/LitWD48K/train_attri_data'\n",
    "    df_all = data\n",
    "\n",
    "    # Resulting file\n",
    "    num_lit = np.zeros([len(ent2idx), len(att2idx)],dtype=np.float32)\n",
    "\n",
    "# Create literal wrt vocab\n",
    "    for i, (s, p, lit) in enumerate(df_all.values):\n",
    "        try:\n",
    "            num_lit[ent2idx[s], att2idx[p]] = lit\n",
    "        except KeyError:\n",
    "            continue\n",
    "    return num_lit\n",
    "\n",
    "\n",
    "# num_lit shape (47998, 86)\n"
   ]
  },
  {
   "cell_type": "code",
   "execution_count": 198,
   "metadata": {
    "scrolled": true
   },
   "outputs": [
    {
     "name": "stdout",
     "output_type": "stream",
     "text": [
      "(47998, 86) (47998, 86)\n"
     ]
    }
   ],
   "source": [
    "#v值沒有標準化\n",
    "num_lit = numeric_literal_array(attri_data_train, ent2idx, att2idx)\n",
    "\n",
    "num_lit_valid = numeric_literal_array(attri_data_valid, ent2idx, att2idx)\n",
    "print(num_lit.shape, num_lit_valid.shape)"
   ]
  },
  {
   "cell_type": "code",
   "execution_count": 17,
   "metadata": {},
   "outputs": [
    {
     "data": {
      "text/plain": [
       "array([[ 0.0000000e+00,  0.0000000e+00,  0.0000000e+00, ...,\n",
       "         0.0000000e+00,  0.0000000e+00,  0.0000000e+00],\n",
       "       [ 3.8980667e+01, -7.7100258e+01,  0.0000000e+00, ...,\n",
       "         0.0000000e+00,  3.2956000e+04,  0.0000000e+00],\n",
       "       [ 3.9828175e+01, -9.8579498e+01,  7.1379997e+01, ...,\n",
       "         9.2000002e-01,  0.0000000e+00,  0.0000000e+00],\n",
       "       ...,\n",
       "       [ 4.5849998e+01,  0.0000000e+00,  4.5870201e+01, ...,\n",
       "         0.0000000e+00,  0.0000000e+00,  0.0000000e+00],\n",
       "       [ 4.5666668e+01,  0.0000000e+00,  4.5683453e+01, ...,\n",
       "         0.0000000e+00,  0.0000000e+00,  0.0000000e+00],\n",
       "       [ 4.7462502e+01, -9.2540001e+01,  0.0000000e+00, ...,\n",
       "         0.0000000e+00,  0.0000000e+00,  0.0000000e+00]], dtype=float32)"
      ]
     },
     "execution_count": 17,
     "metadata": {},
     "output_type": "execute_result"
    }
   ],
   "source": [
    "# issue:可能有很多空值\n",
    "num_lit[:20]"
   ]
  },
  {
   "cell_type": "code",
   "execution_count": null,
   "metadata": {},
   "outputs": [],
   "source": [
    "#值用標準化的\n",
    "#num_lit_stdv = numeric_literal_array(attri_data_std_v, ent2idx, att2idx)\n",
    "#print(num_lit_stdv.shape)"
   ]
  },
  {
   "cell_type": "code",
   "execution_count": 18,
   "metadata": {},
   "outputs": [],
   "source": [
    "# ## constraint needed:\n",
    "pop_idx = att2idx['P1082']\n",
    "gdp = att2idx['P4010']\n",
    "#nominal_gdp = att2idx['P2131']\n",
    "# nominal_gdp_per = att2idx['P2132']\n",
    "gdp_per = att2idx['P2299']\n",
    "# date_of_birth = att2idx['P569']\n",
    "# date_of_death = att2idx['P570']\n",
    "# area = ['P2046']\n",
    "# work_start = att2idx['P2031']\n",
    "# work_end = att2idx['P2032']"
   ]
  },
  {
   "cell_type": "code",
   "execution_count": 195,
   "metadata": {},
   "outputs": [
    {
     "data": {
      "text/plain": [
       "(70, 3, 46)"
      ]
     },
     "execution_count": 195,
     "metadata": {},
     "output_type": "execute_result"
    }
   ],
   "source": [
    "gdp,pop_idx,gdp_per"
   ]
  },
  {
   "cell_type": "code",
   "execution_count": 200,
   "metadata": {
    "collapsed": true
   },
   "outputs": [
    {
     "data": {
      "text/html": [
       "<div>\n",
       "<style scoped>\n",
       "    .dataframe tbody tr th:only-of-type {\n",
       "        vertical-align: middle;\n",
       "    }\n",
       "\n",
       "    .dataframe tbody tr th {\n",
       "        vertical-align: top;\n",
       "    }\n",
       "\n",
       "    .dataframe thead th {\n",
       "        text-align: right;\n",
       "    }\n",
       "</style>\n",
       "<table border=\"1\" class=\"dataframe\">\n",
       "  <thead>\n",
       "    <tr style=\"text-align: right;\">\n",
       "      <th></th>\n",
       "      <th>e</th>\n",
       "      <th>a</th>\n",
       "      <th>v</th>\n",
       "    </tr>\n",
       "  </thead>\n",
       "  <tbody>\n",
       "    <tr>\n",
       "      <th>1628</th>\n",
       "      <td>Q8268</td>\n",
       "      <td>P4010</td>\n",
       "      <td>1.539088e+13</td>\n",
       "    </tr>\n",
       "    <tr>\n",
       "      <th>2287</th>\n",
       "      <td>Q244</td>\n",
       "      <td>P4010</td>\n",
       "      <td>5.302755e+09</td>\n",
       "    </tr>\n",
       "    <tr>\n",
       "      <th>5603</th>\n",
       "      <td>Q1842</td>\n",
       "      <td>P4010</td>\n",
       "      <td>6.418994e+10</td>\n",
       "    </tr>\n",
       "    <tr>\n",
       "      <th>7700</th>\n",
       "      <td>Q1016</td>\n",
       "      <td>P4010</td>\n",
       "      <td>1.254076e+11</td>\n",
       "    </tr>\n",
       "    <tr>\n",
       "      <th>10990</th>\n",
       "      <td>Q1019</td>\n",
       "      <td>P4010</td>\n",
       "      <td>3.984827e+10</td>\n",
       "    </tr>\n",
       "    <tr>\n",
       "      <th>...</th>\n",
       "      <td>...</td>\n",
       "      <td>...</td>\n",
       "      <td>...</td>\n",
       "    </tr>\n",
       "    <tr>\n",
       "      <th>233017</th>\n",
       "      <td>Q117</td>\n",
       "      <td>P4010</td>\n",
       "      <td>1.298048e+11</td>\n",
       "    </tr>\n",
       "    <tr>\n",
       "      <th>233350</th>\n",
       "      <td>Q1050</td>\n",
       "      <td>P4010</td>\n",
       "      <td>1.183927e+10</td>\n",
       "    </tr>\n",
       "    <tr>\n",
       "      <th>234707</th>\n",
       "      <td>Q754</td>\n",
       "      <td>P4010</td>\n",
       "      <td>4.332553e+10</td>\n",
       "    </tr>\n",
       "    <tr>\n",
       "      <th>236488</th>\n",
       "      <td>Q822</td>\n",
       "      <td>P4010</td>\n",
       "      <td>8.827136e+10</td>\n",
       "    </tr>\n",
       "    <tr>\n",
       "      <th>237016</th>\n",
       "      <td>Q238</td>\n",
       "      <td>P4010</td>\n",
       "      <td>2.122523e+09</td>\n",
       "    </tr>\n",
       "  </tbody>\n",
       "</table>\n",
       "<p>125 rows × 3 columns</p>\n",
       "</div>"
      ],
      "text/plain": [
       "            e      a             v\n",
       "1628    Q8268  P4010  1.539088e+13\n",
       "2287     Q244  P4010  5.302755e+09\n",
       "5603    Q1842  P4010  6.418994e+10\n",
       "7700    Q1016  P4010  1.254076e+11\n",
       "10990   Q1019  P4010  3.984827e+10\n",
       "...       ...    ...           ...\n",
       "233017   Q117  P4010  1.298048e+11\n",
       "233350  Q1050  P4010  1.183927e+10\n",
       "234707   Q754  P4010  4.332553e+10\n",
       "236488   Q822  P4010  8.827136e+10\n",
       "237016   Q238  P4010  2.122523e+09\n",
       "\n",
       "[125 rows x 3 columns]"
      ]
     },
     "execution_count": 200,
     "metadata": {},
     "output_type": "execute_result"
    }
   ],
   "source": [
    "attri_data_train[attri_data_train['a']=='P4010']\n"
   ]
  },
  {
   "cell_type": "code",
   "execution_count": 26,
   "metadata": {
    "scrolled": false
   },
   "outputs": [
    {
     "data": {
      "text/plain": [
       "(125407560000.0, 19672.96, 0.0)"
      ]
     },
     "execution_count": 26,
     "metadata": {},
     "output_type": "execute_result"
    }
   ],
   "source": [
    "#有資料有缺漏\n",
    "num_lit[660][gdp],num_lit[660][gdp_per]*num_lit[660][pop_idx]\n",
    "num_lit[660][gdp],num_lit[660][gdp_per],num_lit[660][pop_idx]"
   ]
  },
  {
   "cell_type": "markdown",
   "metadata": {},
   "source": [
    "# 做x_list under principle:\n",
    "## 1.先確定有true資料: ent的var有值\n",
    "## 2.取其他的特徵: var以外的值存到inner_x_list"
   ]
  },
  {
   "cell_type": "code",
   "execution_count": 137,
   "metadata": {},
   "outputs": [],
   "source": [
    "# inner_x_list[-1]是true，x_list是有var有值的組，len(x_list)是有幾組變數有值\n",
    "# normalized or non-normalized\n",
    "x_list=[]\n",
    "\n",
    "for ent in num_lit:\n",
    "    if ent[gdp] == 0:\n",
    "        pass\n",
    "    else:\n",
    "        inner_x_list=[]\n",
    "        for j in range(len(ent)):\n",
    "            inner_x_list.append(ent[j])\n",
    "        x_list.append(inner_x_list)\n"
   ]
  },
  {
   "cell_type": "code",
   "execution_count": 132,
   "metadata": {},
   "outputs": [],
   "source": [
    "# def 過程\n",
    "def create_x_list(var_idx,num_lit):\n",
    "    x_list=[]\n",
    "\n",
    "    for ent in num_lit:\n",
    "        if ent[var_idx] == 0:\n",
    "            pass\n",
    "        else:\n",
    "            inner_x_list=[]\n",
    "            for j in range(len(ent)):\n",
    "#                 if j != var_idx :\n",
    "                inner_x_list.append(ent[j])\n",
    "            x_list.append(inner_x_list)\n",
    "    return x_list"
   ]
  },
  {
   "cell_type": "code",
   "execution_count": 201,
   "metadata": {},
   "outputs": [],
   "source": [
    "x_list_valid=create_x_list(gdp,num_lit_valid)\n",
    "# built valid data\n",
    "df_valid = pd.DataFrame(x_list_valid)\n",
    "y_valid = df_valid.loc[:,gdp].values\n",
    "x_valid = df_valid[cols].values"
   ]
  },
  {
   "cell_type": "code",
   "execution_count": 202,
   "metadata": {
    "scrolled": true
   },
   "outputs": [
    {
     "data": {
      "text/html": [
       "<div>\n",
       "<style scoped>\n",
       "    .dataframe tbody tr th:only-of-type {\n",
       "        vertical-align: middle;\n",
       "    }\n",
       "\n",
       "    .dataframe tbody tr th {\n",
       "        vertical-align: top;\n",
       "    }\n",
       "\n",
       "    .dataframe thead th {\n",
       "        text-align: right;\n",
       "    }\n",
       "</style>\n",
       "<table border=\"1\" class=\"dataframe\">\n",
       "  <thead>\n",
       "    <tr style=\"text-align: right;\">\n",
       "      <th></th>\n",
       "      <th>0</th>\n",
       "      <th>1</th>\n",
       "      <th>2</th>\n",
       "      <th>3</th>\n",
       "      <th>4</th>\n",
       "      <th>5</th>\n",
       "      <th>6</th>\n",
       "      <th>7</th>\n",
       "      <th>8</th>\n",
       "      <th>9</th>\n",
       "      <th>...</th>\n",
       "      <th>76</th>\n",
       "      <th>77</th>\n",
       "      <th>78</th>\n",
       "      <th>79</th>\n",
       "      <th>80</th>\n",
       "      <th>81</th>\n",
       "      <th>82</th>\n",
       "      <th>83</th>\n",
       "      <th>84</th>\n",
       "      <th>85</th>\n",
       "    </tr>\n",
       "  </thead>\n",
       "  <tbody>\n",
       "    <tr>\n",
       "      <th>0</th>\n",
       "      <td>0.000000</td>\n",
       "      <td>0.000000</td>\n",
       "      <td>0.00</td>\n",
       "      <td>325145952.0</td>\n",
       "      <td>0.000000e+00</td>\n",
       "      <td>0.0</td>\n",
       "      <td>0.0</td>\n",
       "      <td>0.0</td>\n",
       "      <td>0.0</td>\n",
       "      <td>0.0</td>\n",
       "      <td>...</td>\n",
       "      <td>0.0</td>\n",
       "      <td>0.0</td>\n",
       "      <td>0.000000e+00</td>\n",
       "      <td>0.0</td>\n",
       "      <td>0.0</td>\n",
       "      <td>0.0</td>\n",
       "      <td>0.0</td>\n",
       "      <td>0.000</td>\n",
       "      <td>0.0</td>\n",
       "      <td>0.0</td>\n",
       "    </tr>\n",
       "    <tr>\n",
       "      <th>1</th>\n",
       "      <td>0.000000</td>\n",
       "      <td>0.000000</td>\n",
       "      <td>0.00</td>\n",
       "      <td>0.0</td>\n",
       "      <td>0.000000e+00</td>\n",
       "      <td>0.0</td>\n",
       "      <td>0.0</td>\n",
       "      <td>0.0</td>\n",
       "      <td>0.0</td>\n",
       "      <td>0.0</td>\n",
       "      <td>...</td>\n",
       "      <td>0.0</td>\n",
       "      <td>0.0</td>\n",
       "      <td>0.000000e+00</td>\n",
       "      <td>0.0</td>\n",
       "      <td>0.0</td>\n",
       "      <td>0.0</td>\n",
       "      <td>0.0</td>\n",
       "      <td>0.000</td>\n",
       "      <td>0.0</td>\n",
       "      <td>0.0</td>\n",
       "    </tr>\n",
       "    <tr>\n",
       "      <th>2</th>\n",
       "      <td>10.000000</td>\n",
       "      <td>0.000000</td>\n",
       "      <td>0.00</td>\n",
       "      <td>12717176.0</td>\n",
       "      <td>0.000000e+00</td>\n",
       "      <td>0.0</td>\n",
       "      <td>0.0</td>\n",
       "      <td>0.0</td>\n",
       "      <td>0.0</td>\n",
       "      <td>0.0</td>\n",
       "      <td>...</td>\n",
       "      <td>0.0</td>\n",
       "      <td>0.0</td>\n",
       "      <td>0.000000e+00</td>\n",
       "      <td>0.0</td>\n",
       "      <td>0.0</td>\n",
       "      <td>0.0</td>\n",
       "      <td>0.0</td>\n",
       "      <td>0.000</td>\n",
       "      <td>0.0</td>\n",
       "      <td>0.0</td>\n",
       "    </tr>\n",
       "    <tr>\n",
       "      <th>3</th>\n",
       "      <td>0.000000</td>\n",
       "      <td>0.000000</td>\n",
       "      <td>0.00</td>\n",
       "      <td>0.0</td>\n",
       "      <td>0.000000e+00</td>\n",
       "      <td>0.0</td>\n",
       "      <td>0.0</td>\n",
       "      <td>0.0</td>\n",
       "      <td>0.0</td>\n",
       "      <td>0.0</td>\n",
       "      <td>...</td>\n",
       "      <td>0.0</td>\n",
       "      <td>0.0</td>\n",
       "      <td>0.000000e+00</td>\n",
       "      <td>0.0</td>\n",
       "      <td>0.0</td>\n",
       "      <td>0.0</td>\n",
       "      <td>0.0</td>\n",
       "      <td>0.000</td>\n",
       "      <td>0.0</td>\n",
       "      <td>0.0</td>\n",
       "    </tr>\n",
       "    <tr>\n",
       "      <th>4</th>\n",
       "      <td>0.000000</td>\n",
       "      <td>0.000000</td>\n",
       "      <td>0.00</td>\n",
       "      <td>0.0</td>\n",
       "      <td>0.000000e+00</td>\n",
       "      <td>0.0</td>\n",
       "      <td>0.0</td>\n",
       "      <td>0.0</td>\n",
       "      <td>0.0</td>\n",
       "      <td>0.0</td>\n",
       "      <td>...</td>\n",
       "      <td>0.0</td>\n",
       "      <td>0.0</td>\n",
       "      <td>0.000000e+00</td>\n",
       "      <td>0.0</td>\n",
       "      <td>0.0</td>\n",
       "      <td>0.0</td>\n",
       "      <td>0.0</td>\n",
       "      <td>0.000</td>\n",
       "      <td>0.0</td>\n",
       "      <td>0.0</td>\n",
       "    </tr>\n",
       "    <tr>\n",
       "      <th>5</th>\n",
       "      <td>15.500000</td>\n",
       "      <td>0.000000</td>\n",
       "      <td>0.00</td>\n",
       "      <td>0.0</td>\n",
       "      <td>0.000000e+00</td>\n",
       "      <td>0.0</td>\n",
       "      <td>0.0</td>\n",
       "      <td>0.0</td>\n",
       "      <td>0.0</td>\n",
       "      <td>0.0</td>\n",
       "      <td>...</td>\n",
       "      <td>0.0</td>\n",
       "      <td>0.0</td>\n",
       "      <td>2.315026e+09</td>\n",
       "      <td>0.0</td>\n",
       "      <td>0.0</td>\n",
       "      <td>0.0</td>\n",
       "      <td>0.0</td>\n",
       "      <td>0.000</td>\n",
       "      <td>0.0</td>\n",
       "      <td>0.0</td>\n",
       "    </tr>\n",
       "    <tr>\n",
       "      <th>6</th>\n",
       "      <td>0.000000</td>\n",
       "      <td>0.000000</td>\n",
       "      <td>0.00</td>\n",
       "      <td>0.0</td>\n",
       "      <td>0.000000e+00</td>\n",
       "      <td>0.0</td>\n",
       "      <td>0.0</td>\n",
       "      <td>0.0</td>\n",
       "      <td>0.0</td>\n",
       "      <td>0.0</td>\n",
       "      <td>...</td>\n",
       "      <td>0.0</td>\n",
       "      <td>0.0</td>\n",
       "      <td>0.000000e+00</td>\n",
       "      <td>0.0</td>\n",
       "      <td>0.0</td>\n",
       "      <td>0.0</td>\n",
       "      <td>0.0</td>\n",
       "      <td>0.000</td>\n",
       "      <td>0.0</td>\n",
       "      <td>0.0</td>\n",
       "    </tr>\n",
       "    <tr>\n",
       "      <th>7</th>\n",
       "      <td>35.883335</td>\n",
       "      <td>0.000000</td>\n",
       "      <td>0.00</td>\n",
       "      <td>0.0</td>\n",
       "      <td>0.000000e+00</td>\n",
       "      <td>0.0</td>\n",
       "      <td>0.0</td>\n",
       "      <td>0.0</td>\n",
       "      <td>0.0</td>\n",
       "      <td>0.0</td>\n",
       "      <td>...</td>\n",
       "      <td>0.0</td>\n",
       "      <td>0.0</td>\n",
       "      <td>0.000000e+00</td>\n",
       "      <td>0.0</td>\n",
       "      <td>0.0</td>\n",
       "      <td>0.0</td>\n",
       "      <td>0.0</td>\n",
       "      <td>0.839</td>\n",
       "      <td>0.0</td>\n",
       "      <td>0.0</td>\n",
       "    </tr>\n",
       "    <tr>\n",
       "      <th>8</th>\n",
       "      <td>0.000000</td>\n",
       "      <td>0.000000</td>\n",
       "      <td>0.00</td>\n",
       "      <td>0.0</td>\n",
       "      <td>5.813090e+11</td>\n",
       "      <td>0.0</td>\n",
       "      <td>0.0</td>\n",
       "      <td>0.0</td>\n",
       "      <td>0.0</td>\n",
       "      <td>0.0</td>\n",
       "      <td>...</td>\n",
       "      <td>0.0</td>\n",
       "      <td>0.0</td>\n",
       "      <td>0.000000e+00</td>\n",
       "      <td>0.0</td>\n",
       "      <td>0.0</td>\n",
       "      <td>0.0</td>\n",
       "      <td>0.0</td>\n",
       "      <td>0.000</td>\n",
       "      <td>0.0</td>\n",
       "      <td>0.0</td>\n",
       "    </tr>\n",
       "    <tr>\n",
       "      <th>9</th>\n",
       "      <td>0.000000</td>\n",
       "      <td>0.000000</td>\n",
       "      <td>0.00</td>\n",
       "      <td>0.0</td>\n",
       "      <td>0.000000e+00</td>\n",
       "      <td>0.0</td>\n",
       "      <td>0.0</td>\n",
       "      <td>0.0</td>\n",
       "      <td>0.0</td>\n",
       "      <td>0.0</td>\n",
       "      <td>...</td>\n",
       "      <td>0.0</td>\n",
       "      <td>0.0</td>\n",
       "      <td>2.443819e+09</td>\n",
       "      <td>0.0</td>\n",
       "      <td>0.0</td>\n",
       "      <td>0.0</td>\n",
       "      <td>0.0</td>\n",
       "      <td>0.000</td>\n",
       "      <td>0.0</td>\n",
       "      <td>0.0</td>\n",
       "    </tr>\n",
       "    <tr>\n",
       "      <th>10</th>\n",
       "      <td>0.000000</td>\n",
       "      <td>0.000000</td>\n",
       "      <td>5.05</td>\n",
       "      <td>0.0</td>\n",
       "      <td>0.000000e+00</td>\n",
       "      <td>0.0</td>\n",
       "      <td>0.0</td>\n",
       "      <td>0.0</td>\n",
       "      <td>0.0</td>\n",
       "      <td>0.0</td>\n",
       "      <td>...</td>\n",
       "      <td>0.0</td>\n",
       "      <td>0.0</td>\n",
       "      <td>0.000000e+00</td>\n",
       "      <td>0.0</td>\n",
       "      <td>0.0</td>\n",
       "      <td>0.0</td>\n",
       "      <td>0.0</td>\n",
       "      <td>0.000</td>\n",
       "      <td>0.0</td>\n",
       "      <td>0.0</td>\n",
       "    </tr>\n",
       "    <tr>\n",
       "      <th>11</th>\n",
       "      <td>0.000000</td>\n",
       "      <td>0.000000</td>\n",
       "      <td>-0.50</td>\n",
       "      <td>0.0</td>\n",
       "      <td>2.100000e+07</td>\n",
       "      <td>0.0</td>\n",
       "      <td>0.0</td>\n",
       "      <td>0.0</td>\n",
       "      <td>0.0</td>\n",
       "      <td>0.0</td>\n",
       "      <td>...</td>\n",
       "      <td>0.0</td>\n",
       "      <td>0.0</td>\n",
       "      <td>0.000000e+00</td>\n",
       "      <td>0.0</td>\n",
       "      <td>0.0</td>\n",
       "      <td>0.0</td>\n",
       "      <td>0.0</td>\n",
       "      <td>0.000</td>\n",
       "      <td>0.0</td>\n",
       "      <td>0.0</td>\n",
       "    </tr>\n",
       "    <tr>\n",
       "      <th>12</th>\n",
       "      <td>0.000000</td>\n",
       "      <td>0.000000</td>\n",
       "      <td>0.00</td>\n",
       "      <td>0.0</td>\n",
       "      <td>0.000000e+00</td>\n",
       "      <td>0.0</td>\n",
       "      <td>0.0</td>\n",
       "      <td>0.0</td>\n",
       "      <td>0.0</td>\n",
       "      <td>0.0</td>\n",
       "      <td>...</td>\n",
       "      <td>0.0</td>\n",
       "      <td>0.0</td>\n",
       "      <td>0.000000e+00</td>\n",
       "      <td>0.0</td>\n",
       "      <td>0.0</td>\n",
       "      <td>0.0</td>\n",
       "      <td>0.0</td>\n",
       "      <td>0.000</td>\n",
       "      <td>0.0</td>\n",
       "      <td>0.0</td>\n",
       "    </tr>\n",
       "    <tr>\n",
       "      <th>13</th>\n",
       "      <td>0.000000</td>\n",
       "      <td>0.000000</td>\n",
       "      <td>0.00</td>\n",
       "      <td>0.0</td>\n",
       "      <td>0.000000e+00</td>\n",
       "      <td>0.0</td>\n",
       "      <td>0.0</td>\n",
       "      <td>0.0</td>\n",
       "      <td>0.0</td>\n",
       "      <td>0.0</td>\n",
       "      <td>...</td>\n",
       "      <td>0.0</td>\n",
       "      <td>0.0</td>\n",
       "      <td>0.000000e+00</td>\n",
       "      <td>0.0</td>\n",
       "      <td>0.0</td>\n",
       "      <td>0.0</td>\n",
       "      <td>0.0</td>\n",
       "      <td>0.000</td>\n",
       "      <td>0.0</td>\n",
       "      <td>0.0</td>\n",
       "    </tr>\n",
       "    <tr>\n",
       "      <th>14</th>\n",
       "      <td>3.000000</td>\n",
       "      <td>0.000000</td>\n",
       "      <td>0.00</td>\n",
       "      <td>0.0</td>\n",
       "      <td>3.302900e+11</td>\n",
       "      <td>0.0</td>\n",
       "      <td>0.0</td>\n",
       "      <td>0.0</td>\n",
       "      <td>0.0</td>\n",
       "      <td>0.0</td>\n",
       "      <td>...</td>\n",
       "      <td>0.0</td>\n",
       "      <td>0.0</td>\n",
       "      <td>2.374661e+09</td>\n",
       "      <td>0.0</td>\n",
       "      <td>0.0</td>\n",
       "      <td>0.0</td>\n",
       "      <td>0.0</td>\n",
       "      <td>0.000</td>\n",
       "      <td>0.0</td>\n",
       "      <td>0.0</td>\n",
       "    </tr>\n",
       "    <tr>\n",
       "      <th>15</th>\n",
       "      <td>0.000000</td>\n",
       "      <td>-59.316666</td>\n",
       "      <td>0.00</td>\n",
       "      <td>0.0</td>\n",
       "      <td>0.000000e+00</td>\n",
       "      <td>0.0</td>\n",
       "      <td>0.0</td>\n",
       "      <td>0.0</td>\n",
       "      <td>0.0</td>\n",
       "      <td>0.0</td>\n",
       "      <td>...</td>\n",
       "      <td>0.0</td>\n",
       "      <td>0.0</td>\n",
       "      <td>0.000000e+00</td>\n",
       "      <td>0.0</td>\n",
       "      <td>0.0</td>\n",
       "      <td>0.0</td>\n",
       "      <td>0.0</td>\n",
       "      <td>0.000</td>\n",
       "      <td>0.0</td>\n",
       "      <td>0.0</td>\n",
       "    </tr>\n",
       "  </tbody>\n",
       "</table>\n",
       "<p>16 rows × 86 columns</p>\n",
       "</div>"
      ],
      "text/plain": [
       "           0          1     2            3             4    5    6    7    8   \\\n",
       "0    0.000000   0.000000  0.00  325145952.0  0.000000e+00  0.0  0.0  0.0  0.0   \n",
       "1    0.000000   0.000000  0.00          0.0  0.000000e+00  0.0  0.0  0.0  0.0   \n",
       "2   10.000000   0.000000  0.00   12717176.0  0.000000e+00  0.0  0.0  0.0  0.0   \n",
       "3    0.000000   0.000000  0.00          0.0  0.000000e+00  0.0  0.0  0.0  0.0   \n",
       "4    0.000000   0.000000  0.00          0.0  0.000000e+00  0.0  0.0  0.0  0.0   \n",
       "5   15.500000   0.000000  0.00          0.0  0.000000e+00  0.0  0.0  0.0  0.0   \n",
       "6    0.000000   0.000000  0.00          0.0  0.000000e+00  0.0  0.0  0.0  0.0   \n",
       "7   35.883335   0.000000  0.00          0.0  0.000000e+00  0.0  0.0  0.0  0.0   \n",
       "8    0.000000   0.000000  0.00          0.0  5.813090e+11  0.0  0.0  0.0  0.0   \n",
       "9    0.000000   0.000000  0.00          0.0  0.000000e+00  0.0  0.0  0.0  0.0   \n",
       "10   0.000000   0.000000  5.05          0.0  0.000000e+00  0.0  0.0  0.0  0.0   \n",
       "11   0.000000   0.000000 -0.50          0.0  2.100000e+07  0.0  0.0  0.0  0.0   \n",
       "12   0.000000   0.000000  0.00          0.0  0.000000e+00  0.0  0.0  0.0  0.0   \n",
       "13   0.000000   0.000000  0.00          0.0  0.000000e+00  0.0  0.0  0.0  0.0   \n",
       "14   3.000000   0.000000  0.00          0.0  3.302900e+11  0.0  0.0  0.0  0.0   \n",
       "15   0.000000 -59.316666  0.00          0.0  0.000000e+00  0.0  0.0  0.0  0.0   \n",
       "\n",
       "     9   ...   76   77            78   79   80   81   82     83   84   85  \n",
       "0   0.0  ...  0.0  0.0  0.000000e+00  0.0  0.0  0.0  0.0  0.000  0.0  0.0  \n",
       "1   0.0  ...  0.0  0.0  0.000000e+00  0.0  0.0  0.0  0.0  0.000  0.0  0.0  \n",
       "2   0.0  ...  0.0  0.0  0.000000e+00  0.0  0.0  0.0  0.0  0.000  0.0  0.0  \n",
       "3   0.0  ...  0.0  0.0  0.000000e+00  0.0  0.0  0.0  0.0  0.000  0.0  0.0  \n",
       "4   0.0  ...  0.0  0.0  0.000000e+00  0.0  0.0  0.0  0.0  0.000  0.0  0.0  \n",
       "5   0.0  ...  0.0  0.0  2.315026e+09  0.0  0.0  0.0  0.0  0.000  0.0  0.0  \n",
       "6   0.0  ...  0.0  0.0  0.000000e+00  0.0  0.0  0.0  0.0  0.000  0.0  0.0  \n",
       "7   0.0  ...  0.0  0.0  0.000000e+00  0.0  0.0  0.0  0.0  0.839  0.0  0.0  \n",
       "8   0.0  ...  0.0  0.0  0.000000e+00  0.0  0.0  0.0  0.0  0.000  0.0  0.0  \n",
       "9   0.0  ...  0.0  0.0  2.443819e+09  0.0  0.0  0.0  0.0  0.000  0.0  0.0  \n",
       "10  0.0  ...  0.0  0.0  0.000000e+00  0.0  0.0  0.0  0.0  0.000  0.0  0.0  \n",
       "11  0.0  ...  0.0  0.0  0.000000e+00  0.0  0.0  0.0  0.0  0.000  0.0  0.0  \n",
       "12  0.0  ...  0.0  0.0  0.000000e+00  0.0  0.0  0.0  0.0  0.000  0.0  0.0  \n",
       "13  0.0  ...  0.0  0.0  0.000000e+00  0.0  0.0  0.0  0.0  0.000  0.0  0.0  \n",
       "14  0.0  ...  0.0  0.0  2.374661e+09  0.0  0.0  0.0  0.0  0.000  0.0  0.0  \n",
       "15  0.0  ...  0.0  0.0  0.000000e+00  0.0  0.0  0.0  0.0  0.000  0.0  0.0  \n",
       "\n",
       "[16 rows x 86 columns]"
      ]
     },
     "execution_count": 202,
     "metadata": {},
     "output_type": "execute_result"
    }
   ],
   "source": [
    "df_valid"
   ]
  },
  {
   "cell_type": "code",
   "execution_count": 138,
   "metadata": {},
   "outputs": [],
   "source": [
    "df = pd.DataFrame(x_list)"
   ]
  },
  {
   "cell_type": "code",
   "execution_count": 139,
   "metadata": {},
   "outputs": [],
   "source": [
    "# 刪掉全為0值的feature\n",
    "df=df.loc[:,(df!=0).any(axis=0)]"
   ]
  },
  {
   "cell_type": "code",
   "execution_count": 140,
   "metadata": {},
   "outputs": [],
   "source": [
    "# preparing data y\n",
    "y_train = df.loc[:,gdp].values"
   ]
  },
  {
   "cell_type": "code",
   "execution_count": 141,
   "metadata": {
    "scrolled": true
   },
   "outputs": [],
   "source": [
    "# data x (扣除gdp)\n",
    "cols = [i for i in df.columns if i != gdp]\n",
    "x_train = df[cols].values"
   ]
  },
  {
   "cell_type": "code",
   "execution_count": 262,
   "metadata": {},
   "outputs": [
    {
     "data": {
      "text/plain": [
       "array([[ 5.1000000e+01,  1.0000000e+01,  5.4911209e+01, ...,\n",
       "         3.6774391e+12,  2.5481088e+09,  9.2600000e-01],\n",
       "       [-6.8333054e-01,  1.1500000e+01,  2.3199999e+00, ...,\n",
       "         0.0000000e+00,  2.0846900e+09,  7.0200002e-01],\n",
       "       [ 4.6000000e+01,  2.5000000e+01,  4.8270000e+01, ...,\n",
       "         1.8669060e+11,  0.0000000e+00,  7.9299998e-01],\n",
       "       ...,\n",
       "       [ 0.0000000e+00,  0.0000000e+00,  0.0000000e+00, ...,\n",
       "         1.2589497e+13,  0.0000000e+00,  0.0000000e+00],\n",
       "       [-7.5000000e-01,  1.5383330e+01,  3.7000000e+00, ...,\n",
       "         8.7225528e+09,  2.0380140e+09,  0.0000000e+00],\n",
       "       [ 0.0000000e+00,  7.3220001e+01,  7.1058335e+00, ...,\n",
       "         4.5970831e+09,  2.4389627e+09,  7.1700001e-01]], dtype=float32)"
      ]
     },
     "execution_count": 262,
     "metadata": {},
     "output_type": "execute_result"
    }
   ],
   "source": [
    "x_train[]"
   ]
  },
  {
   "cell_type": "code",
   "execution_count": null,
   "metadata": {},
   "outputs": [],
   "source": [
    "#[list(att2idx.keys())[list(att2idx.values()).index(i)] for i in select_feature]"
   ]
  },
  {
   "cell_type": "code",
   "execution_count": 150,
   "metadata": {},
   "outputs": [
    {
     "data": {
      "text/plain": [
       "((125, 27), (16, 27), (125,), (16,))"
      ]
     },
     "execution_count": 150,
     "metadata": {},
     "output_type": "execute_result"
    }
   ],
   "source": [
    "x_train.shape, x_valid.shape, y_train.shape, y_valid.shape"
   ]
  },
  {
   "cell_type": "code",
   "execution_count": 267,
   "metadata": {},
   "outputs": [
    {
     "data": {
      "text/plain": [
       "(52555.934, 0.0)"
      ]
     },
     "execution_count": 267,
     "metadata": {},
     "output_type": "execute_result"
    }
   ],
   "source": [
    "x_train[0][cols.index(46)],x_train[0][cols.index(3)]"
   ]
  },
  {
   "cell_type": "code",
   "execution_count": 20,
   "metadata": {
    "scrolled": false
   },
   "outputs": [],
   "source": [
    "#data=pd.DataFrame(x_list,columns=list(range(len(x_list[0]))))"
   ]
  },
  {
   "cell_type": "code",
   "execution_count": null,
   "metadata": {},
   "outputs": [],
   "source": [
    "# y_list=list()\n",
    "# for ent2 in num_lit:\n",
    "#     if ent2[gdp] ==0:\n",
    "#         pass\n",
    "#     else:\n",
    "#         y_list.append(ent2[gdp])"
   ]
  },
  {
   "cell_type": "code",
   "execution_count": null,
   "metadata": {},
   "outputs": [],
   "source": [
    "# for i in range(len(x_list)):\n",
    "#     inner_x = x_list[i]\n",
    "#     inner_x.append(y_list[i])\n",
    "# x_list.append(inner_x)\n"
   ]
  },
  {
   "cell_type": "code",
   "execution_count": 63,
   "metadata": {},
   "outputs": [],
   "source": [
    "def select_feat(train_data, valid_data, select_all=True):\n",
    "    '''Selects useful features to perform regression'''\n",
    "\n",
    "    sc = StandardScaler()\n",
    "    train_data = sc.fit_transform(train_data)\n",
    "    valid_data = sc.transform(valid_data)\n",
    "    \n",
    "    y_train, y_valid = train_data[:,-1], valid_data[:,-1]\n",
    "    raw_x_train, raw_x_valid = train_data[:,:-1], valid_data[:,:-1]\n",
    "    \n",
    "\n",
    "    if select_all:\n",
    "        feat_idx = list(range(raw_x_train.shape[1]))\n",
    "    else:\n",
    "        feat_idx = select_feature # TODO: Select suitable feature columns.\n",
    "        \n",
    "    return raw_x_train[:,feat_idx], raw_x_valid[:,feat_idx], y_train, y_valid"
   ]
  },
  {
   "cell_type": "code",
   "execution_count": 151,
   "metadata": {},
   "outputs": [],
   "source": [
    "class KGMTL_Data(Dataset):\n",
    "    '''\n",
    "    x: Features.\n",
    "    y: Targets, if none, do prediction.\n",
    "    '''\n",
    "    def __init__(self, x, y=None):\n",
    "        if y is None:\n",
    "            self.y = y\n",
    "        else:\n",
    "            self.y = torch.FloatTensor(y)\n",
    "        self.x = torch.FloatTensor(x)\n",
    "        \n",
    "\n",
    "    def __getitem__(self, idx):\n",
    "        if self.y is None:\n",
    "            return self.x[idx]\n",
    "        else:\n",
    "            return self.x[idx], self.y[idx]\n",
    "\n",
    "    def __len__(self):\n",
    "        return len(self.x)\n",
    "\n",
    "\n",
    "    "
   ]
  },
  {
   "cell_type": "code",
   "execution_count": 309,
   "metadata": {},
   "outputs": [
    {
     "name": "stdout",
     "output_type": "stream",
     "text": [
      "train_dataset (tensor([5.1000e+01, 1.0000e+01, 5.4911e+01, 0.0000e+00, 3.5740e+11, 0.0000e+00,\n",
      "        0.0000e+00, 0.0000e+00, 4.7270e+01, 0.0000e+00, 2.3000e-02, 5.1273e+01,\n",
      "        1.0178e+01, 1.5042e+01, 0.0000e+00, 5.1051e+01, 5.2556e+04, 0.0000e+00,\n",
      "        1.3900e+00, 4.4665e+04, 0.0000e+00, 9.1900e+02, 2.7778e+01, 2.3000e+02,\n",
      "        3.6774e+12, 2.5481e+09, 9.2600e-01]), tensor(4.3456e+12))\n"
     ]
    }
   ],
   "source": [
    "# Set seed for reproducibility\n",
    "same_seed(config['seed'])\n",
    "\n",
    "\n",
    "# # train_data size: 2699 x 118 (id + 37 states + 16 features x 5 days) \n",
    "# # test_data size: 1078 x 117 (without last day's positive rate)\n",
    "# train_data, valid_data = x_list_train, x_list_valid\n",
    "# #train_data, valid_data = train_valid_split(x_list, config['valid_ratio'], config['seed'])\n",
    "\n",
    "# # Print out the data size.\n",
    "# print(f\"\"\"train_data size: {train_data.shape} \n",
    "# valid_data size: {valid_data.shape} \"\"\")\n",
    "# # test_data size: {test_data.shape}\"\"\")\n",
    "\n",
    "\n",
    "# # Select features\n",
    "# x_train, x_valid, y_train, y_valid = select_feat(train_data, valid_data, config['select_all'])\n",
    "\n",
    "# # Print out the number of features.\n",
    "# print(f'number of features: {x_train.shape[1]}')\n",
    "\n",
    "train_dataset, valid_dataset = KGMTL_Data(x_train, y_train), \\\n",
    "                                            KGMTL_Data(x_valid, y_valid)\n",
    "\n",
    "print('train_dataset', train_dataset[0])\n",
    "\n",
    "# Pytorch data loader loads pytorch dataset into batches.\n",
    "train_loader = DataLoader(train_dataset, batch_size=config['batch_size'], shuffle=True, pin_memory=True)\n",
    "valid_loader = DataLoader(valid_dataset, batch_size=config['batch_size'], shuffle=False, pin_memory=True)\n",
    "# test_loader = DataLoader(test_dataset, batch_size=config['batch_size'], shuffle=False, pin_memory=True)"
   ]
  },
  {
   "cell_type": "code",
   "execution_count": 276,
   "metadata": {},
   "outputs": [
    {
     "data": {
      "text/plain": [
       "(tensor([0.0000e+00, 0.0000e+00, 0.0000e+00, 3.2515e+08, 0.0000e+00, 0.0000e+00,\n",
       "         0.0000e+00, 0.0000e+00, 0.0000e+00, 0.0000e+00, 0.0000e+00, 0.0000e+00,\n",
       "         0.0000e+00, 0.0000e+00, 0.0000e+00, 0.0000e+00, 0.0000e+00, 0.0000e+00,\n",
       "         0.0000e+00, 0.0000e+00, 0.0000e+00, 0.0000e+00, 0.0000e+00, 0.0000e+00,\n",
       "         0.0000e+00, 0.0000e+00, 0.0000e+00]),\n",
       " tensor(1.9485e+13))"
      ]
     },
     "execution_count": 276,
     "metadata": {},
     "output_type": "execute_result"
    }
   ],
   "source": [
    "valid_dataset[0]"
   ]
  },
  {
   "cell_type": "code",
   "execution_count": 387,
   "metadata": {
    "id": "49-uXYovOAI0"
   },
   "outputs": [],
   "source": [
    "class NeuralNet(nn.Module):\n",
    "    ''' A simple fully-connected deep neural network '''\n",
    "    def __init__(self, input_dim):\n",
    "        super(NeuralNet, self).__init__()\n",
    "\n",
    "        self.layers = nn.Sequential(\n",
    "            nn.Linear(input_dim, 100),\n",
    "            nn.Tanh(),\n",
    "            nn.Dropout(0.5),\n",
    "#             nn.Linear(100,100),\n",
    "#             nn.Tanh(),\n",
    "#             nn.Dropout(0.5),\n",
    "            nn.Linear(100, 1),\n",
    "        )\n",
    "\n",
    "        # Mean squared error loss\n",
    "        self.criterion = nn.MSELoss(reduction='mean')\n",
    "\n",
    "    def forward(self, x):\n",
    "        ''' Given input of size (batch_size x input_dim), compute output of the network '''\n",
    "        x = self.layers(x)\n",
    "        x = x.squeeze(1)\n",
    "        return x\n",
    "\n",
    "    def cal_loss(self, pred, target):\n",
    "        ''' Calculate loss '''\n",
    "        # TODO: you may implement L1/L2 regularization here\n",
    "        \n",
    "        return self.criterion(pred, target) + 1000"
   ]
  },
  {
   "cell_type": "markdown",
   "metadata": {
    "id": "39U_XFX6KOoj"
   },
   "source": [
    "# **Preprocess**\n",
    "\n",
    "We have three kinds of datasets:\n",
    "* `train`: for training\n",
    "* `dev`: for validation\n",
    "* `test`: for testing (w/o target value)"
   ]
  },
  {
   "cell_type": "code",
   "execution_count": 388,
   "metadata": {
    "id": "lOqcmYzMO7jB"
   },
   "outputs": [],
   "source": [
    "loss_record={'train': [], 'dev': [],'mean_train_loss':[],'mean_valid_loss':[]} \n",
    "\n",
    "def trainer(train_loader, valid_loader, model, config, device):\n",
    "\n",
    "    criterion = nn.MSELoss(reduction='mean') # Define your loss function, do not modify this.\n",
    "\n",
    "    # Define your optimization algorithm. \n",
    "    # TODO: Please check https://pytorch.org/docs/stable/optim.html to get more available algorithms.\n",
    "    # TODO: L2 regularization (optimizer(weight decay...) or implement by your self).\n",
    "    optimizer = torch.optim.SGD(model.parameters(), lr=config['learning_rate'], momentum=0.9, weight_decay=1e-3) \n",
    "\n",
    "    n_epochs, best_loss, step, early_stop_count = config['n_epochs'], math.inf, 0, 0\n",
    "\n",
    "    writer = SummaryWriter() # Writer of tensoboard\n",
    "#     if not os.path.isdir('./models_var'):\n",
    "#         os.mkdir('./models_var') # Create directory of saving models.\n",
    "    \n",
    "    for epoch in range(n_epochs):\n",
    "        model.train() # Set your model to train mode.\n",
    "\n",
    "        # tqdm is a package to visualize your training progress.\n",
    "        train_pbar = tqdm(train_loader, position=0, leave=True)\n",
    "\n",
    "        for x, y in train_pbar:\n",
    "            optimizer.zero_grad()               # Set gradient to zero.\n",
    "            \n",
    "            x, y = x.to(device), y.to(device)   # Move your data to device. \n",
    "            pred = model(x)   \n",
    "            print(f'-------predict: {pred}, y: {y}----------') \n",
    "\n",
    "            #x_constraint = torch.tensor([(x[i][cols.index(3)]*x[i][cols.index(46)]) for i in range(len(x))])\n",
    "            #x_constraint = torch.tensor([x[i][pop_idx]*x[i][gdp_per] for i in range(len(x))])\n",
    "            #print(x_constraint)\n",
    "            #x_constraint = x_constraint.to(device)\n",
    "            for i in range(len(x)):\n",
    "                if pred[i] < 0:\n",
    "            #loss = criterion(pred, y) + criterion(pred, x_constraint)\n",
    "                    #x_constraint = 1000\n",
    "                    loss = model.cal_loss(pred, y) \n",
    "            # criterion(pred,x_constraint)\n",
    "                # ((pred-x[0]*x[18])**2) \n",
    "                \n",
    "            loss.backward()                     # Compute gradient(backpropagation).\n",
    "            optimizer.step()                    # Update parameters.\n",
    "            step += 1\n",
    "            loss_record[\"train\"].append(loss.detach().item())\n",
    "            \n",
    "            # Display current epoch number and loss on tqdm progress bar.\n",
    "            train_pbar.set_description(f'Epoch [{epoch+1}/{n_epochs}]')\n",
    "            train_pbar.set_postfix({'loss': loss.detach().item()})\n",
    "\n",
    "        mean_train_loss = sum(loss_record[\"train\"])/len(loss_record[\"train\"])\n",
    "        writer.add_scalar('Loss/train', mean_train_loss, step)\n",
    "        loss_record['mean_train_loss'].append(mean_train_loss)\n",
    "\n",
    "        model.eval() # Set your model to evaluation mode.\n",
    "        for x, y in valid_loader:\n",
    "            x, y = x.to(device), y.to(device)\n",
    "            with torch.no_grad():\n",
    "                pred = model(x)\n",
    "                # print(f'x: {x}')\n",
    "                loss = criterion(pred, y)\n",
    "\n",
    "            loss_record[\"dev\"].append(loss.item())\n",
    "            \n",
    "        mean_valid_loss = sum(loss_record[\"dev\"])/len(loss_record[\"dev\"])\n",
    "        print(f'Epoch [{epoch+1}/{n_epochs}]: Train loss: {mean_train_loss:.4f}, Valid loss: {mean_valid_loss:.4f}')\n",
    "        writer.add_scalar('Loss/valid', mean_valid_loss, step)\n",
    "        loss_record['mean_valid_loss'].append(mean_valid_loss)\n",
    "\n",
    "        if mean_valid_loss < best_loss:\n",
    "            best_loss = mean_valid_loss\n",
    "            torch.save(model.state_dict(), config['save_path']) # Save your best model\n",
    "            print('Saving model with loss {:.3f}...'.format(best_loss))\n",
    "            early_stop_count = 0\n",
    "        else: \n",
    "            early_stop_count += 1\n",
    "\n",
    "        if early_stop_count >= config['early_stop']:\n",
    "            print('\\nModel is not improving, so we halt the training session.')\n",
    "            return"
   ]
  },
  {
   "cell_type": "markdown",
   "metadata": {
    "id": "0hSd4Bn3O2PL"
   },
   "source": [
    "## **Validation**"
   ]
  },
  {
   "cell_type": "code",
   "execution_count": 161,
   "metadata": {
    "id": "yrxrD3YsN3U2"
   },
   "outputs": [],
   "source": [
    "from sklearn.metrics import mean_squared_error\n",
    "from sklearn.metrics import mean_absolute_error\n",
    "def eval_matrics(y_test, y_pred):\n",
    "\n",
    "    MSE = mean_squared_error(y_test, y_pred)\n",
    "    print('MSE=',MSE)\n",
    "    RMSE =np.sqrt(MSE)\n",
    "    print('RMSE=',RMSE)\n",
    "    MAE= mean_absolute_error(y_test, y_pred)\n",
    "    print('MAE=',MAE)\n",
    "\n",
    "    R2=1-MSE/np.var(y_test)\n",
    "    print(\"R2=\", R2)"
   ]
  },
  {
   "cell_type": "markdown",
   "metadata": {
    "id": "g0pdrhQAO41L"
   },
   "source": [
    "## **Testing**"
   ]
  },
  {
   "cell_type": "code",
   "execution_count": 162,
   "metadata": {
    "id": "aSBMRFlYN5tB"
   },
   "outputs": [],
   "source": [
    "def test(tt_set, model, device):\n",
    "    model.eval()                                # set model to evalutation mode\n",
    "    preds = []; y_b=[]\n",
    "    for x,y in tt_set:                            # iterate through the dataloader\n",
    "        x ,y = x.to(device), y.to(device)                          # move data to device (cpu/cuda)\n",
    "        with torch.no_grad():                   # disable gradient calculation\n",
    "            pred = model(x)                     # forward pass (compute output)\n",
    "            preds.append(pred.detach().cpu())\n",
    "            y_b.append(y.detach().cpu())   # collect prediction\n",
    "    preds = torch.cat(preds, dim=0).numpy().reshape(-1,1)     # concatenate all predictions and convert to a numpy array\n",
    "    y_b= torch.cat(y_b,0).numpy().reshape(-1,1) \n",
    "    table  = np.concatenate((preds, y_b),axis=1)\n",
    "    eval_matrics(y_b,preds)\n",
    "    return table"
   ]
  },
  {
   "cell_type": "code",
   "execution_count": 372,
   "metadata": {
    "id": "NPXpdumwPjE7"
   },
   "outputs": [],
   "source": [
    "device = get_device()                 # get the current available device ('cpu' or 'cuda')\n",
    "#os.makedirs('models', exist_ok=True)  # The trained model will be saved to ./models/\n",
    "\n",
    "# TODO: How to tune these hyper-parameters to improve your model's performance?\n",
    "config = {\n",
    "    'seed': 5201314,      # Your seed number, you can pick your lucky number. :)\n",
    "    'select_all': False,   # Whether to use all features.\n",
    "    'n_epochs': 50,                # maximum number of epochs\n",
    "    'batch_size': 32,               # mini-batch size for dataloader\n",
    "    'learning_rate':1e-10,\n",
    "    'early_stop': 15,               # early stopping epochs (the number epochs since your model's last improvement)\n",
    "    'save_path': './models_var/model_gdp_cons_1000.pt' , # your model will be saved here\n",
    "    'valid_ratio': 0.1,   # validation_size = train_size * valid_ratio\n",
    "}\n"
   ]
  },
  {
   "cell_type": "markdown",
   "metadata": {
    "id": "6j1eOV3TOH-j"
   },
   "source": [
    "# **Load data and model**"
   ]
  },
  {
   "cell_type": "code",
   "execution_count": 389,
   "metadata": {
    "id": "FHylSirLP9oh",
    "scrolled": true
   },
   "outputs": [
    {
     "name": "stdout",
     "output_type": "stream",
     "text": [
      "NeuralNet(\n",
      "  (layers): Sequential(\n",
      "    (0): Linear(in_features=27, out_features=100, bias=True)\n",
      "    (1): Tanh()\n",
      "    (2): Dropout(p=0.5, inplace=False)\n",
      "    (3): Linear(in_features=100, out_features=1, bias=True)\n",
      "  )\n",
      "  (criterion): MSELoss()\n",
      ")\n"
     ]
    }
   ],
   "source": [
    "model = NeuralNet(input_dim=x_train.shape[1]).to(device)  # Construct model and move to device\n",
    "print(model)"
   ]
  },
  {
   "cell_type": "markdown",
   "metadata": {
    "id": "sX2B_zgSOPTJ"
   },
   "source": [
    "# **Start Training!**"
   ]
  },
  {
   "cell_type": "code",
   "execution_count": 390,
   "metadata": {
    "colab": {
     "base_uri": "https://localhost:8080/"
    },
    "id": "GrEbUxazQAAZ",
    "outputId": "f4f3bd74-2d97-4275-b69f-6609976b91f9",
    "scrolled": true
   },
   "outputs": [
    {
     "name": "stderr",
     "output_type": "stream",
     "text": [
      "Epoch [1/50]: 100%|███████████████████████████████████████████████████████████████████████████| 4/4 [00:00<00:00, 62.35it/s, loss=3.37e+24]\n"
     ]
    },
    {
     "name": "stdout",
     "output_type": "stream",
     "text": [
      "-------predict: tensor([ 0.1210, -0.0522, -0.1000, -0.1650, -1.2011, -1.0392, -0.5337, -1.0325,\n",
      "        -0.7650,  0.0344, -0.9595, -1.0143,  0.0269, -0.9013, -1.1647, -0.6356,\n",
      "         0.1417, -1.2610, -0.6067, -0.5007,  0.3237,  1.1187,  0.5260, -1.0246,\n",
      "         0.6080, -0.3426, -0.1284,  0.5984,  0.1352,  0.2838, -0.8814,  0.3891],\n",
      "       device='cuda:0', grad_fn=<SqueezeBackward1>), y: tensor([6.3187e+11, 2.8108e+09, 3.9817e+10, 2.2200e+10, 1.9305e+11, 3.5890e+09,\n",
      "        3.2814e+11, 7.1824e+10, 2.6202e+10, 5.4804e+10, 5.4389e+11, 8.3723e+10,\n",
      "        3.2950e+11, 4.3326e+10, 3.4718e+10, 1.9830e+11, 3.5818e+10, 2.8272e+10,\n",
      "        1.9976e+11, 4.3456e+12, 2.1225e+09, 6.4818e+11, 1.0050e+11, 1.4837e+09,\n",
      "        8.3936e+10, 1.1324e+12, 2.5441e+10, 1.9918e+11, 1.1839e+10, 7.1161e+11,\n",
      "        7.9901e+09, 8.7717e+11], device='cuda:0')----------\n",
      "-------predict: tensor([5280.7886, 3733.6992, 3907.3308, 3416.6072, 3254.9421, 3756.6670,\n",
      "        3461.9165,  487.5633, 3297.1172, 1102.0168, 3229.1111, 3569.9028,\n",
      "        4331.3169, 2817.0388, 2817.1008, 1900.4282, 4730.6465, 4001.1428,\n",
      "        4529.6670, 3734.9116, 4083.8025, 3290.3513, 3385.1538, 4970.7739,\n",
      "        3222.8589, 4109.0503, 3054.1350, 3827.0559, 2965.2913, -171.4707,\n",
      "        2679.1421, 2271.8848], device='cuda:0', grad_fn=<SqueezeBackward1>), y: tensor([9.4052e+10, 2.2563e+08, 4.1130e+10, 7.2816e+09, 8.5587e+09, 4.5969e+10,\n",
      "        2.2281e+11, 3.2276e+08, 1.5391e+13, 2.5433e+08, 8.8802e+08, 3.7093e+10,\n",
      "        3.2496e+12, 8.8271e+10, 6.4190e+10, 3.9060e+08, 1.2934e+09, 4.4021e+07,\n",
      "        3.7192e+10, 3.9794e+10, 5.3028e+09, 1.2998e+11, 4.7784e+11, 1.2056e+10,\n",
      "        2.0269e+10, 7.5847e+09, 6.5482e+09, 2.8188e+11, 2.8694e+10, 3.6682e+10,\n",
      "        3.5691e+09, 6.4479e+08], device='cuda:0')----------\n",
      "-------predict: tensor([  880.3510, 13080.9863,  -483.8789, 11007.0264,  1327.7776,  9327.0303,\n",
      "        12496.0400, 10598.8574,  7151.8892, 11002.9238,   293.4642, 14244.7236,\n",
      "         5568.4937,  3822.9087, 17951.4062, 12854.7344, 14263.8701,  5524.0034,\n",
      "        17261.1758, 19939.8223, 12073.6348,  5928.5308, 13159.7988, 18642.9980,\n",
      "         1990.4482,  8833.7920,  4812.1250,  7157.2959,  7183.7979,  4422.3140,\n",
      "         7346.4492, 19879.7285], device='cuda:0', grad_fn=<SqueezeBackward1>), y: tensor([1.5849e+09, 6.4303e+10, 5.2814e+11, 1.3765e+11, 4.5585e+11, 3.1713e+09,\n",
      "        2.9658e+12, 7.0220e+10, 1.6399e+11, 2.4948e+10, 5.6191e+11, 1.8189e+12,\n",
      "        6.7588e+09, 1.9534e+11, 1.6342e+09, 2.8985e+10, 4.4064e+10, 2.3995e+09,\n",
      "        4.6296e+10, 3.0981e+10, 5.5086e+10, 1.3045e+09, 1.9698e+10, 2.6531e+10,\n",
      "        7.4202e+08, 3.9014e+10, 3.9848e+10, 1.7495e+10, 2.1880e+10, 6.8624e+08,\n",
      "        1.2971e+10, 3.3953e+11], device='cuda:0')----------\n",
      "-------predict: tensor([19265.8848, 26388.4375,  7115.5454,  5025.0068, 20020.9941, 33763.7773,\n",
      "        34526.3242, 31015.6797, 10992.1025, 16815.6445, 39397.5117, 17091.4082,\n",
      "         6102.8872,  8970.2627, 23973.5645, 30924.0059, 19320.6953, 18222.9609,\n",
      "        25819.0625, 22468.7598, 18510.6309, -3699.5967, 10521.6924,  9805.0068,\n",
      "        12137.8115, 29032.8730, 12817.1797, 32198.9805, 16486.6230],\n",
      "       device='cuda:0', grad_fn=<SqueezeBackward1>), y: tensor([3.1852e+10, 1.0913e+12, 4.1572e+09, 6.0819e+09, 1.9162e+11, 5.2211e+11,\n",
      "        9.5968e+12, 3.1336e+11, 3.3894e+09, 1.2980e+11, 7.1208e+10, 2.5013e+09,\n",
      "        2.0730e+10, 1.1565e+10, 4.4681e+11, 1.2541e+11, 1.7751e+12, 9.3700e+09,\n",
      "        7.2319e+10, 1.4823e+11, 3.1942e+09, 1.0846e+11, 2.8564e+10, 2.3427e+09,\n",
      "        4.8270e+10, 6.9594e+11, 2.2435e+10, 2.9823e+11, 3.7770e+09],\n",
      "       device='cuda:0')----------\n",
      "Epoch [1/50]: Train loss: 3060609656467221540503552.0000, Valid loss: 23797471223334002141167616.0000\n",
      "Saving model with loss 23797471223334002141167616.000...\n"
     ]
    },
    {
     "name": "stderr",
     "output_type": "stream",
     "text": [
      "Epoch [2/50]:   0%|                                                                                   | 0/4 [00:00<?, ?it/s, loss=3.54e+22]"
     ]
    },
    {
     "name": "stdout",
     "output_type": "stream",
     "text": [
      "-------predict: tensor([60445.2383, 56544.3711, 52398.6680, 36501.8906,  5870.3931, -4690.7969,\n",
      "        40210.3633, 23927.5371, 22432.8691, 20030.5391, 13838.5303, 19930.5781,\n",
      "         6873.6328,  5876.1670, 20090.3848, 20922.7695, 23974.5254,  6997.5718,\n",
      "        -2538.3225, -1940.0923, 12944.7256, 30792.6680, 15356.6494, 37127.0938,\n",
      "        26852.6582, 17477.3340, 30948.7715, 18159.9512, 32687.1094, 12596.9521,\n",
      "        48301.8867, 18430.4316], device='cuda:0', grad_fn=<SqueezeBackward1>), y: tensor([7.2319e+10, 3.1336e+11, 7.1208e+10, 3.2814e+11, 3.5818e+10, 3.5890e+09,\n",
      "        1.8189e+12, 5.4804e+10, 7.4202e+08, 3.9794e+10, 2.5013e+09, 1.9534e+11,\n",
      "        5.6191e+11, 5.2814e+11, 1.9830e+11, 2.4948e+10, 2.3995e+09, 2.3427e+09,\n",
      "        3.6682e+10, 8.3723e+10, 3.9014e+10, 1.7751e+12, 3.5691e+09, 6.4818e+11,\n",
      "        3.9817e+10, 3.1942e+09, 1.9305e+11, 1.2971e+10, 3.2496e+12, 2.1880e+10,\n",
      "        8.7717e+11, 6.7588e+09], device='cuda:0')----------\n",
      "-------predict: tensor([ 73919.4062,  13126.5791,  21594.7227,  25364.5742,  33732.1133,\n",
      "         28360.6582,  42227.3164,  22476.3438,  65046.5664,  30451.7754,\n",
      "         59257.9258,  76774.8594,  19917.3008,  37856.5078,  73995.6719,\n",
      "         32807.0781, -12071.8662,  32158.8984,  70472.1328,  88957.5781,\n",
      "         -1008.0035,  37103.9688,  35683.7070,  71278.0469,  39444.3438,\n",
      "           170.3075,  54630.2578,  18718.5820,  35035.2109,  29825.8125,\n",
      "         34596.7852,  72841.1719], device='cuda:0', grad_fn=<SqueezeBackward1>), y: tensor([4.4021e+07, 3.7093e+10, 3.9060e+08, 3.9848e+10, 9.3700e+09, 1.9976e+11,\n",
      "        1.2980e+11, 1.2998e+11, 9.4052e+10, 4.8270e+10, 5.3028e+09, 1.2934e+09,\n",
      "        1.4837e+09, 1.9918e+11, 2.6531e+10, 6.5482e+09, 1.5849e+09, 2.8985e+10,\n",
      "        1.2056e+10, 3.0981e+10, 4.1572e+09, 1.6399e+11, 3.4718e+10, 5.4389e+11,\n",
      "        4.1130e+10, 2.5433e+08, 5.5086e+10, 6.3187e+11, 2.1225e+09, 2.2435e+10,\n",
      "        1.7495e+10, 5.2211e+11], device='cuda:0')----------\n",
      "-------predict: tensor([112123.1250,  58820.8984,  93210.1641,  39526.2070,  27595.9746,\n",
      "         45984.5352,  27219.5195,  61144.9102, 103527.5156,  18420.3086,\n",
      "        105000.0781,  53742.6758,  41211.8711,  58166.7617,  57281.5430,\n",
      "         51486.2227,  91893.6484,  38048.0391,  55307.1797,  92459.3594,\n",
      "         70316.2578, 102360.1406,  49496.1523, 113780.4297,  28899.2578,\n",
      "         18049.4941,  48127.7383,  29745.7109, 107185.0078,  59656.9727,\n",
      "         18146.6016,  52506.0195], device='cuda:0', grad_fn=<SqueezeBackward1>), y: tensor([6.9594e+11, 3.7192e+10, 2.8272e+10, 2.8564e+10, 6.4479e+08, 1.9698e+10,\n",
      "        2.8188e+11, 4.4064e+10, 3.3953e+11, 3.2276e+08, 2.9823e+11, 4.5969e+10,\n",
      "        1.3045e+09, 4.4681e+11, 2.8694e+10, 1.4823e+11, 7.1824e+10, 3.2950e+11,\n",
      "        2.8108e+09, 4.6296e+10, 7.2816e+09, 1.5391e+13, 1.1839e+10, 1.6342e+09,\n",
      "        6.4190e+10, 3.3894e+09, 3.7770e+09, 1.1565e+10, 9.5968e+12, 6.4303e+10,\n",
      "        7.0220e+10, 7.9901e+09], device='cuda:0')----------\n"
     ]
    },
    {
     "name": "stderr",
     "output_type": "stream",
     "text": [
      "Epoch [2/50]:  50%|█████████████████████████████████████▌                                     | 2/4 [00:00<00:00, 11.76it/s, loss=3.54e+22]\n"
     ]
    },
    {
     "ename": "RuntimeError",
     "evalue": "Trying to backward through the graph a second time (or directly access saved tensors after they have already been freed). Saved intermediate values of the graph are freed when you call .backward() or autograd.grad(). Specify retain_graph=True if you need to backward through the graph a second time or if you need to access saved tensors after calling backward.",
     "output_type": "error",
     "traceback": [
      "\u001b[0;31m---------------------------------------------------------------------------\u001b[0m",
      "\u001b[0;31mRuntimeError\u001b[0m                              Traceback (most recent call last)",
      "\u001b[0;32m/tmp/ipykernel_1743706/591854149.py\u001b[0m in \u001b[0;36m<module>\u001b[0;34m\u001b[0m\n\u001b[0;32m----> 1\u001b[0;31m \u001b[0mtrainer\u001b[0m\u001b[0;34m(\u001b[0m\u001b[0mtrain_loader\u001b[0m\u001b[0;34m,\u001b[0m \u001b[0mvalid_loader\u001b[0m\u001b[0;34m,\u001b[0m \u001b[0mmodel\u001b[0m\u001b[0;34m,\u001b[0m \u001b[0mconfig\u001b[0m\u001b[0;34m,\u001b[0m \u001b[0mdevice\u001b[0m\u001b[0;34m)\u001b[0m\u001b[0;34m\u001b[0m\u001b[0;34m\u001b[0m\u001b[0m\n\u001b[0m",
      "\u001b[0;32m/tmp/ipykernel_1743706/3009654965.py\u001b[0m in \u001b[0;36mtrainer\u001b[0;34m(train_loader, valid_loader, model, config, device)\u001b[0m\n\u001b[1;32m     41\u001b[0m                 \u001b[0;31m# ((pred-x[0]*x[18])**2)\u001b[0m\u001b[0;34m\u001b[0m\u001b[0;34m\u001b[0m\u001b[0;34m\u001b[0m\u001b[0m\n\u001b[1;32m     42\u001b[0m \u001b[0;34m\u001b[0m\u001b[0m\n\u001b[0;32m---> 43\u001b[0;31m             \u001b[0mloss\u001b[0m\u001b[0;34m.\u001b[0m\u001b[0mbackward\u001b[0m\u001b[0;34m(\u001b[0m\u001b[0;34m)\u001b[0m                     \u001b[0;31m# Compute gradient(backpropagation).\u001b[0m\u001b[0;34m\u001b[0m\u001b[0;34m\u001b[0m\u001b[0m\n\u001b[0m\u001b[1;32m     44\u001b[0m             \u001b[0moptimizer\u001b[0m\u001b[0;34m.\u001b[0m\u001b[0mstep\u001b[0m\u001b[0;34m(\u001b[0m\u001b[0;34m)\u001b[0m                    \u001b[0;31m# Update parameters.\u001b[0m\u001b[0;34m\u001b[0m\u001b[0;34m\u001b[0m\u001b[0m\n\u001b[1;32m     45\u001b[0m             \u001b[0mstep\u001b[0m \u001b[0;34m+=\u001b[0m \u001b[0;36m1\u001b[0m\u001b[0;34m\u001b[0m\u001b[0;34m\u001b[0m\u001b[0m\n",
      "\u001b[0;32m/projekte/tcl/tclext/kgc_chu/neuenv/lib/python3.7/site-packages/torch/_tensor.py\u001b[0m in \u001b[0;36mbackward\u001b[0;34m(self, gradient, retain_graph, create_graph, inputs)\u001b[0m\n\u001b[1;32m    305\u001b[0m                 \u001b[0mcreate_graph\u001b[0m\u001b[0;34m=\u001b[0m\u001b[0mcreate_graph\u001b[0m\u001b[0;34m,\u001b[0m\u001b[0;34m\u001b[0m\u001b[0;34m\u001b[0m\u001b[0m\n\u001b[1;32m    306\u001b[0m                 inputs=inputs)\n\u001b[0;32m--> 307\u001b[0;31m         \u001b[0mtorch\u001b[0m\u001b[0;34m.\u001b[0m\u001b[0mautograd\u001b[0m\u001b[0;34m.\u001b[0m\u001b[0mbackward\u001b[0m\u001b[0;34m(\u001b[0m\u001b[0mself\u001b[0m\u001b[0;34m,\u001b[0m \u001b[0mgradient\u001b[0m\u001b[0;34m,\u001b[0m \u001b[0mretain_graph\u001b[0m\u001b[0;34m,\u001b[0m \u001b[0mcreate_graph\u001b[0m\u001b[0;34m,\u001b[0m \u001b[0minputs\u001b[0m\u001b[0;34m=\u001b[0m\u001b[0minputs\u001b[0m\u001b[0;34m)\u001b[0m\u001b[0;34m\u001b[0m\u001b[0;34m\u001b[0m\u001b[0m\n\u001b[0m\u001b[1;32m    308\u001b[0m \u001b[0;34m\u001b[0m\u001b[0m\n\u001b[1;32m    309\u001b[0m     \u001b[0;32mdef\u001b[0m \u001b[0mregister_hook\u001b[0m\u001b[0;34m(\u001b[0m\u001b[0mself\u001b[0m\u001b[0;34m,\u001b[0m \u001b[0mhook\u001b[0m\u001b[0;34m)\u001b[0m\u001b[0;34m:\u001b[0m\u001b[0;34m\u001b[0m\u001b[0;34m\u001b[0m\u001b[0m\n",
      "\u001b[0;32m/projekte/tcl/tclext/kgc_chu/neuenv/lib/python3.7/site-packages/torch/autograd/__init__.py\u001b[0m in \u001b[0;36mbackward\u001b[0;34m(tensors, grad_tensors, retain_graph, create_graph, grad_variables, inputs)\u001b[0m\n\u001b[1;32m    154\u001b[0m     Variable._execution_engine.run_backward(\n\u001b[1;32m    155\u001b[0m         \u001b[0mtensors\u001b[0m\u001b[0;34m,\u001b[0m \u001b[0mgrad_tensors_\u001b[0m\u001b[0;34m,\u001b[0m \u001b[0mretain_graph\u001b[0m\u001b[0;34m,\u001b[0m \u001b[0mcreate_graph\u001b[0m\u001b[0;34m,\u001b[0m \u001b[0minputs\u001b[0m\u001b[0;34m,\u001b[0m\u001b[0;34m\u001b[0m\u001b[0;34m\u001b[0m\u001b[0m\n\u001b[0;32m--> 156\u001b[0;31m         allow_unreachable=True, accumulate_grad=True)  # allow_unreachable flag\n\u001b[0m\u001b[1;32m    157\u001b[0m \u001b[0;34m\u001b[0m\u001b[0m\n\u001b[1;32m    158\u001b[0m \u001b[0;34m\u001b[0m\u001b[0m\n",
      "\u001b[0;31mRuntimeError\u001b[0m: Trying to backward through the graph a second time (or directly access saved tensors after they have already been freed). Saved intermediate values of the graph are freed when you call .backward() or autograd.grad(). Specify retain_graph=True if you need to backward through the graph a second time or if you need to access saved tensors after calling backward."
     ]
    }
   ],
   "source": [
    "trainer(train_loader, valid_loader, model, config, device)"
   ]
  },
  {
   "cell_type": "code",
   "execution_count": null,
   "metadata": {},
   "outputs": [],
   "source": [
    "loss_record[\"mean_valid_loss\"]"
   ]
  },
  {
   "cell_type": "code",
   "execution_count": 317,
   "metadata": {
    "colab": {
     "base_uri": "https://localhost:8080/",
     "height": 295
    },
    "id": "hsNO9nnXQBvP",
    "outputId": "1626def6-94c7-4a87-9447-d939f827c8eb",
    "scrolled": true
   },
   "outputs": [
    {
     "data": {
      "image/png": "[encoded data removed]",
      "text/plain": [
       "<Figure size 432x288 with 1 Axes>"
      ]
     },
     "metadata": {
      "needs_background": "light"
     },
     "output_type": "display_data"
    }
   ],
   "source": [
    "plot_learning_curve(loss_record, title='deep model')"
   ]
  },
  {
   "cell_type": "code",
   "execution_count": 381,
   "metadata": {},
   "outputs": [
    {
     "data": {
      "text/plain": [
       "'./models_var/model_gdp_cons_1000.pt'"
      ]
     },
     "execution_count": 381,
     "metadata": {},
     "output_type": "execute_result"
    }
   ],
   "source": [
    "config['save_path']"
   ]
  },
  {
   "cell_type": "code",
   "execution_count": 384,
   "metadata": {
    "colab": {
     "base_uri": "https://localhost:8080/",
     "height": 350
    },
    "id": "3iZTVn5WQFpX",
    "outputId": "a2d5e118-559d-45c6-b644-6792af54663d"
   },
   "outputs": [
    {
     "data": {
      "text/plain": [
       "<All keys matched successfully>"
      ]
     },
     "execution_count": 384,
     "metadata": {},
     "output_type": "execute_result"
    }
   ],
   "source": [
    "del model\n",
    "model = NeuralNet(input_dim=x_train.shape[1]).to(device)\n",
    "ckpt = torch.load('./models_var/model_gdp_cons_1000.pt', map_location='cpu')  # Load your best model\n",
    "model.load_state_dict(ckpt)"
   ]
  },
  {
   "cell_type": "code",
   "execution_count": 385,
   "metadata": {
    "scrolled": true
   },
   "outputs": [
    {
     "name": "stdout",
     "output_type": "stream",
     "text": [
      "MSE= 2.3797474e+25\n",
      "RMSE= 4878265500000.0\n",
      "MAE= 1343235800000.0\n",
      "R2= -0.0820385217666626\n"
     ]
    }
   ],
   "source": [
    "preds = test(valid_loader, model, device) "
   ]
  },
  {
   "cell_type": "code",
   "execution_count": 366,
   "metadata": {},
   "outputs": [
    {
     "data": {
      "text/plain": [
       "array([1.9485394e+13, 3.6956638e+11, 2.8575754e+10, 9.5836742e+10,\n",
       "       3.0953320e+10, 1.3814188e+11, 8.0075751e+10, 1.9092842e+10,\n",
       "       1.6363201e+11, 7.8158299e+10, 3.3868532e+10, 1.9364624e+08,\n",
       "       8.6700718e+09, 1.9972602e+10, 9.3327766e+11, 6.3628268e+09],\n",
       "      dtype=float32)"
      ]
     },
     "execution_count": 366,
     "metadata": {},
     "output_type": "execute_result"
    }
   ],
   "source": [
    "y_valid"
   ]
  },
  {
   "cell_type": "code",
   "execution_count": 368,
   "metadata": {},
   "outputs": [],
   "source": [
    "pd.set_option('display.float_format', lambda x: '%.3f' % x)"
   ]
  },
  {
   "cell_type": "code",
   "execution_count": 369,
   "metadata": {
    "scrolled": true
   },
   "outputs": [
    {
     "data": {
      "text/html": [
       "<div>\n",
       "<style scoped>\n",
       "    .dataframe tbody tr th:only-of-type {\n",
       "        vertical-align: middle;\n",
       "    }\n",
       "\n",
       "    .dataframe tbody tr th {\n",
       "        vertical-align: top;\n",
       "    }\n",
       "\n",
       "    .dataframe thead th {\n",
       "        text-align: right;\n",
       "    }\n",
       "</style>\n",
       "<table border=\"1\" class=\"dataframe\">\n",
       "  <thead>\n",
       "    <tr style=\"text-align: right;\">\n",
       "      <th></th>\n",
       "      <th>predict</th>\n",
       "      <th>target</th>\n",
       "    </tr>\n",
       "  </thead>\n",
       "  <tbody>\n",
       "    <tr>\n",
       "      <th>0</th>\n",
       "      <td>-2792860.750</td>\n",
       "      <td>19485394206720.000</td>\n",
       "    </tr>\n",
       "    <tr>\n",
       "      <th>1</th>\n",
       "      <td>1192164.375</td>\n",
       "      <td>369566384128.000</td>\n",
       "    </tr>\n",
       "    <tr>\n",
       "      <th>2</th>\n",
       "      <td>-2792860.750</td>\n",
       "      <td>28575754240.000</td>\n",
       "    </tr>\n",
       "    <tr>\n",
       "      <th>3</th>\n",
       "      <td>5090158.000</td>\n",
       "      <td>95836741632.000</td>\n",
       "    </tr>\n",
       "    <tr>\n",
       "      <th>4</th>\n",
       "      <td>1192164.375</td>\n",
       "      <td>30953320448.000</td>\n",
       "    </tr>\n",
       "    <tr>\n",
       "      <th>5</th>\n",
       "      <td>2079687.750</td>\n",
       "      <td>138141876224.000</td>\n",
       "    </tr>\n",
       "    <tr>\n",
       "      <th>6</th>\n",
       "      <td>1192164.375</td>\n",
       "      <td>80075751424.000</td>\n",
       "    </tr>\n",
       "    <tr>\n",
       "      <th>7</th>\n",
       "      <td>35685932.000</td>\n",
       "      <td>19092842496.000</td>\n",
       "    </tr>\n",
       "    <tr>\n",
       "      <th>8</th>\n",
       "      <td>18148368.000</td>\n",
       "      <td>163632005120.000</td>\n",
       "    </tr>\n",
       "    <tr>\n",
       "      <th>9</th>\n",
       "      <td>2079687.750</td>\n",
       "      <td>78158299136.000</td>\n",
       "    </tr>\n",
       "    <tr>\n",
       "      <th>10</th>\n",
       "      <td>6424242.000</td>\n",
       "      <td>33868531712.000</td>\n",
       "    </tr>\n",
       "    <tr>\n",
       "      <th>11</th>\n",
       "      <td>34413580.000</td>\n",
       "      <td>193646240.000</td>\n",
       "    </tr>\n",
       "    <tr>\n",
       "      <th>12</th>\n",
       "      <td>1603845.125</td>\n",
       "      <td>8670071808.000</td>\n",
       "    </tr>\n",
       "    <tr>\n",
       "      <th>13</th>\n",
       "      <td>-197297.719</td>\n",
       "      <td>19972601856.000</td>\n",
       "    </tr>\n",
       "    <tr>\n",
       "      <th>14</th>\n",
       "      <td>16607437.000</td>\n",
       "      <td>933277663232.000</td>\n",
       "    </tr>\n",
       "    <tr>\n",
       "      <th>15</th>\n",
       "      <td>35685932.000</td>\n",
       "      <td>6362826752.000</td>\n",
       "    </tr>\n",
       "  </tbody>\n",
       "</table>\n",
       "</div>"
      ],
      "text/plain": [
       "        predict             target\n",
       "0  -2792860.750 19485394206720.000\n",
       "1   1192164.375   369566384128.000\n",
       "2  -2792860.750    28575754240.000\n",
       "3   5090158.000    95836741632.000\n",
       "4   1192164.375    30953320448.000\n",
       "5   2079687.750   138141876224.000\n",
       "6   1192164.375    80075751424.000\n",
       "7  35685932.000    19092842496.000\n",
       "8  18148368.000   163632005120.000\n",
       "9   2079687.750    78158299136.000\n",
       "10  6424242.000    33868531712.000\n",
       "11 34413580.000      193646240.000\n",
       "12  1603845.125     8670071808.000\n",
       "13  -197297.719    19972601856.000\n",
       "14 16607437.000   933277663232.000\n",
       "15 35685932.000     6362826752.000"
      ]
     },
     "execution_count": 369,
     "metadata": {},
     "output_type": "execute_result"
    }
   ],
   "source": [
    "pd.DataFrame(preds,columns=['predict','target'])"
   ]
  },
  {
   "cell_type": "code",
   "execution_count": null,
   "metadata": {},
   "outputs": [],
   "source": [
    "valid_data"
   ]
  },
  {
   "cell_type": "markdown",
   "metadata": {},
   "source": [
    "GDP value prediction\n",
    "input: entities's GDP_per, pop and 27 var values, no ent embddings \n",
    "adding gdp_per * pop constraint\n",
    "tried: lambda 0.0075, 0.2, 1000 cannot make any effect\n",
    "tried2: pred<0 cons=1000 it run into some technical isse\n",
    "value: no normalized\n",
    "problem: after one epoch cannot updated\n",
    "result: loss is large but training loss decreased slowly, with constraint no effect\n",
    "reason why: data is small(125), valid features is a lot of 0"
   ]
  },
  {
   "cell_type": "code",
   "execution_count": null,
   "metadata": {},
   "outputs": [],
   "source": []
  },
  {
   "cell_type": "markdown",
   "metadata": {
    "id": "aQikz3IPiyPf"
   },
   "source": [
    "# **Testing**\n",
    "The predictions of your model on testing set will be stored at `pred.csv`."
   ]
  },
  {
   "cell_type": "code",
   "execution_count": null,
   "metadata": {
    "colab": {
     "base_uri": "https://localhost:8080/"
    },
    "id": "O8cTuQjQQOon",
    "outputId": "6bc5de07-4c5a-4e87-9ae3-d09f539c5f2c"
   },
   "outputs": [],
   "source": [
    "def save_pred(preds, file):\n",
    "    ''' Save predictions to specified file '''\n",
    "    print('Saving results to {}'.format(file))\n",
    "    with open(file, 'w') as fp:\n",
    "        writer = csv.writer(fp)\n",
    "        writer.writerow(['id', 'tested_positive'])\n",
    "        for i, p in enumerate(preds):\n",
    "            writer.writerow([i, p])\n",
    "\n",
    "preds = test(valid_loader, model, device)  # predict COVID-19 cases with your model\n",
    "print('pred')         # save prediction file to pred.csv"
   ]
  },
  {
   "cell_type": "markdown",
   "metadata": {
    "id": "nfrVxqJanGpE"
   },
   "source": [
    "# **Hints**\n",
    "\n",
    "## **Simple Baseline**\n",
    "* Run sample code\n",
    "\n",
    "## **Medium Baseline**\n",
    "* Feature selection: 40 states + 2 `tested_positive` (`TODO` in dataset)\n",
    "\n",
    "## **Strong Baseline**\n",
    "* Feature selection (what other features are useful?)\n",
    "* DNN architecture (layers? dimension? activation function?)\n",
    "* Training (mini-batch? optimizer? learning rate?)\n",
    "* L2 regularization\n",
    "* There are some mistakes in the sample code, can you find them?"
   ]
  },
  {
   "cell_type": "markdown",
   "metadata": {
    "id": "9tmCwXgpot3t"
   },
   "source": [
    "# **Reference**\n",
    "This code is completely written by Heng-Jui Chang @ NTUEE.  \n",
    "Copying or reusing this code is required to specify the original author. \n",
    "\n",
    "E.g.  \n",
    "Source: Heng-Jui Chang @ NTUEE (https://github.com/ga642381/ML2021-Spring/blob/main/HW01/HW01.ipynb)\n"
   ]
  },
  {
   "cell_type": "code",
   "execution_count": null,
   "metadata": {},
   "outputs": [],
   "source": [
    "## Load pretrain embedding\n",
    "emb_ent = torch.load('../LiterallyWikidata/files_needed/pretrained_kge/pretrained_complex_entemb.pt')\n",
    "list_ent_ids =[]\n",
    "with open('../LiterallyWikidata/files_needed/list_ent_ids.txt','r') as f:\n",
    "    for line in f:\n",
    "        list_ent_ids.append(line.strip())\n",
    "## Preparing ent embedding\n",
    "ent2idx = {e:i for i,e in enumerate(list_ent_ids)}\n",
    "attri_data['ent_idx']= attri_data['e'].map(ent2idx)\n",
    "embedding_e = torch.nn.Embedding.from_pretrained(emb_ent)\n",
    "input_e = torch.LongTensor(attri_data['ent_idx'].to_numpy())\n",
    "\n",
    "entity_embedding = embedding_e(input_e)\n",
    "## Preparing att embedding\n",
    "# att2idx = {a:i for i,a in enumerate(attri_data['a'].unique())}\n",
    "attri_data['a_idx']=attri_data['a'].map(att2idx)\n",
    "embedding_a = torch.nn.Embedding(len(att2idx),128,padding_idx=0)\n",
    "input_a = torch.LongTensor(attri_data['a'].to_numpy())\n",
    "\n",
    "attribute_embedding = embedding_a(input_a)\n",
    "## concat two embedding\n",
    "x_data = torch.cat([entity_embedding,attribute_embedding],dim=1).detach().numpy()\n",
    "\n"
   ]
  }
 ],
 "metadata": {
  "accelerator": "GPU",
  "colab": {
   "collapsed_sections": [],
   "provenance": [
    {
     "file_id": "https://github.com/ga642381/ML2021-Spring/blob/main/HW01/HW01.ipynb",
     "timestamp": 1656054510646
    }
   ],
   "toc_visible": true
  },
  "interpreter": {
   "hash": "58040a4f1aa4f5275e06049c30a95750b5a145ef4b58852d0762723662f03261"
  },
  "kernelspec": {
   "display_name": "Python 3 (ipykernel)",
   "language": "python",
   "name": "python3"
  },
  "language_info": {
   "codemirror_mode": {
    "name": "ipython",
    "version": 3
   },
   "file_extension": ".py",
   "mimetype": "text/x-python",
   "name": "python",
   "nbconvert_exporter": "python",
   "pygments_lexer": "ipython3",
   "version": "3.7.9"
  }
 },
 "nbformat": 4,
 "nbformat_minor": 1
}

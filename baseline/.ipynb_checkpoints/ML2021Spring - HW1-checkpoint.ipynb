{
 "cells": [
  {
   "cell_type": "markdown",
   "metadata": {
    "id": "wS_4-77xHk44"
   },
   "source": [
    "# **Import Some Packages**"
   ]
  },
  {
   "cell_type": "code",
   "execution_count": 41,
   "metadata": {
    "id": "k-onQd4JNA5H"
   },
   "outputs": [],
   "source": [
    "# PyTorch\n",
    "import torch\n",
    "import torch.nn as nn\n",
    "from torch.utils.data import Dataset, DataLoader, random_split\n",
    "\n",
    "# For data preprocess\n",
    "import pandas as pd\n",
    "import numpy as np\n",
    "import csv\n",
    "import os\n",
    "\n",
    "from tqdm import tqdm\n",
    "\n",
    "import math\n",
    "from torch.utils.tensorboard import SummaryWriter\n",
    "# For plotting\n",
    "import matplotlib.pyplot as plt\n",
    "from matplotlib.pyplot import figure\n",
    "\n",
    "myseed = 80215  # set a random seed for reproducibility\n",
    "torch.backends.cudnn.deterministic = True\n",
    "torch.backends.cudnn.benchmark = False\n",
    "np.random.seed(myseed)\n",
    "torch.manual_seed(myseed)\n",
    "if torch.cuda.is_available():\n",
    "    torch.cuda.manual_seed_all(myseed)"
   ]
  },
  {
   "cell_type": "markdown",
   "metadata": {
    "id": "BtE3b6JEH7rw"
   },
   "source": [
    "# **Some Utilities**\n",
    "\n",
    "You do not need to modify this part."
   ]
  },
  {
   "cell_type": "code",
   "execution_count": 3,
   "metadata": {
    "id": "FWMT3uf1NGQp"
   },
   "outputs": [],
   "source": [
    "def get_device():\n",
    "    ''' Get device (if GPU is available, use GPU) '''\n",
    "    return 'cuda' if torch.cuda.is_available() else 'cpu'\n",
    "\n",
    "def plot_learning_curve(loss_record, title=''):\n",
    "    ''' Plot learning curve of your DNN (train & dev loss) '''\n",
    "    total_steps = len(loss_record['train'])\n",
    "    x_1 = range(total_steps)\n",
    "    x_2 = x_1[::len(loss_record['train']) // len(loss_record['dev'])]\n",
    "    figure(figsize=(6, 4))\n",
    "    plt.plot(x_1, loss_record['train'], c='tab:red', label='train')\n",
    "    plt.plot(x_2, loss_record['dev'], c='tab:cyan', label='dev')\n",
    "    plt.ylim(1000.0, 100000.)\n",
    "    plt.xlabel('Training steps')\n",
    "    plt.ylabel('MSE loss')\n",
    "    plt.title('Learning curve of {}'.format(title))\n",
    "    plt.legend()\n",
    "    plt.show()\n",
    "\n",
    "\n",
    "def plot_pred(dv_set, model, device, lim=35., preds=None, targets=None):\n",
    "    ''' Plot prediction of your DNN '''\n",
    "    if preds is None or targets is None:\n",
    "        model.eval()\n",
    "        preds, targets = [], []\n",
    "        for x, y in dv_set:\n",
    "            x, y = x.to(device), y.to(device)\n",
    "            with torch.no_grad():\n",
    "                pred = model(x)\n",
    "                preds.append(pred.detach().cpu())\n",
    "                targets.append(y.detach().cpu())\n",
    "        preds = torch.cat(preds, dim=0).numpy()\n",
    "        targets = torch.cat(targets, dim=0).numpy()\n",
    "\n",
    "    figure(figsize=(5, 5))\n",
    "    plt.scatter(targets, preds, c='r', alpha=0.5)\n",
    "    plt.plot([-0.2, lim], [-0.2, lim], c='b')\n",
    "    plt.xlim(-0.2, lim)\n",
    "    plt.ylim(-0.2, lim)\n",
    "    plt.xlabel('ground truth value')\n",
    "    plt.ylabel('predicted value')\n",
    "    plt.title('Ground Truth v.s. Prediction')\n",
    "    plt.show()\n",
    "    \n"
   ]
  },
  {
   "cell_type": "code",
   "execution_count": 17,
   "metadata": {},
   "outputs": [],
   "source": [
    "def same_seed(seed): \n",
    "    '''Fixes random number generator seeds for reproducibility.'''\n",
    "    torch.backends.cudnn.deterministic = True\n",
    "    torch.backends.cudnn.benchmark = False\n",
    "    np.random.seed(seed)\n",
    "    torch.manual_seed(seed)\n",
    "    if torch.cuda.is_available():\n",
    "        torch.cuda.manual_seed_all(seed)\n",
    "\n",
    "def train_valid_split(data_set, valid_ratio, seed):\n",
    "    '''Split provided training data into training set and validation set'''\n",
    "    valid_set_size = int(valid_ratio * len(data_set)) \n",
    "    train_set_size = len(data_set) - valid_set_size\n",
    "    train_set, valid_set = random_split(data_set, [train_set_size, valid_set_size], generator=torch.Generator().manual_seed(seed))\n",
    "    return np.array(train_set), np.array(valid_set)\n",
    "\n",
    "def predict(test_loader, model, device):\n",
    "    model.eval() # Set your model to evaluation mode.\n",
    "    preds = []\n",
    "    for x in tqdm(test_loader):\n",
    "        x = x.to(device)                        \n",
    "        with torch.no_grad():                   \n",
    "            pred = model(x)                     \n",
    "            preds.append(pred.detach().cpu())   \n",
    "    preds = torch.cat(preds, dim=0).numpy()  \n",
    "    return preds"
   ]
  },
  {
   "cell_type": "code",
   "execution_count": 88,
   "metadata": {},
   "outputs": [],
   "source": [
    "attri_data = pd.read_csv('../LiterallyWikidata/files_needed/numeric_literals_ver06')"
   ]
  },
  {
   "cell_type": "code",
   "execution_count": 83,
   "metadata": {},
   "outputs": [
    {
     "data": {
      "text/html": [
       "<div>\n",
       "<style scoped>\n",
       "    .dataframe tbody tr th:only-of-type {\n",
       "        vertical-align: middle;\n",
       "    }\n",
       "\n",
       "    .dataframe tbody tr th {\n",
       "        vertical-align: top;\n",
       "    }\n",
       "\n",
       "    .dataframe thead th {\n",
       "        text-align: right;\n",
       "    }\n",
       "</style>\n",
       "<table border=\"1\" class=\"dataframe\">\n",
       "  <thead>\n",
       "    <tr style=\"text-align: right;\">\n",
       "      <th></th>\n",
       "      <th>e</th>\n",
       "      <th>a</th>\n",
       "      <th>v</th>\n",
       "      <th>name_e</th>\n",
       "      <th>name_a</th>\n",
       "      <th>ent_type</th>\n",
       "      <th>std_v</th>\n",
       "      <th>minmax_v</th>\n",
       "    </tr>\n",
       "  </thead>\n",
       "  <tbody>\n",
       "    <tr>\n",
       "      <th>0</th>\n",
       "      <td>Q1000056</td>\n",
       "      <td>P1082</td>\n",
       "      <td>1.103200e+04</td>\n",
       "      <td>Sušice</td>\n",
       "      <td>population</td>\n",
       "      <td>Q7841907</td>\n",
       "      <td>-0.030708</td>\n",
       "      <td>2.649215e-06</td>\n",
       "    </tr>\n",
       "    <tr>\n",
       "      <th>1</th>\n",
       "      <td>Q1000056</td>\n",
       "      <td>P2044</td>\n",
       "      <td>4.720000e+02</td>\n",
       "      <td>Sušice</td>\n",
       "      <td>elevation above sea level</td>\n",
       "      <td>Q7841907</td>\n",
       "      <td>0.031306</td>\n",
       "      <td>2.219876e-03</td>\n",
       "    </tr>\n",
       "    <tr>\n",
       "      <th>2</th>\n",
       "      <td>Q1000056</td>\n",
       "      <td>P2046</td>\n",
       "      <td>4.563000e+07</td>\n",
       "      <td>Sušice</td>\n",
       "      <td>area</td>\n",
       "      <td>Q7841907</td>\n",
       "      <td>-0.006852</td>\n",
       "      <td>7.492611e-12</td>\n",
       "    </tr>\n",
       "    <tr>\n",
       "      <th>3</th>\n",
       "      <td>Q1000138</td>\n",
       "      <td>P1082</td>\n",
       "      <td>1.375000e+03</td>\n",
       "      <td>Cantenac</td>\n",
       "      <td>population</td>\n",
       "      <td>Q484170</td>\n",
       "      <td>-0.031014</td>\n",
       "      <td>3.301914e-07</td>\n",
       "    </tr>\n",
       "    <tr>\n",
       "      <th>4</th>\n",
       "      <td>Q1000138</td>\n",
       "      <td>P2044</td>\n",
       "      <td>1.000000e+00</td>\n",
       "      <td>Cantenac</td>\n",
       "      <td>elevation above sea level</td>\n",
       "      <td>Q484170</td>\n",
       "      <td>-0.116549</td>\n",
       "      <td>1.058141e-03</td>\n",
       "    </tr>\n",
       "    <tr>\n",
       "      <th>...</th>\n",
       "      <td>...</td>\n",
       "      <td>...</td>\n",
       "      <td>...</td>\n",
       "      <td>...</td>\n",
       "      <td>...</td>\n",
       "      <td>...</td>\n",
       "      <td>...</td>\n",
       "      <td>...</td>\n",
       "    </tr>\n",
       "    <tr>\n",
       "      <th>296303</th>\n",
       "      <td>Q99987</td>\n",
       "      <td>P1333_Longtiude</td>\n",
       "      <td>9.586108e+00</td>\n",
       "      <td>Brembate di Sopra</td>\n",
       "      <td>coordinates of southernmost point</td>\n",
       "      <td>Q747074</td>\n",
       "      <td>-0.140675</td>\n",
       "      <td>5.334437e-01</td>\n",
       "    </tr>\n",
       "    <tr>\n",
       "      <th>296304</th>\n",
       "      <td>Q99987</td>\n",
       "      <td>P1334_Longtiude</td>\n",
       "      <td>9.595788e+00</td>\n",
       "      <td>Brembate di Sopra</td>\n",
       "      <td>coordinates of easternmost point</td>\n",
       "      <td>Q747074</td>\n",
       "      <td>-0.144653</td>\n",
       "      <td>5.264729e-01</td>\n",
       "    </tr>\n",
       "    <tr>\n",
       "      <th>296305</th>\n",
       "      <td>Q99987</td>\n",
       "      <td>P1335_Longtiude</td>\n",
       "      <td>9.564391e+00</td>\n",
       "      <td>Brembate di Sopra</td>\n",
       "      <td>coordinates of westernmost point</td>\n",
       "      <td>Q747074</td>\n",
       "      <td>-0.142728</td>\n",
       "      <td>5.252904e-01</td>\n",
       "    </tr>\n",
       "    <tr>\n",
       "      <th>296306</th>\n",
       "      <td>Q99987</td>\n",
       "      <td>P625_Longtiude</td>\n",
       "      <td>9.580647e+00</td>\n",
       "      <td>Brembate di Sopra</td>\n",
       "      <td>coordinate location(logtitude)</td>\n",
       "      <td>Q747074</td>\n",
       "      <td>0.130122</td>\n",
       "      <td>5.244460e-01</td>\n",
       "    </tr>\n",
       "    <tr>\n",
       "      <th>296307</th>\n",
       "      <td>Q99</td>\n",
       "      <td>P625_Longtiude</td>\n",
       "      <td>-1.200000e+02</td>\n",
       "      <td>California</td>\n",
       "      <td>coordinate location(logtitude)</td>\n",
       "      <td>Q35657</td>\n",
       "      <td>-2.000731</td>\n",
       "      <td>1.621589e-01</td>\n",
       "    </tr>\n",
       "  </tbody>\n",
       "</table>\n",
       "<p>296308 rows × 8 columns</p>\n",
       "</div>"
      ],
      "text/plain": [
       "               e                a             v             name_e  \\\n",
       "0       Q1000056            P1082  1.103200e+04             Sušice   \n",
       "1       Q1000056            P2044  4.720000e+02             Sušice   \n",
       "2       Q1000056            P2046  4.563000e+07             Sušice   \n",
       "3       Q1000138            P1082  1.375000e+03           Cantenac   \n",
       "4       Q1000138            P2044  1.000000e+00           Cantenac   \n",
       "...          ...              ...           ...                ...   \n",
       "296303    Q99987  P1333_Longtiude  9.586108e+00  Brembate di Sopra   \n",
       "296304    Q99987  P1334_Longtiude  9.595788e+00  Brembate di Sopra   \n",
       "296305    Q99987  P1335_Longtiude  9.564391e+00  Brembate di Sopra   \n",
       "296306    Q99987   P625_Longtiude  9.580647e+00  Brembate di Sopra   \n",
       "296307       Q99   P625_Longtiude -1.200000e+02         California   \n",
       "\n",
       "                                   name_a  ent_type     std_v      minmax_v  \n",
       "0                              population  Q7841907 -0.030708  2.649215e-06  \n",
       "1               elevation above sea level  Q7841907  0.031306  2.219876e-03  \n",
       "2                                    area  Q7841907 -0.006852  7.492611e-12  \n",
       "3                              population   Q484170 -0.031014  3.301914e-07  \n",
       "4               elevation above sea level   Q484170 -0.116549  1.058141e-03  \n",
       "...                                   ...       ...       ...           ...  \n",
       "296303  coordinates of southernmost point   Q747074 -0.140675  5.334437e-01  \n",
       "296304   coordinates of easternmost point   Q747074 -0.144653  5.264729e-01  \n",
       "296305   coordinates of westernmost point   Q747074 -0.142728  5.252904e-01  \n",
       "296306     coordinate location(logtitude)   Q747074  0.130122  5.244460e-01  \n",
       "296307     coordinate location(logtitude)    Q35657 -2.000731  1.621589e-01  \n",
       "\n",
       "[296308 rows x 8 columns]"
      ]
     },
     "execution_count": 83,
     "metadata": {},
     "output_type": "execute_result"
    }
   ],
   "source": [
    "attri_data"
   ]
  },
  {
   "cell_type": "code",
   "execution_count": 89,
   "metadata": {},
   "outputs": [],
   "source": [
    "# 用kgeemb順序\n",
    "ent2idx ={}\n",
    "with open('../LiterallyWikidata/files_needed/list_ent_ids.txt','r') as fr:\n",
    "    for i, word in enumerate(fr.readlines()):\n",
    "        ent2idx[word.strip()] = i\n",
    "\n",
    "\n",
    "attri_data_std_v = attri_data[['e','a','std_v']]\n",
    "attri_data_eav = attri_data[['e','a','v']]\n",
    "# att2idx = {}\n",
    "# #rel2idx = {v:k for k,v in enumerate(relations['label'].unique())}\n",
    "\n",
    "# with open('../LiterallyWikidata/files_needed/attribute.txt','r') as fr:\n",
    "#     for i, word in enumerate(fr.readlines()):\n",
    "#         att2idx[word.strip()] = i\n",
    "        \n",
    "att2idx = {v:k for k,v in enumerate(attri_data['a'].unique())}"
   ]
  },
  {
   "cell_type": "code",
   "execution_count": 85,
   "metadata": {
    "collapsed": true
   },
   "outputs": [
    {
     "name": "stderr",
     "output_type": "stream",
     "text": [
      "/projekte/tcl/tclext/kgc_chu/neuenv/lib/python3.7/site-packages/ipykernel_launcher.py:1: SettingWithCopyWarning: \n",
      "A value is trying to be set on a copy of a slice from a DataFrame.\n",
      "Try using .loc[row_indexer,col_indexer] = value instead\n",
      "\n",
      "See the caveats in the documentation: https://pandas.pydata.org/pandas-docs/stable/user_guide/indexing.html#returning-a-view-versus-a-copy\n",
      "  \"\"\"Entry point for launching an IPython kernel.\n",
      "/projekte/tcl/tclext/kgc_chu/neuenv/lib/python3.7/site-packages/ipykernel_launcher.py:2: SettingWithCopyWarning: \n",
      "A value is trying to be set on a copy of a slice from a DataFrame.\n",
      "Try using .loc[row_indexer,col_indexer] = value instead\n",
      "\n",
      "See the caveats in the documentation: https://pandas.pydata.org/pandas-docs/stable/user_guide/indexing.html#returning-a-view-versus-a-copy\n",
      "  \n"
     ]
    }
   ],
   "source": [
    "# attri_data['a_idx']=attri_data['a'].map(att2idx)\n",
    "# attri_data['e_idx']=attri_data['e'].map(ent2idx)"
   ]
  },
  {
   "cell_type": "code",
   "execution_count": 91,
   "metadata": {},
   "outputs": [
    {
     "data": {
      "text/html": [
       "<div>\n",
       "<style scoped>\n",
       "    .dataframe tbody tr th:only-of-type {\n",
       "        vertical-align: middle;\n",
       "    }\n",
       "\n",
       "    .dataframe tbody tr th {\n",
       "        vertical-align: top;\n",
       "    }\n",
       "\n",
       "    .dataframe thead th {\n",
       "        text-align: right;\n",
       "    }\n",
       "</style>\n",
       "<table border=\"1\" class=\"dataframe\">\n",
       "  <thead>\n",
       "    <tr style=\"text-align: right;\">\n",
       "      <th></th>\n",
       "      <th>e</th>\n",
       "      <th>a</th>\n",
       "      <th>v</th>\n",
       "    </tr>\n",
       "  </thead>\n",
       "  <tbody>\n",
       "    <tr>\n",
       "      <th>0</th>\n",
       "      <td>Q1000056</td>\n",
       "      <td>P1082</td>\n",
       "      <td>1.103200e+04</td>\n",
       "    </tr>\n",
       "    <tr>\n",
       "      <th>1</th>\n",
       "      <td>Q1000056</td>\n",
       "      <td>P2044</td>\n",
       "      <td>4.720000e+02</td>\n",
       "    </tr>\n",
       "    <tr>\n",
       "      <th>2</th>\n",
       "      <td>Q1000056</td>\n",
       "      <td>P2046</td>\n",
       "      <td>4.563000e+07</td>\n",
       "    </tr>\n",
       "    <tr>\n",
       "      <th>3</th>\n",
       "      <td>Q1000138</td>\n",
       "      <td>P1082</td>\n",
       "      <td>1.375000e+03</td>\n",
       "    </tr>\n",
       "    <tr>\n",
       "      <th>4</th>\n",
       "      <td>Q1000138</td>\n",
       "      <td>P2044</td>\n",
       "      <td>1.000000e+00</td>\n",
       "    </tr>\n",
       "    <tr>\n",
       "      <th>...</th>\n",
       "      <td>...</td>\n",
       "      <td>...</td>\n",
       "      <td>...</td>\n",
       "    </tr>\n",
       "    <tr>\n",
       "      <th>296303</th>\n",
       "      <td>Q99987</td>\n",
       "      <td>P1333_Longtiude</td>\n",
       "      <td>9.586108e+00</td>\n",
       "    </tr>\n",
       "    <tr>\n",
       "      <th>296304</th>\n",
       "      <td>Q99987</td>\n",
       "      <td>P1334_Longtiude</td>\n",
       "      <td>9.595788e+00</td>\n",
       "    </tr>\n",
       "    <tr>\n",
       "      <th>296305</th>\n",
       "      <td>Q99987</td>\n",
       "      <td>P1335_Longtiude</td>\n",
       "      <td>9.564391e+00</td>\n",
       "    </tr>\n",
       "    <tr>\n",
       "      <th>296306</th>\n",
       "      <td>Q99987</td>\n",
       "      <td>P625_Longtiude</td>\n",
       "      <td>9.580647e+00</td>\n",
       "    </tr>\n",
       "    <tr>\n",
       "      <th>296307</th>\n",
       "      <td>Q99</td>\n",
       "      <td>P625_Longtiude</td>\n",
       "      <td>-1.200000e+02</td>\n",
       "    </tr>\n",
       "  </tbody>\n",
       "</table>\n",
       "<p>296308 rows × 3 columns</p>\n",
       "</div>"
      ],
      "text/plain": [
       "               e                a             v\n",
       "0       Q1000056            P1082  1.103200e+04\n",
       "1       Q1000056            P2044  4.720000e+02\n",
       "2       Q1000056            P2046  4.563000e+07\n",
       "3       Q1000138            P1082  1.375000e+03\n",
       "4       Q1000138            P2044  1.000000e+00\n",
       "...          ...              ...           ...\n",
       "296303    Q99987  P1333_Longtiude  9.586108e+00\n",
       "296304    Q99987  P1334_Longtiude  9.595788e+00\n",
       "296305    Q99987  P1335_Longtiude  9.564391e+00\n",
       "296306    Q99987   P625_Longtiude  9.580647e+00\n",
       "296307       Q99   P625_Longtiude -1.200000e+02\n",
       "\n",
       "[296308 rows x 3 columns]"
      ]
     },
     "execution_count": 91,
     "metadata": {},
     "output_type": "execute_result"
    }
   ],
   "source": [
    "attri_data_eav"
   ]
  },
  {
   "cell_type": "code",
   "execution_count": 7,
   "metadata": {},
   "outputs": [],
   "source": [
    "def numeric_literal_array(data, ent2idx, att2idx):\n",
    "    #'LiterallyWikidata/LitWD48K/train_attri_data'\n",
    "    df_all = data\n",
    "\n",
    "    # Resulting file\n",
    "    num_lit = np.zeros([len(ent2idx), len(att2idx)], dtype=np.float32)\n",
    "\n",
    "# Create literal wrt vocab\n",
    "    for i, (s, p, lit) in enumerate(df_all.values):\n",
    "        try:\n",
    "            num_lit[ent2idx[s], att2idx[p]] = lit\n",
    "        except KeyError:\n",
    "            continue\n",
    "    return num_lit\n",
    "\n",
    "\n",
    "# num_lit shape (47998, 86)\n"
   ]
  },
  {
   "cell_type": "code",
   "execution_count": 8,
   "metadata": {},
   "outputs": [
    {
     "name": "stdout",
     "output_type": "stream",
     "text": [
      "(47998, 86)\n"
     ]
    }
   ],
   "source": [
    "attri_data_eav = attri_data[['e','a','v']]\n",
    "num_lit = numeric_literal_array(attri_data_eav, ent2idx, att2idx)\n",
    "print(num_lit.shape)"
   ]
  },
  {
   "cell_type": "code",
   "execution_count": 30,
   "metadata": {},
   "outputs": [],
   "source": [
    "# ## constraint needed:\n",
    "pop_idx = att2idx['P1082']\n",
    "gdp = att2idx['P4010']\n",
    "nominal_gdp = att2idx['P2131']\n",
    "# nominal_gdp_per = att2idx['P2132']\n",
    "gdp_per = att2idx['P2299']\n",
    "# date_of_birth = att2idx['P569']\n",
    "# date_of_death = att2idx['P570']\n",
    "# area = ['P2046']\n",
    "# # net_profit = att2idx['P2295']\n",
    "# # retirement_age = att2idx['P3001']\n",
    "# # age_of_majority = att2idx['P2997']\n",
    "# # work_start = att2idx['P2031']\n",
    "# # work_end = att2idx['P2032']"
   ]
  },
  {
   "cell_type": "code",
   "execution_count": 46,
   "metadata": {},
   "outputs": [
    {
     "data": {
      "text/plain": [
       "84"
      ]
     },
     "execution_count": 46,
     "metadata": {},
     "output_type": "execute_result"
    }
   ],
   "source": [
    "ent2idx['Q1000']"
   ]
  },
  {
   "cell_type": "code",
   "execution_count": null,
   "metadata": {},
   "outputs": [],
   "source": [
    "attri_data[attri_data['a']=='P1082']"
   ]
  },
  {
   "cell_type": "code",
   "execution_count": 60,
   "metadata": {
    "scrolled": false
   },
   "outputs": [
    {
     "data": {
      "text/plain": [
       "36681910000.0"
      ]
     },
     "execution_count": 60,
     "metadata": {},
     "output_type": "execute_result"
    }
   ],
   "source": [
    "num_lit[84][gdp_per]*num_lit[84][pop_idx]\n",
    "num_lit[84][gdp]"
   ]
  },
  {
   "cell_type": "code",
   "execution_count": 102,
   "metadata": {
    "scrolled": false
   },
   "outputs": [],
   "source": [
    "# x_list: ent的gdp有值，把除了gdp那個值之外的值存到inner_x_list，len(x_list)是有幾組變數有值\n",
    "x_list=[]\n",
    "\n",
    "for ent in num_lit:\n",
    "    if ent[gdp] == 0:\n",
    "        pass\n",
    "    else:\n",
    "        #print(ent[gdp])\n",
    "        inner_x_list=[]\n",
    "        for j in range(len(ent)):\n",
    "            if j != gdp :\n",
    "                inner_x_list.append(ent[j])\n",
    "        inner_x_list.append(ent[gdp])\n",
    "        x_list.append(inner_x_list)"
   ]
  },
  {
   "cell_type": "code",
   "execution_count": 16,
   "metadata": {},
   "outputs": [
    {
     "data": {
      "text/plain": [
       "19485394000000.0"
      ]
     },
     "execution_count": 16,
     "metadata": {},
     "output_type": "execute_result"
    }
   ],
   "source": [
    "x_list[0][-1]"
   ]
  },
  {
   "cell_type": "code",
   "execution_count": 16,
   "metadata": {
    "scrolled": true
   },
   "outputs": [
    {
     "data": {
      "text/plain": [
       "array([0.0000000e+00, 0.0000000e+00, 1.9485394e+13, ..., 0.0000000e+00,\n",
       "       0.0000000e+00, 0.0000000e+00], dtype=float32)"
      ]
     },
     "execution_count": 16,
     "metadata": {},
     "output_type": "execute_result"
    }
   ],
   "source": [
    "num_lit[:,gdp]"
   ]
  },
  {
   "cell_type": "code",
   "execution_count": null,
   "metadata": {},
   "outputs": [],
   "source": []
  },
  {
   "cell_type": "code",
   "execution_count": 73,
   "metadata": {
    "id": "NPXpdumwPjE7"
   },
   "outputs": [],
   "source": [
    "device = get_device()                 # get the current available device ('cpu' or 'cuda')\n",
    "os.makedirs('models', exist_ok=True)  # The trained model will be saved to ./models/\n",
    "\n",
    "# TODO: How to tune these hyper-parameters to improve your model's performance?\n",
    "config = {\n",
    "    'seed': 802,      # Your seed number, you can pick your lucky number. :)\n",
    "    'select_all': True,   # Whether to use all features.\n",
    "    'n_epochs': 50,                # maximum number of epochs\n",
    "    'batch_size': 16,               # mini-batch size for dataloader\n",
    "    'learning_rate':1e-8,\n",
    "    'early_stop': 200,               # early stopping epochs (the number epochs since your model's last improvement)\n",
    "    'save_path': './models_var/' , # your model will be saved here\n",
    "    'valid_ratio': 0.1,   # validation_size = train_size * valid_ratio\n",
    "}\n"
   ]
  },
  {
   "cell_type": "code",
   "execution_count": 19,
   "metadata": {},
   "outputs": [
    {
     "data": {
      "text/plain": [
       "array([['Q111349,P1332_Longtiude,10.397868,Paitone,coordinates of northernmost point,Q747074,-0.07960883332265545'],\n",
       "       ['Q51413,P625_Longtiude,13.859156,Villa Celiera,coordinate location(logtitude),Q747074,0.2003265611430018'],\n",
       "       ['Q7382874,P569,1926.0,Ruth Asawa,date of birth,Q5,-0.08406888441609782'],\n",
       "       ...,\n",
       "       ['Q43067,P570,1945.0,Heinrich Himmler,date of death,Q5,0.0923617917975669'],\n",
       "       ['Q810317,P582,1977.0,EuroBasket 1977,end time,Q27020041,-0.4844878349514918'],\n",
       "       ['Q801206,P1619,1889.0,Musashi-Koganei Station,date of official opening,Q55488,-0.7155432573543784']],\n",
       "      dtype=object)"
      ]
     },
     "execution_count": 19,
     "metadata": {},
     "output_type": "execute_result"
    }
   ],
   "source": [
    "train_data"
   ]
  },
  {
   "cell_type": "code",
   "execution_count": 20,
   "metadata": {},
   "outputs": [],
   "source": [
    "def select_feat(train_data, valid_data, select_all=True):\n",
    "    '''Selects useful features to perform regression'''\n",
    "    y_train, y_valid = train_data[:,-1], valid_data[:,-1]\n",
    "    raw_x_train, raw_x_valid = train_data[:,:-1], valid_data[:,:-1]\n",
    "\n",
    "    if select_all:\n",
    "        feat_idx = list(range(raw_x_train.shape[1]))\n",
    "    else:\n",
    "        feat_idx = [i for i in range(30)] # TODO: Select suitable feature columns.\n",
    "        feat_idx.append(50)\n",
    "    return raw_x_train[:,feat_idx], raw_x_valid[:,feat_idx], y_train, y_valid"
   ]
  },
  {
   "cell_type": "code",
   "execution_count": 24,
   "metadata": {},
   "outputs": [],
   "source": [
    "class KGMTL_Data(Dataset):\n",
    "    '''\n",
    "    x: Features.\n",
    "    y: Targets, if none, do prediction.\n",
    "    '''\n",
    "    def __init__(self, x, y=None):\n",
    "        if y is None:\n",
    "            self.y = y\n",
    "        else:\n",
    "            self.y = torch.FloatTensor(y)\n",
    "        self.x = torch.FloatTensor(x)\n",
    "        \n",
    "\n",
    "    def __getitem__(self, idx):\n",
    "        if self.y is None:\n",
    "            return self.x[idx]\n",
    "        else:\n",
    "            return self.x[idx], self.y[idx]\n",
    "\n",
    "    def __len__(self):\n",
    "        return len(self.x)\n",
    "\n",
    "\n",
    "    "
   ]
  },
  {
   "cell_type": "code",
   "execution_count": 26,
   "metadata": {},
   "outputs": [
    {
     "name": "stdout",
     "output_type": "stream",
     "text": [
      "train_data size: (141, 86) \n",
      "valid_data size: (15, 86) \n",
      "number of features: 85\n",
      "train_dataset (tensor([4.6000e+06, 0.0000e+00, 1.7818e+10, 0.0000e+00, 0.0000e+00, 0.0000e+00,\n",
      "        0.0000e+00, 0.0000e+00, 0.0000e+00, 0.0000e+00, 0.0000e+00, 0.0000e+00,\n",
      "        8.0300e-01, 1.2013e+11, 2.9040e+04, 2.5000e-02, 2.3555e+09, 7.2096e+04,\n",
      "        2.4000e+02, 2.1050e+00, 0.0000e+00, 0.0000e+00, 0.0000e+00, 0.0000e+00,\n",
      "        0.0000e+00, 0.0000e+00, 0.0000e+00, 0.0000e+00, 0.0000e+00, 0.0000e+00,\n",
      "        0.0000e+00, 0.0000e+00, 0.0000e+00, 0.0000e+00, 0.0000e+00, 0.0000e+00,\n",
      "        0.0000e+00, 0.0000e+00, 0.0000e+00, 0.0000e+00, 0.0000e+00, 0.0000e+00,\n",
      "        0.0000e+00, 0.0000e+00, 0.0000e+00, 0.0000e+00, 0.0000e+00, 0.0000e+00,\n",
      "        0.0000e+00, 0.0000e+00, 0.0000e+00, 0.0000e+00, 0.0000e+00, 0.0000e+00,\n",
      "        0.0000e+00, 0.0000e+00, 0.0000e+00, 0.0000e+00, 0.0000e+00, 0.0000e+00,\n",
      "        0.0000e+00, 0.0000e+00, 0.0000e+00, 0.0000e+00, 0.0000e+00, 1.9910e+03,\n",
      "        0.0000e+00, 0.0000e+00, 0.0000e+00, 0.0000e+00, 0.0000e+00, 0.0000e+00,\n",
      "        0.0000e+00, 0.0000e+00, 0.0000e+00, 2.9167e+01, 3.0100e+01, 2.8524e+01,\n",
      "        2.8823e+01, 2.9101e+01, 4.7600e+01, 4.7500e+01, 4.7705e+01, 4.8785e+01,\n",
      "        4.6553e+01]), tensor(2.9823e+11))\n"
     ]
    }
   ],
   "source": [
    "# Set seed for reproducibility\n",
    "same_seed(config['seed'])\n",
    "\n",
    "\n",
    "# train_data size: 2699 x 118 (id + 37 states + 16 features x 5 days) \n",
    "# test_data size: 1078 x 117 (without last day's positive rate)\n",
    "# train_data, test_data = pd.read_csv('../LiterallyWikidata/files_needed/train_attri_data.csv',sep='\\t').values, \n",
    "# pd.read_csv('../LiterallyWikidata/files_needed/test_attri_data.csv',sep='\\t').values\n",
    "train_data, valid_data = train_valid_split(x_list, config['valid_ratio'], config['seed'])\n",
    "\n",
    "# Print out the data size.\n",
    "print(f\"\"\"train_data size: {train_data.shape} \n",
    "valid_data size: {valid_data.shape} \"\"\")\n",
    "# test_data size: {test_data.shape}\"\"\")\n",
    "\n",
    "\n",
    "# Select features\n",
    "x_train, x_valid, y_train, y_valid = select_feat(train_data, valid_data, config['select_all'])\n",
    "\n",
    "# Print out the number of features.\n",
    "print(f'number of features: {len(x_train.shape[1])}')\n",
    "\n",
    "train_dataset, valid_dataset = KGMTL_Data(x_train, y_train), \\\n",
    "                                            KGMTL_Data(x_valid, y_valid)\n",
    "\n",
    "print('train_dataset', train_dataset[0])\n",
    "\n",
    "# Pytorch data loader loads pytorch dataset into batches.\n",
    "train_loader = DataLoader(train_dataset, batch_size=config['batch_size'], shuffle=True, pin_memory=True)\n",
    "valid_loader = DataLoader(valid_dataset, batch_size=config['batch_size'], shuffle=True, pin_memory=True)\n",
    "# test_loader = DataLoader(test_dataset, batch_size=config['batch_size'], shuffle=False, pin_memory=True)"
   ]
  },
  {
   "cell_type": "code",
   "execution_count": 79,
   "metadata": {},
   "outputs": [
    {
     "data": {
      "text/plain": [
       "(tensor([3.4147e+08, 0.0000e+00, 0.0000e+00, 0.0000e+00, 0.0000e+00, 0.0000e+00,\n",
       "         0.0000e+00, 0.0000e+00, 0.0000e+00, 0.0000e+00, 0.0000e+00, 0.0000e+00,\n",
       "         0.0000e+00, 1.2589e+13, 3.6984e+04, 0.0000e+00, 0.0000e+00, 4.5076e+04,\n",
       "         0.0000e+00, 0.0000e+00, 0.0000e+00, 0.0000e+00, 0.0000e+00, 0.0000e+00,\n",
       "         0.0000e+00, 0.0000e+00, 0.0000e+00, 0.0000e+00, 0.0000e+00, 0.0000e+00,\n",
       "         0.0000e+00, 0.0000e+00, 0.0000e+00, 0.0000e+00, 0.0000e+00, 0.0000e+00,\n",
       "         0.0000e+00, 0.0000e+00, 0.0000e+00, 0.0000e+00, 0.0000e+00, 0.0000e+00,\n",
       "         0.0000e+00, 0.0000e+00, 0.0000e+00, 0.0000e+00, 0.0000e+00, 0.0000e+00,\n",
       "         0.0000e+00, 0.0000e+00, 0.0000e+00, 0.0000e+00, 0.0000e+00, 0.0000e+00,\n",
       "         0.0000e+00, 0.0000e+00, 0.0000e+00, 0.0000e+00, 0.0000e+00, 0.0000e+00,\n",
       "         0.0000e+00, 0.0000e+00, 0.0000e+00, 0.0000e+00, 0.0000e+00, 1.9990e+03,\n",
       "         0.0000e+00, 0.0000e+00, 0.0000e+00, 0.0000e+00, 0.0000e+00, 0.0000e+00,\n",
       "         0.0000e+00, 0.0000e+00, 0.0000e+00, 0.0000e+00, 0.0000e+00, 0.0000e+00,\n",
       "         0.0000e+00, 0.0000e+00, 0.0000e+00, 0.0000e+00, 0.0000e+00, 0.0000e+00,\n",
       "         0.0000e+00]),\n",
       " tensor(1.5391e+13))"
      ]
     },
     "execution_count": 79,
     "metadata": {},
     "output_type": "execute_result"
    }
   ],
   "source": [
    "train_dataset[5]"
   ]
  },
  {
   "cell_type": "code",
   "execution_count": 74,
   "metadata": {
    "id": "49-uXYovOAI0"
   },
   "outputs": [],
   "source": [
    "class NeuralNet(nn.Module):\n",
    "    ''' A simple fully-connected deep neural network '''\n",
    "    def __init__(self, input_dim):\n",
    "        super(NeuralNet, self).__init__()\n",
    "\n",
    "        self.layers = nn.Sequential(\n",
    "            nn.Linear(input_dim, 16),\n",
    "            nn.ReLU(),\n",
    "            nn.Linear(16, 8),\n",
    "            nn.ReLU(),\n",
    "            nn.Linear(8, 1)\n",
    "        )\n",
    "\n",
    "        # Mean squared error loss\n",
    "        self.criterion = nn.MSELoss(reduction='mean')\n",
    "\n",
    "    def forward(self, x):\n",
    "        ''' Given input of size (batch_size x input_dim), compute output of the network '''\n",
    "        x = self.layers(x)\n",
    "        x = x.squeeze(1)\n",
    "        return x\n",
    "\n",
    "    def cal_loss(self, pred, target):\n",
    "        ''' Calculate loss '''\n",
    "        # TODO: you may implement L1/L2 regularization here\n",
    "        return self.criterion(pred, target)"
   ]
  },
  {
   "cell_type": "markdown",
   "metadata": {
    "id": "39U_XFX6KOoj"
   },
   "source": [
    "# **Preprocess**\n",
    "\n",
    "We have three kinds of datasets:\n",
    "* `train`: for training\n",
    "* `dev`: for validation\n",
    "* `test`: for testing (w/o target value)"
   ]
  },
  {
   "cell_type": "code",
   "execution_count": 94,
   "metadata": {},
   "outputs": [],
   "source": [
    "## Load pretrain embedding\n",
    "emb_ent = torch.load('../LiterallyWikidata/files_needed/pretrained_kge/pretrained_complex_entemb.pt')\n",
    "list_ent_ids =[]\n",
    "with open('../LiterallyWikidata/files_needed/list_ent_ids.txt','r') as f:\n",
    "    for line in f:\n",
    "        list_ent_ids.append(line.strip())\n",
    "## Preparing ent embedding\n",
    "ent2idx = {e:i for i,e in enumerate(list_ent_ids)}\n",
    "attri_data['ent_idx']= attri_data['e'].map(ent2idx)\n",
    "embedding_e = torch.nn.Embedding.from_pretrained(emb_ent)\n",
    "input_e = torch.LongTensor(attri_data['ent_idx'].to_numpy())\n",
    "\n",
    "entity_embedding = embedding_e(input_e)\n",
    "## Preparing att embedding\n",
    "# att2idx = {a:i for i,a in enumerate(attri_data['a'].unique())}\n",
    "attri_data['a_idx']=attri_data['a'].map(att2idx)\n",
    "embedding_a = torch.nn.Embedding(len(att2idx),128,padding_idx=0)\n",
    "input_a = torch.LongTensor(attri_data['a'].to_numpy())\n",
    "\n",
    "attribute_embedding = embedding_a(input_a)\n",
    "## concat two embedding\n",
    "x_data = torch.cat([entity_embedding,attribute_embedding],dim=1).detach().numpy()\n",
    "\n"
   ]
  },
  {
   "cell_type": "code",
   "execution_count": 19,
   "metadata": {},
   "outputs": [
    {
     "data": {
      "text/plain": [
       "array([0.0000000e+00, 6.2448000e+04, 3.2514595e+08, ..., 0.0000000e+00,\n",
       "       9.0200000e+02, 2.5440000e+03], dtype=float32)"
      ]
     },
     "execution_count": 19,
     "metadata": {},
     "output_type": "execute_result"
    }
   ],
   "source": [
    "num_lit[:,0]"
   ]
  },
  {
   "cell_type": "code",
   "execution_count": 80,
   "metadata": {
    "id": "lOqcmYzMO7jB"
   },
   "outputs": [],
   "source": [
    "def trainer(train_loader, valid_loader, model, config, device):\n",
    "\n",
    "    criterion = nn.MSELoss(reduction='mean') # Define your loss function, do not modify this.\n",
    "\n",
    "    # Define your optimization algorithm. \n",
    "    # TODO: Please check https://pytorch.org/docs/stable/optim.html to get more available algorithms.\n",
    "    # TODO: L2 regularization (optimizer(weight decay...) or implement by your self).\n",
    "    optimizer = torch.optim.SGD(model.parameters(), lr=config['learning_rate'], momentum=0.9, weight_decay=1e-6) \n",
    "\n",
    "    n_epochs, best_loss, step, early_stop_count = config['n_epochs'], math.inf, 0, 0\n",
    "\n",
    "    writer = SummaryWriter() # Writer of tensoboard\n",
    "    if not os.path.isdir('./models_var'):\n",
    "        os.mkdir('./models_var') # Create directory of saving models.\n",
    "    \n",
    "    for epoch in range(n_epochs):\n",
    "        model.train() # Set your model to train mode.\n",
    "        loss_record = []\n",
    "\n",
    "        # tqdm is a package to visualize your training progress.\n",
    "        train_pbar = tqdm(train_loader, position=0, leave=True)\n",
    "\n",
    "        for x, y in train_pbar:\n",
    "            optimizer.zero_grad()               # Set gradient to zero.\n",
    "            \n",
    "            x, y = x.to(device), y.to(device)   # Move your data to device. \n",
    "            pred = model(x)   \n",
    "            print(f'-------predict: {pred}, y: {y}----------') \n",
    "#             # x_constraint = torch.tensor([ (y[i] - x[i][0]*x[i][18]) ** 2 for i in range(len(x))])\n",
    "#             x_constraint = torch.tensor([x[i][pop_idx]*x[i][gdp_per] for i in range(len(x))])\n",
    "#             x_constraint = x_constraint.to(device)          \n",
    "            #loss = criterion(pred, y) + criterion(pred, x_constraint)\n",
    "            loss = criterion(pred, y) \n",
    "            # criterion(pred,x_constraint)\n",
    "                # ((pred-x[0]*x[18])**2) \n",
    "\n",
    "            loss.backward()                     # Compute gradient(backpropagation).\n",
    "            optimizer.step()                    # Update parameters.\n",
    "            step += 1\n",
    "            loss_record.append(loss.detach().item())\n",
    "            \n",
    "            # Display current epoch number and loss on tqdm progress bar.\n",
    "            train_pbar.set_description(f'Epoch [{epoch+1}/{n_epochs}]')\n",
    "            train_pbar.set_postfix({'loss': loss.detach().item()})\n",
    "\n",
    "        mean_train_loss = sum(loss_record)/len(loss_record)\n",
    "        writer.add_scalar('Loss/train', mean_train_loss, step)\n",
    "\n",
    "        model.eval() # Set your model to evaluation mode.\n",
    "        loss_record = []\n",
    "        for x, y in valid_loader:\n",
    "            x, y = x.to(device), y.to(device)\n",
    "            with torch.no_grad():\n",
    "                pred = model(x)\n",
    "                # print(f'x: {x}')\n",
    "                loss = criterion(pred, y)\n",
    "\n",
    "            loss_record.append(loss.item())\n",
    "            \n",
    "        mean_valid_loss = sum(loss_record)/len(loss_record)\n",
    "        print(f'Epoch [{epoch+1}/{n_epochs}]: Train loss: {mean_train_loss:.4f}, Valid loss: {mean_valid_loss:.4f}')\n",
    "        writer.add_scalar('Loss/valid', mean_valid_loss, step)\n",
    "\n",
    "        if mean_valid_loss < best_loss:\n",
    "            best_loss = mean_valid_loss\n",
    "            torch.save(model.state_dict(), config['save_path']) # Save your best model\n",
    "            print('Saving model with loss {:.3f}...'.format(best_loss))\n",
    "            early_stop_count = 0\n",
    "        else: \n",
    "            early_stop_count += 1\n",
    "\n",
    "        if early_stop_count >= config['early_stop']:\n",
    "            print('\\nModel is not improving, so we halt the training session.')\n",
    "            return"
   ]
  },
  {
   "cell_type": "markdown",
   "metadata": {
    "id": "0hSd4Bn3O2PL"
   },
   "source": [
    "## **Validation**"
   ]
  },
  {
   "cell_type": "code",
   "execution_count": 70,
   "metadata": {
    "id": "yrxrD3YsN3U2"
   },
   "outputs": [],
   "source": [
    "def dev(dv_set, model, device):\n",
    "    model.eval()                                # set model to evalutation mode\n",
    "    total_loss = 0\n",
    "    for x, y in dv_set:                         # iterate through the dataloader\n",
    "        x, y = x.to(device), y.to(device)       # move data to device (cpu/cuda)\n",
    "        with torch.no_grad():                   # disable gradient calculation\n",
    "            pred = model(x)# forward pass (compute output)\n",
    "            #print(pred)\n",
    "            mse_loss = model.cal_loss(pred, y)  # compute loss\n",
    "            print(mse_loss)\n",
    "        total_loss += mse_loss.detach().cpu().item() * len(x)  # accumulate loss\n",
    "    total_loss = total_loss / len(dv_set.dataset)              # compute averaged loss\n",
    "\n",
    "    return total_loss"
   ]
  },
  {
   "cell_type": "markdown",
   "metadata": {
    "id": "g0pdrhQAO41L"
   },
   "source": [
    "## **Testing**"
   ]
  },
  {
   "cell_type": "code",
   "execution_count": 25,
   "metadata": {
    "id": "aSBMRFlYN5tB"
   },
   "outputs": [],
   "source": [
    "def test(tt_set, model, device):\n",
    "    model.eval()                                # set model to evalutation mode\n",
    "    preds = []\n",
    "    for x in tt_set:                            # iterate through the dataloader\n",
    "        x = x.to(device)                        # move data to device (cpu/cuda)\n",
    "        with torch.no_grad():                   # disable gradient calculation\n",
    "            pred = model(x)                     # forward pass (compute output)\n",
    "            preds.append(pred.detach().cpu())   # collect prediction\n",
    "    preds = torch.cat(preds, dim=0).numpy()     # concatenate all predictions and convert to a numpy array\n",
    "    return preds"
   ]
  },
  {
   "cell_type": "markdown",
   "metadata": {
    "id": "6j1eOV3TOH-j"
   },
   "source": [
    "# **Load data and model**"
   ]
  },
  {
   "cell_type": "code",
   "execution_count": 77,
   "metadata": {
    "id": "FHylSirLP9oh"
   },
   "outputs": [],
   "source": [
    "model = NeuralNet(input_dim=x_train.shape[1]).to(device)  # Construct model and move to device"
   ]
  },
  {
   "cell_type": "markdown",
   "metadata": {
    "id": "sX2B_zgSOPTJ"
   },
   "source": [
    "# **Start Training!**"
   ]
  },
  {
   "cell_type": "code",
   "execution_count": 81,
   "metadata": {
    "colab": {
     "base_uri": "https://localhost:8080/"
    },
    "id": "GrEbUxazQAAZ",
    "outputId": "f4f3bd74-2d97-4275-b69f-6609976b91f9",
    "scrolled": true
   },
   "outputs": [
    {
     "name": "stderr",
     "output_type": "stream",
     "text": [
      "Epoch [1/50]: 100%|██████████████████████████████████████████████████████████████| 1/1 [00:00<00:00, 28.84it/s, loss=nan]\n"
     ]
    },
    {
     "name": "stdout",
     "output_type": "stream",
     "text": [
      "-------predict: tensor([nan, nan, nan, nan, nan, nan, nan, nan, nan, nan, nan, nan, nan, nan, nan, nan, nan, nan, nan, nan, nan, nan, nan, nan,\n",
      "        nan, nan, nan, nan, nan, nan, nan, nan, nan, nan, nan, nan, nan, nan, nan, nan, nan, nan, nan, nan, nan, nan, nan, nan,\n",
      "        nan, nan, nan, nan, nan, nan, nan, nan, nan, nan, nan, nan, nan, nan, nan, nan, nan, nan, nan, nan, nan, nan, nan, nan,\n",
      "        nan, nan, nan, nan, nan, nan, nan, nan, nan, nan, nan, nan, nan, nan, nan, nan, nan, nan, nan, nan, nan, nan, nan, nan,\n",
      "        nan, nan, nan, nan, nan, nan, nan, nan, nan, nan, nan, nan, nan, nan, nan, nan, nan, nan, nan, nan, nan, nan, nan, nan,\n",
      "        nan, nan, nan, nan, nan, nan, nan, nan, nan, nan, nan, nan, nan, nan, nan, nan, nan, nan, nan, nan, nan],\n",
      "       device='cuda:0', grad_fn=<SqueezeBackward1>), y: tensor([1.4823e+11, 1.6399e+11, 6.7588e+09, 2.8188e+11, 4.0229e+10, 1.3765e+11,\n",
      "        3.4156e+09, 4.7784e+11, 2.5013e+09, 6.4303e+10, 1.5391e+13, 5.4804e+10,\n",
      "        3.0953e+10, 3.1713e+09, 2.1880e+10, 4.3326e+10, 1.1839e+10, 8.7717e+11,\n",
      "        1.9973e+10, 1.9162e+11, 3.3894e+09, 2.6202e+10, 1.0913e+12, 2.4948e+10,\n",
      "        2.0730e+10, 7.9901e+09, 1.2998e+11, 2.2563e+08, 8.0076e+10, 2.8108e+09,\n",
      "        2.8694e+10, 6.5482e+09, 3.3869e+10, 3.5691e+09, 9.3700e+09, 7.0220e+10,\n",
      "        4.1130e+10, 1.1324e+12, 5.1170e+10, 6.4479e+08, 9.5968e+12, 3.4718e+10,\n",
      "        5.3334e+12, 8.8998e+10, 3.7192e+10, 8.8802e+08, 1.8189e+12, 5.3028e+09,\n",
      "        7.1824e+10, 6.3187e+11, 2.2281e+11, 3.2950e+11, 3.7770e+09, 2.8331e+10,\n",
      "        3.2814e+11, 2.9658e+12, 3.6957e+11, 1.2934e+09, 2.2435e+10, 3.5818e+10,\n",
      "        1.7495e+10, 3.2496e+12, 8.3723e+10, 1.9976e+11, 1.1565e+10, 6.8934e+10,\n",
      "        2.8576e+10, 2.5441e+10, 1.2971e+10, 9.5837e+10, 7.9194e+10, 2.9850e+11,\n",
      "        1.9305e+11, 6.9594e+11, 4.6296e+10, 1.9485e+13, 1.9093e+10, 3.7093e+10,\n",
      "        1.2056e+10, 9.4052e+10, 1.6363e+11, 2.9823e+11, 1.2541e+11, 1.2980e+11,\n",
      "        5.6191e+11, 3.1852e+10, 8.6701e+09, 3.6401e+10, 4.5969e+10, 2.8564e+10,\n",
      "        7.1208e+10, 1.4837e+09, 1.0846e+11, 4.4681e+11, 1.0382e+11, 4.8270e+10,\n",
      "        6.0819e+09, 7.2816e+09, 3.9014e+10, 1.6342e+09, 4.3456e+12, 7.8158e+10,\n",
      "        3.9794e+10, 1.3045e+09, 3.9817e+10, 6.4818e+11, 4.1572e+09, 3.3953e+11,\n",
      "        5.4389e+11, 1.9830e+11, 6.4190e+10, 2.2391e+09, 1.7751e+12, 1.0050e+11,\n",
      "        8.3936e+10, 8.8271e+10, 4.5585e+11, 2.1225e+09, 2.5433e+08, 1.9698e+10,\n",
      "        1.5849e+09, 2.3427e+09, 7.5847e+09, 3.0981e+10, 5.2814e+11, 5.2211e+11,\n",
      "        8.5587e+09, 3.9848e+10, 6.3628e+09, 2.2200e+10, 3.2276e+08, 7.4202e+08,\n",
      "        3.9060e+08, 1.7195e+11, 1.9365e+08, 2.3995e+09, 1.9918e+11, 1.7296e+11,\n",
      "        3.1942e+09, 2.0269e+10, 3.6682e+10], device='cuda:0')----------\n",
      "Epoch [1/50]: Train loss: nan, Valid loss: nan\n"
     ]
    },
    {
     "name": "stderr",
     "output_type": "stream",
     "text": [
      "Epoch [2/50]: 100%|██████████████████████████████████████████████████████████████| 1/1 [00:00<00:00, 41.19it/s, loss=nan]\n"
     ]
    },
    {
     "name": "stdout",
     "output_type": "stream",
     "text": [
      "-------predict: tensor([nan, nan, nan, nan, nan, nan, nan, nan, nan, nan, nan, nan, nan, nan, nan, nan, nan, nan, nan, nan, nan, nan, nan, nan,\n",
      "        nan, nan, nan, nan, nan, nan, nan, nan, nan, nan, nan, nan, nan, nan, nan, nan, nan, nan, nan, nan, nan, nan, nan, nan,\n",
      "        nan, nan, nan, nan, nan, nan, nan, nan, nan, nan, nan, nan, nan, nan, nan, nan, nan, nan, nan, nan, nan, nan, nan, nan,\n",
      "        nan, nan, nan, nan, nan, nan, nan, nan, nan, nan, nan, nan, nan, nan, nan, nan, nan, nan, nan, nan, nan, nan, nan, nan,\n",
      "        nan, nan, nan, nan, nan, nan, nan, nan, nan, nan, nan, nan, nan, nan, nan, nan, nan, nan, nan, nan, nan, nan, nan, nan,\n",
      "        nan, nan, nan, nan, nan, nan, nan, nan, nan, nan, nan, nan, nan, nan, nan, nan, nan, nan, nan, nan, nan],\n",
      "       device='cuda:0', grad_fn=<SqueezeBackward1>), y: tensor([1.7751e+12, 2.4948e+10, 7.0220e+10, 2.8576e+10, 6.5482e+09, 4.4681e+11,\n",
      "        8.5587e+09, 3.7192e+10, 1.0913e+12, 3.2496e+12, 8.8802e+08, 5.1170e+10,\n",
      "        3.7770e+09, 8.7717e+11, 1.9305e+11, 1.9698e+10, 1.0050e+11, 6.4190e+10,\n",
      "        2.6202e+10, 3.2276e+08, 3.3953e+11, 8.8998e+10, 3.3869e+10, 2.2391e+09,\n",
      "        3.2814e+11, 4.0229e+10, 8.8271e+10, 6.4479e+08, 1.5849e+09, 1.7495e+10,\n",
      "        1.2541e+11, 7.1208e+10, 2.5433e+08, 7.4202e+08, 7.8158e+10, 3.9817e+10,\n",
      "        4.8270e+10, 5.3028e+09, 1.4837e+09, 6.3187e+11, 2.0730e+10, 2.8564e+10,\n",
      "        4.1572e+09, 2.9658e+12, 1.3045e+09, 1.9365e+08, 2.2200e+10, 7.1824e+10,\n",
      "        2.9850e+11, 1.1565e+10, 4.5969e+10, 1.1324e+12, 1.1839e+10, 3.9794e+10,\n",
      "        1.7296e+11, 1.9830e+11, 3.1713e+09, 1.9976e+11, 2.5013e+09, 1.0382e+11,\n",
      "        6.4303e+10, 1.9918e+11, 3.0981e+10, 3.3894e+09, 2.1880e+10, 2.8331e+10,\n",
      "        3.6957e+11, 5.2211e+11, 2.8188e+11, 7.2816e+09, 1.6342e+09, 3.9848e+10,\n",
      "        1.2980e+11, 2.2563e+08, 5.6191e+11, 1.6363e+11, 7.9194e+10, 1.7195e+11,\n",
      "        2.2281e+11, 1.9162e+11, 8.3936e+10, 2.8694e+10, 4.3456e+12, 2.3427e+09,\n",
      "        3.2950e+11, 1.9973e+10, 2.5441e+10, 6.3628e+09, 1.3765e+11, 5.3334e+12,\n",
      "        6.0819e+09, 2.0269e+10, 2.3995e+09, 4.3326e+10, 6.7588e+09, 7.9901e+09,\n",
      "        9.5968e+12, 1.5391e+13, 4.5585e+11, 1.4823e+11, 8.0076e+10, 1.9093e+10,\n",
      "        6.4818e+11, 7.5847e+09, 3.4156e+09, 6.8934e+10, 3.7093e+10, 6.9594e+11,\n",
      "        2.1225e+09, 5.2814e+11, 2.8108e+09, 9.5837e+10, 1.2971e+10, 8.6701e+09,\n",
      "        1.2998e+11, 4.7784e+11, 3.1942e+09, 1.2056e+10, 3.1852e+10, 3.4718e+10,\n",
      "        5.4389e+11, 3.5691e+09, 3.9014e+10, 2.9823e+11, 1.9485e+13, 3.9060e+08,\n",
      "        8.3723e+10, 1.6399e+11, 3.0953e+10, 3.5818e+10, 3.6682e+10, 4.6296e+10,\n",
      "        1.2934e+09, 1.0846e+11, 2.2435e+10, 9.3700e+09, 1.8189e+12, 4.1130e+10,\n",
      "        3.6401e+10, 9.4052e+10, 5.4804e+10], device='cuda:0')----------\n",
      "Epoch [2/50]: Train loss: nan, Valid loss: nan\n"
     ]
    },
    {
     "name": "stderr",
     "output_type": "stream",
     "text": [
      "Epoch [3/50]: 100%|██████████████████████████████████████████████████████████████| 1/1 [00:00<00:00, 43.36it/s, loss=nan]\n"
     ]
    },
    {
     "name": "stdout",
     "output_type": "stream",
     "text": [
      "-------predict: tensor([nan, nan, nan, nan, nan, nan, nan, nan, nan, nan, nan, nan, nan, nan, nan, nan, nan, nan, nan, nan, nan, nan, nan, nan,\n",
      "        nan, nan, nan, nan, nan, nan, nan, nan, nan, nan, nan, nan, nan, nan, nan, nan, nan, nan, nan, nan, nan, nan, nan, nan,\n",
      "        nan, nan, nan, nan, nan, nan, nan, nan, nan, nan, nan, nan, nan, nan, nan, nan, nan, nan, nan, nan, nan, nan, nan, nan,\n",
      "        nan, nan, nan, nan, nan, nan, nan, nan, nan, nan, nan, nan, nan, nan, nan, nan, nan, nan, nan, nan, nan, nan, nan, nan,\n",
      "        nan, nan, nan, nan, nan, nan, nan, nan, nan, nan, nan, nan, nan, nan, nan, nan, nan, nan, nan, nan, nan, nan, nan, nan,\n",
      "        nan, nan, nan, nan, nan, nan, nan, nan, nan, nan, nan, nan, nan, nan, nan, nan, nan, nan, nan, nan, nan],\n",
      "       device='cuda:0', grad_fn=<SqueezeBackward1>), y: tensor([9.5837e+10, 2.2200e+10, 2.0730e+10, 1.8189e+12, 7.8158e+10, 1.9365e+08,\n",
      "        3.2950e+11, 1.1839e+10, 2.1880e+10, 6.4479e+08, 1.1565e+10, 1.6342e+09,\n",
      "        2.5013e+09, 4.1572e+09, 3.1713e+09, 3.5818e+10, 1.9698e+10, 3.2814e+11,\n",
      "        1.7751e+12, 1.1324e+12, 1.2998e+11, 8.3723e+10, 1.4837e+09, 4.4681e+11,\n",
      "        8.8271e+10, 5.4804e+10, 1.7195e+11, 9.4052e+10, 1.0382e+11, 1.2934e+09,\n",
      "        4.5969e+10, 6.8934e+10, 2.9823e+11, 2.1225e+09, 1.2541e+11, 1.0913e+12,\n",
      "        3.9794e+10, 6.4190e+10, 3.1852e+10, 1.0050e+11, 2.9850e+11, 7.4202e+08,\n",
      "        2.3995e+09, 3.6682e+10, 2.5433e+08, 1.2980e+11, 5.1170e+10, 5.6191e+11,\n",
      "        1.9305e+11, 6.3628e+09, 3.0981e+10, 3.3953e+11, 2.6202e+10, 3.9014e+10,\n",
      "        5.2211e+11, 1.3765e+11, 1.9093e+10, 2.2281e+11, 1.7495e+10, 8.7717e+11,\n",
      "        1.9973e+10, 4.8270e+10, 1.5849e+09, 5.2814e+11, 7.9901e+09, 2.3427e+09,\n",
      "        8.8998e+10, 1.0846e+11, 4.7784e+11, 8.6701e+09, 3.6401e+10, 7.2816e+09,\n",
      "        3.3869e+10, 2.8108e+09, 9.5968e+12, 3.5691e+09, 8.3936e+10, 2.8576e+10,\n",
      "        8.5587e+09, 1.9918e+11, 2.2563e+08, 2.9658e+12, 1.5391e+13, 7.0220e+10,\n",
      "        1.2056e+10, 6.5482e+09, 9.3700e+09, 1.9976e+11, 3.6957e+11, 3.1942e+09,\n",
      "        3.7770e+09, 1.4823e+11, 3.9817e+10, 3.9060e+08, 4.1130e+10, 7.1208e+10,\n",
      "        3.2496e+12, 2.8188e+11, 1.3045e+09, 2.4948e+10, 6.0819e+09, 1.6363e+11,\n",
      "        3.3894e+09, 4.5585e+11, 3.2276e+08, 2.8694e+10, 6.4303e+10, 2.5441e+10,\n",
      "        6.3187e+11, 6.7588e+09, 1.2971e+10, 6.9594e+11, 1.9485e+13, 1.6399e+11,\n",
      "        8.0076e+10, 1.9830e+11, 3.4718e+10, 5.3334e+12, 5.3028e+09, 2.8331e+10,\n",
      "        2.0269e+10, 1.7296e+11, 5.4389e+11, 4.3326e+10, 7.1824e+10, 1.9162e+11,\n",
      "        4.0229e+10, 8.8802e+08, 2.8564e+10, 3.4156e+09, 3.7093e+10, 3.9848e+10,\n",
      "        2.2435e+10, 3.7192e+10, 3.0953e+10, 2.2391e+09, 4.6296e+10, 4.3456e+12,\n",
      "        6.4818e+11, 7.5847e+09, 7.9194e+10], device='cuda:0')----------\n",
      "Epoch [3/50]: Train loss: nan, Valid loss: nan\n"
     ]
    },
    {
     "name": "stderr",
     "output_type": "stream",
     "text": [
      "Epoch [4/50]: 100%|██████████████████████████████████████████████████████████████| 1/1 [00:00<00:00, 43.40it/s, loss=nan]\n"
     ]
    },
    {
     "name": "stdout",
     "output_type": "stream",
     "text": [
      "-------predict: tensor([nan, nan, nan, nan, nan, nan, nan, nan, nan, nan, nan, nan, nan, nan, nan, nan, nan, nan, nan, nan, nan, nan, nan, nan,\n",
      "        nan, nan, nan, nan, nan, nan, nan, nan, nan, nan, nan, nan, nan, nan, nan, nan, nan, nan, nan, nan, nan, nan, nan, nan,\n",
      "        nan, nan, nan, nan, nan, nan, nan, nan, nan, nan, nan, nan, nan, nan, nan, nan, nan, nan, nan, nan, nan, nan, nan, nan,\n",
      "        nan, nan, nan, nan, nan, nan, nan, nan, nan, nan, nan, nan, nan, nan, nan, nan, nan, nan, nan, nan, nan, nan, nan, nan,\n",
      "        nan, nan, nan, nan, nan, nan, nan, nan, nan, nan, nan, nan, nan, nan, nan, nan, nan, nan, nan, nan, nan, nan, nan, nan,\n",
      "        nan, nan, nan, nan, nan, nan, nan, nan, nan, nan, nan, nan, nan, nan, nan, nan, nan, nan, nan, nan, nan],\n",
      "       device='cuda:0', grad_fn=<SqueezeBackward1>), y: tensor([5.3334e+12, 6.8934e+10, 5.1170e+10, 6.4303e+10, 6.9594e+11, 4.4681e+11,\n",
      "        1.9918e+11, 1.3045e+09, 2.5441e+10, 1.3765e+11, 8.6701e+09, 9.3700e+09,\n",
      "        8.8998e+10, 1.0846e+11, 6.4190e+10, 4.7784e+11, 3.7770e+09, 1.2541e+11,\n",
      "        4.1130e+10, 1.7195e+11, 7.8158e+10, 1.2934e+09, 2.5013e+09, 3.2276e+08,\n",
      "        8.3723e+10, 8.8271e+10, 2.4948e+10, 6.4479e+08, 9.5837e+10, 6.7588e+09,\n",
      "        2.0730e+10, 4.1572e+09, 2.2391e+09, 4.8270e+10, 1.9093e+10, 1.5391e+13,\n",
      "        2.9823e+11, 1.4823e+11, 6.0819e+09, 3.5818e+10, 3.9848e+10, 8.3936e+10,\n",
      "        1.1324e+12, 1.0913e+12, 1.1839e+10, 5.2211e+11, 1.2971e+10, 2.2563e+08,\n",
      "        2.9658e+12, 1.9305e+11, 3.1713e+09, 1.9973e+10, 1.0382e+11, 1.2998e+11,\n",
      "        3.4156e+09, 3.5691e+09, 3.9794e+10, 7.9901e+09, 1.2056e+10, 1.4837e+09,\n",
      "        3.6957e+11, 1.9698e+10, 2.2435e+10, 2.9850e+11, 2.6202e+10, 6.5482e+09,\n",
      "        3.3869e+10, 3.3953e+11, 7.9194e+10, 1.7296e+11, 5.3028e+09, 9.4052e+10,\n",
      "        1.6399e+11, 4.3456e+12, 3.3894e+09, 5.2814e+11, 1.7751e+12, 1.5849e+09,\n",
      "        4.5969e+10, 3.0981e+10, 2.8331e+10, 3.9817e+10, 8.5587e+09, 6.3628e+09,\n",
      "        6.3187e+11, 2.8576e+10, 3.1942e+09, 6.4818e+11, 2.3995e+09, 3.2496e+12,\n",
      "        7.2816e+09, 8.7717e+11, 3.4718e+10, 1.0050e+11, 7.1208e+10, 3.2814e+11,\n",
      "        3.7192e+10, 2.8108e+09, 1.9830e+11, 5.4389e+11, 1.9976e+11, 1.8189e+12,\n",
      "        7.5847e+09, 3.6401e+10, 7.1824e+10, 2.2281e+11, 1.6342e+09, 5.6191e+11,\n",
      "        4.0229e+10, 1.9162e+11, 1.9365e+08, 2.3427e+09, 9.5968e+12, 8.0076e+10,\n",
      "        3.9014e+10, 2.5433e+08, 1.9485e+13, 1.2980e+11, 2.8188e+11, 4.6296e+10,\n",
      "        2.1880e+10, 2.2200e+10, 4.3326e+10, 2.0269e+10, 3.9060e+08, 3.0953e+10,\n",
      "        7.0220e+10, 8.8802e+08, 5.4804e+10, 3.1852e+10, 2.8564e+10, 1.1565e+10,\n",
      "        1.7495e+10, 4.5585e+11, 1.6363e+11, 7.4202e+08, 3.2950e+11, 3.6682e+10,\n",
      "        2.1225e+09, 2.8694e+10, 3.7093e+10], device='cuda:0')----------\n",
      "Epoch [4/50]: Train loss: nan, Valid loss: nan\n"
     ]
    },
    {
     "name": "stderr",
     "output_type": "stream",
     "text": [
      "Epoch [5/50]: 100%|██████████████████████████████████████████████████████████████| 1/1 [00:00<00:00, 46.89it/s, loss=nan]\n"
     ]
    },
    {
     "name": "stdout",
     "output_type": "stream",
     "text": [
      "-------predict: tensor([nan, nan, nan, nan, nan, nan, nan, nan, nan, nan, nan, nan, nan, nan, nan, nan, nan, nan, nan, nan, nan, nan, nan, nan,\n",
      "        nan, nan, nan, nan, nan, nan, nan, nan, nan, nan, nan, nan, nan, nan, nan, nan, nan, nan, nan, nan, nan, nan, nan, nan,\n",
      "        nan, nan, nan, nan, nan, nan, nan, nan, nan, nan, nan, nan, nan, nan, nan, nan, nan, nan, nan, nan, nan, nan, nan, nan,\n",
      "        nan, nan, nan, nan, nan, nan, nan, nan, nan, nan, nan, nan, nan, nan, nan, nan, nan, nan, nan, nan, nan, nan, nan, nan,\n",
      "        nan, nan, nan, nan, nan, nan, nan, nan, nan, nan, nan, nan, nan, nan, nan, nan, nan, nan, nan, nan, nan, nan, nan, nan,\n",
      "        nan, nan, nan, nan, nan, nan, nan, nan, nan, nan, nan, nan, nan, nan, nan, nan, nan, nan, nan, nan, nan],\n",
      "       device='cuda:0', grad_fn=<SqueezeBackward1>), y: tensor([2.8188e+11, 3.2496e+12, 4.1130e+10, 3.4156e+09, 6.4190e+10, 1.6342e+09,\n",
      "        4.1572e+09, 8.8802e+08, 6.5482e+09, 1.9365e+08, 3.5691e+09, 3.9014e+10,\n",
      "        1.7195e+11, 2.8331e+10, 9.5968e+12, 3.2276e+08, 4.8270e+10, 7.1208e+10,\n",
      "        1.0913e+12, 7.5847e+09, 2.3427e+09, 2.5441e+10, 1.7495e+10, 7.1824e+10,\n",
      "        1.0382e+11, 2.2391e+09, 1.9973e+10, 8.0076e+10, 2.2435e+10, 1.1565e+10,\n",
      "        3.9817e+10, 8.3936e+10, 1.2056e+10, 7.9194e+10, 7.4202e+08, 1.5849e+09,\n",
      "        4.5969e+10, 2.5013e+09, 3.9060e+08, 1.5391e+13, 3.1713e+09, 4.0229e+10,\n",
      "        1.1324e+12, 1.8189e+12, 3.0953e+10, 1.9093e+10, 4.4681e+11, 3.1852e+10,\n",
      "        1.9976e+11, 8.8998e+10, 2.8694e+10, 7.9901e+09, 2.9658e+12, 5.2814e+11,\n",
      "        7.2816e+09, 1.6399e+11, 3.3953e+11, 3.3869e+10, 5.4804e+10, 3.6957e+11,\n",
      "        1.6363e+11, 2.1880e+10, 1.7296e+11, 6.8934e+10, 1.9485e+13, 2.4948e+10,\n",
      "        1.9162e+11, 6.7588e+09, 1.9918e+11, 5.6191e+11, 3.7093e+10, 3.3894e+09,\n",
      "        3.2814e+11, 4.6296e+10, 2.1225e+09, 1.2934e+09, 1.1839e+10, 6.4479e+08,\n",
      "        1.4837e+09, 1.3045e+09, 2.2281e+11, 1.4823e+11, 1.0846e+11, 2.2563e+08,\n",
      "        2.2200e+10, 3.9848e+10, 8.3723e+10, 2.8576e+10, 5.4389e+11, 2.3995e+09,\n",
      "        7.0220e+10, 3.4718e+10, 1.2980e+11, 3.7770e+09, 2.9850e+11, 1.2971e+10,\n",
      "        8.8271e+10, 3.0981e+10, 4.3456e+12, 1.3765e+11, 5.1170e+10, 5.3334e+12,\n",
      "        1.9830e+11, 4.5585e+11, 1.9698e+10, 1.9305e+11, 1.2541e+11, 6.9594e+11,\n",
      "        2.8108e+09, 1.0050e+11, 2.0269e+10, 3.6682e+10, 3.5818e+10, 2.8564e+10,\n",
      "        3.6401e+10, 3.7192e+10, 9.4052e+10, 8.5587e+09, 2.0730e+10, 9.3700e+09,\n",
      "        1.7751e+12, 6.4818e+11, 5.3028e+09, 4.3326e+10, 8.7717e+11, 7.8158e+10,\n",
      "        5.2211e+11, 6.4303e+10, 2.6202e+10, 3.9794e+10, 2.9823e+11, 6.3628e+09,\n",
      "        4.7784e+11, 6.0819e+09, 9.5837e+10, 1.2998e+11, 6.3187e+11, 3.1942e+09,\n",
      "        3.2950e+11, 8.6701e+09, 2.5433e+08], device='cuda:0')----------\n",
      "Epoch [5/50]: Train loss: nan, Valid loss: nan\n"
     ]
    },
    {
     "name": "stderr",
     "output_type": "stream",
     "text": [
      "Epoch [6/50]: 100%|██████████████████████████████████████████████████████████████| 1/1 [00:00<00:00, 48.03it/s, loss=nan]\n"
     ]
    },
    {
     "name": "stdout",
     "output_type": "stream",
     "text": [
      "-------predict: tensor([nan, nan, nan, nan, nan, nan, nan, nan, nan, nan, nan, nan, nan, nan, nan, nan, nan, nan, nan, nan, nan, nan, nan, nan,\n",
      "        nan, nan, nan, nan, nan, nan, nan, nan, nan, nan, nan, nan, nan, nan, nan, nan, nan, nan, nan, nan, nan, nan, nan, nan,\n",
      "        nan, nan, nan, nan, nan, nan, nan, nan, nan, nan, nan, nan, nan, nan, nan, nan, nan, nan, nan, nan, nan, nan, nan, nan,\n",
      "        nan, nan, nan, nan, nan, nan, nan, nan, nan, nan, nan, nan, nan, nan, nan, nan, nan, nan, nan, nan, nan, nan, nan, nan,\n",
      "        nan, nan, nan, nan, nan, nan, nan, nan, nan, nan, nan, nan, nan, nan, nan, nan, nan, nan, nan, nan, nan, nan, nan, nan,\n",
      "        nan, nan, nan, nan, nan, nan, nan, nan, nan, nan, nan, nan, nan, nan, nan, nan, nan, nan, nan, nan, nan],\n",
      "       device='cuda:0', grad_fn=<SqueezeBackward1>), y: tensor([1.2541e+11, 1.6399e+11, 1.3045e+09, 1.1565e+10, 1.9093e+10, 3.5691e+09,\n",
      "        3.9794e+10, 2.1880e+10, 1.9305e+11, 8.7717e+11, 7.1208e+10, 1.5391e+13,\n",
      "        4.4681e+11, 2.5441e+10, 3.7093e+10, 5.1170e+10, 1.3765e+11, 2.9850e+11,\n",
      "        8.6701e+09, 3.3869e+10, 4.0229e+10, 2.2391e+09, 1.8189e+12, 3.2814e+11,\n",
      "        3.1942e+09, 1.0382e+11, 7.2816e+09, 3.3894e+09, 1.9698e+10, 1.9485e+13,\n",
      "        6.4479e+08, 5.2814e+11, 1.2934e+09, 2.8188e+11, 7.9194e+10, 5.3028e+09,\n",
      "        1.2056e+10, 2.0730e+10, 1.0913e+12, 1.0846e+11, 3.6957e+11, 8.5587e+09,\n",
      "        2.9658e+12, 1.0050e+11, 3.7192e+10, 2.8331e+10, 2.8694e+10, 7.5847e+09,\n",
      "        3.1713e+09, 6.9594e+11, 1.4837e+09, 4.3326e+10, 3.6682e+10, 4.5969e+10,\n",
      "        4.3456e+12, 2.5433e+08, 6.7588e+09, 2.3995e+09, 1.2971e+10, 2.9823e+11,\n",
      "        1.9162e+11, 1.7751e+12, 7.4202e+08, 3.9014e+10, 6.3187e+11, 3.2276e+08,\n",
      "        5.6191e+11, 6.4303e+10, 1.2980e+11, 9.4052e+10, 7.9901e+09, 1.6342e+09,\n",
      "        7.8158e+10, 3.2950e+11, 8.3723e+10, 1.1324e+12, 5.2211e+11, 1.9918e+11,\n",
      "        3.9817e+10, 5.3334e+12, 4.8270e+10, 8.0076e+10, 1.5849e+09, 2.4948e+10,\n",
      "        2.0269e+10, 4.7784e+11, 6.4190e+10, 3.7770e+09, 4.6296e+10, 2.2200e+10,\n",
      "        1.7296e+11, 7.1824e+10, 4.1130e+10, 2.8576e+10, 9.3700e+09, 5.4804e+10,\n",
      "        1.7195e+11, 9.5968e+12, 3.4718e+10, 8.3936e+10, 6.4818e+11, 2.2281e+11,\n",
      "        6.8934e+10, 1.7495e+10, 1.2998e+11, 8.8998e+10, 3.3953e+11, 1.4823e+11,\n",
      "        2.2435e+10, 6.5482e+09, 3.1852e+10, 2.5013e+09, 2.2563e+08, 3.6401e+10,\n",
      "        3.4156e+09, 7.0220e+10, 1.9973e+10, 3.9848e+10, 6.3628e+09, 8.8271e+10,\n",
      "        3.5818e+10, 1.9830e+11, 1.9976e+11, 4.5585e+11, 1.6363e+11, 3.9060e+08,\n",
      "        9.5837e+10, 2.3427e+09, 6.0819e+09, 2.1225e+09, 1.1839e+10, 4.1572e+09,\n",
      "        1.9365e+08, 3.2496e+12, 2.6202e+10, 2.8108e+09, 5.4389e+11, 3.0981e+10,\n",
      "        8.8802e+08, 3.0953e+10, 2.8564e+10], device='cuda:0')----------\n",
      "Epoch [6/50]: Train loss: nan, Valid loss: nan\n"
     ]
    },
    {
     "name": "stderr",
     "output_type": "stream",
     "text": [
      "Epoch [7/50]: 100%|██████████████████████████████████████████████████████████████| 1/1 [00:00<00:00, 47.51it/s, loss=nan]\n"
     ]
    },
    {
     "name": "stdout",
     "output_type": "stream",
     "text": [
      "-------predict: tensor([nan, nan, nan, nan, nan, nan, nan, nan, nan, nan, nan, nan, nan, nan, nan, nan, nan, nan, nan, nan, nan, nan, nan, nan,\n",
      "        nan, nan, nan, nan, nan, nan, nan, nan, nan, nan, nan, nan, nan, nan, nan, nan, nan, nan, nan, nan, nan, nan, nan, nan,\n",
      "        nan, nan, nan, nan, nan, nan, nan, nan, nan, nan, nan, nan, nan, nan, nan, nan, nan, nan, nan, nan, nan, nan, nan, nan,\n",
      "        nan, nan, nan, nan, nan, nan, nan, nan, nan, nan, nan, nan, nan, nan, nan, nan, nan, nan, nan, nan, nan, nan, nan, nan,\n",
      "        nan, nan, nan, nan, nan, nan, nan, nan, nan, nan, nan, nan, nan, nan, nan, nan, nan, nan, nan, nan, nan, nan, nan, nan,\n",
      "        nan, nan, nan, nan, nan, nan, nan, nan, nan, nan, nan, nan, nan, nan, nan, nan, nan, nan, nan, nan, nan],\n",
      "       device='cuda:0', grad_fn=<SqueezeBackward1>), y: tensor([9.3700e+09, 1.1565e+10, 1.0846e+11, 1.7195e+11, 1.2971e+10, 1.2980e+11,\n",
      "        1.7495e+10, 5.4389e+11, 1.9305e+11, 5.4804e+10, 1.1324e+12, 8.3723e+10,\n",
      "        3.6401e+10, 3.5691e+09, 5.1170e+10, 8.7717e+11, 2.3427e+09, 7.0220e+10,\n",
      "        3.5818e+10, 5.2211e+11, 9.4052e+10, 4.3456e+12, 1.7296e+11, 6.4303e+10,\n",
      "        2.5441e+10, 3.1852e+10, 1.7751e+12, 3.4718e+10, 2.8188e+11, 5.3028e+09,\n",
      "        1.9485e+13, 5.2814e+11, 1.2998e+11, 6.8934e+10, 1.4823e+11, 2.9823e+11,\n",
      "        3.2814e+11, 2.8331e+10, 6.7588e+09, 3.9014e+10, 3.6682e+10, 3.1942e+09,\n",
      "        2.9850e+11, 6.5482e+09, 7.5847e+09, 2.3995e+09, 7.1208e+10, 2.1225e+09,\n",
      "        3.0981e+10, 1.2934e+09, 3.9848e+10, 1.9973e+10, 6.4479e+08, 2.8694e+10,\n",
      "        6.3628e+09, 3.7192e+10, 4.4681e+11, 3.1713e+09, 2.2391e+09, 1.3765e+11,\n",
      "        8.8998e+10, 3.7770e+09, 9.5968e+12, 1.5849e+09, 6.9594e+11, 4.0229e+10,\n",
      "        2.0269e+10, 4.8270e+10, 8.8271e+10, 1.4837e+09, 5.6191e+11, 1.2541e+11,\n",
      "        7.2816e+09, 2.0730e+10, 7.4202e+08, 2.2563e+08, 1.9830e+11, 1.9162e+11,\n",
      "        2.8576e+10, 7.9901e+09, 8.8802e+08, 3.2276e+08, 1.0050e+11, 4.5969e+10,\n",
      "        3.3869e+10, 1.5391e+13, 1.2056e+10, 6.4190e+10, 3.9817e+10, 1.0382e+11,\n",
      "        1.9365e+08, 7.1824e+10, 2.6202e+10, 3.0953e+10, 1.1839e+10, 1.9918e+11,\n",
      "        7.8158e+10, 8.5587e+09, 1.6342e+09, 3.3894e+09, 2.5433e+08, 1.6399e+11,\n",
      "        1.9698e+10, 6.3187e+11, 2.8564e+10, 4.6296e+10, 1.0913e+12, 6.0819e+09,\n",
      "        3.7093e+10, 3.4156e+09, 3.2496e+12, 8.0076e+10, 3.9060e+08, 7.9194e+10,\n",
      "        1.8189e+12, 2.1880e+10, 1.3045e+09, 4.1572e+09, 3.3953e+11, 8.3936e+10,\n",
      "        2.2200e+10, 9.5837e+10, 2.9658e+12, 4.7784e+11, 1.9093e+10, 6.4818e+11,\n",
      "        4.1130e+10, 5.3334e+12, 3.2950e+11, 3.9794e+10, 8.6701e+09, 3.6957e+11,\n",
      "        1.9976e+11, 4.3326e+10, 2.5013e+09, 2.2281e+11, 2.8108e+09, 2.4948e+10,\n",
      "        2.2435e+10, 4.5585e+11, 1.6363e+11], device='cuda:0')----------\n",
      "Epoch [7/50]: Train loss: nan, Valid loss: nan\n"
     ]
    },
    {
     "name": "stderr",
     "output_type": "stream",
     "text": [
      "Epoch [8/50]: 100%|██████████████████████████████████████████████████████████████| 1/1 [00:00<00:00, 46.25it/s, loss=nan]\n"
     ]
    },
    {
     "name": "stdout",
     "output_type": "stream",
     "text": [
      "-------predict: tensor([nan, nan, nan, nan, nan, nan, nan, nan, nan, nan, nan, nan, nan, nan, nan, nan, nan, nan, nan, nan, nan, nan, nan, nan,\n",
      "        nan, nan, nan, nan, nan, nan, nan, nan, nan, nan, nan, nan, nan, nan, nan, nan, nan, nan, nan, nan, nan, nan, nan, nan,\n",
      "        nan, nan, nan, nan, nan, nan, nan, nan, nan, nan, nan, nan, nan, nan, nan, nan, nan, nan, nan, nan, nan, nan, nan, nan,\n",
      "        nan, nan, nan, nan, nan, nan, nan, nan, nan, nan, nan, nan, nan, nan, nan, nan, nan, nan, nan, nan, nan, nan, nan, nan,\n",
      "        nan, nan, nan, nan, nan, nan, nan, nan, nan, nan, nan, nan, nan, nan, nan, nan, nan, nan, nan, nan, nan, nan, nan, nan,\n",
      "        nan, nan, nan, nan, nan, nan, nan, nan, nan, nan, nan, nan, nan, nan, nan, nan, nan, nan, nan, nan, nan],\n",
      "       device='cuda:0', grad_fn=<SqueezeBackward1>), y: tensor([3.7770e+09, 8.6701e+09, 1.9485e+13, 3.7093e+10, 4.3456e+12, 1.1839e+10,\n",
      "        3.9817e+10, 2.2563e+08, 2.5433e+08, 1.2971e+10, 1.5849e+09, 3.0981e+10,\n",
      "        2.3427e+09, 4.7784e+11, 8.7717e+11, 2.3995e+09, 3.6682e+10, 1.1565e+10,\n",
      "        9.5968e+12, 2.8576e+10, 3.3953e+11, 3.6401e+10, 2.8564e+10, 4.5969e+10,\n",
      "        8.8271e+10, 7.1824e+10, 5.2211e+11, 4.1130e+10, 2.8188e+11, 3.5818e+10,\n",
      "        5.4389e+11, 5.4804e+10, 2.4948e+10, 4.8270e+10, 1.4823e+11, 9.5837e+10,\n",
      "        2.9658e+12, 3.1852e+10, 1.2980e+11, 7.0220e+10, 3.1713e+09, 6.9594e+11,\n",
      "        3.4156e+09, 1.6342e+09, 3.9014e+10, 2.5013e+09, 2.6202e+10, 1.7495e+10,\n",
      "        1.0382e+11, 1.3765e+11, 6.4190e+10, 1.3045e+09, 7.1208e+10, 3.2814e+11,\n",
      "        3.2496e+12, 4.1572e+09, 2.8108e+09, 4.3326e+10, 1.9093e+10, 1.0913e+12,\n",
      "        3.9794e+10, 3.0953e+10, 6.0819e+09, 6.4479e+08, 8.3936e+10, 1.1324e+12,\n",
      "        1.4837e+09, 6.3187e+11, 6.4818e+11, 4.0229e+10, 2.8331e+10, 8.5587e+09,\n",
      "        3.9060e+08, 7.8158e+10, 4.6296e+10, 1.2541e+11, 7.2816e+09, 1.9162e+11,\n",
      "        2.9823e+11, 8.0076e+10, 9.3700e+09, 3.6957e+11, 7.4202e+08, 1.9698e+10,\n",
      "        2.0730e+10, 4.4681e+11, 2.0269e+10, 3.9848e+10, 1.9976e+11, 5.1170e+10,\n",
      "        1.9365e+08, 1.9973e+10, 1.0846e+11, 3.2276e+08, 1.2934e+09, 6.5482e+09,\n",
      "        3.2950e+11, 8.8802e+08, 5.6191e+11, 1.9305e+11, 1.6399e+11, 1.2998e+11,\n",
      "        8.8998e+10, 1.7751e+12, 1.2056e+10, 1.8189e+12, 5.3334e+12, 6.7588e+09,\n",
      "        3.3869e+10, 2.1880e+10, 3.3894e+09, 3.4718e+10, 2.2200e+10, 1.7195e+11,\n",
      "        1.0050e+11, 4.5585e+11, 6.8934e+10, 5.3028e+09, 2.1225e+09, 2.8694e+10,\n",
      "        1.7296e+11, 8.3723e+10, 3.1942e+09, 2.5441e+10, 6.3628e+09, 5.2814e+11,\n",
      "        1.9918e+11, 6.4303e+10, 3.7192e+10, 7.9194e+10, 2.2281e+11, 7.9901e+09,\n",
      "        2.9850e+11, 1.5391e+13, 1.6363e+11, 7.5847e+09, 2.2391e+09, 1.9830e+11,\n",
      "        9.4052e+10, 3.5691e+09, 2.2435e+10], device='cuda:0')----------\n",
      "Epoch [8/50]: Train loss: nan, Valid loss: nan\n"
     ]
    },
    {
     "name": "stderr",
     "output_type": "stream",
     "text": [
      "\r",
      "  0%|                                                                                              | 0/1 [00:00<?, ?it/s]"
     ]
    },
    {
     "name": "stdout",
     "output_type": "stream",
     "text": [
      "-------predict: tensor([nan, nan, nan, nan, nan, nan, nan, nan, nan, nan, nan, nan, nan, nan, nan, nan, nan, nan, nan, nan, nan, nan, nan, nan,\n",
      "        nan, nan, nan, nan, nan, nan, nan, nan, nan, nan, nan, nan, nan, nan, nan, nan, nan, nan, nan, nan, nan, nan, nan, nan,\n",
      "        nan, nan, nan, nan, nan, nan, nan, nan, nan, nan, nan, nan, nan, nan, nan, nan, nan, nan, nan, nan, nan, nan, nan, nan,\n",
      "        nan, nan, nan, nan, nan, nan, nan, nan, nan, nan, nan, nan, nan, nan, nan, nan, nan, nan, nan, nan, nan, nan, nan, nan,\n",
      "        nan, nan, nan, nan, nan, nan, nan, nan, nan, nan, nan, nan, nan, nan, nan, nan, nan, nan, nan, nan, nan, nan, nan, nan,\n",
      "        nan, nan, nan, nan, nan, nan, nan, nan, nan, nan, nan, nan, nan, nan, nan, nan, nan, nan, nan, nan, nan],\n",
      "       device='cuda:0', grad_fn=<SqueezeBackward1>), y: tensor([2.8576e+10, 2.0730e+10, 1.5849e+09, 3.2496e+12, 4.3456e+12, 8.0076e+10,\n",
      "        6.9594e+11, 7.5847e+09, 2.5433e+08, 1.9976e+11, 9.5837e+10, 5.4389e+11,\n",
      "        1.1839e+10, 1.9973e+10, 1.9830e+11, 2.8694e+10, 2.2435e+10, 2.3427e+09,\n",
      "        3.5691e+09, 2.9850e+11, 1.9698e+10, 7.9901e+09, 6.5482e+09, 8.8998e+10,\n",
      "        5.3028e+09, 1.2971e+10, 3.6682e+10, 2.1225e+09, 1.4823e+11, 1.3045e+09,\n",
      "        7.4202e+08, 2.1880e+10, 3.2814e+11, 4.1572e+09, 2.3995e+09, 1.9162e+11,\n",
      "        8.5587e+09, 3.0953e+10, 3.3894e+09, 1.2998e+11, 6.4190e+10, 2.9823e+11,\n",
      "        5.2211e+11, 2.0269e+10, 3.1852e+10, 7.1824e+10, 6.0819e+09, 6.3187e+11,\n",
      "        1.0846e+11, 7.2816e+09, 9.4052e+10, 1.7296e+11, 3.4156e+09, 3.9817e+10,\n",
      "        6.7588e+09, 1.8189e+12, 3.0981e+10, 4.1130e+10, 2.9658e+12, 2.5013e+09,\n",
      "        8.8802e+08, 3.6401e+10, 3.3869e+10, 1.7495e+10, 7.1208e+10, 4.8270e+10,\n",
      "        3.2276e+08, 1.0913e+12, 1.1565e+10, 1.9305e+11, 4.6296e+10, 6.4818e+11,\n",
      "        5.4804e+10, 8.3723e+10, 3.9060e+08, 4.4681e+11, 1.9365e+08, 9.3700e+09,\n",
      "        1.0382e+11, 1.7751e+12, 1.7195e+11, 1.6399e+11, 3.7093e+10, 3.6957e+11,\n",
      "        1.6363e+11, 3.5818e+10, 4.5585e+11, 1.2056e+10, 4.7784e+11, 8.8271e+10,\n",
      "        2.2563e+08, 5.2814e+11, 9.5968e+12, 1.5391e+13, 6.4479e+08, 2.8331e+10,\n",
      "        2.8564e+10, 2.8108e+09, 7.8158e+10, 1.9093e+10, 6.8934e+10, 3.9014e+10,\n",
      "        1.2541e+11, 2.2281e+11, 3.7770e+09, 7.0220e+10, 2.2200e+10, 2.2391e+09,\n",
      "        5.6191e+11, 2.6202e+10, 2.4948e+10, 8.7717e+11, 4.0229e+10, 3.1713e+09,\n",
      "        4.3326e+10, 1.1324e+12, 1.4837e+09, 3.3953e+11, 5.3334e+12, 6.3628e+09,\n",
      "        8.6701e+09, 5.1170e+10, 1.9485e+13, 1.9918e+11, 3.9794e+10, 1.2934e+09,\n",
      "        2.8188e+11, 1.3765e+11, 8.3936e+10, 1.2980e+11, 3.2950e+11, 3.1942e+09,\n",
      "        1.0050e+11, 4.5969e+10, 2.5441e+10, 3.9848e+10, 6.4303e+10, 3.4718e+10,\n",
      "        3.7192e+10, 1.6342e+09, 7.9194e+10], device='cuda:0')----------\n"
     ]
    },
    {
     "name": "stderr",
     "output_type": "stream",
     "text": [
      "Epoch [9/50]: 100%|██████████████████████████████████████████████████████████████| 1/1 [00:00<00:00, 51.33it/s, loss=nan]\n"
     ]
    },
    {
     "name": "stdout",
     "output_type": "stream",
     "text": [
      "Epoch [9/50]: Train loss: nan, Valid loss: nan\n"
     ]
    },
    {
     "name": "stderr",
     "output_type": "stream",
     "text": [
      "Epoch [10/50]: 100%|█████████████████████████████████████████████████████████████| 1/1 [00:00<00:00, 54.12it/s, loss=nan]"
     ]
    },
    {
     "name": "stdout",
     "output_type": "stream",
     "text": [
      "-------predict: tensor([nan, nan, nan, nan, nan, nan, nan, nan, nan, nan, nan, nan, nan, nan, nan, nan, nan, nan, nan, nan, nan, nan, nan, nan,\n",
      "        nan, nan, nan, nan, nan, nan, nan, nan, nan, nan, nan, nan, nan, nan, nan, nan, nan, nan, nan, nan, nan, nan, nan, nan,\n",
      "        nan, nan, nan, nan, nan, nan, nan, nan, nan, nan, nan, nan, nan, nan, nan, nan, nan, nan, nan, nan, nan, nan, nan, nan,\n",
      "        nan, nan, nan, nan, nan, nan, nan, nan, nan, nan, nan, nan, nan, nan, nan, nan, nan, nan, nan, nan, nan, nan, nan, nan,\n",
      "        nan, nan, nan, nan, nan, nan, nan, nan, nan, nan, nan, nan, nan, nan, nan, nan, nan, nan, nan, nan, nan, nan, nan, nan,\n",
      "        nan, nan, nan, nan, nan, nan, nan, nan, nan, nan, nan, nan, nan, nan, nan, nan, nan, nan, nan, nan, nan],\n",
      "       device='cuda:0', grad_fn=<SqueezeBackward1>), y: tensor([1.2998e+11, 8.8802e+08, 8.8271e+10, 4.3326e+10, 2.6202e+10, 9.5968e+12,\n",
      "        2.5433e+08, 2.9823e+11, 4.4681e+11, 9.3700e+09, 1.1839e+10, 2.3427e+09,\n",
      "        2.8108e+09, 1.4837e+09, 2.3995e+09, 3.2496e+12, 6.4303e+10, 8.8998e+10,\n",
      "        4.6296e+10, 1.4823e+11, 8.5587e+09, 3.2276e+08, 4.0229e+10, 2.5441e+10,\n",
      "        8.6701e+09, 2.1880e+10, 6.5482e+09, 5.6191e+11, 3.2950e+11, 9.5837e+10,\n",
      "        1.6399e+11, 6.4818e+11, 1.9093e+10, 1.2541e+11, 3.2814e+11, 1.1565e+10,\n",
      "        4.5969e+10, 6.0819e+09, 7.8158e+10, 3.4718e+10, 1.9162e+11, 6.7588e+09,\n",
      "        2.5013e+09, 3.7770e+09, 1.9973e+10, 4.5585e+11, 1.9485e+13, 3.9848e+10,\n",
      "        6.8934e+10, 3.0981e+10, 1.9918e+11, 5.2211e+11, 1.6363e+11, 7.5847e+09,\n",
      "        3.3894e+09, 8.0076e+10, 1.0050e+11, 3.9014e+10, 6.9594e+11, 3.0953e+10,\n",
      "        2.9850e+11, 8.3723e+10, 2.2391e+09, 1.9830e+11, 3.7192e+10, 1.7296e+11,\n",
      "        9.4052e+10, 4.3456e+12, 1.2934e+09, 1.9305e+11, 7.0220e+10, 2.4948e+10,\n",
      "        3.5691e+09, 4.7784e+11, 5.2814e+11, 3.9060e+08, 2.2200e+10, 3.6682e+10,\n",
      "        5.3028e+09, 2.8694e+10, 2.2563e+08, 7.1824e+10, 6.4479e+08, 6.3628e+09,\n",
      "        1.7751e+12, 3.4156e+09, 2.8331e+10, 2.0269e+10, 1.2056e+10, 1.0913e+12,\n",
      "        2.8564e+10, 1.2980e+11, 6.3187e+11, 4.1130e+10, 2.2281e+11, 2.0730e+10,\n",
      "        3.9817e+10, 3.5818e+10, 7.9901e+09, 1.9698e+10, 7.1208e+10, 1.3765e+11,\n",
      "        1.7195e+11, 1.3045e+09, 1.9365e+08, 3.9794e+10, 2.8576e+10, 1.9976e+11,\n",
      "        8.3936e+10, 1.5849e+09, 7.2816e+09, 8.7717e+11, 5.4389e+11, 5.4804e+10,\n",
      "        1.7495e+10, 6.4190e+10, 3.3869e+10, 1.1324e+12, 7.4202e+08, 1.0382e+11,\n",
      "        3.6401e+10, 1.5391e+13, 4.1572e+09, 2.9658e+12, 5.1170e+10, 2.2435e+10,\n",
      "        3.1713e+09, 3.1852e+10, 1.0846e+11, 3.7093e+10, 2.8188e+11, 5.3334e+12,\n",
      "        1.6342e+09, 4.8270e+10, 3.3953e+11, 1.8189e+12, 3.1942e+09, 2.1225e+09,\n",
      "        7.9194e+10, 3.6957e+11, 1.2971e+10], device='cuda:0')----------\n"
     ]
    },
    {
     "name": "stderr",
     "output_type": "stream",
     "text": [
      "\n"
     ]
    },
    {
     "name": "stdout",
     "output_type": "stream",
     "text": [
      "Epoch [10/50]: Train loss: nan, Valid loss: nan\n"
     ]
    },
    {
     "name": "stderr",
     "output_type": "stream",
     "text": [
      "Epoch [11/50]: 100%|█████████████████████████████████████████████████████████████| 1/1 [00:00<00:00, 51.97it/s, loss=nan]\n"
     ]
    },
    {
     "name": "stdout",
     "output_type": "stream",
     "text": [
      "-------predict: tensor([nan, nan, nan, nan, nan, nan, nan, nan, nan, nan, nan, nan, nan, nan, nan, nan, nan, nan, nan, nan, nan, nan, nan, nan,\n",
      "        nan, nan, nan, nan, nan, nan, nan, nan, nan, nan, nan, nan, nan, nan, nan, nan, nan, nan, nan, nan, nan, nan, nan, nan,\n",
      "        nan, nan, nan, nan, nan, nan, nan, nan, nan, nan, nan, nan, nan, nan, nan, nan, nan, nan, nan, nan, nan, nan, nan, nan,\n",
      "        nan, nan, nan, nan, nan, nan, nan, nan, nan, nan, nan, nan, nan, nan, nan, nan, nan, nan, nan, nan, nan, nan, nan, nan,\n",
      "        nan, nan, nan, nan, nan, nan, nan, nan, nan, nan, nan, nan, nan, nan, nan, nan, nan, nan, nan, nan, nan, nan, nan, nan,\n",
      "        nan, nan, nan, nan, nan, nan, nan, nan, nan, nan, nan, nan, nan, nan, nan, nan, nan, nan, nan, nan, nan],\n",
      "       device='cuda:0', grad_fn=<SqueezeBackward1>), y: tensor([7.9194e+10, 1.6363e+11, 4.7784e+11, 8.6701e+09, 1.9976e+11, 1.9830e+11,\n",
      "        3.2814e+11, 4.1572e+09, 4.5585e+11, 3.5691e+09, 2.2281e+11, 5.3334e+12,\n",
      "        3.7770e+09, 4.3326e+10, 2.2435e+10, 1.5391e+13, 4.5969e+10, 8.3936e+10,\n",
      "        9.3700e+09, 1.9698e+10, 2.9823e+11, 2.4948e+10, 1.1839e+10, 1.1324e+12,\n",
      "        2.8188e+11, 6.5482e+09, 1.4823e+11, 3.3869e+10, 1.2980e+11, 2.5433e+08,\n",
      "        1.2998e+11, 1.1565e+10, 2.5013e+09, 5.4389e+11, 1.0382e+11, 1.8189e+12,\n",
      "        3.5818e+10, 2.3427e+09, 3.6401e+10, 1.0913e+12, 2.2391e+09, 5.2814e+11,\n",
      "        1.0846e+11, 3.2950e+11, 5.1170e+10, 2.0730e+10, 1.3045e+09, 3.9014e+10,\n",
      "        1.7296e+11, 5.6191e+11, 1.7195e+11, 1.9918e+11, 3.1852e+10, 1.3765e+11,\n",
      "        7.9901e+09, 2.6202e+10, 1.9485e+13, 8.8998e+10, 2.8576e+10, 8.3723e+10,\n",
      "        7.1208e+10, 3.1713e+09, 9.5837e+10, 3.4156e+09, 2.8564e+10, 1.0050e+11,\n",
      "        6.4818e+11, 5.2211e+11, 2.2200e+10, 3.3894e+09, 6.4190e+10, 2.8108e+09,\n",
      "        1.9365e+08, 6.3628e+09, 1.9162e+11, 3.3953e+11, 1.6342e+09, 8.7717e+11,\n",
      "        2.5441e+10, 3.2276e+08, 3.9848e+10, 3.9817e+10, 2.2563e+08, 3.9794e+10,\n",
      "        4.1130e+10, 3.6957e+11, 1.9973e+10, 7.4202e+08, 7.1824e+10, 2.9658e+12,\n",
      "        6.4303e+10, 6.7588e+09, 1.2056e+10, 2.3995e+09, 8.0076e+10, 1.7495e+10,\n",
      "        4.8270e+10, 2.8694e+10, 3.1942e+09, 3.4718e+10, 3.6682e+10, 7.2816e+09,\n",
      "        1.6399e+11, 1.9305e+11, 2.0269e+10, 3.0953e+10, 6.9594e+11, 4.6296e+10,\n",
      "        7.0220e+10, 1.9093e+10, 3.7192e+10, 8.8802e+08, 2.1880e+10, 3.9060e+08,\n",
      "        1.4837e+09, 2.1225e+09, 3.2496e+12, 6.3187e+11, 2.8331e+10, 7.5847e+09,\n",
      "        6.0819e+09, 6.4479e+08, 7.8158e+10, 5.4804e+10, 3.7093e+10, 1.2971e+10,\n",
      "        4.0229e+10, 8.5587e+09, 9.5968e+12, 4.4681e+11, 8.8271e+10, 1.7751e+12,\n",
      "        4.3456e+12, 2.9850e+11, 9.4052e+10, 6.8934e+10, 1.2934e+09, 1.5849e+09,\n",
      "        1.2541e+11, 5.3028e+09, 3.0981e+10], device='cuda:0')----------\n",
      "Epoch [11/50]: Train loss: nan, Valid loss: nan\n"
     ]
    },
    {
     "name": "stderr",
     "output_type": "stream",
     "text": [
      "Epoch [12/50]: 100%|█████████████████████████████████████████████████████████████| 1/1 [00:00<00:00, 53.60it/s, loss=nan]"
     ]
    },
    {
     "name": "stdout",
     "output_type": "stream",
     "text": [
      "-------predict: tensor([nan, nan, nan, nan, nan, nan, nan, nan, nan, nan, nan, nan, nan, nan, nan, nan, nan, nan, nan, nan, nan, nan, nan, nan,\n",
      "        nan, nan, nan, nan, nan, nan, nan, nan, nan, nan, nan, nan, nan, nan, nan, nan, nan, nan, nan, nan, nan, nan, nan, nan,\n",
      "        nan, nan, nan, nan, nan, nan, nan, nan, nan, nan, nan, nan, nan, nan, nan, nan, nan, nan, nan, nan, nan, nan, nan, nan,\n",
      "        nan, nan, nan, nan, nan, nan, nan, nan, nan, nan, nan, nan, nan, nan, nan, nan, nan, nan, nan, nan, nan, nan, nan, nan,\n",
      "        nan, nan, nan, nan, nan, nan, nan, nan, nan, nan, nan, nan, nan, nan, nan, nan, nan, nan, nan, nan, nan, nan, nan, nan,\n",
      "        nan, nan, nan, nan, nan, nan, nan, nan, nan, nan, nan, nan, nan, nan, nan, nan, nan, nan, nan, nan, nan],\n",
      "       device='cuda:0', grad_fn=<SqueezeBackward1>), y: tensor([4.8270e+10, 6.4303e+10, 1.0913e+12, 2.2200e+10, 7.8158e+10, 2.8108e+09,\n",
      "        1.1565e+10, 6.0819e+09, 5.4389e+11, 2.5013e+09, 2.3427e+09, 2.9823e+11,\n",
      "        3.7093e+10, 3.3953e+11, 3.9060e+08, 1.2998e+11, 6.7588e+09, 3.6401e+10,\n",
      "        1.9093e+10, 6.4818e+11, 3.7192e+10, 3.2814e+11, 6.9594e+11, 1.2541e+11,\n",
      "        1.9830e+11, 2.8331e+10, 7.4202e+08, 3.7770e+09, 3.2950e+11, 3.0953e+10,\n",
      "        8.8998e+10, 1.7296e+11, 3.2496e+12, 8.3723e+10, 2.0269e+10, 5.2814e+11,\n",
      "        4.1572e+09, 4.6296e+10, 7.1824e+10, 1.9485e+13, 2.0730e+10, 7.2816e+09,\n",
      "        1.4837e+09, 3.4156e+09, 2.5441e+10, 3.2276e+08, 5.3028e+09, 4.7784e+11,\n",
      "        4.1130e+10, 8.7717e+11, 6.5482e+09, 6.8934e+10, 3.1852e+10, 2.8576e+10,\n",
      "        3.9817e+10, 8.3936e+10, 1.8189e+12, 1.0382e+11, 5.3334e+12, 8.0076e+10,\n",
      "        1.7195e+11, 6.4479e+08, 1.7751e+12, 2.8188e+11, 3.6682e+10, 9.5837e+10,\n",
      "        1.9162e+11, 2.8564e+10, 3.9848e+10, 1.6363e+11, 1.9973e+10, 3.1713e+09,\n",
      "        1.6342e+09, 2.5433e+08, 4.5969e+10, 1.9305e+11, 1.0846e+11, 2.2563e+08,\n",
      "        1.5849e+09, 2.3995e+09, 2.9658e+12, 7.1208e+10, 1.2980e+11, 9.3700e+09,\n",
      "        6.3628e+09, 2.8694e+10, 6.4190e+10, 2.4948e+10, 8.8271e+10, 2.9850e+11,\n",
      "        2.6202e+10, 1.4823e+11, 1.9365e+08, 1.7495e+10, 8.8802e+08, 8.5587e+09,\n",
      "        2.1225e+09, 9.5968e+12, 5.1170e+10, 9.4052e+10, 4.5585e+11, 1.3765e+11,\n",
      "        5.2211e+11, 5.6191e+11, 3.1942e+09, 3.6957e+11, 4.3326e+10, 8.6701e+09,\n",
      "        3.9014e+10, 4.0229e+10, 3.0981e+10, 3.9794e+10, 1.9698e+10, 1.2056e+10,\n",
      "        1.9976e+11, 2.2281e+11, 6.3187e+11, 4.3456e+12, 1.0050e+11, 1.1324e+12,\n",
      "        7.9901e+09, 1.1839e+10, 4.4681e+11, 2.2391e+09, 7.9194e+10, 2.2435e+10,\n",
      "        1.2934e+09, 7.5847e+09, 3.4718e+10, 7.0220e+10, 2.1880e+10, 3.5691e+09,\n",
      "        1.9918e+11, 5.4804e+10, 3.3894e+09, 3.3869e+10, 1.2971e+10, 1.3045e+09,\n",
      "        1.6399e+11, 1.5391e+13, 3.5818e+10], device='cuda:0')----------\n"
     ]
    },
    {
     "name": "stderr",
     "output_type": "stream",
     "text": [
      "\n"
     ]
    },
    {
     "name": "stdout",
     "output_type": "stream",
     "text": [
      "Epoch [12/50]: Train loss: nan, Valid loss: nan\n"
     ]
    },
    {
     "name": "stderr",
     "output_type": "stream",
     "text": [
      "Epoch [13/50]: 100%|█████████████████████████████████████████████████████████████| 1/1 [00:00<00:00, 54.68it/s, loss=nan]\n"
     ]
    },
    {
     "name": "stdout",
     "output_type": "stream",
     "text": [
      "-------predict: tensor([nan, nan, nan, nan, nan, nan, nan, nan, nan, nan, nan, nan, nan, nan, nan, nan, nan, nan, nan, nan, nan, nan, nan, nan,\n",
      "        nan, nan, nan, nan, nan, nan, nan, nan, nan, nan, nan, nan, nan, nan, nan, nan, nan, nan, nan, nan, nan, nan, nan, nan,\n",
      "        nan, nan, nan, nan, nan, nan, nan, nan, nan, nan, nan, nan, nan, nan, nan, nan, nan, nan, nan, nan, nan, nan, nan, nan,\n",
      "        nan, nan, nan, nan, nan, nan, nan, nan, nan, nan, nan, nan, nan, nan, nan, nan, nan, nan, nan, nan, nan, nan, nan, nan,\n",
      "        nan, nan, nan, nan, nan, nan, nan, nan, nan, nan, nan, nan, nan, nan, nan, nan, nan, nan, nan, nan, nan, nan, nan, nan,\n",
      "        nan, nan, nan, nan, nan, nan, nan, nan, nan, nan, nan, nan, nan, nan, nan, nan, nan, nan, nan, nan, nan],\n",
      "       device='cuda:0', grad_fn=<SqueezeBackward1>), y: tensor([1.9918e+11, 1.2980e+11, 4.3326e+10, 6.4479e+08, 2.8694e+10, 2.5013e+09,\n",
      "        1.4837e+09, 3.3894e+09, 2.2435e+10, 7.9901e+09, 2.5433e+08, 3.5818e+10,\n",
      "        1.6399e+11, 6.0819e+09, 4.0229e+10, 3.2276e+08, 8.3936e+10, 9.3700e+09,\n",
      "        3.4718e+10, 2.9658e+12, 6.7588e+09, 2.9850e+11, 3.2950e+11, 2.8331e+10,\n",
      "        2.6202e+10, 1.3765e+11, 5.6191e+11, 3.0953e+10, 5.4804e+10, 1.9976e+11,\n",
      "        3.3953e+11, 4.1572e+09, 8.7717e+11, 7.1824e+10, 1.4823e+11, 1.2934e+09,\n",
      "        4.4681e+11, 2.3995e+09, 2.2200e+10, 4.5585e+11, 1.9093e+10, 3.0981e+10,\n",
      "        5.2814e+11, 3.6957e+11, 4.3456e+12, 6.9594e+11, 2.0269e+10, 4.8270e+10,\n",
      "        8.8271e+10, 2.5441e+10, 3.6682e+10, 3.2496e+12, 6.4190e+10, 3.9848e+10,\n",
      "        3.9014e+10, 1.9830e+11, 6.8934e+10, 2.2281e+11, 2.2391e+09, 4.5969e+10,\n",
      "        4.1130e+10, 3.4156e+09, 1.9162e+11, 1.5391e+13, 1.9485e+13, 3.9794e+10,\n",
      "        2.8188e+11, 1.6363e+11, 1.1839e+10, 7.8158e+10, 5.2211e+11, 2.8576e+10,\n",
      "        1.6342e+09, 2.1880e+10, 2.1225e+09, 1.7296e+11, 2.8564e+10, 8.6701e+09,\n",
      "        5.1170e+10, 1.9365e+08, 1.2971e+10, 1.9305e+11, 2.0730e+10, 1.0050e+11,\n",
      "        7.2816e+09, 2.3427e+09, 1.7751e+12, 3.2814e+11, 8.3723e+10, 8.0076e+10,\n",
      "        1.2541e+11, 1.0846e+11, 3.9060e+08, 7.5847e+09, 9.4052e+10, 3.7192e+10,\n",
      "        1.5849e+09, 6.3628e+09, 3.1713e+09, 3.7093e+10, 4.7784e+11, 7.0220e+10,\n",
      "        1.8189e+12, 1.2056e+10, 3.1852e+10, 4.6296e+10, 1.0382e+11, 7.4202e+08,\n",
      "        1.7495e+10, 6.4818e+11, 1.0913e+12, 2.8108e+09, 1.3045e+09, 3.5691e+09,\n",
      "        8.8802e+08, 9.5968e+12, 9.5837e+10, 1.2998e+11, 1.9698e+10, 2.2563e+08,\n",
      "        6.4303e+10, 1.1324e+12, 3.7770e+09, 2.4948e+10, 8.5587e+09, 7.1208e+10,\n",
      "        5.4389e+11, 8.8998e+10, 3.3869e+10, 1.1565e+10, 3.1942e+09, 5.3334e+12,\n",
      "        1.9973e+10, 6.5482e+09, 5.3028e+09, 2.9823e+11, 3.9817e+10, 1.7195e+11,\n",
      "        6.3187e+11, 7.9194e+10, 3.6401e+10], device='cuda:0')----------\n",
      "Epoch [13/50]: Train loss: nan, Valid loss: nan\n"
     ]
    },
    {
     "name": "stderr",
     "output_type": "stream",
     "text": [
      "Epoch [14/50]: 100%|█████████████████████████████████████████████████████████████| 1/1 [00:00<00:00, 39.41it/s, loss=nan]\n"
     ]
    },
    {
     "name": "stdout",
     "output_type": "stream",
     "text": [
      "-------predict: tensor([nan, nan, nan, nan, nan, nan, nan, nan, nan, nan, nan, nan, nan, nan, nan, nan, nan, nan, nan, nan, nan, nan, nan, nan,\n",
      "        nan, nan, nan, nan, nan, nan, nan, nan, nan, nan, nan, nan, nan, nan, nan, nan, nan, nan, nan, nan, nan, nan, nan, nan,\n",
      "        nan, nan, nan, nan, nan, nan, nan, nan, nan, nan, nan, nan, nan, nan, nan, nan, nan, nan, nan, nan, nan, nan, nan, nan,\n",
      "        nan, nan, nan, nan, nan, nan, nan, nan, nan, nan, nan, nan, nan, nan, nan, nan, nan, nan, nan, nan, nan, nan, nan, nan,\n",
      "        nan, nan, nan, nan, nan, nan, nan, nan, nan, nan, nan, nan, nan, nan, nan, nan, nan, nan, nan, nan, nan, nan, nan, nan,\n",
      "        nan, nan, nan, nan, nan, nan, nan, nan, nan, nan, nan, nan, nan, nan, nan, nan, nan, nan, nan, nan, nan],\n",
      "       device='cuda:0', grad_fn=<SqueezeBackward1>), y: tensor([3.1713e+09, 3.3894e+09, 7.9194e+10, 2.0730e+10, 2.8188e+11, 4.3456e+12,\n",
      "        1.6342e+09, 2.2435e+10, 1.9918e+11, 5.6191e+11, 3.1942e+09, 1.7296e+11,\n",
      "        6.0819e+09, 8.3936e+10, 2.8108e+09, 2.2281e+11, 1.9365e+08, 2.9823e+11,\n",
      "        2.9658e+12, 7.9901e+09, 1.7495e+10, 1.9093e+10, 2.8331e+10, 3.0953e+10,\n",
      "        1.9698e+10, 1.1565e+10, 1.4837e+09, 4.1572e+09, 9.4052e+10, 3.2950e+11,\n",
      "        3.2276e+08, 6.9594e+11, 6.3187e+11, 1.7751e+12, 1.2056e+10, 8.8271e+10,\n",
      "        1.0050e+11, 2.0269e+10, 2.8694e+10, 2.1880e+10, 3.4156e+09, 7.2816e+09,\n",
      "        6.4479e+08, 4.3326e+10, 5.1170e+10, 1.9305e+11, 5.4389e+11, 2.4948e+10,\n",
      "        8.7717e+11, 1.6399e+11, 5.3028e+09, 8.5587e+09, 2.5013e+09, 7.5847e+09,\n",
      "        2.8564e+10, 2.8576e+10, 3.0981e+10, 3.9794e+10, 1.5849e+09, 5.3334e+12,\n",
      "        3.6957e+11, 1.2541e+11, 3.3953e+11, 4.6296e+10, 1.0913e+12, 1.7195e+11,\n",
      "        3.7192e+10, 6.5482e+09, 1.0846e+11, 7.4202e+08, 3.5691e+09, 1.8189e+12,\n",
      "        3.7770e+09, 1.5391e+13, 2.5433e+08, 3.6401e+10, 2.2391e+09, 6.7588e+09,\n",
      "        5.2814e+11, 2.2563e+08, 3.2496e+12, 4.8270e+10, 9.5968e+12, 6.4190e+10,\n",
      "        7.1208e+10, 3.3869e+10, 3.9817e+10, 7.0220e+10, 2.1225e+09, 2.3427e+09,\n",
      "        8.3723e+10, 3.6682e+10, 5.2211e+11, 4.4681e+11, 1.1324e+12, 3.9848e+10,\n",
      "        3.2814e+11, 4.5969e+10, 4.5585e+11, 3.9060e+08, 2.9850e+11, 1.4823e+11,\n",
      "        6.4303e+10, 1.3045e+09, 4.7784e+11, 2.2200e+10, 1.9162e+11, 8.0076e+10,\n",
      "        2.6202e+10, 7.1824e+10, 1.3765e+11, 5.4804e+10, 1.6363e+11, 3.5818e+10,\n",
      "        3.9014e+10, 4.0229e+10, 1.9973e+10, 6.3628e+09, 1.9485e+13, 1.2934e+09,\n",
      "        6.4818e+11, 2.5441e+10, 1.2998e+11, 1.2980e+11, 8.8802e+08, 9.3700e+09,\n",
      "        4.1130e+10, 7.8158e+10, 1.9976e+11, 1.1839e+10, 9.5837e+10, 1.9830e+11,\n",
      "        3.4718e+10, 8.6701e+09, 3.1852e+10, 2.3995e+09, 3.7093e+10, 1.0382e+11,\n",
      "        8.8998e+10, 1.2971e+10, 6.8934e+10], device='cuda:0')----------\n",
      "Epoch [14/50]: Train loss: nan, Valid loss: nan\n"
     ]
    },
    {
     "name": "stderr",
     "output_type": "stream",
     "text": [
      "Epoch [15/50]:   0%|                                                                     | 0/1 [00:00<?, ?it/s, loss=nan]"
     ]
    },
    {
     "name": "stdout",
     "output_type": "stream",
     "text": [
      "-------predict: tensor([nan, nan, nan, nan, nan, nan, nan, nan, nan, nan, nan, nan, nan, nan, nan, nan, nan, nan, nan, nan, nan, nan, nan, nan,\n",
      "        nan, nan, nan, nan, nan, nan, nan, nan, nan, nan, nan, nan, nan, nan, nan, nan, nan, nan, nan, nan, nan, nan, nan, nan,\n",
      "        nan, nan, nan, nan, nan, nan, nan, nan, nan, nan, nan, nan, nan, nan, nan, nan, nan, nan, nan, nan, nan, nan, nan, nan,\n",
      "        nan, nan, nan, nan, nan, nan, nan, nan, nan, nan, nan, nan, nan, nan, nan, nan, nan, nan, nan, nan, nan, nan, nan, nan,\n",
      "        nan, nan, nan, nan, nan, nan, nan, nan, nan, nan, nan, nan, nan, nan, nan, nan, nan, nan, nan, nan, nan, nan, nan, nan,\n",
      "        nan, nan, nan, nan, nan, nan, nan, nan, nan, nan, nan, nan, nan, nan, nan, nan, nan, nan, nan, nan, nan],\n",
      "       device='cuda:0', grad_fn=<SqueezeBackward1>), y: tensor([3.1852e+10, 2.2563e+08, 1.2056e+10, 3.3953e+11, 3.2814e+11, 7.1824e+10,\n",
      "        1.9365e+08, 5.6191e+11, 3.7192e+10, 8.8802e+08, 8.8998e+10, 3.6401e+10,\n",
      "        5.4389e+11, 1.7495e+10, 4.8270e+10, 3.6682e+10, 1.0050e+11, 2.8188e+11,\n",
      "        6.3187e+11, 3.1942e+09, 4.1572e+09, 6.5482e+09, 6.9594e+11, 8.6701e+09,\n",
      "        7.9901e+09, 1.7751e+12, 1.7195e+11, 1.7296e+11, 2.9823e+11, 1.9162e+11,\n",
      "        1.9485e+13, 4.7784e+11, 3.4156e+09, 2.0269e+10, 1.3045e+09, 5.2814e+11,\n",
      "        3.0981e+10, 8.5587e+09, 9.5968e+12, 2.8331e+10, 1.6399e+11, 5.3334e+12,\n",
      "        2.2200e+10, 8.3723e+10, 1.2971e+10, 2.2281e+11, 1.6363e+11, 3.3869e+10,\n",
      "        2.8564e+10, 3.2950e+11, 5.3028e+09, 6.4479e+08, 3.9817e+10, 2.2391e+09,\n",
      "        1.9698e+10, 9.4052e+10, 6.4818e+11, 3.7770e+09, 1.4823e+11, 5.1170e+10,\n",
      "        2.5433e+08, 3.2496e+12, 6.7588e+09, 2.9658e+12, 1.1324e+12, 1.0382e+11,\n",
      "        6.8934e+10, 4.1130e+10, 3.9848e+10, 1.9830e+11, 7.8158e+10, 4.0229e+10,\n",
      "        2.8694e+10, 5.4804e+10, 1.9093e+10, 4.4681e+11, 1.0846e+11, 3.3894e+09,\n",
      "        3.5818e+10, 8.0076e+10, 1.9976e+11, 3.9794e+10, 8.8271e+10, 1.1839e+10,\n",
      "        2.0730e+10, 1.9973e+10, 1.8189e+12, 3.9014e+10, 2.8108e+09, 7.4202e+08,\n",
      "        1.2541e+11, 1.1565e+10, 3.7093e+10, 7.0220e+10, 7.1208e+10, 2.2435e+10,\n",
      "        3.1713e+09, 9.5837e+10, 6.3628e+09, 4.3456e+12, 1.9918e+11, 6.4303e+10,\n",
      "        1.2980e+11, 1.4837e+09, 2.1225e+09, 2.3427e+09, 4.3326e+10, 6.4190e+10,\n",
      "        2.3995e+09, 4.6296e+10, 2.9850e+11, 5.2211e+11, 1.0913e+12, 2.1880e+10,\n",
      "        1.6342e+09, 3.9060e+08, 7.2816e+09, 9.3700e+09, 7.5847e+09, 1.3765e+11,\n",
      "        2.6202e+10, 2.4948e+10, 7.9194e+10, 1.5391e+13, 1.2998e+11, 2.5013e+09,\n",
      "        3.2276e+08, 8.7717e+11, 1.2934e+09, 3.5691e+09, 2.5441e+10, 3.0953e+10,\n",
      "        3.4718e+10, 3.6957e+11, 1.9305e+11, 6.0819e+09, 4.5585e+11, 2.8576e+10,\n",
      "        4.5969e+10, 1.5849e+09, 8.3936e+10], device='cuda:0')----------\n"
     ]
    },
    {
     "name": "stderr",
     "output_type": "stream",
     "text": [
      "Epoch [15/50]: 100%|█████████████████████████████████████████████████████████████| 1/1 [00:00<00:00, 38.98it/s, loss=nan]\n"
     ]
    },
    {
     "name": "stdout",
     "output_type": "stream",
     "text": [
      "Epoch [15/50]: Train loss: nan, Valid loss: nan\n"
     ]
    },
    {
     "name": "stderr",
     "output_type": "stream",
     "text": [
      "Epoch [16/50]: 100%|█████████████████████████████████████████████████████████████| 1/1 [00:00<00:00, 39.95it/s, loss=nan]\n"
     ]
    },
    {
     "name": "stdout",
     "output_type": "stream",
     "text": [
      "-------predict: tensor([nan, nan, nan, nan, nan, nan, nan, nan, nan, nan, nan, nan, nan, nan, nan, nan, nan, nan, nan, nan, nan, nan, nan, nan,\n",
      "        nan, nan, nan, nan, nan, nan, nan, nan, nan, nan, nan, nan, nan, nan, nan, nan, nan, nan, nan, nan, nan, nan, nan, nan,\n",
      "        nan, nan, nan, nan, nan, nan, nan, nan, nan, nan, nan, nan, nan, nan, nan, nan, nan, nan, nan, nan, nan, nan, nan, nan,\n",
      "        nan, nan, nan, nan, nan, nan, nan, nan, nan, nan, nan, nan, nan, nan, nan, nan, nan, nan, nan, nan, nan, nan, nan, nan,\n",
      "        nan, nan, nan, nan, nan, nan, nan, nan, nan, nan, nan, nan, nan, nan, nan, nan, nan, nan, nan, nan, nan, nan, nan, nan,\n",
      "        nan, nan, nan, nan, nan, nan, nan, nan, nan, nan, nan, nan, nan, nan, nan, nan, nan, nan, nan, nan, nan],\n",
      "       device='cuda:0', grad_fn=<SqueezeBackward1>), y: tensor([3.2950e+11, 4.0229e+10, 1.4837e+09, 2.2435e+10, 1.0050e+11, 1.2980e+11,\n",
      "        6.4479e+08, 7.0220e+10, 2.8564e+10, 1.9365e+08, 1.9918e+11, 7.9901e+09,\n",
      "        4.8270e+10, 6.8934e+10, 1.0846e+11, 3.7770e+09, 1.6363e+11, 7.1824e+10,\n",
      "        3.9817e+10, 4.1130e+10, 3.4156e+09, 5.3334e+12, 2.2200e+10, 1.2998e+11,\n",
      "        7.9194e+10, 2.2281e+11, 1.2971e+10, 1.9698e+10, 3.6682e+10, 2.0730e+10,\n",
      "        5.4804e+10, 8.5587e+09, 2.9823e+11, 1.6342e+09, 2.9850e+11, 1.8189e+12,\n",
      "        3.1942e+09, 5.2814e+11, 1.9973e+10, 3.3869e+10, 1.0382e+11, 4.4681e+11,\n",
      "        3.9014e+10, 2.8576e+10, 1.5391e+13, 4.5585e+11, 4.7784e+11, 3.2496e+12,\n",
      "        8.8271e+10, 5.2211e+11, 1.2056e+10, 3.5691e+09, 2.3995e+09, 2.9658e+12,\n",
      "        4.3326e+10, 1.2541e+11, 3.1713e+09, 2.5433e+08, 7.1208e+10, 1.9305e+11,\n",
      "        6.5482e+09, 1.3045e+09, 9.5837e+10, 1.9485e+13, 6.4190e+10, 1.1839e+10,\n",
      "        6.7588e+09, 4.5969e+10, 1.7751e+12, 2.5441e+10, 7.5847e+09, 1.2934e+09,\n",
      "        3.2276e+08, 1.9830e+11, 1.7296e+11, 3.7192e+10, 5.1170e+10, 3.0981e+10,\n",
      "        2.8694e+10, 2.8188e+11, 2.2563e+08, 3.6401e+10, 4.1572e+09, 1.1324e+12,\n",
      "        3.7093e+10, 2.8108e+09, 2.6202e+10, 6.4818e+11, 2.4948e+10, 4.3456e+12,\n",
      "        6.3628e+09, 3.9060e+08, 1.9162e+11, 8.8802e+08, 3.4718e+10, 8.0076e+10,\n",
      "        2.8331e+10, 6.4303e+10, 2.2391e+09, 8.7717e+11, 1.6399e+11, 3.3953e+11,\n",
      "        3.6957e+11, 9.3700e+09, 2.1225e+09, 7.4202e+08, 5.6191e+11, 2.3427e+09,\n",
      "        3.2814e+11, 1.7495e+10, 8.3723e+10, 1.1565e+10, 5.3028e+09, 6.9594e+11,\n",
      "        3.0953e+10, 1.4823e+11, 3.5818e+10, 2.1880e+10, 6.3187e+11, 1.0913e+12,\n",
      "        6.0819e+09, 3.1852e+10, 8.3936e+10, 2.5013e+09, 1.9976e+11, 2.0269e+10,\n",
      "        5.4389e+11, 7.8158e+10, 4.6296e+10, 1.3765e+11, 9.5968e+12, 1.9093e+10,\n",
      "        1.7195e+11, 3.9848e+10, 3.3894e+09, 9.4052e+10, 7.2816e+09, 8.8998e+10,\n",
      "        1.5849e+09, 3.9794e+10, 8.6701e+09], device='cuda:0')----------\n",
      "Epoch [16/50]: Train loss: nan, Valid loss: nan\n"
     ]
    },
    {
     "name": "stderr",
     "output_type": "stream",
     "text": [
      "Epoch [17/50]: 100%|█████████████████████████████████████████████████████████████| 1/1 [00:00<00:00, 43.98it/s, loss=nan]\n"
     ]
    },
    {
     "name": "stdout",
     "output_type": "stream",
     "text": [
      "-------predict: tensor([nan, nan, nan, nan, nan, nan, nan, nan, nan, nan, nan, nan, nan, nan, nan, nan, nan, nan, nan, nan, nan, nan, nan, nan,\n",
      "        nan, nan, nan, nan, nan, nan, nan, nan, nan, nan, nan, nan, nan, nan, nan, nan, nan, nan, nan, nan, nan, nan, nan, nan,\n",
      "        nan, nan, nan, nan, nan, nan, nan, nan, nan, nan, nan, nan, nan, nan, nan, nan, nan, nan, nan, nan, nan, nan, nan, nan,\n",
      "        nan, nan, nan, nan, nan, nan, nan, nan, nan, nan, nan, nan, nan, nan, nan, nan, nan, nan, nan, nan, nan, nan, nan, nan,\n",
      "        nan, nan, nan, nan, nan, nan, nan, nan, nan, nan, nan, nan, nan, nan, nan, nan, nan, nan, nan, nan, nan, nan, nan, nan,\n",
      "        nan, nan, nan, nan, nan, nan, nan, nan, nan, nan, nan, nan, nan, nan, nan, nan, nan, nan, nan, nan, nan],\n",
      "       device='cuda:0', grad_fn=<SqueezeBackward1>), y: tensor([3.0981e+10, 2.3427e+09, 1.7495e+10, 7.9194e+10, 1.6342e+09, 4.6296e+10,\n",
      "        4.1572e+09, 2.2200e+10, 9.3700e+09, 2.2435e+10, 2.8564e+10, 6.4303e+10,\n",
      "        3.2496e+12, 3.7770e+09, 3.0953e+10, 3.3953e+11, 1.9365e+08, 2.0730e+10,\n",
      "        6.3187e+11, 6.3628e+09, 4.4681e+11, 6.7588e+09, 3.4156e+09, 1.2934e+09,\n",
      "        2.2563e+08, 1.0382e+11, 2.9658e+12, 6.8934e+10, 7.9901e+09, 2.1880e+10,\n",
      "        1.7751e+12, 4.1130e+10, 6.4190e+10, 1.9976e+11, 1.0050e+11, 2.0269e+10,\n",
      "        2.1225e+09, 1.1324e+12, 6.0819e+09, 2.3995e+09, 3.7192e+10, 3.7093e+10,\n",
      "        5.4389e+11, 7.1208e+10, 4.0229e+10, 3.6401e+10, 3.1942e+09, 8.6701e+09,\n",
      "        7.5847e+09, 7.8158e+10, 3.6957e+11, 1.9973e+10, 2.5441e+10, 1.4837e+09,\n",
      "        5.2211e+11, 1.2541e+11, 9.4052e+10, 4.5969e+10, 2.5013e+09, 1.9830e+11,\n",
      "        2.8576e+10, 2.6202e+10, 1.8189e+12, 3.1852e+10, 8.3723e+10, 3.9014e+10,\n",
      "        3.2276e+08, 1.6399e+11, 2.8331e+10, 6.5482e+09, 4.8270e+10, 2.9850e+11,\n",
      "        1.9093e+10, 3.9060e+08, 9.5968e+12, 1.5849e+09, 2.9823e+11, 7.2816e+09,\n",
      "        2.8108e+09, 3.2814e+11, 7.1824e+10, 3.5691e+09, 8.3936e+10, 8.8998e+10,\n",
      "        3.3869e+10, 2.2281e+11, 1.5391e+13, 1.2056e+10, 1.2998e+11, 1.9305e+11,\n",
      "        1.9485e+13, 3.6682e+10, 2.8188e+11, 1.2971e+10, 5.6191e+11, 2.2391e+09,\n",
      "        1.4823e+11, 5.3334e+12, 1.9918e+11, 8.8271e+10, 5.3028e+09, 8.5587e+09,\n",
      "        2.4948e+10, 1.1565e+10, 2.5433e+08, 5.4804e+10, 1.9698e+10, 8.0076e+10,\n",
      "        1.9162e+11, 3.9817e+10, 3.2950e+11, 5.1170e+10, 1.6363e+11, 7.0220e+10,\n",
      "        7.4202e+08, 4.7784e+11, 1.7296e+11, 6.4479e+08, 3.9848e+10, 3.1713e+09,\n",
      "        1.3765e+11, 1.2980e+11, 4.3456e+12, 8.8802e+08, 9.5837e+10, 3.4718e+10,\n",
      "        1.1839e+10, 3.5818e+10, 6.9594e+11, 3.3894e+09, 2.8694e+10, 8.7717e+11,\n",
      "        4.3326e+10, 5.2814e+11, 6.4818e+11, 1.3045e+09, 1.0913e+12, 4.5585e+11,\n",
      "        1.0846e+11, 1.7195e+11, 3.9794e+10], device='cuda:0')----------\n",
      "Epoch [17/50]: Train loss: nan, Valid loss: nan\n"
     ]
    },
    {
     "name": "stderr",
     "output_type": "stream",
     "text": [
      "Epoch [18/50]: 100%|█████████████████████████████████████████████████████████████| 1/1 [00:00<00:00, 46.09it/s, loss=nan]\n"
     ]
    },
    {
     "name": "stdout",
     "output_type": "stream",
     "text": [
      "-------predict: tensor([nan, nan, nan, nan, nan, nan, nan, nan, nan, nan, nan, nan, nan, nan, nan, nan, nan, nan, nan, nan, nan, nan, nan, nan,\n",
      "        nan, nan, nan, nan, nan, nan, nan, nan, nan, nan, nan, nan, nan, nan, nan, nan, nan, nan, nan, nan, nan, nan, nan, nan,\n",
      "        nan, nan, nan, nan, nan, nan, nan, nan, nan, nan, nan, nan, nan, nan, nan, nan, nan, nan, nan, nan, nan, nan, nan, nan,\n",
      "        nan, nan, nan, nan, nan, nan, nan, nan, nan, nan, nan, nan, nan, nan, nan, nan, nan, nan, nan, nan, nan, nan, nan, nan,\n",
      "        nan, nan, nan, nan, nan, nan, nan, nan, nan, nan, nan, nan, nan, nan, nan, nan, nan, nan, nan, nan, nan, nan, nan, nan,\n",
      "        nan, nan, nan, nan, nan, nan, nan, nan, nan, nan, nan, nan, nan, nan, nan, nan, nan, nan, nan, nan, nan],\n",
      "       device='cuda:0', grad_fn=<SqueezeBackward1>), y: tensor([2.2563e+08, 1.9830e+11, 9.5968e+12, 5.2814e+11, 6.8934e+10, 5.4389e+11,\n",
      "        2.3427e+09, 8.8271e+10, 2.2281e+11, 8.8998e+10, 6.4479e+08, 1.0382e+11,\n",
      "        9.5837e+10, 4.8270e+10, 3.3869e+10, 1.2971e+10, 6.3628e+09, 3.4718e+10,\n",
      "        1.2998e+11, 1.9162e+11, 3.2496e+12, 6.4818e+11, 1.1565e+10, 1.9918e+11,\n",
      "        5.4804e+10, 5.6191e+11, 3.0953e+10, 1.7495e+10, 3.9060e+08, 4.3326e+10,\n",
      "        2.8188e+11, 2.3995e+09, 2.9850e+11, 3.6957e+11, 1.7296e+11, 1.9976e+11,\n",
      "        9.4052e+10, 4.1130e+10, 1.1839e+10, 4.6296e+10, 2.8564e+10, 7.9901e+09,\n",
      "        2.8694e+10, 7.1208e+10, 1.7195e+11, 1.0846e+11, 3.9014e+10, 8.6701e+09,\n",
      "        7.4202e+08, 5.1170e+10, 2.9823e+11, 2.0269e+10, 2.2200e+10, 6.3187e+11,\n",
      "        1.8189e+12, 1.5849e+09, 1.0050e+11, 8.7717e+11, 7.0220e+10, 2.8331e+10,\n",
      "        2.6202e+10, 1.2934e+09, 3.4156e+09, 1.9365e+08, 7.9194e+10, 3.1852e+10,\n",
      "        1.4837e+09, 3.1713e+09, 3.2276e+08, 3.6682e+10, 4.5969e+10, 2.8108e+09,\n",
      "        1.9485e+13, 3.2950e+11, 1.3045e+09, 8.8802e+08, 5.3334e+12, 6.4190e+10,\n",
      "        1.6342e+09, 1.9093e+10, 2.8576e+10, 1.4823e+11, 5.2211e+11, 4.1572e+09,\n",
      "        1.9698e+10, 2.9658e+12, 3.1942e+09, 3.7192e+10, 1.0913e+12, 1.5391e+13,\n",
      "        8.3723e+10, 4.5585e+11, 1.9973e+10, 1.2980e+11, 8.3936e+10, 4.4681e+11,\n",
      "        1.9305e+11, 3.7093e+10, 1.2541e+11, 4.3456e+12, 1.6363e+11, 7.5847e+09,\n",
      "        4.7784e+11, 1.1324e+12, 7.2816e+09, 2.5013e+09, 3.0981e+10, 3.6401e+10,\n",
      "        6.9594e+11, 1.6399e+11, 3.7770e+09, 3.5691e+09, 3.2814e+11, 2.1225e+09,\n",
      "        2.2391e+09, 3.9848e+10, 5.3028e+09, 6.7588e+09, 2.0730e+10, 9.3700e+09,\n",
      "        8.5587e+09, 4.0229e+10, 7.8158e+10, 2.1880e+10, 6.0819e+09, 2.4948e+10,\n",
      "        2.2435e+10, 8.0076e+10, 3.3894e+09, 6.5482e+09, 6.4303e+10, 3.9817e+10,\n",
      "        1.2056e+10, 2.5441e+10, 3.9794e+10, 3.5818e+10, 3.3953e+11, 2.5433e+08,\n",
      "        7.1824e+10, 1.3765e+11, 1.7751e+12], device='cuda:0')----------\n",
      "Epoch [18/50]: Train loss: nan, Valid loss: nan\n"
     ]
    },
    {
     "name": "stderr",
     "output_type": "stream",
     "text": [
      "Epoch [19/50]: 100%|█████████████████████████████████████████████████████████████| 1/1 [00:00<00:00, 48.09it/s, loss=nan]\n"
     ]
    },
    {
     "name": "stdout",
     "output_type": "stream",
     "text": [
      "-------predict: tensor([nan, nan, nan, nan, nan, nan, nan, nan, nan, nan, nan, nan, nan, nan, nan, nan, nan, nan, nan, nan, nan, nan, nan, nan,\n",
      "        nan, nan, nan, nan, nan, nan, nan, nan, nan, nan, nan, nan, nan, nan, nan, nan, nan, nan, nan, nan, nan, nan, nan, nan,\n",
      "        nan, nan, nan, nan, nan, nan, nan, nan, nan, nan, nan, nan, nan, nan, nan, nan, nan, nan, nan, nan, nan, nan, nan, nan,\n",
      "        nan, nan, nan, nan, nan, nan, nan, nan, nan, nan, nan, nan, nan, nan, nan, nan, nan, nan, nan, nan, nan, nan, nan, nan,\n",
      "        nan, nan, nan, nan, nan, nan, nan, nan, nan, nan, nan, nan, nan, nan, nan, nan, nan, nan, nan, nan, nan, nan, nan, nan,\n",
      "        nan, nan, nan, nan, nan, nan, nan, nan, nan, nan, nan, nan, nan, nan, nan, nan, nan, nan, nan, nan, nan],\n",
      "       device='cuda:0', grad_fn=<SqueezeBackward1>), y: tensor([9.3700e+09, 5.6191e+11, 8.8271e+10, 7.5847e+09, 5.3028e+09, 2.0730e+10,\n",
      "        3.2814e+11, 1.9830e+11, 6.4190e+10, 1.6399e+11, 5.2211e+11, 1.9485e+13,\n",
      "        3.3869e+10, 7.2816e+09, 6.8934e+10, 2.8331e+10, 6.4818e+11, 3.0953e+10,\n",
      "        4.6296e+10, 9.4052e+10, 6.3187e+11, 1.1565e+10, 2.6202e+10, 8.3936e+10,\n",
      "        1.2934e+09, 2.9850e+11, 4.7784e+11, 3.1942e+09, 7.9194e+10, 7.1824e+10,\n",
      "        2.2435e+10, 7.8158e+10, 1.9976e+11, 6.9594e+11, 1.0846e+11, 1.6342e+09,\n",
      "        7.0220e+10, 1.4823e+11, 3.5818e+10, 8.8998e+10, 3.6401e+10, 5.2814e+11,\n",
      "        3.9848e+10, 1.2998e+11, 2.1880e+10, 5.4389e+11, 3.2276e+08, 4.1572e+09,\n",
      "        1.2541e+11, 1.7751e+12, 2.2281e+11, 3.6682e+10, 3.3953e+11, 7.1208e+10,\n",
      "        1.7495e+10, 3.5691e+09, 2.3427e+09, 6.4303e+10, 1.9162e+11, 4.0229e+10,\n",
      "        1.9973e+10, 3.7093e+10, 2.2200e+10, 3.0981e+10, 6.0819e+09, 1.9365e+08,\n",
      "        2.5441e+10, 1.2980e+11, 3.6957e+11, 2.2391e+09, 7.9901e+09, 1.8189e+12,\n",
      "        1.3765e+11, 2.9658e+12, 4.5969e+10, 1.3045e+09, 3.9794e+10, 8.3723e+10,\n",
      "        5.4804e+10, 8.8802e+08, 5.1170e+10, 5.3334e+12, 3.7770e+09, 3.9060e+08,\n",
      "        1.1324e+12, 4.5585e+11, 7.4202e+08, 4.8270e+10, 9.5968e+12, 1.5849e+09,\n",
      "        1.1839e+10, 2.5433e+08, 2.8694e+10, 1.0913e+12, 2.4948e+10, 3.4156e+09,\n",
      "        1.6363e+11, 1.9305e+11, 1.4837e+09, 1.9093e+10, 4.4681e+11, 2.8188e+11,\n",
      "        3.9014e+10, 1.2056e+10, 6.4479e+08, 1.0382e+11, 1.5391e+13, 6.5482e+09,\n",
      "        1.9698e+10, 2.8108e+09, 2.5013e+09, 1.7296e+11, 9.5837e+10, 1.0050e+11,\n",
      "        2.2563e+08, 3.1852e+10, 2.8576e+10, 8.5587e+09, 2.9823e+11, 3.1713e+09,\n",
      "        6.3628e+09, 6.7588e+09, 8.6701e+09, 4.1130e+10, 1.7195e+11, 3.2496e+12,\n",
      "        4.3456e+12, 2.3995e+09, 2.1225e+09, 8.7717e+11, 1.2971e+10, 8.0076e+10,\n",
      "        1.9918e+11, 2.0269e+10, 2.8564e+10, 3.7192e+10, 3.4718e+10, 3.2950e+11,\n",
      "        3.3894e+09, 3.9817e+10, 4.3326e+10], device='cuda:0')----------\n",
      "Epoch [19/50]: Train loss: nan, Valid loss: nan\n"
     ]
    },
    {
     "name": "stderr",
     "output_type": "stream",
     "text": [
      "Epoch [20/50]: 100%|█████████████████████████████████████████████████████████████| 1/1 [00:00<00:00, 63.86it/s, loss=nan]\n"
     ]
    },
    {
     "name": "stdout",
     "output_type": "stream",
     "text": [
      "-------predict: tensor([nan, nan, nan, nan, nan, nan, nan, nan, nan, nan, nan, nan, nan, nan, nan, nan, nan, nan, nan, nan, nan, nan, nan, nan,\n",
      "        nan, nan, nan, nan, nan, nan, nan, nan, nan, nan, nan, nan, nan, nan, nan, nan, nan, nan, nan, nan, nan, nan, nan, nan,\n",
      "        nan, nan, nan, nan, nan, nan, nan, nan, nan, nan, nan, nan, nan, nan, nan, nan, nan, nan, nan, nan, nan, nan, nan, nan,\n",
      "        nan, nan, nan, nan, nan, nan, nan, nan, nan, nan, nan, nan, nan, nan, nan, nan, nan, nan, nan, nan, nan, nan, nan, nan,\n",
      "        nan, nan, nan, nan, nan, nan, nan, nan, nan, nan, nan, nan, nan, nan, nan, nan, nan, nan, nan, nan, nan, nan, nan, nan,\n",
      "        nan, nan, nan, nan, nan, nan, nan, nan, nan, nan, nan, nan, nan, nan, nan, nan, nan, nan, nan, nan, nan],\n",
      "       device='cuda:0', grad_fn=<SqueezeBackward1>), y: tensor([3.6401e+10, 8.8998e+10, 3.3869e+10, 3.9014e+10, 1.4823e+11, 3.0953e+10,\n",
      "        4.3326e+10, 1.0846e+11, 3.3953e+11, 2.8694e+10, 5.4389e+11, 2.0730e+10,\n",
      "        1.5391e+13, 3.2814e+11, 1.6363e+11, 5.3028e+09, 2.3427e+09, 3.5818e+10,\n",
      "        3.1852e+10, 1.2541e+11, 2.8108e+09, 1.2934e+09, 2.3995e+09, 3.4156e+09,\n",
      "        1.7495e+10, 7.1208e+10, 6.5482e+09, 8.5587e+09, 9.3700e+09, 8.8802e+08,\n",
      "        2.6202e+10, 1.2980e+11, 7.9901e+09, 4.5969e+10, 4.1572e+09, 3.9817e+10,\n",
      "        1.2056e+10, 4.0229e+10, 3.9794e+10, 1.9305e+11, 2.5433e+08, 6.9594e+11,\n",
      "        9.5968e+12, 4.4681e+11, 3.9848e+10, 9.5837e+10, 1.1324e+12, 2.2435e+10,\n",
      "        2.9823e+11, 6.4303e+10, 3.3894e+09, 1.3045e+09, 1.1565e+10, 4.1130e+10,\n",
      "        6.4190e+10, 7.0220e+10, 1.7195e+11, 2.5441e+10, 5.2814e+11, 3.1713e+09,\n",
      "        2.2391e+09, 3.5691e+09, 3.0981e+10, 2.8331e+10, 3.7192e+10, 1.5849e+09,\n",
      "        3.6682e+10, 6.7588e+09, 5.6191e+11, 4.7784e+11, 1.0050e+11, 4.5585e+11,\n",
      "        1.3765e+11, 3.7093e+10, 8.3936e+10, 2.8188e+11, 1.9973e+10, 1.9162e+11,\n",
      "        3.2276e+08, 3.6957e+11, 2.0269e+10, 7.2816e+09, 1.9698e+10, 1.8189e+12,\n",
      "        8.0076e+10, 2.8564e+10, 1.7296e+11, 2.9850e+11, 6.3187e+11, 7.9194e+10,\n",
      "        3.2496e+12, 6.4479e+08, 1.9093e+10, 2.1880e+10, 5.2211e+11, 3.9060e+08,\n",
      "        7.4202e+08, 3.2950e+11, 3.4718e+10, 1.9918e+11, 1.9485e+13, 6.3628e+09,\n",
      "        1.7751e+12, 7.5847e+09, 1.6399e+11, 7.1824e+10, 5.4804e+10, 1.6342e+09,\n",
      "        8.3723e+10, 2.4948e+10, 8.8271e+10, 1.9830e+11, 6.0819e+09, 5.3334e+12,\n",
      "        6.4818e+11, 1.2998e+11, 5.1170e+10, 3.1942e+09, 1.1839e+10, 6.8934e+10,\n",
      "        1.2971e+10, 2.1225e+09, 9.4052e+10, 4.3456e+12, 4.6296e+10, 2.2563e+08,\n",
      "        2.8576e+10, 2.5013e+09, 7.8158e+10, 1.0382e+11, 1.0913e+12, 2.2281e+11,\n",
      "        2.2200e+10, 8.7717e+11, 3.7770e+09, 4.8270e+10, 8.6701e+09, 1.9365e+08,\n",
      "        2.9658e+12, 1.4837e+09, 1.9976e+11], device='cuda:0')----------\n",
      "Epoch [20/50]: Train loss: nan, Valid loss: nan\n"
     ]
    },
    {
     "name": "stderr",
     "output_type": "stream",
     "text": [
      "Epoch [21/50]: 100%|█████████████████████████████████████████████████████████████| 1/1 [00:00<00:00, 61.77it/s, loss=nan]\n"
     ]
    },
    {
     "name": "stdout",
     "output_type": "stream",
     "text": [
      "-------predict: tensor([nan, nan, nan, nan, nan, nan, nan, nan, nan, nan, nan, nan, nan, nan, nan, nan, nan, nan, nan, nan, nan, nan, nan, nan,\n",
      "        nan, nan, nan, nan, nan, nan, nan, nan, nan, nan, nan, nan, nan, nan, nan, nan, nan, nan, nan, nan, nan, nan, nan, nan,\n",
      "        nan, nan, nan, nan, nan, nan, nan, nan, nan, nan, nan, nan, nan, nan, nan, nan, nan, nan, nan, nan, nan, nan, nan, nan,\n",
      "        nan, nan, nan, nan, nan, nan, nan, nan, nan, nan, nan, nan, nan, nan, nan, nan, nan, nan, nan, nan, nan, nan, nan, nan,\n",
      "        nan, nan, nan, nan, nan, nan, nan, nan, nan, nan, nan, nan, nan, nan, nan, nan, nan, nan, nan, nan, nan, nan, nan, nan,\n",
      "        nan, nan, nan, nan, nan, nan, nan, nan, nan, nan, nan, nan, nan, nan, nan, nan, nan, nan, nan, nan, nan],\n",
      "       device='cuda:0', grad_fn=<SqueezeBackward1>), y: tensor([1.9365e+08, 8.0076e+10, 1.9973e+10, 3.7192e+10, 2.3995e+09, 2.1880e+10,\n",
      "        6.7588e+09, 3.2276e+08, 2.0730e+10, 6.4190e+10, 1.7751e+12, 2.2281e+11,\n",
      "        7.2816e+09, 1.9976e+11, 1.7495e+10, 4.1572e+09, 8.5587e+09, 4.3456e+12,\n",
      "        1.9305e+11, 4.1130e+10, 2.6202e+10, 2.9823e+11, 8.8802e+08, 2.0269e+10,\n",
      "        9.4052e+10, 1.6399e+11, 3.2496e+12, 1.7296e+11, 5.4804e+10, 1.0846e+11,\n",
      "        3.6957e+11, 6.4303e+10, 1.9093e+10, 3.3953e+11, 1.2998e+11, 6.5482e+09,\n",
      "        1.4837e+09, 1.1565e+10, 3.3869e+10, 8.3936e+10, 7.4202e+08, 1.2971e+10,\n",
      "        3.6682e+10, 3.9817e+10, 1.2056e+10, 9.5837e+10, 6.3628e+09, 1.9830e+11,\n",
      "        5.2211e+11, 1.6363e+11, 4.5969e+10, 2.2200e+10, 1.1324e+12, 1.9485e+13,\n",
      "        4.7784e+11, 1.9698e+10, 2.8694e+10, 3.0981e+10, 2.9658e+12, 6.9594e+11,\n",
      "        9.3700e+09, 2.8188e+11, 6.0819e+09, 2.5013e+09, 1.5849e+09, 2.4948e+10,\n",
      "        1.1839e+10, 8.8271e+10, 7.5847e+09, 5.3028e+09, 2.2391e+09, 4.5585e+11,\n",
      "        6.4479e+08, 2.2563e+08, 1.0913e+12, 7.1208e+10, 1.3765e+11, 1.4823e+11,\n",
      "        1.9918e+11, 1.3045e+09, 1.2541e+11, 7.0220e+10, 5.2814e+11, 2.3427e+09,\n",
      "        2.8564e+10, 1.5391e+13, 3.3894e+09, 3.0953e+10, 1.6342e+09, 5.3334e+12,\n",
      "        3.9014e+10, 2.9850e+11, 2.8108e+09, 7.9901e+09, 5.6191e+11, 2.5441e+10,\n",
      "        8.6701e+09, 3.1713e+09, 7.9194e+10, 7.1824e+10, 3.4156e+09, 6.3187e+11,\n",
      "        4.0229e+10, 3.2950e+11, 5.1170e+10, 1.2980e+11, 3.9060e+08, 1.7195e+11,\n",
      "        1.0050e+11, 3.4718e+10, 2.8576e+10, 5.4389e+11, 4.4681e+11, 1.0382e+11,\n",
      "        1.2934e+09, 7.8158e+10, 2.1225e+09, 3.1942e+09, 2.5433e+08, 1.8189e+12,\n",
      "        2.8331e+10, 3.5691e+09, 4.3326e+10, 8.8998e+10, 3.7770e+09, 1.9162e+11,\n",
      "        4.6296e+10, 4.8270e+10, 6.8934e+10, 2.2435e+10, 6.4818e+11, 9.5968e+12,\n",
      "        3.5818e+10, 3.1852e+10, 3.7093e+10, 8.7717e+11, 3.9794e+10, 3.2814e+11,\n",
      "        3.6401e+10, 8.3723e+10, 3.9848e+10], device='cuda:0')----------\n",
      "Epoch [21/50]: Train loss: nan, Valid loss: nan\n"
     ]
    },
    {
     "name": "stderr",
     "output_type": "stream",
     "text": [
      "Epoch [22/50]: 100%|█████████████████████████████████████████████████████████████| 1/1 [00:00<00:00, 57.22it/s, loss=nan]\n"
     ]
    },
    {
     "name": "stdout",
     "output_type": "stream",
     "text": [
      "-------predict: tensor([nan, nan, nan, nan, nan, nan, nan, nan, nan, nan, nan, nan, nan, nan, nan, nan, nan, nan, nan, nan, nan, nan, nan, nan,\n",
      "        nan, nan, nan, nan, nan, nan, nan, nan, nan, nan, nan, nan, nan, nan, nan, nan, nan, nan, nan, nan, nan, nan, nan, nan,\n",
      "        nan, nan, nan, nan, nan, nan, nan, nan, nan, nan, nan, nan, nan, nan, nan, nan, nan, nan, nan, nan, nan, nan, nan, nan,\n",
      "        nan, nan, nan, nan, nan, nan, nan, nan, nan, nan, nan, nan, nan, nan, nan, nan, nan, nan, nan, nan, nan, nan, nan, nan,\n",
      "        nan, nan, nan, nan, nan, nan, nan, nan, nan, nan, nan, nan, nan, nan, nan, nan, nan, nan, nan, nan, nan, nan, nan, nan,\n",
      "        nan, nan, nan, nan, nan, nan, nan, nan, nan, nan, nan, nan, nan, nan, nan, nan, nan, nan, nan, nan, nan],\n",
      "       device='cuda:0', grad_fn=<SqueezeBackward1>), y: tensor([1.9162e+11, 5.4804e+10, 7.0220e+10, 3.1713e+09, 4.3326e+10, 8.3936e+10,\n",
      "        2.3427e+09, 1.9973e+10, 1.7296e+11, 3.0953e+10, 1.5849e+09, 5.6191e+11,\n",
      "        3.9014e+10, 3.9794e+10, 3.2276e+08, 1.1324e+12, 8.8802e+08, 9.3700e+09,\n",
      "        3.9817e+10, 6.5482e+09, 1.9976e+11, 3.7093e+10, 1.1565e+10, 8.0076e+10,\n",
      "        2.2391e+09, 1.3045e+09, 3.2814e+11, 2.8331e+10, 1.2998e+11, 1.6399e+11,\n",
      "        6.9594e+11, 3.4718e+10, 2.4948e+10, 8.3723e+10, 3.4156e+09, 2.8188e+11,\n",
      "        1.7751e+12, 1.6363e+11, 4.1572e+09, 3.3953e+11, 6.3628e+09, 1.9698e+10,\n",
      "        1.9305e+11, 4.0229e+10, 7.2816e+09, 7.4202e+08, 6.4303e+10, 4.1130e+10,\n",
      "        2.9658e+12, 1.2971e+10, 1.1839e+10, 7.5847e+09, 2.1880e+10, 3.6957e+11,\n",
      "        1.7495e+10, 2.9850e+11, 3.7770e+09, 8.8271e+10, 5.3334e+12, 2.6202e+10,\n",
      "        1.0382e+11, 3.2496e+12, 5.4389e+11, 2.2200e+10, 3.7192e+10, 6.0819e+09,\n",
      "        2.8564e+10, 4.7784e+11, 4.4681e+11, 2.8694e+10, 8.5587e+09, 3.6401e+10,\n",
      "        7.1824e+10, 1.3765e+11, 7.1208e+10, 1.2056e+10, 3.3869e+10, 1.9918e+11,\n",
      "        2.5433e+08, 2.0269e+10, 1.9485e+13, 8.8998e+10, 1.0913e+12, 3.5691e+09,\n",
      "        3.1852e+10, 8.6701e+09, 1.9365e+08, 1.4837e+09, 4.3456e+12, 1.8189e+12,\n",
      "        5.2211e+11, 2.2435e+10, 3.2950e+11, 2.3995e+09, 4.5969e+10, 2.2281e+11,\n",
      "        1.4823e+11, 7.8158e+10, 3.0981e+10, 3.3894e+09, 6.3187e+11, 1.5391e+13,\n",
      "        4.6296e+10, 3.1942e+09, 5.3028e+09, 6.4818e+11, 1.9830e+11, 2.8576e+10,\n",
      "        6.7588e+09, 1.2934e+09, 4.5585e+11, 3.9848e+10, 2.8108e+09, 7.9194e+10,\n",
      "        4.8270e+10, 1.0846e+11, 8.7717e+11, 1.9093e+10, 9.5968e+12, 1.2980e+11,\n",
      "        2.5441e+10, 3.6682e+10, 5.2814e+11, 2.9823e+11, 9.4052e+10, 3.5818e+10,\n",
      "        2.5013e+09, 5.1170e+10, 3.9060e+08, 9.5837e+10, 6.8934e+10, 6.4190e+10,\n",
      "        1.2541e+11, 2.0730e+10, 1.6342e+09, 7.9901e+09, 1.0050e+11, 2.2563e+08,\n",
      "        6.4479e+08, 2.1225e+09, 1.7195e+11], device='cuda:0')----------\n",
      "Epoch [22/50]: Train loss: nan, Valid loss: nan\n"
     ]
    },
    {
     "name": "stderr",
     "output_type": "stream",
     "text": [
      "Epoch [23/50]: 100%|█████████████████████████████████████████████████████████████| 1/1 [00:00<00:00, 54.06it/s, loss=nan]\n"
     ]
    },
    {
     "name": "stdout",
     "output_type": "stream",
     "text": [
      "-------predict: tensor([nan, nan, nan, nan, nan, nan, nan, nan, nan, nan, nan, nan, nan, nan, nan, nan, nan, nan, nan, nan, nan, nan, nan, nan,\n",
      "        nan, nan, nan, nan, nan, nan, nan, nan, nan, nan, nan, nan, nan, nan, nan, nan, nan, nan, nan, nan, nan, nan, nan, nan,\n",
      "        nan, nan, nan, nan, nan, nan, nan, nan, nan, nan, nan, nan, nan, nan, nan, nan, nan, nan, nan, nan, nan, nan, nan, nan,\n",
      "        nan, nan, nan, nan, nan, nan, nan, nan, nan, nan, nan, nan, nan, nan, nan, nan, nan, nan, nan, nan, nan, nan, nan, nan,\n",
      "        nan, nan, nan, nan, nan, nan, nan, nan, nan, nan, nan, nan, nan, nan, nan, nan, nan, nan, nan, nan, nan, nan, nan, nan,\n",
      "        nan, nan, nan, nan, nan, nan, nan, nan, nan, nan, nan, nan, nan, nan, nan, nan, nan, nan, nan, nan, nan],\n",
      "       device='cuda:0', grad_fn=<SqueezeBackward1>), y: tensor([5.3028e+09, 3.7770e+09, 3.4718e+10, 8.5587e+09, 7.1824e+10, 4.5585e+11,\n",
      "        7.5847e+09, 4.8270e+10, 1.0382e+11, 2.1880e+10, 2.8188e+11, 6.5482e+09,\n",
      "        3.3869e+10, 1.1324e+12, 1.2541e+11, 6.4303e+10, 3.2496e+12, 7.1208e+10,\n",
      "        2.8576e+10, 9.5837e+10, 3.9060e+08, 3.5818e+10, 3.2276e+08, 4.3326e+10,\n",
      "        5.3334e+12, 6.4190e+10, 8.0076e+10, 5.2814e+11, 2.8108e+09, 7.2816e+09,\n",
      "        1.3765e+11, 4.1572e+09, 2.2435e+10, 2.8331e+10, 1.3045e+09, 2.5433e+08,\n",
      "        6.4818e+11, 1.9365e+08, 2.9823e+11, 2.1225e+09, 8.8802e+08, 2.3995e+09,\n",
      "        4.4681e+11, 1.7195e+11, 1.9698e+10, 1.2971e+10, 3.4156e+09, 3.0953e+10,\n",
      "        8.6701e+09, 2.2200e+10, 1.5391e+13, 1.6342e+09, 2.0730e+10, 1.9485e+13,\n",
      "        6.3628e+09, 9.4052e+10, 1.2056e+10, 3.0981e+10, 2.8564e+10, 3.9817e+10,\n",
      "        3.7192e+10, 4.7784e+11, 6.8934e+10, 5.2211e+11, 3.2814e+11, 7.9194e+10,\n",
      "        8.7717e+11, 1.0846e+11, 6.9594e+11, 3.6401e+10, 1.6363e+11, 8.8271e+10,\n",
      "        2.2281e+11, 7.8158e+10, 4.0229e+10, 3.5691e+09, 3.1852e+10, 1.7495e+10,\n",
      "        3.1942e+09, 1.0050e+11, 5.6191e+11, 2.4948e+10, 1.0913e+12, 2.9658e+12,\n",
      "        1.2980e+11, 1.1839e+10, 6.3187e+11, 1.2934e+09, 9.3700e+09, 2.9850e+11,\n",
      "        3.6957e+11, 7.9901e+09, 2.5441e+10, 4.6296e+10, 3.9848e+10, 4.5969e+10,\n",
      "        5.4804e+10, 3.3953e+11, 6.4479e+08, 1.9305e+11, 2.2563e+08, 1.9093e+10,\n",
      "        1.1565e+10, 1.5849e+09, 5.4389e+11, 1.2998e+11, 8.3936e+10, 2.3427e+09,\n",
      "        4.3456e+12, 6.7588e+09, 2.5013e+09, 2.6202e+10, 1.9830e+11, 2.2391e+09,\n",
      "        2.8694e+10, 1.9976e+11, 1.4837e+09, 7.4202e+08, 1.6399e+11, 4.1130e+10,\n",
      "        3.1713e+09, 6.0819e+09, 1.9973e+10, 1.4823e+11, 1.9918e+11, 8.3723e+10,\n",
      "        3.3894e+09, 1.8189e+12, 3.2950e+11, 8.8998e+10, 3.6682e+10, 1.7751e+12,\n",
      "        5.1170e+10, 1.7296e+11, 3.9794e+10, 1.9162e+11, 3.7093e+10, 2.0269e+10,\n",
      "        9.5968e+12, 3.9014e+10, 7.0220e+10], device='cuda:0')----------\n",
      "Epoch [23/50]: Train loss: nan, Valid loss: nan\n"
     ]
    },
    {
     "name": "stderr",
     "output_type": "stream",
     "text": [
      "Epoch [24/50]: 100%|█████████████████████████████████████████████████████████████| 1/1 [00:00<00:00, 55.11it/s, loss=nan]\n"
     ]
    },
    {
     "name": "stdout",
     "output_type": "stream",
     "text": [
      "-------predict: tensor([nan, nan, nan, nan, nan, nan, nan, nan, nan, nan, nan, nan, nan, nan, nan, nan, nan, nan, nan, nan, nan, nan, nan, nan,\n",
      "        nan, nan, nan, nan, nan, nan, nan, nan, nan, nan, nan, nan, nan, nan, nan, nan, nan, nan, nan, nan, nan, nan, nan, nan,\n",
      "        nan, nan, nan, nan, nan, nan, nan, nan, nan, nan, nan, nan, nan, nan, nan, nan, nan, nan, nan, nan, nan, nan, nan, nan,\n",
      "        nan, nan, nan, nan, nan, nan, nan, nan, nan, nan, nan, nan, nan, nan, nan, nan, nan, nan, nan, nan, nan, nan, nan, nan,\n",
      "        nan, nan, nan, nan, nan, nan, nan, nan, nan, nan, nan, nan, nan, nan, nan, nan, nan, nan, nan, nan, nan, nan, nan, nan,\n",
      "        nan, nan, nan, nan, nan, nan, nan, nan, nan, nan, nan, nan, nan, nan, nan, nan, nan, nan, nan, nan, nan],\n",
      "       device='cuda:0', grad_fn=<SqueezeBackward1>), y: tensor([8.8802e+08, 8.5587e+09, 2.8108e+09, 8.8998e+10, 6.3628e+09, 3.3869e+10,\n",
      "        1.9162e+11, 7.9194e+10, 9.4052e+10, 9.5837e+10, 7.0220e+10, 2.1880e+10,\n",
      "        4.3456e+12, 3.7770e+09, 1.2971e+10, 1.7751e+12, 3.2950e+11, 2.5433e+08,\n",
      "        1.9485e+13, 1.4837e+09, 9.5968e+12, 3.6957e+11, 4.7784e+11, 1.7296e+11,\n",
      "        2.2391e+09, 1.1839e+10, 1.3765e+11, 5.2211e+11, 6.7588e+09, 1.1565e+10,\n",
      "        2.9823e+11, 2.9658e+12, 2.0730e+10, 7.9901e+09, 4.6296e+10, 1.7495e+10,\n",
      "        3.6401e+10, 8.8271e+10, 3.4718e+10, 1.0382e+11, 1.6399e+11, 2.8331e+10,\n",
      "        2.8188e+11, 3.5691e+09, 2.2435e+10, 1.9365e+08, 8.7717e+11, 1.9830e+11,\n",
      "        1.9698e+10, 4.1572e+09, 6.4479e+08, 1.9973e+10, 3.7093e+10, 8.6701e+09,\n",
      "        3.0953e+10, 6.4303e+10, 6.3187e+11, 1.9976e+11, 2.8576e+10, 1.9918e+11,\n",
      "        3.3894e+09, 6.9594e+11, 3.2496e+12, 2.2563e+08, 2.8694e+10, 1.6363e+11,\n",
      "        4.5969e+10, 1.6342e+09, 2.6202e+10, 1.2056e+10, 6.4818e+11, 1.0846e+11,\n",
      "        5.4389e+11, 2.5441e+10, 3.1852e+10, 1.0913e+12, 3.9014e+10, 3.1942e+09,\n",
      "        1.9093e+10, 2.2281e+11, 1.9305e+11, 1.2934e+09, 1.3045e+09, 3.2276e+08,\n",
      "        2.0269e+10, 1.0050e+11, 7.1824e+10, 1.5849e+09, 4.4681e+11, 2.5013e+09,\n",
      "        5.3028e+09, 4.8270e+10, 3.1713e+09, 1.2541e+11, 5.6191e+11, 3.7192e+10,\n",
      "        1.5391e+13, 6.0819e+09, 3.9060e+08, 2.4948e+10, 3.0981e+10, 2.8564e+10,\n",
      "        2.3995e+09, 3.5818e+10, 3.9794e+10, 8.3936e+10, 5.1170e+10, 1.4823e+11,\n",
      "        8.3723e+10, 6.8934e+10, 7.5847e+09, 9.3700e+09, 7.8158e+10, 8.0076e+10,\n",
      "        5.2814e+11, 1.8189e+12, 6.4190e+10, 1.2998e+11, 6.5482e+09, 7.1208e+10,\n",
      "        1.1324e+12, 7.2816e+09, 1.7195e+11, 2.2200e+10, 3.6682e+10, 3.3953e+11,\n",
      "        4.5585e+11, 7.4202e+08, 3.9848e+10, 2.1225e+09, 2.3427e+09, 4.0229e+10,\n",
      "        1.2980e+11, 4.1130e+10, 2.9850e+11, 3.4156e+09, 4.3326e+10, 3.9817e+10,\n",
      "        5.4804e+10, 5.3334e+12, 3.2814e+11], device='cuda:0')----------\n",
      "Epoch [24/50]: Train loss: nan, Valid loss: nan\n"
     ]
    },
    {
     "name": "stderr",
     "output_type": "stream",
     "text": [
      "\r",
      "  0%|                                                                                              | 0/1 [00:00<?, ?it/s]"
     ]
    },
    {
     "name": "stdout",
     "output_type": "stream",
     "text": [
      "-------predict: tensor([nan, nan, nan, nan, nan, nan, nan, nan, nan, nan, nan, nan, nan, nan, nan, nan, nan, nan, nan, nan, nan, nan, nan, nan,\n",
      "        nan, nan, nan, nan, nan, nan, nan, nan, nan, nan, nan, nan, nan, nan, nan, nan, nan, nan, nan, nan, nan, nan, nan, nan,\n",
      "        nan, nan, nan, nan, nan, nan, nan, nan, nan, nan, nan, nan, nan, nan, nan, nan, nan, nan, nan, nan, nan, nan, nan, nan,\n",
      "        nan, nan, nan, nan, nan, nan, nan, nan, nan, nan, nan, nan, nan, nan, nan, nan, nan, nan, nan, nan, nan, nan, nan, nan,\n",
      "        nan, nan, nan, nan, nan, nan, nan, nan, nan, nan, nan, nan, nan, nan, nan, nan, nan, nan, nan, nan, nan, nan, nan, nan,\n",
      "        nan, nan, nan, nan, nan, nan, nan, nan, nan, nan, nan, nan, nan, nan, nan, nan, nan, nan, nan, nan, nan],\n",
      "       device='cuda:0', grad_fn=<SqueezeBackward1>), y: tensor([9.3700e+09, 1.6363e+11, 3.2276e+08, 4.1572e+09, 1.0050e+11, 2.2281e+11,\n",
      "        8.8998e+10, 2.3427e+09, 1.9918e+11, 2.9823e+11, 1.9305e+11, 3.3869e+10,\n",
      "        1.9830e+11, 5.3028e+09, 7.9194e+10, 1.4837e+09, 2.6202e+10, 3.2950e+11,\n",
      "        3.7770e+09, 3.0953e+10, 1.9162e+11, 3.3953e+11, 1.7296e+11, 4.5585e+11,\n",
      "        1.1839e+10, 8.0076e+10, 2.2435e+10, 5.2814e+11, 2.8108e+09, 7.2816e+09,\n",
      "        2.3995e+09, 1.9973e+10, 1.7195e+11, 1.9093e+10, 7.8158e+10, 3.4156e+09,\n",
      "        9.5968e+12, 5.4804e+10, 8.8271e+10, 2.8564e+10, 3.1942e+09, 1.9976e+11,\n",
      "        2.2391e+09, 1.0846e+11, 1.7751e+12, 2.1225e+09, 1.4823e+11, 3.3894e+09,\n",
      "        4.3326e+10, 5.2211e+11, 3.9060e+08, 5.3334e+12, 5.1170e+10, 2.8331e+10,\n",
      "        1.6342e+09, 1.5849e+09, 1.5391e+13, 9.5837e+10, 3.1713e+09, 8.6701e+09,\n",
      "        1.9698e+10, 8.3723e+10, 6.4818e+11, 1.1324e+12, 1.0913e+12, 8.5587e+09,\n",
      "        3.2496e+12, 7.5847e+09, 2.8188e+11, 8.7717e+11, 2.0269e+10, 4.8270e+10,\n",
      "        3.6682e+10, 1.2541e+11, 7.4202e+08, 2.5433e+08, 1.2056e+10, 3.9817e+10,\n",
      "        2.2200e+10, 6.9594e+11, 1.2980e+11, 1.9485e+13, 2.9850e+11, 1.3765e+11,\n",
      "        6.5482e+09, 6.8934e+10, 1.7495e+10, 5.6191e+11, 1.2971e+10, 7.9901e+09,\n",
      "        7.1824e+10, 2.8694e+10, 1.1565e+10, 6.4303e+10, 1.2934e+09, 5.4389e+11,\n",
      "        4.7784e+11, 4.3456e+12, 3.2814e+11, 3.7093e+10, 6.3187e+11, 9.4052e+10,\n",
      "        6.7588e+09, 4.5969e+10, 6.4479e+08, 2.5441e+10, 3.5818e+10, 2.1880e+10,\n",
      "        4.4681e+11, 3.9794e+10, 3.5691e+09, 3.7192e+10, 3.9848e+10, 2.9658e+12,\n",
      "        2.5013e+09, 1.0382e+11, 3.6401e+10, 3.4718e+10, 2.4948e+10, 8.8802e+08,\n",
      "        4.0229e+10, 3.0981e+10, 2.2563e+08, 2.0730e+10, 8.3936e+10, 1.6399e+11,\n",
      "        2.8576e+10, 3.9014e+10, 1.9365e+08, 6.0819e+09, 1.2998e+11, 4.1130e+10,\n",
      "        7.0220e+10, 1.8189e+12, 6.4190e+10, 3.6957e+11, 4.6296e+10, 6.3628e+09,\n",
      "        7.1208e+10, 3.1852e+10, 1.3045e+09], device='cuda:0')----------\n"
     ]
    },
    {
     "name": "stderr",
     "output_type": "stream",
     "text": [
      "Epoch [25/50]: 100%|█████████████████████████████████████████████████████████████| 1/1 [00:00<00:00, 58.01it/s, loss=nan]\n"
     ]
    },
    {
     "name": "stdout",
     "output_type": "stream",
     "text": [
      "Epoch [25/50]: Train loss: nan, Valid loss: nan\n"
     ]
    },
    {
     "name": "stderr",
     "output_type": "stream",
     "text": [
      "Epoch [26/50]: 100%|█████████████████████████████████████████████████████████████| 1/1 [00:00<00:00, 62.57it/s, loss=nan]\n"
     ]
    },
    {
     "name": "stdout",
     "output_type": "stream",
     "text": [
      "-------predict: tensor([nan, nan, nan, nan, nan, nan, nan, nan, nan, nan, nan, nan, nan, nan, nan, nan, nan, nan, nan, nan, nan, nan, nan, nan,\n",
      "        nan, nan, nan, nan, nan, nan, nan, nan, nan, nan, nan, nan, nan, nan, nan, nan, nan, nan, nan, nan, nan, nan, nan, nan,\n",
      "        nan, nan, nan, nan, nan, nan, nan, nan, nan, nan, nan, nan, nan, nan, nan, nan, nan, nan, nan, nan, nan, nan, nan, nan,\n",
      "        nan, nan, nan, nan, nan, nan, nan, nan, nan, nan, nan, nan, nan, nan, nan, nan, nan, nan, nan, nan, nan, nan, nan, nan,\n",
      "        nan, nan, nan, nan, nan, nan, nan, nan, nan, nan, nan, nan, nan, nan, nan, nan, nan, nan, nan, nan, nan, nan, nan, nan,\n",
      "        nan, nan, nan, nan, nan, nan, nan, nan, nan, nan, nan, nan, nan, nan, nan, nan, nan, nan, nan, nan, nan],\n",
      "       device='cuda:0', grad_fn=<SqueezeBackward1>), y: tensor([3.2950e+11, 2.2391e+09, 1.0050e+11, 9.3700e+09, 3.5691e+09, 3.7770e+09,\n",
      "        1.4823e+11, 5.6191e+11, 2.8576e+10, 8.8802e+08, 1.0913e+12, 4.1130e+10,\n",
      "        7.4202e+08, 3.7093e+10, 1.9698e+10, 1.3045e+09, 5.2814e+11, 8.3723e+10,\n",
      "        2.9823e+11, 1.9305e+11, 1.2541e+11, 2.3427e+09, 1.5391e+13, 7.1208e+10,\n",
      "        2.9850e+11, 5.4804e+10, 1.1565e+10, 2.5433e+08, 3.3894e+09, 8.8271e+10,\n",
      "        1.9365e+08, 1.6342e+09, 1.9093e+10, 4.5585e+11, 1.2980e+11, 2.2281e+11,\n",
      "        6.7588e+09, 8.6701e+09, 3.9794e+10, 3.4156e+09, 2.8188e+11, 2.2200e+10,\n",
      "        5.3028e+09, 6.0819e+09, 1.2971e+10, 5.2211e+11, 9.4052e+10, 1.7195e+11,\n",
      "        7.9194e+10, 2.5013e+09, 1.2934e+09, 3.4718e+10, 7.1824e+10, 1.6363e+11,\n",
      "        9.5968e+12, 3.9848e+10, 4.3326e+10, 7.2816e+09, 2.5441e+10, 8.8998e+10,\n",
      "        8.0076e+10, 2.6202e+10, 3.6401e+10, 3.7192e+10, 1.7751e+12, 3.3953e+11,\n",
      "        1.0846e+11, 4.0229e+10, 3.9817e+10, 3.0981e+10, 3.6682e+10, 3.2276e+08,\n",
      "        7.9901e+09, 2.2563e+08, 1.2998e+11, 4.5969e+10, 4.1572e+09, 2.1880e+10,\n",
      "        7.8158e+10, 3.3869e+10, 6.4479e+08, 1.9485e+13, 1.0382e+11, 2.0269e+10,\n",
      "        2.9658e+12, 1.2056e+10, 7.5847e+09, 2.1225e+09, 2.8331e+10, 4.8270e+10,\n",
      "        3.2814e+11, 6.4190e+10, 2.8694e+10, 5.1170e+10, 3.0953e+10, 3.1713e+09,\n",
      "        4.3456e+12, 2.4948e+10, 8.5587e+09, 3.9014e+10, 1.9162e+11, 6.8934e+10,\n",
      "        1.4837e+09, 1.6399e+11, 2.8108e+09, 1.1839e+10, 4.6296e+10, 9.5837e+10,\n",
      "        1.7495e+10, 3.5818e+10, 1.3765e+11, 7.0220e+10, 1.9918e+11, 5.4389e+11,\n",
      "        5.3334e+12, 3.6957e+11, 8.3936e+10, 1.1324e+12, 2.3995e+09, 6.4303e+10,\n",
      "        6.3628e+09, 2.0730e+10, 1.9830e+11, 2.2435e+10, 6.9594e+11, 3.9060e+08,\n",
      "        3.1942e+09, 3.1852e+10, 1.5849e+09, 6.3187e+11, 6.5482e+09, 8.7717e+11,\n",
      "        3.2496e+12, 1.8189e+12, 4.7784e+11, 6.4818e+11, 1.7296e+11, 2.8564e+10,\n",
      "        1.9973e+10, 4.4681e+11, 1.9976e+11], device='cuda:0')----------\n",
      "Epoch [26/50]: Train loss: nan, Valid loss: nan\n"
     ]
    },
    {
     "name": "stderr",
     "output_type": "stream",
     "text": [
      "Epoch [27/50]: 100%|█████████████████████████████████████████████████████████████| 1/1 [00:00<00:00, 58.86it/s, loss=nan]\n"
     ]
    },
    {
     "name": "stdout",
     "output_type": "stream",
     "text": [
      "-------predict: tensor([nan, nan, nan, nan, nan, nan, nan, nan, nan, nan, nan, nan, nan, nan, nan, nan, nan, nan, nan, nan, nan, nan, nan, nan,\n",
      "        nan, nan, nan, nan, nan, nan, nan, nan, nan, nan, nan, nan, nan, nan, nan, nan, nan, nan, nan, nan, nan, nan, nan, nan,\n",
      "        nan, nan, nan, nan, nan, nan, nan, nan, nan, nan, nan, nan, nan, nan, nan, nan, nan, nan, nan, nan, nan, nan, nan, nan,\n",
      "        nan, nan, nan, nan, nan, nan, nan, nan, nan, nan, nan, nan, nan, nan, nan, nan, nan, nan, nan, nan, nan, nan, nan, nan,\n",
      "        nan, nan, nan, nan, nan, nan, nan, nan, nan, nan, nan, nan, nan, nan, nan, nan, nan, nan, nan, nan, nan, nan, nan, nan,\n",
      "        nan, nan, nan, nan, nan, nan, nan, nan, nan, nan, nan, nan, nan, nan, nan, nan, nan, nan, nan, nan, nan],\n",
      "       device='cuda:0', grad_fn=<SqueezeBackward1>), y: tensor([1.4823e+11, 3.6401e+10, 8.7717e+11, 4.7784e+11, 4.1130e+10, 1.8189e+12,\n",
      "        5.3028e+09, 2.3995e+09, 3.7770e+09, 8.3723e+10, 8.6701e+09, 8.3936e+10,\n",
      "        3.2276e+08, 2.4948e+10, 6.4303e+10, 1.1565e+10, 5.2211e+11, 6.7588e+09,\n",
      "        1.0382e+11, 5.1170e+10, 1.2998e+11, 8.8271e+10, 3.1942e+09, 5.6191e+11,\n",
      "        1.2971e+10, 4.5969e+10, 6.9594e+11, 4.3456e+12, 2.8576e+10, 1.7751e+12,\n",
      "        7.8158e+10, 6.8934e+10, 1.1324e+12, 3.3894e+09, 3.2814e+11, 1.4837e+09,\n",
      "        8.8998e+10, 9.4052e+10, 1.2056e+10, 2.2391e+09, 2.8694e+10, 3.9794e+10,\n",
      "        3.0953e+10, 4.0229e+10, 6.5482e+09, 1.2934e+09, 6.4818e+11, 7.2816e+09,\n",
      "        2.2435e+10, 4.6296e+10, 1.5849e+09, 2.5433e+08, 9.3700e+09, 4.5585e+11,\n",
      "        7.4202e+08, 6.4479e+08, 2.6202e+10, 2.5013e+09, 1.9698e+10, 3.4718e+10,\n",
      "        3.3953e+11, 1.9973e+10, 1.3045e+09, 6.3187e+11, 5.3334e+12, 7.1208e+10,\n",
      "        1.7195e+11, 8.5587e+09, 1.9162e+11, 1.7296e+11, 2.2200e+10, 3.6682e+10,\n",
      "        2.2281e+11, 2.9658e+12, 1.0846e+11, 3.0981e+10, 5.4804e+10, 3.9014e+10,\n",
      "        7.0220e+10, 1.6399e+11, 3.7093e+10, 7.9194e+10, 1.9976e+11, 3.9848e+10,\n",
      "        1.9365e+08, 3.6957e+11, 4.4681e+11, 9.5968e+12, 1.3765e+11, 3.5691e+09,\n",
      "        7.9901e+09, 3.2950e+11, 3.9817e+10, 2.0269e+10, 1.9830e+11, 2.3427e+09,\n",
      "        1.1839e+10, 4.8270e+10, 5.2814e+11, 2.1880e+10, 4.1572e+09, 1.7495e+10,\n",
      "        8.0076e+10, 2.2563e+08, 3.3869e+10, 1.9305e+11, 6.4190e+10, 1.9918e+11,\n",
      "        2.8564e+10, 3.5818e+10, 4.3326e+10, 3.4156e+09, 2.8108e+09, 2.5441e+10,\n",
      "        8.8802e+08, 1.6363e+11, 2.8188e+11, 2.9850e+11, 7.1824e+10, 6.3628e+09,\n",
      "        1.2980e+11, 9.5837e+10, 1.9093e+10, 1.9485e+13, 3.2496e+12, 6.0819e+09,\n",
      "        3.1713e+09, 1.2541e+11, 1.6342e+09, 2.9823e+11, 1.5391e+13, 2.1225e+09,\n",
      "        1.0050e+11, 2.0730e+10, 3.7192e+10, 7.5847e+09, 3.9060e+08, 3.1852e+10,\n",
      "        2.8331e+10, 5.4389e+11, 1.0913e+12], device='cuda:0')----------\n",
      "Epoch [27/50]: Train loss: nan, Valid loss: nan\n"
     ]
    },
    {
     "name": "stderr",
     "output_type": "stream",
     "text": [
      "Epoch [28/50]: 100%|█████████████████████████████████████████████████████████████| 1/1 [00:00<00:00, 58.57it/s, loss=nan]\n"
     ]
    },
    {
     "name": "stdout",
     "output_type": "stream",
     "text": [
      "-------predict: tensor([nan, nan, nan, nan, nan, nan, nan, nan, nan, nan, nan, nan, nan, nan, nan, nan, nan, nan, nan, nan, nan, nan, nan, nan,\n",
      "        nan, nan, nan, nan, nan, nan, nan, nan, nan, nan, nan, nan, nan, nan, nan, nan, nan, nan, nan, nan, nan, nan, nan, nan,\n",
      "        nan, nan, nan, nan, nan, nan, nan, nan, nan, nan, nan, nan, nan, nan, nan, nan, nan, nan, nan, nan, nan, nan, nan, nan,\n",
      "        nan, nan, nan, nan, nan, nan, nan, nan, nan, nan, nan, nan, nan, nan, nan, nan, nan, nan, nan, nan, nan, nan, nan, nan,\n",
      "        nan, nan, nan, nan, nan, nan, nan, nan, nan, nan, nan, nan, nan, nan, nan, nan, nan, nan, nan, nan, nan, nan, nan, nan,\n",
      "        nan, nan, nan, nan, nan, nan, nan, nan, nan, nan, nan, nan, nan, nan, nan, nan, nan, nan, nan, nan, nan],\n",
      "       device='cuda:0', grad_fn=<SqueezeBackward1>), y: tensor([3.2276e+08, 5.1170e+10, 7.8158e+10, 3.9848e+10, 4.6296e+10, 8.3723e+10,\n",
      "        2.0730e+10, 2.8331e+10, 1.1324e+12, 7.5847e+09, 2.8188e+11, 1.2056e+10,\n",
      "        2.6202e+10, 2.5441e+10, 5.4804e+10, 9.5968e+12, 2.2391e+09, 1.9698e+10,\n",
      "        2.5013e+09, 5.2211e+11, 3.3894e+09, 2.9850e+11, 1.9093e+10, 1.3045e+09,\n",
      "        3.2950e+11, 6.0819e+09, 3.0981e+10, 8.8802e+08, 4.5585e+11, 3.1852e+10,\n",
      "        1.1839e+10, 8.7717e+11, 2.2200e+10, 1.2998e+11, 1.1565e+10, 2.9658e+12,\n",
      "        3.0953e+10, 3.6401e+10, 2.2563e+08, 1.2934e+09, 9.5837e+10, 1.4837e+09,\n",
      "        2.3427e+09, 7.9901e+09, 4.5969e+10, 1.9365e+08, 2.0269e+10, 3.7192e+10,\n",
      "        6.9594e+11, 1.2980e+11, 5.3334e+12, 4.1572e+09, 2.1880e+10, 1.9305e+11,\n",
      "        7.9194e+10, 3.2496e+12, 8.6701e+09, 3.3953e+11, 3.9794e+10, 2.8108e+09,\n",
      "        7.2816e+09, 2.2281e+11, 6.4818e+11, 1.9162e+11, 3.9014e+10, 3.7770e+09,\n",
      "        1.0050e+11, 6.4479e+08, 1.9976e+11, 6.3628e+09, 1.0913e+12, 2.9823e+11,\n",
      "        1.7296e+11, 3.2814e+11, 1.2971e+10, 3.6957e+11, 6.3187e+11, 5.6191e+11,\n",
      "        5.3028e+09, 6.7588e+09, 4.8270e+10, 9.3700e+09, 8.8998e+10, 3.9060e+08,\n",
      "        8.8271e+10, 1.8189e+12, 2.3995e+09, 5.2814e+11, 1.0846e+11, 7.1208e+10,\n",
      "        7.4202e+08, 3.7093e+10, 1.9485e+13, 2.2435e+10, 4.0229e+10, 9.4052e+10,\n",
      "        8.0076e+10, 7.0220e+10, 1.7495e+10, 2.1225e+09, 1.6363e+11, 3.5691e+09,\n",
      "        1.9918e+11, 2.8694e+10, 4.4681e+11, 8.3936e+10, 2.8576e+10, 5.4389e+11,\n",
      "        3.5818e+10, 4.3326e+10, 1.7751e+12, 1.9973e+10, 6.4303e+10, 1.7195e+11,\n",
      "        2.4948e+10, 3.3869e+10, 1.6342e+09, 1.2541e+11, 1.5391e+13, 1.6399e+11,\n",
      "        6.4190e+10, 3.1942e+09, 1.0382e+11, 7.1824e+10, 8.5587e+09, 3.6682e+10,\n",
      "        2.5433e+08, 6.8934e+10, 3.1713e+09, 3.4156e+09, 1.3765e+11, 4.3456e+12,\n",
      "        2.8564e+10, 4.7784e+11, 6.5482e+09, 3.4718e+10, 3.9817e+10, 1.9830e+11,\n",
      "        4.1130e+10, 1.4823e+11, 1.5849e+09], device='cuda:0')----------\n",
      "Epoch [28/50]: Train loss: nan, Valid loss: nan\n"
     ]
    },
    {
     "name": "stderr",
     "output_type": "stream",
     "text": [
      "Epoch [29/50]: 100%|█████████████████████████████████████████████████████████████| 1/1 [00:00<00:00, 59.55it/s, loss=nan]\n"
     ]
    },
    {
     "name": "stdout",
     "output_type": "stream",
     "text": [
      "-------predict: tensor([nan, nan, nan, nan, nan, nan, nan, nan, nan, nan, nan, nan, nan, nan, nan, nan, nan, nan, nan, nan, nan, nan, nan, nan,\n",
      "        nan, nan, nan, nan, nan, nan, nan, nan, nan, nan, nan, nan, nan, nan, nan, nan, nan, nan, nan, nan, nan, nan, nan, nan,\n",
      "        nan, nan, nan, nan, nan, nan, nan, nan, nan, nan, nan, nan, nan, nan, nan, nan, nan, nan, nan, nan, nan, nan, nan, nan,\n",
      "        nan, nan, nan, nan, nan, nan, nan, nan, nan, nan, nan, nan, nan, nan, nan, nan, nan, nan, nan, nan, nan, nan, nan, nan,\n",
      "        nan, nan, nan, nan, nan, nan, nan, nan, nan, nan, nan, nan, nan, nan, nan, nan, nan, nan, nan, nan, nan, nan, nan, nan,\n",
      "        nan, nan, nan, nan, nan, nan, nan, nan, nan, nan, nan, nan, nan, nan, nan, nan, nan, nan, nan, nan, nan],\n",
      "       device='cuda:0', grad_fn=<SqueezeBackward1>), y: tensor([3.7770e+09, 6.0819e+09, 3.3869e+10, 3.9060e+08, 1.2934e+09, 5.6191e+11,\n",
      "        2.5013e+09, 6.4479e+08, 5.4804e+10, 8.0076e+10, 1.0382e+11, 7.1824e+10,\n",
      "        2.8188e+11, 3.9817e+10, 9.4052e+10, 4.1572e+09, 1.6363e+11, 6.5482e+09,\n",
      "        3.2496e+12, 1.9830e+11, 1.0846e+11, 7.8158e+10, 1.3045e+09, 3.2814e+11,\n",
      "        1.1324e+12, 2.0730e+10, 6.8934e+10, 3.4156e+09, 1.9698e+10, 4.0229e+10,\n",
      "        3.7192e+10, 9.3700e+09, 2.8694e+10, 2.1880e+10, 2.0269e+10, 1.4823e+11,\n",
      "        1.9162e+11, 1.1839e+10, 3.0981e+10, 1.6342e+09, 3.9014e+10, 5.3028e+09,\n",
      "        1.6399e+11, 8.7717e+11, 3.3894e+09, 7.5847e+09, 2.9850e+11, 2.3995e+09,\n",
      "        3.2276e+08, 2.2281e+11, 3.6957e+11, 5.2211e+11, 4.3456e+12, 8.8998e+10,\n",
      "        2.8564e+10, 7.4202e+08, 5.1170e+10, 3.3953e+11, 1.7296e+11, 3.1942e+09,\n",
      "        4.7784e+11, 3.4718e+10, 2.5441e+10, 7.9901e+09, 6.7588e+09, 2.9658e+12,\n",
      "        4.5969e+10, 1.9485e+13, 6.3187e+11, 8.5587e+09, 7.9194e+10, 2.5433e+08,\n",
      "        7.2816e+09, 8.3936e+10, 2.8331e+10, 1.5391e+13, 2.2563e+08, 2.8108e+09,\n",
      "        1.7495e+10, 3.5691e+09, 1.2056e+10, 4.6296e+10, 1.2541e+11, 3.2950e+11,\n",
      "        1.5849e+09, 6.4190e+10, 3.1713e+09, 3.6401e+10, 1.0913e+12, 2.3427e+09,\n",
      "        2.1225e+09, 7.0220e+10, 4.1130e+10, 3.1852e+10, 5.4389e+11, 8.3723e+10,\n",
      "        3.9794e+10, 1.2998e+11, 4.3326e+10, 1.3765e+11, 3.5818e+10, 3.6682e+10,\n",
      "        8.6701e+09, 4.5585e+11, 1.0050e+11, 8.8802e+08, 3.9848e+10, 4.4681e+11,\n",
      "        9.5968e+12, 2.6202e+10, 2.8576e+10, 3.0953e+10, 2.2200e+10, 1.9365e+08,\n",
      "        6.4303e+10, 1.4837e+09, 2.4948e+10, 5.3334e+12, 6.9594e+11, 9.5837e+10,\n",
      "        1.7195e+11, 1.1565e+10, 1.2980e+11, 1.9973e+10, 1.2971e+10, 1.8189e+12,\n",
      "        4.8270e+10, 8.8271e+10, 2.2391e+09, 6.3628e+09, 1.9976e+11, 5.2814e+11,\n",
      "        1.9305e+11, 2.2435e+10, 7.1208e+10, 6.4818e+11, 1.7751e+12, 1.9918e+11,\n",
      "        3.7093e+10, 2.9823e+11, 1.9093e+10], device='cuda:0')----------\n",
      "Epoch [29/50]: Train loss: nan, Valid loss: nan\n"
     ]
    },
    {
     "name": "stderr",
     "output_type": "stream",
     "text": [
      "Epoch [30/50]: 100%|█████████████████████████████████████████████████████████████| 1/1 [00:00<00:00, 68.16it/s, loss=nan]\n"
     ]
    },
    {
     "name": "stdout",
     "output_type": "stream",
     "text": [
      "-------predict: tensor([nan, nan, nan, nan, nan, nan, nan, nan, nan, nan, nan, nan, nan, nan, nan, nan, nan, nan, nan, nan, nan, nan, nan, nan,\n",
      "        nan, nan, nan, nan, nan, nan, nan, nan, nan, nan, nan, nan, nan, nan, nan, nan, nan, nan, nan, nan, nan, nan, nan, nan,\n",
      "        nan, nan, nan, nan, nan, nan, nan, nan, nan, nan, nan, nan, nan, nan, nan, nan, nan, nan, nan, nan, nan, nan, nan, nan,\n",
      "        nan, nan, nan, nan, nan, nan, nan, nan, nan, nan, nan, nan, nan, nan, nan, nan, nan, nan, nan, nan, nan, nan, nan, nan,\n",
      "        nan, nan, nan, nan, nan, nan, nan, nan, nan, nan, nan, nan, nan, nan, nan, nan, nan, nan, nan, nan, nan, nan, nan, nan,\n",
      "        nan, nan, nan, nan, nan, nan, nan, nan, nan, nan, nan, nan, nan, nan, nan, nan, nan, nan, nan, nan, nan],\n",
      "       device='cuda:0', grad_fn=<SqueezeBackward1>), y: tensor([3.9848e+10, 9.5837e+10, 6.9594e+11, 2.8188e+11, 1.0382e+11, 5.4804e+10,\n",
      "        1.2934e+09, 1.1324e+12, 5.6191e+11, 7.1208e+10, 1.6363e+11, 1.5849e+09,\n",
      "        3.0953e+10, 3.7192e+10, 1.9485e+13, 3.9060e+08, 2.2200e+10, 8.5587e+09,\n",
      "        2.2391e+09, 9.4052e+10, 4.6296e+10, 9.3700e+09, 6.4190e+10, 2.0730e+10,\n",
      "        1.2541e+11, 2.1225e+09, 4.3456e+12, 2.9823e+11, 4.3326e+10, 8.0076e+10,\n",
      "        2.9658e+12, 7.1824e+10, 2.8564e+10, 4.4681e+11, 2.5441e+10, 3.5691e+09,\n",
      "        3.4156e+09, 3.2950e+11, 3.7093e+10, 2.8331e+10, 1.7751e+12, 2.3995e+09,\n",
      "        1.9973e+10, 8.7717e+11, 3.9817e+10, 3.4718e+10, 3.3953e+11, 1.8189e+12,\n",
      "        5.3028e+09, 6.4818e+11, 6.4479e+08, 1.0846e+11, 3.0981e+10, 1.1839e+10,\n",
      "        1.6399e+11, 3.9794e+10, 1.6342e+09, 3.6682e+10, 4.8270e+10, 8.8271e+10,\n",
      "        1.1565e+10, 6.4303e+10, 5.2814e+11, 2.3427e+09, 6.3628e+09, 5.2211e+11,\n",
      "        1.7495e+10, 1.9918e+11, 4.7784e+11, 1.5391e+13, 5.4389e+11, 1.9365e+08,\n",
      "        3.5818e+10, 1.9305e+11, 1.2056e+10, 2.0269e+10, 1.3765e+11, 4.5969e+10,\n",
      "        5.3334e+12, 1.0913e+12, 6.5482e+09, 1.4837e+09, 2.8108e+09, 1.2998e+11,\n",
      "        1.7195e+11, 7.4202e+08, 3.2814e+11, 8.8802e+08, 1.2980e+11, 2.9850e+11,\n",
      "        8.8998e+10, 1.0050e+11, 3.1942e+09, 1.9093e+10, 6.3187e+11, 4.1130e+10,\n",
      "        8.3936e+10, 3.2496e+12, 7.9194e+10, 1.4823e+11, 2.2435e+10, 1.9976e+11,\n",
      "        2.2281e+11, 1.9162e+11, 3.1713e+09, 3.3869e+10, 4.5585e+11, 2.5433e+08,\n",
      "        1.2971e+10, 7.2816e+09, 6.7588e+09, 2.4948e+10, 4.0229e+10, 7.0220e+10,\n",
      "        1.3045e+09, 3.1852e+10, 1.9830e+11, 6.8934e+10, 3.6401e+10, 7.5847e+09,\n",
      "        1.7296e+11, 3.7770e+09, 2.8694e+10, 9.5968e+12, 3.9014e+10, 3.3894e+09,\n",
      "        8.3723e+10, 2.5013e+09, 4.1572e+09, 6.0819e+09, 5.1170e+10, 7.9901e+09,\n",
      "        1.9698e+10, 2.1880e+10, 2.8576e+10, 2.2563e+08, 2.6202e+10, 3.6957e+11,\n",
      "        3.2276e+08, 8.6701e+09, 7.8158e+10], device='cuda:0')----------\n",
      "Epoch [30/50]: Train loss: nan, Valid loss: nan\n"
     ]
    },
    {
     "name": "stderr",
     "output_type": "stream",
     "text": [
      "Epoch [31/50]: 100%|█████████████████████████████████████████████████████████████| 1/1 [00:00<00:00, 62.20it/s, loss=nan]\n"
     ]
    },
    {
     "name": "stdout",
     "output_type": "stream",
     "text": [
      "-------predict: tensor([nan, nan, nan, nan, nan, nan, nan, nan, nan, nan, nan, nan, nan, nan, nan, nan, nan, nan, nan, nan, nan, nan, nan, nan,\n",
      "        nan, nan, nan, nan, nan, nan, nan, nan, nan, nan, nan, nan, nan, nan, nan, nan, nan, nan, nan, nan, nan, nan, nan, nan,\n",
      "        nan, nan, nan, nan, nan, nan, nan, nan, nan, nan, nan, nan, nan, nan, nan, nan, nan, nan, nan, nan, nan, nan, nan, nan,\n",
      "        nan, nan, nan, nan, nan, nan, nan, nan, nan, nan, nan, nan, nan, nan, nan, nan, nan, nan, nan, nan, nan, nan, nan, nan,\n",
      "        nan, nan, nan, nan, nan, nan, nan, nan, nan, nan, nan, nan, nan, nan, nan, nan, nan, nan, nan, nan, nan, nan, nan, nan,\n",
      "        nan, nan, nan, nan, nan, nan, nan, nan, nan, nan, nan, nan, nan, nan, nan, nan, nan, nan, nan, nan, nan],\n",
      "       device='cuda:0', grad_fn=<SqueezeBackward1>), y: tensor([6.7588e+09, 4.0229e+10, 8.8802e+08, 2.8108e+09, 1.7296e+11, 8.7717e+11,\n",
      "        1.5849e+09, 3.1713e+09, 4.3326e+10, 2.8188e+11, 6.3628e+09, 2.4948e+10,\n",
      "        3.3869e+10, 7.4202e+08, 1.2980e+11, 1.9093e+10, 1.6363e+11, 2.5441e+10,\n",
      "        4.4681e+11, 2.2435e+10, 2.5433e+08, 1.1565e+10, 2.3427e+09, 2.2563e+08,\n",
      "        7.9194e+10, 3.4718e+10, 3.2814e+11, 5.4804e+10, 8.0076e+10, 1.9976e+11,\n",
      "        1.0050e+11, 1.1839e+10, 2.0269e+10, 2.9850e+11, 8.3723e+10, 5.2814e+11,\n",
      "        3.4156e+09, 1.6342e+09, 1.9305e+11, 5.3334e+12, 3.9014e+10, 7.1824e+10,\n",
      "        1.2056e+10, 3.3953e+11, 3.7192e+10, 1.0846e+11, 8.8998e+10, 2.8564e+10,\n",
      "        2.5013e+09, 4.6296e+10, 3.6957e+11, 1.3765e+11, 1.0913e+12, 6.4303e+10,\n",
      "        2.6202e+10, 4.7784e+11, 8.8271e+10, 1.9485e+13, 1.0382e+11, 1.9698e+10,\n",
      "        2.3995e+09, 3.9848e+10, 7.5847e+09, 2.0730e+10, 3.5818e+10, 1.2541e+11,\n",
      "        2.2200e+10, 1.5391e+13, 7.0220e+10, 3.6682e+10, 3.0953e+10, 5.6191e+11,\n",
      "        3.3894e+09, 2.9823e+11, 6.4818e+11, 3.9817e+10, 1.7751e+12, 1.8189e+12,\n",
      "        7.2816e+09, 2.8694e+10, 1.1324e+12, 6.0819e+09, 5.1170e+10, 1.9365e+08,\n",
      "        8.3936e+10, 4.8270e+10, 4.1130e+10, 6.9594e+11, 1.7195e+11, 7.8158e+10,\n",
      "        1.3045e+09, 7.1208e+10, 3.2496e+12, 2.8576e+10, 1.6399e+11, 6.4479e+08,\n",
      "        9.3700e+09, 6.8934e+10, 9.4052e+10, 3.7770e+09, 5.2211e+11, 1.2934e+09,\n",
      "        4.1572e+09, 3.1852e+10, 2.9658e+12, 7.9901e+09, 5.3028e+09, 2.1225e+09,\n",
      "        6.3187e+11, 4.5969e+10, 3.2276e+08, 6.5482e+09, 2.2391e+09, 3.5691e+09,\n",
      "        3.7093e+10, 4.5585e+11, 2.8331e+10, 3.0981e+10, 4.3456e+12, 1.9973e+10,\n",
      "        9.5837e+10, 3.1942e+09, 3.9794e+10, 5.4389e+11, 8.6701e+09, 3.9060e+08,\n",
      "        1.9162e+11, 2.1880e+10, 9.5968e+12, 1.9918e+11, 2.2281e+11, 3.6401e+10,\n",
      "        8.5587e+09, 1.7495e+10, 6.4190e+10, 3.2950e+11, 1.9830e+11, 1.4837e+09,\n",
      "        1.2998e+11, 1.4823e+11, 1.2971e+10], device='cuda:0')----------\n",
      "Epoch [31/50]: Train loss: nan, Valid loss: nan\n"
     ]
    },
    {
     "name": "stderr",
     "output_type": "stream",
     "text": [
      "Epoch [32/50]: 100%|█████████████████████████████████████████████████████████████| 1/1 [00:00<00:00, 61.66it/s, loss=nan]\n"
     ]
    },
    {
     "name": "stdout",
     "output_type": "stream",
     "text": [
      "-------predict: tensor([nan, nan, nan, nan, nan, nan, nan, nan, nan, nan, nan, nan, nan, nan, nan, nan, nan, nan, nan, nan, nan, nan, nan, nan,\n",
      "        nan, nan, nan, nan, nan, nan, nan, nan, nan, nan, nan, nan, nan, nan, nan, nan, nan, nan, nan, nan, nan, nan, nan, nan,\n",
      "        nan, nan, nan, nan, nan, nan, nan, nan, nan, nan, nan, nan, nan, nan, nan, nan, nan, nan, nan, nan, nan, nan, nan, nan,\n",
      "        nan, nan, nan, nan, nan, nan, nan, nan, nan, nan, nan, nan, nan, nan, nan, nan, nan, nan, nan, nan, nan, nan, nan, nan,\n",
      "        nan, nan, nan, nan, nan, nan, nan, nan, nan, nan, nan, nan, nan, nan, nan, nan, nan, nan, nan, nan, nan, nan, nan, nan,\n",
      "        nan, nan, nan, nan, nan, nan, nan, nan, nan, nan, nan, nan, nan, nan, nan, nan, nan, nan, nan, nan, nan],\n",
      "       device='cuda:0', grad_fn=<SqueezeBackward1>), y: tensor([2.1225e+09, 1.9830e+11, 4.7784e+11, 1.0913e+12, 1.9162e+11, 1.9365e+08,\n",
      "        3.3953e+11, 1.3045e+09, 2.0269e+10, 3.0981e+10, 1.9973e+10, 3.2276e+08,\n",
      "        5.1170e+10, 1.6399e+11, 3.1852e+10, 3.3894e+09, 2.5441e+10, 2.2435e+10,\n",
      "        4.3456e+12, 2.0730e+10, 4.4681e+11, 4.5585e+11, 6.4303e+10, 1.7296e+11,\n",
      "        6.4190e+10, 9.5968e+12, 6.3628e+09, 1.2971e+10, 7.4202e+08, 3.0953e+10,\n",
      "        4.1130e+10, 7.0220e+10, 1.9698e+10, 3.2950e+11, 2.3995e+09, 2.9850e+11,\n",
      "        1.9485e+13, 2.9823e+11, 9.4052e+10, 5.2814e+11, 2.9658e+12, 3.6401e+10,\n",
      "        3.5691e+09, 7.8158e+10, 1.7495e+10, 1.9976e+11, 6.8934e+10, 8.7717e+11,\n",
      "        7.9901e+09, 2.8694e+10, 6.9594e+11, 4.6296e+10, 2.2391e+09, 1.8189e+12,\n",
      "        3.2814e+11, 1.6363e+11, 7.1208e+10, 4.1572e+09, 3.9060e+08, 7.1824e+10,\n",
      "        2.6202e+10, 7.2816e+09, 7.9194e+10, 5.2211e+11, 8.6701e+09, 1.0846e+11,\n",
      "        8.8998e+10, 2.2563e+08, 1.7195e+11, 6.4818e+11, 3.9794e+10, 2.5433e+08,\n",
      "        8.3936e+10, 1.6342e+09, 8.3723e+10, 1.2934e+09, 6.5482e+09, 3.3869e+10,\n",
      "        1.4837e+09, 1.5849e+09, 1.9305e+11, 5.3334e+12, 3.1713e+09, 1.2980e+11,\n",
      "        7.5847e+09, 6.7588e+09, 8.8271e+10, 6.0819e+09, 4.3326e+10, 5.4804e+10,\n",
      "        1.2056e+10, 2.3427e+09, 2.8188e+11, 9.5837e+10, 6.3187e+11, 1.2998e+11,\n",
      "        1.1324e+12, 1.9093e+10, 5.6191e+11, 3.7770e+09, 2.2200e+10, 1.9918e+11,\n",
      "        1.1565e+10, 2.1880e+10, 3.9817e+10, 3.1942e+09, 6.4479e+08, 1.0382e+11,\n",
      "        4.0229e+10, 3.7192e+10, 2.8331e+10, 1.5391e+13, 3.6957e+11, 1.7751e+12,\n",
      "        2.8108e+09, 8.0076e+10, 3.5818e+10, 5.3028e+09, 1.4823e+11, 3.9848e+10,\n",
      "        3.4718e+10, 3.7093e+10, 2.8576e+10, 8.8802e+08, 2.8564e+10, 9.3700e+09,\n",
      "        1.1839e+10, 1.2541e+11, 2.5013e+09, 3.4156e+09, 1.0050e+11, 2.4948e+10,\n",
      "        4.5969e+10, 5.4389e+11, 3.6682e+10, 4.8270e+10, 8.5587e+09, 3.9014e+10,\n",
      "        1.3765e+11, 2.2281e+11, 3.2496e+12], device='cuda:0')----------\n",
      "Epoch [32/50]: Train loss: nan, Valid loss: nan\n"
     ]
    },
    {
     "name": "stderr",
     "output_type": "stream",
     "text": [
      "Epoch [33/50]: 100%|█████████████████████████████████████████████████████████████| 1/1 [00:00<00:00, 63.70it/s, loss=nan]\n"
     ]
    },
    {
     "name": "stdout",
     "output_type": "stream",
     "text": [
      "-------predict: tensor([nan, nan, nan, nan, nan, nan, nan, nan, nan, nan, nan, nan, nan, nan, nan, nan, nan, nan, nan, nan, nan, nan, nan, nan,\n",
      "        nan, nan, nan, nan, nan, nan, nan, nan, nan, nan, nan, nan, nan, nan, nan, nan, nan, nan, nan, nan, nan, nan, nan, nan,\n",
      "        nan, nan, nan, nan, nan, nan, nan, nan, nan, nan, nan, nan, nan, nan, nan, nan, nan, nan, nan, nan, nan, nan, nan, nan,\n",
      "        nan, nan, nan, nan, nan, nan, nan, nan, nan, nan, nan, nan, nan, nan, nan, nan, nan, nan, nan, nan, nan, nan, nan, nan,\n",
      "        nan, nan, nan, nan, nan, nan, nan, nan, nan, nan, nan, nan, nan, nan, nan, nan, nan, nan, nan, nan, nan, nan, nan, nan,\n",
      "        nan, nan, nan, nan, nan, nan, nan, nan, nan, nan, nan, nan, nan, nan, nan, nan, nan, nan, nan, nan, nan],\n",
      "       device='cuda:0', grad_fn=<SqueezeBackward1>), y: tensor([3.9794e+10, 7.0220e+10, 1.9976e+11, 2.8331e+10, 1.9305e+11, 2.2200e+10,\n",
      "        1.9918e+11, 5.2814e+11, 6.4818e+11, 1.1565e+10, 3.3894e+09, 5.1170e+10,\n",
      "        2.8564e+10, 1.5849e+09, 2.3995e+09, 2.5441e+10, 6.0819e+09, 3.6682e+10,\n",
      "        1.9830e+11, 3.5691e+09, 6.5482e+09, 1.6399e+11, 2.5433e+08, 3.3869e+10,\n",
      "        5.3334e+12, 1.3765e+11, 9.5968e+12, 8.3723e+10, 3.2814e+11, 1.6342e+09,\n",
      "        2.9850e+11, 1.7751e+12, 3.0953e+10, 3.7192e+10, 1.2056e+10, 4.8270e+10,\n",
      "        1.2998e+11, 2.1225e+09, 4.7784e+11, 7.8158e+10, 7.4202e+08, 4.5585e+11,\n",
      "        9.3700e+09, 2.0730e+10, 5.4804e+10, 3.9848e+10, 4.3326e+10, 2.1880e+10,\n",
      "        9.5837e+10, 6.4303e+10, 5.3028e+09, 6.7588e+09, 1.1324e+12, 3.7093e+10,\n",
      "        7.1824e+10, 1.2980e+11, 8.8802e+08, 7.1208e+10, 2.8694e+10, 3.1713e+09,\n",
      "        8.5587e+09, 4.1572e+09, 7.2816e+09, 8.8998e+10, 1.6363e+11, 1.9093e+10,\n",
      "        6.8934e+10, 5.6191e+11, 7.5847e+09, 1.9973e+10, 5.2211e+11, 8.8271e+10,\n",
      "        1.2971e+10, 1.9698e+10, 3.9060e+08, 3.9014e+10, 4.4681e+11, 3.7770e+09,\n",
      "        3.9817e+10, 3.3953e+11, 2.4948e+10, 4.3456e+12, 4.6296e+10, 4.0229e+10,\n",
      "        1.2934e+09, 3.4156e+09, 2.5013e+09, 1.7495e+10, 3.4718e+10, 1.5391e+13,\n",
      "        1.9365e+08, 1.3045e+09, 2.9658e+12, 5.4389e+11, 2.8108e+09, 2.0269e+10,\n",
      "        8.0076e+10, 1.7195e+11, 1.4823e+11, 3.5818e+10, 2.8576e+10, 1.0846e+11,\n",
      "        6.4190e+10, 3.2276e+08, 8.6701e+09, 2.6202e+10, 6.4479e+08, 2.2563e+08,\n",
      "        3.6957e+11, 1.0050e+11, 7.9194e+10, 6.9594e+11, 2.2281e+11, 3.2950e+11,\n",
      "        4.1130e+10, 9.4052e+10, 3.1942e+09, 2.9823e+11, 2.8188e+11, 8.7717e+11,\n",
      "        1.4837e+09, 3.0981e+10, 1.7296e+11, 1.9162e+11, 2.2435e+10, 6.3628e+09,\n",
      "        1.1839e+10, 1.0913e+12, 1.9485e+13, 2.2391e+09, 3.6401e+10, 1.8189e+12,\n",
      "        3.2496e+12, 7.9901e+09, 1.0382e+11, 6.3187e+11, 4.5969e+10, 2.3427e+09,\n",
      "        3.1852e+10, 1.2541e+11, 8.3936e+10], device='cuda:0')----------\n",
      "Epoch [33/50]: Train loss: nan, Valid loss: nan\n"
     ]
    },
    {
     "name": "stderr",
     "output_type": "stream",
     "text": [
      "\r",
      "  0%|                                                                                              | 0/1 [00:00<?, ?it/s]"
     ]
    },
    {
     "name": "stdout",
     "output_type": "stream",
     "text": [
      "-------predict: tensor([nan, nan, nan, nan, nan, nan, nan, nan, nan, nan, nan, nan, nan, nan, nan, nan, nan, nan, nan, nan, nan, nan, nan, nan,\n",
      "        nan, nan, nan, nan, nan, nan, nan, nan, nan, nan, nan, nan, nan, nan, nan, nan, nan, nan, nan, nan, nan, nan, nan, nan,\n",
      "        nan, nan, nan, nan, nan, nan, nan, nan, nan, nan, nan, nan, nan, nan, nan, nan, nan, nan, nan, nan, nan, nan, nan, nan,\n",
      "        nan, nan, nan, nan, nan, nan, nan, nan, nan, nan, nan, nan, nan, nan, nan, nan, nan, nan, nan, nan, nan, nan, nan, nan,\n",
      "        nan, nan, nan, nan, nan, nan, nan, nan, nan, nan, nan, nan, nan, nan, nan, nan, nan, nan, nan, nan, nan, nan, nan, nan,\n",
      "        nan, nan, nan, nan, nan, nan, nan, nan, nan, nan, nan, nan, nan, nan, nan, nan, nan, nan, nan, nan, nan],\n",
      "       device='cuda:0', grad_fn=<SqueezeBackward1>), y: tensor([1.9093e+10, 1.9485e+13, 3.6957e+11, 1.9973e+10, 7.4202e+08, 6.5482e+09,\n",
      "        3.5818e+10, 1.8189e+12, 6.3187e+11, 6.4190e+10, 3.9817e+10, 1.6399e+11,\n",
      "        8.5587e+09, 8.8271e+10, 1.1839e+10, 5.3334e+12, 8.0076e+10, 3.2496e+12,\n",
      "        1.7296e+11, 3.1852e+10, 2.8694e+10, 6.8934e+10, 2.6202e+10, 8.8802e+08,\n",
      "        9.5968e+12, 7.1208e+10, 2.5433e+08, 4.5969e+10, 5.3028e+09, 2.9850e+11,\n",
      "        3.2950e+11, 3.4718e+10, 3.6401e+10, 2.8108e+09, 1.9830e+11, 2.0730e+10,\n",
      "        1.9162e+11, 1.3765e+11, 2.8576e+10, 1.2998e+11, 2.8188e+11, 5.2814e+11,\n",
      "        3.0953e+10, 1.9918e+11, 7.1824e+10, 1.9976e+11, 1.2971e+10, 3.0981e+10,\n",
      "        1.2934e+09, 4.5585e+11, 6.4479e+08, 2.8331e+10, 1.4837e+09, 3.5691e+09,\n",
      "        3.2814e+11, 7.9194e+10, 2.2391e+09, 1.7495e+10, 4.1572e+09, 3.2276e+08,\n",
      "        2.9823e+11, 2.4948e+10, 8.3936e+10, 3.7770e+09, 1.6363e+11, 1.0382e+11,\n",
      "        8.8998e+10, 4.4681e+11, 2.9658e+12, 1.4823e+11, 6.9594e+11, 2.5013e+09,\n",
      "        3.3869e+10, 2.1225e+09, 7.5847e+09, 5.4389e+11, 2.0269e+10, 1.2056e+10,\n",
      "        1.0846e+11, 3.9060e+08, 1.7751e+12, 2.2200e+10, 3.1942e+09, 1.2980e+11,\n",
      "        1.1565e+10, 5.4804e+10, 5.2211e+11, 1.3045e+09, 9.4052e+10, 7.9901e+09,\n",
      "        2.3427e+09, 6.0819e+09, 8.6701e+09, 1.9365e+08, 4.6296e+10, 1.0050e+11,\n",
      "        5.6191e+11, 1.5849e+09, 6.3628e+09, 1.0913e+12, 1.9305e+11, 2.1880e+10,\n",
      "        9.5837e+10, 6.4818e+11, 3.4156e+09, 7.2816e+09, 3.3894e+09, 4.3326e+10,\n",
      "        1.7195e+11, 5.1170e+10, 3.9014e+10, 2.2281e+11, 7.8158e+10, 3.7093e+10,\n",
      "        4.0229e+10, 2.2563e+08, 2.2435e+10, 3.6682e+10, 6.4303e+10, 4.7784e+11,\n",
      "        3.9848e+10, 4.3456e+12, 1.2541e+11, 3.3953e+11, 6.7588e+09, 2.3995e+09,\n",
      "        2.8564e+10, 4.8270e+10, 3.1713e+09, 9.3700e+09, 2.5441e+10, 7.0220e+10,\n",
      "        8.3723e+10, 3.9794e+10, 8.7717e+11, 1.9698e+10, 1.6342e+09, 4.1130e+10,\n",
      "        1.1324e+12, 1.5391e+13, 3.7192e+10], device='cuda:0')----------\n"
     ]
    },
    {
     "name": "stderr",
     "output_type": "stream",
     "text": [
      "Epoch [34/50]: 100%|█████████████████████████████████████████████████████████████| 1/1 [00:00<00:00, 60.41it/s, loss=nan]\n"
     ]
    },
    {
     "name": "stdout",
     "output_type": "stream",
     "text": [
      "Epoch [34/50]: Train loss: nan, Valid loss: nan\n"
     ]
    },
    {
     "name": "stderr",
     "output_type": "stream",
     "text": [
      "\r",
      "  0%|                                                                                              | 0/1 [00:00<?, ?it/s]"
     ]
    },
    {
     "name": "stdout",
     "output_type": "stream",
     "text": [
      "-------predict: tensor([nan, nan, nan, nan, nan, nan, nan, nan, nan, nan, nan, nan, nan, nan, nan, nan, nan, nan, nan, nan, nan, nan, nan, nan,\n",
      "        nan, nan, nan, nan, nan, nan, nan, nan, nan, nan, nan, nan, nan, nan, nan, nan, nan, nan, nan, nan, nan, nan, nan, nan,\n",
      "        nan, nan, nan, nan, nan, nan, nan, nan, nan, nan, nan, nan, nan, nan, nan, nan, nan, nan, nan, nan, nan, nan, nan, nan,\n",
      "        nan, nan, nan, nan, nan, nan, nan, nan, nan, nan, nan, nan, nan, nan, nan, nan, nan, nan, nan, nan, nan, nan, nan, nan,\n",
      "        nan, nan, nan, nan, nan, nan, nan, nan, nan, nan, nan, nan, nan, nan, nan, nan, nan, nan, nan, nan, nan, nan, nan, nan,\n",
      "        nan, nan, nan, nan, nan, nan, nan, nan, nan, nan, nan, nan, nan, nan, nan, nan, nan, nan, nan, nan, nan],\n",
      "       device='cuda:0', grad_fn=<SqueezeBackward1>), y: tensor([1.5849e+09, 7.4202e+08, 7.8158e+10, 1.9973e+10, 2.0730e+10, 6.4479e+08,\n",
      "        3.9014e+10, 3.2814e+11, 6.8934e+10, 1.4823e+11, 6.4303e+10, 8.8802e+08,\n",
      "        6.4818e+11, 4.0229e+10, 1.9698e+10, 2.8188e+11, 8.7717e+11, 2.8576e+10,\n",
      "        3.9848e+10, 5.6191e+11, 1.5391e+13, 2.5433e+08, 8.5587e+09, 3.7093e+10,\n",
      "        3.4156e+09, 2.9658e+12, 5.3028e+09, 1.4837e+09, 2.9823e+11, 2.5441e+10,\n",
      "        3.0953e+10, 2.8331e+10, 3.2496e+12, 3.5691e+09, 5.4389e+11, 8.3936e+10,\n",
      "        6.3628e+09, 1.1839e+10, 2.2281e+11, 5.2814e+11, 2.1880e+10, 2.3995e+09,\n",
      "        5.4804e+10, 4.7784e+11, 8.8998e+10, 2.5013e+09, 5.1170e+10, 3.6682e+10,\n",
      "        2.8108e+09, 9.3700e+09, 7.5847e+09, 9.4052e+10, 3.3894e+09, 9.5968e+12,\n",
      "        2.4948e+10, 3.1852e+10, 8.8271e+10, 7.9194e+10, 1.6342e+09, 7.1824e+10,\n",
      "        1.0913e+12, 1.7495e+10, 4.1130e+10, 3.6957e+11, 1.2980e+11, 5.2211e+11,\n",
      "        8.6701e+09, 8.3723e+10, 7.2816e+09, 3.7770e+09, 1.9485e+13, 1.2998e+11,\n",
      "        1.0050e+11, 6.7588e+09, 2.3427e+09, 4.6296e+10, 3.2950e+11, 2.2391e+09,\n",
      "        1.6399e+11, 1.2056e+10, 1.7195e+11, 2.0269e+10, 3.1942e+09, 2.2435e+10,\n",
      "        8.0076e+10, 9.5837e+10, 3.6401e+10, 1.7296e+11, 4.3456e+12, 1.6363e+11,\n",
      "        3.3869e+10, 6.0819e+09, 1.7751e+12, 4.5585e+11, 3.9817e+10, 3.4718e+10,\n",
      "        1.8189e+12, 1.3765e+11, 1.1565e+10, 1.0846e+11, 1.9093e+10, 3.0981e+10,\n",
      "        3.9060e+08, 6.5482e+09, 7.0220e+10, 6.4190e+10, 1.0382e+11, 1.3045e+09,\n",
      "        1.2934e+09, 2.1225e+09, 1.9918e+11, 6.9594e+11, 2.2563e+08, 4.5969e+10,\n",
      "        3.7192e+10, 5.3334e+12, 2.6202e+10, 3.2276e+08, 6.3187e+11, 3.1713e+09,\n",
      "        3.3953e+11, 3.9794e+10, 2.8694e+10, 1.2971e+10, 4.4681e+11, 2.9850e+11,\n",
      "        4.8270e+10, 2.2200e+10, 1.9305e+11, 7.9901e+09, 1.9830e+11, 4.1572e+09,\n",
      "        1.9162e+11, 1.9976e+11, 1.1324e+12, 1.2541e+11, 3.5818e+10, 7.1208e+10,\n",
      "        1.9365e+08, 4.3326e+10, 2.8564e+10], device='cuda:0')----------\n"
     ]
    },
    {
     "name": "stderr",
     "output_type": "stream",
     "text": [
      "Epoch [35/50]: 100%|█████████████████████████████████████████████████████████████| 1/1 [00:00<00:00, 62.50it/s, loss=nan]\n"
     ]
    },
    {
     "name": "stdout",
     "output_type": "stream",
     "text": [
      "Epoch [35/50]: Train loss: nan, Valid loss: nan\n"
     ]
    },
    {
     "name": "stderr",
     "output_type": "stream",
     "text": [
      "Epoch [36/50]:   0%|                                                                               | 0/1 [00:00<?, ?it/s]"
     ]
    },
    {
     "name": "stdout",
     "output_type": "stream",
     "text": [
      "-------predict: tensor([nan, nan, nan, nan, nan, nan, nan, nan, nan, nan, nan, nan, nan, nan, nan, nan, nan, nan, nan, nan, nan, nan, nan, nan,\n",
      "        nan, nan, nan, nan, nan, nan, nan, nan, nan, nan, nan, nan, nan, nan, nan, nan, nan, nan, nan, nan, nan, nan, nan, nan,\n",
      "        nan, nan, nan, nan, nan, nan, nan, nan, nan, nan, nan, nan, nan, nan, nan, nan, nan, nan, nan, nan, nan, nan, nan, nan,\n",
      "        nan, nan, nan, nan, nan, nan, nan, nan, nan, nan, nan, nan, nan, nan, nan, nan, nan, nan, nan, nan, nan, nan, nan, nan,\n",
      "        nan, nan, nan, nan, nan, nan, nan, nan, nan, nan, nan, nan, nan, nan, nan, nan, nan, nan, nan, nan, nan, nan, nan, nan,\n",
      "        nan, nan, nan, nan, nan, nan, nan, nan, nan, nan, nan, nan, nan, nan, nan, nan, nan, nan, nan, nan, nan],\n",
      "       device='cuda:0', grad_fn=<SqueezeBackward1>), y: tensor([3.4718e+10, 3.2276e+08, 1.0382e+11, 1.1839e+10, 7.8158e+10, 3.1852e+10,\n",
      "        5.3334e+12, 3.5691e+09, 1.9918e+11, 2.5433e+08, 2.9823e+11, 6.9594e+11,\n",
      "        1.7751e+12, 1.6363e+11, 2.5441e+10, 2.3995e+09, 4.8270e+10, 1.2971e+10,\n",
      "        3.3869e+10, 6.4303e+10, 8.0076e+10, 1.7495e+10, 3.2950e+11, 8.8998e+10,\n",
      "        4.1130e+10, 9.4052e+10, 8.8271e+10, 5.1170e+10, 6.5482e+09, 4.6296e+10,\n",
      "        1.3045e+09, 1.3765e+11, 3.7770e+09, 3.3894e+09, 3.9848e+10, 2.2435e+10,\n",
      "        7.9194e+10, 5.4389e+11, 2.8188e+11, 1.2056e+10, 2.4948e+10, 1.9830e+11,\n",
      "        1.9162e+11, 8.7717e+11, 1.7195e+11, 2.2563e+08, 1.8189e+12, 2.1880e+10,\n",
      "        2.3427e+09, 1.9698e+10, 9.5968e+12, 1.6342e+09, 2.0269e+10, 4.5969e+10,\n",
      "        2.2200e+10, 2.9850e+11, 7.4202e+08, 3.7192e+10, 1.1565e+10, 8.3723e+10,\n",
      "        1.6399e+11, 9.3700e+09, 2.2391e+09, 1.2980e+11, 3.6682e+10, 3.0953e+10,\n",
      "        2.8108e+09, 2.8576e+10, 3.6957e+11, 2.0730e+10, 7.2816e+09, 4.3326e+10,\n",
      "        6.4479e+08, 2.8694e+10, 4.0229e+10, 5.2211e+11, 1.1324e+12, 2.8331e+10,\n",
      "        3.7093e+10, 3.9014e+10, 4.3456e+12, 1.0846e+11, 4.4681e+11, 3.9060e+08,\n",
      "        8.3936e+10, 8.6701e+09, 1.9365e+08, 1.4837e+09, 4.1572e+09, 3.3953e+11,\n",
      "        4.5585e+11, 3.9817e+10, 8.8802e+08, 7.1824e+10, 1.9973e+10, 6.3628e+09,\n",
      "        2.8564e+10, 1.9093e+10, 2.2281e+11, 6.7588e+09, 1.0050e+11, 3.2496e+12,\n",
      "        1.4823e+11, 5.3028e+09, 1.7296e+11, 7.1208e+10, 5.4804e+10, 4.7784e+11,\n",
      "        1.2998e+11, 9.5837e+10, 2.5013e+09, 1.9976e+11, 1.5849e+09, 6.0819e+09,\n",
      "        3.6401e+10, 1.9485e+13, 1.0913e+12, 6.4190e+10, 3.0981e+10, 5.6191e+11,\n",
      "        5.2814e+11, 7.9901e+09, 6.8934e+10, 1.9305e+11, 7.5847e+09, 7.0220e+10,\n",
      "        2.9658e+12, 3.1713e+09, 6.3187e+11, 1.2934e+09, 3.1942e+09, 3.2814e+11,\n",
      "        1.5391e+13, 6.4818e+11, 3.5818e+10, 2.6202e+10, 2.1225e+09, 1.2541e+11,\n",
      "        8.5587e+09, 3.4156e+09, 3.9794e+10], device='cuda:0')----------\n"
     ]
    },
    {
     "name": "stderr",
     "output_type": "stream",
     "text": [
      "Epoch [36/50]: 100%|█████████████████████████████████████████████████████████████| 1/1 [00:00<00:00, 62.47it/s, loss=nan]\n"
     ]
    },
    {
     "name": "stdout",
     "output_type": "stream",
     "text": [
      "Epoch [36/50]: Train loss: nan, Valid loss: nan\n"
     ]
    },
    {
     "name": "stderr",
     "output_type": "stream",
     "text": [
      "Epoch [37/50]:   0%|                                                                     | 0/1 [00:00<?, ?it/s, loss=nan]"
     ]
    },
    {
     "name": "stdout",
     "output_type": "stream",
     "text": [
      "-------predict: tensor([nan, nan, nan, nan, nan, nan, nan, nan, nan, nan, nan, nan, nan, nan, nan, nan, nan, nan, nan, nan, nan, nan, nan, nan,\n",
      "        nan, nan, nan, nan, nan, nan, nan, nan, nan, nan, nan, nan, nan, nan, nan, nan, nan, nan, nan, nan, nan, nan, nan, nan,\n",
      "        nan, nan, nan, nan, nan, nan, nan, nan, nan, nan, nan, nan, nan, nan, nan, nan, nan, nan, nan, nan, nan, nan, nan, nan,\n",
      "        nan, nan, nan, nan, nan, nan, nan, nan, nan, nan, nan, nan, nan, nan, nan, nan, nan, nan, nan, nan, nan, nan, nan, nan,\n",
      "        nan, nan, nan, nan, nan, nan, nan, nan, nan, nan, nan, nan, nan, nan, nan, nan, nan, nan, nan, nan, nan, nan, nan, nan,\n",
      "        nan, nan, nan, nan, nan, nan, nan, nan, nan, nan, nan, nan, nan, nan, nan, nan, nan, nan, nan, nan, nan],\n",
      "       device='cuda:0', grad_fn=<SqueezeBackward1>), y: tensor([1.4837e+09, 6.0819e+09, 3.2814e+11, 1.6342e+09, 3.5691e+09, 1.6363e+11,\n",
      "        8.6701e+09, 6.7588e+09, 7.9901e+09, 3.1713e+09, 4.8270e+10, 1.9365e+08,\n",
      "        3.7770e+09, 3.5818e+10, 1.0913e+12, 1.0846e+11, 5.2814e+11, 1.4823e+11,\n",
      "        5.1170e+10, 1.9973e+10, 2.0730e+10, 3.6401e+10, 4.3326e+10, 9.5968e+12,\n",
      "        3.9014e+10, 6.4818e+11, 1.8189e+12, 6.5482e+09, 6.3187e+11, 2.5013e+09,\n",
      "        1.9698e+10, 1.2998e+11, 4.5585e+11, 8.8271e+10, 1.7296e+11, 2.9823e+11,\n",
      "        2.6202e+10, 3.3869e+10, 5.3334e+12, 3.7192e+10, 7.2816e+09, 4.0229e+10,\n",
      "        2.1225e+09, 6.4190e+10, 1.5849e+09, 2.5433e+08, 3.4156e+09, 7.5847e+09,\n",
      "        3.9817e+10, 1.9485e+13, 9.3700e+09, 2.2200e+10, 1.9093e+10, 8.7717e+11,\n",
      "        2.3427e+09, 2.8564e+10, 8.3936e+10, 1.0050e+11, 1.7751e+12, 1.7495e+10,\n",
      "        1.2971e+10, 1.2934e+09, 1.5391e+13, 6.3628e+09, 3.9848e+10, 3.9794e+10,\n",
      "        6.4303e+10, 1.9830e+11, 1.3045e+09, 1.1565e+10, 3.6682e+10, 5.4389e+11,\n",
      "        2.8108e+09, 8.5587e+09, 1.2541e+11, 7.4202e+08, 8.8998e+10, 8.0076e+10,\n",
      "        4.5969e+10, 1.1839e+10, 2.8331e+10, 1.9918e+11, 3.2276e+08, 3.7093e+10,\n",
      "        8.8802e+08, 3.4718e+10, 2.9850e+11, 3.3953e+11, 4.6296e+10, 7.9194e+10,\n",
      "        1.6399e+11, 9.5837e+10, 2.0269e+10, 2.8188e+11, 3.0953e+10, 5.4804e+10,\n",
      "        1.3765e+11, 4.4681e+11, 2.3995e+09, 3.1852e+10, 1.9976e+11, 7.1208e+10,\n",
      "        7.1824e+10, 1.0382e+11, 3.0981e+10, 2.2563e+08, 4.3456e+12, 2.8694e+10,\n",
      "        1.2980e+11, 2.8576e+10, 4.1572e+09, 6.9594e+11, 3.2950e+11, 1.2056e+10,\n",
      "        2.5441e+10, 3.2496e+12, 3.1942e+09, 5.3028e+09, 4.1130e+10, 3.9060e+08,\n",
      "        1.7195e+11, 5.2211e+11, 3.6957e+11, 5.6191e+11, 2.1880e+10, 2.9658e+12,\n",
      "        1.9162e+11, 7.8158e+10, 6.4479e+08, 6.8934e+10, 9.4052e+10, 2.2435e+10,\n",
      "        2.2281e+11, 7.0220e+10, 2.2391e+09, 8.3723e+10, 4.7784e+11, 1.9305e+11,\n",
      "        2.4948e+10, 1.1324e+12, 3.3894e+09], device='cuda:0')----------\n"
     ]
    },
    {
     "name": "stderr",
     "output_type": "stream",
     "text": [
      "Epoch [37/50]: 100%|█████████████████████████████████████████████████████████████| 1/1 [00:00<00:00, 64.36it/s, loss=nan]\n"
     ]
    },
    {
     "name": "stdout",
     "output_type": "stream",
     "text": [
      "Epoch [37/50]: Train loss: nan, Valid loss: nan\n"
     ]
    },
    {
     "name": "stderr",
     "output_type": "stream",
     "text": [
      "Epoch [38/50]: 100%|█████████████████████████████████████████████████████████████| 1/1 [00:00<00:00, 64.46it/s, loss=nan]"
     ]
    },
    {
     "name": "stdout",
     "output_type": "stream",
     "text": [
      "-------predict: tensor([nan, nan, nan, nan, nan, nan, nan, nan, nan, nan, nan, nan, nan, nan, nan, nan, nan, nan, nan, nan, nan, nan, nan, nan,\n",
      "        nan, nan, nan, nan, nan, nan, nan, nan, nan, nan, nan, nan, nan, nan, nan, nan, nan, nan, nan, nan, nan, nan, nan, nan,\n",
      "        nan, nan, nan, nan, nan, nan, nan, nan, nan, nan, nan, nan, nan, nan, nan, nan, nan, nan, nan, nan, nan, nan, nan, nan,\n",
      "        nan, nan, nan, nan, nan, nan, nan, nan, nan, nan, nan, nan, nan, nan, nan, nan, nan, nan, nan, nan, nan, nan, nan, nan,\n",
      "        nan, nan, nan, nan, nan, nan, nan, nan, nan, nan, nan, nan, nan, nan, nan, nan, nan, nan, nan, nan, nan, nan, nan, nan,\n",
      "        nan, nan, nan, nan, nan, nan, nan, nan, nan, nan, nan, nan, nan, nan, nan, nan, nan, nan, nan, nan, nan],\n",
      "       device='cuda:0', grad_fn=<SqueezeBackward1>), y: tensor([3.1713e+09, 1.2934e+09, 6.4303e+10, 4.4681e+11, 2.9850e+11, 2.2281e+11,\n",
      "        6.4479e+08, 2.8331e+10, 2.9823e+11, 7.2816e+09, 2.8694e+10, 3.9848e+10,\n",
      "        5.2211e+11, 7.0220e+10, 8.8998e+10, 2.5013e+09, 3.4156e+09, 1.6399e+11,\n",
      "        1.0913e+12, 3.0953e+10, 2.0730e+10, 1.9365e+08, 2.5433e+08, 9.5837e+10,\n",
      "        6.3628e+09, 7.4202e+08, 5.4389e+11, 2.5441e+10, 3.2276e+08, 1.2541e+11,\n",
      "        8.3723e+10, 1.5849e+09, 3.6401e+10, 6.7588e+09, 1.1565e+10, 7.9901e+09,\n",
      "        2.3427e+09, 3.3869e+10, 3.9817e+10, 3.5691e+09, 2.8108e+09, 3.9794e+10,\n",
      "        2.2563e+08, 4.1572e+09, 1.9976e+11, 1.3045e+09, 3.1942e+09, 1.6342e+09,\n",
      "        1.4837e+09, 5.3334e+12, 3.1852e+10, 4.3456e+12, 1.8189e+12, 1.9162e+11,\n",
      "        2.8188e+11, 3.9060e+08, 5.4804e+10, 5.1170e+10, 1.9485e+13, 3.2496e+12,\n",
      "        8.0076e+10, 4.3326e+10, 1.9093e+10, 1.2998e+11, 6.4818e+11, 2.3995e+09,\n",
      "        3.4718e+10, 5.3028e+09, 1.4823e+11, 6.5482e+09, 1.7195e+11, 2.6202e+10,\n",
      "        3.2950e+11, 8.7717e+11, 3.2814e+11, 2.1880e+10, 3.6682e+10, 5.6191e+11,\n",
      "        1.9918e+11, 4.5585e+11, 8.5587e+09, 1.9305e+11, 9.3700e+09, 8.3936e+10,\n",
      "        4.1130e+10, 1.7495e+10, 1.2980e+11, 3.7093e+10, 1.3765e+11, 6.0819e+09,\n",
      "        1.5391e+13, 6.3187e+11, 7.1208e+10, 2.2200e+10, 8.8802e+08, 2.2435e+10,\n",
      "        6.8934e+10, 7.1824e+10, 6.9594e+11, 3.3894e+09, 1.2971e+10, 3.6957e+11,\n",
      "        3.0981e+10, 1.6363e+11, 1.0050e+11, 8.6701e+09, 6.4190e+10, 2.2391e+09,\n",
      "        1.0846e+11, 7.8158e+10, 4.8270e+10, 8.8271e+10, 4.7784e+11, 2.1225e+09,\n",
      "        3.9014e+10, 1.2056e+10, 1.1839e+10, 7.5847e+09, 1.0382e+11, 7.9194e+10,\n",
      "        2.0269e+10, 3.7770e+09, 2.8576e+10, 1.1324e+12, 3.3953e+11, 9.4052e+10,\n",
      "        9.5968e+12, 2.4948e+10, 4.0229e+10, 1.7296e+11, 1.7751e+12, 2.8564e+10,\n",
      "        4.5969e+10, 1.9830e+11, 2.9658e+12, 3.7192e+10, 3.5818e+10, 5.2814e+11,\n",
      "        1.9698e+10, 4.6296e+10, 1.9973e+10], device='cuda:0')----------\n"
     ]
    },
    {
     "name": "stderr",
     "output_type": "stream",
     "text": [
      "\n"
     ]
    },
    {
     "name": "stdout",
     "output_type": "stream",
     "text": [
      "Epoch [38/50]: Train loss: nan, Valid loss: nan\n"
     ]
    },
    {
     "name": "stderr",
     "output_type": "stream",
     "text": [
      "Epoch [39/50]: 100%|█████████████████████████████████████████████████████████████| 1/1 [00:00<00:00, 71.43it/s, loss=nan]"
     ]
    },
    {
     "name": "stdout",
     "output_type": "stream",
     "text": [
      "-------predict: tensor([nan, nan, nan, nan, nan, nan, nan, nan, nan, nan, nan, nan, nan, nan, nan, nan, nan, nan, nan, nan, nan, nan, nan, nan,\n",
      "        nan, nan, nan, nan, nan, nan, nan, nan, nan, nan, nan, nan, nan, nan, nan, nan, nan, nan, nan, nan, nan, nan, nan, nan,\n",
      "        nan, nan, nan, nan, nan, nan, nan, nan, nan, nan, nan, nan, nan, nan, nan, nan, nan, nan, nan, nan, nan, nan, nan, nan,\n",
      "        nan, nan, nan, nan, nan, nan, nan, nan, nan, nan, nan, nan, nan, nan, nan, nan, nan, nan, nan, nan, nan, nan, nan, nan,\n",
      "        nan, nan, nan, nan, nan, nan, nan, nan, nan, nan, nan, nan, nan, nan, nan, nan, nan, nan, nan, nan, nan, nan, nan, nan,\n",
      "        nan, nan, nan, nan, nan, nan, nan, nan, nan, nan, nan, nan, nan, nan, nan, nan, nan, nan, nan, nan, nan],\n",
      "       device='cuda:0', grad_fn=<SqueezeBackward1>), y: tensor([1.1324e+12, 3.9817e+10, 2.2435e+10, 6.4190e+10, 1.2056e+10, 3.3894e+09,\n",
      "        9.5968e+12, 1.2980e+11, 1.9485e+13, 7.4202e+08, 3.1713e+09, 3.6957e+11,\n",
      "        3.9848e+10, 1.6399e+11, 3.6682e+10, 4.3326e+10, 1.0913e+12, 1.2541e+11,\n",
      "        3.2276e+08, 3.1852e+10, 4.5969e+10, 6.7588e+09, 4.8270e+10, 1.7751e+12,\n",
      "        4.7784e+11, 5.4804e+10, 8.8998e+10, 6.8934e+10, 3.2496e+12, 2.5433e+08,\n",
      "        2.3427e+09, 8.5587e+09, 9.5837e+10, 2.8108e+09, 1.9976e+11, 3.2814e+11,\n",
      "        1.7296e+11, 2.2281e+11, 3.4718e+10, 3.3869e+10, 5.6191e+11, 1.9093e+10,\n",
      "        2.4948e+10, 2.8694e+10, 7.1208e+10, 1.8189e+12, 3.7192e+10, 6.9594e+11,\n",
      "        1.2971e+10, 8.3936e+10, 3.5691e+09, 6.3628e+09, 1.1839e+10, 7.1824e+10,\n",
      "        1.7195e+11, 1.6363e+11, 7.5847e+09, 4.3456e+12, 1.2998e+11, 4.1572e+09,\n",
      "        1.1565e+10, 1.7495e+10, 1.9918e+11, 2.5441e+10, 3.2950e+11, 8.0076e+10,\n",
      "        2.2391e+09, 8.7717e+11, 7.9901e+09, 1.3765e+11, 5.2814e+11, 2.8564e+10,\n",
      "        2.2200e+10, 1.6342e+09, 3.1942e+09, 3.6401e+10, 7.2816e+09, 4.0229e+10,\n",
      "        3.4156e+09, 2.9658e+12, 4.5585e+11, 6.0819e+09, 5.2211e+11, 2.0269e+10,\n",
      "        2.0730e+10, 6.4479e+08, 8.3723e+10, 8.8271e+10, 8.6701e+09, 2.9850e+11,\n",
      "        1.9830e+11, 5.1170e+10, 3.0981e+10, 8.8802e+08, 3.3953e+11, 4.4681e+11,\n",
      "        1.4823e+11, 3.0953e+10, 1.9973e+10, 7.8158e+10, 2.3995e+09, 6.4303e+10,\n",
      "        2.6202e+10, 1.0846e+11, 1.9162e+11, 1.9698e+10, 2.8331e+10, 3.9060e+08,\n",
      "        3.9014e+10, 9.3700e+09, 1.5391e+13, 9.4052e+10, 2.5013e+09, 3.7770e+09,\n",
      "        3.7093e+10, 2.1880e+10, 1.4837e+09, 3.5818e+10, 1.2934e+09, 1.5849e+09,\n",
      "        3.9794e+10, 5.3028e+09, 1.0382e+11, 2.8576e+10, 7.9194e+10, 2.1225e+09,\n",
      "        7.0220e+10, 5.4389e+11, 1.9365e+08, 1.3045e+09, 2.8188e+11, 2.2563e+08,\n",
      "        1.9305e+11, 5.3334e+12, 1.0050e+11, 4.1130e+10, 6.4818e+11, 2.9823e+11,\n",
      "        4.6296e+10, 6.3187e+11, 6.5482e+09], device='cuda:0')----------\n"
     ]
    },
    {
     "name": "stderr",
     "output_type": "stream",
     "text": [
      "\n"
     ]
    },
    {
     "name": "stdout",
     "output_type": "stream",
     "text": [
      "Epoch [39/50]: Train loss: nan, Valid loss: nan\n"
     ]
    },
    {
     "name": "stderr",
     "output_type": "stream",
     "text": [
      "Epoch [40/50]: 100%|█████████████████████████████████████████████████████████████| 1/1 [00:00<00:00, 66.04it/s, loss=nan]"
     ]
    },
    {
     "name": "stdout",
     "output_type": "stream",
     "text": [
      "-------predict: tensor([nan, nan, nan, nan, nan, nan, nan, nan, nan, nan, nan, nan, nan, nan, nan, nan, nan, nan, nan, nan, nan, nan, nan, nan,\n",
      "        nan, nan, nan, nan, nan, nan, nan, nan, nan, nan, nan, nan, nan, nan, nan, nan, nan, nan, nan, nan, nan, nan, nan, nan,\n",
      "        nan, nan, nan, nan, nan, nan, nan, nan, nan, nan, nan, nan, nan, nan, nan, nan, nan, nan, nan, nan, nan, nan, nan, nan,\n",
      "        nan, nan, nan, nan, nan, nan, nan, nan, nan, nan, nan, nan, nan, nan, nan, nan, nan, nan, nan, nan, nan, nan, nan, nan,\n",
      "        nan, nan, nan, nan, nan, nan, nan, nan, nan, nan, nan, nan, nan, nan, nan, nan, nan, nan, nan, nan, nan, nan, nan, nan,\n",
      "        nan, nan, nan, nan, nan, nan, nan, nan, nan, nan, nan, nan, nan, nan, nan, nan, nan, nan, nan, nan, nan],\n",
      "       device='cuda:0', grad_fn=<SqueezeBackward1>), y: tensor([1.4823e+11, 4.3456e+12, 8.3936e+10, 1.2934e+09, 3.7093e+10, 6.4479e+08,\n",
      "        3.3953e+11, 5.2211e+11, 5.3028e+09, 1.9976e+11, 2.2391e+09, 3.5691e+09,\n",
      "        7.9901e+09, 1.0846e+11, 1.5391e+13, 2.5433e+08, 3.1942e+09, 1.9093e+10,\n",
      "        8.5587e+09, 6.4818e+11, 2.9823e+11, 2.5441e+10, 3.6957e+11, 6.3628e+09,\n",
      "        3.1713e+09, 1.7296e+11, 4.3326e+10, 2.5013e+09, 8.8271e+10, 7.5847e+09,\n",
      "        3.9794e+10, 7.4202e+08, 5.2814e+11, 2.1225e+09, 1.4837e+09, 3.2814e+11,\n",
      "        1.5849e+09, 1.9305e+11, 3.9014e+10, 1.3765e+11, 1.7751e+12, 3.5818e+10,\n",
      "        1.2980e+11, 3.7192e+10, 6.5482e+09, 2.8331e+10, 7.1824e+10, 1.8189e+12,\n",
      "        5.3334e+12, 2.2281e+11, 1.9973e+10, 1.9365e+08, 1.2971e+10, 9.3700e+09,\n",
      "        2.8188e+11, 8.7717e+11, 1.2056e+10, 6.4190e+10, 7.8158e+10, 1.1565e+10,\n",
      "        1.6342e+09, 2.0269e+10, 8.3723e+10, 4.6296e+10, 1.2541e+11, 2.2200e+10,\n",
      "        4.1572e+09, 3.2950e+11, 5.1170e+10, 7.2816e+09, 3.3869e+10, 1.7495e+10,\n",
      "        6.4303e+10, 2.2435e+10, 1.0382e+11, 6.8934e+10, 4.0229e+10, 1.7195e+11,\n",
      "        2.1880e+10, 2.6202e+10, 1.3045e+09, 8.6701e+09, 9.5968e+12, 1.9698e+10,\n",
      "        1.9830e+11, 2.8576e+10, 2.2563e+08, 2.3995e+09, 2.9850e+11, 5.4804e+10,\n",
      "        1.1839e+10, 1.0050e+11, 9.4052e+10, 3.4718e+10, 6.3187e+11, 5.6191e+11,\n",
      "        2.3427e+09, 4.8270e+10, 5.4389e+11, 6.7588e+09, 6.9594e+11, 3.9060e+08,\n",
      "        4.1130e+10, 2.8564e+10, 2.8694e+10, 3.9848e+10, 2.0730e+10, 3.4156e+09,\n",
      "        3.2276e+08, 6.0819e+09, 4.5585e+11, 1.9162e+11, 1.9485e+13, 2.4948e+10,\n",
      "        8.0076e+10, 4.5969e+10, 4.4681e+11, 1.1324e+12, 3.6401e+10, 3.1852e+10,\n",
      "        1.9918e+11, 2.8108e+09, 3.0953e+10, 3.9817e+10, 1.6363e+11, 2.9658e+12,\n",
      "        4.7784e+11, 7.1208e+10, 3.0981e+10, 9.5837e+10, 7.0220e+10, 3.6682e+10,\n",
      "        3.2496e+12, 1.2998e+11, 7.9194e+10, 3.7770e+09, 8.8802e+08, 1.0913e+12,\n",
      "        3.3894e+09, 8.8998e+10, 1.6399e+11], device='cuda:0')----------\n"
     ]
    },
    {
     "name": "stderr",
     "output_type": "stream",
     "text": [
      "\n"
     ]
    },
    {
     "name": "stdout",
     "output_type": "stream",
     "text": [
      "Epoch [40/50]: Train loss: nan, Valid loss: nan\n"
     ]
    },
    {
     "name": "stderr",
     "output_type": "stream",
     "text": [
      "Epoch [41/50]: 100%|█████████████████████████████████████████████████████████████| 1/1 [00:00<00:00, 65.12it/s, loss=nan]"
     ]
    },
    {
     "name": "stdout",
     "output_type": "stream",
     "text": [
      "-------predict: tensor([nan, nan, nan, nan, nan, nan, nan, nan, nan, nan, nan, nan, nan, nan, nan, nan, nan, nan, nan, nan, nan, nan, nan, nan,\n",
      "        nan, nan, nan, nan, nan, nan, nan, nan, nan, nan, nan, nan, nan, nan, nan, nan, nan, nan, nan, nan, nan, nan, nan, nan,\n",
      "        nan, nan, nan, nan, nan, nan, nan, nan, nan, nan, nan, nan, nan, nan, nan, nan, nan, nan, nan, nan, nan, nan, nan, nan,\n",
      "        nan, nan, nan, nan, nan, nan, nan, nan, nan, nan, nan, nan, nan, nan, nan, nan, nan, nan, nan, nan, nan, nan, nan, nan,\n",
      "        nan, nan, nan, nan, nan, nan, nan, nan, nan, nan, nan, nan, nan, nan, nan, nan, nan, nan, nan, nan, nan, nan, nan, nan,\n",
      "        nan, nan, nan, nan, nan, nan, nan, nan, nan, nan, nan, nan, nan, nan, nan, nan, nan, nan, nan, nan, nan],\n",
      "       device='cuda:0', grad_fn=<SqueezeBackward1>), y: tensor([1.9162e+11, 3.7093e+10, 8.8271e+10, 1.0913e+12, 7.8158e+10, 2.5441e+10,\n",
      "        3.3894e+09, 1.9918e+11, 1.7195e+11, 6.8934e+10, 2.2563e+08, 3.0953e+10,\n",
      "        6.4190e+10, 2.5433e+08, 3.3869e+10, 2.1880e+10, 1.9485e+13, 1.3045e+09,\n",
      "        7.4202e+08, 2.8576e+10, 9.5837e+10, 3.5818e+10, 1.0382e+11, 3.1942e+09,\n",
      "        3.2814e+11, 1.7751e+12, 3.2276e+08, 2.3427e+09, 3.7192e+10, 8.7717e+11,\n",
      "        5.1170e+10, 2.8564e+10, 1.7296e+11, 1.1565e+10, 5.6191e+11, 4.8270e+10,\n",
      "        4.4681e+11, 1.7495e+10, 5.3028e+09, 6.3628e+09, 1.2934e+09, 4.5969e+10,\n",
      "        3.9848e+10, 2.8108e+09, 8.8802e+08, 3.6401e+10, 2.9850e+11, 3.4718e+10,\n",
      "        1.6363e+11, 1.9093e+10, 1.2541e+11, 7.9901e+09, 1.9976e+11, 3.1852e+10,\n",
      "        1.2971e+10, 2.0269e+10, 6.0819e+09, 7.0220e+10, 8.0076e+10, 1.8189e+12,\n",
      "        8.8998e+10, 5.2211e+11, 2.2435e+10, 1.6399e+11, 1.1839e+10, 2.8188e+11,\n",
      "        3.9060e+08, 2.9658e+12, 5.4389e+11, 1.9698e+10, 9.4052e+10, 2.4948e+10,\n",
      "        3.0981e+10, 6.7588e+09, 1.6342e+09, 3.6682e+10, 1.9830e+11, 1.9365e+08,\n",
      "        4.5585e+11, 3.6957e+11, 2.6202e+10, 3.9817e+10, 7.5847e+09, 4.7784e+11,\n",
      "        4.1572e+09, 8.6701e+09, 7.2816e+09, 3.1713e+09, 3.7770e+09, 6.4479e+08,\n",
      "        1.5849e+09, 7.9194e+10, 2.5013e+09, 2.2281e+11, 3.9794e+10, 2.8331e+10,\n",
      "        4.6296e+10, 9.3700e+09, 2.3995e+09, 2.9823e+11, 1.4823e+11, 1.2998e+11,\n",
      "        2.1225e+09, 3.5691e+09, 5.2814e+11, 6.3187e+11, 2.8694e+10, 1.9973e+10,\n",
      "        2.2200e+10, 1.5391e+13, 3.3953e+11, 2.2391e+09, 1.0050e+11, 4.0229e+10,\n",
      "        1.9305e+11, 4.1130e+10, 1.0846e+11, 5.3334e+12, 4.3456e+12, 6.4303e+10,\n",
      "        6.9594e+11, 7.1824e+10, 6.5482e+09, 1.1324e+12, 3.9014e+10, 1.3765e+11,\n",
      "        8.3936e+10, 1.2980e+11, 8.3723e+10, 1.2056e+10, 7.1208e+10, 3.4156e+09,\n",
      "        1.4837e+09, 9.5968e+12, 5.4804e+10, 3.2950e+11, 6.4818e+11, 4.3326e+10,\n",
      "        2.0730e+10, 8.5587e+09, 3.2496e+12], device='cuda:0')----------\n"
     ]
    },
    {
     "name": "stderr",
     "output_type": "stream",
     "text": [
      "\n"
     ]
    },
    {
     "name": "stdout",
     "output_type": "stream",
     "text": [
      "Epoch [41/50]: Train loss: nan, Valid loss: nan\n"
     ]
    },
    {
     "name": "stderr",
     "output_type": "stream",
     "text": [
      "Epoch [42/50]: 100%|█████████████████████████████████████████████████████████████| 1/1 [00:00<00:00, 64.14it/s, loss=nan]\n"
     ]
    },
    {
     "name": "stdout",
     "output_type": "stream",
     "text": [
      "-------predict: tensor([nan, nan, nan, nan, nan, nan, nan, nan, nan, nan, nan, nan, nan, nan, nan, nan, nan, nan, nan, nan, nan, nan, nan, nan,\n",
      "        nan, nan, nan, nan, nan, nan, nan, nan, nan, nan, nan, nan, nan, nan, nan, nan, nan, nan, nan, nan, nan, nan, nan, nan,\n",
      "        nan, nan, nan, nan, nan, nan, nan, nan, nan, nan, nan, nan, nan, nan, nan, nan, nan, nan, nan, nan, nan, nan, nan, nan,\n",
      "        nan, nan, nan, nan, nan, nan, nan, nan, nan, nan, nan, nan, nan, nan, nan, nan, nan, nan, nan, nan, nan, nan, nan, nan,\n",
      "        nan, nan, nan, nan, nan, nan, nan, nan, nan, nan, nan, nan, nan, nan, nan, nan, nan, nan, nan, nan, nan, nan, nan, nan,\n",
      "        nan, nan, nan, nan, nan, nan, nan, nan, nan, nan, nan, nan, nan, nan, nan, nan, nan, nan, nan, nan, nan],\n",
      "       device='cuda:0', grad_fn=<SqueezeBackward1>), y: tensor([1.5849e+09, 3.0981e+10, 7.0220e+10, 1.7296e+11, 2.8188e+11, 6.8934e+10,\n",
      "        3.2496e+12, 7.9901e+09, 3.5818e+10, 3.1713e+09, 2.8576e+10, 3.7770e+09,\n",
      "        1.9918e+11, 1.2056e+10, 5.6191e+11, 2.8331e+10, 7.4202e+08, 3.9794e+10,\n",
      "        6.4303e+10, 7.8158e+10, 3.9848e+10, 2.2281e+11, 3.2950e+11, 3.6957e+11,\n",
      "        8.7717e+11, 1.1324e+12, 1.1839e+10, 1.9305e+11, 1.3045e+09, 3.9060e+08,\n",
      "        2.8564e+10, 5.3028e+09, 4.6296e+10, 4.0229e+10, 1.9485e+13, 8.5587e+09,\n",
      "        6.4479e+08, 1.9976e+11, 4.1130e+10, 8.8271e+10, 2.9850e+11, 3.2276e+08,\n",
      "        8.3723e+10, 2.0269e+10, 3.2814e+11, 3.4718e+10, 1.2541e+11, 1.0913e+12,\n",
      "        4.5969e+10, 6.4190e+10, 6.7588e+09, 5.3334e+12, 3.1942e+09, 2.1225e+09,\n",
      "        2.5441e+10, 1.9365e+08, 5.4804e+10, 9.3700e+09, 4.3326e+10, 3.9014e+10,\n",
      "        4.7784e+11, 3.3953e+11, 1.5391e+13, 3.6401e+10, 2.8108e+09, 7.9194e+10,\n",
      "        1.7495e+10, 1.9093e+10, 2.4948e+10, 2.9823e+11, 1.4837e+09, 3.6682e+10,\n",
      "        2.8694e+10, 6.0819e+09, 9.5968e+12, 2.3995e+09, 7.1208e+10, 1.7751e+12,\n",
      "        5.1170e+10, 8.6701e+09, 6.3187e+11, 4.8270e+10, 9.4052e+10, 1.0382e+11,\n",
      "        3.3894e+09, 2.2391e+09, 2.3427e+09, 1.3765e+11, 3.7192e+10, 1.8189e+12,\n",
      "        6.3628e+09, 4.1572e+09, 5.4389e+11, 5.2814e+11, 1.0846e+11, 7.5847e+09,\n",
      "        1.6363e+11, 1.6399e+11, 1.4823e+11, 1.6342e+09, 1.9973e+10, 2.6202e+10,\n",
      "        1.2980e+11, 3.9817e+10, 7.1824e+10, 1.9162e+11, 3.1852e+10, 2.2563e+08,\n",
      "        3.5691e+09, 8.3936e+10, 1.7195e+11, 4.4681e+11, 1.2934e+09, 2.9658e+12,\n",
      "        1.9698e+10, 4.5585e+11, 6.9594e+11, 8.0076e+10, 2.2435e+10, 1.2998e+11,\n",
      "        1.9830e+11, 6.4818e+11, 1.1565e+10, 2.5433e+08, 4.3456e+12, 2.2200e+10,\n",
      "        5.2211e+11, 3.4156e+09, 6.5482e+09, 3.7093e+10, 2.5013e+09, 8.8802e+08,\n",
      "        1.2971e+10, 1.0050e+11, 7.2816e+09, 2.0730e+10, 3.0953e+10, 2.1880e+10,\n",
      "        3.3869e+10, 9.5837e+10, 8.8998e+10], device='cuda:0')----------\n",
      "Epoch [42/50]: Train loss: nan, Valid loss: nan\n"
     ]
    },
    {
     "name": "stderr",
     "output_type": "stream",
     "text": [
      "Epoch [43/50]: 100%|█████████████████████████████████████████████████████████████| 1/1 [00:00<00:00, 63.12it/s, loss=nan]"
     ]
    },
    {
     "name": "stdout",
     "output_type": "stream",
     "text": [
      "-------predict: tensor([nan, nan, nan, nan, nan, nan, nan, nan, nan, nan, nan, nan, nan, nan, nan, nan, nan, nan, nan, nan, nan, nan, nan, nan,\n",
      "        nan, nan, nan, nan, nan, nan, nan, nan, nan, nan, nan, nan, nan, nan, nan, nan, nan, nan, nan, nan, nan, nan, nan, nan,\n",
      "        nan, nan, nan, nan, nan, nan, nan, nan, nan, nan, nan, nan, nan, nan, nan, nan, nan, nan, nan, nan, nan, nan, nan, nan,\n",
      "        nan, nan, nan, nan, nan, nan, nan, nan, nan, nan, nan, nan, nan, nan, nan, nan, nan, nan, nan, nan, nan, nan, nan, nan,\n",
      "        nan, nan, nan, nan, nan, nan, nan, nan, nan, nan, nan, nan, nan, nan, nan, nan, nan, nan, nan, nan, nan, nan, nan, nan,\n",
      "        nan, nan, nan, nan, nan, nan, nan, nan, nan, nan, nan, nan, nan, nan, nan, nan, nan, nan, nan, nan, nan],\n",
      "       device='cuda:0', grad_fn=<SqueezeBackward1>), y: tensor([1.9698e+10, 2.8188e+11, 8.8998e+10, 6.7588e+09, 2.1225e+09, 3.3953e+11,\n",
      "        2.2563e+08, 6.8934e+10, 1.7751e+12, 3.7093e+10, 1.9918e+11, 1.7296e+11,\n",
      "        8.0076e+10, 1.0382e+11, 7.9194e+10, 8.6701e+09, 2.2391e+09, 1.5849e+09,\n",
      "        3.6682e+10, 8.8802e+08, 3.2814e+11, 5.2814e+11, 1.9976e+11, 4.5969e+10,\n",
      "        7.4202e+08, 2.4948e+10, 3.6957e+11, 1.3045e+09, 9.4052e+10, 9.5968e+12,\n",
      "        3.6401e+10, 4.1572e+09, 4.8270e+10, 8.3723e+10, 1.0846e+11, 1.2998e+11,\n",
      "        3.0953e+10, 2.9850e+11, 3.1852e+10, 6.4479e+08, 5.6191e+11, 1.9830e+11,\n",
      "        3.0981e+10, 7.2816e+09, 4.5585e+11, 8.3936e+10, 5.2211e+11, 1.2934e+09,\n",
      "        6.5482e+09, 2.2200e+10, 1.4837e+09, 3.3894e+09, 2.3427e+09, 4.1130e+10,\n",
      "        3.7192e+10, 6.3628e+09, 5.4389e+11, 4.3456e+12, 1.9305e+11, 6.4190e+10,\n",
      "        5.3028e+09, 7.9901e+09, 2.6202e+10, 7.5847e+09, 4.3326e+10, 6.4303e+10,\n",
      "        1.7495e+10, 3.9014e+10, 3.3869e+10, 1.2541e+11, 2.3995e+09, 6.9594e+11,\n",
      "        1.7195e+11, 2.8576e+10, 1.8189e+12, 5.3334e+12, 3.9060e+08, 2.5013e+09,\n",
      "        1.6363e+11, 1.2980e+11, 1.2971e+10, 6.3187e+11, 2.5433e+08, 1.1324e+12,\n",
      "        7.8158e+10, 1.1839e+10, 3.4156e+09, 3.9848e+10, 7.1208e+10, 3.4718e+10,\n",
      "        3.5818e+10, 2.8564e+10, 1.5391e+13, 8.7717e+11, 3.2950e+11, 2.5441e+10,\n",
      "        1.9485e+13, 3.7770e+09, 1.0050e+11, 2.2281e+11, 1.9093e+10, 2.8331e+10,\n",
      "        8.5587e+09, 2.2435e+10, 2.8108e+09, 7.0220e+10, 6.4818e+11, 3.5691e+09,\n",
      "        5.1170e+10, 5.4804e+10, 3.1713e+09, 3.9817e+10, 1.3765e+11, 1.2056e+10,\n",
      "        4.7784e+11, 3.2276e+08, 2.9658e+12, 3.1942e+09, 4.0229e+10, 2.9823e+11,\n",
      "        2.0269e+10, 9.3700e+09, 4.6296e+10, 2.0730e+10, 4.4681e+11, 1.1565e+10,\n",
      "        8.8271e+10, 3.2496e+12, 1.9365e+08, 2.1880e+10, 6.0819e+09, 1.9973e+10,\n",
      "        1.9162e+11, 1.6399e+11, 7.1824e+10, 2.8694e+10, 9.5837e+10, 1.4823e+11,\n",
      "        1.6342e+09, 3.9794e+10, 1.0913e+12], device='cuda:0')----------\n",
      "Epoch [43/50]: Train loss: nan, Valid loss: nan\n"
     ]
    },
    {
     "name": "stderr",
     "output_type": "stream",
     "text": [
      "\n",
      "Epoch [44/50]: 100%|█████████████████████████████████████████████████████████████| 1/1 [00:00<00:00, 67.07it/s, loss=nan]\n"
     ]
    },
    {
     "name": "stdout",
     "output_type": "stream",
     "text": [
      "-------predict: tensor([nan, nan, nan, nan, nan, nan, nan, nan, nan, nan, nan, nan, nan, nan, nan, nan, nan, nan, nan, nan, nan, nan, nan, nan,\n",
      "        nan, nan, nan, nan, nan, nan, nan, nan, nan, nan, nan, nan, nan, nan, nan, nan, nan, nan, nan, nan, nan, nan, nan, nan,\n",
      "        nan, nan, nan, nan, nan, nan, nan, nan, nan, nan, nan, nan, nan, nan, nan, nan, nan, nan, nan, nan, nan, nan, nan, nan,\n",
      "        nan, nan, nan, nan, nan, nan, nan, nan, nan, nan, nan, nan, nan, nan, nan, nan, nan, nan, nan, nan, nan, nan, nan, nan,\n",
      "        nan, nan, nan, nan, nan, nan, nan, nan, nan, nan, nan, nan, nan, nan, nan, nan, nan, nan, nan, nan, nan, nan, nan, nan,\n",
      "        nan, nan, nan, nan, nan, nan, nan, nan, nan, nan, nan, nan, nan, nan, nan, nan, nan, nan, nan, nan, nan],\n",
      "       device='cuda:0', grad_fn=<SqueezeBackward1>), y: tensor([8.7717e+11, 2.8188e+11, 3.0953e+10, 1.7195e+11, 2.3427e+09, 3.1942e+09,\n",
      "        1.2056e+10, 6.4818e+11, 1.9698e+10, 1.2980e+11, 6.4303e+10, 6.0819e+09,\n",
      "        2.6202e+10, 2.0269e+10, 2.2391e+09, 1.6399e+11, 8.6701e+09, 2.1225e+09,\n",
      "        7.5847e+09, 5.3028e+09, 2.5441e+10, 7.9901e+09, 2.9850e+11, 1.4837e+09,\n",
      "        1.0050e+11, 9.5837e+10, 3.2276e+08, 1.9973e+10, 8.5587e+09, 4.3456e+12,\n",
      "        2.2435e+10, 7.9194e+10, 1.8189e+12, 1.2541e+11, 3.6957e+11, 1.3045e+09,\n",
      "        6.4479e+08, 3.7192e+10, 5.6191e+11, 2.2200e+10, 1.0913e+12, 2.5013e+09,\n",
      "        6.9594e+11, 4.6296e+10, 1.1565e+10, 2.8108e+09, 3.7093e+10, 1.0382e+11,\n",
      "        3.3869e+10, 3.2814e+11, 2.0730e+10, 4.8270e+10, 3.6401e+10, 1.5391e+13,\n",
      "        6.3187e+11, 2.2563e+08, 9.3700e+09, 1.9918e+11, 1.9976e+11, 5.2211e+11,\n",
      "        3.6682e+10, 7.4202e+08, 1.9830e+11, 7.8158e+10, 5.1170e+10, 8.3936e+10,\n",
      "        6.7588e+09, 1.9093e+10, 9.5968e+12, 4.5585e+11, 8.8998e+10, 3.0981e+10,\n",
      "        6.5482e+09, 3.9817e+10, 3.7770e+09, 6.4190e+10, 6.8934e+10, 4.1130e+10,\n",
      "        1.6363e+11, 2.8576e+10, 3.5691e+09, 2.4948e+10, 1.2934e+09, 9.4052e+10,\n",
      "        3.9794e+10, 4.7784e+11, 1.7495e+10, 1.9162e+11, 3.5818e+10, 2.9658e+12,\n",
      "        1.9485e+13, 2.2281e+11, 1.2971e+10, 3.9060e+08, 7.1824e+10, 3.2496e+12,\n",
      "        2.8564e+10, 1.7296e+11, 1.4823e+11, 3.1852e+10, 3.3894e+09, 5.4804e+10,\n",
      "        7.2816e+09, 3.9848e+10, 1.1839e+10, 1.2998e+11, 2.9823e+11, 3.1713e+09,\n",
      "        4.1572e+09, 4.5969e+10, 2.8694e+10, 3.4718e+10, 1.6342e+09, 4.4681e+11,\n",
      "        2.8331e+10, 1.9365e+08, 3.2950e+11, 8.0076e+10, 1.0846e+11, 4.0229e+10,\n",
      "        2.3995e+09, 8.8802e+08, 8.3723e+10, 4.3326e+10, 5.2814e+11, 7.0220e+10,\n",
      "        6.3628e+09, 5.3334e+12, 1.7751e+12, 2.1880e+10, 3.3953e+11, 8.8271e+10,\n",
      "        1.1324e+12, 5.4389e+11, 1.3765e+11, 7.1208e+10, 3.4156e+09, 3.9014e+10,\n",
      "        1.5849e+09, 2.5433e+08, 1.9305e+11], device='cuda:0')----------\n",
      "Epoch [44/50]: Train loss: nan, Valid loss: nan\n"
     ]
    },
    {
     "name": "stderr",
     "output_type": "stream",
     "text": [
      "Epoch [45/50]: 100%|█████████████████████████████████████████████████████████████| 1/1 [00:00<00:00, 66.78it/s, loss=nan]\n"
     ]
    },
    {
     "name": "stdout",
     "output_type": "stream",
     "text": [
      "-------predict: tensor([nan, nan, nan, nan, nan, nan, nan, nan, nan, nan, nan, nan, nan, nan, nan, nan, nan, nan, nan, nan, nan, nan, nan, nan,\n",
      "        nan, nan, nan, nan, nan, nan, nan, nan, nan, nan, nan, nan, nan, nan, nan, nan, nan, nan, nan, nan, nan, nan, nan, nan,\n",
      "        nan, nan, nan, nan, nan, nan, nan, nan, nan, nan, nan, nan, nan, nan, nan, nan, nan, nan, nan, nan, nan, nan, nan, nan,\n",
      "        nan, nan, nan, nan, nan, nan, nan, nan, nan, nan, nan, nan, nan, nan, nan, nan, nan, nan, nan, nan, nan, nan, nan, nan,\n",
      "        nan, nan, nan, nan, nan, nan, nan, nan, nan, nan, nan, nan, nan, nan, nan, nan, nan, nan, nan, nan, nan, nan, nan, nan,\n",
      "        nan, nan, nan, nan, nan, nan, nan, nan, nan, nan, nan, nan, nan, nan, nan, nan, nan, nan, nan, nan, nan],\n",
      "       device='cuda:0', grad_fn=<SqueezeBackward1>), y: tensor([1.4823e+11, 6.4479e+08, 3.2496e+12, 1.6399e+11, 2.2391e+09, 8.5587e+09,\n",
      "        1.2971e+10, 7.8158e+10, 1.9305e+11, 3.6682e+10, 2.1225e+09, 1.4837e+09,\n",
      "        1.2056e+10, 4.4681e+11, 3.9817e+10, 4.3326e+10, 6.7588e+09, 3.3869e+10,\n",
      "        3.2814e+11, 4.5585e+11, 5.3334e+12, 2.8576e+10, 3.4156e+09, 6.8934e+10,\n",
      "        1.0050e+11, 5.4389e+11, 3.0981e+10, 1.5849e+09, 3.4718e+10, 1.9698e+10,\n",
      "        6.4190e+10, 8.3723e+10, 2.8331e+10, 6.3628e+09, 4.1572e+09, 1.6342e+09,\n",
      "        9.3700e+09, 1.1324e+12, 3.5691e+09, 1.1565e+10, 7.2816e+09, 2.8108e+09,\n",
      "        2.8694e+10, 3.7093e+10, 3.5818e+10, 7.9901e+09, 1.7495e+10, 1.5391e+13,\n",
      "        5.6191e+11, 1.7751e+12, 1.0846e+11, 5.3028e+09, 1.9485e+13, 6.3187e+11,\n",
      "        2.8564e+10, 1.9976e+11, 2.6202e+10, 1.9162e+11, 3.6957e+11, 1.9365e+08,\n",
      "        2.1880e+10, 9.5837e+10, 1.9093e+10, 3.7192e+10, 3.2276e+08, 3.1942e+09,\n",
      "        3.3953e+11, 2.5433e+08, 9.4052e+10, 1.2980e+11, 1.7296e+11, 8.0076e+10,\n",
      "        1.0913e+12, 5.2814e+11, 7.4202e+08, 6.4303e+10, 9.5968e+12, 1.9830e+11,\n",
      "        6.4818e+11, 7.0220e+10, 1.9918e+11, 4.0229e+10, 2.8188e+11, 2.4948e+10,\n",
      "        1.9973e+10, 4.3456e+12, 2.9658e+12, 3.9014e+10, 8.8998e+10, 8.6701e+09,\n",
      "        2.2200e+10, 1.2934e+09, 7.1824e+10, 2.9850e+11, 8.3936e+10, 2.3427e+09,\n",
      "        2.2435e+10, 6.0819e+09, 8.8802e+08, 1.3765e+11, 5.2211e+11, 1.1839e+10,\n",
      "        1.7195e+11, 3.9794e+10, 4.7784e+11, 1.8189e+12, 4.8270e+10, 5.4804e+10,\n",
      "        3.2950e+11, 4.5969e+10, 1.2998e+11, 3.1852e+10, 2.0269e+10, 1.3045e+09,\n",
      "        2.2281e+11, 3.7770e+09, 3.1713e+09, 2.5013e+09, 5.1170e+10, 2.2563e+08,\n",
      "        1.6363e+11, 3.9060e+08, 8.7717e+11, 3.3894e+09, 8.8271e+10, 7.9194e+10,\n",
      "        6.5482e+09, 2.5441e+10, 1.0382e+11, 4.1130e+10, 3.9848e+10, 2.0730e+10,\n",
      "        2.3995e+09, 7.5847e+09, 1.2541e+11, 3.0953e+10, 4.6296e+10, 6.9594e+11,\n",
      "        2.9823e+11, 7.1208e+10, 3.6401e+10], device='cuda:0')----------\n",
      "Epoch [45/50]: Train loss: nan, Valid loss: nan\n"
     ]
    },
    {
     "name": "stderr",
     "output_type": "stream",
     "text": [
      "Epoch [46/50]: 100%|█████████████████████████████████████████████████████████████| 1/1 [00:00<00:00, 65.28it/s, loss=nan]\n"
     ]
    },
    {
     "name": "stdout",
     "output_type": "stream",
     "text": [
      "-------predict: tensor([nan, nan, nan, nan, nan, nan, nan, nan, nan, nan, nan, nan, nan, nan, nan, nan, nan, nan, nan, nan, nan, nan, nan, nan,\n",
      "        nan, nan, nan, nan, nan, nan, nan, nan, nan, nan, nan, nan, nan, nan, nan, nan, nan, nan, nan, nan, nan, nan, nan, nan,\n",
      "        nan, nan, nan, nan, nan, nan, nan, nan, nan, nan, nan, nan, nan, nan, nan, nan, nan, nan, nan, nan, nan, nan, nan, nan,\n",
      "        nan, nan, nan, nan, nan, nan, nan, nan, nan, nan, nan, nan, nan, nan, nan, nan, nan, nan, nan, nan, nan, nan, nan, nan,\n",
      "        nan, nan, nan, nan, nan, nan, nan, nan, nan, nan, nan, nan, nan, nan, nan, nan, nan, nan, nan, nan, nan, nan, nan, nan,\n",
      "        nan, nan, nan, nan, nan, nan, nan, nan, nan, nan, nan, nan, nan, nan, nan, nan, nan, nan, nan, nan, nan],\n",
      "       device='cuda:0', grad_fn=<SqueezeBackward1>), y: tensor([2.9658e+12, 3.5691e+09, 4.3456e+12, 5.3334e+12, 5.6191e+11, 2.6202e+10,\n",
      "        8.8271e+10, 5.4804e+10, 1.9698e+10, 1.8189e+12, 8.0076e+10, 2.8576e+10,\n",
      "        6.9594e+11, 1.6399e+11, 1.9485e+13, 6.4190e+10, 2.2200e+10, 2.0269e+10,\n",
      "        1.7195e+11, 3.5818e+10, 1.2541e+11, 4.7784e+11, 7.1824e+10, 1.9973e+10,\n",
      "        3.6682e+10, 3.9794e+10, 1.2980e+11, 5.2814e+11, 3.0953e+10, 5.4389e+11,\n",
      "        3.9014e+10, 3.1852e+10, 3.3869e+10, 1.6363e+11, 8.8802e+08, 1.0382e+11,\n",
      "        8.3936e+10, 7.1208e+10, 6.8934e+10, 1.4837e+09, 1.1839e+10, 5.1170e+10,\n",
      "        6.0819e+09, 4.4681e+11, 5.2211e+11, 6.4818e+11, 1.9976e+11, 6.3187e+11,\n",
      "        2.4948e+10, 3.7093e+10, 9.3700e+09, 1.7296e+11, 4.1572e+09, 2.1225e+09,\n",
      "        3.4718e+10, 3.9060e+08, 1.3045e+09, 2.8564e+10, 6.5482e+09, 1.1324e+12,\n",
      "        1.9305e+11, 2.5433e+08, 3.3953e+11, 2.8694e+10, 3.6957e+11, 2.0730e+10,\n",
      "        4.6296e+10, 1.6342e+09, 2.5441e+10, 1.3765e+11, 3.2814e+11, 8.3723e+10,\n",
      "        3.4156e+09, 6.3628e+09, 4.5969e+10, 1.2056e+10, 4.0229e+10, 4.8270e+10,\n",
      "        1.0846e+11, 6.7588e+09, 1.5849e+09, 3.1713e+09, 2.2435e+10, 1.9830e+11,\n",
      "        9.4052e+10, 4.3326e+10, 1.7495e+10, 3.9848e+10, 2.9823e+11, 3.1942e+09,\n",
      "        3.3894e+09, 2.3995e+09, 1.0050e+11, 2.2563e+08, 3.2496e+12, 4.5585e+11,\n",
      "        7.9901e+09, 1.9162e+11, 8.8998e+10, 1.0913e+12, 7.9194e+10, 2.8188e+11,\n",
      "        2.8331e+10, 8.7717e+11, 1.1565e+10, 1.2971e+10, 1.9093e+10, 7.8158e+10,\n",
      "        6.4479e+08, 3.7192e+10, 2.3427e+09, 1.7751e+12, 1.9365e+08, 4.1130e+10,\n",
      "        7.0220e+10, 2.1880e+10, 3.9817e+10, 1.2934e+09, 2.2391e+09, 8.6701e+09,\n",
      "        3.6401e+10, 2.5013e+09, 3.2950e+11, 2.8108e+09, 9.5837e+10, 7.4202e+08,\n",
      "        1.2998e+11, 3.2276e+08, 2.2281e+11, 9.5968e+12, 5.3028e+09, 1.9918e+11,\n",
      "        7.2816e+09, 7.5847e+09, 1.4823e+11, 2.9850e+11, 1.5391e+13, 3.0981e+10,\n",
      "        8.5587e+09, 6.4303e+10, 3.7770e+09], device='cuda:0')----------\n",
      "Epoch [46/50]: Train loss: nan, Valid loss: nan\n"
     ]
    },
    {
     "name": "stderr",
     "output_type": "stream",
     "text": [
      "Epoch [47/50]: 100%|█████████████████████████████████████████████████████████████| 1/1 [00:00<00:00, 64.06it/s, loss=nan]\n"
     ]
    },
    {
     "name": "stdout",
     "output_type": "stream",
     "text": [
      "-------predict: tensor([nan, nan, nan, nan, nan, nan, nan, nan, nan, nan, nan, nan, nan, nan, nan, nan, nan, nan, nan, nan, nan, nan, nan, nan,\n",
      "        nan, nan, nan, nan, nan, nan, nan, nan, nan, nan, nan, nan, nan, nan, nan, nan, nan, nan, nan, nan, nan, nan, nan, nan,\n",
      "        nan, nan, nan, nan, nan, nan, nan, nan, nan, nan, nan, nan, nan, nan, nan, nan, nan, nan, nan, nan, nan, nan, nan, nan,\n",
      "        nan, nan, nan, nan, nan, nan, nan, nan, nan, nan, nan, nan, nan, nan, nan, nan, nan, nan, nan, nan, nan, nan, nan, nan,\n",
      "        nan, nan, nan, nan, nan, nan, nan, nan, nan, nan, nan, nan, nan, nan, nan, nan, nan, nan, nan, nan, nan, nan, nan, nan,\n",
      "        nan, nan, nan, nan, nan, nan, nan, nan, nan, nan, nan, nan, nan, nan, nan, nan, nan, nan, nan, nan, nan],\n",
      "       device='cuda:0', grad_fn=<SqueezeBackward1>), y: tensor([8.8998e+10, 1.9093e+10, 3.4718e+10, 3.9848e+10, 1.5849e+09, 6.4818e+11,\n",
      "        4.5585e+11, 2.8564e+10, 4.3326e+10, 3.7093e+10, 1.1324e+12, 1.9976e+11,\n",
      "        2.9658e+12, 5.3334e+12, 1.2980e+11, 3.3894e+09, 3.7192e+10, 7.5847e+09,\n",
      "        5.2211e+11, 2.9823e+11, 2.2435e+10, 1.0846e+11, 1.7195e+11, 1.5391e+13,\n",
      "        4.7784e+11, 2.8108e+09, 2.1880e+10, 3.0953e+10, 2.2200e+10, 3.3869e+10,\n",
      "        5.6191e+11, 4.8270e+10, 1.9698e+10, 3.2814e+11, 3.6401e+10, 6.7588e+09,\n",
      "        3.1852e+10, 3.6682e+10, 4.6296e+10, 5.4804e+10, 1.1565e+10, 3.2276e+08,\n",
      "        8.3936e+10, 5.3028e+09, 1.9162e+11, 2.9850e+11, 1.9830e+11, 1.7751e+12,\n",
      "        3.9817e+10, 6.9594e+11, 4.3456e+12, 1.3765e+11, 6.4190e+10, 6.3187e+11,\n",
      "        3.9014e+10, 8.8802e+08, 6.0819e+09, 5.4389e+11, 2.8576e+10, 1.2934e+09,\n",
      "        2.3995e+09, 1.2998e+11, 2.8331e+10, 8.7717e+11, 4.1130e+10, 3.5691e+09,\n",
      "        1.2971e+10, 8.0076e+10, 6.4303e+10, 3.3953e+11, 6.5482e+09, 1.4837e+09,\n",
      "        7.4202e+08, 7.9194e+10, 1.9485e+13, 3.2950e+11, 3.5818e+10, 1.6399e+11,\n",
      "        2.2281e+11, 3.9794e+10, 1.0913e+12, 3.9060e+08, 3.6957e+11, 1.7296e+11,\n",
      "        9.3700e+09, 2.2563e+08, 6.8934e+10, 2.8188e+11, 2.0269e+10, 2.3427e+09,\n",
      "        1.9305e+11, 7.0220e+10, 8.5587e+09, 6.4479e+08, 2.4948e+10, 2.1225e+09,\n",
      "        5.2814e+11, 1.6363e+11, 2.2391e+09, 7.9901e+09, 1.8189e+12, 2.5441e+10,\n",
      "        1.2541e+11, 7.1824e+10, 6.3628e+09, 4.5969e+10, 9.5837e+10, 7.8158e+10,\n",
      "        1.0382e+11, 2.5013e+09, 1.9365e+08, 4.1572e+09, 9.5968e+12, 1.7495e+10,\n",
      "        2.5433e+08, 5.1170e+10, 3.1713e+09, 8.3723e+10, 1.0050e+11, 2.8694e+10,\n",
      "        1.3045e+09, 1.9918e+11, 1.6342e+09, 1.2056e+10, 4.4681e+11, 8.6701e+09,\n",
      "        7.1208e+10, 3.0981e+10, 9.4052e+10, 1.1839e+10, 7.2816e+09, 4.0229e+10,\n",
      "        3.4156e+09, 8.8271e+10, 3.7770e+09, 2.0730e+10, 2.6202e+10, 3.2496e+12,\n",
      "        3.1942e+09, 1.4823e+11, 1.9973e+10], device='cuda:0')----------\n",
      "Epoch [47/50]: Train loss: nan, Valid loss: nan\n"
     ]
    },
    {
     "name": "stderr",
     "output_type": "stream",
     "text": [
      "Epoch [48/50]: 100%|█████████████████████████████████████████████████████████████| 1/1 [00:00<00:00, 64.82it/s, loss=nan]\n"
     ]
    },
    {
     "name": "stdout",
     "output_type": "stream",
     "text": [
      "-------predict: tensor([nan, nan, nan, nan, nan, nan, nan, nan, nan, nan, nan, nan, nan, nan, nan, nan, nan, nan, nan, nan, nan, nan, nan, nan,\n",
      "        nan, nan, nan, nan, nan, nan, nan, nan, nan, nan, nan, nan, nan, nan, nan, nan, nan, nan, nan, nan, nan, nan, nan, nan,\n",
      "        nan, nan, nan, nan, nan, nan, nan, nan, nan, nan, nan, nan, nan, nan, nan, nan, nan, nan, nan, nan, nan, nan, nan, nan,\n",
      "        nan, nan, nan, nan, nan, nan, nan, nan, nan, nan, nan, nan, nan, nan, nan, nan, nan, nan, nan, nan, nan, nan, nan, nan,\n",
      "        nan, nan, nan, nan, nan, nan, nan, nan, nan, nan, nan, nan, nan, nan, nan, nan, nan, nan, nan, nan, nan, nan, nan, nan,\n",
      "        nan, nan, nan, nan, nan, nan, nan, nan, nan, nan, nan, nan, nan, nan, nan, nan, nan, nan, nan, nan, nan],\n",
      "       device='cuda:0', grad_fn=<SqueezeBackward1>), y: tensor([1.5391e+13, 6.9594e+11, 2.1225e+09, 2.4948e+10, 2.9658e+12, 1.9973e+10,\n",
      "        6.3187e+11, 2.8564e+10, 2.2281e+11, 7.9901e+09, 6.4479e+08, 8.0076e+10,\n",
      "        3.2950e+11, 4.3456e+12, 3.7093e+10, 3.4718e+10, 2.5013e+09, 1.4837e+09,\n",
      "        7.0220e+10, 5.3028e+09, 9.5837e+10, 5.2211e+11, 1.2980e+11, 3.6682e+10,\n",
      "        6.0819e+09, 2.8694e+10, 1.7495e+10, 2.9823e+11, 5.2814e+11, 7.9194e+10,\n",
      "        3.2276e+08, 6.8934e+10, 3.2496e+12, 3.1942e+09, 4.1572e+09, 2.8188e+11,\n",
      "        1.0913e+12, 3.7770e+09, 9.4052e+10, 3.3894e+09, 8.8271e+10, 1.9093e+10,\n",
      "        1.9485e+13, 6.4303e+10, 3.3869e+10, 1.9698e+10, 2.0730e+10, 3.1852e+10,\n",
      "        2.8576e+10, 2.2200e+10, 7.1824e+10, 2.9850e+11, 2.2391e+09, 3.0953e+10,\n",
      "        2.5433e+08, 1.7296e+11, 1.9365e+08, 3.9060e+08, 4.0229e+10, 8.8998e+10,\n",
      "        3.7192e+10, 6.3628e+09, 4.6296e+10, 3.2814e+11, 1.1324e+12, 3.4156e+09,\n",
      "        3.3953e+11, 5.6191e+11, 1.6399e+11, 2.0269e+10, 2.8108e+09, 2.5441e+10,\n",
      "        5.4389e+11, 4.5585e+11, 1.9162e+11, 2.2563e+08, 8.3936e+10, 4.5969e+10,\n",
      "        1.6363e+11, 7.8158e+10, 9.3700e+09, 4.3326e+10, 8.6701e+09, 1.7751e+12,\n",
      "        1.3765e+11, 7.1208e+10, 1.0050e+11, 7.5847e+09, 5.3334e+12, 8.5587e+09,\n",
      "        2.6202e+10, 3.9817e+10, 3.5691e+09, 2.8331e+10, 3.9848e+10, 1.7195e+11,\n",
      "        1.8189e+12, 1.2056e+10, 4.4681e+11, 1.2541e+11, 3.5818e+10, 1.6342e+09,\n",
      "        1.9305e+11, 3.6401e+10, 3.6957e+11, 1.2934e+09, 6.4190e+10, 2.1880e+10,\n",
      "        1.2971e+10, 1.5849e+09, 1.9976e+11, 1.9918e+11, 9.5968e+12, 1.2998e+11,\n",
      "        1.4823e+11, 1.9830e+11, 3.0981e+10, 6.4818e+11, 8.8802e+08, 8.3723e+10,\n",
      "        1.1839e+10, 5.4804e+10, 8.7717e+11, 1.3045e+09, 3.9794e+10, 2.2435e+10,\n",
      "        2.3427e+09, 6.5482e+09, 7.4202e+08, 4.1130e+10, 7.2816e+09, 1.1565e+10,\n",
      "        4.8270e+10, 3.9014e+10, 5.1170e+10, 1.0846e+11, 2.3995e+09, 4.7784e+11,\n",
      "        3.1713e+09, 1.0382e+11, 6.7588e+09], device='cuda:0')----------\n",
      "Epoch [48/50]: Train loss: nan, Valid loss: nan\n"
     ]
    },
    {
     "name": "stderr",
     "output_type": "stream",
     "text": [
      "Epoch [49/50]: 100%|█████████████████████████████████████████████████████████████| 1/1 [00:00<00:00, 65.15it/s, loss=nan]\n"
     ]
    },
    {
     "name": "stdout",
     "output_type": "stream",
     "text": [
      "-------predict: tensor([nan, nan, nan, nan, nan, nan, nan, nan, nan, nan, nan, nan, nan, nan, nan, nan, nan, nan, nan, nan, nan, nan, nan, nan,\n",
      "        nan, nan, nan, nan, nan, nan, nan, nan, nan, nan, nan, nan, nan, nan, nan, nan, nan, nan, nan, nan, nan, nan, nan, nan,\n",
      "        nan, nan, nan, nan, nan, nan, nan, nan, nan, nan, nan, nan, nan, nan, nan, nan, nan, nan, nan, nan, nan, nan, nan, nan,\n",
      "        nan, nan, nan, nan, nan, nan, nan, nan, nan, nan, nan, nan, nan, nan, nan, nan, nan, nan, nan, nan, nan, nan, nan, nan,\n",
      "        nan, nan, nan, nan, nan, nan, nan, nan, nan, nan, nan, nan, nan, nan, nan, nan, nan, nan, nan, nan, nan, nan, nan, nan,\n",
      "        nan, nan, nan, nan, nan, nan, nan, nan, nan, nan, nan, nan, nan, nan, nan, nan, nan, nan, nan, nan, nan],\n",
      "       device='cuda:0', grad_fn=<SqueezeBackward1>), y: tensor([4.4681e+11, 5.2211e+11, 4.8270e+10, 1.5849e+09, 1.8189e+12, 1.7195e+11,\n",
      "        3.5691e+09, 3.3869e+10, 8.8271e+10, 2.2563e+08, 5.4804e+10, 2.2391e+09,\n",
      "        7.0220e+10, 3.9848e+10, 8.5587e+09, 2.2281e+11, 8.6701e+09, 1.2541e+11,\n",
      "        7.2816e+09, 7.5847e+09, 7.9194e+10, 6.4818e+11, 1.9973e+10, 1.0913e+12,\n",
      "        9.5968e+12, 1.0846e+11, 4.1130e+10, 1.2934e+09, 5.1170e+10, 3.2276e+08,\n",
      "        1.7751e+12, 1.4823e+11, 6.3187e+11, 3.9817e+10, 2.2435e+10, 6.5482e+09,\n",
      "        6.0819e+09, 8.7717e+11, 1.1565e+10, 6.4479e+08, 2.6202e+10, 1.9365e+08,\n",
      "        7.8158e+10, 3.7093e+10, 1.2056e+10, 5.4389e+11, 1.0050e+11, 2.0730e+10,\n",
      "        3.9794e+10, 1.4837e+09, 8.0076e+10, 2.5441e+10, 3.0981e+10, 2.3995e+09,\n",
      "        4.5585e+11, 2.9823e+11, 9.4052e+10, 3.6401e+10, 1.7495e+10, 3.4156e+09,\n",
      "        2.1880e+10, 7.1824e+10, 1.5391e+13, 3.1942e+09, 2.8188e+11, 5.3028e+09,\n",
      "        2.9850e+11, 4.7784e+11, 6.3628e+09, 6.9594e+11, 3.4718e+10, 2.3427e+09,\n",
      "        8.8998e+10, 1.7296e+11, 3.2496e+12, 1.1324e+12, 8.8802e+08, 2.5433e+08,\n",
      "        5.6191e+11, 1.9918e+11, 3.7192e+10, 4.5969e+10, 1.1839e+10, 1.9305e+11,\n",
      "        6.4303e+10, 1.9830e+11, 1.9976e+11, 8.3723e+10, 2.1225e+09, 2.5013e+09,\n",
      "        2.0269e+10, 6.8934e+10, 7.9901e+09, 3.6957e+11, 2.8108e+09, 6.4190e+10,\n",
      "        5.3334e+12, 3.7770e+09, 2.8564e+10, 3.2814e+11, 5.2814e+11, 1.2971e+10,\n",
      "        1.6363e+11, 3.1852e+10, 2.4948e+10, 3.5818e+10, 1.9162e+11, 4.3456e+12,\n",
      "        4.6296e+10, 1.6399e+11, 2.8694e+10, 1.0382e+11, 2.2200e+10, 4.1572e+09,\n",
      "        9.5837e+10, 7.1208e+10, 1.2998e+11, 2.8331e+10, 1.3045e+09, 1.6342e+09,\n",
      "        4.0229e+10, 7.4202e+08, 4.3326e+10, 3.6682e+10, 1.9698e+10, 1.9485e+13,\n",
      "        8.3936e+10, 3.2950e+11, 3.0953e+10, 3.9014e+10, 3.3894e+09, 1.3765e+11,\n",
      "        2.9658e+12, 3.9060e+08, 6.7588e+09, 1.2980e+11, 9.3700e+09, 1.9093e+10,\n",
      "        2.8576e+10, 3.3953e+11, 3.1713e+09], device='cuda:0')----------\n",
      "Epoch [49/50]: Train loss: nan, Valid loss: nan\n"
     ]
    },
    {
     "name": "stderr",
     "output_type": "stream",
     "text": [
      "Epoch [50/50]: 100%|█████████████████████████████████████████████████████████████| 1/1 [00:00<00:00, 64.24it/s, loss=nan]"
     ]
    },
    {
     "name": "stdout",
     "output_type": "stream",
     "text": [
      "-------predict: tensor([nan, nan, nan, nan, nan, nan, nan, nan, nan, nan, nan, nan, nan, nan, nan, nan, nan, nan, nan, nan, nan, nan, nan, nan,\n",
      "        nan, nan, nan, nan, nan, nan, nan, nan, nan, nan, nan, nan, nan, nan, nan, nan, nan, nan, nan, nan, nan, nan, nan, nan,\n",
      "        nan, nan, nan, nan, nan, nan, nan, nan, nan, nan, nan, nan, nan, nan, nan, nan, nan, nan, nan, nan, nan, nan, nan, nan,\n",
      "        nan, nan, nan, nan, nan, nan, nan, nan, nan, nan, nan, nan, nan, nan, nan, nan, nan, nan, nan, nan, nan, nan, nan, nan,\n",
      "        nan, nan, nan, nan, nan, nan, nan, nan, nan, nan, nan, nan, nan, nan, nan, nan, nan, nan, nan, nan, nan, nan, nan, nan,\n",
      "        nan, nan, nan, nan, nan, nan, nan, nan, nan, nan, nan, nan, nan, nan, nan, nan, nan, nan, nan, nan, nan],\n",
      "       device='cuda:0', grad_fn=<SqueezeBackward1>), y: tensor([3.3953e+11, 4.4681e+11, 1.0050e+11, 7.5847e+09, 3.7192e+10, 2.8576e+10,\n",
      "        1.2056e+10, 2.6202e+10, 1.2980e+11, 1.0382e+11, 1.0913e+12, 1.0846e+11,\n",
      "        1.1565e+10, 3.6957e+11, 1.7195e+11, 3.9794e+10, 5.2814e+11, 1.9365e+08,\n",
      "        1.1324e+12, 2.5433e+08, 2.8694e+10, 1.6399e+11, 4.3326e+10, 1.9305e+11,\n",
      "        1.8189e+12, 3.9848e+10, 2.8188e+11, 1.6342e+09, 1.9918e+11, 7.4202e+08,\n",
      "        6.3628e+09, 4.6296e+10, 3.6682e+10, 3.0953e+10, 2.2200e+10, 1.9830e+11,\n",
      "        3.3869e+10, 5.1170e+10, 5.3028e+09, 2.3995e+09, 3.7093e+10, 2.8564e+10,\n",
      "        3.2276e+08, 6.9594e+11, 3.6401e+10, 2.8108e+09, 3.0981e+10, 5.3334e+12,\n",
      "        2.1225e+09, 1.5391e+13, 3.3894e+09, 8.5587e+09, 9.4052e+10, 3.1713e+09,\n",
      "        9.3700e+09, 1.3765e+11, 3.5691e+09, 6.4190e+10, 1.9973e+10, 1.2934e+09,\n",
      "        1.7495e+10, 1.7296e+11, 7.8158e+10, 6.3187e+11, 9.5968e+12, 7.9194e+10,\n",
      "        3.1852e+10, 4.5969e+10, 4.7784e+11, 7.0220e+10, 8.8998e+10, 2.9850e+11,\n",
      "        5.2211e+11, 3.9817e+10, 7.9901e+09, 3.4718e+10, 2.3427e+09, 1.5849e+09,\n",
      "        3.9014e+10, 3.9060e+08, 2.9823e+11, 3.2496e+12, 1.3045e+09, 3.7770e+09,\n",
      "        1.2998e+11, 2.9658e+12, 8.0076e+10, 3.5818e+10, 2.8331e+10, 1.9162e+11,\n",
      "        6.8934e+10, 4.1572e+09, 8.7717e+11, 9.5837e+10, 2.2281e+11, 4.8270e+10,\n",
      "        8.8802e+08, 1.4823e+11, 1.6363e+11, 6.4479e+08, 2.2563e+08, 6.0819e+09,\n",
      "        1.9485e+13, 8.8271e+10, 3.2950e+11, 2.0730e+10, 3.2814e+11, 2.5013e+09,\n",
      "        4.1130e+10, 7.1208e+10, 2.2391e+09, 5.4389e+11, 1.2971e+10, 1.4837e+09,\n",
      "        4.0229e+10, 6.7588e+09, 3.1942e+09, 1.9093e+10, 2.0269e+10, 8.3723e+10,\n",
      "        5.6191e+11, 6.5482e+09, 8.3936e+10, 2.2435e+10, 3.4156e+09, 1.2541e+11,\n",
      "        4.5585e+11, 1.7751e+12, 5.4804e+10, 2.1880e+10, 2.5441e+10, 7.1824e+10,\n",
      "        1.9976e+11, 6.4818e+11, 8.6701e+09, 2.4948e+10, 6.4303e+10, 4.3456e+12,\n",
      "        1.1839e+10, 7.2816e+09, 1.9698e+10], device='cuda:0')----------\n",
      "Epoch [50/50]: Train loss: nan, Valid loss: nan\n"
     ]
    },
    {
     "name": "stderr",
     "output_type": "stream",
     "text": [
      "\n"
     ]
    }
   ],
   "source": [
    "trainer(train_loader, valid_loader, model, config, device)"
   ]
  },
  {
   "cell_type": "code",
   "execution_count": null,
   "metadata": {
    "colab": {
     "base_uri": "https://localhost:8080/",
     "height": 295
    },
    "id": "hsNO9nnXQBvP",
    "outputId": "1626def6-94c7-4a87-9447-d939f827c8eb"
   },
   "outputs": [],
   "source": [
    "plot_learning_curve(model_loss_record, title='deep model')"
   ]
  },
  {
   "cell_type": "code",
   "execution_count": 21,
   "metadata": {},
   "outputs": [
    {
     "data": {
      "text/plain": [
       "1e+20"
      ]
     },
     "execution_count": 21,
     "metadata": {},
     "output_type": "execute_result"
    }
   ],
   "source": [
    "model_loss"
   ]
  },
  {
   "cell_type": "code",
   "execution_count": null,
   "metadata": {
    "colab": {
     "base_uri": "https://localhost:8080/",
     "height": 350
    },
    "id": "3iZTVn5WQFpX",
    "outputId": "a2d5e118-559d-45c6-b644-6792af54663d"
   },
   "outputs": [],
   "source": [
    "del model\n",
    "model = NeuralNet(tr_set.dataset.dim).to(device)\n",
    "ckpt = torch.load(config['save_path'], map_location='cpu')  # Load your best model\n",
    "model.load_state_dict(ckpt)\n",
    "plot_pred(dv_set, model, device)  # Show prediction on the validation set"
   ]
  },
  {
   "cell_type": "markdown",
   "metadata": {
    "id": "aQikz3IPiyPf"
   },
   "source": [
    "# **Testing**\n",
    "The predictions of your model on testing set will be stored at `pred.csv`."
   ]
  },
  {
   "cell_type": "code",
   "execution_count": null,
   "metadata": {
    "colab": {
     "base_uri": "https://localhost:8080/"
    },
    "id": "O8cTuQjQQOon",
    "outputId": "6bc5de07-4c5a-4e87-9ae3-d09f539c5f2c"
   },
   "outputs": [],
   "source": [
    "def save_pred(preds, file):\n",
    "    ''' Save predictions to specified file '''\n",
    "    print('Saving results to {}'.format(file))\n",
    "    with open(file, 'w') as fp:\n",
    "        writer = csv.writer(fp)\n",
    "        writer.writerow(['id', 'tested_positive'])\n",
    "        for i, p in enumerate(preds):\n",
    "            writer.writerow([i, p])\n",
    "\n",
    "preds = test(valid_loader, model, device)  # predict COVID-19 cases with your model\n",
    "print('pred')         # save prediction file to pred.csv"
   ]
  },
  {
   "cell_type": "markdown",
   "metadata": {
    "id": "nfrVxqJanGpE"
   },
   "source": [
    "# **Hints**\n",
    "\n",
    "## **Simple Baseline**\n",
    "* Run sample code\n",
    "\n",
    "## **Medium Baseline**\n",
    "* Feature selection: 40 states + 2 `tested_positive` (`TODO` in dataset)\n",
    "\n",
    "## **Strong Baseline**\n",
    "* Feature selection (what other features are useful?)\n",
    "* DNN architecture (layers? dimension? activation function?)\n",
    "* Training (mini-batch? optimizer? learning rate?)\n",
    "* L2 regularization\n",
    "* There are some mistakes in the sample code, can you find them?"
   ]
  },
  {
   "cell_type": "markdown",
   "metadata": {
    "id": "9tmCwXgpot3t"
   },
   "source": [
    "# **Reference**\n",
    "This code is completely written by Heng-Jui Chang @ NTUEE.  \n",
    "Copying or reusing this code is required to specify the original author. \n",
    "\n",
    "E.g.  \n",
    "Source: Heng-Jui Chang @ NTUEE (https://github.com/ga642381/ML2021-Spring/blob/main/HW01/HW01.ipynb)\n"
   ]
  }
 ],
 "metadata": {
  "accelerator": "GPU",
  "colab": {
   "collapsed_sections": [],
   "provenance": [
    {
     "file_id": "https://github.com/ga642381/ML2021-Spring/blob/main/HW01/HW01.ipynb",
     "timestamp": 1656054510646
    }
   ],
   "toc_visible": true
  },
  "kernelspec": {
   "display_name": "Python 3 (ipykernel)",
   "language": "python",
   "name": "python3"
  },
  "language_info": {
   "codemirror_mode": {
    "name": "ipython",
    "version": 3
   },
   "file_extension": ".py",
   "mimetype": "text/x-python",
   "name": "python",
   "nbconvert_exporter": "python",
   "pygments_lexer": "ipython3",
   "version": "3.7.9"
  }
 },
 "nbformat": 4,
 "nbformat_minor": 1
}

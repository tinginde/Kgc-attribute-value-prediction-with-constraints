{
 "cells": [
  {
   "cell_type": "markdown",
   "id": "iaHYhvxXNtaL",
   "metadata": {
    "id": "iaHYhvxXNtaL"
   },
   "source": [
    "# Data preprocessing 資料前處理"
   ]
  },
  {
   "cell_type": "code",
   "execution_count": 1,
   "id": "017aa6a4",
   "metadata": {
    "id": "017aa6a4"
   },
   "outputs": [],
   "source": [
    "import pandas as pd\n",
    "import numpy as np"
   ]
  },
  {
   "cell_type": "markdown",
   "id": "eb0bdd3a",
   "metadata": {
    "id": "eb0bdd3a"
   },
   "source": [
    "# From LiterallyWikidata read data and check data"
   ]
  },
  {
   "cell_type": "code",
   "execution_count": 97,
   "id": "zz3XSyJpmguJ",
   "metadata": {
    "id": "zz3XSyJpmguJ"
   },
   "outputs": [],
   "source": [
    "column_name = [\"e\",\"a\",\"v\"]\n",
    "df48_ori = pd.read_csv(\"/projekte/tcl/tclext/kgc_chu/LiterallyWikidata/LitWD48K/numeric_literals.txt\",sep=\"\\t\",names=column_name)"
   ]
  },
  {
   "cell_type": "code",
   "execution_count": 52,
   "id": "24cf8021",
   "metadata": {
    "colab": {
     "base_uri": "https://localhost:8080/",
     "height": 206
    },
    "id": "0ynl-RqPfiPA",
    "outputId": "d6da666b-201c-4888-c144-ec5e84edbf80"
   },
   "outputs": [
    {
     "data": {
      "text/html": [
       "<div>\n",
       "<style scoped>\n",
       "    .dataframe tbody tr th:only-of-type {\n",
       "        vertical-align: middle;\n",
       "    }\n",
       "\n",
       "    .dataframe tbody tr th {\n",
       "        vertical-align: top;\n",
       "    }\n",
       "\n",
       "    .dataframe thead th {\n",
       "        text-align: right;\n",
       "    }\n",
       "</style>\n",
       "<table border=\"1\" class=\"dataframe\">\n",
       "  <thead>\n",
       "    <tr style=\"text-align: right;\">\n",
       "      <th></th>\n",
       "      <th>e</th>\n",
       "      <th>a</th>\n",
       "      <th>v</th>\n",
       "    </tr>\n",
       "  </thead>\n",
       "  <tbody>\n",
       "    <tr>\n",
       "      <th>0</th>\n",
       "      <td>Q1000056</td>\n",
       "      <td>P1082_Q199</td>\n",
       "      <td>+11032^^&lt;http://www.w3.org/2001/XMLSchema#deci...</td>\n",
       "    </tr>\n",
       "    <tr>\n",
       "      <th>1</th>\n",
       "      <td>Q1000056</td>\n",
       "      <td>P2044_Q11573</td>\n",
       "      <td>+472^^&lt;http://www.w3.org/2001/XMLSchema#decimal&gt;</td>\n",
       "    </tr>\n",
       "    <tr>\n",
       "      <th>2</th>\n",
       "      <td>Q1000056</td>\n",
       "      <td>P2046_Q25343</td>\n",
       "      <td>+45630000.00^^&lt;http://www.w3.org/2001/XMLSchem...</td>\n",
       "    </tr>\n",
       "    <tr>\n",
       "      <th>3</th>\n",
       "      <td>Q1000138</td>\n",
       "      <td>P1082_Q199</td>\n",
       "      <td>+1375^^&lt;http://www.w3.org/2001/XMLSchema#decimal&gt;</td>\n",
       "    </tr>\n",
       "    <tr>\n",
       "      <th>4</th>\n",
       "      <td>Q1000138</td>\n",
       "      <td>P2044_Q11573</td>\n",
       "      <td>+1^^&lt;http://www.w3.org/2001/XMLSchema#decimal&gt;</td>\n",
       "    </tr>\n",
       "  </tbody>\n",
       "</table>\n",
       "</div>"
      ],
      "text/plain": [
       "          e             a                                                  v\n",
       "0  Q1000056    P1082_Q199  +11032^^<http://www.w3.org/2001/XMLSchema#deci...\n",
       "1  Q1000056  P2044_Q11573   +472^^<http://www.w3.org/2001/XMLSchema#decimal>\n",
       "2  Q1000056  P2046_Q25343  +45630000.00^^<http://www.w3.org/2001/XMLSchem...\n",
       "3  Q1000138    P1082_Q199  +1375^^<http://www.w3.org/2001/XMLSchema#decimal>\n",
       "4  Q1000138  P2044_Q11573     +1^^<http://www.w3.org/2001/XMLSchema#decimal>"
      ]
     },
     "execution_count": 52,
     "metadata": {},
     "output_type": "execute_result"
    }
   ],
   "source": [
    "df48_ori[:5]"
   ]
  },
  {
   "cell_type": "code",
   "execution_count": 98,
   "id": "N9MA7xdMCE89",
   "metadata": {
    "id": "N9MA7xdMCE89"
   },
   "outputs": [],
   "source": [
    "df48 = df48_ori"
   ]
  },
  {
   "cell_type": "code",
   "execution_count": 99,
   "id": "q_PmSd7hj8mh",
   "metadata": {
    "id": "q_PmSd7hj8mh"
   },
   "outputs": [],
   "source": [
    "#取V值\n",
    "df48[['v','xml']] = df48['v'].str.split('^', 1, expand=True)"
   ]
  },
  {
   "cell_type": "code",
   "execution_count": 5,
   "id": "dS_addCPox73",
   "metadata": {
    "colab": {
     "base_uri": "https://localhost:8080/"
    },
    "id": "dS_addCPox73",
    "outputId": "fae6be45-0c0b-473e-a3b9-9b435070b286"
   },
   "outputs": [
    {
     "name": "stdout",
     "output_type": "stream",
     "text": [
      "triple number of df48: 324418, num of df48_entity: 47998, num of df48_attribute: 291\n"
     ]
    }
   ],
   "source": [
    "# check the number of data\n",
    "print(f'triple number of df48: {len(df48)}, num of df48_entity: {len(df48[\"e\"].unique())}, num of df48_attribute: {len(df48[\"a\"].unique())}')"
   ]
  },
  {
   "cell_type": "code",
   "execution_count": 7,
   "id": "974ab560",
   "metadata": {},
   "outputs": [
    {
     "name": "stdout",
     "output_type": "stream",
     "text": [
      "<class 'pandas.core.frame.DataFrame'>\n",
      "RangeIndex: 324418 entries, 0 to 324417\n",
      "Data columns (total 3 columns):\n",
      " #   Column  Non-Null Count   Dtype \n",
      "---  ------  --------------   ----- \n",
      " 0   e       324418 non-null  object\n",
      " 1   a       324418 non-null  object\n",
      " 2   v       324418 non-null  object\n",
      "dtypes: object(3)\n",
      "memory usage: 7.4+ MB\n"
     ]
    }
   ],
   "source": [
    "df48.info()"
   ]
  },
  {
   "cell_type": "markdown",
   "id": "LIZqsqEgqJFg",
   "metadata": {
    "id": "LIZqsqEgqJFg"
   },
   "source": [
    "# Discovering some issues within data"
   ]
  },
  {
   "cell_type": "markdown",
   "id": "0af7d1ad",
   "metadata": {},
   "source": [
    "## 3 value types"
   ]
  },
  {
   "cell_type": "code",
   "execution_count": 10,
   "id": "ydNyjFsumOOn",
   "metadata": {
    "colab": {
     "base_uri": "https://localhost:8080/"
    },
    "id": "ydNyjFsumOOn",
    "outputId": "ded26a07-881b-4c4d-fdcb-7edffc902e91",
    "scrolled": true
   },
   "outputs": [
    {
     "data": {
      "text/plain": [
       "^<http://www.w3.org/2001/XMLSchema#decimal>     148707\n",
       "^<http://www.w3.org/2001/XMLSchema#double>      118078\n",
       "^<http://www.w3.org/2001/XMLSchema#dateTime>     57633\n",
       "Name: xml, dtype: int64"
      ]
     },
     "execution_count": 10,
     "metadata": {},
     "output_type": "execute_result"
    }
   ],
   "source": [
    "#有三種數值型態\n",
    "df48['xml'].value_counts()"
   ]
  },
  {
   "cell_type": "markdown",
   "id": "fb0d677a",
   "metadata": {},
   "source": [
    "## Time (year-month-date)"
   ]
  },
  {
   "cell_type": "code",
   "execution_count": 11,
   "id": "37bddd92",
   "metadata": {},
   "outputs": [
    {
     "data": {
      "text/html": [
       "<div>\n",
       "<style scoped>\n",
       "    .dataframe tbody tr th:only-of-type {\n",
       "        vertical-align: middle;\n",
       "    }\n",
       "\n",
       "    .dataframe tbody tr th {\n",
       "        vertical-align: top;\n",
       "    }\n",
       "\n",
       "    .dataframe thead th {\n",
       "        text-align: right;\n",
       "    }\n",
       "</style>\n",
       "<table border=\"1\" class=\"dataframe\">\n",
       "  <thead>\n",
       "    <tr style=\"text-align: right;\">\n",
       "      <th></th>\n",
       "      <th>e</th>\n",
       "      <th>a</th>\n",
       "      <th>v</th>\n",
       "      <th>xml</th>\n",
       "    </tr>\n",
       "  </thead>\n",
       "  <tbody>\n",
       "    <tr>\n",
       "      <th>148707</th>\n",
       "      <td>Q1000051</td>\n",
       "      <td>P569</td>\n",
       "      <td>1884-11-05T00:00:00Z</td>\n",
       "      <td>^&lt;http://www.w3.org/2001/XMLSchema#dateTime&gt;</td>\n",
       "    </tr>\n",
       "    <tr>\n",
       "      <th>148708</th>\n",
       "      <td>Q1000051</td>\n",
       "      <td>P570</td>\n",
       "      <td>1962-12-01T00:00:00Z</td>\n",
       "      <td>^&lt;http://www.w3.org/2001/XMLSchema#dateTime&gt;</td>\n",
       "    </tr>\n",
       "    <tr>\n",
       "      <th>148709</th>\n",
       "      <td>Q1000056</td>\n",
       "      <td>P1249</td>\n",
       "      <td>1233-01-01T00:00:00Z</td>\n",
       "      <td>^&lt;http://www.w3.org/2001/XMLSchema#dateTime&gt;</td>\n",
       "    </tr>\n",
       "    <tr>\n",
       "      <th>148710</th>\n",
       "      <td>Q1000138</td>\n",
       "      <td>P576</td>\n",
       "      <td>2016-12-31T00:00:00Z</td>\n",
       "      <td>^&lt;http://www.w3.org/2001/XMLSchema#dateTime&gt;</td>\n",
       "    </tr>\n",
       "    <tr>\n",
       "      <th>148711</th>\n",
       "      <td>Q1000217</td>\n",
       "      <td>P571</td>\n",
       "      <td>1893-01-01T00:00:00Z</td>\n",
       "      <td>^&lt;http://www.w3.org/2001/XMLSchema#dateTime&gt;</td>\n",
       "    </tr>\n",
       "  </tbody>\n",
       "</table>\n",
       "</div>"
      ],
      "text/plain": [
       "               e      a                     v  \\\n",
       "148707  Q1000051   P569  1884-11-05T00:00:00Z   \n",
       "148708  Q1000051   P570  1962-12-01T00:00:00Z   \n",
       "148709  Q1000056  P1249  1233-01-01T00:00:00Z   \n",
       "148710  Q1000138   P576  2016-12-31T00:00:00Z   \n",
       "148711  Q1000217   P571  1893-01-01T00:00:00Z   \n",
       "\n",
       "                                                 xml  \n",
       "148707  ^<http://www.w3.org/2001/XMLSchema#dateTime>  \n",
       "148708  ^<http://www.w3.org/2001/XMLSchema#dateTime>  \n",
       "148709  ^<http://www.w3.org/2001/XMLSchema#dateTime>  \n",
       "148710  ^<http://www.w3.org/2001/XMLSchema#dateTime>  \n",
       "148711  ^<http://www.w3.org/2001/XMLSchema#dateTime>  "
      ]
     },
     "execution_count": 11,
     "metadata": {},
     "output_type": "execute_result"
    }
   ],
   "source": [
    "# value type: time\n",
    "df48[df48['xml']=='^<http://www.w3.org/2001/XMLSchema#dateTime>'][:5]"
   ]
  },
  {
   "cell_type": "markdown",
   "id": "addfe412",
   "metadata": {},
   "source": [
    "## Double: coordinate location"
   ]
  },
  {
   "cell_type": "code",
   "execution_count": 12,
   "id": "j1iiK9cmdBTf",
   "metadata": {
    "colab": {
     "base_uri": "https://localhost:8080/",
     "height": 424
    },
    "id": "j1iiK9cmdBTf",
    "outputId": "809dc427-e3f9-4d0e-d061-2c87e5df4244"
   },
   "outputs": [
    {
     "data": {
      "text/html": [
       "<div>\n",
       "<style scoped>\n",
       "    .dataframe tbody tr th:only-of-type {\n",
       "        vertical-align: middle;\n",
       "    }\n",
       "\n",
       "    .dataframe tbody tr th {\n",
       "        vertical-align: top;\n",
       "    }\n",
       "\n",
       "    .dataframe thead th {\n",
       "        text-align: right;\n",
       "    }\n",
       "</style>\n",
       "<table border=\"1\" class=\"dataframe\">\n",
       "  <thead>\n",
       "    <tr style=\"text-align: right;\">\n",
       "      <th></th>\n",
       "      <th>e</th>\n",
       "      <th>a</th>\n",
       "      <th>v</th>\n",
       "      <th>xml</th>\n",
       "    </tr>\n",
       "  </thead>\n",
       "  <tbody>\n",
       "    <tr>\n",
       "      <th>206346</th>\n",
       "      <td>Q100015</td>\n",
       "      <td>P1335_Latitude</td>\n",
       "      <td>45.5439988</td>\n",
       "      <td>^&lt;http://www.w3.org/2001/XMLSchema#double&gt;</td>\n",
       "    </tr>\n",
       "    <tr>\n",
       "      <th>206351</th>\n",
       "      <td>Q100016</td>\n",
       "      <td>P1335_Latitude</td>\n",
       "      <td>45.8495584</td>\n",
       "      <td>^&lt;http://www.w3.org/2001/XMLSchema#double&gt;</td>\n",
       "    </tr>\n",
       "    <tr>\n",
       "      <th>206356</th>\n",
       "      <td>Q100018</td>\n",
       "      <td>P1335_Latitude</td>\n",
       "      <td>45.6671782</td>\n",
       "      <td>^&lt;http://www.w3.org/2001/XMLSchema#double&gt;</td>\n",
       "    </tr>\n",
       "    <tr>\n",
       "      <th>206362</th>\n",
       "      <td>Q100036</td>\n",
       "      <td>P1335_Latitude</td>\n",
       "      <td>44.7203568</td>\n",
       "      <td>^&lt;http://www.w3.org/2001/XMLSchema#double&gt;</td>\n",
       "    </tr>\n",
       "    <tr>\n",
       "      <th>206367</th>\n",
       "      <td>Q100038</td>\n",
       "      <td>P1335_Latitude</td>\n",
       "      <td>44.7499868</td>\n",
       "      <td>^&lt;http://www.w3.org/2001/XMLSchema#double&gt;</td>\n",
       "    </tr>\n",
       "  </tbody>\n",
       "</table>\n",
       "</div>"
      ],
      "text/plain": [
       "              e               a           v  \\\n",
       "206346  Q100015  P1335_Latitude  45.5439988   \n",
       "206351  Q100016  P1335_Latitude  45.8495584   \n",
       "206356  Q100018  P1335_Latitude  45.6671782   \n",
       "206362  Q100036  P1335_Latitude  44.7203568   \n",
       "206367  Q100038  P1335_Latitude  44.7499868   \n",
       "\n",
       "                                               xml  \n",
       "206346  ^<http://www.w3.org/2001/XMLSchema#double>  \n",
       "206351  ^<http://www.w3.org/2001/XMLSchema#double>  \n",
       "206356  ^<http://www.w3.org/2001/XMLSchema#double>  \n",
       "206362  ^<http://www.w3.org/2001/XMLSchema#double>  \n",
       "206367  ^<http://www.w3.org/2001/XMLSchema#double>  "
      ]
     },
     "execution_count": 12,
     "metadata": {},
     "output_type": "execute_result"
    }
   ],
   "source": [
    "# value type: double (geographic)\n",
    "# coordinate location in original data is mixed. P625，P1335...(coordinate location)有經緯度\n",
    "df48[df48[\"a\"].str.contains(\"P1335\")][:5]"
   ]
  },
  {
   "cell_type": "markdown",
   "id": "e3e34fdd",
   "metadata": {},
   "source": [
    "## Decimal"
   ]
  },
  {
   "cell_type": "code",
   "execution_count": null,
   "id": "5xUkntUcZM_A",
   "metadata": {
    "colab": {
     "base_uri": "https://localhost:8080/",
     "height": 206
    },
    "id": "5xUkntUcZM_A",
    "outputId": "d54c14fb-4bb9-457f-a2be-6210607548a6"
   },
   "outputs": [],
   "source": [
    "# value type: decimal\n",
    "# same entity has multiple values 可能同entity在P1087有多個值\n",
    "df48[df48[\"a\"].str.contains(\"P1087_Q199\")][:5]"
   ]
  },
  {
   "cell_type": "code",
   "execution_count": null,
   "id": "0Kf-3cM7qEP8",
   "metadata": {
    "colab": {
     "base_uri": "https://localhost:8080/"
    },
    "id": "0Kf-3cM7qEP8",
    "outputId": "116e57e7-8425-412a-ab17-ab7c73d4ed45"
   },
   "outputs": [],
   "source": [
    "# P2299 has 2 units 有兩種QXXX\n",
    "df48[df48[\"a\"].str.contains(\"P2299\")].a.unique()"
   ]
  },
  {
   "cell_type": "code",
   "execution_count": null,
   "id": "1XMVPZLudOHi",
   "metadata": {
    "id": "1XMVPZLudOHi"
   },
   "outputs": [],
   "source": [
    "# some are meanful zero value but some are not\n",
    "df_vzero=df48[df48[\"v\"]=='0'].sort_values(by='a')"
   ]
  },
  {
   "cell_type": "code",
   "execution_count": null,
   "id": "LmGG9AEhJqG2",
   "metadata": {
    "colab": {
     "base_uri": "https://localhost:8080/",
     "height": 835
    },
    "id": "LmGG9AEhJqG2",
    "outputId": "15e9ba8b-f1ca-4a6a-e2ba-1a46faf9fd8b",
    "scrolled": true
   },
   "outputs": [],
   "source": [
    "df_vzero[:5]"
   ]
  },
  {
   "cell_type": "code",
   "execution_count": null,
   "id": "mha8ltZLU_Nn",
   "metadata": {
    "colab": {
     "base_uri": "https://localhost:8080/"
    },
    "id": "mha8ltZLU_Nn",
    "outputId": "b379a35e-c00b-4d7b-9f80-8c60b754715b"
   },
   "outputs": [],
   "source": [
    "print(f\"there are total {len(df_vzero)} data which has 0.0 in the value column\")\n",
    "print(f\"there are total {len(df_vzero['a'].unique())} data which has 0.0 in the value column\")"
   ]
  },
  {
   "cell_type": "code",
   "execution_count": null,
   "id": "847cd994",
   "metadata": {},
   "outputs": [],
   "source": [
    "df48[df48[\"a\"].str.contains(\"P1082\")].v"
   ]
  },
  {
   "cell_type": "markdown",
   "id": "3odjIK45BONu",
   "metadata": {
    "id": "3odjIK45BONu"
   },
   "source": [
    "# Dealing with issues 處理以上問題: \n",
    "DataTime dtype: keep year data 時間單位 西元年 \\\\\n",
    "Remove dulplicated data (same e,a but diff v)\n",
    "Turn into value dtype to float \n",
    "所有變數的值成為可計算的值(有意義可讀取的值) \\\\\n",
    "Rescale the values within the same attributes 同attribute value rescale \\\\\n",
    "Drop out unreasonal 0 value 去0 \\\\\n",
    "Drop out the unit (QXXX)去單位 \\\\\n",
    "Keep Attribyes at least number of 15 data 每個屬性最少有15筆資料 \\\\\n"
   ]
  },
  {
   "cell_type": "markdown",
   "id": "780287a3",
   "metadata": {},
   "source": [
    "## value type: time"
   ]
  },
  {
   "cell_type": "code",
   "execution_count": 100,
   "id": "MCEhe4i2whqb",
   "metadata": {
    "id": "MCEhe4i2whqb"
   },
   "outputs": [],
   "source": [
    "# 如果\"v\"是時間，取前四位數年代部分，np.where(condition, x,y)在condition下，把x取代y\n",
    "df48[\"new_v\"] = df48[\"v\"].map(lambda x: x[:4])\n",
    "df48.loc[:,\"v\"] = np.where((df48[\"xml\"].str.contains(\"dateTime\")), df48[\"new_v\"], df48[\"v\"])"
   ]
  },
  {
   "cell_type": "code",
   "execution_count": 101,
   "id": "1NV1eH6rcGXd",
   "metadata": {
    "id": "1NV1eH6rcGXd"
   },
   "outputs": [],
   "source": [
    "df48[\"v\"]=df48[\"v\"].astype('float32')"
   ]
  },
  {
   "cell_type": "markdown",
   "id": "86cb0edf",
   "metadata": {},
   "source": [
    "## value type: double"
   ]
  },
  {
   "cell_type": "code",
   "execution_count": null,
   "id": "12fc957b",
   "metadata": {},
   "outputs": [],
   "source": [
    "# remove double data\n",
    "#neogeo = df48[~df48['xml'].str.contains('double')]"
   ]
  },
  {
   "cell_type": "markdown",
   "id": "5d360f6f",
   "metadata": {},
   "source": [
    "## value type: decimal"
   ]
  },
  {
   "cell_type": "code",
   "execution_count": 102,
   "id": "7164fb36",
   "metadata": {},
   "outputs": [],
   "source": [
    "#取有150data的att #同時解決同p不同q\n",
    "filter = df48.a.value_counts()\n",
    "filter_index=filter.index[filter>=150]\n",
    "df48 = df48[df48['a'].isin(filter_index)]"
   ]
  },
  {
   "cell_type": "code",
   "execution_count": 58,
   "id": "06ceb376",
   "metadata": {
    "scrolled": true
   },
   "outputs": [
    {
     "data": {
      "text/plain": [
       "P625_Longtiude    24952\n",
       "P625_Latitude     24952\n",
       "P2046_Q25343      24039\n",
       "P1082_Q199        22299\n",
       "P2044_Q11573      16734\n",
       "                  ...  \n",
       "P2219_Q199          164\n",
       "P2131_Q4917         163\n",
       "P4010_Q550207       156\n",
       "P2299_Q550207       155\n",
       "P1279_Q199          152\n",
       "Name: a, Length: 93, dtype: int64"
      ]
     },
     "execution_count": 58,
     "metadata": {},
     "output_type": "execute_result"
    }
   ],
   "source": [
    "df48.a.value_counts()"
   ]
  },
  {
   "cell_type": "code",
   "execution_count": 103,
   "id": "nkYkJTe36KTG",
   "metadata": {
    "id": "nkYkJTe36KTG"
   },
   "outputs": [
    {
     "name": "stderr",
     "output_type": "stream",
     "text": [
      "/projekte/tcl/tclext/kgc_chu/neuenv/lib/python3.7/site-packages/pandas/core/frame.py:3641: SettingWithCopyWarning: \n",
      "A value is trying to be set on a copy of a slice from a DataFrame.\n",
      "Try using .loc[row_indexer,col_indexer] = value instead\n",
      "\n",
      "See the caveats in the documentation: https://pandas.pydata.org/pandas-docs/stable/user_guide/indexing.html#returning-a-view-versus-a-copy\n",
      "  self[k1] = value[k2]\n",
      "/projekte/tcl/tclext/kgc_chu/neuenv/lib/python3.7/site-packages/pandas/core/indexing.py:1667: SettingWithCopyWarning: \n",
      "A value is trying to be set on a copy of a slice from a DataFrame.\n",
      "Try using .loc[row_indexer,col_indexer] = value instead\n",
      "\n",
      "See the caveats in the documentation: https://pandas.pydata.org/pandas-docs/stable/user_guide/indexing.html#returning-a-view-versus-a-copy\n",
      "  self.obj[key] = value\n"
     ]
    }
   ],
   "source": [
    "#處理a，去單位\n",
    "df48[[\"pre_a\",'Q']] = df48[\"a\"].str.split('_', 1,expand=True)\n",
    "df48.loc[:,\"new_a\"] = np.where((df48[\"a\"].str.contains(\"Q\")), df48[\"pre_a\"], df48[\"a\"])"
   ]
  },
  {
   "cell_type": "code",
   "execution_count": 104,
   "id": "cf8fc402",
   "metadata": {},
   "outputs": [],
   "source": [
    "df48 = df48.loc[:,['e','new_a','v']]\n",
    "df48.columns=['e','a','v']\n"
   ]
  },
  {
   "cell_type": "code",
   "execution_count": 105,
   "id": "292c763a",
   "metadata": {
    "scrolled": true
   },
   "outputs": [],
   "source": [
    "#處理重複值 drop if [e,a] is the same\n",
    "df48 = df48.drop_duplicates(subset=['e','a'],keep='last')"
   ]
  },
  {
   "cell_type": "code",
   "execution_count": null,
   "id": "7ba215a0",
   "metadata": {},
   "outputs": [],
   "source": [
    "#如果要取平均值:處理重複資料\n",
    "# df48 = df48.groupby(['e', 'a'], as_index=False).mean()"
   ]
  },
  {
   "cell_type": "code",
   "execution_count": 106,
   "id": "27753819",
   "metadata": {},
   "outputs": [
    {
     "data": {
      "text/plain": [
       "P625_Longtiude    24952\n",
       "P625_Latitude     24952\n",
       "P2046             21751\n",
       "P1082             21446\n",
       "P2044             16418\n",
       "                  ...  \n",
       "P1087               135\n",
       "P8477               110\n",
       "P8476               110\n",
       "P3864                53\n",
       "P1603                 8\n",
       "Name: a, Length: 93, dtype: int64"
      ]
     },
     "execution_count": 106,
     "metadata": {},
     "output_type": "execute_result"
    }
   ],
   "source": [
    "df48.a.value_counts()"
   ]
  },
  {
   "cell_type": "code",
   "execution_count": 107,
   "id": "0dfdcce6",
   "metadata": {},
   "outputs": [],
   "source": [
    "filter = df48.a.value_counts()\n",
    "filter_index=filter.index[filter>=150]\n",
    "df48 = df48[df48['a'].isin(filter_index)]"
   ]
  },
  {
   "cell_type": "code",
   "execution_count": 108,
   "id": "ad5a68b4",
   "metadata": {},
   "outputs": [
    {
     "data": {
      "text/html": [
       "<div>\n",
       "<style scoped>\n",
       "    .dataframe tbody tr th:only-of-type {\n",
       "        vertical-align: middle;\n",
       "    }\n",
       "\n",
       "    .dataframe tbody tr th {\n",
       "        vertical-align: top;\n",
       "    }\n",
       "\n",
       "    .dataframe thead th {\n",
       "        text-align: right;\n",
       "    }\n",
       "</style>\n",
       "<table border=\"1\" class=\"dataframe\">\n",
       "  <thead>\n",
       "    <tr style=\"text-align: right;\">\n",
       "      <th></th>\n",
       "      <th>e</th>\n",
       "      <th>a</th>\n",
       "      <th>v</th>\n",
       "    </tr>\n",
       "  </thead>\n",
       "  <tbody>\n",
       "    <tr>\n",
       "      <th>1551</th>\n",
       "      <td>Q1019532</td>\n",
       "      <td>P2927</td>\n",
       "      <td>0.0</td>\n",
       "    </tr>\n",
       "    <tr>\n",
       "      <th>1768</th>\n",
       "      <td>Q1024085</td>\n",
       "      <td>P2927</td>\n",
       "      <td>0.0</td>\n",
       "    </tr>\n",
       "    <tr>\n",
       "      <th>2007</th>\n",
       "      <td>Q10268484</td>\n",
       "      <td>P6509</td>\n",
       "      <td>0.0</td>\n",
       "    </tr>\n",
       "    <tr>\n",
       "      <th>2052</th>\n",
       "      <td>Q1027483</td>\n",
       "      <td>P6509</td>\n",
       "      <td>0.0</td>\n",
       "    </tr>\n",
       "    <tr>\n",
       "      <th>2178</th>\n",
       "      <td>Q1028196</td>\n",
       "      <td>P2927</td>\n",
       "      <td>0.0</td>\n",
       "    </tr>\n",
       "    <tr>\n",
       "      <th>...</th>\n",
       "      <td>...</td>\n",
       "      <td>...</td>\n",
       "      <td>...</td>\n",
       "    </tr>\n",
       "    <tr>\n",
       "      <th>298291</th>\n",
       "      <td>Q47545</td>\n",
       "      <td>P625_Longtiude</td>\n",
       "      <td>0.0</td>\n",
       "    </tr>\n",
       "    <tr>\n",
       "      <th>299412</th>\n",
       "      <td>Q483102</td>\n",
       "      <td>P625_Longtiude</td>\n",
       "      <td>0.0</td>\n",
       "    </tr>\n",
       "    <tr>\n",
       "      <th>305557</th>\n",
       "      <td>Q51</td>\n",
       "      <td>P1333_Longtiude</td>\n",
       "      <td>0.0</td>\n",
       "    </tr>\n",
       "    <tr>\n",
       "      <th>305558</th>\n",
       "      <td>Q51</td>\n",
       "      <td>P625_Longtiude</td>\n",
       "      <td>0.0</td>\n",
       "    </tr>\n",
       "    <tr>\n",
       "      <th>318204</th>\n",
       "      <td>Q788</td>\n",
       "      <td>P625_Longtiude</td>\n",
       "      <td>0.0</td>\n",
       "    </tr>\n",
       "  </tbody>\n",
       "</table>\n",
       "<p>2383 rows × 3 columns</p>\n",
       "</div>"
      ],
      "text/plain": [
       "                e                a    v\n",
       "1551     Q1019532            P2927  0.0\n",
       "1768     Q1024085            P2927  0.0\n",
       "2007    Q10268484            P6509  0.0\n",
       "2052     Q1027483            P6509  0.0\n",
       "2178     Q1028196            P2927  0.0\n",
       "...           ...              ...  ...\n",
       "298291     Q47545   P625_Longtiude  0.0\n",
       "299412    Q483102   P625_Longtiude  0.0\n",
       "305557        Q51  P1333_Longtiude  0.0\n",
       "305558        Q51   P625_Longtiude  0.0\n",
       "318204       Q788   P625_Longtiude  0.0\n",
       "\n",
       "[2383 rows x 3 columns]"
      ]
     },
     "execution_count": 108,
     "metadata": {},
     "output_type": "execute_result"
    }
   ],
   "source": [
    "#處理0值\n",
    "df48[df48['v']==0.0]"
   ]
  },
  {
   "cell_type": "markdown",
   "id": "1a073890",
   "metadata": {},
   "source": [
    "## zero value"
   ]
  },
  {
   "cell_type": "code",
   "execution_count": 109,
   "id": "pdXy0RfSJGBO",
   "metadata": {
    "id": "pdXy0RfSJGBO"
   },
   "outputs": [],
   "source": [
    "# preparing idmap for checking real name\n",
    "entity_idmap = {}\n",
    "with open('Entities/entity_labels_en.txt',encoding=\"utf-8\") as f:\n",
    "    for line in f:\n",
    "        k, v = line.strip().split('\\t')\n",
    "        entity_idmap[k.strip()] = v.strip()\n",
    "attri_idmap={}\n",
    "with open('Attributes/attribute_labels_en.txt',encoding=\"utf-8\") as f:\n",
    "    for line in f:\n",
    "        k, v = line.strip().split('\\t')\n",
    "        attri_idmap[k.strip()] = v.strip()\n",
    "attri_idmap['P625_Latitude']='coordinate location(latitude)'\n",
    "attri_idmap['P625_Longtiude']='coordinate location(logtitude)'\n",
    "attri_idmap['P1332_Longtiude']='coordinates of northernmost point'\n",
    "attri_idmap['P1333_Longtiude']='coordinates of southernmost point'\n",
    "attri_idmap['P1334_Longtiude']='coordinates of easternmost point'\n",
    "attri_idmap['P1335_Longtiude']='coordinates of westernmost point'\n",
    "b\n",
    "df48.loc[:,'name_e']=df48['e'].map(entity_idmap)\n",
    "df48.loc[:,'name_a']=df48['a'].map(attri_idmap)"
   ]
  },
  {
   "cell_type": "code",
   "execution_count": 110,
   "id": "raWr3XjSALcl",
   "metadata": {
    "id": "raWr3XjSALcl"
   },
   "outputs": [],
   "source": [
    "# 刪掉特定列，有11個不合理的0值變數\n",
    "df48 = df48.drop(df48[(df48['a']=='P6509') & (df48['v']==0.0)].index)#'total goals in career'\n",
    "df48 = df48.drop(df48[(df48['a']=='P6544') & (df48['v']==0.0)].index)#total points in career \n",
    "df48 = df48.drop(df48[(df48['a']=='P6543') & (df48['v']==0.0)].index)#total shots in career\n",
    "df48 = df48.drop(df48[(df48['a']=='P6546') & (df48['v']==0.0)].index)#penalty minutes in career\n",
    "df48 = df48.drop(df48[(df48['a']=='P6545') & (df48['v']==0.0)].index)#total assists in career \n",
    "df48 = df48.drop(df48[(df48['a']=='P1100') & (df48['v']==0.0)].index)#attendance \n",
    "df48 = df48.drop(df48[(df48['a']=='P1279') & (df48['v']==0.0)].index)##inflation rate\n",
    "df48 = df48.drop(df48[(df48['a']=='P2121') & (df48['v']==0.0)].index)#prize money\n",
    "df48 = df48.drop(df48[(df48['a']=='P3872') & (df48['v']==0.0)].index)#惠顧人數patronage"
   ]
  },
  {
   "cell_type": "code",
   "execution_count": 111,
   "id": "e0980c53",
   "metadata": {},
   "outputs": [],
   "source": [
    "df48.reset_index(inplace=True)\n"
   ]
  },
  {
   "cell_type": "code",
   "execution_count": 112,
   "id": "74f89b7f",
   "metadata": {},
   "outputs": [
    {
     "name": "stdout",
     "output_type": "stream",
     "text": [
      "<class 'pandas.core.frame.DataFrame'>\n",
      "RangeIndex: 296457 entries, 0 to 296456\n",
      "Data columns (total 5 columns):\n",
      " #   Column  Non-Null Count   Dtype  \n",
      "---  ------  --------------   -----  \n",
      " 0   e       296457 non-null  object \n",
      " 1   a       296457 non-null  object \n",
      " 2   v       296457 non-null  float32\n",
      " 3   name_e  296457 non-null  object \n",
      " 4   name_a  262436 non-null  object \n",
      "dtypes: float32(1), object(4)\n",
      "memory usage: 10.2+ MB\n"
     ]
    }
   ],
   "source": [
    "df48= df48.drop('index',axis=1)\n",
    "df48.info()"
   ]
  },
  {
   "cell_type": "code",
   "execution_count": null,
   "id": "b3d6d10d",
   "metadata": {},
   "outputs": [],
   "source": [
    "# 縮小domain"
   ]
  },
  {
   "cell_type": "code",
   "execution_count": 113,
   "id": "c7be8f89",
   "metadata": {},
   "outputs": [],
   "source": [
    "filter = df48.a.value_counts()\n",
    "filter_index=filter.index[filter>=150]\n",
    "df48 = df48[df48['a'].isin(filter_index)]"
   ]
  },
  {
   "cell_type": "code",
   "execution_count": 114,
   "id": "76f5ddae",
   "metadata": {},
   "outputs": [
    {
     "name": "stdout",
     "output_type": "stream",
     "text": [
      "triple number of df48: 296308, num of df48_entity: 47939, num of df48_attribute: 86\n"
     ]
    }
   ],
   "source": [
    "print(f'triple number of df48: {len(df48)}, num of df48_entity: {len(df48[\"e\"].unique())}, num of df48_attribute: {len(df48[\"a\"].unique())}')"
   ]
  },
  {
   "cell_type": "code",
   "execution_count": 115,
   "id": "e802d572",
   "metadata": {},
   "outputs": [],
   "source": [
    "ent_typemap = {}\n",
    "with open('Entities/entity_types.txt',encoding=\"utf-8\") as f:\n",
    "    for line in f:\n",
    "        k, v = line.strip().split('\\t')\n",
    "        ent_typemap[k.strip()] = v.strip()"
   ]
  },
  {
   "cell_type": "code",
   "execution_count": 116,
   "id": "a5cdd024",
   "metadata": {},
   "outputs": [],
   "source": [
    "df48['ent_type'] = df48['e'].map(ent_typemap)"
   ]
  },
  {
   "cell_type": "code",
   "execution_count": 117,
   "id": "a7520b6e",
   "metadata": {},
   "outputs": [],
   "source": [
    "df48 = df48.loc[:,[\"e\",\"a\",\"v\",\"name_e\",\"name_a\",\"ent_type\"]]"
   ]
  },
  {
   "cell_type": "code",
   "execution_count": 146,
   "id": "03f21f0e",
   "metadata": {},
   "outputs": [
    {
     "name": "stdout",
     "output_type": "stream",
     "text": [
      "triple number of df48: 296308, num of df48_entity: 47939, num of df48_attribute: 86\n"
     ]
    }
   ],
   "source": [
    "print(f'triple number of df48: {len(df48)}, num of df48_entity: {len(df48[\"e\"].unique())}, num of df48_attribute: {len(df48[\"a\"].unique())}')"
   ]
  },
  {
   "cell_type": "code",
   "execution_count": 119,
   "id": "46ff11f9",
   "metadata": {},
   "outputs": [
    {
     "name": "stdout",
     "output_type": "stream",
     "text": [
      "<class 'pandas.core.frame.DataFrame'>\n",
      "Int64Index: 296308 entries, 0 to 296456\n",
      "Data columns (total 6 columns):\n",
      " #   Column    Non-Null Count   Dtype  \n",
      "---  ------    --------------   -----  \n",
      " 0   e         296308 non-null  object \n",
      " 1   a         296308 non-null  object \n",
      " 2   v         296308 non-null  float32\n",
      " 3   name_e    296308 non-null  object \n",
      " 4   name_a    262287 non-null  object \n",
      " 5   ent_type  296308 non-null  object \n",
      "dtypes: float32(1), object(5)\n",
      "memory usage: 14.7+ MB\n"
     ]
    }
   ],
   "source": [
    "df48.info()"
   ]
  },
  {
   "cell_type": "code",
   "execution_count": 120,
   "id": "c1608bb3",
   "metadata": {
    "scrolled": false
   },
   "outputs": [],
   "source": [
    "df48['name_a']=df48['name_a'].astype('string')"
   ]
  },
  {
   "cell_type": "code",
   "execution_count": 78,
   "id": "1340eb5a",
   "metadata": {},
   "outputs": [],
   "source": [
    "df48_p=df48"
   ]
  },
  {
   "cell_type": "code",
   "execution_count": 131,
   "id": "5aeacdd2",
   "metadata": {},
   "outputs": [],
   "source": [
    "row_idx = []\n",
    "def gather_data(name_att,df):\n",
    "    df = df.reset_index(drop=True)\n",
    "    ents = list(df[df['name_a'].str.contains(name_att,na=False)].e.unique())\n",
    "    for ent in ents:\n",
    "        list_ent=list(df[df['e']==ent].index)\n",
    "        row_idx.extend(list_ent)\n",
    "    return row_idx"
   ]
  },
  {
   "cell_type": "code",
   "execution_count": 45,
   "id": "57169c38",
   "metadata": {},
   "outputs": [],
   "source": [
    "ent_idx=gather_data('population',df48_p)"
   ]
  },
  {
   "cell_type": "code",
   "execution_count": 132,
   "id": "c5a36949",
   "metadata": {},
   "outputs": [],
   "source": [
    "ent_idx2=gather_data('GDP',df48_p)"
   ]
  },
  {
   "cell_type": "code",
   "execution_count": 133,
   "id": "bde8179b",
   "metadata": {},
   "outputs": [
    {
     "data": {
      "text/html": [
       "<div>\n",
       "<style scoped>\n",
       "    .dataframe tbody tr th:only-of-type {\n",
       "        vertical-align: middle;\n",
       "    }\n",
       "\n",
       "    .dataframe tbody tr th {\n",
       "        vertical-align: top;\n",
       "    }\n",
       "\n",
       "    .dataframe thead th {\n",
       "        text-align: right;\n",
       "    }\n",
       "</style>\n",
       "<table border=\"1\" class=\"dataframe\">\n",
       "  <thead>\n",
       "    <tr style=\"text-align: right;\">\n",
       "      <th></th>\n",
       "      <th>e</th>\n",
       "      <th>a</th>\n",
       "      <th>v</th>\n",
       "      <th>name_e</th>\n",
       "      <th>name_a</th>\n",
       "      <th>ent_type</th>\n",
       "    </tr>\n",
       "  </thead>\n",
       "  <tbody>\n",
       "    <tr>\n",
       "      <th>147</th>\n",
       "      <td>Q1000</td>\n",
       "      <td>P1081</td>\n",
       "      <td>7.020000e-01</td>\n",
       "      <td>Gabon</td>\n",
       "      <td>Human Development Index</td>\n",
       "      <td>Q3624078</td>\n",
       "    </tr>\n",
       "    <tr>\n",
       "      <th>148</th>\n",
       "      <td>Q1000</td>\n",
       "      <td>P1082</td>\n",
       "      <td>2.025137e+06</td>\n",
       "      <td>Gabon</td>\n",
       "      <td>population</td>\n",
       "      <td>Q3624078</td>\n",
       "    </tr>\n",
       "    <tr>\n",
       "      <th>150</th>\n",
       "      <td>Q1000</td>\n",
       "      <td>P2046</td>\n",
       "      <td>2.676670e+08</td>\n",
       "      <td>Gabon</td>\n",
       "      <td>area</td>\n",
       "      <td>Q3624078</td>\n",
       "    </tr>\n",
       "    <tr>\n",
       "      <th>151</th>\n",
       "      <td>Q1000</td>\n",
       "      <td>P2131</td>\n",
       "      <td>1.462288e+10</td>\n",
       "      <td>Gabon</td>\n",
       "      <td>nominal GDP</td>\n",
       "      <td>Q3624078</td>\n",
       "    </tr>\n",
       "    <tr>\n",
       "      <th>152</th>\n",
       "      <td>Q1000</td>\n",
       "      <td>P2132</td>\n",
       "      <td>7.413000e+03</td>\n",
       "      <td>Gabon</td>\n",
       "      <td>nominal GDP per capita</td>\n",
       "      <td>Q3624078</td>\n",
       "    </tr>\n",
       "    <tr>\n",
       "      <th>...</th>\n",
       "      <td>...</td>\n",
       "      <td>...</td>\n",
       "      <td>...</td>\n",
       "      <td>...</td>\n",
       "      <td>...</td>\n",
       "      <td>...</td>\n",
       "    </tr>\n",
       "    <tr>\n",
       "      <th>237095</th>\n",
       "      <td>Q986</td>\n",
       "      <td>P1335_Latitude</td>\n",
       "      <td>1.511000e+01</td>\n",
       "      <td>Eritrea</td>\n",
       "      <td>NaN</td>\n",
       "      <td>Q7270</td>\n",
       "    </tr>\n",
       "    <tr>\n",
       "      <th>237096</th>\n",
       "      <td>Q986</td>\n",
       "      <td>P625_Latitude</td>\n",
       "      <td>1.548333e+01</td>\n",
       "      <td>Eritrea</td>\n",
       "      <td>coordinate location(latitude)</td>\n",
       "      <td>Q7270</td>\n",
       "    </tr>\n",
       "    <tr>\n",
       "      <th>296067</th>\n",
       "      <td>Q986</td>\n",
       "      <td>P1332_Longtiude</td>\n",
       "      <td>3.857000e+01</td>\n",
       "      <td>Eritrea</td>\n",
       "      <td>coordinates of northernmost point</td>\n",
       "      <td>Q7270</td>\n",
       "    </tr>\n",
       "    <tr>\n",
       "      <th>296068</th>\n",
       "      <td>Q986</td>\n",
       "      <td>P1335_Longtiude</td>\n",
       "      <td>3.665750e+01</td>\n",
       "      <td>Eritrea</td>\n",
       "      <td>coordinates of westernmost point</td>\n",
       "      <td>Q7270</td>\n",
       "    </tr>\n",
       "    <tr>\n",
       "      <th>296069</th>\n",
       "      <td>Q986</td>\n",
       "      <td>P625_Longtiude</td>\n",
       "      <td>3.825000e+01</td>\n",
       "      <td>Eritrea</td>\n",
       "      <td>coordinate location(logtitude)</td>\n",
       "      <td>Q7270</td>\n",
       "    </tr>\n",
       "  </tbody>\n",
       "</table>\n",
       "<p>3356 rows × 6 columns</p>\n",
       "</div>"
      ],
      "text/plain": [
       "            e                a             v   name_e  \\\n",
       "147     Q1000            P1081  7.020000e-01    Gabon   \n",
       "148     Q1000            P1082  2.025137e+06    Gabon   \n",
       "150     Q1000            P2046  2.676670e+08    Gabon   \n",
       "151     Q1000            P2131  1.462288e+10    Gabon   \n",
       "152     Q1000            P2132  7.413000e+03    Gabon   \n",
       "...       ...              ...           ...      ...   \n",
       "237095   Q986   P1335_Latitude  1.511000e+01  Eritrea   \n",
       "237096   Q986    P625_Latitude  1.548333e+01  Eritrea   \n",
       "296067   Q986  P1332_Longtiude  3.857000e+01  Eritrea   \n",
       "296068   Q986  P1335_Longtiude  3.665750e+01  Eritrea   \n",
       "296069   Q986   P625_Longtiude  3.825000e+01  Eritrea   \n",
       "\n",
       "                                   name_a  ent_type  \n",
       "147               Human Development Index  Q3624078  \n",
       "148                            population  Q3624078  \n",
       "150                                  area  Q3624078  \n",
       "151                           nominal GDP  Q3624078  \n",
       "152                nominal GDP per capita  Q3624078  \n",
       "...                                   ...       ...  \n",
       "237095                                NaN     Q7270  \n",
       "237096      coordinate location(latitude)     Q7270  \n",
       "296067  coordinates of northernmost point     Q7270  \n",
       "296068   coordinates of westernmost point     Q7270  \n",
       "296069     coordinate location(logtitude)     Q7270  \n",
       "\n",
       "[3356 rows x 6 columns]"
      ]
     },
     "execution_count": 133,
     "metadata": {},
     "output_type": "execute_result"
    }
   ],
   "source": [
    "df48_p.iloc[ent_idx2,:]"
   ]
  },
  {
   "cell_type": "code",
   "execution_count": 134,
   "id": "e4054d9e",
   "metadata": {},
   "outputs": [],
   "source": [
    "gdp_related_att = df48.iloc[list(set(ent_idx2)),:]"
   ]
  },
  {
   "cell_type": "code",
   "execution_count": 140,
   "id": "000b6302",
   "metadata": {},
   "outputs": [],
   "source": [
    "gdp_related_att=gdp_related_att.loc[:,['e','a','v']]"
   ]
  },
  {
   "cell_type": "code",
   "execution_count": 141,
   "id": "1df45601",
   "metadata": {},
   "outputs": [],
   "source": [
    "gdp_related_att.to_csv('files_needed/gdp_related.txt',index=False)"
   ]
  },
  {
   "cell_type": "markdown",
   "id": "404226f2",
   "metadata": {},
   "source": [
    "# type specific"
   ]
  },
  {
   "cell_type": "code",
   "execution_count": null,
   "id": "673422f8",
   "metadata": {},
   "outputs": [],
   "source": [
    "row_idx = []\n",
    "def gather_data(name_att,df):\n",
    "    df = df.reset_index(drop=True)\n",
    "    a_type = list(df[df['name_a'].str.contains(name_att)].ent_type.unique())\n",
    "    for type in a_type:\n",
    "        list_type=list(df[df['ent_type']==type].index)\n",
    "        row_idx.extend(list_type)\n",
    "    return row_idx"
   ]
  },
  {
   "cell_type": "code",
   "execution_count": null,
   "id": "41908a88",
   "metadata": {},
   "outputs": [],
   "source": [
    "idx= gather_data(\"population\",df48)\n",
    "pop_related_att = df48.iloc[idx,:]\n",
    "pop_related_att.reset_index(inplace=True)\n",
    "pop_related_att=pop_related_att.drop('index',axis=1)"
   ]
  },
  {
   "cell_type": "code",
   "execution_count": null,
   "id": "ee810987",
   "metadata": {},
   "outputs": [],
   "source": [
    "pop_related_att.to_csv('files_needed/pop_related_att',index=False)"
   ]
  },
  {
   "cell_type": "code",
   "execution_count": null,
   "id": "333ec084",
   "metadata": {},
   "outputs": [],
   "source": [
    "df48[df48.name_a.str.contains(\"work\")]"
   ]
  },
  {
   "cell_type": "code",
   "execution_count": null,
   "id": "f9148226",
   "metadata": {},
   "outputs": [],
   "source": [
    "idx2= gather_data(\"date of birth\",df48)\n",
    "people_related_att = df48.iloc[idx2,:]\n"
   ]
  },
  {
   "cell_type": "code",
   "execution_count": null,
   "id": "76ae0064",
   "metadata": {},
   "outputs": [],
   "source": [
    "var_name = [\"population\",\"GDP (PPP)\",\"PPP GDP per capita\",\n",
    "      \"date of birth\",\"date of death\", \"life expectancy\",\n",
    "      \"total revenue\",\"net profit\",\n",
    "      \"area\",\n",
    "      \"retirement age\",\"age of majority\",\"work period (start)\",\"work period (end)\"]"
   ]
  },
  {
   "cell_type": "code",
   "execution_count": null,
   "id": "afad0fd1",
   "metadata": {},
   "outputs": [],
   "source": [
    "people_related_att.name_a.value_counts()"
   ]
  },
  {
   "cell_type": "code",
   "execution_count": 17,
   "id": "cd5456ed",
   "metadata": {},
   "outputs": [],
   "source": [
    "pop_related_att = pd.read_csv('files_needed/pop_related_att')"
   ]
  },
  {
   "cell_type": "code",
   "execution_count": 137,
   "id": "485c5f53",
   "metadata": {},
   "outputs": [
    {
     "data": {
      "text/html": [
       "<div>\n",
       "<style scoped>\n",
       "    .dataframe tbody tr th:only-of-type {\n",
       "        vertical-align: middle;\n",
       "    }\n",
       "\n",
       "    .dataframe tbody tr th {\n",
       "        vertical-align: top;\n",
       "    }\n",
       "\n",
       "    .dataframe thead th {\n",
       "        text-align: right;\n",
       "    }\n",
       "</style>\n",
       "<table border=\"1\" class=\"dataframe\">\n",
       "  <thead>\n",
       "    <tr style=\"text-align: right;\">\n",
       "      <th></th>\n",
       "      <th>e</th>\n",
       "      <th>a</th>\n",
       "      <th>v</th>\n",
       "      <th>name_e</th>\n",
       "      <th>name_a</th>\n",
       "      <th>ent_type</th>\n",
       "      <th>std_v</th>\n",
       "    </tr>\n",
       "  </thead>\n",
       "  <tbody>\n",
       "    <tr>\n",
       "      <th>0</th>\n",
       "      <td>Q1000056</td>\n",
       "      <td>P1082</td>\n",
       "      <td>11032.00</td>\n",
       "      <td>Sušice</td>\n",
       "      <td>population</td>\n",
       "      <td>Q7841907</td>\n",
       "      <td>-0.030708</td>\n",
       "    </tr>\n",
       "    <tr>\n",
       "      <th>1</th>\n",
       "      <td>Q1000056</td>\n",
       "      <td>P2044</td>\n",
       "      <td>472.00</td>\n",
       "      <td>Sušice</td>\n",
       "      <td>elevation above sea level</td>\n",
       "      <td>Q7841907</td>\n",
       "      <td>-0.031042</td>\n",
       "    </tr>\n",
       "    <tr>\n",
       "      <th>2</th>\n",
       "      <td>Q1000056</td>\n",
       "      <td>P2046</td>\n",
       "      <td>45630000.00</td>\n",
       "      <td>Sušice</td>\n",
       "      <td>area</td>\n",
       "      <td>Q7841907</td>\n",
       "      <td>1.411756</td>\n",
       "    </tr>\n",
       "    <tr>\n",
       "      <th>3</th>\n",
       "      <td>Q1010144</td>\n",
       "      <td>P1082</td>\n",
       "      <td>5419.00</td>\n",
       "      <td>Hluboká nad Vltavou</td>\n",
       "      <td>population</td>\n",
       "      <td>Q7841907</td>\n",
       "      <td>-0.030886</td>\n",
       "    </tr>\n",
       "    <tr>\n",
       "      <th>4</th>\n",
       "      <td>Q1010144</td>\n",
       "      <td>P2044</td>\n",
       "      <td>394.00</td>\n",
       "      <td>Hluboká nad Vltavou</td>\n",
       "      <td>elevation above sea level</td>\n",
       "      <td>Q7841907</td>\n",
       "      <td>-0.031045</td>\n",
       "    </tr>\n",
       "    <tr>\n",
       "      <th>...</th>\n",
       "      <td>...</td>\n",
       "      <td>...</td>\n",
       "      <td>...</td>\n",
       "      <td>...</td>\n",
       "      <td>...</td>\n",
       "      <td>...</td>\n",
       "      <td>...</td>\n",
       "    </tr>\n",
       "    <tr>\n",
       "      <th>149557</th>\n",
       "      <td>Q48438</td>\n",
       "      <td>P569</td>\n",
       "      <td>280.00</td>\n",
       "      <td>Saint George</td>\n",
       "      <td>date of birth</td>\n",
       "      <td>Q21070568</td>\n",
       "      <td>-0.031048</td>\n",
       "    </tr>\n",
       "    <tr>\n",
       "      <th>149558</th>\n",
       "      <td>Q48438</td>\n",
       "      <td>P570</td>\n",
       "      <td>303.00</td>\n",
       "      <td>Saint George</td>\n",
       "      <td>date of death</td>\n",
       "      <td>Q21070568</td>\n",
       "      <td>-0.031048</td>\n",
       "    </tr>\n",
       "    <tr>\n",
       "      <th>149559</th>\n",
       "      <td>Q217533</td>\n",
       "      <td>P2048</td>\n",
       "      <td>1.85</td>\n",
       "      <td>Joker</td>\n",
       "      <td>height</td>\n",
       "      <td>Q6498903</td>\n",
       "      <td>-0.031057</td>\n",
       "    </tr>\n",
       "    <tr>\n",
       "      <th>149560</th>\n",
       "      <td>Q217533</td>\n",
       "      <td>P2067</td>\n",
       "      <td>75.00</td>\n",
       "      <td>Joker</td>\n",
       "      <td>mass</td>\n",
       "      <td>Q6498903</td>\n",
       "      <td>-0.031055</td>\n",
       "    </tr>\n",
       "    <tr>\n",
       "      <th>149561</th>\n",
       "      <td>Q840291</td>\n",
       "      <td>P569</td>\n",
       "      <td>1920.00</td>\n",
       "      <td>Magneto</td>\n",
       "      <td>date of birth</td>\n",
       "      <td>Q6498903</td>\n",
       "      <td>-0.030997</td>\n",
       "    </tr>\n",
       "  </tbody>\n",
       "</table>\n",
       "<p>149562 rows × 7 columns</p>\n",
       "</div>"
      ],
      "text/plain": [
       "               e      a            v               name_e  \\\n",
       "0       Q1000056  P1082     11032.00               Sušice   \n",
       "1       Q1000056  P2044       472.00               Sušice   \n",
       "2       Q1000056  P2046  45630000.00               Sušice   \n",
       "3       Q1010144  P1082      5419.00  Hluboká nad Vltavou   \n",
       "4       Q1010144  P2044       394.00  Hluboká nad Vltavou   \n",
       "...          ...    ...          ...                  ...   \n",
       "149557    Q48438   P569       280.00         Saint George   \n",
       "149558    Q48438   P570       303.00         Saint George   \n",
       "149559   Q217533  P2048         1.85                Joker   \n",
       "149560   Q217533  P2067        75.00                Joker   \n",
       "149561   Q840291   P569      1920.00              Magneto   \n",
       "\n",
       "                           name_a   ent_type     std_v  \n",
       "0                      population   Q7841907 -0.030708  \n",
       "1       elevation above sea level   Q7841907 -0.031042  \n",
       "2                            area   Q7841907  1.411756  \n",
       "3                      population   Q7841907 -0.030886  \n",
       "4       elevation above sea level   Q7841907 -0.031045  \n",
       "...                           ...        ...       ...  \n",
       "149557              date of birth  Q21070568 -0.031048  \n",
       "149558              date of death  Q21070568 -0.031048  \n",
       "149559                     height   Q6498903 -0.031057  \n",
       "149560                       mass   Q6498903 -0.031055  \n",
       "149561              date of birth   Q6498903 -0.030997  \n",
       "\n",
       "[149562 rows x 7 columns]"
      ]
     },
     "execution_count": 137,
     "metadata": {},
     "output_type": "execute_result"
    }
   ],
   "source": [
    "pop_related_att"
   ]
  },
  {
   "cell_type": "code",
   "execution_count": null,
   "id": "b34fa214",
   "metadata": {
    "scrolled": false
   },
   "outputs": [],
   "source": [
    "idx_all = []\n",
    "for var in var_name:\n",
    "    idx_all = gather_data(var,df48)\n"
   ]
  },
  {
   "cell_type": "code",
   "execution_count": null,
   "id": "94d211b9",
   "metadata": {},
   "outputs": [],
   "source": [
    "idx_all"
   ]
  },
  {
   "cell_type": "code",
   "execution_count": null,
   "id": "7d23f4dc",
   "metadata": {},
   "outputs": [],
   "source": [
    "df48.a.value_counts()"
   ]
  },
  {
   "cell_type": "code",
   "execution_count": null,
   "id": "0730e370",
   "metadata": {},
   "outputs": [],
   "source": [
    "list(set(idx_all))"
   ]
  },
  {
   "cell_type": "code",
   "execution_count": null,
   "id": "b243b244",
   "metadata": {},
   "outputs": [],
   "source": [
    "var_extracted = df48.iloc[list(set(idx_all)),:]"
   ]
  },
  {
   "cell_type": "code",
   "execution_count": null,
   "id": "08655983",
   "metadata": {},
   "outputs": [],
   "source": [
    "var_extracted = var_extracted.reset_index(drop=True)"
   ]
  },
  {
   "cell_type": "code",
   "execution_count": null,
   "id": "55f7f29d",
   "metadata": {},
   "outputs": [],
   "source": [
    "var_extracted.info()"
   ]
  },
  {
   "cell_type": "markdown",
   "id": "yFP3JXFl04cV",
   "metadata": {
    "id": "yFP3JXFl04cV"
   },
   "source": [
    "## Rescale decimal values"
   ]
  },
  {
   "cell_type": "code",
   "execution_count": 142,
   "id": "ace2c263",
   "metadata": {},
   "outputs": [],
   "source": [
    "#標準常態係數\n",
    "from sklearn.preprocessing import StandardScaler\n",
    "def attvalue2scale(df):\n",
    "    scaler = StandardScaler()\n",
    "    alist=list(df['a'].unique())\n",
    "    for a_name in alist:\n",
    "        attdf = df[df[\"a\"]==a_name]\n",
    "        scaler.fit(attdf.v.to_numpy().reshape(-1,1))\n",
    "        result = scaler.transform(df.v.to_numpy().reshape(-1,1))\n",
    "        return result\n"
   ]
  },
  {
   "cell_type": "code",
   "execution_count": 147,
   "id": "69e7535e",
   "metadata": {},
   "outputs": [],
   "source": [
    "x = attvalue2scale(df48)"
   ]
  },
  {
   "cell_type": "code",
   "execution_count": null,
   "id": "63f48f24",
   "metadata": {},
   "outputs": [],
   "source": [
    "x"
   ]
  },
  {
   "cell_type": "code",
   "execution_count": 148,
   "id": "a9a5496d",
   "metadata": {},
   "outputs": [],
   "source": [
    "df48['std_v']=x"
   ]
  },
  {
   "cell_type": "code",
   "execution_count": 149,
   "id": "79a4a757",
   "metadata": {},
   "outputs": [
    {
     "data": {
      "text/plain": [
       "P625_Longtiude     24952\n",
       "P625_Latitude      24952\n",
       "P2046              21751\n",
       "P1082              21446\n",
       "P2044              16418\n",
       "P569               15932\n",
       "P571               12178\n",
       "P2067               8909\n",
       "P1332_Longtiude     8537\n",
       "P1332_Latitude      8537\n",
       "Name: a, dtype: int64"
      ]
     },
     "execution_count": 149,
     "metadata": {},
     "output_type": "execute_result"
    }
   ],
   "source": [
    "df48.a.value_counts()[:10]"
   ]
  },
  {
   "cell_type": "code",
   "execution_count": null,
   "id": "d6756c96",
   "metadata": {},
   "outputs": [],
   "source": [
    "df48[df48.std_v==6.287763e+22]"
   ]
  },
  {
   "cell_type": "code",
   "execution_count": null,
   "id": "84aa1a53",
   "metadata": {},
   "outputs": [],
   "source": [
    "maxoutlier= df48[df48['a']=='P2046'].v > df48[df48['a']=='P2046'].v.mean() + 2 * df48[df48['a']=='P2046'].v.std()                          "
   ]
  },
  {
   "cell_type": "code",
   "execution_count": null,
   "id": "50fdd213",
   "metadata": {
    "scrolled": false
   },
   "outputs": [],
   "source": [
    "df48.iloc[maxoutlier.index,:]"
   ]
  },
  {
   "cell_type": "code",
   "execution_count": null,
   "id": "50b78e1b",
   "metadata": {},
   "outputs": [],
   "source": [
    "df48.loc[125347,'v']=4.239700e+8"
   ]
  },
  {
   "cell_type": "code",
   "execution_count": 155,
   "id": "X7IKKlvgD1Fq",
   "metadata": {
    "id": "X7IKKlvgD1Fq"
   },
   "outputs": [],
   "source": [
    "#minmax method\n",
    "def attvalue2maxmin(df):\n",
    "  alist=list(df['a'].unique())\n",
    "  for a_name in alist:\n",
    "    attdf = df[df[\"a\"]==a_name]\n",
    "    for i in range(len(attdf)):\n",
    "      result = (df.v - attdf.v.min())/ (attdf.v.max()- attdf.v.min())\n",
    "      return result\n"
   ]
  },
  {
   "cell_type": "code",
   "execution_count": 156,
   "id": "e116c0a7",
   "metadata": {},
   "outputs": [],
   "source": [
    "df48.loc[:,'minmax_v']=attvalue2maxmin(df48)"
   ]
  },
  {
   "cell_type": "code",
   "execution_count": 159,
   "id": "9661e3ff",
   "metadata": {},
   "outputs": [],
   "source": [
    "df48=df48.drop('index',axis=1)"
   ]
  },
  {
   "cell_type": "code",
   "execution_count": 151,
   "id": "3f4ffe7b",
   "metadata": {
    "scrolled": false
   },
   "outputs": [
    {
     "data": {
      "text/html": [
       "<div>\n",
       "<style scoped>\n",
       "    .dataframe tbody tr th:only-of-type {\n",
       "        vertical-align: middle;\n",
       "    }\n",
       "\n",
       "    .dataframe tbody tr th {\n",
       "        vertical-align: top;\n",
       "    }\n",
       "\n",
       "    .dataframe thead th {\n",
       "        text-align: right;\n",
       "    }\n",
       "</style>\n",
       "<table border=\"1\" class=\"dataframe\">\n",
       "  <thead>\n",
       "    <tr style=\"text-align: right;\">\n",
       "      <th></th>\n",
       "      <th>e</th>\n",
       "      <th>a</th>\n",
       "      <th>v</th>\n",
       "      <th>name_e</th>\n",
       "      <th>name_a</th>\n",
       "      <th>ent_type</th>\n",
       "      <th>std_v</th>\n",
       "    </tr>\n",
       "  </thead>\n",
       "  <tbody>\n",
       "    <tr>\n",
       "      <th>0</th>\n",
       "      <td>Q1000056</td>\n",
       "      <td>P1082</td>\n",
       "      <td>1.103200e+04</td>\n",
       "      <td>Sušice</td>\n",
       "      <td>population</td>\n",
       "      <td>Q7841907</td>\n",
       "      <td>-0.030708</td>\n",
       "    </tr>\n",
       "    <tr>\n",
       "      <th>1</th>\n",
       "      <td>Q1000056</td>\n",
       "      <td>P2044</td>\n",
       "      <td>4.720000e+02</td>\n",
       "      <td>Sušice</td>\n",
       "      <td>elevation above sea level</td>\n",
       "      <td>Q7841907</td>\n",
       "      <td>-0.031042</td>\n",
       "    </tr>\n",
       "    <tr>\n",
       "      <th>2</th>\n",
       "      <td>Q1000056</td>\n",
       "      <td>P2046</td>\n",
       "      <td>4.563000e+07</td>\n",
       "      <td>Sušice</td>\n",
       "      <td>area</td>\n",
       "      <td>Q7841907</td>\n",
       "      <td>1.411756</td>\n",
       "    </tr>\n",
       "    <tr>\n",
       "      <th>3</th>\n",
       "      <td>Q1000138</td>\n",
       "      <td>P1082</td>\n",
       "      <td>1.375000e+03</td>\n",
       "      <td>Cantenac</td>\n",
       "      <td>population</td>\n",
       "      <td>Q484170</td>\n",
       "      <td>-0.031014</td>\n",
       "    </tr>\n",
       "    <tr>\n",
       "      <th>4</th>\n",
       "      <td>Q1000138</td>\n",
       "      <td>P2044</td>\n",
       "      <td>1.000000e+00</td>\n",
       "      <td>Cantenac</td>\n",
       "      <td>elevation above sea level</td>\n",
       "      <td>Q484170</td>\n",
       "      <td>-0.031057</td>\n",
       "    </tr>\n",
       "    <tr>\n",
       "      <th>...</th>\n",
       "      <td>...</td>\n",
       "      <td>...</td>\n",
       "      <td>...</td>\n",
       "      <td>...</td>\n",
       "      <td>...</td>\n",
       "      <td>...</td>\n",
       "      <td>...</td>\n",
       "    </tr>\n",
       "    <tr>\n",
       "      <th>296303</th>\n",
       "      <td>Q99987</td>\n",
       "      <td>P1333_Longtiude</td>\n",
       "      <td>9.586108e+00</td>\n",
       "      <td>Brembate di Sopra</td>\n",
       "      <td>coordinates of southernmost point</td>\n",
       "      <td>Q747074</td>\n",
       "      <td>-0.031057</td>\n",
       "    </tr>\n",
       "    <tr>\n",
       "      <th>296304</th>\n",
       "      <td>Q99987</td>\n",
       "      <td>P1334_Longtiude</td>\n",
       "      <td>9.595788e+00</td>\n",
       "      <td>Brembate di Sopra</td>\n",
       "      <td>coordinates of easternmost point</td>\n",
       "      <td>Q747074</td>\n",
       "      <td>-0.031057</td>\n",
       "    </tr>\n",
       "    <tr>\n",
       "      <th>296305</th>\n",
       "      <td>Q99987</td>\n",
       "      <td>P1335_Longtiude</td>\n",
       "      <td>9.564391e+00</td>\n",
       "      <td>Brembate di Sopra</td>\n",
       "      <td>coordinates of westernmost point</td>\n",
       "      <td>Q747074</td>\n",
       "      <td>-0.031057</td>\n",
       "    </tr>\n",
       "    <tr>\n",
       "      <th>296306</th>\n",
       "      <td>Q99987</td>\n",
       "      <td>P625_Longtiude</td>\n",
       "      <td>9.580647e+00</td>\n",
       "      <td>Brembate di Sopra</td>\n",
       "      <td>coordinate location(logtitude)</td>\n",
       "      <td>Q747074</td>\n",
       "      <td>-0.031057</td>\n",
       "    </tr>\n",
       "    <tr>\n",
       "      <th>296307</th>\n",
       "      <td>Q99</td>\n",
       "      <td>P625_Longtiude</td>\n",
       "      <td>-1.200000e+02</td>\n",
       "      <td>California</td>\n",
       "      <td>coordinate location(logtitude)</td>\n",
       "      <td>Q35657</td>\n",
       "      <td>-0.031061</td>\n",
       "    </tr>\n",
       "  </tbody>\n",
       "</table>\n",
       "<p>296308 rows × 7 columns</p>\n",
       "</div>"
      ],
      "text/plain": [
       "               e                a             v             name_e  \\\n",
       "0       Q1000056            P1082  1.103200e+04             Sušice   \n",
       "1       Q1000056            P2044  4.720000e+02             Sušice   \n",
       "2       Q1000056            P2046  4.563000e+07             Sušice   \n",
       "3       Q1000138            P1082  1.375000e+03           Cantenac   \n",
       "4       Q1000138            P2044  1.000000e+00           Cantenac   \n",
       "...          ...              ...           ...                ...   \n",
       "296303    Q99987  P1333_Longtiude  9.586108e+00  Brembate di Sopra   \n",
       "296304    Q99987  P1334_Longtiude  9.595788e+00  Brembate di Sopra   \n",
       "296305    Q99987  P1335_Longtiude  9.564391e+00  Brembate di Sopra   \n",
       "296306    Q99987   P625_Longtiude  9.580647e+00  Brembate di Sopra   \n",
       "296307       Q99   P625_Longtiude -1.200000e+02         California   \n",
       "\n",
       "                                   name_a  ent_type     std_v  \n",
       "0                              population  Q7841907 -0.030708  \n",
       "1               elevation above sea level  Q7841907 -0.031042  \n",
       "2                                    area  Q7841907  1.411756  \n",
       "3                              population   Q484170 -0.031014  \n",
       "4               elevation above sea level   Q484170 -0.031057  \n",
       "...                                   ...       ...       ...  \n",
       "296303  coordinates of southernmost point   Q747074 -0.031057  \n",
       "296304   coordinates of easternmost point   Q747074 -0.031057  \n",
       "296305   coordinates of westernmost point   Q747074 -0.031057  \n",
       "296306     coordinate location(logtitude)   Q747074 -0.031057  \n",
       "296307     coordinate location(logtitude)    Q35657 -0.031061  \n",
       "\n",
       "[296308 rows x 7 columns]"
      ]
     },
     "execution_count": 151,
     "metadata": {},
     "output_type": "execute_result"
    }
   ],
   "source": [
    "df48 = df48.reset_index()\n",
    "df48.drop('index',axis=1)"
   ]
  },
  {
   "cell_type": "markdown",
   "id": "ZGAAATT_C0tJ",
   "metadata": {
    "id": "ZGAAATT_C0tJ"
   },
   "source": [
    "## Save the cleaning data 存檔"
   ]
  },
  {
   "cell_type": "code",
   "execution_count": 160,
   "id": "zeHVUcys2ado",
   "metadata": {
    "id": "zeHVUcys2ado"
   },
   "outputs": [],
   "source": [
    "#df48 = df48.loc[:,['e','a','v','name_e','name_a','ent_type','std_v']]\n",
    "df48.to_csv('files_needed/numeric_literals_ver06',index=False)\n"
   ]
  },
  {
   "cell_type": "code",
   "execution_count": null,
   "id": "13fe83ef",
   "metadata": {},
   "outputs": [],
   "source": [
    "#outlier not finish"
   ]
  },
  {
   "cell_type": "markdown",
   "id": "9EQLskGcy9Wl",
   "metadata": {
    "id": "9EQLskGcy9Wl"
   },
   "source": [
    "## Split into train, valid and test sets\n"
   ]
  },
  {
   "cell_type": "code",
   "execution_count": null,
   "id": "HCxfynspwpa5",
   "metadata": {
    "id": "HCxfynspwpa5"
   },
   "outputs": [],
   "source": [
    "from sklearn.model_selection import train_test_split\n",
    "train_attri_data, valid_attri_data = train_test_split(df48, test_size=0.2,stratify=df48['a'])\n",
    "#train_attri_data, valid_attri_data = train_test_split(df, test_size=0.2)\n",
    "valid_attri_data, test_attri_data = train_test_split(valid_attri_data, test_size=0.5,stratify=valid_attri_data['a'])\n",
    "#valid_attri_data, test_attri_data = train_test_split(valid_attri_data, test_size=0.5)"
   ]
  },
  {
   "cell_type": "code",
   "execution_count": null,
   "id": "IJRSYIiy7jxs",
   "metadata": {
    "colab": {
     "base_uri": "https://localhost:8080/"
    },
    "id": "IJRSYIiy7jxs",
    "outputId": "aafb43d8-b9e5-42e1-ebba-64140c0acb67"
   },
   "outputs": [],
   "source": [
    "print(f'training triples of df48: {len(train_attri_data)}, valid triples of df48: {len(valid_attri_data)}, test triples of df48: {len(test_attri_data)}')"
   ]
  },
  {
   "cell_type": "code",
   "execution_count": null,
   "id": "mlmTgGTL87WO",
   "metadata": {
    "colab": {
     "base_uri": "https://localhost:8080/"
    },
    "id": "mlmTgGTL87WO",
    "outputId": "92ebb8fd-02b7-4f69-863d-fed4d77e1504"
   },
   "outputs": [],
   "source": [
    "len(df48)"
   ]
  },
  {
   "cell_type": "code",
   "execution_count": null,
   "id": "aBfRtF718WvR",
   "metadata": {
    "colab": {
     "base_uri": "https://localhost:8080/",
     "height": 424
    },
    "id": "aBfRtF718WvR",
    "outputId": "8eca072e-7993-4125-f2da-8bab1e5778ec"
   },
   "outputs": [],
   "source": [
    "valid_attri_data"
   ]
  },
  {
   "cell_type": "code",
   "execution_count": null,
   "id": "YumAc_9h9HfK",
   "metadata": {
    "colab": {
     "base_uri": "https://localhost:8080/"
    },
    "id": "YumAc_9h9HfK",
    "outputId": "88122698-b3c6-4ce7-f8da-8baf2abca31e"
   },
   "outputs": [],
   "source": [
    "test_attri_data.a.value_counts()"
   ]
  },
  {
   "cell_type": "code",
   "execution_count": null,
   "id": "vayP_4Ct9Kgo",
   "metadata": {
    "colab": {
     "base_uri": "https://localhost:8080/"
    },
    "id": "vayP_4Ct9Kgo",
    "outputId": "3562c60f-4dbd-48e8-91b4-ed0e9af67b32",
    "scrolled": true
   },
   "outputs": [],
   "source": [
    "train_attri_data.a.value_counts()"
   ]
  },
  {
   "cell_type": "code",
   "execution_count": null,
   "id": "1a990714",
   "metadata": {},
   "outputs": [],
   "source": [
    "train_attri_data.to_csv(f'train_attri_data.csv',index=False)\n",
    "valid_attri_data.to_csv(f'valid_attri_data.csv',index=False)\n",
    "test_attri_data.to_csv(f'test_attri_data.csv',index=False)"
   ]
  },
  {
   "cell_type": "code",
   "execution_count": null,
   "id": "91fb75ed",
   "metadata": {},
   "outputs": [],
   "source": [
    "df_train_att= pd.read_csv(f'train_attri_data.csv')"
   ]
  },
  {
   "cell_type": "code",
   "execution_count": null,
   "id": "53e1859b",
   "metadata": {
    "scrolled": true
   },
   "outputs": [],
   "source": [
    "df_train_att['e'].unique()"
   ]
  },
  {
   "cell_type": "code",
   "execution_count": null,
   "id": "23997f16",
   "metadata": {},
   "outputs": [],
   "source": [
    "df_train_rel= pd.read_csv(f'train.txt',sep='\\t',names=['s','p','o'])\n",
    "df_test_rel= pd.read_csv(f'test.txt',sep='\\t',names=['s','p','o'])\n",
    "df_valid_rel= pd.read_csv(f'valid.txt',sep='\\t',names=['s','p','o'])"
   ]
  },
  {
   "cell_type": "code",
   "execution_count": null,
   "id": "5073c8ea",
   "metadata": {
    "scrolled": true
   },
   "outputs": [],
   "source": [
    "df_rel_all = pd.concat([df_train_rel,df_valid_rel,df_test_rel],axis=0)"
   ]
  },
  {
   "cell_type": "code",
   "execution_count": null,
   "id": "7cbfed1a",
   "metadata": {},
   "outputs": [],
   "source": [
    "#e_train_list = list(df_train_rel.s.unique())\n",
    "e_valid_list = list(df_valid_rel.s.unique())\n",
    "e_test_list = list(df_test_rel.s.unique())"
   ]
  },
  {
   "cell_type": "code",
   "execution_count": null,
   "id": "7487030a",
   "metadata": {
    "scrolled": true
   },
   "outputs": [],
   "source": [
    "valid_attri_data[valid_attri_data.e.isin(e_valid_list)==True]"
   ]
  },
  {
   "cell_type": "code",
   "execution_count": 190,
   "id": "ec674d95",
   "metadata": {},
   "outputs": [
    {
     "data": {
      "text/plain": [
       "['coordinate location(logtitude)',\n",
       " 'coordinate location(latitude)',\n",
       " 'area',\n",
       " 'population',\n",
       " 'elevation above sea level',\n",
       " 'date of birth',\n",
       " 'inception',\n",
       " 'mass',\n",
       " 'coordinates of northernmost point',\n",
       " 'coordinates of easternmost point',\n",
       " 'coordinates of westernmost point',\n",
       " 'coordinates of southernmost point',\n",
       " 'height',\n",
       " 'work period (start)',\n",
       " 'number of matches played/races/starts',\n",
       " 'date of death',\n",
       " 'work period (end)',\n",
       " 'total goals in career',\n",
       " 'water as percent of area',\n",
       " 'penalty minutes in career',\n",
       " 'total points in career',\n",
       " 'career plus-minus rating',\n",
       " 'total shots in career',\n",
       " 'total assists in career',\n",
       " 'duration',\n",
       " 'start time',\n",
       " 'date of official opening',\n",
       " 'end time',\n",
       " 'publication date',\n",
       " 'length']"
      ]
     },
     "execution_count": 190,
     "metadata": {},
     "output_type": "execute_result"
    }
   ],
   "source": [
    "list(df48['name_a'].value_counts().index)[:30]"
   ]
  },
  {
   "cell_type": "code",
   "execution_count": 170,
   "id": "6bf71921",
   "metadata": {},
   "outputs": [],
   "source": [
    "\n",
    "indx3 = gather_data('life expectancy',df48)"
   ]
  },
  {
   "cell_type": "code",
   "execution_count": 175,
   "id": "baa3f16f",
   "metadata": {},
   "outputs": [
    {
     "data": {
      "text/html": [
       "<div>\n",
       "<style scoped>\n",
       "    .dataframe tbody tr th:only-of-type {\n",
       "        vertical-align: middle;\n",
       "    }\n",
       "\n",
       "    .dataframe tbody tr th {\n",
       "        vertical-align: top;\n",
       "    }\n",
       "\n",
       "    .dataframe thead th {\n",
       "        text-align: right;\n",
       "    }\n",
       "</style>\n",
       "<table border=\"1\" class=\"dataframe\">\n",
       "  <thead>\n",
       "    <tr style=\"text-align: right;\">\n",
       "      <th></th>\n",
       "      <th>e</th>\n",
       "      <th>a</th>\n",
       "      <th>v</th>\n",
       "      <th>name_e</th>\n",
       "      <th>name_a</th>\n",
       "      <th>ent_type</th>\n",
       "      <th>std_v</th>\n",
       "      <th>minmax_v</th>\n",
       "    </tr>\n",
       "  </thead>\n",
       "  <tbody>\n",
       "  </tbody>\n",
       "</table>\n",
       "</div>"
      ],
      "text/plain": [
       "Empty DataFrame\n",
       "Columns: [e, a, v, name_e, name_a, ent_type, std_v, minmax_v]\n",
       "Index: []"
      ]
     },
     "execution_count": 175,
     "metadata": {},
     "output_type": "execute_result"
    }
   ],
   "source": [
    "var_name = [\"population\",\"GDP (PPP)\",\"PPP GDP per capita\",\n",
    "      \"date of birth\",\"date of death\", \"life expectancy\",\n",
    "      \"total revenue\",\"net profit\",\n",
    "      \"area\",\n",
    "      \"retirement age\",\"age of majority\",\"work period (start)\",\"work period (end)\"]"
   ]
  },
  {
   "cell_type": "code",
   "execution_count": 209,
   "id": "fb136beb",
   "metadata": {},
   "outputs": [],
   "source": [
    "df48.iloc[123821,2]=423970000"
   ]
  },
  {
   "cell_type": "code",
   "execution_count": 223,
   "id": "030c4b4d",
   "metadata": {
    "scrolled": true
   },
   "outputs": [
    {
     "data": {
      "text/html": [
       "<div>\n",
       "<style scoped>\n",
       "    .dataframe tbody tr th:only-of-type {\n",
       "        vertical-align: middle;\n",
       "    }\n",
       "\n",
       "    .dataframe tbody tr th {\n",
       "        vertical-align: top;\n",
       "    }\n",
       "\n",
       "    .dataframe thead th {\n",
       "        text-align: right;\n",
       "    }\n",
       "</style>\n",
       "<table border=\"1\" class=\"dataframe\">\n",
       "  <thead>\n",
       "    <tr style=\"text-align: right;\">\n",
       "      <th></th>\n",
       "      <th>v</th>\n",
       "      <th>std_v</th>\n",
       "      <th>minmax_v</th>\n",
       "    </tr>\n",
       "  </thead>\n",
       "  <tbody>\n",
       "    <tr>\n",
       "      <th>count</th>\n",
       "      <td>8.909000e+03</td>\n",
       "      <td>8.909000e+03</td>\n",
       "      <td>8.909000e+03</td>\n",
       "    </tr>\n",
       "    <tr>\n",
       "      <th>mean</th>\n",
       "      <td>2.234200e+26</td>\n",
       "      <td>7.064505e+18</td>\n",
       "      <td>5.365189e+16</td>\n",
       "    </tr>\n",
       "    <tr>\n",
       "      <th>std</th>\n",
       "      <td>inf</td>\n",
       "      <td>6.661651e+20</td>\n",
       "      <td>inf</td>\n",
       "    </tr>\n",
       "    <tr>\n",
       "      <th>min</th>\n",
       "      <td>2.000000e-02</td>\n",
       "      <td>-3.105725e-02</td>\n",
       "      <td>4.802783e-12</td>\n",
       "    </tr>\n",
       "    <tr>\n",
       "      <th>25%</th>\n",
       "      <td>7.500000e+01</td>\n",
       "      <td>-3.105488e-02</td>\n",
       "      <td>1.801044e-08</td>\n",
       "    </tr>\n",
       "    <tr>\n",
       "      <th>50%</th>\n",
       "      <td>8.391459e+01</td>\n",
       "      <td>-3.105460e-02</td>\n",
       "      <td>2.015118e-08</td>\n",
       "    </tr>\n",
       "    <tr>\n",
       "      <th>75%</th>\n",
       "      <td>9.298643e+01</td>\n",
       "      <td>-3.105431e-02</td>\n",
       "      <td>2.232968e-08</td>\n",
       "    </tr>\n",
       "    <tr>\n",
       "      <th>max</th>\n",
       "      <td>1.988550e+30</td>\n",
       "      <td>6.287763e+22</td>\n",
       "      <td>4.775287e+20</td>\n",
       "    </tr>\n",
       "  </tbody>\n",
       "</table>\n",
       "</div>"
      ],
      "text/plain": [
       "                  v         std_v      minmax_v\n",
       "count  8.909000e+03  8.909000e+03  8.909000e+03\n",
       "mean   2.234200e+26  7.064505e+18  5.365189e+16\n",
       "std             inf  6.661651e+20           inf\n",
       "min    2.000000e-02 -3.105725e-02  4.802783e-12\n",
       "25%    7.500000e+01 -3.105488e-02  1.801044e-08\n",
       "50%    8.391459e+01 -3.105460e-02  2.015118e-08\n",
       "75%    9.298643e+01 -3.105431e-02  2.232968e-08\n",
       "max    1.988550e+30  6.287763e+22  4.775287e+20"
      ]
     },
     "execution_count": 223,
     "metadata": {},
     "output_type": "execute_result"
    }
   ],
   "source": [
    "df48[df48.name_a=='mass'].describe()"
   ]
  },
  {
   "cell_type": "code",
   "execution_count": 213,
   "id": "47e44972",
   "metadata": {},
   "outputs": [],
   "source": [
    "#rescale area\n",
    "\n",
    "df48.loc[:,'std_v']=attvalue2scale(df48)"
   ]
  },
  {
   "cell_type": "code",
   "execution_count": null,
   "id": "065fcd43",
   "metadata": {},
   "outputs": [],
   "source": []
  },
  {
   "cell_type": "code",
   "execution_count": 165,
   "id": "ebe82902",
   "metadata": {},
   "outputs": [],
   "source": [
    "## all data index {ent:idx,rel:idx,att:idx}\n",
    "entities = pd.read_csv('Entities/entity_labels_en.txt', sep='\\t', names=['label', 'name'])\n",
    "relations = pd.read_csv( 'Relations/relation_labels_en.txt', sep='\\t', names=['label', 'name'])\n",
    "attributes = pd.read_csv( 'files_needed/attribute.txt', names=['label'])\n",
    "dict_ent_2_idx = dict(zip(entities['label'], np.arange(0, len(entities), 1)))\n",
    "dict_rel_2_idx = dict(zip(relations['label'], np.arange(0, len(relations), 1)))\n",
    "dict_att_2_idx = dict(zip(attributes['label'], np.arange(0, len(relations), 1)))\n",
    "\n",
    "## Dict contains all Graph objects\n",
    "dict_all_2_idx = {}\n",
    "dict_all_2_idx.update(dict_ent_2_idx)\n",
    "dict_all_2_idx.update(dict_rel_2_idx)\n",
    "dict_all_2_idx.update(dict_att_2_idx)\n",
    "\n",
    "dict_all_2_idx"
   ]
  },
  {
   "cell_type": "code",
   "execution_count": 161,
   "id": "d85c2261",
   "metadata": {},
   "outputs": [
    {
     "ename": "NameError",
     "evalue": "name 'attri_data' is not defined",
     "output_type": "error",
     "traceback": [
      "\u001b[0;31m---------------------------------------------------------------------------\u001b[0m",
      "\u001b[0;31mNameError\u001b[0m                                 Traceback (most recent call last)",
      "\u001b[0;32m/tmp/ipykernel_2392687/1726804742.py\u001b[0m in \u001b[0;36m<module>\u001b[0;34m\u001b[0m\n\u001b[1;32m      1\u001b[0m \u001b[0mdict_e2rv\u001b[0m \u001b[0;34m=\u001b[0m \u001b[0mdict\u001b[0m\u001b[0;34m(\u001b[0m\u001b[0;34m)\u001b[0m\u001b[0;34m\u001b[0m\u001b[0;34m\u001b[0m\u001b[0m\n\u001b[0;32m----> 2\u001b[0;31m \u001b[0;32mfor\u001b[0m \u001b[0mel\u001b[0m \u001b[0;32min\u001b[0m \u001b[0mattri_data\u001b[0m\u001b[0;34m.\u001b[0m\u001b[0mvalues\u001b[0m\u001b[0;34m:\u001b[0m\u001b[0;34m\u001b[0m\u001b[0;34m\u001b[0m\u001b[0m\n\u001b[0m\u001b[1;32m      3\u001b[0m     \u001b[0;31m#r = self.dict_att_2_idx[el[1]]\u001b[0m\u001b[0;34m\u001b[0m\u001b[0;34m\u001b[0m\u001b[0;34m\u001b[0m\u001b[0m\n\u001b[1;32m      4\u001b[0m     \u001b[0mattri\u001b[0m \u001b[0;34m=\u001b[0m \u001b[0mdict_att_2_idx\u001b[0m\u001b[0;34m[\u001b[0m\u001b[0mel\u001b[0m\u001b[0;34m[\u001b[0m\u001b[0;36m1\u001b[0m\u001b[0;34m]\u001b[0m\u001b[0;34m]\u001b[0m\u001b[0;34m\u001b[0m\u001b[0;34m\u001b[0m\u001b[0m\n\u001b[1;32m      5\u001b[0m     \u001b[0mv\u001b[0m \u001b[0;34m=\u001b[0m \u001b[0mround\u001b[0m\u001b[0;34m(\u001b[0m\u001b[0mel\u001b[0m\u001b[0;34m[\u001b[0m\u001b[0;36m2\u001b[0m\u001b[0;34m]\u001b[0m\u001b[0;34m,\u001b[0m\u001b[0;36m5\u001b[0m\u001b[0;34m)\u001b[0m\u001b[0;34m\u001b[0m\u001b[0;34m\u001b[0m\u001b[0m\n",
      "\u001b[0;31mNameError\u001b[0m: name 'attri_data' is not defined"
     ]
    }
   ],
   "source": [
    "dict_e2rv = dict()\n",
    "for el in attri_data.values:\n",
    "    #r = self.dict_att_2_idx[el[1]]\n",
    "    attri = dict_att_2_idx[el[1]]\n",
    "    v = round(el[2],5)\n",
    "    e = dict_ent_2_idx[el[0]]\n",
    "    if e in dict_e2rv:\n",
    "        l = dict_e2rv[e]\n",
    "        l.append([attri,v])\n",
    "        dict_e2rv[e] = l\n",
    "    else:\n",
    "        dict_e2rv[e] = [[attri,v]]"
   ]
  },
  {
   "cell_type": "code",
   "execution_count": 166,
   "id": "26336e4e",
   "metadata": {},
   "outputs": [
    {
     "ename": "NameError",
     "evalue": "name 'train_att' is not defined",
     "output_type": "error",
     "traceback": [
      "\u001b[0;31m---------------------------------------------------------------------------\u001b[0m",
      "\u001b[0;31mNameError\u001b[0m                                 Traceback (most recent call last)",
      "\u001b[0;32m/tmp/ipykernel_2392687/887658907.py\u001b[0m in \u001b[0;36m<module>\u001b[0;34m\u001b[0m\n\u001b[1;32m      1\u001b[0m \u001b[0;31m# make a dict\u001b[0m\u001b[0;34m\u001b[0m\u001b[0;34m\u001b[0m\u001b[0;34m\u001b[0m\u001b[0m\n\u001b[1;32m      2\u001b[0m \u001b[0mdict_a2ev\u001b[0m \u001b[0;34m=\u001b[0m \u001b[0mdict\u001b[0m\u001b[0;34m(\u001b[0m\u001b[0;34m)\u001b[0m\u001b[0;34m\u001b[0m\u001b[0;34m\u001b[0m\u001b[0m\n\u001b[0;32m----> 3\u001b[0;31m \u001b[0;32mfor\u001b[0m \u001b[0mel\u001b[0m \u001b[0;32min\u001b[0m \u001b[0mtrain_att\u001b[0m\u001b[0;34m.\u001b[0m\u001b[0mvalues\u001b[0m\u001b[0;34m:\u001b[0m\u001b[0;34m\u001b[0m\u001b[0;34m\u001b[0m\u001b[0m\n\u001b[0m\u001b[1;32m      4\u001b[0m     \u001b[0mattri\u001b[0m \u001b[0;34m=\u001b[0m \u001b[0mdict_all_2_idx\u001b[0m\u001b[0;34m[\u001b[0m\u001b[0mel\u001b[0m\u001b[0;34m[\u001b[0m\u001b[0;36m1\u001b[0m\u001b[0;34m]\u001b[0m\u001b[0;34m]\u001b[0m\u001b[0;34m\u001b[0m\u001b[0;34m\u001b[0m\u001b[0m\n\u001b[1;32m      5\u001b[0m     \u001b[0mv\u001b[0m \u001b[0;34m=\u001b[0m \u001b[0mel\u001b[0m\u001b[0;34m[\u001b[0m\u001b[0;36m2\u001b[0m\u001b[0;34m]\u001b[0m\u001b[0;34m\u001b[0m\u001b[0;34m\u001b[0m\u001b[0m\n",
      "\u001b[0;31mNameError\u001b[0m: name 'train_att' is not defined"
     ]
    }
   ],
   "source": [
    "# make a dict\n",
    "dict_a2ev = dict()\n",
    "for el in train_att.values:\n",
    "    attri = dict_all_2_idx[el[1]]\n",
    "    v = el[2]\n",
    "    e = dict_all_2_idx[el[0]]\n",
    "    if attri in dict_a2ev:\n",
    "        l = dict_a2ev[attri]\n",
    "        l.append([e,v])\n",
    "        dict_a2ev[attri] = l\n",
    "    else:\n",
    "        dict_a2ev[attri] = [[e,v]]"
   ]
  },
  {
   "cell_type": "code",
   "execution_count": null,
   "id": "722b3496",
   "metadata": {},
   "outputs": [],
   "source": [
    "import pickle\n",
    "with open('/mount/projekte7/tcl/tclext/kgc/LiterallyWikidata/files_needed/dict_a2ev.pickle', 'wb') as fw:\n",
    "    pickle.dump(dict_a2ev, fw, protocol=pickle.HIGHEST_PROTOCOL)"
   ]
  },
  {
   "cell_type": "code",
   "execution_count": null,
   "id": "f5cc1437",
   "metadata": {},
   "outputs": [],
   "source": []
  }
 ],
 "metadata": {
  "colab": {
   "collapsed_sections": [
    "LIZqsqEgqJFg",
    "j0O-vXz_St_x",
    "2Act5ZLCQOY1",
    "UBk7Q2hNmpnU",
    "lTSaq8twla0D"
   ],
   "name": "Lit48_Numericaltriples_Preprocessing_ver02.ipynb",
   "provenance": [],
   "toc_visible": true
  },
  "kernelspec": {
   "display_name": "Python 3 (ipykernel)",
   "language": "python",
   "name": "python3"
  },
  "language_info": {
   "codemirror_mode": {
    "name": "ipython",
    "version": 3
   },
   "file_extension": ".py",
   "mimetype": "text/x-python",
   "name": "python",
   "nbconvert_exporter": "python",
   "pygments_lexer": "ipython3",
   "version": "3.7.9"
  }
 },
 "nbformat": 4,
 "nbformat_minor": 5
}

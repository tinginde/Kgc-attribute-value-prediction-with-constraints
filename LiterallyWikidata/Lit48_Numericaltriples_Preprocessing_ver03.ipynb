{
 "cells": [
  {
   "cell_type": "markdown",
   "id": "iaHYhvxXNtaL",
   "metadata": {
    "id": "iaHYhvxXNtaL"
   },
   "source": [
    "# Data preprocessing 資料前處理"
   ]
  },
  {
   "cell_type": "markdown",
   "id": "QfjGfDJjdr8v",
   "metadata": {
    "id": "QfjGfDJjdr8v"
   },
   "source": [
    "## Cleaning numerical literals 將資料夾中numerical literals清理"
   ]
  },
  {
   "cell_type": "code",
   "execution_count": 1,
   "id": "017aa6a4",
   "metadata": {
    "id": "017aa6a4"
   },
   "outputs": [],
   "source": [
    "import pandas as pd\n",
    "import numpy as np"
   ]
  },
  {
   "cell_type": "code",
   "execution_count": null,
   "id": "vMiyAb3BdEjd",
   "metadata": {
    "id": "vMiyAb3BdEjd"
   },
   "outputs": [],
   "source": [
    "path = \"LitWD48K/\"\n"
   ]
  },
  {
   "cell_type": "markdown",
   "id": "eb0bdd3a",
   "metadata": {
    "id": "eb0bdd3a"
   },
   "source": [
    "# From LiterallyWikidata read data and check data"
   ]
  },
  {
   "cell_type": "code",
   "execution_count": 2,
   "id": "zz3XSyJpmguJ",
   "metadata": {
    "id": "zz3XSyJpmguJ"
   },
   "outputs": [],
   "source": [
    "column_name = [\"e\",\"a\",\"v\"]\n",
    "df48_ori = pd.read_csv(f\"/projekte/tcl/tclext/kgc_chu/LiterallyWikidata/LitWD48K/numeric_literals.txt\",sep=\"\\t\",names=column_name)"
   ]
  },
  {
   "cell_type": "code",
   "execution_count": 47,
   "id": "24cf8021",
   "metadata": {
    "colab": {
     "base_uri": "https://localhost:8080/",
     "height": 206
    },
    "id": "0ynl-RqPfiPA",
    "outputId": "d6da666b-201c-4888-c144-ec5e84edbf80"
   },
   "outputs": [
    {
     "data": {
      "text/html": [
       "<div>\n",
       "<style scoped>\n",
       "    .dataframe tbody tr th:only-of-type {\n",
       "        vertical-align: middle;\n",
       "    }\n",
       "\n",
       "    .dataframe tbody tr th {\n",
       "        vertical-align: top;\n",
       "    }\n",
       "\n",
       "    .dataframe thead th {\n",
       "        text-align: right;\n",
       "    }\n",
       "</style>\n",
       "<table border=\"1\" class=\"dataframe\">\n",
       "  <thead>\n",
       "    <tr style=\"text-align: right;\">\n",
       "      <th></th>\n",
       "      <th>e</th>\n",
       "      <th>a</th>\n",
       "      <th>v</th>\n",
       "      <th>xml</th>\n",
       "      <th>new_v</th>\n",
       "    </tr>\n",
       "  </thead>\n",
       "  <tbody>\n",
       "    <tr>\n",
       "      <th>0</th>\n",
       "      <td>Q1000056</td>\n",
       "      <td>P1082_Q199</td>\n",
       "      <td>11032.0</td>\n",
       "      <td>^&lt;http://www.w3.org/2001/XMLSchema#decimal&gt;</td>\n",
       "      <td>+110</td>\n",
       "    </tr>\n",
       "    <tr>\n",
       "      <th>1</th>\n",
       "      <td>Q1000056</td>\n",
       "      <td>P2044_Q11573</td>\n",
       "      <td>472.0</td>\n",
       "      <td>^&lt;http://www.w3.org/2001/XMLSchema#decimal&gt;</td>\n",
       "      <td>+472</td>\n",
       "    </tr>\n",
       "    <tr>\n",
       "      <th>2</th>\n",
       "      <td>Q1000056</td>\n",
       "      <td>P2046_Q25343</td>\n",
       "      <td>45630000.0</td>\n",
       "      <td>^&lt;http://www.w3.org/2001/XMLSchema#decimal&gt;</td>\n",
       "      <td>+456</td>\n",
       "    </tr>\n",
       "    <tr>\n",
       "      <th>3</th>\n",
       "      <td>Q1000138</td>\n",
       "      <td>P1082_Q199</td>\n",
       "      <td>1375.0</td>\n",
       "      <td>^&lt;http://www.w3.org/2001/XMLSchema#decimal&gt;</td>\n",
       "      <td>+137</td>\n",
       "    </tr>\n",
       "    <tr>\n",
       "      <th>4</th>\n",
       "      <td>Q1000138</td>\n",
       "      <td>P2044_Q11573</td>\n",
       "      <td>1.0</td>\n",
       "      <td>^&lt;http://www.w3.org/2001/XMLSchema#decimal&gt;</td>\n",
       "      <td>+1</td>\n",
       "    </tr>\n",
       "  </tbody>\n",
       "</table>\n",
       "</div>"
      ],
      "text/plain": [
       "          e             a           v  \\\n",
       "0  Q1000056    P1082_Q199     11032.0   \n",
       "1  Q1000056  P2044_Q11573       472.0   \n",
       "2  Q1000056  P2046_Q25343  45630000.0   \n",
       "3  Q1000138    P1082_Q199      1375.0   \n",
       "4  Q1000138  P2044_Q11573         1.0   \n",
       "\n",
       "                                           xml new_v  \n",
       "0  ^<http://www.w3.org/2001/XMLSchema#decimal>  +110  \n",
       "1  ^<http://www.w3.org/2001/XMLSchema#decimal>  +472  \n",
       "2  ^<http://www.w3.org/2001/XMLSchema#decimal>  +456  \n",
       "3  ^<http://www.w3.org/2001/XMLSchema#decimal>  +137  \n",
       "4  ^<http://www.w3.org/2001/XMLSchema#decimal>    +1  "
      ]
     },
     "execution_count": 47,
     "metadata": {},
     "output_type": "execute_result"
    }
   ],
   "source": [
    "df48_ori[:5]"
   ]
  },
  {
   "cell_type": "code",
   "execution_count": 3,
   "id": "N9MA7xdMCE89",
   "metadata": {
    "id": "N9MA7xdMCE89"
   },
   "outputs": [],
   "source": [
    "df48 = df48_ori"
   ]
  },
  {
   "cell_type": "code",
   "execution_count": 4,
   "id": "q_PmSd7hj8mh",
   "metadata": {
    "id": "q_PmSd7hj8mh"
   },
   "outputs": [],
   "source": [
    "#取V值\n",
    "df48[['v','xml']] = df48['v'].str.split('^', 1, expand=True)"
   ]
  },
  {
   "cell_type": "code",
   "execution_count": 5,
   "id": "dS_addCPox73",
   "metadata": {
    "colab": {
     "base_uri": "https://localhost:8080/"
    },
    "id": "dS_addCPox73",
    "outputId": "fae6be45-0c0b-473e-a3b9-9b435070b286"
   },
   "outputs": [
    {
     "name": "stdout",
     "output_type": "stream",
     "text": [
      "triple number of df48: 324418, num of df48_entity: 47998, num of df48_attribute: 291\n"
     ]
    }
   ],
   "source": [
    "# check the number of data\n",
    "print(f'triple number of df48: {len(df48)}, num of df48_entity: {len(df48[\"e\"].unique())}, num of df48_attribute: {len(df48[\"a\"].unique())}')"
   ]
  },
  {
   "cell_type": "code",
   "execution_count": 6,
   "id": "974ab560",
   "metadata": {},
   "outputs": [
    {
     "name": "stdout",
     "output_type": "stream",
     "text": [
      "<class 'pandas.core.frame.DataFrame'>\n",
      "RangeIndex: 324418 entries, 0 to 324417\n",
      "Data columns (total 4 columns):\n",
      " #   Column  Non-Null Count   Dtype \n",
      "---  ------  --------------   ----- \n",
      " 0   e       324418 non-null  object\n",
      " 1   a       324418 non-null  object\n",
      " 2   v       324418 non-null  object\n",
      " 3   xml     324418 non-null  object\n",
      "dtypes: object(4)\n",
      "memory usage: 9.9+ MB\n"
     ]
    }
   ],
   "source": [
    "df48.info()"
   ]
  },
  {
   "cell_type": "markdown",
   "id": "LIZqsqEgqJFg",
   "metadata": {
    "id": "LIZqsqEgqJFg"
   },
   "source": [
    "# Discovering some issues within data"
   ]
  },
  {
   "cell_type": "markdown",
   "id": "0af7d1ad",
   "metadata": {},
   "source": [
    "## 3 value types"
   ]
  },
  {
   "cell_type": "code",
   "execution_count": null,
   "id": "ydNyjFsumOOn",
   "metadata": {
    "colab": {
     "base_uri": "https://localhost:8080/"
    },
    "id": "ydNyjFsumOOn",
    "outputId": "ded26a07-881b-4c4d-fdcb-7edffc902e91",
    "scrolled": true
   },
   "outputs": [],
   "source": [
    "#有三種數值型態\n",
    "df48['xml'].value_counts()"
   ]
  },
  {
   "cell_type": "markdown",
   "id": "fb0d677a",
   "metadata": {},
   "source": [
    "## Time (year-month-date)"
   ]
  },
  {
   "cell_type": "code",
   "execution_count": null,
   "id": "37bddd92",
   "metadata": {},
   "outputs": [],
   "source": [
    "# value type: time\n",
    "df48[df48['xml']=='^<http://www.w3.org/2001/XMLSchema#dateTime>'][:5]"
   ]
  },
  {
   "cell_type": "markdown",
   "id": "addfe412",
   "metadata": {},
   "source": [
    "## Double: coordinate location"
   ]
  },
  {
   "cell_type": "code",
   "execution_count": null,
   "id": "j1iiK9cmdBTf",
   "metadata": {
    "colab": {
     "base_uri": "https://localhost:8080/",
     "height": 424
    },
    "id": "j1iiK9cmdBTf",
    "outputId": "809dc427-e3f9-4d0e-d061-2c87e5df4244"
   },
   "outputs": [],
   "source": [
    "# value type: double (geographic)\n",
    "# coordinate location in original data is mixed. P625，P1335...(coordinate location)有經緯度\n",
    "df48[df48[\"a\"].str.contains(\"P1335\")][:5]"
   ]
  },
  {
   "cell_type": "markdown",
   "id": "e3e34fdd",
   "metadata": {},
   "source": [
    "## Decimal"
   ]
  },
  {
   "cell_type": "code",
   "execution_count": null,
   "id": "5xUkntUcZM_A",
   "metadata": {
    "colab": {
     "base_uri": "https://localhost:8080/",
     "height": 206
    },
    "id": "5xUkntUcZM_A",
    "outputId": "d54c14fb-4bb9-457f-a2be-6210607548a6"
   },
   "outputs": [],
   "source": [
    "# value type: decimal\n",
    "# same entity has multiple values 可能同entity在P1087有多個值\n",
    "df48[df48[\"a\"].str.contains(\"P1087_Q199\")][:5]"
   ]
  },
  {
   "cell_type": "code",
   "execution_count": null,
   "id": "0Kf-3cM7qEP8",
   "metadata": {
    "colab": {
     "base_uri": "https://localhost:8080/"
    },
    "id": "0Kf-3cM7qEP8",
    "outputId": "116e57e7-8425-412a-ab17-ab7c73d4ed45"
   },
   "outputs": [],
   "source": [
    "# P2299 has 2 units 有兩種QXXX\n",
    "df48[df48[\"a\"].str.contains(\"P2299\")].a.unique()"
   ]
  },
  {
   "cell_type": "code",
   "execution_count": null,
   "id": "1XMVPZLudOHi",
   "metadata": {
    "id": "1XMVPZLudOHi"
   },
   "outputs": [],
   "source": [
    "# some are meanful zero value but some are not\n",
    "df_vzero=df48[df48[\"v\"]=='0'].sort_values(by='a')"
   ]
  },
  {
   "cell_type": "code",
   "execution_count": null,
   "id": "LmGG9AEhJqG2",
   "metadata": {
    "colab": {
     "base_uri": "https://localhost:8080/",
     "height": 835
    },
    "id": "LmGG9AEhJqG2",
    "outputId": "15e9ba8b-f1ca-4a6a-e2ba-1a46faf9fd8b",
    "scrolled": true
   },
   "outputs": [],
   "source": [
    "df_vzero[:5]"
   ]
  },
  {
   "cell_type": "code",
   "execution_count": null,
   "id": "mha8ltZLU_Nn",
   "metadata": {
    "colab": {
     "base_uri": "https://localhost:8080/"
    },
    "id": "mha8ltZLU_Nn",
    "outputId": "b379a35e-c00b-4d7b-9f80-8c60b754715b"
   },
   "outputs": [],
   "source": [
    "print(f\"there are total {len(df_vzero)} data which has 0.0 in the value column\")\n",
    "print(f\"there are total {len(df_vzero['a'].unique())} data which has 0.0 in the value column\")"
   ]
  },
  {
   "cell_type": "code",
   "execution_count": null,
   "id": "847cd994",
   "metadata": {},
   "outputs": [],
   "source": [
    "df48[df48[\"a\"].str.contains(\"P1082\")].v"
   ]
  },
  {
   "cell_type": "markdown",
   "id": "3odjIK45BONu",
   "metadata": {
    "id": "3odjIK45BONu"
   },
   "source": [
    "# Dealing with issues 處理以上問題: \n",
    "DataTime dtype: keep year data 時間單位 西元年 \\\\\n",
    "Remove dulplicated data (same e,a but diff v)\n",
    "Turn into value dtype to float \n",
    "所有變數的值成為可計算的值(有意義可讀取的值) \\\\\n",
    "Rescale the values within the same attributes 同attribute value rescale \\\\\n",
    "Drop out unreasonal 0 value 去0 \\\\\n",
    "Drop out the unit (QXXX)去單位 \\\\\n",
    "Keep Attribyes at least number of 15 data 每個屬性最少有15筆資料 \\\\\n"
   ]
  },
  {
   "cell_type": "markdown",
   "id": "780287a3",
   "metadata": {},
   "source": [
    "## value type: time"
   ]
  },
  {
   "cell_type": "code",
   "execution_count": 7,
   "id": "MCEhe4i2whqb",
   "metadata": {
    "id": "MCEhe4i2whqb"
   },
   "outputs": [],
   "source": [
    "# 如果\"v\"是時間，取前四位數年代部分，np.where(condition, x,y)在condition下，把x取代y\n",
    "df48[\"new_v\"] = df48[\"v\"].map(lambda x: x[:4])\n",
    "df48.loc[:,\"v\"] = np.where((df48[\"xml\"].str.contains(\"dateTime\")), df48[\"new_v\"], df48[\"v\"])"
   ]
  },
  {
   "cell_type": "code",
   "execution_count": 8,
   "id": "1NV1eH6rcGXd",
   "metadata": {
    "id": "1NV1eH6rcGXd"
   },
   "outputs": [],
   "source": [
    "df48[\"v\"]=df48[\"v\"].astype('float32')"
   ]
  },
  {
   "cell_type": "markdown",
   "id": "86cb0edf",
   "metadata": {},
   "source": [
    "## value type: double"
   ]
  },
  {
   "cell_type": "code",
   "execution_count": null,
   "id": "2410e946",
   "metadata": {},
   "outputs": [],
   "source": [
    "df48"
   ]
  },
  {
   "cell_type": "code",
   "execution_count": null,
   "id": "12fc957b",
   "metadata": {},
   "outputs": [],
   "source": [
    "# remove double data\n",
    "#neogeo = df48[~df48['xml'].str.contains('double')]"
   ]
  },
  {
   "cell_type": "markdown",
   "id": "5d360f6f",
   "metadata": {},
   "source": [
    "## value type: decimal"
   ]
  },
  {
   "cell_type": "code",
   "execution_count": 9,
   "id": "7164fb36",
   "metadata": {},
   "outputs": [],
   "source": [
    "#取有100data的att #同時解決同p不同q\n",
    "filter = df48.a.value_counts()\n",
    "filter_index=filter.index[filter>=150]\n",
    "df48 = df48[df48['a'].isin(filter_index)]"
   ]
  },
  {
   "cell_type": "code",
   "execution_count": 11,
   "id": "06ceb376",
   "metadata": {
    "scrolled": true
   },
   "outputs": [
    {
     "data": {
      "text/plain": [
       "P625_Longtiude    24952\n",
       "P625_Latitude     24952\n",
       "P2046_Q25343      24039\n",
       "P1082_Q199        22299\n",
       "P2044_Q11573      16734\n",
       "                  ...  \n",
       "P2219_Q199          164\n",
       "P2131_Q4917         163\n",
       "P4010_Q550207       156\n",
       "P2299_Q550207       155\n",
       "P1279_Q199          152\n",
       "Name: a, Length: 93, dtype: int64"
      ]
     },
     "execution_count": 11,
     "metadata": {},
     "output_type": "execute_result"
    }
   ],
   "source": [
    "df48.a.value_counts()"
   ]
  },
  {
   "cell_type": "code",
   "execution_count": 12,
   "id": "nkYkJTe36KTG",
   "metadata": {
    "id": "nkYkJTe36KTG"
   },
   "outputs": [
    {
     "name": "stderr",
     "output_type": "stream",
     "text": [
      "/projekte/tcl/tclext/kgc_chu/neuenv/lib/python3.7/site-packages/pandas/core/frame.py:3641: SettingWithCopyWarning: \n",
      "A value is trying to be set on a copy of a slice from a DataFrame.\n",
      "Try using .loc[row_indexer,col_indexer] = value instead\n",
      "\n",
      "See the caveats in the documentation: https://pandas.pydata.org/pandas-docs/stable/user_guide/indexing.html#returning-a-view-versus-a-copy\n",
      "  self[k1] = value[k2]\n",
      "/projekte/tcl/tclext/kgc_chu/neuenv/lib/python3.7/site-packages/pandas/core/indexing.py:1667: SettingWithCopyWarning: \n",
      "A value is trying to be set on a copy of a slice from a DataFrame.\n",
      "Try using .loc[row_indexer,col_indexer] = value instead\n",
      "\n",
      "See the caveats in the documentation: https://pandas.pydata.org/pandas-docs/stable/user_guide/indexing.html#returning-a-view-versus-a-copy\n",
      "  self.obj[key] = value\n"
     ]
    }
   ],
   "source": [
    "#處理a，去單位\n",
    "df48[[\"pre_a\",'Q']] = df48[\"a\"].str.split('_', 1,expand=True)\n",
    "df48.loc[:,\"new_a\"] = np.where((df48[\"a\"].str.contains(\"Q\")), df48[\"pre_a\"], df48[\"a\"])"
   ]
  },
  {
   "cell_type": "code",
   "execution_count": 13,
   "id": "cf8fc402",
   "metadata": {},
   "outputs": [],
   "source": [
    "df48 = df48.loc[:,['e','new_a','v']]\n",
    "df48.columns=['e','a','v']\n"
   ]
  },
  {
   "cell_type": "code",
   "execution_count": 14,
   "id": "292c763a",
   "metadata": {
    "scrolled": true
   },
   "outputs": [],
   "source": [
    "#處理重複值 drop if [e,a] is the same\n",
    "df48 = df48.drop_duplicates(subset=['e','a'],keep='last')"
   ]
  },
  {
   "cell_type": "code",
   "execution_count": null,
   "id": "7ba215a0",
   "metadata": {},
   "outputs": [],
   "source": [
    "#如果要取平均值:處理重複資料\n",
    "# df48 = df48.groupby(['e', 'a'], as_index=False).mean()"
   ]
  },
  {
   "cell_type": "code",
   "execution_count": 16,
   "id": "27753819",
   "metadata": {},
   "outputs": [
    {
     "data": {
      "text/plain": [
       "P625_Longtiude    24952\n",
       "P625_Latitude     24952\n",
       "P2046             21751\n",
       "P1082             21446\n",
       "P2044             16418\n",
       "                  ...  \n",
       "P1087               135\n",
       "P8477               110\n",
       "P8476               110\n",
       "P3864                53\n",
       "P1603                 8\n",
       "Name: a, Length: 93, dtype: int64"
      ]
     },
     "execution_count": 16,
     "metadata": {},
     "output_type": "execute_result"
    }
   ],
   "source": [
    "df48.a.value_counts()"
   ]
  },
  {
   "cell_type": "code",
   "execution_count": 17,
   "id": "0dfdcce6",
   "metadata": {},
   "outputs": [],
   "source": [
    "filter = df48.a.value_counts()\n",
    "filter_index=filter.index[filter>=150]\n",
    "df48 = df48[df48['a'].isin(filter_index)]"
   ]
  },
  {
   "cell_type": "code",
   "execution_count": null,
   "id": "ad5a68b4",
   "metadata": {},
   "outputs": [],
   "source": [
    "#處理0值\n",
    "df48[df48['v']==0.0]"
   ]
  },
  {
   "cell_type": "markdown",
   "id": "1a073890",
   "metadata": {},
   "source": [
    "## zero value"
   ]
  },
  {
   "cell_type": "code",
   "execution_count": 20,
   "id": "pdXy0RfSJGBO",
   "metadata": {
    "id": "pdXy0RfSJGBO"
   },
   "outputs": [
    {
     "name": "stderr",
     "output_type": "stream",
     "text": [
      "/projekte/tcl/tclext/kgc_chu/neuenv/lib/python3.7/site-packages/pandas/core/indexing.py:1667: SettingWithCopyWarning: \n",
      "A value is trying to be set on a copy of a slice from a DataFrame.\n",
      "Try using .loc[row_indexer,col_indexer] = value instead\n",
      "\n",
      "See the caveats in the documentation: https://pandas.pydata.org/pandas-docs/stable/user_guide/indexing.html#returning-a-view-versus-a-copy\n",
      "  self.obj[key] = value\n"
     ]
    }
   ],
   "source": [
    "# preparing idmap for checking real name\n",
    "entity_idmap = {}\n",
    "with open('Entities/entity_labels_en.txt',encoding=\"utf-8\") as f:\n",
    "    for line in f:\n",
    "        k, v = line.strip().split('\\t')\n",
    "        entity_idmap[k.strip()] = v.strip()\n",
    "attri_idmap={}\n",
    "with open('Attributes/attribute_labels_en.txt',encoding=\"utf-8\") as f:\n",
    "    for line in f:\n",
    "        k, v = line.strip().split('\\t')\n",
    "        attri_idmap[k.strip()] = v.strip()\n",
    "attri_idmap['P625_Latitude']='coordinate location(latitude)'\n",
    "attri_idmap['P625_Longtiude']='coordinate location(logtitude)'\n",
    "attri_idmap['P1332_Longtiude']='coordinates of northernmost point'\n",
    "attri_idmap['P1333_Longtiude']='coordinates of southernmost point'\n",
    "attri_idmap['P1334_Longtiude']='coordinates of easternmost point'\n",
    "attri_idmap['P1335_Longtiude']='coordinates of westernmost point'\n",
    "df48.loc[:,'name_e']=df48['e'].map(entity_idmap)\n",
    "df48.loc[:,'name_a']=df48['a'].map(attri_idmap)"
   ]
  },
  {
   "cell_type": "code",
   "execution_count": 22,
   "id": "raWr3XjSALcl",
   "metadata": {
    "id": "raWr3XjSALcl"
   },
   "outputs": [],
   "source": [
    "# 刪掉特定列，有11個不合理的0值變數\n",
    "df48 = df48.drop(df48[(df48['a']=='P6509') & (df48['v']==0.0)].index)#'total goals in career'\n",
    "df48 = df48.drop(df48[(df48['a']=='P6544') & (df48['v']==0.0)].index)#total points in career \n",
    "df48 = df48.drop(df48[(df48['a']=='P6543') & (df48['v']==0.0)].index)#total shots in career\n",
    "df48 = df48.drop(df48[(df48['a']=='P6546') & (df48['v']==0.0)].index)#penalty minutes in career\n",
    "df48 = df48.drop(df48[(df48['a']=='P6545') & (df48['v']==0.0)].index)#total assists in career \n",
    "df48 = df48.drop(df48[(df48['a']=='P1100') & (df48['v']==0.0)].index)#attendance \n",
    "df48 = df48.drop(df48[(df48['a']=='P1279') & (df48['v']==0.0)].index)##inflation rate\n",
    "df48 = df48.drop(df48[(df48['a']=='P2121') & (df48['v']==0.0)].index)#prize money\n",
    "df48 = df48.drop(df48[(df48['a']=='P3872') & (df48['v']==0.0)].index)#惠顧人數patronage"
   ]
  },
  {
   "cell_type": "code",
   "execution_count": 23,
   "id": "e0980c53",
   "metadata": {},
   "outputs": [],
   "source": [
    "df48.reset_index(inplace=True)\n"
   ]
  },
  {
   "cell_type": "code",
   "execution_count": 25,
   "id": "74f89b7f",
   "metadata": {},
   "outputs": [
    {
     "name": "stdout",
     "output_type": "stream",
     "text": [
      "<class 'pandas.core.frame.DataFrame'>\n",
      "RangeIndex: 296457 entries, 0 to 296456\n",
      "Data columns (total 5 columns):\n",
      " #   Column  Non-Null Count   Dtype  \n",
      "---  ------  --------------   -----  \n",
      " 0   e       296457 non-null  object \n",
      " 1   a       296457 non-null  object \n",
      " 2   v       296457 non-null  float32\n",
      " 3   name_e  296457 non-null  object \n",
      " 4   name_a  262436 non-null  object \n",
      "dtypes: float32(1), object(4)\n",
      "memory usage: 10.2+ MB\n"
     ]
    }
   ],
   "source": [
    "df48= df48.drop('index',axis=1)\n",
    "df48.info()"
   ]
  },
  {
   "cell_type": "code",
   "execution_count": null,
   "id": "b3d6d10d",
   "metadata": {},
   "outputs": [],
   "source": [
    "# 縮小domain"
   ]
  },
  {
   "cell_type": "code",
   "execution_count": null,
   "id": "c7be8f89",
   "metadata": {},
   "outputs": [],
   "source": [
    "filter = df48.a.value_counts()\n",
    "filter_index=filter.index[filter>=150]\n",
    "df48 = df48[df48['a'].isin(filter_index)]"
   ]
  },
  {
   "cell_type": "code",
   "execution_count": 26,
   "id": "76f5ddae",
   "metadata": {},
   "outputs": [
    {
     "name": "stdout",
     "output_type": "stream",
     "text": [
      "triple number of df48: 296457, num of df48_entity: 47939, num of df48_attribute: 87\n"
     ]
    }
   ],
   "source": [
    "print(f'triple number of df48: {len(df48)}, num of df48_entity: {len(df48[\"e\"].unique())}, num of df48_attribute: {len(df48[\"a\"].unique())}')"
   ]
  },
  {
   "cell_type": "code",
   "execution_count": null,
   "id": "e802d572",
   "metadata": {},
   "outputs": [],
   "source": [
    "ent_typemap = {}\n",
    "with open('Entities/entity_types.txt',encoding=\"utf-8\") as f:\n",
    "    for line in f:\n",
    "        k, v = line.strip().split('\\t')\n",
    "        ent_typemap[k.strip()] = v.strip()"
   ]
  },
  {
   "cell_type": "code",
   "execution_count": null,
   "id": "a5cdd024",
   "metadata": {},
   "outputs": [],
   "source": [
    "df48['ent_type'] = df48['e'].map(ent_typemap)"
   ]
  },
  {
   "cell_type": "code",
   "execution_count": null,
   "id": "a7520b6e",
   "metadata": {},
   "outputs": [],
   "source": [
    "df48 = df48.loc[:,[\"e\",\"a\",\"v\",\"name_e\",\"name_a\",\"ent_type\"]]"
   ]
  },
  {
   "cell_type": "code",
   "execution_count": 29,
   "id": "03f21f0e",
   "metadata": {},
   "outputs": [
    {
     "name": "stdout",
     "output_type": "stream",
     "text": [
      "triple number of df48: 296457, num of df48_entity: 47939, num of df48_attribute: 87\n"
     ]
    }
   ],
   "source": [
    "print(f'triple number of df48: {len(df48)}, num of df48_entity: {len(df48[\"e\"].unique())}, num of df48_attribute: {len(df48[\"a\"].unique())}')"
   ]
  },
  {
   "cell_type": "code",
   "execution_count": 46,
   "id": "c1608bb3",
   "metadata": {
    "scrolled": true
   },
   "outputs": [
    {
     "data": {
      "text/plain": [
       "0                                population\n",
       "1                 elevation above sea level\n",
       "2                                      area\n",
       "3                                population\n",
       "4                 elevation above sea level\n",
       "                        ...                \n",
       "296452    coordinates of southernmost point\n",
       "296453     coordinates of easternmost point\n",
       "296454     coordinates of westernmost point\n",
       "296455       coordinate location(logtitude)\n",
       "296456       coordinate location(logtitude)\n",
       "Name: name_a, Length: 296457, dtype: object"
      ]
     },
     "execution_count": 46,
     "metadata": {},
     "output_type": "execute_result"
    }
   ],
   "source": [
    "df48.name_a.str.lower()"
   ]
  },
  {
   "cell_type": "code",
   "execution_count": 31,
   "id": "1340eb5a",
   "metadata": {},
   "outputs": [],
   "source": [
    "df48_p=df48"
   ]
  },
  {
   "cell_type": "code",
   "execution_count": 42,
   "id": "5aeacdd2",
   "metadata": {},
   "outputs": [],
   "source": [
    "row_idx = []\n",
    "def gather_data(name_att,df):\n",
    "    df = df.reset_index(drop=True)\n",
    "    ents = list(df[df['name_a']==name_att].e.unique())\n",
    "    for ent in ents:\n",
    "        list_ent=list(df[df['e']==ent].index)\n",
    "        row_idx.extend(list_ent)\n",
    "    return row_idx"
   ]
  },
  {
   "cell_type": "code",
   "execution_count": 45,
   "id": "57169c38",
   "metadata": {},
   "outputs": [],
   "source": [
    "ent_idx=gather_data('population',df48_p)"
   ]
  },
  {
   "cell_type": "code",
   "execution_count": 52,
   "id": "e4054d9e",
   "metadata": {},
   "outputs": [],
   "source": [
    "people_related_att = df48.iloc[list(set(ent_idx)),:]"
   ]
  },
  {
   "cell_type": "code",
   "execution_count": 54,
   "id": "1df45601",
   "metadata": {},
   "outputs": [],
   "source": [
    "people_related_att.to_csv('files_needed/pop_related.txt',index=False)"
   ]
  },
  {
   "cell_type": "markdown",
   "id": "404226f2",
   "metadata": {},
   "source": [
    "# type specific"
   ]
  },
  {
   "cell_type": "code",
   "execution_count": null,
   "id": "673422f8",
   "metadata": {},
   "outputs": [],
   "source": [
    "row_idx = []\n",
    "def gather_data(name_att,df):\n",
    "    df = df.reset_index(drop=True)\n",
    "    a_type = list(df[df['name_a'].str.contains(name_att)].ent_type.unique())\n",
    "    for type in a_type:\n",
    "        list_type=list(df[df['ent_type']==type].index)\n",
    "        row_idx.extend(list_type)\n",
    "    return row_idx"
   ]
  },
  {
   "cell_type": "code",
   "execution_count": null,
   "id": "41908a88",
   "metadata": {},
   "outputs": [],
   "source": [
    "idx= gather_data(\"population\",df48)\n",
    "pop_related_att = df48.iloc[idx,:]\n",
    "pop_related_att.reset_index(inplace=True)\n",
    "pop_related_att=pop_related_att.drop('index',axis=1)"
   ]
  },
  {
   "cell_type": "code",
   "execution_count": null,
   "id": "ee810987",
   "metadata": {},
   "outputs": [],
   "source": [
    "pop_related_att.to_csv('files_needed/pop_related_att',index=False)"
   ]
  },
  {
   "cell_type": "code",
   "execution_count": null,
   "id": "333ec084",
   "metadata": {},
   "outputs": [],
   "source": [
    "df48[df48.name_a.str.contains(\"work\")]"
   ]
  },
  {
   "cell_type": "code",
   "execution_count": null,
   "id": "f9148226",
   "metadata": {},
   "outputs": [],
   "source": [
    "idx2= gather_data(\"date of birth\",df48)\n",
    "people_related_att = df48.iloc[idx2,:]\n"
   ]
  },
  {
   "cell_type": "code",
   "execution_count": null,
   "id": "76ae0064",
   "metadata": {},
   "outputs": [],
   "source": [
    "var_name = [\"population\",\"GDP (PPP)\",\"PPP GDP per capita\",\n",
    "      \"date of birth\",\"date of death\", \"life expectancy\",\n",
    "      \"total revenue\",\"net profit\",\n",
    "      \"area\",\n",
    "      \"retirement age\",\"age of majority\",\"work period (start)\",\"work period (end)\"]"
   ]
  },
  {
   "cell_type": "code",
   "execution_count": null,
   "id": "afad0fd1",
   "metadata": {},
   "outputs": [],
   "source": [
    "people_related_att.name_a.value_counts()"
   ]
  },
  {
   "cell_type": "code",
   "execution_count": null,
   "id": "b34fa214",
   "metadata": {
    "scrolled": false
   },
   "outputs": [],
   "source": [
    "idx_all = []\n",
    "for var in var_name:\n",
    "    idx_all = gather_data(var,df48)\n"
   ]
  },
  {
   "cell_type": "code",
   "execution_count": null,
   "id": "94d211b9",
   "metadata": {},
   "outputs": [],
   "source": [
    "idx_all"
   ]
  },
  {
   "cell_type": "code",
   "execution_count": null,
   "id": "7d23f4dc",
   "metadata": {},
   "outputs": [],
   "source": [
    "df48.a.value_counts()"
   ]
  },
  {
   "cell_type": "code",
   "execution_count": null,
   "id": "0730e370",
   "metadata": {},
   "outputs": [],
   "source": [
    "list(set(idx_all))"
   ]
  },
  {
   "cell_type": "code",
   "execution_count": null,
   "id": "b243b244",
   "metadata": {},
   "outputs": [],
   "source": [
    "var_extracted = df48.iloc[list(set(idx_all)),:]"
   ]
  },
  {
   "cell_type": "code",
   "execution_count": null,
   "id": "08655983",
   "metadata": {},
   "outputs": [],
   "source": [
    "var_extracted = var_extracted.reset_index(drop=True)"
   ]
  },
  {
   "cell_type": "code",
   "execution_count": null,
   "id": "9ceaa9c9",
   "metadata": {},
   "outputs": [],
   "source": [
    "df48.to_csv('/projekte/tcl/tclext/kgc/LiterallyWikidata/files_needed/nogeo_df48',index=False)\n",
    "#var_extracted.to_csv('/projekte/tcl/tclext/kgc/LiterallyWikidata/files_needed/nogeo_df48_ver02',index=False)\n",
    ".to_csv('/projekte/tcl/tclext/kgc/LiterallyWikidata/files_needed/nogeo_df48_ver02',index=False)"
   ]
  },
  {
   "cell_type": "code",
   "execution_count": null,
   "id": "55f7f29d",
   "metadata": {},
   "outputs": [],
   "source": [
    "var_extracted.info()"
   ]
  },
  {
   "cell_type": "markdown",
   "id": "yFP3JXFl04cV",
   "metadata": {
    "id": "yFP3JXFl04cV"
   },
   "source": [
    "## Rescale decimal values"
   ]
  },
  {
   "cell_type": "code",
   "execution_count": null,
   "id": "ace2c263",
   "metadata": {},
   "outputs": [],
   "source": [
    "#標準常態係數\n",
    "from sklearn.preprocessing import StandardScaler\n",
    "def attvalue2scale(df):\n",
    "    scaler = StandardScaler()\n",
    "    alist=list(df['a'].unique())\n",
    "    for a_name in alist:\n",
    "        attdf = df[df[\"a\"]==a_name]\n",
    "        scaler.fit(attdf.v.to_numpy().reshape(-1,1))\n",
    "        result = scaler.transform(df.v.to_numpy().reshape(-1,1))\n",
    "        return result\n"
   ]
  },
  {
   "cell_type": "code",
   "execution_count": null,
   "id": "69e7535e",
   "metadata": {},
   "outputs": [],
   "source": [
    "x = attvalue2scale(df48)"
   ]
  },
  {
   "cell_type": "code",
   "execution_count": null,
   "id": "63f48f24",
   "metadata": {},
   "outputs": [],
   "source": [
    "x"
   ]
  },
  {
   "cell_type": "code",
   "execution_count": null,
   "id": "a9a5496d",
   "metadata": {},
   "outputs": [],
   "source": [
    "df48['std_v']=x"
   ]
  },
  {
   "cell_type": "code",
   "execution_count": null,
   "id": "79a4a757",
   "metadata": {},
   "outputs": [],
   "source": [
    "df48.a.value_counts()[:10]"
   ]
  },
  {
   "cell_type": "code",
   "execution_count": null,
   "id": "d6756c96",
   "metadata": {},
   "outputs": [],
   "source": [
    "df48[df48.std_v==6.287763e+22]"
   ]
  },
  {
   "cell_type": "code",
   "execution_count": null,
   "id": "84aa1a53",
   "metadata": {},
   "outputs": [],
   "source": [
    "maxoutlier= df48[df48['a']=='P2046'].v > df48[df48['a']=='P2046'].v.mean() + 2 * df48[df48['a']=='P2046'].v.std()                          "
   ]
  },
  {
   "cell_type": "code",
   "execution_count": null,
   "id": "50fdd213",
   "metadata": {
    "scrolled": false
   },
   "outputs": [],
   "source": [
    "df48.iloc[maxoutlier.index,:]"
   ]
  },
  {
   "cell_type": "code",
   "execution_count": null,
   "id": "50b78e1b",
   "metadata": {},
   "outputs": [],
   "source": [
    "df48.loc[125347,'v']=4.239700e+8"
   ]
  },
  {
   "cell_type": "code",
   "execution_count": null,
   "id": "X7IKKlvgD1Fq",
   "metadata": {
    "id": "X7IKKlvgD1Fq"
   },
   "outputs": [],
   "source": [
    "#minmax method\n",
    "def attvalue2scale(df):\n",
    "  alist=list(df['a'].unique())\n",
    "  for a_name in alist:\n",
    "    attdf = df[df[\"a\"]==a_name]\n",
    "    for i in range(len(attdf)):\n",
    "      result = (df.v - attdf.v.min())/ (attdf.v.max()- attdf.v.min())\n",
    "      return result\n"
   ]
  },
  {
   "cell_type": "code",
   "execution_count": null,
   "id": "3f4ffe7b",
   "metadata": {},
   "outputs": [],
   "source": [
    "df48"
   ]
  },
  {
   "cell_type": "markdown",
   "id": "ZGAAATT_C0tJ",
   "metadata": {
    "id": "ZGAAATT_C0tJ"
   },
   "source": [
    "## Save the cleaning data 存檔"
   ]
  },
  {
   "cell_type": "code",
   "execution_count": null,
   "id": "zeHVUcys2ado",
   "metadata": {
    "id": "zeHVUcys2ado"
   },
   "outputs": [],
   "source": [
    "df48 = df48.loc[:,['e','a','v','name_e','name_a','ent_type','std_v']]\n",
    "df48.to_csv('/projekte/tcl/tclext/kgc/LiterallyWikidata/files_needed/nogeo_a89',index=False)\n"
   ]
  },
  {
   "cell_type": "code",
   "execution_count": null,
   "id": "13fe83ef",
   "metadata": {},
   "outputs": [],
   "source": [
    "#outlier not finish"
   ]
  },
  {
   "cell_type": "markdown",
   "id": "9EQLskGcy9Wl",
   "metadata": {
    "id": "9EQLskGcy9Wl"
   },
   "source": [
    "## Split into train, valid and test sets\n"
   ]
  },
  {
   "cell_type": "code",
   "execution_count": null,
   "id": "HCxfynspwpa5",
   "metadata": {
    "id": "HCxfynspwpa5"
   },
   "outputs": [],
   "source": [
    "from sklearn.model_selection import train_test_split\n",
    "train_attri_data, valid_attri_data = train_test_split(df48, test_size=0.2,stratify=df48['a'])\n",
    "#train_attri_data, valid_attri_data = train_test_split(df, test_size=0.2)\n",
    "valid_attri_data, test_attri_data = train_test_split(valid_attri_data, test_size=0.5,stratify=valid_attri_data['a'])\n",
    "#valid_attri_data, test_attri_data = train_test_split(valid_attri_data, test_size=0.5)"
   ]
  },
  {
   "cell_type": "code",
   "execution_count": null,
   "id": "IJRSYIiy7jxs",
   "metadata": {
    "colab": {
     "base_uri": "https://localhost:8080/"
    },
    "id": "IJRSYIiy7jxs",
    "outputId": "aafb43d8-b9e5-42e1-ebba-64140c0acb67"
   },
   "outputs": [],
   "source": [
    "print(f'training triples of df48: {len(train_attri_data)}, valid triples of df48: {len(valid_attri_data)}, test triples of df48: {len(test_attri_data)}')"
   ]
  },
  {
   "cell_type": "code",
   "execution_count": null,
   "id": "mlmTgGTL87WO",
   "metadata": {
    "colab": {
     "base_uri": "https://localhost:8080/"
    },
    "id": "mlmTgGTL87WO",
    "outputId": "92ebb8fd-02b7-4f69-863d-fed4d77e1504"
   },
   "outputs": [],
   "source": [
    "len(df48)"
   ]
  },
  {
   "cell_type": "code",
   "execution_count": null,
   "id": "aBfRtF718WvR",
   "metadata": {
    "colab": {
     "base_uri": "https://localhost:8080/",
     "height": 424
    },
    "id": "aBfRtF718WvR",
    "outputId": "8eca072e-7993-4125-f2da-8bab1e5778ec"
   },
   "outputs": [],
   "source": [
    "valid_attri_data"
   ]
  },
  {
   "cell_type": "code",
   "execution_count": null,
   "id": "YumAc_9h9HfK",
   "metadata": {
    "colab": {
     "base_uri": "https://localhost:8080/"
    },
    "id": "YumAc_9h9HfK",
    "outputId": "88122698-b3c6-4ce7-f8da-8baf2abca31e"
   },
   "outputs": [],
   "source": [
    "test_attri_data.a.value_counts()"
   ]
  },
  {
   "cell_type": "code",
   "execution_count": null,
   "id": "vayP_4Ct9Kgo",
   "metadata": {
    "colab": {
     "base_uri": "https://localhost:8080/"
    },
    "id": "vayP_4Ct9Kgo",
    "outputId": "3562c60f-4dbd-48e8-91b4-ed0e9af67b32",
    "scrolled": true
   },
   "outputs": [],
   "source": [
    "train_attri_data.a.value_counts()"
   ]
  },
  {
   "cell_type": "code",
   "execution_count": null,
   "id": "1a990714",
   "metadata": {},
   "outputs": [],
   "source": [
    "train_attri_data.to_csv(f'train_attri_data.csv',index=False)\n",
    "valid_attri_data.to_csv(f'valid_attri_data.csv',index=False)\n",
    "test_attri_data.to_csv(f'test_attri_data.csv',index=False)"
   ]
  },
  {
   "cell_type": "code",
   "execution_count": null,
   "id": "91fb75ed",
   "metadata": {},
   "outputs": [],
   "source": [
    "df_train_att= pd.read_csv(f'train_attri_data.csv')"
   ]
  },
  {
   "cell_type": "code",
   "execution_count": null,
   "id": "53e1859b",
   "metadata": {
    "scrolled": true
   },
   "outputs": [],
   "source": [
    "df_train_att['e'].unique()"
   ]
  },
  {
   "cell_type": "code",
   "execution_count": null,
   "id": "23997f16",
   "metadata": {},
   "outputs": [],
   "source": [
    "df_train_rel= pd.read_csv(f'train.txt',sep='\\t',names=['s','p','o'])\n",
    "df_test_rel= pd.read_csv(f'test.txt',sep='\\t',names=['s','p','o'])\n",
    "df_valid_rel= pd.read_csv(f'valid.txt',sep='\\t',names=['s','p','o'])"
   ]
  },
  {
   "cell_type": "code",
   "execution_count": null,
   "id": "5073c8ea",
   "metadata": {
    "scrolled": true
   },
   "outputs": [],
   "source": [
    "df_rel_all = pd.concat([df_train_rel,df_valid_rel,df_test_rel],axis=0)"
   ]
  },
  {
   "cell_type": "code",
   "execution_count": null,
   "id": "7cbfed1a",
   "metadata": {},
   "outputs": [],
   "source": [
    "#e_train_list = list(df_train_rel.s.unique())\n",
    "e_valid_list = list(df_valid_rel.s.unique())\n",
    "e_test_list = list(df_test_rel.s.unique())"
   ]
  },
  {
   "cell_type": "code",
   "execution_count": null,
   "id": "7487030a",
   "metadata": {
    "scrolled": true
   },
   "outputs": [],
   "source": [
    "valid_attri_data[valid_attri_data.e.isin(e_valid_list)==True]"
   ]
  },
  {
   "cell_type": "code",
   "execution_count": null,
   "id": "ebe82902",
   "metadata": {},
   "outputs": [],
   "source": [
    "## all data index {ent:idx,rel:idx,att:idx}\n",
    "entities = pd.read_csv('', sep='\\t', names=['label', 'name'])\n",
    "relations = pd.read_csv( 'Relations/relation_labels_en.txt', sep='\\t', names=['label', 'name'])\n",
    "attributes = attri_data.a.value_counts().index\n",
    "dict_ent_2_idx = dict(zip(entities['label'], np.arange(0, len(entities), 1)))\n",
    "dict_rel_2_idx = dict(zip(relations['label'], np.arange(0, len(relations), 1)))\n",
    "dict_att_2_idx = dict(zip(attributes, np.arange(0, len(attributes), 1)))\n",
    "\n",
    "## Dict contains all Graph objects\n",
    "dict_all_2_idx = {}\n",
    "dict_all_2_idx.update(self.dict_ent_2_idx)\n",
    "dict_all_2_idx.update(self.dict_rel_2_idx)\n",
    "dict_all_2_idx.update(self.dict_att_2_idx)\n",
    "\n"
   ]
  },
  {
   "cell_type": "code",
   "execution_count": null,
   "id": "d85c2261",
   "metadata": {},
   "outputs": [],
   "source": [
    "dict_e2rv = dict()\n",
    "for el in attri_data.values:\n",
    "    #r = self.dict_att_2_idx[el[1]]\n",
    "    attri = dict_att_2_idx[el[1]]\n",
    "    v = round(el[2],5)\n",
    "    e = dict_ent_2_idx[el[0]]\n",
    "    if e in dict_e2rv:\n",
    "        l = dict_e2rv[e]\n",
    "        l.append([attri,v])\n",
    "        dict_e2rv[e] = l\n",
    "    else:\n",
    "        dict_e2rv[e] = [[attri,v]]"
   ]
  },
  {
   "cell_type": "code",
   "execution_count": null,
   "id": "f5840a07",
   "metadata": {},
   "outputs": [],
   "source": [
    "df = pd.read_csv('files_needed/nogeo_df48_var')"
   ]
  },
  {
   "cell_type": "code",
   "execution_count": null,
   "id": "2858e331",
   "metadata": {},
   "outputs": [],
   "source": [
    "filter\n",
    "df.name_a.value_counts()"
   ]
  }
 ],
 "metadata": {
  "colab": {
   "collapsed_sections": [
    "LIZqsqEgqJFg",
    "j0O-vXz_St_x",
    "2Act5ZLCQOY1",
    "UBk7Q2hNmpnU",
    "lTSaq8twla0D"
   ],
   "name": "Lit48_Numericaltriples_Preprocessing_ver02.ipynb",
   "provenance": [],
   "toc_visible": true
  },
  "kernelspec": {
   "display_name": "Python 3 (ipykernel)",
   "language": "python",
   "name": "python3"
  },
  "language_info": {
   "codemirror_mode": {
    "name": "ipython",
    "version": 3
   },
   "file_extension": ".py",
   "mimetype": "text/x-python",
   "name": "python",
   "nbconvert_exporter": "python",
   "pygments_lexer": "ipython3",
   "version": "3.7.9"
  }
 },
 "nbformat": 4,
 "nbformat_minor": 5
}
